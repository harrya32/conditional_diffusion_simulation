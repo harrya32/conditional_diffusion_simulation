{
 "cells": [
  {
   "cell_type": "code",
   "execution_count": 1,
   "id": "molecular-approach",
   "metadata": {},
   "outputs": [],
   "source": [
    "import torch\n",
    "import torch.nn as nn\n",
    "import torch.nn.functional as F\n",
    "import numpy as np\n",
    "import functools\n",
    "from sklearn import datasets\n",
    "import matplotlib.pyplot as plt\n",
    "from torch.optim import Adam\n",
    "from torch.optim import SGD\n",
    "from torch.utils.data import DataLoader\n",
    "from tqdm import notebook\n",
    "import seaborn as sns\n",
    "import math\n",
    "import scipy\n",
    "import pandas as pd\n",
    "from IPython.display import Image\n",
    "from torch.distributions import MultivariateNormal\n",
    "from sklearn.preprocessing import normalize, scale\n",
    "\n",
    "#import models\n",
    "from models import ScoreNet_BOD, cde_ScoreNet_BOD\n",
    "\n",
    "#import training fns\n",
    "from training import loss_fn, train_model, CDE_loss_fn_BOD\n",
    "\n",
    "#import SDE functions\n",
    "from SDE import marginal_prob_std_fn_BOD as marginal_prob_std_fn\n",
    "from SDE import diffusion_coeff_fn_BOD as diffusion_coeff_fn\n",
    "\n",
    "#import sampling fns\n",
    "from sampling import pc_sampler_BOD as pc_sampler\n",
    "from sampling import Euler_Maruyama_sampler_BOD as Euler_Maruyama_sampler\n",
    "from sampling import CDiffE_Euler_Maruyama_sampler_BOD as CDiffE_Euler_Maruyama_sampler\n",
    "from sampling import CDiffE_pc_sampler_BOD as CDiffE_pc_sampler\n",
    "from sampling import CDE_pc_sampler_BOD as CDE_pc_sampler\n",
    "from sampling import CDE_Euler_Maruyama_sampler_BOD as CDE_Euler_Maruyama_sampler\n",
    "from sampling import SMCDiff_pc_sampler_BOD as SMCDiff_pc_sampler\n",
    "from sampling import SMCDiff_Euler_Maruyama_sampler_BOD as SMCDiff_Euler_Maruyama_sampler\n",
    "from sampling import get_diffused_BOD, sde_VE"
   ]
  },
  {
   "cell_type": "markdown",
   "id": "accessible-favor",
   "metadata": {},
   "source": [
    "# Generate training dataset"
   ]
  },
  {
   "cell_type": "code",
   "execution_count": 331,
   "id": "floppy-doctor",
   "metadata": {},
   "outputs": [],
   "source": [
    "data = torch.load('data/BOD.pt')"
   ]
  },
  {
   "cell_type": "code",
   "execution_count": 332,
   "id": "express-spouse",
   "metadata": {},
   "outputs": [],
   "source": [
    "means = torch.mean(data, axis=0)\n",
    "sds = torch.sqrt(torch.var(data, axis=0))"
   ]
  },
  {
   "cell_type": "code",
   "execution_count": 333,
   "id": "traditional-strategy",
   "metadata": {},
   "outputs": [],
   "source": [
    "x = torch.tensor(scale(data))"
   ]
  },
  {
   "cell_type": "code",
   "execution_count": 5,
   "id": "transsexual-breathing",
   "metadata": {},
   "outputs": [],
   "source": [
    "from data import find_max_dist"
   ]
  },
  {
   "cell_type": "code",
   "execution_count": 6,
   "id": "comfortable-dallas",
   "metadata": {},
   "outputs": [
    {
     "data": {
      "text/plain": [
       "12.692815907935616"
      ]
     },
     "execution_count": 6,
     "metadata": {},
     "output_type": "execute_result"
    }
   ],
   "source": [
    "find_max_dist(x)"
   ]
  },
  {
   "cell_type": "code",
   "execution_count": 23,
   "id": "generic-breakfast",
   "metadata": {},
   "outputs": [
    {
     "data": {
      "text/plain": [
       "8.80109"
      ]
     },
     "execution_count": 23,
     "metadata": {},
     "output_type": "execute_result"
    }
   ],
   "source": [
    "find_max_dist(data)"
   ]
  },
  {
   "cell_type": "code",
   "execution_count": 5,
   "id": "naughty-constant",
   "metadata": {},
   "outputs": [
    {
     "data": {
      "text/plain": [
       "tensor([[-0.1116, -1.0656,  0.0262,  ...,  0.0787,  0.1151,  0.1930],\n",
       "        [-0.7194,  0.5121,  0.0568,  ...,  0.3392,  0.3513,  0.4018],\n",
       "        [-1.0135, -0.5175,  0.0468,  ...,  0.1890,  0.1575,  0.1812],\n",
       "        ...,\n",
       "        [-0.1257,  0.7160,  0.1857,  ...,  0.3575,  0.4924,  0.4890],\n",
       "        [ 0.4230,  0.2200,  0.1414,  ...,  0.3968,  0.4806,  0.5404],\n",
       "        [ 2.6459,  0.0237,  0.1933,  ...,  0.5173,  0.5247,  0.6312]],\n",
       "       dtype=torch.float64)"
      ]
     },
     "execution_count": 5,
     "metadata": {},
     "output_type": "execute_result"
    }
   ],
   "source": [
    "x*sds + means"
   ]
  },
  {
   "cell_type": "code",
   "execution_count": 6,
   "id": "impressed-comparative",
   "metadata": {},
   "outputs": [
    {
     "data": {
      "text/plain": [
       "tensor([[-0.1116, -1.0655,  0.0262,  ...,  0.0787,  0.1151,  0.1930],\n",
       "        [-0.7194,  0.5121,  0.0568,  ...,  0.3392,  0.3513,  0.4018],\n",
       "        [-1.0135, -0.5175,  0.0468,  ...,  0.1890,  0.1575,  0.1812],\n",
       "        ...,\n",
       "        [-0.1257,  0.7160,  0.1857,  ...,  0.3575,  0.4924,  0.4890],\n",
       "        [ 0.4230,  0.2200,  0.1414,  ...,  0.3968,  0.4806,  0.5404],\n",
       "        [ 2.6459,  0.0237,  0.1933,  ...,  0.5173,  0.5247,  0.6312]])"
      ]
     },
     "execution_count": 6,
     "metadata": {},
     "output_type": "execute_result"
    }
   ],
   "source": [
    "data"
   ]
  },
  {
   "cell_type": "code",
   "execution_count": 7,
   "id": "hazardous-dylan",
   "metadata": {},
   "outputs": [
    {
     "data": {
      "text/plain": [
       "tensor([[-0.1178, -1.0689, -1.1717,  ..., -1.2835, -1.2411, -1.0056],\n",
       "        [-0.7252,  0.5083, -0.7742,  ...,  0.3032, -0.0141, -0.0270],\n",
       "        [-1.0191, -0.5210, -0.9047,  ..., -0.6115, -1.0211, -1.0611],\n",
       "        ...,\n",
       "        [-0.1319,  0.7121,  0.9008,  ...,  0.4146,  0.7186,  0.3819],\n",
       "        [ 0.4164,  0.2162,  0.3245,  ...,  0.6540,  0.6571,  0.6227],\n",
       "        [ 2.6376,  0.0200,  0.9992,  ...,  1.3880,  0.8866,  1.0483]],\n",
       "       dtype=torch.float64)"
      ]
     },
     "execution_count": 7,
     "metadata": {},
     "output_type": "execute_result"
    }
   ],
   "source": [
    "x"
   ]
  },
  {
   "cell_type": "code",
   "execution_count": null,
   "id": "imposed-samoa",
   "metadata": {},
   "outputs": [],
   "source": []
  },
  {
   "cell_type": "markdown",
   "id": "continental-diary",
   "metadata": {},
   "source": [
    "# Train unconditional model"
   ]
  },
  {
   "cell_type": "code",
   "execution_count": 8,
   "id": "italian-supplier",
   "metadata": {},
   "outputs": [],
   "source": [
    "score_model = ScoreNet_BOD(marginal_prob_std=marginal_prob_std_fn)"
   ]
  },
  {
   "cell_type": "code",
   "execution_count": 10,
   "id": "italic-insertion",
   "metadata": {},
   "outputs": [
    {
     "data": {
      "application/json": {
       "ascii": false,
       "bar_format": null,
       "colour": null,
       "elapsed": 0.04054880142211914,
       "initial": 0,
       "n": 0,
       "ncols": null,
       "nrows": null,
       "postfix": null,
       "prefix": "",
       "rate": null,
       "total": 200,
       "unit": "it",
       "unit_divisor": 1000,
       "unit_scale": false
      },
      "application/vnd.jupyter.widget-view+json": {
       "model_id": "5b2fddb7517b4a34a82a04111c7721f7",
       "version_major": 2,
       "version_minor": 0
      },
      "text/plain": [
       "  0%|          | 0/200 [00:00<?, ?it/s]"
      ]
     },
     "metadata": {},
     "output_type": "display_data"
    },
    {
     "name": "stderr",
     "output_type": "stream",
     "text": [
      "/Users/harryamad/Google Drive/2022/Dissertation/conditional_diffusion_simulation/SDE.py:16: UserWarning: To copy construct from a tensor, it is recommended to use sourceTensor.clone().detach() or sourceTensor.clone().detach().requires_grad_(True), rather than torch.tensor(sourceTensor).\n",
      "  t = torch.tensor(t)\n"
     ]
    }
   ],
   "source": [
    "losses = train_model(score_model, x, loss_fn, marginal_prob_std_fn, 'BOD_rescaled.pth', epochs = 200, batch_size = 64)"
   ]
  },
  {
   "cell_type": "code",
   "execution_count": 11,
   "id": "durable-organ",
   "metadata": {},
   "outputs": [
    {
     "data": {
      "text/plain": [
       "[<matplotlib.lines.Line2D at 0x7fe4e3398460>]"
      ]
     },
     "execution_count": 11,
     "metadata": {},
     "output_type": "execute_result"
    },
    {
     "data": {
      "image/png": "[encoded data removed]",
      "text/plain": [
       "<Figure size 432x288 with 1 Axes>"
      ]
     },
     "metadata": {
      "needs_background": "light"
     },
     "output_type": "display_data"
    }
   ],
   "source": [
    "plt.plot(losses)"
   ]
  },
  {
   "cell_type": "markdown",
   "id": "enclosed-ordinance",
   "metadata": {},
   "source": [
    "# Draw unconditional samples"
   ]
  },
  {
   "cell_type": "code",
   "execution_count": 327,
   "id": "dynamic-simon",
   "metadata": {},
   "outputs": [],
   "source": [
    "def density_plot(sample):\n",
    "    df = pd.DataFrame(sample.numpy())\n",
    "    df.columns =['x1', 'x2', 'y1', 'y2', 'y3', 'y4', 'y5']\n",
    "    sns.displot(df, x ='x1', y='x2', kind=\"kde\")"
   ]
  },
  {
   "cell_type": "code",
   "execution_count": 335,
   "id": "public-residence",
   "metadata": {},
   "outputs": [
    {
     "data": {
      "text/plain": [
       "<All keys matched successfully>"
      ]
     },
     "execution_count": 335,
     "metadata": {},
     "output_type": "execute_result"
    }
   ],
   "source": [
    "score_model = ScoreNet_BOD(marginal_prob_std=marginal_prob_std_fn)\n",
    "ckpt = torch.load('models/BOD.pth')\n",
    "score_model.load_state_dict(ckpt)"
   ]
  },
  {
   "cell_type": "code",
   "execution_count": 14,
   "id": "second-magazine",
   "metadata": {},
   "outputs": [
    {
     "data": {
      "application/json": {
       "ascii": false,
       "bar_format": null,
       "colour": null,
       "elapsed": 0.02549004554748535,
       "initial": 0,
       "n": 0,
       "ncols": null,
       "nrows": null,
       "postfix": null,
       "prefix": "",
       "rate": null,
       "total": 1000,
       "unit": "it",
       "unit_divisor": 1000,
       "unit_scale": false
      },
      "application/vnd.jupyter.widget-view+json": {
       "model_id": "579e09ffe9bf43aa9ce1d434e1582d35",
       "version_major": 2,
       "version_minor": 0
      },
      "text/plain": [
       "  0%|          | 0/1000 [00:00<?, ?it/s]"
      ]
     },
     "metadata": {},
     "output_type": "display_data"
    }
   ],
   "source": [
    "pc_samples = pc_sampler(score_model, marginal_prob_std_fn, diffusion_coeff_fn, batch_size = 1000, eps=1e-5)\n",
    "pc_samples = pc_samples*sds + means"
   ]
  },
  {
   "cell_type": "code",
   "execution_count": 336,
   "id": "exceptional-block",
   "metadata": {},
   "outputs": [
    {
     "name": "stderr",
     "output_type": "stream",
     "text": [
      "/Users/harryamad/Google Drive/2022/Dissertation/conditional_diffusion_simulation/SDE.py:16: UserWarning: To copy construct from a tensor, it is recommended to use sourceTensor.clone().detach() or sourceTensor.clone().detach().requires_grad_(True), rather than torch.tensor(sourceTensor).\n",
      "  t = torch.tensor(t)\n"
     ]
    },
    {
     "data": {
      "application/json": {
       "ascii": false,
       "bar_format": null,
       "colour": null,
       "elapsed": 0.038110971450805664,
       "initial": 0,
       "n": 0,
       "ncols": null,
       "nrows": null,
       "postfix": null,
       "prefix": "",
       "rate": null,
       "total": 1000,
       "unit": "it",
       "unit_divisor": 1000,
       "unit_scale": false
      },
      "application/vnd.jupyter.widget-view+json": {
       "model_id": "b87f614b9a98419081f4208c37253eac",
       "version_major": 2,
       "version_minor": 0
      },
      "text/plain": [
       "  0%|          | 0/1000 [00:00<?, ?it/s]"
      ]
     },
     "metadata": {},
     "output_type": "display_data"
    }
   ],
   "source": [
    "e_m_samples = Euler_Maruyama_sampler(score_model, marginal_prob_std_fn, diffusion_coeff_fn, batch_size=1000, eps=1e-5)\n",
    "e_m_samples = e_m_samples*sds + means"
   ]
  },
  {
   "cell_type": "code",
   "execution_count": 16,
   "id": "personalized-recruitment",
   "metadata": {},
   "outputs": [
    {
     "data": {
      "text/plain": [
       "tensor([-0.3876,  0.0274,  0.1455,  0.2003,  0.2491,  0.3108,  0.3613])"
      ]
     },
     "execution_count": 16,
     "metadata": {},
     "output_type": "execute_result"
    }
   ],
   "source": [
    "torch.mean(pc_samples, axis=0)"
   ]
  },
  {
   "cell_type": "code",
   "execution_count": 17,
   "id": "computational-priest",
   "metadata": {},
   "outputs": [
    {
     "data": {
      "text/plain": [
       "tensor([0.0063, 0.0037, 0.1164, 0.2113, 0.2894, 0.3541, 0.4075])"
      ]
     },
     "execution_count": 17,
     "metadata": {},
     "output_type": "execute_result"
    }
   ],
   "source": [
    "torch.mean(data, axis=0)"
   ]
  },
  {
   "cell_type": "code",
   "execution_count": 18,
   "id": "distinguished-precipitation",
   "metadata": {},
   "outputs": [
    {
     "data": {
      "text/plain": [
       "tensor([0.9895, 1.6931, 0.0044, 0.0165, 0.0280, 0.0382, 0.0432])"
      ]
     },
     "execution_count": 18,
     "metadata": {},
     "output_type": "execute_result"
    }
   ],
   "source": [
    "torch.var(pc_samples, axis=0)"
   ]
  },
  {
   "cell_type": "code",
   "execution_count": 19,
   "id": "inner-trace",
   "metadata": {},
   "outputs": [
    {
     "data": {
      "text/plain": [
       "tensor([1.0015, 1.0007, 0.0059, 0.0160, 0.0270, 0.0371, 0.0455])"
      ]
     },
     "execution_count": 19,
     "metadata": {},
     "output_type": "execute_result"
    }
   ],
   "source": [
    "torch.var(data, axis=0)"
   ]
  },
  {
   "cell_type": "code",
   "execution_count": 20,
   "id": "familiar-needle",
   "metadata": {},
   "outputs": [
    {
     "data": {
      "image/png": "[encoded data removed]",
      "text/plain": [
       "<Figure size 360x360 with 1 Axes>"
      ]
     },
     "metadata": {
      "needs_background": "light"
     },
     "output_type": "display_data"
    }
   ],
   "source": [
    "density_plot(pc_samples)"
   ]
  },
  {
   "cell_type": "code",
   "execution_count": 21,
   "id": "honey-meaning",
   "metadata": {},
   "outputs": [
    {
     "data": {
      "text/plain": [
       "tensor([-0.0561,  0.0099,  0.1147,  0.2109,  0.2855,  0.3538,  0.4041])"
      ]
     },
     "execution_count": 21,
     "metadata": {},
     "output_type": "execute_result"
    }
   ],
   "source": [
    "torch.mean(e_m_samples, axis=0)"
   ]
  },
  {
   "cell_type": "code",
   "execution_count": 22,
   "id": "thorough-designation",
   "metadata": {},
   "outputs": [
    {
     "data": {
      "text/plain": [
       "tensor([0.0063, 0.0037, 0.1164, 0.2113, 0.2894, 0.3541, 0.4075])"
      ]
     },
     "execution_count": 22,
     "metadata": {},
     "output_type": "execute_result"
    }
   ],
   "source": [
    "torch.mean(data, axis=0)"
   ]
  },
  {
   "cell_type": "code",
   "execution_count": 23,
   "id": "entire-plumbing",
   "metadata": {},
   "outputs": [
    {
     "data": {
      "text/plain": [
       "tensor([1.0149, 1.1474, 0.0062, 0.0172, 0.0289, 0.0389, 0.0467])"
      ]
     },
     "execution_count": 23,
     "metadata": {},
     "output_type": "execute_result"
    }
   ],
   "source": [
    "torch.var(e_m_samples, axis=0)"
   ]
  },
  {
   "cell_type": "code",
   "execution_count": 337,
   "id": "regional-wayne",
   "metadata": {},
   "outputs": [
    {
     "data": {
      "image/png": "[encoded data removed]",
      "text/plain": [
       "<Figure size 360x360 with 1 Axes>"
      ]
     },
     "metadata": {
      "needs_background": "light"
     },
     "output_type": "display_data"
    }
   ],
   "source": [
    "density_plot(e_m_samples)"
   ]
  },
  {
   "cell_type": "code",
   "execution_count": null,
   "id": "blond-indian",
   "metadata": {},
   "outputs": [],
   "source": []
  },
  {
   "cell_type": "markdown",
   "id": "demographic-mortality",
   "metadata": {},
   "source": [
    "<hr style=\"border:2px solid black\">"
   ]
  },
  {
   "cell_type": "markdown",
   "id": "played-jacksonville",
   "metadata": {},
   "source": [
    "# CDiffE replacement method"
   ]
  },
  {
   "cell_type": "markdown",
   "id": "bigger-subscriber",
   "metadata": {},
   "source": [
    "## Draw CDiffE samples"
   ]
  },
  {
   "cell_type": "code",
   "execution_count": 5,
   "id": "imported-niagara",
   "metadata": {},
   "outputs": [],
   "source": [
    "y_obs = torch.tensor([0.18, 0.32, 0.42, 0.49, 0.54])\n",
    "y_obs = (y_obs - means[[2,3,4,5,6]])/sds[[2,3,4,5,6]]"
   ]
  },
  {
   "cell_type": "code",
   "execution_count": 7,
   "id": "systematic-gnome",
   "metadata": {},
   "outputs": [],
   "source": [
    "diffused_y = [get_diffused_BOD(y_obs, 1000, sde_VE, 0.01, 13) for i in range(10)]"
   ]
  },
  {
   "cell_type": "code",
   "execution_count": null,
   "id": "committed-title",
   "metadata": {},
   "outputs": [],
   "source": []
  },
  {
   "cell_type": "code",
   "execution_count": 8,
   "id": "secondary-satellite",
   "metadata": {},
   "outputs": [
    {
     "name": "stderr",
     "output_type": "stream",
     "text": [
      "/Users/harryamad/Google Drive/2022/Dissertation/conditional_diffusion_simulation/SDE.py:16: UserWarning: To copy construct from a tensor, it is recommended to use sourceTensor.clone().detach() or sourceTensor.clone().detach().requires_grad_(True), rather than torch.tensor(sourceTensor).\n",
      "  t = torch.tensor(t)\n"
     ]
    },
    {
     "data": {
      "application/json": {
       "ascii": false,
       "bar_format": null,
       "colour": null,
       "elapsed": 0.035913944244384766,
       "initial": 0,
       "n": 0,
       "ncols": null,
       "nrows": null,
       "postfix": null,
       "prefix": "",
       "rate": null,
       "total": 1000,
       "unit": "it",
       "unit_divisor": 1000,
       "unit_scale": false
      },
      "application/vnd.jupyter.widget-view+json": {
       "model_id": "bcaa5d24febb4f7c8d635ecccd5931eb",
       "version_major": 2,
       "version_minor": 0
      },
      "text/plain": [
       "  0%|          | 0/1000 [00:00<?, ?it/s]"
      ]
     },
     "metadata": {},
     "output_type": "display_data"
    }
   ],
   "source": [
    "score_model = ScoreNet_BOD(marginal_prob_std=marginal_prob_std_fn)\n",
    "ckpt = torch.load('models/BOD.pth')\n",
    "score_model.load_state_dict(ckpt)\n",
    "cdiffe_samples = CDiffE_Euler_Maruyama_sampler(score_model, \n",
    "                           marginal_prob_std_fn,\n",
    "                           diffusion_coeff_fn, \n",
    "                           y_obs = y_obs, batch_size = 1000, diffused_y = diffused_y[0])\n",
    "cdiffe_samples = cdiffe_samples * sds + means\n",
    "cdiffe = [cdiffe_samples]"
   ]
  },
  {
   "cell_type": "code",
   "execution_count": 9,
   "id": "grave-apparel",
   "metadata": {},
   "outputs": [
    {
     "data": {
      "application/json": {
       "ascii": false,
       "bar_format": null,
       "colour": null,
       "elapsed": 0.02687525749206543,
       "initial": 0,
       "n": 0,
       "ncols": null,
       "nrows": null,
       "postfix": null,
       "prefix": "",
       "rate": null,
       "total": 1000,
       "unit": "it",
       "unit_divisor": 1000,
       "unit_scale": false
      },
      "application/vnd.jupyter.widget-view+json": {
       "model_id": "762d62c51f58443395e86eaa4c12a904",
       "version_major": 2,
       "version_minor": 0
      },
      "text/plain": [
       "  0%|          | 0/1000 [00:00<?, ?it/s]"
      ]
     },
     "metadata": {},
     "output_type": "display_data"
    },
    {
     "data": {
      "application/json": {
       "ascii": false,
       "bar_format": null,
       "colour": null,
       "elapsed": 0.025397062301635742,
       "initial": 0,
       "n": 0,
       "ncols": null,
       "nrows": null,
       "postfix": null,
       "prefix": "",
       "rate": null,
       "total": 1000,
       "unit": "it",
       "unit_divisor": 1000,
       "unit_scale": false
      },
      "application/vnd.jupyter.widget-view+json": {
       "model_id": "37428ac3051945c7bee98ce1509e1418",
       "version_major": 2,
       "version_minor": 0
      },
      "text/plain": [
       "  0%|          | 0/1000 [00:00<?, ?it/s]"
      ]
     },
     "metadata": {},
     "output_type": "display_data"
    },
    {
     "data": {
      "application/json": {
       "ascii": false,
       "bar_format": null,
       "colour": null,
       "elapsed": 0.024946212768554688,
       "initial": 0,
       "n": 0,
       "ncols": null,
       "nrows": null,
       "postfix": null,
       "prefix": "",
       "rate": null,
       "total": 1000,
       "unit": "it",
       "unit_divisor": 1000,
       "unit_scale": false
      },
      "application/vnd.jupyter.widget-view+json": {
       "model_id": "98af8ad964444fcd84b1e777cd4b7b01",
       "version_major": 2,
       "version_minor": 0
      },
      "text/plain": [
       "  0%|          | 0/1000 [00:00<?, ?it/s]"
      ]
     },
     "metadata": {},
     "output_type": "display_data"
    },
    {
     "data": {
      "application/json": {
       "ascii": false,
       "bar_format": null,
       "colour": null,
       "elapsed": 0.024836063385009766,
       "initial": 0,
       "n": 0,
       "ncols": null,
       "nrows": null,
       "postfix": null,
       "prefix": "",
       "rate": null,
       "total": 1000,
       "unit": "it",
       "unit_divisor": 1000,
       "unit_scale": false
      },
      "application/vnd.jupyter.widget-view+json": {
       "model_id": "024a4560ad2543719be0e10fabf3e5c0",
       "version_major": 2,
       "version_minor": 0
      },
      "text/plain": [
       "  0%|          | 0/1000 [00:00<?, ?it/s]"
      ]
     },
     "metadata": {},
     "output_type": "display_data"
    },
    {
     "data": {
      "application/json": {
       "ascii": false,
       "bar_format": null,
       "colour": null,
       "elapsed": 0.025362253189086914,
       "initial": 0,
       "n": 0,
       "ncols": null,
       "nrows": null,
       "postfix": null,
       "prefix": "",
       "rate": null,
       "total": 1000,
       "unit": "it",
       "unit_divisor": 1000,
       "unit_scale": false
      },
      "application/vnd.jupyter.widget-view+json": {
       "model_id": "851dba3774ba466597106cdd1e61ed61",
       "version_major": 2,
       "version_minor": 0
      },
      "text/plain": [
       "  0%|          | 0/1000 [00:00<?, ?it/s]"
      ]
     },
     "metadata": {},
     "output_type": "display_data"
    },
    {
     "data": {
      "application/json": {
       "ascii": false,
       "bar_format": null,
       "colour": null,
       "elapsed": 0.025749921798706055,
       "initial": 0,
       "n": 0,
       "ncols": null,
       "nrows": null,
       "postfix": null,
       "prefix": "",
       "rate": null,
       "total": 1000,
       "unit": "it",
       "unit_divisor": 1000,
       "unit_scale": false
      },
      "application/vnd.jupyter.widget-view+json": {
       "model_id": "5b566600e576426b93ce169d3b52facb",
       "version_major": 2,
       "version_minor": 0
      },
      "text/plain": [
       "  0%|          | 0/1000 [00:00<?, ?it/s]"
      ]
     },
     "metadata": {},
     "output_type": "display_data"
    },
    {
     "data": {
      "application/json": {
       "ascii": false,
       "bar_format": null,
       "colour": null,
       "elapsed": 0.02613997459411621,
       "initial": 0,
       "n": 0,
       "ncols": null,
       "nrows": null,
       "postfix": null,
       "prefix": "",
       "rate": null,
       "total": 1000,
       "unit": "it",
       "unit_divisor": 1000,
       "unit_scale": false
      },
      "application/vnd.jupyter.widget-view+json": {
       "model_id": "70ee7ede2f4c44babd750c6fcb939aa3",
       "version_major": 2,
       "version_minor": 0
      },
      "text/plain": [
       "  0%|          | 0/1000 [00:00<?, ?it/s]"
      ]
     },
     "metadata": {},
     "output_type": "display_data"
    },
    {
     "data": {
      "application/json": {
       "ascii": false,
       "bar_format": null,
       "colour": null,
       "elapsed": 0.024628877639770508,
       "initial": 0,
       "n": 0,
       "ncols": null,
       "nrows": null,
       "postfix": null,
       "prefix": "",
       "rate": null,
       "total": 1000,
       "unit": "it",
       "unit_divisor": 1000,
       "unit_scale": false
      },
      "application/vnd.jupyter.widget-view+json": {
       "model_id": "880ea7a56fae480087d9e60165aae1d3",
       "version_major": 2,
       "version_minor": 0
      },
      "text/plain": [
       "  0%|          | 0/1000 [00:00<?, ?it/s]"
      ]
     },
     "metadata": {},
     "output_type": "display_data"
    },
    {
     "data": {
      "application/json": {
       "ascii": false,
       "bar_format": null,
       "colour": null,
       "elapsed": 0.023952245712280273,
       "initial": 0,
       "n": 0,
       "ncols": null,
       "nrows": null,
       "postfix": null,
       "prefix": "",
       "rate": null,
       "total": 1000,
       "unit": "it",
       "unit_divisor": 1000,
       "unit_scale": false
      },
      "application/vnd.jupyter.widget-view+json": {
       "model_id": "317c6c48470642ec9f0a658eaacb5acb",
       "version_major": 2,
       "version_minor": 0
      },
      "text/plain": [
       "  0%|          | 0/1000 [00:00<?, ?it/s]"
      ]
     },
     "metadata": {},
     "output_type": "display_data"
    }
   ],
   "source": [
    "for i in range(1,10):\n",
    "    new_sample = CDiffE_Euler_Maruyama_sampler(score_model, \n",
    "                           marginal_prob_std_fn,\n",
    "                           diffusion_coeff_fn, \n",
    "                           y_obs = y_obs, batch_size = 1000, diffused_y = diffused_y[i])\n",
    "    new_sample = new_sample * sds + means\n",
    "    cdiffe.append(new_sample)"
   ]
  },
  {
   "cell_type": "code",
   "execution_count": 10,
   "id": "packed-marina",
   "metadata": {},
   "outputs": [],
   "source": [
    "cdiffe_samples = torch.vstack(cdiffe)"
   ]
  },
  {
   "cell_type": "code",
   "execution_count": 11,
   "id": "decimal-north",
   "metadata": {},
   "outputs": [
    {
     "data": {
      "image/png": "[encoded data removed]",
      "text/plain": [
       "<Figure size 360x360 with 1 Axes>"
      ]
     },
     "metadata": {
      "needs_background": "light"
     },
     "output_type": "display_data"
    }
   ],
   "source": [
    "density_plot(cdiffe_samples)"
   ]
  },
  {
   "cell_type": "code",
   "execution_count": 12,
   "id": "passing-framework",
   "metadata": {},
   "outputs": [
    {
     "data": {
      "text/plain": [
       "tensor([0.2538, 0.6224, 0.1800, 0.3200, 0.4200, 0.4900, 0.5400])"
      ]
     },
     "execution_count": 12,
     "metadata": {},
     "output_type": "execute_result"
    }
   ],
   "source": [
    "torch.mean(cdiffe_samples, axis=0)"
   ]
  },
  {
   "cell_type": "code",
   "execution_count": 13,
   "id": "annoying-airline",
   "metadata": {},
   "outputs": [
    {
     "data": {
      "text/plain": [
       "tensor([0.3589, 0.3776])"
      ]
     },
     "execution_count": 13,
     "metadata": {},
     "output_type": "execute_result"
    }
   ],
   "source": [
    "torch.var(cdiffe_samples[:, [0,1]], axis=0)"
   ]
  },
  {
   "cell_type": "code",
   "execution_count": 14,
   "id": "geographic-intake",
   "metadata": {},
   "outputs": [
    {
     "data": {
      "text/plain": [
       "array([1.3121053 , 0.99130344], dtype=float32)"
      ]
     },
     "execution_count": 14,
     "metadata": {},
     "output_type": "execute_result"
    }
   ],
   "source": [
    "scipy.stats.skew(cdiffe_samples[:, [0,1]])"
   ]
  },
  {
   "cell_type": "code",
   "execution_count": 15,
   "id": "asian-maryland",
   "metadata": {},
   "outputs": [
    {
     "data": {
      "text/plain": [
       "array([2.1335168, 1.2522831], dtype=float32)"
      ]
     },
     "execution_count": 15,
     "metadata": {},
     "output_type": "execute_result"
    }
   ],
   "source": [
    "scipy.stats.kurtosis(cdiffe_samples[:, [0,1]])"
   ]
  },
  {
   "cell_type": "code",
   "execution_count": null,
   "id": "external-packet",
   "metadata": {},
   "outputs": [],
   "source": []
  },
  {
   "cell_type": "code",
   "execution_count": 16,
   "id": "adult-boutique",
   "metadata": {},
   "outputs": [],
   "source": [
    "cdiffe_means = [torch.mean(cdiffe[i], axis=0) for i in range(10)]"
   ]
  },
  {
   "cell_type": "code",
   "execution_count": 17,
   "id": "harmful-phase",
   "metadata": {
    "scrolled": true
   },
   "outputs": [
    {
     "data": {
      "text/plain": [
       "[tensor([0.2687, 0.6193, 0.1800, 0.3200, 0.4200, 0.4900, 0.5400]),\n",
       " tensor([0.2786, 0.6092, 0.1800, 0.3200, 0.4200, 0.4900, 0.5400]),\n",
       " tensor([0.2447, 0.6787, 0.1800, 0.3200, 0.4200, 0.4900, 0.5400]),\n",
       " tensor([0.2081, 0.6127, 0.1800, 0.3200, 0.4200, 0.4900, 0.5400]),\n",
       " tensor([0.1691, 0.6856, 0.1800, 0.3200, 0.4200, 0.4900, 0.5400]),\n",
       " tensor([0.3392, 0.5494, 0.1800, 0.3200, 0.4200, 0.4900, 0.5400]),\n",
       " tensor([0.1784, 0.7402, 0.1800, 0.3200, 0.4200, 0.4900, 0.5400]),\n",
       " tensor([0.2603, 0.5941, 0.1800, 0.3200, 0.4200, 0.4900, 0.5400]),\n",
       " tensor([0.3375, 0.5054, 0.1800, 0.3200, 0.4200, 0.4900, 0.5400]),\n",
       " tensor([0.2532, 0.6296, 0.1800, 0.3200, 0.4200, 0.4900, 0.5400])]"
      ]
     },
     "execution_count": 17,
     "metadata": {},
     "output_type": "execute_result"
    }
   ],
   "source": [
    "cdiffe_means"
   ]
  },
  {
   "cell_type": "markdown",
   "id": "explicit-implementation",
   "metadata": {},
   "source": [
    "<hr style=\"border:2px solid black\">"
   ]
  },
  {
   "cell_type": "markdown",
   "id": "shaped-democracy",
   "metadata": {},
   "source": [
    "# CDE tailored conditional method"
   ]
  },
  {
   "cell_type": "markdown",
   "id": "discrete-sister",
   "metadata": {},
   "source": [
    "## Train conditioned model"
   ]
  },
  {
   "cell_type": "code",
   "execution_count": 39,
   "id": "statewide-vermont",
   "metadata": {},
   "outputs": [
    {
     "data": {
      "application/json": {
       "ascii": false,
       "bar_format": null,
       "colour": null,
       "elapsed": 0.024801969528198242,
       "initial": 0,
       "n": 0,
       "ncols": null,
       "nrows": null,
       "postfix": null,
       "prefix": "",
       "rate": null,
       "total": 200,
       "unit": "it",
       "unit_divisor": 1000,
       "unit_scale": false
      },
      "application/vnd.jupyter.widget-view+json": {
       "model_id": "e2298d47d7ce4b12a5b550c05366133b",
       "version_major": 2,
       "version_minor": 0
      },
      "text/plain": [
       "  0%|          | 0/200 [00:00<?, ?it/s]"
      ]
     },
     "metadata": {},
     "output_type": "display_data"
    },
    {
     "name": "stderr",
     "output_type": "stream",
     "text": [
      "/Users/harryamad/Google Drive/2022/Dissertation/conditional_diffusion_simulation/SDE.py:16: UserWarning: To copy construct from a tensor, it is recommended to use sourceTensor.clone().detach() or sourceTensor.clone().detach().requires_grad_(True), rather than torch.tensor(sourceTensor).\n",
      "  t = torch.tensor(t)\n"
     ]
    }
   ],
   "source": [
    "score_model = cde_ScoreNet_BOD(marginal_prob_std=marginal_prob_std_fn)\n",
    "losses_cde = train_model(score_model, x, CDE_loss_fn_BOD, marginal_prob_std_fn, 'BOD_cde_rescaled.pth', epochs = 200, batch_size = 64)"
   ]
  },
  {
   "cell_type": "code",
   "execution_count": 40,
   "id": "stupid-motor",
   "metadata": {},
   "outputs": [
    {
     "data": {
      "text/plain": [
       "[<matplotlib.lines.Line2D at 0x7fe4c27b13a0>]"
      ]
     },
     "execution_count": 40,
     "metadata": {},
     "output_type": "execute_result"
    },
    {
     "data": {
      "image/png": "[encoded data removed]",
      "text/plain": [
       "<Figure size 432x288 with 1 Axes>"
      ]
     },
     "metadata": {
      "needs_background": "light"
     },
     "output_type": "display_data"
    }
   ],
   "source": [
    "plt.plot(losses_cde)"
   ]
  },
  {
   "cell_type": "markdown",
   "id": "younger-swedish",
   "metadata": {},
   "source": [
    "## Draw CDE samples"
   ]
  },
  {
   "cell_type": "code",
   "execution_count": 197,
   "id": "fluid-ivory",
   "metadata": {},
   "outputs": [
    {
     "data": {
      "text/plain": [
       "tensor([0.8264, 0.8592, 0.7954, 0.7061, 0.6209])"
      ]
     },
     "execution_count": 197,
     "metadata": {},
     "output_type": "execute_result"
    }
   ],
   "source": [
    "y_obs"
   ]
  },
  {
   "cell_type": "code",
   "execution_count": null,
   "id": "traditional-madison",
   "metadata": {},
   "outputs": [],
   "source": []
  },
  {
   "cell_type": "code",
   "execution_count": 47,
   "id": "mounted-vanilla",
   "metadata": {},
   "outputs": [
    {
     "name": "stderr",
     "output_type": "stream",
     "text": [
      "/Users/harryamad/Google Drive/2022/Dissertation/conditional_diffusion_simulation/SDE.py:16: UserWarning: To copy construct from a tensor, it is recommended to use sourceTensor.clone().detach() or sourceTensor.clone().detach().requires_grad_(True), rather than torch.tensor(sourceTensor).\n",
      "  t = torch.tensor(t)\n"
     ]
    },
    {
     "data": {
      "application/json": {
       "ascii": false,
       "bar_format": null,
       "colour": null,
       "elapsed": 0.025084972381591797,
       "initial": 0,
       "n": 0,
       "ncols": null,
       "nrows": null,
       "postfix": null,
       "prefix": "",
       "rate": null,
       "total": 1000,
       "unit": "it",
       "unit_divisor": 1000,
       "unit_scale": false
      },
      "application/vnd.jupyter.widget-view+json": {
       "model_id": "a7eb4ace490644b791e85ead6badc819",
       "version_major": 2,
       "version_minor": 0
      },
      "text/plain": [
       "  0%|          | 0/1000 [00:00<?, ?it/s]"
      ]
     },
     "metadata": {},
     "output_type": "display_data"
    }
   ],
   "source": [
    "score_model = cde_ScoreNet_BOD(marginal_prob_std=marginal_prob_std_fn)\n",
    "ckpt = torch.load('models/BOD_cde.pth')\n",
    "score_model.load_state_dict(ckpt)\n",
    "cde_samples = CDE_Euler_Maruyama_sampler(score_model, \n",
    "                           marginal_prob_std_fn,\n",
    "                           diffusion_coeff_fn, \n",
    "                           y_obs = y_obs, batch_size = 10000)\n",
    "cde_samples = cde_samples * sds + means\n",
    "cde = [cde_samples]"
   ]
  },
  {
   "cell_type": "code",
   "execution_count": 19,
   "id": "gross-wrist",
   "metadata": {},
   "outputs": [
    {
     "data": {
      "application/json": {
       "ascii": false,
       "bar_format": null,
       "colour": null,
       "elapsed": 0.025213956832885742,
       "initial": 0,
       "n": 0,
       "ncols": null,
       "nrows": null,
       "postfix": null,
       "prefix": "",
       "rate": null,
       "total": 1000,
       "unit": "it",
       "unit_divisor": 1000,
       "unit_scale": false
      },
      "application/vnd.jupyter.widget-view+json": {
       "model_id": "55b6b86074bf4d928966d0e22ead4f45",
       "version_major": 2,
       "version_minor": 0
      },
      "text/plain": [
       "  0%|          | 0/1000 [00:00<?, ?it/s]"
      ]
     },
     "metadata": {},
     "output_type": "display_data"
    },
    {
     "data": {
      "application/json": {
       "ascii": false,
       "bar_format": null,
       "colour": null,
       "elapsed": 0.02538609504699707,
       "initial": 0,
       "n": 0,
       "ncols": null,
       "nrows": null,
       "postfix": null,
       "prefix": "",
       "rate": null,
       "total": 1000,
       "unit": "it",
       "unit_divisor": 1000,
       "unit_scale": false
      },
      "application/vnd.jupyter.widget-view+json": {
       "model_id": "68aa30a7e05b49d49a3df97f8c41a027",
       "version_major": 2,
       "version_minor": 0
      },
      "text/plain": [
       "  0%|          | 0/1000 [00:00<?, ?it/s]"
      ]
     },
     "metadata": {},
     "output_type": "display_data"
    },
    {
     "data": {
      "application/json": {
       "ascii": false,
       "bar_format": null,
       "colour": null,
       "elapsed": 0.025656938552856445,
       "initial": 0,
       "n": 0,
       "ncols": null,
       "nrows": null,
       "postfix": null,
       "prefix": "",
       "rate": null,
       "total": 1000,
       "unit": "it",
       "unit_divisor": 1000,
       "unit_scale": false
      },
      "application/vnd.jupyter.widget-view+json": {
       "model_id": "fbffd382fd254d21805df95ae044c57a",
       "version_major": 2,
       "version_minor": 0
      },
      "text/plain": [
       "  0%|          | 0/1000 [00:00<?, ?it/s]"
      ]
     },
     "metadata": {},
     "output_type": "display_data"
    },
    {
     "data": {
      "application/json": {
       "ascii": false,
       "bar_format": null,
       "colour": null,
       "elapsed": 0.025175094604492188,
       "initial": 0,
       "n": 0,
       "ncols": null,
       "nrows": null,
       "postfix": null,
       "prefix": "",
       "rate": null,
       "total": 1000,
       "unit": "it",
       "unit_divisor": 1000,
       "unit_scale": false
      },
      "application/vnd.jupyter.widget-view+json": {
       "model_id": "aa29c9d6caa944b9b98ada745890acc7",
       "version_major": 2,
       "version_minor": 0
      },
      "text/plain": [
       "  0%|          | 0/1000 [00:00<?, ?it/s]"
      ]
     },
     "metadata": {},
     "output_type": "display_data"
    },
    {
     "data": {
      "application/json": {
       "ascii": false,
       "bar_format": null,
       "colour": null,
       "elapsed": 0.02408909797668457,
       "initial": 0,
       "n": 0,
       "ncols": null,
       "nrows": null,
       "postfix": null,
       "prefix": "",
       "rate": null,
       "total": 1000,
       "unit": "it",
       "unit_divisor": 1000,
       "unit_scale": false
      },
      "application/vnd.jupyter.widget-view+json": {
       "model_id": "c47e61dff48d455099e24b23c437e0d7",
       "version_major": 2,
       "version_minor": 0
      },
      "text/plain": [
       "  0%|          | 0/1000 [00:00<?, ?it/s]"
      ]
     },
     "metadata": {},
     "output_type": "display_data"
    },
    {
     "data": {
      "application/json": {
       "ascii": false,
       "bar_format": null,
       "colour": null,
       "elapsed": 0.026119709014892578,
       "initial": 0,
       "n": 0,
       "ncols": null,
       "nrows": null,
       "postfix": null,
       "prefix": "",
       "rate": null,
       "total": 1000,
       "unit": "it",
       "unit_divisor": 1000,
       "unit_scale": false
      },
      "application/vnd.jupyter.widget-view+json": {
       "model_id": "b4882425b9844420add82eb974141da7",
       "version_major": 2,
       "version_minor": 0
      },
      "text/plain": [
       "  0%|          | 0/1000 [00:00<?, ?it/s]"
      ]
     },
     "metadata": {},
     "output_type": "display_data"
    },
    {
     "data": {
      "application/json": {
       "ascii": false,
       "bar_format": null,
       "colour": null,
       "elapsed": 0.024739742279052734,
       "initial": 0,
       "n": 0,
       "ncols": null,
       "nrows": null,
       "postfix": null,
       "prefix": "",
       "rate": null,
       "total": 1000,
       "unit": "it",
       "unit_divisor": 1000,
       "unit_scale": false
      },
      "application/vnd.jupyter.widget-view+json": {
       "model_id": "be09101da01a4b9b8e70090d57cf49d2",
       "version_major": 2,
       "version_minor": 0
      },
      "text/plain": [
       "  0%|          | 0/1000 [00:00<?, ?it/s]"
      ]
     },
     "metadata": {},
     "output_type": "display_data"
    },
    {
     "data": {
      "application/json": {
       "ascii": false,
       "bar_format": null,
       "colour": null,
       "elapsed": 0.027019977569580078,
       "initial": 0,
       "n": 0,
       "ncols": null,
       "nrows": null,
       "postfix": null,
       "prefix": "",
       "rate": null,
       "total": 1000,
       "unit": "it",
       "unit_divisor": 1000,
       "unit_scale": false
      },
      "application/vnd.jupyter.widget-view+json": {
       "model_id": "c08b52e02a8c48d8bf7b7021546f9c6e",
       "version_major": 2,
       "version_minor": 0
      },
      "text/plain": [
       "  0%|          | 0/1000 [00:00<?, ?it/s]"
      ]
     },
     "metadata": {},
     "output_type": "display_data"
    },
    {
     "data": {
      "application/json": {
       "ascii": false,
       "bar_format": null,
       "colour": null,
       "elapsed": 0.024891138076782227,
       "initial": 0,
       "n": 0,
       "ncols": null,
       "nrows": null,
       "postfix": null,
       "prefix": "",
       "rate": null,
       "total": 1000,
       "unit": "it",
       "unit_divisor": 1000,
       "unit_scale": false
      },
      "application/vnd.jupyter.widget-view+json": {
       "model_id": "c51257215b0e4e03bffda89b8d745d9c",
       "version_major": 2,
       "version_minor": 0
      },
      "text/plain": [
       "  0%|          | 0/1000 [00:00<?, ?it/s]"
      ]
     },
     "metadata": {},
     "output_type": "display_data"
    }
   ],
   "source": [
    "for i in range(9):\n",
    "    new_sample = CDE_Euler_Maruyama_sampler(score_model, \n",
    "                           marginal_prob_std_fn,\n",
    "                           diffusion_coeff_fn, \n",
    "                           y_obs = y_obs, batch_size = 1000)\n",
    "    new_sample = new_sample * sds + means\n",
    "    cde.append(new_sample)"
   ]
  },
  {
   "cell_type": "code",
   "execution_count": 20,
   "id": "useful-bowling",
   "metadata": {},
   "outputs": [],
   "source": [
    "cde_samples = torch.vstack(cde)"
   ]
  },
  {
   "cell_type": "code",
   "execution_count": 48,
   "id": "pretty-things",
   "metadata": {},
   "outputs": [
    {
     "data": {
      "image/png": "[encoded data removed]",
      "text/plain": [
       "<Figure size 360x360 with 1 Axes>"
      ]
     },
     "metadata": {
      "needs_background": "light"
     },
     "output_type": "display_data"
    }
   ],
   "source": [
    "density_plot(cde_samples)"
   ]
  },
  {
   "cell_type": "code",
   "execution_count": 49,
   "id": "earned-permit",
   "metadata": {},
   "outputs": [
    {
     "data": {
      "text/plain": [
       "tensor([0.1068, 0.8321, 0.1800, 0.3200, 0.4200, 0.4900, 0.5400])"
      ]
     },
     "execution_count": 49,
     "metadata": {},
     "output_type": "execute_result"
    }
   ],
   "source": [
    "torch.mean(cde_samples, axis=0)"
   ]
  },
  {
   "cell_type": "code",
   "execution_count": 50,
   "id": "divided-stevens",
   "metadata": {},
   "outputs": [
    {
     "data": {
      "text/plain": [
       "tensor([0.1988, 0.3515])"
      ]
     },
     "execution_count": 50,
     "metadata": {},
     "output_type": "execute_result"
    }
   ],
   "source": [
    "torch.var(cde_samples[:,[0,1]], axis=0)"
   ]
  },
  {
   "cell_type": "code",
   "execution_count": 51,
   "id": "afraid-means",
   "metadata": {},
   "outputs": [
    {
     "data": {
      "text/plain": [
       "array([1.7603834 , 0.67743087], dtype=float32)"
      ]
     },
     "execution_count": 51,
     "metadata": {},
     "output_type": "execute_result"
    }
   ],
   "source": [
    "scipy.stats.skew(cde_samples[:,[0,1]])"
   ]
  },
  {
   "cell_type": "code",
   "execution_count": 52,
   "id": "eleven-strip",
   "metadata": {},
   "outputs": [
    {
     "data": {
      "text/plain": [
       "array([4.211728 , 0.5084286], dtype=float32)"
      ]
     },
     "execution_count": 52,
     "metadata": {},
     "output_type": "execute_result"
    }
   ],
   "source": [
    "scipy.stats.kurtosis(cde_samples[:,[0,1]])"
   ]
  },
  {
   "cell_type": "code",
   "execution_count": null,
   "id": "recognized-stand",
   "metadata": {},
   "outputs": [],
   "source": []
  },
  {
   "cell_type": "code",
   "execution_count": 26,
   "id": "parliamentary-eight",
   "metadata": {},
   "outputs": [],
   "source": [
    "cde_means = [torch.mean(cde[i], axis=0) for i in range(10)]"
   ]
  },
  {
   "cell_type": "code",
   "execution_count": 27,
   "id": "latest-tissue",
   "metadata": {
    "scrolled": true
   },
   "outputs": [
    {
     "data": {
      "text/plain": [
       "[tensor([0.0950, 0.8276, 0.1800, 0.3200, 0.4200, 0.4900, 0.5400]),\n",
       " tensor([0.1200, 0.8147, 0.1800, 0.3200, 0.4200, 0.4900, 0.5400]),\n",
       " tensor([0.1082, 0.8373, 0.1800, 0.3200, 0.4200, 0.4900, 0.5400]),\n",
       " tensor([0.1059, 0.8267, 0.1800, 0.3200, 0.4200, 0.4900, 0.5400]),\n",
       " tensor([0.1006, 0.8695, 0.1800, 0.3200, 0.4200, 0.4900, 0.5400]),\n",
       " tensor([0.1277, 0.8089, 0.1800, 0.3200, 0.4200, 0.4900, 0.5400]),\n",
       " tensor([0.1270, 0.8048, 0.1800, 0.3200, 0.4200, 0.4900, 0.5400]),\n",
       " tensor([0.0926, 0.8519, 0.1800, 0.3200, 0.4200, 0.4900, 0.5400]),\n",
       " tensor([0.1260, 0.8113, 0.1800, 0.3200, 0.4200, 0.4900, 0.5400]),\n",
       " tensor([0.1096, 0.8453, 0.1800, 0.3200, 0.4200, 0.4900, 0.5400])]"
      ]
     },
     "execution_count": 27,
     "metadata": {},
     "output_type": "execute_result"
    }
   ],
   "source": [
    "cde_means"
   ]
  },
  {
   "cell_type": "markdown",
   "id": "identical-uganda",
   "metadata": {},
   "source": [
    "<hr style=\"border:2px solid black\">"
   ]
  },
  {
   "cell_type": "markdown",
   "id": "constant-mineral",
   "metadata": {},
   "source": [
    "# SMCDiff method"
   ]
  },
  {
   "cell_type": "markdown",
   "id": "herbal-roots",
   "metadata": {},
   "source": [
    "## Draw SMCDiff samples"
   ]
  },
  {
   "cell_type": "code",
   "execution_count": 53,
   "id": "headed-insulin",
   "metadata": {},
   "outputs": [
    {
     "name": "stderr",
     "output_type": "stream",
     "text": [
      "/Users/harryamad/Google Drive/2022/Dissertation/conditional_diffusion_simulation/SDE.py:16: UserWarning: To copy construct from a tensor, it is recommended to use sourceTensor.clone().detach() or sourceTensor.clone().detach().requires_grad_(True), rather than torch.tensor(sourceTensor).\n",
      "  t = torch.tensor(t)\n"
     ]
    },
    {
     "data": {
      "application/json": {
       "ascii": false,
       "bar_format": null,
       "colour": null,
       "elapsed": 0.025616884231567383,
       "initial": 0,
       "n": 0,
       "ncols": null,
       "nrows": null,
       "postfix": null,
       "prefix": "",
       "rate": null,
       "total": 1000,
       "unit": "it",
       "unit_divisor": 1000,
       "unit_scale": false
      },
      "application/vnd.jupyter.widget-view+json": {
       "model_id": "d7363ab03c274eac9fbe32af5f23d628",
       "version_major": 2,
       "version_minor": 0
      },
      "text/plain": [
       "  0%|          | 0/1000 [00:00<?, ?it/s]"
      ]
     },
     "metadata": {},
     "output_type": "display_data"
    },
    {
     "name": "stdout",
     "output_type": "stream",
     "text": [
      "644 resampling, departure=503.17\n",
      "383 resampling, departure=515.07\n"
     ]
    }
   ],
   "source": [
    "score_model = ScoreNet_BOD(marginal_prob_std=marginal_prob_std_fn)\n",
    "ckpt = torch.load('models/BOD.pth')\n",
    "score_model.load_state_dict(ckpt)\n",
    "\n",
    "smcdiff_samples = SMCDiff_Euler_Maruyama_sampler(score_model, \n",
    "                           marginal_prob_std_fn,\n",
    "                           diffusion_coeff_fn, \n",
    "                           y_obs = y_obs, k = 1000, diffused_y = diffused_y[0])\n",
    "smcdiff_samples = smcdiff_samples * sds + means\n",
    "smcdiff = [smcdiff_samples]"
   ]
  },
  {
   "cell_type": "code",
   "execution_count": 54,
   "id": "fifty-content",
   "metadata": {},
   "outputs": [
    {
     "data": {
      "application/json": {
       "ascii": false,
       "bar_format": null,
       "colour": null,
       "elapsed": 0.02514195442199707,
       "initial": 0,
       "n": 0,
       "ncols": null,
       "nrows": null,
       "postfix": null,
       "prefix": "",
       "rate": null,
       "total": 1000,
       "unit": "it",
       "unit_divisor": 1000,
       "unit_scale": false
      },
      "application/vnd.jupyter.widget-view+json": {
       "model_id": "4cc0a736fd6a4999b776e4ee4b1053f4",
       "version_major": 2,
       "version_minor": 0
      },
      "text/plain": [
       "  0%|          | 0/1000 [00:00<?, ?it/s]"
      ]
     },
     "metadata": {},
     "output_type": "display_data"
    },
    {
     "name": "stdout",
     "output_type": "stream",
     "text": [
      "551 resampling, departure=530.04\n",
      "491 resampling, departure=516.99\n",
      "415 resampling, departure=504.56\n"
     ]
    },
    {
     "data": {
      "application/json": {
       "ascii": false,
       "bar_format": null,
       "colour": null,
       "elapsed": 0.02379322052001953,
       "initial": 0,
       "n": 0,
       "ncols": null,
       "nrows": null,
       "postfix": null,
       "prefix": "",
       "rate": null,
       "total": 1000,
       "unit": "it",
       "unit_divisor": 1000,
       "unit_scale": false
      },
      "application/vnd.jupyter.widget-view+json": {
       "model_id": "86c37e342fa14a47a2eab6f89e94f21f",
       "version_major": 2,
       "version_minor": 0
      },
      "text/plain": [
       "  0%|          | 0/1000 [00:00<?, ?it/s]"
      ]
     },
     "metadata": {},
     "output_type": "display_data"
    },
    {
     "name": "stdout",
     "output_type": "stream",
     "text": [
      "531 resampling, departure=503.43\n",
      "410 resampling, departure=505.40\n"
     ]
    },
    {
     "data": {
      "application/json": {
       "ascii": false,
       "bar_format": null,
       "colour": null,
       "elapsed": 0.026163101196289062,
       "initial": 0,
       "n": 0,
       "ncols": null,
       "nrows": null,
       "postfix": null,
       "prefix": "",
       "rate": null,
       "total": 1000,
       "unit": "it",
       "unit_divisor": 1000,
       "unit_scale": false
      },
      "application/vnd.jupyter.widget-view+json": {
       "model_id": "6e665029dfb74e70b8a2d3fe264d1dfe",
       "version_major": 2,
       "version_minor": 0
      },
      "text/plain": [
       "  0%|          | 0/1000 [00:00<?, ?it/s]"
      ]
     },
     "metadata": {},
     "output_type": "display_data"
    },
    {
     "name": "stdout",
     "output_type": "stream",
     "text": [
      "517 resampling, departure=509.83\n",
      "358 resampling, departure=501.11\n"
     ]
    },
    {
     "data": {
      "application/json": {
       "ascii": false,
       "bar_format": null,
       "colour": null,
       "elapsed": 0.023701906204223633,
       "initial": 0,
       "n": 0,
       "ncols": null,
       "nrows": null,
       "postfix": null,
       "prefix": "",
       "rate": null,
       "total": 1000,
       "unit": "it",
       "unit_divisor": 1000,
       "unit_scale": false
      },
      "application/vnd.jupyter.widget-view+json": {
       "model_id": "ed20f91103f24c009a425a893bfc7f1c",
       "version_major": 2,
       "version_minor": 0
      },
      "text/plain": [
       "  0%|          | 0/1000 [00:00<?, ?it/s]"
      ]
     },
     "metadata": {},
     "output_type": "display_data"
    },
    {
     "name": "stdout",
     "output_type": "stream",
     "text": [
      "596 resampling, departure=534.93\n",
      "333 resampling, departure=502.12\n",
      "272 resampling, departure=524.15\n"
     ]
    },
    {
     "data": {
      "application/json": {
       "ascii": false,
       "bar_format": null,
       "colour": null,
       "elapsed": 0.024487972259521484,
       "initial": 0,
       "n": 0,
       "ncols": null,
       "nrows": null,
       "postfix": null,
       "prefix": "",
       "rate": null,
       "total": 1000,
       "unit": "it",
       "unit_divisor": 1000,
       "unit_scale": false
      },
      "application/vnd.jupyter.widget-view+json": {
       "model_id": "a24204c9bc2d49ca9d62ac05a3189cca",
       "version_major": 2,
       "version_minor": 0
      },
      "text/plain": [
       "  0%|          | 0/1000 [00:00<?, ?it/s]"
      ]
     },
     "metadata": {},
     "output_type": "display_data"
    },
    {
     "name": "stdout",
     "output_type": "stream",
     "text": [
      "521 resampling, departure=500.98\n",
      "39 resampling, departure=501.14\n"
     ]
    },
    {
     "data": {
      "application/json": {
       "ascii": false,
       "bar_format": null,
       "colour": null,
       "elapsed": 0.025297880172729492,
       "initial": 0,
       "n": 0,
       "ncols": null,
       "nrows": null,
       "postfix": null,
       "prefix": "",
       "rate": null,
       "total": 1000,
       "unit": "it",
       "unit_divisor": 1000,
       "unit_scale": false
      },
      "application/vnd.jupyter.widget-view+json": {
       "model_id": "84feb4b93a4b4a3f9eb0469be6a9c098",
       "version_major": 2,
       "version_minor": 0
      },
      "text/plain": [
       "  0%|          | 0/1000 [00:00<?, ?it/s]"
      ]
     },
     "metadata": {},
     "output_type": "display_data"
    },
    {
     "name": "stdout",
     "output_type": "stream",
     "text": [
      "644 resampling, departure=501.48\n",
      "388 resampling, departure=504.36\n",
      "298 resampling, departure=508.56\n",
      "102 resampling, departure=501.57\n"
     ]
    },
    {
     "data": {
      "application/json": {
       "ascii": false,
       "bar_format": null,
       "colour": null,
       "elapsed": 0.0251157283782959,
       "initial": 0,
       "n": 0,
       "ncols": null,
       "nrows": null,
       "postfix": null,
       "prefix": "",
       "rate": null,
       "total": 1000,
       "unit": "it",
       "unit_divisor": 1000,
       "unit_scale": false
      },
      "application/vnd.jupyter.widget-view+json": {
       "model_id": "759e770dd62143008263eff75a733dd2",
       "version_major": 2,
       "version_minor": 0
      },
      "text/plain": [
       "  0%|          | 0/1000 [00:00<?, ?it/s]"
      ]
     },
     "metadata": {},
     "output_type": "display_data"
    },
    {
     "name": "stdout",
     "output_type": "stream",
     "text": [
      "571 resampling, departure=512.33\n",
      "388 resampling, departure=502.21\n"
     ]
    },
    {
     "data": {
      "application/json": {
       "ascii": false,
       "bar_format": null,
       "colour": null,
       "elapsed": 0.024590015411376953,
       "initial": 0,
       "n": 0,
       "ncols": null,
       "nrows": null,
       "postfix": null,
       "prefix": "",
       "rate": null,
       "total": 1000,
       "unit": "it",
       "unit_divisor": 1000,
       "unit_scale": false
      },
      "application/vnd.jupyter.widget-view+json": {
       "model_id": "bbe5c83092ee4e74bc11a0b7bb525c38",
       "version_major": 2,
       "version_minor": 0
      },
      "text/plain": [
       "  0%|          | 0/1000 [00:00<?, ?it/s]"
      ]
     },
     "metadata": {},
     "output_type": "display_data"
    },
    {
     "name": "stdout",
     "output_type": "stream",
     "text": [
      "399 resampling, departure=501.82\n",
      "267 resampling, departure=519.30\n"
     ]
    },
    {
     "data": {
      "application/json": {
       "ascii": false,
       "bar_format": null,
       "colour": null,
       "elapsed": 0.02410602569580078,
       "initial": 0,
       "n": 0,
       "ncols": null,
       "nrows": null,
       "postfix": null,
       "prefix": "",
       "rate": null,
       "total": 1000,
       "unit": "it",
       "unit_divisor": 1000,
       "unit_scale": false
      },
      "application/vnd.jupyter.widget-view+json": {
       "model_id": "38e625d1ca694fbaa8d68b904ef8141a",
       "version_major": 2,
       "version_minor": 0
      },
      "text/plain": [
       "  0%|          | 0/1000 [00:00<?, ?it/s]"
      ]
     },
     "metadata": {},
     "output_type": "display_data"
    },
    {
     "name": "stdout",
     "output_type": "stream",
     "text": [
      "492 resampling, departure=539.34\n",
      "414 resampling, departure=532.31\n",
      "320 resampling, departure=500.51\n"
     ]
    }
   ],
   "source": [
    "for i in range(1,10):\n",
    "    new_sample = SMCDiff_Euler_Maruyama_sampler(score_model, \n",
    "                           marginal_prob_std_fn,\n",
    "                           diffusion_coeff_fn, \n",
    "                           y_obs = y_obs, k = 1000, diffused_y = diffused_y[i])\n",
    "    new_sample = new_sample * sds + means\n",
    "    smcdiff.append(new_sample)"
   ]
  },
  {
   "cell_type": "code",
   "execution_count": 55,
   "id": "fallen-development",
   "metadata": {},
   "outputs": [],
   "source": [
    "smcdiff_samples = torch.vstack(smcdiff)"
   ]
  },
  {
   "cell_type": "code",
   "execution_count": 56,
   "id": "alternative-earth",
   "metadata": {},
   "outputs": [
    {
     "data": {
      "image/png": "[encoded data removed]",
      "text/plain": [
       "<Figure size 360x360 with 1 Axes>"
      ]
     },
     "metadata": {
      "needs_background": "light"
     },
     "output_type": "display_data"
    }
   ],
   "source": [
    "density_plot(smcdiff_samples)"
   ]
  },
  {
   "cell_type": "code",
   "execution_count": 57,
   "id": "national-validation",
   "metadata": {},
   "outputs": [
    {
     "data": {
      "text/plain": [
       "tensor([0.0600, 0.8892, 0.1800, 0.3200, 0.4200, 0.4900, 0.5400])"
      ]
     },
     "execution_count": 57,
     "metadata": {},
     "output_type": "execute_result"
    }
   ],
   "source": [
    "torch.mean(smcdiff_samples, axis=0)"
   ]
  },
  {
   "cell_type": "code",
   "execution_count": 58,
   "id": "pharmaceutical-matrix",
   "metadata": {},
   "outputs": [
    {
     "data": {
      "text/plain": [
       "tensor([0.2237, 0.4445])"
      ]
     },
     "execution_count": 58,
     "metadata": {},
     "output_type": "execute_result"
    }
   ],
   "source": [
    "torch.var(smcdiff_samples[:,[0,1]], axis=0)"
   ]
  },
  {
   "cell_type": "code",
   "execution_count": 59,
   "id": "prepared-network",
   "metadata": {},
   "outputs": [
    {
     "data": {
      "text/plain": [
       "array([1.9453561, 0.7648963], dtype=float32)"
      ]
     },
     "execution_count": 59,
     "metadata": {},
     "output_type": "execute_result"
    }
   ],
   "source": [
    "scipy.stats.skew(smcdiff_samples[:,[0,1]])"
   ]
  },
  {
   "cell_type": "code",
   "execution_count": 60,
   "id": "smoking-window",
   "metadata": {},
   "outputs": [
    {
     "data": {
      "text/plain": [
       "array([5.57327  , 0.6612041], dtype=float32)"
      ]
     },
     "execution_count": 60,
     "metadata": {},
     "output_type": "execute_result"
    }
   ],
   "source": [
    "scipy.stats.kurtosis(smcdiff_samples[:,[0,1]])"
   ]
  },
  {
   "cell_type": "code",
   "execution_count": null,
   "id": "considered-design",
   "metadata": {},
   "outputs": [],
   "source": []
  },
  {
   "cell_type": "code",
   "execution_count": 36,
   "id": "physical-anthony",
   "metadata": {},
   "outputs": [],
   "source": [
    "smcdiff_means = [torch.mean(smcdiff[i], axis=0) for i in range(10)]"
   ]
  },
  {
   "cell_type": "code",
   "execution_count": 37,
   "id": "durable-radio",
   "metadata": {},
   "outputs": [
    {
     "data": {
      "text/plain": [
       "[tensor([0.0331, 0.9047, 0.1800, 0.3200, 0.4200, 0.4900, 0.5400]),\n",
       " tensor([0.1949, 0.7117, 0.1800, 0.3200, 0.4200, 0.4900, 0.5400]),\n",
       " tensor([0.1339, 0.8409, 0.1800, 0.3200, 0.4200, 0.4900, 0.5400]),\n",
       " tensor([0.0771, 0.8474, 0.1800, 0.3200, 0.4200, 0.4900, 0.5400]),\n",
       " tensor([0.0372, 0.9558, 0.1800, 0.3200, 0.4200, 0.4900, 0.5400]),\n",
       " tensor([0.0769, 0.8143, 0.1800, 0.3200, 0.4200, 0.4900, 0.5400]),\n",
       " tensor([-0.0382,  0.9475,  0.1800,  0.3200,  0.4200,  0.4900,  0.5400]),\n",
       " tensor([0.1380, 0.7210, 0.1800, 0.3200, 0.4200, 0.4900, 0.5400]),\n",
       " tensor([0.1073, 0.7820, 0.1800, 0.3200, 0.4200, 0.4900, 0.5400]),\n",
       " tensor([0.0041, 0.8927, 0.1800, 0.3200, 0.4200, 0.4900, 0.5400])]"
      ]
     },
     "execution_count": 37,
     "metadata": {},
     "output_type": "execute_result"
    }
   ],
   "source": [
    "smcdiff_means"
   ]
  },
  {
   "cell_type": "markdown",
   "id": "expensive-history",
   "metadata": {},
   "source": [
    "<hr style=\"border:2px solid black\">"
   ]
  },
  {
   "cell_type": "markdown",
   "id": "institutional-timber",
   "metadata": {},
   "source": [
    "# Comparison"
   ]
  },
  {
   "cell_type": "code",
   "execution_count": 38,
   "id": "cellular-secretary",
   "metadata": {},
   "outputs": [
    {
     "data": {
      "image/png": "[encoded data removed]",
      "text/plain": [
       "<IPython.core.display.Image object>"
      ]
     },
     "execution_count": 38,
     "metadata": {
      "image/png": {
       "height": 300,
       "width": 300
      }
     },
     "output_type": "execute_result"
    }
   ],
   "source": [
    "Image(\"plots/BOD target density.png\", width=300, height=300)\n",
    "#make my own version with scale? would need to generate MCMC points"
   ]
  },
  {
   "cell_type": "code",
   "execution_count": 39,
   "id": "downtown-george",
   "metadata": {},
   "outputs": [
    {
     "data": {
      "image/png": "[encoded data removed]",
      "text/plain": [
       "<Figure size 360x360 with 1 Axes>"
      ]
     },
     "metadata": {
      "needs_background": "light"
     },
     "output_type": "display_data"
    }
   ],
   "source": [
    "density_plot(cdiffe_samples)"
   ]
  },
  {
   "cell_type": "code",
   "execution_count": 40,
   "id": "proud-azerbaijan",
   "metadata": {},
   "outputs": [
    {
     "data": {
      "image/png": "[encoded data removed]",
      "text/plain": [
       "<Figure size 360x360 with 1 Axes>"
      ]
     },
     "metadata": {
      "needs_background": "light"
     },
     "output_type": "display_data"
    }
   ],
   "source": [
    "density_plot(cde_samples)"
   ]
  },
  {
   "cell_type": "code",
   "execution_count": 75,
   "id": "likely-acceptance",
   "metadata": {},
   "outputs": [
    {
     "data": {
      "text/plain": [
       "<matplotlib.axes._subplots.AxesSubplot at 0x7fef7e0e88e0>"
      ]
     },
     "execution_count": 75,
     "metadata": {},
     "output_type": "execute_result"
    },
    {
     "data": {
      "image/png": "[encoded data removed]",
      "text/plain": [
       "<Figure size 432x288 with 1 Axes>"
      ]
     },
     "metadata": {
      "needs_background": "light"
     },
     "output_type": "display_data"
    }
   ],
   "source": [
    "sns.kdeplot(cde_samples[:,0])"
   ]
  },
  {
   "cell_type": "code",
   "execution_count": 76,
   "id": "extensive-verse",
   "metadata": {},
   "outputs": [
    {
     "data": {
      "text/plain": [
       "<matplotlib.axes._subplots.AxesSubplot at 0x7fef7c22fa00>"
      ]
     },
     "execution_count": 76,
     "metadata": {},
     "output_type": "execute_result"
    },
    {
     "data": {
      "image/png": "[encoded data removed]",
      "text/plain": [
       "<Figure size 432x288 with 1 Axes>"
      ]
     },
     "metadata": {
      "needs_background": "light"
     },
     "output_type": "display_data"
    }
   ],
   "source": [
    "sns.kdeplot(cde_samples[:,1])"
   ]
  },
  {
   "cell_type": "code",
   "execution_count": 41,
   "id": "appropriate-rogers",
   "metadata": {},
   "outputs": [
    {
     "data": {
      "image/png": "[encoded data removed]",
      "text/plain": [
       "<Figure size 360x360 with 1 Axes>"
      ]
     },
     "metadata": {
      "needs_background": "light"
     },
     "output_type": "display_data"
    }
   ],
   "source": [
    "density_plot(smcdiff_samples)"
   ]
  },
  {
   "cell_type": "code",
   "execution_count": null,
   "id": "abroad-specialist",
   "metadata": {},
   "outputs": [],
   "source": []
  },
  {
   "cell_type": "code",
   "execution_count": null,
   "id": "pleased-purple",
   "metadata": {},
   "outputs": [],
   "source": []
  },
  {
   "cell_type": "code",
   "execution_count": 183,
   "id": "looking-living",
   "metadata": {},
   "outputs": [
    {
     "data": {
      "text/plain": [
       "[tensor([0.1761, 0.6763, 0.1800, 0.3200, 0.4200, 0.4900, 0.5400]),\n",
       " tensor([0.4196, 0.4834, 0.1800, 0.3200, 0.4200, 0.4900, 0.5400]),\n",
       " tensor([0.2767, 0.5775, 0.1800, 0.3200, 0.4200, 0.4900, 0.5400]),\n",
       " tensor([0.2802, 0.6881, 0.1800, 0.3200, 0.4200, 0.4900, 0.5400]),\n",
       " tensor([0.1739, 0.6088, 0.1800, 0.3200, 0.4200, 0.4900, 0.5400]),\n",
       " tensor([0.3866, 0.5059, 0.1800, 0.3200, 0.4200, 0.4900, 0.5400]),\n",
       " tensor([0.2382, 0.6217, 0.1800, 0.3200, 0.4200, 0.4900, 0.5400]),\n",
       " tensor([0.3937, 0.6688, 0.1800, 0.3200, 0.4200, 0.4900, 0.5400]),\n",
       " tensor([0.2709, 0.6804, 0.1800, 0.3200, 0.4200, 0.4900, 0.5400]),\n",
       " tensor([0.2276, 0.6485, 0.1800, 0.3200, 0.4200, 0.4900, 0.5400])]"
      ]
     },
     "execution_count": 183,
     "metadata": {},
     "output_type": "execute_result"
    }
   ],
   "source": [
    "cdiffe_means"
   ]
  },
  {
   "cell_type": "code",
   "execution_count": 184,
   "id": "japanese-gateway",
   "metadata": {},
   "outputs": [
    {
     "data": {
      "text/plain": [
       "[tensor([0.1256, 0.8158, 0.1800, 0.3200, 0.4200, 0.4900, 0.5400]),\n",
       " tensor([0.1119, 0.8385, 0.1800, 0.3200, 0.4200, 0.4900, 0.5400]),\n",
       " tensor([0.1280, 0.8427, 0.1800, 0.3200, 0.4200, 0.4900, 0.5400]),\n",
       " tensor([0.1269, 0.8399, 0.1800, 0.3200, 0.4200, 0.4900, 0.5400]),\n",
       " tensor([0.1286, 0.8188, 0.1800, 0.3200, 0.4200, 0.4900, 0.5400]),\n",
       " tensor([0.1029, 0.8331, 0.1800, 0.3200, 0.4200, 0.4900, 0.5400]),\n",
       " tensor([0.1187, 0.8107, 0.1800, 0.3200, 0.4200, 0.4900, 0.5400]),\n",
       " tensor([0.1118, 0.8409, 0.1800, 0.3200, 0.4200, 0.4900, 0.5400]),\n",
       " tensor([0.1082, 0.8507, 0.1800, 0.3200, 0.4200, 0.4900, 0.5400]),\n",
       " tensor([0.1176, 0.8165, 0.1800, 0.3200, 0.4200, 0.4900, 0.5400])]"
      ]
     },
     "execution_count": 184,
     "metadata": {},
     "output_type": "execute_result"
    }
   ],
   "source": [
    "cde_means"
   ]
  },
  {
   "cell_type": "code",
   "execution_count": 185,
   "id": "european-plymouth",
   "metadata": {},
   "outputs": [
    {
     "data": {
      "text/plain": [
       "[tensor([0.1786, 0.6565, 0.1800, 0.3200, 0.4200, 0.4900, 0.5400]),\n",
       " tensor([0.2298, 0.6710, 0.1800, 0.3200, 0.4200, 0.4900, 0.5400]),\n",
       " tensor([0.0958, 0.7791, 0.1800, 0.3200, 0.4200, 0.4900, 0.5400]),\n",
       " tensor([0.0409, 0.8793, 0.1800, 0.3200, 0.4200, 0.4900, 0.5400]),\n",
       " tensor([0.0274, 0.9328, 0.1800, 0.3200, 0.4200, 0.4900, 0.5400]),\n",
       " tensor([0.0957, 0.8151, 0.1800, 0.3200, 0.4200, 0.4900, 0.5400]),\n",
       " tensor([0.0413, 0.8844, 0.1800, 0.3200, 0.4200, 0.4900, 0.5400]),\n",
       " tensor([0.0525, 0.8629, 0.1800, 0.3200, 0.4200, 0.4900, 0.5400]),\n",
       " tensor([-0.0507,  1.0656,  0.1800,  0.3200,  0.4200,  0.4900,  0.5400]),\n",
       " tensor([0.1336, 0.7513, 0.1800, 0.3200, 0.4200, 0.4900, 0.5400])]"
      ]
     },
     "execution_count": 185,
     "metadata": {},
     "output_type": "execute_result"
    }
   ],
   "source": [
    "smcdiff_means"
   ]
  },
  {
   "cell_type": "code",
   "execution_count": 186,
   "id": "talented-bubble",
   "metadata": {},
   "outputs": [
    {
     "data": {
      "text/plain": [
       "tensor([0.0845, 0.8298])"
      ]
     },
     "execution_count": 186,
     "metadata": {},
     "output_type": "execute_result"
    }
   ],
   "source": [
    "torch.mean(torch.vstack(smcdiff_means)[:, [0,1]], axis=0)"
   ]
  },
  {
   "cell_type": "code",
   "execution_count": 187,
   "id": "injured-addiction",
   "metadata": {},
   "outputs": [
    {
     "data": {
      "text/plain": [
       "tensor([0.2844, 0.6159])"
      ]
     },
     "execution_count": 187,
     "metadata": {},
     "output_type": "execute_result"
    }
   ],
   "source": [
    "torch.mean(torch.vstack(cdiffe_means)[:, [0,1]], axis=0)"
   ]
  },
  {
   "cell_type": "code",
   "execution_count": 188,
   "id": "ranging-calculator",
   "metadata": {},
   "outputs": [
    {
     "data": {
      "text/plain": [
       "tensor([0.1180, 0.8308])"
      ]
     },
     "execution_count": 188,
     "metadata": {},
     "output_type": "execute_result"
    }
   ],
   "source": [
    "torch.mean(torch.vstack(cde_means)[:, [0,1]], axis=0)"
   ]
  },
  {
   "cell_type": "code",
   "execution_count": 189,
   "id": "maritime-locking",
   "metadata": {},
   "outputs": [
    {
     "data": {
      "text/plain": [
       "tensor([0.0066, 0.0152])"
      ]
     },
     "execution_count": 189,
     "metadata": {},
     "output_type": "execute_result"
    }
   ],
   "source": [
    "torch.var(torch.vstack(smcdiff_means)[:, [0,1]], axis=0)"
   ]
  },
  {
   "cell_type": "code",
   "execution_count": 190,
   "id": "periodic-failure",
   "metadata": {},
   "outputs": [
    {
     "data": {
      "text/plain": [
       "tensor([0.0078, 0.0053])"
      ]
     },
     "execution_count": 190,
     "metadata": {},
     "output_type": "execute_result"
    }
   ],
   "source": [
    "torch.var(torch.vstack(cdiffe_means)[:, [0,1]], axis=0)"
   ]
  },
  {
   "cell_type": "code",
   "execution_count": 191,
   "id": "metallic-agenda",
   "metadata": {},
   "outputs": [
    {
     "data": {
      "text/plain": [
       "tensor([8.3293e-05, 1.9622e-04])"
      ]
     },
     "execution_count": 191,
     "metadata": {},
     "output_type": "execute_result"
    }
   ],
   "source": [
    "torch.var(torch.vstack(cde_means)[:, [0,1]], axis=0)"
   ]
  },
  {
   "cell_type": "code",
   "execution_count": 61,
   "id": "apparent-louis",
   "metadata": {},
   "outputs": [
    {
     "data": {
      "image/png": "[encoded data removed]",
      "text/plain": [
       "<IPython.core.display.Image object>"
      ]
     },
     "execution_count": 61,
     "metadata": {
      "image/png": {
       "height": 300,
       "width": 300
      }
     },
     "output_type": "execute_result"
    }
   ],
   "source": [
    "Image(\"plots/BOD target stats.png\", width=300, height=300)"
   ]
  },
  {
   "cell_type": "code",
   "execution_count": 62,
   "id": "baking-brighton",
   "metadata": {},
   "outputs": [
    {
     "data": {
      "text/plain": [
       "tensor([[0.2538, 0.1068, 0.0600],\n",
       "        [0.6224, 0.8321, 0.8892]])"
      ]
     },
     "execution_count": 62,
     "metadata": {},
     "output_type": "execute_result"
    }
   ],
   "source": [
    "cdiffe_mean = torch.mean(cdiffe_samples[:, [0,1]], axis=0).reshape(2,1)\n",
    "cde_mean = torch.mean(cde_samples[:, [0,1]], axis=0).reshape(2,1)\n",
    "smc_mean = torch.mean(smcdiff_samples[:, [0,1]], axis=0).reshape(2,1)\n",
    "\n",
    "sample_means = torch.hstack([cdiffe_mean, cde_mean, smc_mean])\n",
    "sample_means"
   ]
  },
  {
   "cell_type": "code",
   "execution_count": 63,
   "id": "stopped-potential",
   "metadata": {},
   "outputs": [
    {
     "data": {
      "text/plain": [
       "tensor([[0.3589, 0.1988, 0.2237],\n",
       "        [0.3776, 0.3515, 0.4445]])"
      ]
     },
     "execution_count": 63,
     "metadata": {},
     "output_type": "execute_result"
    }
   ],
   "source": [
    "cdiffe_var = torch.var(cdiffe_samples[:, [0,1]], axis=0).reshape(2,1)\n",
    "cde_var = torch.var(cde_samples[:, [0,1]], axis=0).reshape(2,1)\n",
    "smc_var = torch.var(smcdiff_samples[:, [0,1]], axis=0).reshape(2,1)\n",
    "\n",
    "var = torch.hstack([cdiffe_var, cde_var, smc_var])\n",
    "var"
   ]
  },
  {
   "cell_type": "code",
   "execution_count": 64,
   "id": "plain-coordinator",
   "metadata": {},
   "outputs": [
    {
     "data": {
      "text/plain": [
       "array([[1.3121053 , 1.7603834 , 1.9453561 ],\n",
       "       [0.99130344, 0.67743087, 0.7648963 ]], dtype=float32)"
      ]
     },
     "execution_count": 64,
     "metadata": {},
     "output_type": "execute_result"
    }
   ],
   "source": [
    "cdiffe_skew = scipy.stats.skew(cdiffe_samples[:, [0,1]], axis=0)\n",
    "cde_skew = scipy.stats.skew(cde_samples[:, [0,1]], axis=0)\n",
    "smc_skew = scipy.stats.skew(smcdiff_samples[:, [0,1]], axis=0)\n",
    "\n",
    "skew = np.stack([cdiffe_skew, cde_skew, smc_skew])\n",
    "skew.T"
   ]
  },
  {
   "cell_type": "code",
   "execution_count": 65,
   "id": "painful-sudan",
   "metadata": {},
   "outputs": [
    {
     "data": {
      "text/plain": [
       "array([[2.1335168, 4.211728 , 5.57327  ],\n",
       "       [1.2522831, 0.5084286, 0.6612041]], dtype=float32)"
      ]
     },
     "execution_count": 65,
     "metadata": {},
     "output_type": "execute_result"
    }
   ],
   "source": [
    "cdiffe_kurt = scipy.stats.kurtosis(cdiffe_samples[:, [0,1]], axis=0)\n",
    "cde_kurt = scipy.stats.kurtosis(cde_samples[:, [0,1]], axis=0)\n",
    "smc_kurt = scipy.stats.kurtosis(smcdiff_samples[:, [0,1]], axis=0)\n",
    "\n",
    "kurt = np.stack([cdiffe_kurt, cde_kurt, smc_kurt])\n",
    "kurt.T"
   ]
  },
  {
   "cell_type": "code",
   "execution_count": null,
   "id": "thick-tablet",
   "metadata": {},
   "outputs": [],
   "source": []
  },
  {
   "cell_type": "code",
   "execution_count": null,
   "id": "electronic-citation",
   "metadata": {},
   "outputs": [],
   "source": []
  },
  {
   "cell_type": "code",
   "execution_count": null,
   "id": "verified-silicon",
   "metadata": {},
   "outputs": [],
   "source": []
  },
  {
   "cell_type": "markdown",
   "id": "latter-merchandise",
   "metadata": {},
   "source": [
    "# Trying to generate own MCMC samples for true distribution"
   ]
  },
  {
   "cell_type": "code",
   "execution_count": 2,
   "id": "desirable-margin",
   "metadata": {},
   "outputs": [],
   "source": [
    "y = [0.18,0.32,0.42,0.49,0.54]"
   ]
  },
  {
   "cell_type": "code",
   "execution_count": 72,
   "id": "purple-isaac",
   "metadata": {},
   "outputs": [],
   "source": [
    "def log_prob(x_1, x_2, y):\n",
    "    x_1 = torch.tensor(x_1)\n",
    "    x_2 = torch.tensor(x_2)\n",
    "    theta_0 = 0.8+0.4*torch.erf(x_1/np.sqrt(2))\n",
    "    theta_1 = 0.16+0.15*torch.erf(x_2/np.sqrt(2))\n",
    "    prob = [(theta_0 * (1-torch.exp(-theta_1*(i+1))) - y[i])**2 for i in range(5)]\n",
    "    prob = sum(prob).item()\n",
    "    prob = - 1/(2*1e-3) * prob\n",
    "    return prob"
   ]
  },
  {
   "cell_type": "code",
   "execution_count": 3,
   "id": "efficient-detroit",
   "metadata": {},
   "outputs": [],
   "source": [
    "def log_prob(x_1, x_2, y):\n",
    "    theta_0 = torch.tensor(x_1)\n",
    "    theta_1 = torch.tensor(x_2)\n",
    "    \n",
    "    prob = [(theta_0 * (1-torch.exp(-theta_1*(i+1))) - y[i])**2 for i in range(5)]\n",
    "    prob = sum(prob).item()\n",
    "    prob = - 1/(2*1e-3) * prob\n",
    "    return prob"
   ]
  },
  {
   "cell_type": "code",
   "execution_count": 73,
   "id": "quantitative-champagne",
   "metadata": {},
   "outputs": [],
   "source": [
    "from scipy.stats import multivariate_normal\n",
    "dens = multivariate_normal(mean=[0,0], cov=[[1,0],[0,1]])"
   ]
  },
  {
   "cell_type": "code",
   "execution_count": 166,
   "id": "retained-creek",
   "metadata": {},
   "outputs": [
    {
     "data": {
      "text/plain": [
       "0.0003307690028611199"
      ]
     },
     "execution_count": 166,
     "metadata": {},
     "output_type": "execute_result"
    }
   ],
   "source": [
    "(np.random.rand() - 1/2)*0.01"
   ]
  },
  {
   "cell_type": "code",
   "execution_count": 4,
   "id": "systematic-uncertainty",
   "metadata": {},
   "outputs": [],
   "source": [
    "xs = []\n",
    "x_1 = 0.825\n",
    "x_2 = 0.253\n",
    "x = (x_1,x_2)\n",
    "xs.append(x)\n",
    "acc=0\n",
    "\n",
    "one_or_two = 1\n",
    "for i in range(1000000):\n",
    "    x_1 = xs[-1][0]\n",
    "    x_2 = xs[-1][1]\n",
    "    \n",
    "    if one_or_two%2:\n",
    "        x_1_new =  x_1 + (np.random.rand() - 1/2)*0.25\n",
    "        x_2_new = x_2\n",
    "    else:\n",
    "        x_1_new = x_1\n",
    "        x_2_new =  x_2 + (np.random.rand() - 1/2)*0.25\n",
    "\n",
    "    one_or_two += 1\n",
    "    p = min(1, np.exp(log_prob(x_1_new, x_2_new, y) - log_prob(x_1, x_2,y)))\n",
    "    \n",
    "    u = np.random.rand()\n",
    "    \n",
    "    if u <= p and (0.4 < x_1_new) and (x_1_new < 1.2) and (0.01 < x_2_new) and (x_2_new < 0.31):\n",
    "        x = (x_1_new, x_2_new)\n",
    "        acc+=1\n",
    "    else:\n",
    "        x = (x_1,x_2)\n",
    "        \n",
    "    xs.append(x)"
   ]
  },
  {
   "cell_type": "code",
   "execution_count": 5,
   "id": "stunning-squad",
   "metadata": {},
   "outputs": [
    {
     "data": {
      "text/plain": [
       "0.251352"
      ]
     },
     "execution_count": 5,
     "metadata": {},
     "output_type": "execute_result"
    }
   ],
   "source": [
    "acc/1000000"
   ]
  },
  {
   "cell_type": "code",
   "execution_count": 6,
   "id": "decreased-northwest",
   "metadata": {},
   "outputs": [],
   "source": [
    "x_1s = [i[0] for i in xs]\n",
    "x_2s = [i[1] for i in xs]"
   ]
  },
  {
   "cell_type": "code",
   "execution_count": 299,
   "id": "wireless-karma",
   "metadata": {},
   "outputs": [
    {
     "data": {
      "text/plain": [
       "1.1997912339196357"
      ]
     },
     "execution_count": 299,
     "metadata": {},
     "output_type": "execute_result"
    }
   ],
   "source": [
    "sorted(x_1s)[-1]"
   ]
  },
  {
   "cell_type": "code",
   "execution_count": 12,
   "id": "fifteen-photograph",
   "metadata": {},
   "outputs": [],
   "source": [
    "y_1s = [get_x_1(i) for i in x_1s]\n",
    "y_2s = [get_x_2(i) for i in x_2s]"
   ]
  },
  {
   "cell_type": "code",
   "execution_count": 13,
   "id": "scenic-canal",
   "metadata": {},
   "outputs": [
    {
     "data": {
      "text/plain": [
       "[<matplotlib.lines.Line2D at 0x7fec78d937c0>]"
      ]
     },
     "execution_count": 13,
     "metadata": {},
     "output_type": "execute_result"
    },
    {
     "data": {
      "image/png": "[encoded data removed]",
      "text/plain": [
       "<Figure size 432x288 with 1 Axes>"
      ]
     },
     "metadata": {
      "needs_background": "light"
     },
     "output_type": "display_data"
    }
   ],
   "source": [
    "plt.plot(y_1s)"
   ]
  },
  {
   "cell_type": "code",
   "execution_count": 14,
   "id": "piano-island",
   "metadata": {},
   "outputs": [
    {
     "data": {
      "text/plain": [
       "[<matplotlib.lines.Line2D at 0x7fec78d5d5e0>]"
      ]
     },
     "execution_count": 14,
     "metadata": {},
     "output_type": "execute_result"
    },
    {
     "data": {
      "image/png": "[encoded data removed]",
      "text/plain": [
       "<Figure size 432x288 with 1 Axes>"
      ]
     },
     "metadata": {
      "needs_background": "light"
     },
     "output_type": "display_data"
    }
   ],
   "source": [
    "plt.plot(y_2s)"
   ]
  },
  {
   "cell_type": "code",
   "execution_count": 15,
   "id": "republican-mexican",
   "metadata": {},
   "outputs": [
    {
     "data": {
      "text/plain": [
       "0.05399305551475369"
      ]
     },
     "execution_count": 15,
     "metadata": {},
     "output_type": "execute_result"
    }
   ],
   "source": [
    "np.mean(y_1s[40000:])"
   ]
  },
  {
   "cell_type": "code",
   "execution_count": 16,
   "id": "independent-metropolitan",
   "metadata": {},
   "outputs": [
    {
     "data": {
      "text/plain": [
       "0.9192256035512968"
      ]
     },
     "execution_count": 16,
     "metadata": {},
     "output_type": "execute_result"
    }
   ],
   "source": [
    "np.mean(y_2s[40000:])"
   ]
  },
  {
   "cell_type": "code",
   "execution_count": 17,
   "id": "future-armor",
   "metadata": {},
   "outputs": [],
   "source": [
    "y_1s_burnt = torch.tensor(y_1s[40000:])[:,None]"
   ]
  },
  {
   "cell_type": "code",
   "execution_count": 18,
   "id": "military-valve",
   "metadata": {},
   "outputs": [],
   "source": [
    "y_2s_burnt = torch.tensor(y_2s[40000:])[:,None]"
   ]
  },
  {
   "cell_type": "code",
   "execution_count": 19,
   "id": "median-underwear",
   "metadata": {},
   "outputs": [],
   "source": [
    "ys = torch.hstack([y_1s_burnt, y_2s_burnt])"
   ]
  },
  {
   "cell_type": "code",
   "execution_count": 20,
   "id": "iraqi-insider",
   "metadata": {},
   "outputs": [],
   "source": [
    "idx = np.random.choice(960000, 10000)"
   ]
  },
  {
   "cell_type": "code",
   "execution_count": 21,
   "id": "celtic-episode",
   "metadata": {},
   "outputs": [],
   "source": [
    "samples = ys[idx]"
   ]
  },
  {
   "cell_type": "code",
   "execution_count": 353,
   "id": "generic-consortium",
   "metadata": {},
   "outputs": [
    {
     "data": {
      "text/plain": [
       "tensor([[ 0.2598,  0.4476],\n",
       "        [ 0.0157,  0.7226],\n",
       "        [-0.1969,  1.0876],\n",
       "        ...,\n",
       "        [-0.2363,  1.3607],\n",
       "        [ 0.3238,  0.2487],\n",
       "        [ 0.0725,  0.6130]], dtype=torch.float64)"
      ]
     },
     "execution_count": 353,
     "metadata": {},
     "output_type": "execute_result"
    }
   ],
   "source": [
    "samples"
   ]
  },
  {
   "cell_type": "code",
   "execution_count": 312,
   "id": "revised-message",
   "metadata": {},
   "outputs": [],
   "source": [
    "from random import sample"
   ]
  },
  {
   "cell_type": "code",
   "execution_count": 319,
   "id": "intellectual-russian",
   "metadata": {},
   "outputs": [],
   "source": [
    "samples_1 = torch.tensor(sample(y_1s[40000:], 1000))"
   ]
  },
  {
   "cell_type": "code",
   "execution_count": 320,
   "id": "wooden-bibliography",
   "metadata": {},
   "outputs": [],
   "source": [
    "samples_2 = torch.tensor(sample(y_2s[40000:], 1000))"
   ]
  },
  {
   "cell_type": "code",
   "execution_count": 325,
   "id": "reported-clothing",
   "metadata": {},
   "outputs": [],
   "source": [
    "samples = torch.hstack([samples_1[:,None], samples_2[:,None]])"
   ]
  },
  {
   "cell_type": "code",
   "execution_count": 22,
   "id": "warming-muscle",
   "metadata": {},
   "outputs": [],
   "source": [
    "def density_plot_2D(sample):\n",
    "    df = pd.DataFrame(sample.numpy())\n",
    "    df.columns =['x1', 'x2']\n",
    "    sns.displot(df, x ='x1', y='x2', kind=\"kde\")"
   ]
  },
  {
   "cell_type": "code",
   "execution_count": 23,
   "id": "romantic-gospel",
   "metadata": {},
   "outputs": [
    {
     "data": {
      "image/png": "[encoded data removed]",
      "text/plain": [
       "<Figure size 360x360 with 1 Axes>"
      ]
     },
     "metadata": {
      "needs_background": "light"
     },
     "output_type": "display_data"
    }
   ],
   "source": [
    "density_plot_2D(samples)"
   ]
  },
  {
   "cell_type": "code",
   "execution_count": 25,
   "id": "parliamentary-corporation",
   "metadata": {},
   "outputs": [],
   "source": [
    "torch.save(samples, 'data/BOD_mcmc_with_burn.pt')"
   ]
  },
  {
   "cell_type": "code",
   "execution_count": null,
   "id": "roman-storage",
   "metadata": {},
   "outputs": [],
   "source": [
    "total_mcmc = torch."
   ]
  },
  {
   "cell_type": "code",
   "execution_count": 329,
   "id": "unusual-disposal",
   "metadata": {},
   "outputs": [
    {
     "data": {
      "text/plain": [
       "tensor([[ 0.8419,  0.8773],\n",
       "        [-0.0666,  2.0116],\n",
       "        [ 0.1221,  1.9072],\n",
       "        ...,\n",
       "        [-0.3677,  0.1898],\n",
       "        [-0.3668,  0.9948],\n",
       "        [-0.2538,  1.2361]], dtype=torch.float64)"
      ]
     },
     "execution_count": 329,
     "metadata": {},
     "output_type": "execute_result"
    }
   ],
   "source": [
    "samples"
   ]
  },
  {
   "cell_type": "code",
   "execution_count": 241,
   "id": "introductory-syndicate",
   "metadata": {},
   "outputs": [
    {
     "data": {
      "text/plain": [
       "3.458910737275499"
      ]
     },
     "execution_count": 241,
     "metadata": {},
     "output_type": "execute_result"
    }
   ],
   "source": [
    "erfinv(0.999999)"
   ]
  },
  {
   "cell_type": "code",
   "execution_count": 11,
   "id": "automatic-style",
   "metadata": {},
   "outputs": [],
   "source": [
    "from scipy.special import erfinv"
   ]
  },
  {
   "cell_type": "code",
   "execution_count": 8,
   "id": "similar-convergence",
   "metadata": {},
   "outputs": [],
   "source": [
    "def get_x_1(theta_0):\n",
    "    return np.sqrt(2) * erfinv((theta_0 - 0.8)/0.4)"
   ]
  },
  {
   "cell_type": "code",
   "execution_count": 9,
   "id": "alive-innocent",
   "metadata": {},
   "outputs": [],
   "source": [
    "def get_x_2(theta_1):\n",
    "    return np.sqrt(2) * erfinv((theta_1 - 0.16)/0.15)"
   ]
  },
  {
   "cell_type": "code",
   "execution_count": 205,
   "id": "chronic-simulation",
   "metadata": {},
   "outputs": [],
   "source": [
    "probs = [np.exp(log_prob(0.5, i, y))/(np.pi**(5/2) * np.sqrt(1e-15)) for i in np.linspace(0.01, 0.31, 100000)]"
   ]
  },
  {
   "cell_type": "code",
   "execution_count": 206,
   "id": "indian-hearts",
   "metadata": {},
   "outputs": [
    {
     "data": {
      "text/plain": [
       "3.551051888136619e-05"
      ]
     },
     "execution_count": 206,
     "metadata": {},
     "output_type": "execute_result"
    }
   ],
   "source": [
    "sum(probs)"
   ]
  },
  {
   "cell_type": "code",
   "execution_count": 81,
   "id": "indian-drain",
   "metadata": {},
   "outputs": [
    {
     "data": {
      "text/plain": [
       "tensor(0.8427)"
      ]
     },
     "execution_count": 81,
     "metadata": {},
     "output_type": "execute_result"
    }
   ],
   "source": [
    "torch.erf(torch.tensor(1))"
   ]
  },
  {
   "cell_type": "code",
   "execution_count": 83,
   "id": "macro-airport",
   "metadata": {},
   "outputs": [
    {
     "ename": "TypeError",
     "evalue": "exp(): argument 'input' (position 1) must be Tensor, not int",
     "output_type": "error",
     "traceback": [
      "\u001b[0;31m---------------------------------------------------------------------------\u001b[0m",
      "\u001b[0;31mTypeError\u001b[0m                                 Traceback (most recent call last)",
      "\u001b[0;32m<ipython-input-83-95520fab66ae>\u001b[0m in \u001b[0;36m<module>\u001b[0;34m\u001b[0m\n\u001b[0;32m----> 1\u001b[0;31m \u001b[0mtorch\u001b[0m\u001b[0;34m.\u001b[0m\u001b[0mexp\u001b[0m\u001b[0;34m(\u001b[0m\u001b[0;36m1\u001b[0m\u001b[0;34m)\u001b[0m\u001b[0;34m\u001b[0m\u001b[0;34m\u001b[0m\u001b[0m\n\u001b[0m",
      "\u001b[0;31mTypeError\u001b[0m: exp(): argument 'input' (position 1) must be Tensor, not int"
     ]
    }
   ],
   "source": [
    "torch.exp(1)"
   ]
  },
  {
   "cell_type": "code",
   "execution_count": 105,
   "id": "republican-drawing",
   "metadata": {},
   "outputs": [
    {
     "data": {
      "text/plain": [
       "[tensor(1.6162e-05, dtype=torch.float64),\n",
       " tensor(4.8160e-05, dtype=torch.float64),\n",
       " tensor(0.0003, dtype=torch.float64),\n",
       " tensor(0.0012, dtype=torch.float64),\n",
       " tensor(0.0026, dtype=torch.float64)]"
      ]
     },
     "execution_count": 105,
     "metadata": {},
     "output_type": "execute_result"
    }
   ],
   "source": [
    "[(theta_0 * (1-torch.exp(-theta_1*(i+1))) - y[i])**2 for i in range(5)]"
   ]
  },
  {
   "cell_type": "code",
   "execution_count": 109,
   "id": "durable-complaint",
   "metadata": {},
   "outputs": [
    {
     "data": {
      "text/plain": [
       "-2.1668712146418936"
      ]
     },
     "execution_count": 109,
     "metadata": {},
     "output_type": "execute_result"
    }
   ],
   "source": [
    "np.random.randn()"
   ]
  },
  {
   "cell_type": "code",
   "execution_count": 111,
   "id": "raising-award",
   "metadata": {},
   "outputs": [
    {
     "data": {
      "text/plain": [
       "0.5"
      ]
     },
     "execution_count": 111,
     "metadata": {},
     "output_type": "execute_result"
    }
   ],
   "source": [
    "min(1,2,0.5)"
   ]
  },
  {
   "cell_type": "code",
   "execution_count": 112,
   "id": "dedicated-visit",
   "metadata": {},
   "outputs": [
    {
     "data": {
      "text/plain": [
       "2.718281828459045"
      ]
     },
     "execution_count": 112,
     "metadata": {},
     "output_type": "execute_result"
    }
   ],
   "source": [
    "np.exp(1)"
   ]
  },
  {
   "cell_type": "code",
   "execution_count": 114,
   "id": "specific-ocean",
   "metadata": {},
   "outputs": [
    {
     "data": {
      "text/plain": [
       "0.48972045751201987"
      ]
     },
     "execution_count": 114,
     "metadata": {},
     "output_type": "execute_result"
    }
   ],
   "source": [
    "np.random.rand()"
   ]
  },
  {
   "cell_type": "code",
   "execution_count": 31,
   "id": "corrected-jonathan",
   "metadata": {},
   "outputs": [],
   "source": []
  },
  {
   "cell_type": "code",
   "execution_count": 29,
   "id": "neutral-hypothetical",
   "metadata": {},
   "outputs": [
    {
     "data": {
      "text/plain": [
       "0.0"
      ]
     },
     "execution_count": 29,
     "metadata": {},
     "output_type": "execute_result"
    }
   ],
   "source": []
  },
  {
   "cell_type": "code",
   "execution_count": null,
   "id": "matched-bridge",
   "metadata": {},
   "outputs": [],
   "source": []
  },
  {
   "cell_type": "code",
   "execution_count": null,
   "id": "dependent-wrestling",
   "metadata": {},
   "outputs": [],
   "source": []
  },
  {
   "cell_type": "code",
   "execution_count": 25,
   "id": "formed-clause",
   "metadata": {},
   "outputs": [
    {
     "data": {
      "text/plain": [
       "[tensor(0.4000),\n",
       " tensor(0.4000),\n",
       " tensor(0.4000),\n",
       " tensor(0.4000),\n",
       " tensor(0.4000),\n",
       " tensor(0.4000),\n",
       " tensor(0.4000),\n",
       " tensor(0.4000),\n",
       " tensor(0.4000),\n",
       " tensor(0.4000),\n",
       " tensor(0.4000),\n",
       " tensor(0.4000),\n",
       " tensor(0.4000),\n",
       " tensor(0.4000),\n",
       " tensor(0.4000),\n",
       " tensor(0.4000),\n",
       " tensor(0.4000),\n",
       " tensor(0.4000),\n",
       " tensor(0.4000),\n",
       " tensor(0.4000),\n",
       " tensor(0.4000),\n",
       " tensor(0.4001),\n",
       " tensor(0.4001),\n",
       " tensor(0.4001),\n",
       " tensor(0.4001),\n",
       " tensor(0.4001),\n",
       " tensor(0.4001),\n",
       " tensor(0.4001),\n",
       " tensor(0.4001),\n",
       " tensor(0.4001),\n",
       " tensor(0.4001),\n",
       " tensor(0.4001),\n",
       " tensor(0.4001),\n",
       " tensor(0.4001),\n",
       " tensor(0.4001),\n",
       " tensor(0.4001),\n",
       " tensor(0.4001),\n",
       " tensor(0.4001),\n",
       " tensor(0.4001),\n",
       " tensor(0.4001),\n",
       " tensor(0.4001),\n",
       " tensor(0.4001),\n",
       " tensor(0.4001),\n",
       " tensor(0.4001),\n",
       " tensor(0.4001),\n",
       " tensor(0.4001),\n",
       " tensor(0.4001),\n",
       " tensor(0.4001),\n",
       " tensor(0.4001),\n",
       " tensor(0.4001),\n",
       " tensor(0.4001),\n",
       " tensor(0.4001),\n",
       " tensor(0.4001),\n",
       " tensor(0.4001),\n",
       " tensor(0.4001),\n",
       " tensor(0.4001),\n",
       " tensor(0.4002),\n",
       " tensor(0.4002),\n",
       " tensor(0.4002),\n",
       " tensor(0.4002),\n",
       " tensor(0.4002),\n",
       " tensor(0.4002),\n",
       " tensor(0.4002),\n",
       " tensor(0.4002),\n",
       " tensor(0.4002),\n",
       " tensor(0.4002),\n",
       " tensor(0.4002),\n",
       " tensor(0.4002),\n",
       " tensor(0.4002),\n",
       " tensor(0.4002),\n",
       " tensor(0.4002),\n",
       " tensor(0.4002),\n",
       " tensor(0.4002),\n",
       " tensor(0.4003),\n",
       " tensor(0.4003),\n",
       " tensor(0.4003),\n",
       " tensor(0.4003),\n",
       " tensor(0.4003),\n",
       " tensor(0.4003),\n",
       " tensor(0.4003),\n",
       " tensor(0.4003),\n",
       " tensor(0.4003),\n",
       " tensor(0.4003),\n",
       " tensor(0.4003),\n",
       " tensor(0.4004),\n",
       " tensor(0.4004),\n",
       " tensor(0.4004),\n",
       " tensor(0.4004),\n",
       " tensor(0.4004),\n",
       " tensor(0.4004),\n",
       " tensor(0.4004),\n",
       " tensor(0.4004),\n",
       " tensor(0.4004),\n",
       " tensor(0.4005),\n",
       " tensor(0.4005),\n",
       " tensor(0.4005),\n",
       " tensor(0.4005),\n",
       " tensor(0.4005),\n",
       " tensor(0.4005),\n",
       " tensor(0.4005),\n",
       " tensor(0.4006),\n",
       " tensor(0.4006),\n",
       " tensor(0.4006),\n",
       " tensor(0.4006),\n",
       " tensor(0.4006),\n",
       " tensor(0.4006),\n",
       " tensor(0.4007),\n",
       " tensor(0.4007),\n",
       " tensor(0.4007),\n",
       " tensor(0.4007),\n",
       " tensor(0.4007),\n",
       " tensor(0.4007),\n",
       " tensor(0.4008),\n",
       " tensor(0.4008),\n",
       " tensor(0.4008),\n",
       " tensor(0.4008),\n",
       " tensor(0.4009),\n",
       " tensor(0.4009),\n",
       " tensor(0.4009),\n",
       " tensor(0.4009),\n",
       " tensor(0.4009),\n",
       " tensor(0.4010),\n",
       " tensor(0.4010),\n",
       " tensor(0.4010),\n",
       " tensor(0.4011),\n",
       " tensor(0.4011),\n",
       " tensor(0.4011),\n",
       " tensor(0.4011),\n",
       " tensor(0.4012),\n",
       " tensor(0.4012),\n",
       " tensor(0.4012),\n",
       " tensor(0.4013),\n",
       " tensor(0.4013),\n",
       " tensor(0.4013),\n",
       " tensor(0.4014),\n",
       " tensor(0.4014),\n",
       " tensor(0.4014),\n",
       " tensor(0.4015),\n",
       " tensor(0.4015),\n",
       " tensor(0.4016),\n",
       " tensor(0.4016),\n",
       " tensor(0.4016),\n",
       " tensor(0.4017),\n",
       " tensor(0.4017),\n",
       " tensor(0.4018),\n",
       " tensor(0.4018),\n",
       " tensor(0.4019),\n",
       " tensor(0.4019),\n",
       " tensor(0.4020),\n",
       " tensor(0.4020),\n",
       " tensor(0.4021),\n",
       " tensor(0.4021),\n",
       " tensor(0.4022),\n",
       " tensor(0.4022),\n",
       " tensor(0.4023),\n",
       " tensor(0.4023),\n",
       " tensor(0.4024),\n",
       " tensor(0.4024),\n",
       " tensor(0.4025),\n",
       " tensor(0.4026),\n",
       " tensor(0.4026),\n",
       " tensor(0.4027),\n",
       " tensor(0.4028),\n",
       " tensor(0.4028),\n",
       " tensor(0.4029),\n",
       " tensor(0.4030),\n",
       " tensor(0.4030),\n",
       " tensor(0.4031),\n",
       " tensor(0.4032),\n",
       " tensor(0.4033),\n",
       " tensor(0.4033),\n",
       " tensor(0.4034),\n",
       " tensor(0.4035),\n",
       " tensor(0.4036),\n",
       " tensor(0.4037),\n",
       " tensor(0.4037),\n",
       " tensor(0.4038),\n",
       " tensor(0.4039),\n",
       " tensor(0.4040),\n",
       " tensor(0.4041),\n",
       " tensor(0.4042),\n",
       " tensor(0.4043),\n",
       " tensor(0.4044),\n",
       " tensor(0.4045),\n",
       " tensor(0.4046),\n",
       " tensor(0.4047),\n",
       " tensor(0.4048),\n",
       " tensor(0.4049),\n",
       " tensor(0.4050),\n",
       " tensor(0.4052),\n",
       " tensor(0.4053),\n",
       " tensor(0.4054),\n",
       " tensor(0.4055),\n",
       " tensor(0.4056),\n",
       " tensor(0.4058),\n",
       " tensor(0.4059),\n",
       " tensor(0.4060),\n",
       " tensor(0.4062),\n",
       " tensor(0.4063),\n",
       " tensor(0.4064),\n",
       " tensor(0.4066),\n",
       " tensor(0.4067),\n",
       " tensor(0.4069),\n",
       " tensor(0.4070),\n",
       " tensor(0.4072),\n",
       " tensor(0.4073),\n",
       " tensor(0.4075),\n",
       " tensor(0.4077),\n",
       " tensor(0.4078),\n",
       " tensor(0.4080),\n",
       " tensor(0.4082),\n",
       " tensor(0.4083),\n",
       " tensor(0.4085),\n",
       " tensor(0.4087),\n",
       " tensor(0.4089),\n",
       " tensor(0.4091),\n",
       " tensor(0.4093),\n",
       " tensor(0.4095),\n",
       " tensor(0.4097),\n",
       " tensor(0.4099),\n",
       " tensor(0.4101),\n",
       " tensor(0.4103),\n",
       " tensor(0.4105),\n",
       " tensor(0.4107),\n",
       " tensor(0.4109),\n",
       " tensor(0.4112),\n",
       " tensor(0.4114),\n",
       " tensor(0.4116),\n",
       " tensor(0.4119),\n",
       " tensor(0.4121),\n",
       " tensor(0.4124),\n",
       " tensor(0.4126),\n",
       " tensor(0.4129),\n",
       " tensor(0.4131),\n",
       " tensor(0.4134),\n",
       " tensor(0.4137),\n",
       " tensor(0.4139),\n",
       " tensor(0.4142),\n",
       " tensor(0.4145),\n",
       " tensor(0.4148),\n",
       " tensor(0.4151),\n",
       " tensor(0.4154),\n",
       " tensor(0.4157),\n",
       " tensor(0.4160),\n",
       " tensor(0.4163),\n",
       " tensor(0.4166),\n",
       " tensor(0.4169),\n",
       " tensor(0.4173),\n",
       " tensor(0.4176),\n",
       " tensor(0.4179),\n",
       " tensor(0.4183),\n",
       " tensor(0.4186),\n",
       " tensor(0.4190),\n",
       " tensor(0.4194),\n",
       " tensor(0.4197),\n",
       " tensor(0.4201),\n",
       " tensor(0.4205),\n",
       " tensor(0.4209),\n",
       " tensor(0.4212),\n",
       " tensor(0.4216),\n",
       " tensor(0.4220),\n",
       " tensor(0.4225),\n",
       " tensor(0.4229),\n",
       " tensor(0.4233),\n",
       " tensor(0.4237),\n",
       " tensor(0.4242),\n",
       " tensor(0.4246),\n",
       " tensor(0.4250),\n",
       " tensor(0.4255),\n",
       " tensor(0.4260),\n",
       " tensor(0.4264),\n",
       " tensor(0.4269),\n",
       " tensor(0.4274),\n",
       " tensor(0.4279),\n",
       " tensor(0.4284),\n",
       " tensor(0.4289),\n",
       " tensor(0.4294),\n",
       " tensor(0.4299),\n",
       " tensor(0.4304),\n",
       " tensor(0.4310),\n",
       " tensor(0.4315),\n",
       " tensor(0.4321),\n",
       " tensor(0.4326),\n",
       " tensor(0.4332),\n",
       " tensor(0.4338),\n",
       " tensor(0.4343),\n",
       " tensor(0.4349),\n",
       " tensor(0.4355),\n",
       " tensor(0.4361),\n",
       " tensor(0.4367),\n",
       " tensor(0.4374),\n",
       " tensor(0.4380),\n",
       " tensor(0.4386),\n",
       " tensor(0.4393),\n",
       " tensor(0.4399),\n",
       " tensor(0.4406),\n",
       " tensor(0.4413),\n",
       " tensor(0.4420),\n",
       " tensor(0.4426),\n",
       " tensor(0.4433),\n",
       " tensor(0.4441),\n",
       " tensor(0.4448),\n",
       " tensor(0.4455),\n",
       " tensor(0.4462),\n",
       " tensor(0.4470),\n",
       " tensor(0.4477),\n",
       " tensor(0.4485),\n",
       " tensor(0.4493),\n",
       " tensor(0.4501),\n",
       " tensor(0.4509),\n",
       " tensor(0.4517),\n",
       " tensor(0.4525),\n",
       " tensor(0.4533),\n",
       " tensor(0.4541),\n",
       " tensor(0.4550),\n",
       " tensor(0.4558),\n",
       " tensor(0.4567),\n",
       " tensor(0.4576),\n",
       " tensor(0.4584),\n",
       " tensor(0.4593),\n",
       " tensor(0.4602),\n",
       " tensor(0.4612),\n",
       " tensor(0.4621),\n",
       " tensor(0.4630),\n",
       " tensor(0.4640),\n",
       " tensor(0.4649),\n",
       " tensor(0.4659),\n",
       " tensor(0.4669),\n",
       " tensor(0.4679),\n",
       " tensor(0.4689),\n",
       " tensor(0.4699),\n",
       " tensor(0.4709),\n",
       " tensor(0.4719),\n",
       " tensor(0.4730),\n",
       " tensor(0.4740),\n",
       " tensor(0.4751),\n",
       " tensor(0.4762),\n",
       " tensor(0.4773),\n",
       " tensor(0.4784),\n",
       " tensor(0.4795),\n",
       " tensor(0.4806),\n",
       " tensor(0.4817),\n",
       " tensor(0.4829),\n",
       " tensor(0.4840),\n",
       " tensor(0.4852),\n",
       " tensor(0.4864),\n",
       " tensor(0.4876),\n",
       " tensor(0.4888),\n",
       " tensor(0.4900),\n",
       " tensor(0.4912),\n",
       " tensor(0.4925),\n",
       " tensor(0.4937),\n",
       " tensor(0.4950),\n",
       " tensor(0.4963),\n",
       " tensor(0.4976),\n",
       " tensor(0.4989),\n",
       " tensor(0.5002),\n",
       " tensor(0.5015),\n",
       " tensor(0.5029),\n",
       " tensor(0.5042),\n",
       " tensor(0.5056),\n",
       " tensor(0.5070),\n",
       " tensor(0.5083),\n",
       " tensor(0.5097),\n",
       " tensor(0.5112),\n",
       " tensor(0.5126),\n",
       " tensor(0.5140),\n",
       " tensor(0.5155),\n",
       " tensor(0.5169),\n",
       " tensor(0.5184),\n",
       " tensor(0.5199),\n",
       " tensor(0.5214),\n",
       " tensor(0.5229),\n",
       " tensor(0.5244),\n",
       " tensor(0.5260),\n",
       " tensor(0.5275),\n",
       " tensor(0.5291),\n",
       " tensor(0.5306),\n",
       " tensor(0.5322),\n",
       " tensor(0.5338),\n",
       " tensor(0.5354),\n",
       " tensor(0.5371),\n",
       " tensor(0.5387),\n",
       " tensor(0.5403),\n",
       " tensor(0.5420),\n",
       " tensor(0.5437),\n",
       " tensor(0.5454),\n",
       " tensor(0.5471),\n",
       " tensor(0.5488),\n",
       " tensor(0.5505),\n",
       " tensor(0.5522),\n",
       " tensor(0.5540),\n",
       " tensor(0.5557),\n",
       " tensor(0.5575),\n",
       " tensor(0.5593),\n",
       " tensor(0.5611),\n",
       " tensor(0.5629),\n",
       " tensor(0.5647),\n",
       " tensor(0.5665),\n",
       " tensor(0.5684),\n",
       " tensor(0.5702),\n",
       " tensor(0.5721),\n",
       " tensor(0.5740),\n",
       " tensor(0.5759),\n",
       " tensor(0.5778),\n",
       " tensor(0.5797),\n",
       " tensor(0.5816),\n",
       " tensor(0.5835),\n",
       " tensor(0.5855),\n",
       " tensor(0.5874),\n",
       " tensor(0.5894),\n",
       " tensor(0.5914),\n",
       " tensor(0.5934),\n",
       " tensor(0.5954),\n",
       " tensor(0.5974),\n",
       " tensor(0.5994),\n",
       " tensor(0.6015),\n",
       " tensor(0.6035),\n",
       " tensor(0.6056),\n",
       " tensor(0.6077),\n",
       " tensor(0.6097),\n",
       " tensor(0.6118),\n",
       " tensor(0.6139),\n",
       " tensor(0.6161),\n",
       " tensor(0.6182),\n",
       " tensor(0.6203),\n",
       " tensor(0.6225),\n",
       " tensor(0.6246),\n",
       " tensor(0.6268),\n",
       " tensor(0.6289),\n",
       " tensor(0.6311),\n",
       " tensor(0.6333),\n",
       " tensor(0.6355),\n",
       " tensor(0.6377),\n",
       " tensor(0.6400),\n",
       " tensor(0.6422),\n",
       " tensor(0.6444),\n",
       " tensor(0.6467),\n",
       " tensor(0.6489),\n",
       " tensor(0.6512),\n",
       " tensor(0.6535),\n",
       " tensor(0.6558),\n",
       " tensor(0.6581),\n",
       " tensor(0.6604),\n",
       " tensor(0.6627),\n",
       " tensor(0.6650),\n",
       " tensor(0.6673),\n",
       " tensor(0.6697),\n",
       " tensor(0.6720),\n",
       " tensor(0.6744),\n",
       " tensor(0.6767),\n",
       " tensor(0.6791),\n",
       " tensor(0.6815),\n",
       " tensor(0.6838),\n",
       " tensor(0.6862),\n",
       " tensor(0.6886),\n",
       " tensor(0.6910),\n",
       " tensor(0.6934),\n",
       " tensor(0.6959),\n",
       " tensor(0.6983),\n",
       " tensor(0.7007),\n",
       " tensor(0.7031),\n",
       " tensor(0.7056),\n",
       " tensor(0.7080),\n",
       " tensor(0.7105),\n",
       " tensor(0.7129),\n",
       " tensor(0.7154),\n",
       " tensor(0.7179),\n",
       " tensor(0.7203),\n",
       " tensor(0.7228),\n",
       " tensor(0.7253),\n",
       " tensor(0.7278),\n",
       " tensor(0.7303),\n",
       " tensor(0.7328),\n",
       " tensor(0.7353),\n",
       " tensor(0.7378),\n",
       " tensor(0.7403),\n",
       " tensor(0.7428),\n",
       " tensor(0.7453),\n",
       " tensor(0.7478),\n",
       " tensor(0.7504),\n",
       " tensor(0.7529),\n",
       " tensor(0.7554),\n",
       " tensor(0.7580),\n",
       " tensor(0.7605),\n",
       " tensor(0.7630),\n",
       " tensor(0.7656),\n",
       " tensor(0.7681),\n",
       " tensor(0.7706),\n",
       " tensor(0.7732),\n",
       " tensor(0.7757),\n",
       " tensor(0.7783),\n",
       " tensor(0.7808),\n",
       " tensor(0.7834),\n",
       " tensor(0.7859),\n",
       " tensor(0.7885),\n",
       " tensor(0.7911),\n",
       " tensor(0.7936),\n",
       " tensor(0.7962),\n",
       " tensor(0.7987),\n",
       " tensor(0.8013),\n",
       " tensor(0.8038),\n",
       " tensor(0.8064),\n",
       " tensor(0.8089),\n",
       " tensor(0.8115),\n",
       " tensor(0.8141),\n",
       " tensor(0.8166),\n",
       " tensor(0.8192),\n",
       " tensor(0.8217),\n",
       " tensor(0.8243),\n",
       " tensor(0.8268),\n",
       " tensor(0.8294),\n",
       " tensor(0.8319),\n",
       " tensor(0.8344),\n",
       " tensor(0.8370),\n",
       " tensor(0.8395),\n",
       " tensor(0.8420),\n",
       " tensor(0.8446),\n",
       " tensor(0.8471),\n",
       " tensor(0.8496),\n",
       " tensor(0.8522),\n",
       " tensor(0.8547),\n",
       " tensor(0.8572),\n",
       " tensor(0.8597),\n",
       " tensor(0.8622),\n",
       " tensor(0.8647),\n",
       " tensor(0.8672),\n",
       " tensor(0.8697),\n",
       " tensor(0.8722),\n",
       " tensor(0.8747),\n",
       " tensor(0.8772),\n",
       " tensor(0.8797),\n",
       " tensor(0.8821),\n",
       " tensor(0.8846),\n",
       " tensor(0.8871),\n",
       " tensor(0.8895),\n",
       " tensor(0.8920),\n",
       " tensor(0.8944),\n",
       " tensor(0.8969),\n",
       " tensor(0.8993),\n",
       " tensor(0.9017),\n",
       " tensor(0.9041),\n",
       " tensor(0.9066),\n",
       " tensor(0.9090),\n",
       " tensor(0.9114),\n",
       " tensor(0.9138),\n",
       " tensor(0.9162),\n",
       " tensor(0.9185),\n",
       " tensor(0.9209),\n",
       " tensor(0.9233),\n",
       " tensor(0.9256),\n",
       " tensor(0.9280),\n",
       " tensor(0.9303),\n",
       " tensor(0.9327),\n",
       " tensor(0.9350),\n",
       " tensor(0.9373),\n",
       " tensor(0.9396),\n",
       " tensor(0.9419),\n",
       " tensor(0.9442),\n",
       " tensor(0.9465),\n",
       " tensor(0.9488),\n",
       " tensor(0.9511),\n",
       " tensor(0.9533),\n",
       " tensor(0.9556),\n",
       " tensor(0.9578),\n",
       " tensor(0.9600),\n",
       " tensor(0.9623),\n",
       " tensor(0.9645),\n",
       " tensor(0.9667),\n",
       " tensor(0.9689),\n",
       " tensor(0.9711),\n",
       " tensor(0.9732),\n",
       " tensor(0.9754),\n",
       " tensor(0.9775),\n",
       " tensor(0.9797),\n",
       " tensor(0.9818),\n",
       " tensor(0.9839),\n",
       " tensor(0.9861),\n",
       " tensor(0.9882),\n",
       " tensor(0.9903),\n",
       " tensor(0.9923),\n",
       " tensor(0.9944),\n",
       " tensor(0.9965),\n",
       " tensor(0.9985),\n",
       " tensor(1.0006),\n",
       " tensor(1.0026),\n",
       " tensor(1.0046),\n",
       " tensor(1.0066),\n",
       " tensor(1.0086),\n",
       " tensor(1.0106),\n",
       " tensor(1.0126),\n",
       " tensor(1.0145),\n",
       " tensor(1.0165),\n",
       " tensor(1.0184),\n",
       " tensor(1.0203),\n",
       " tensor(1.0222),\n",
       " tensor(1.0241),\n",
       " tensor(1.0260),\n",
       " tensor(1.0279),\n",
       " tensor(1.0298),\n",
       " tensor(1.0316),\n",
       " tensor(1.0335),\n",
       " tensor(1.0353),\n",
       " tensor(1.0371),\n",
       " tensor(1.0389),\n",
       " tensor(1.0407),\n",
       " tensor(1.0425),\n",
       " tensor(1.0443),\n",
       " tensor(1.0460),\n",
       " tensor(1.0478),\n",
       " tensor(1.0495),\n",
       " tensor(1.0512),\n",
       " tensor(1.0529),\n",
       " tensor(1.0546),\n",
       " tensor(1.0563),\n",
       " tensor(1.0580),\n",
       " tensor(1.0597),\n",
       " tensor(1.0613),\n",
       " tensor(1.0629),\n",
       " tensor(1.0646),\n",
       " tensor(1.0662),\n",
       " tensor(1.0678),\n",
       " tensor(1.0694),\n",
       " tensor(1.0709),\n",
       " tensor(1.0725),\n",
       " tensor(1.0740),\n",
       " tensor(1.0756),\n",
       " tensor(1.0771),\n",
       " tensor(1.0786),\n",
       " tensor(1.0801),\n",
       " tensor(1.0816),\n",
       " tensor(1.0831),\n",
       " tensor(1.0845),\n",
       " tensor(1.0860),\n",
       " tensor(1.0874),\n",
       " tensor(1.0888),\n",
       " tensor(1.0903),\n",
       " tensor(1.0917),\n",
       " tensor(1.0930),\n",
       " tensor(1.0944),\n",
       " tensor(1.0958),\n",
       " tensor(1.0971),\n",
       " tensor(1.0985),\n",
       " tensor(1.0998),\n",
       " tensor(1.1011),\n",
       " tensor(1.1024),\n",
       " tensor(1.1037),\n",
       " tensor(1.1050),\n",
       " tensor(1.1063),\n",
       " tensor(1.1075),\n",
       " tensor(1.1088),\n",
       " tensor(1.1100),\n",
       " tensor(1.1112),\n",
       " tensor(1.1124),\n",
       " tensor(1.1136),\n",
       " tensor(1.1148),\n",
       " tensor(1.1160),\n",
       " tensor(1.1171),\n",
       " tensor(1.1183),\n",
       " tensor(1.1194),\n",
       " tensor(1.1205),\n",
       " tensor(1.1216),\n",
       " tensor(1.1227),\n",
       " tensor(1.1238),\n",
       " tensor(1.1249),\n",
       " tensor(1.1260),\n",
       " tensor(1.1270),\n",
       " tensor(1.1281),\n",
       " tensor(1.1291),\n",
       " tensor(1.1301),\n",
       " tensor(1.1311),\n",
       " tensor(1.1321),\n",
       " tensor(1.1331),\n",
       " tensor(1.1341),\n",
       " tensor(1.1351),\n",
       " tensor(1.1360),\n",
       " tensor(1.1370),\n",
       " tensor(1.1379),\n",
       " tensor(1.1388),\n",
       " tensor(1.1398),\n",
       " tensor(1.1407),\n",
       " tensor(1.1416),\n",
       " tensor(1.1424),\n",
       " tensor(1.1433),\n",
       " tensor(1.1442),\n",
       " tensor(1.1450),\n",
       " tensor(1.1459),\n",
       " tensor(1.1467),\n",
       " tensor(1.1475),\n",
       " tensor(1.1483),\n",
       " tensor(1.1491),\n",
       " tensor(1.1499),\n",
       " tensor(1.1507),\n",
       " tensor(1.1515),\n",
       " tensor(1.1523),\n",
       " tensor(1.1530),\n",
       " tensor(1.1538),\n",
       " tensor(1.1545),\n",
       " tensor(1.1552),\n",
       " tensor(1.1559),\n",
       " tensor(1.1567),\n",
       " tensor(1.1574),\n",
       " tensor(1.1580),\n",
       " tensor(1.1587),\n",
       " tensor(1.1594),\n",
       " tensor(1.1601),\n",
       " tensor(1.1607),\n",
       " tensor(1.1614),\n",
       " tensor(1.1620),\n",
       " tensor(1.1626),\n",
       " tensor(1.1633),\n",
       " tensor(1.1639),\n",
       " tensor(1.1645),\n",
       " tensor(1.1651),\n",
       " tensor(1.1657),\n",
       " tensor(1.1662),\n",
       " tensor(1.1668),\n",
       " tensor(1.1674),\n",
       " tensor(1.1679),\n",
       " tensor(1.1685),\n",
       " tensor(1.1690),\n",
       " tensor(1.1696),\n",
       " tensor(1.1701),\n",
       " tensor(1.1706),\n",
       " tensor(1.1711),\n",
       " tensor(1.1716),\n",
       " tensor(1.1721),\n",
       " tensor(1.1726),\n",
       " tensor(1.1731),\n",
       " tensor(1.1736),\n",
       " tensor(1.1740),\n",
       " tensor(1.1745),\n",
       " tensor(1.1750),\n",
       " tensor(1.1754),\n",
       " tensor(1.1758),\n",
       " tensor(1.1763),\n",
       " tensor(1.1767),\n",
       " tensor(1.1771),\n",
       " tensor(1.1775),\n",
       " tensor(1.1780),\n",
       " tensor(1.1784),\n",
       " tensor(1.1788),\n",
       " tensor(1.1791),\n",
       " tensor(1.1795),\n",
       " tensor(1.1799),\n",
       " tensor(1.1803),\n",
       " tensor(1.1806),\n",
       " tensor(1.1810),\n",
       " tensor(1.1814),\n",
       " tensor(1.1817),\n",
       " tensor(1.1821),\n",
       " tensor(1.1824),\n",
       " tensor(1.1827),\n",
       " tensor(1.1831),\n",
       " tensor(1.1834),\n",
       " tensor(1.1837),\n",
       " tensor(1.1840),\n",
       " tensor(1.1843),\n",
       " tensor(1.1846),\n",
       " tensor(1.1849),\n",
       " tensor(1.1852),\n",
       " tensor(1.1855),\n",
       " tensor(1.1858),\n",
       " tensor(1.1861),\n",
       " tensor(1.1863),\n",
       " tensor(1.1866),\n",
       " tensor(1.1869),\n",
       " tensor(1.1871),\n",
       " tensor(1.1874),\n",
       " tensor(1.1876),\n",
       " tensor(1.1879),\n",
       " tensor(1.1881),\n",
       " tensor(1.1884),\n",
       " tensor(1.1886),\n",
       " tensor(1.1888),\n",
       " tensor(1.1891),\n",
       " tensor(1.1893),\n",
       " tensor(1.1895),\n",
       " tensor(1.1897),\n",
       " tensor(1.1899),\n",
       " tensor(1.1901),\n",
       " tensor(1.1903),\n",
       " tensor(1.1905),\n",
       " tensor(1.1907),\n",
       " tensor(1.1909),\n",
       " tensor(1.1911),\n",
       " tensor(1.1913),\n",
       " tensor(1.1915),\n",
       " tensor(1.1917),\n",
       " tensor(1.1918),\n",
       " tensor(1.1920),\n",
       " tensor(1.1922),\n",
       " tensor(1.1923),\n",
       " tensor(1.1925),\n",
       " tensor(1.1927),\n",
       " tensor(1.1928),\n",
       " tensor(1.1930),\n",
       " tensor(1.1931),\n",
       " tensor(1.1933),\n",
       " tensor(1.1934),\n",
       " tensor(1.1936),\n",
       " tensor(1.1937),\n",
       " tensor(1.1938),\n",
       " tensor(1.1940),\n",
       " tensor(1.1941),\n",
       " tensor(1.1942),\n",
       " tensor(1.1944),\n",
       " tensor(1.1945),\n",
       " tensor(1.1946),\n",
       " tensor(1.1947),\n",
       " tensor(1.1948),\n",
       " tensor(1.1950),\n",
       " tensor(1.1951),\n",
       " tensor(1.1952),\n",
       " tensor(1.1953),\n",
       " tensor(1.1954),\n",
       " tensor(1.1955),\n",
       " tensor(1.1956),\n",
       " tensor(1.1957),\n",
       " tensor(1.1958),\n",
       " tensor(1.1959),\n",
       " tensor(1.1960),\n",
       " tensor(1.1961),\n",
       " tensor(1.1962),\n",
       " tensor(1.1963),\n",
       " tensor(1.1963),\n",
       " tensor(1.1964),\n",
       " tensor(1.1965),\n",
       " tensor(1.1966),\n",
       " tensor(1.1967),\n",
       " tensor(1.1967),\n",
       " tensor(1.1968),\n",
       " tensor(1.1969),\n",
       " tensor(1.1970),\n",
       " tensor(1.1970),\n",
       " tensor(1.1971),\n",
       " tensor(1.1972),\n",
       " tensor(1.1972),\n",
       " tensor(1.1973),\n",
       " tensor(1.1974),\n",
       " tensor(1.1974),\n",
       " tensor(1.1975),\n",
       " tensor(1.1976),\n",
       " tensor(1.1976),\n",
       " tensor(1.1977),\n",
       " tensor(1.1977),\n",
       " tensor(1.1978),\n",
       " tensor(1.1978),\n",
       " tensor(1.1979),\n",
       " tensor(1.1979),\n",
       " tensor(1.1980),\n",
       " tensor(1.1980),\n",
       " tensor(1.1981),\n",
       " tensor(1.1981),\n",
       " tensor(1.1982),\n",
       " tensor(1.1982),\n",
       " tensor(1.1983),\n",
       " tensor(1.1983),\n",
       " tensor(1.1984),\n",
       " tensor(1.1984),\n",
       " tensor(1.1984),\n",
       " tensor(1.1985),\n",
       " tensor(1.1985),\n",
       " tensor(1.1986),\n",
       " tensor(1.1986),\n",
       " tensor(1.1986),\n",
       " tensor(1.1987),\n",
       " tensor(1.1987),\n",
       " tensor(1.1987),\n",
       " tensor(1.1988),\n",
       " tensor(1.1988),\n",
       " tensor(1.1988),\n",
       " tensor(1.1989),\n",
       " tensor(1.1989),\n",
       " tensor(1.1989),\n",
       " tensor(1.1989),\n",
       " tensor(1.1990),\n",
       " tensor(1.1990),\n",
       " tensor(1.1990),\n",
       " tensor(1.1991),\n",
       " tensor(1.1991),\n",
       " tensor(1.1991),\n",
       " tensor(1.1991),\n",
       " tensor(1.1991),\n",
       " tensor(1.1992),\n",
       " tensor(1.1992),\n",
       " tensor(1.1992),\n",
       " tensor(1.1992),\n",
       " tensor(1.1993),\n",
       " tensor(1.1993),\n",
       " tensor(1.1993),\n",
       " tensor(1.1993),\n",
       " tensor(1.1993),\n",
       " tensor(1.1993),\n",
       " tensor(1.1994),\n",
       " tensor(1.1994),\n",
       " tensor(1.1994),\n",
       " tensor(1.1994),\n",
       " tensor(1.1994),\n",
       " tensor(1.1994),\n",
       " tensor(1.1995),\n",
       " tensor(1.1995),\n",
       " tensor(1.1995),\n",
       " tensor(1.1995),\n",
       " tensor(1.1995),\n",
       " tensor(1.1995),\n",
       " tensor(1.1995),\n",
       " tensor(1.1996),\n",
       " tensor(1.1996),\n",
       " tensor(1.1996),\n",
       " tensor(1.1996),\n",
       " tensor(1.1996),\n",
       " tensor(1.1996),\n",
       " tensor(1.1996),\n",
       " tensor(1.1996),\n",
       " tensor(1.1996),\n",
       " tensor(1.1997),\n",
       " tensor(1.1997),\n",
       " tensor(1.1997),\n",
       " tensor(1.1997),\n",
       " tensor(1.1997),\n",
       " tensor(1.1997),\n",
       " tensor(1.1997),\n",
       " tensor(1.1997),\n",
       " tensor(1.1997),\n",
       " tensor(1.1997),\n",
       " tensor(1.1997),\n",
       " tensor(1.1998),\n",
       " tensor(1.1998),\n",
       " tensor(1.1998),\n",
       " tensor(1.1998),\n",
       " tensor(1.1998),\n",
       " tensor(1.1998),\n",
       " tensor(1.1998),\n",
       " tensor(1.1998),\n",
       " tensor(1.1998),\n",
       " tensor(1.1998),\n",
       " tensor(1.1998),\n",
       " tensor(1.1998),\n",
       " tensor(1.1998),\n",
       " tensor(1.1998),\n",
       " tensor(1.1998),\n",
       " tensor(1.1998),\n",
       " tensor(1.1998),\n",
       " tensor(1.1999),\n",
       " tensor(1.1999),\n",
       " tensor(1.1999),\n",
       " tensor(1.1999),\n",
       " tensor(1.1999),\n",
       " tensor(1.1999),\n",
       " tensor(1.1999),\n",
       " tensor(1.1999),\n",
       " tensor(1.1999),\n",
       " tensor(1.1999),\n",
       " tensor(1.1999),\n",
       " tensor(1.1999),\n",
       " tensor(1.1999),\n",
       " tensor(1.1999),\n",
       " tensor(1.1999),\n",
       " tensor(1.1999),\n",
       " tensor(1.1999),\n",
       " tensor(1.1999),\n",
       " tensor(1.1999),\n",
       " tensor(1.1999),\n",
       " tensor(1.1999),\n",
       " tensor(1.1999),\n",
       " tensor(1.1999),\n",
       " tensor(1.1999),\n",
       " tensor(1.1999),\n",
       " tensor(1.1999),\n",
       " tensor(1.1999),\n",
       " tensor(1.1999),\n",
       " tensor(1.1999),\n",
       " tensor(1.1999),\n",
       " tensor(1.1999),\n",
       " tensor(1.1999),\n",
       " tensor(1.1999),\n",
       " tensor(1.1999),\n",
       " tensor(1.1999),\n",
       " tensor(1.2000),\n",
       " tensor(1.2000),\n",
       " tensor(1.2000),\n",
       " tensor(1.2000),\n",
       " tensor(1.2000),\n",
       " tensor(1.2000),\n",
       " tensor(1.2000),\n",
       " tensor(1.2000),\n",
       " tensor(1.2000),\n",
       " tensor(1.2000),\n",
       " tensor(1.2000),\n",
       " tensor(1.2000),\n",
       " tensor(1.2000),\n",
       " tensor(1.2000),\n",
       " tensor(1.2000),\n",
       " tensor(1.2000),\n",
       " tensor(1.2000),\n",
       " tensor(1.2000),\n",
       " tensor(1.2000),\n",
       " tensor(1.2000),\n",
       " tensor(1.2000)]"
      ]
     },
     "execution_count": 25,
     "metadata": {},
     "output_type": "execute_result"
    }
   ],
   "source": [
    "[0.8+0.4*torch.erf(i/np.sqrt(2)) for i in torch.linspace(-4,4,1000)]"
   ]
  },
  {
   "cell_type": "code",
   "execution_count": 26,
   "id": "portable-junior",
   "metadata": {},
   "outputs": [
    {
     "data": {
      "text/plain": [
       "[tensor(0.0100),\n",
       " tensor(0.0100),\n",
       " tensor(0.0100),\n",
       " tensor(0.0100),\n",
       " tensor(0.0100),\n",
       " tensor(0.0100),\n",
       " tensor(0.0100),\n",
       " tensor(0.0100),\n",
       " tensor(0.0100),\n",
       " tensor(0.0100),\n",
       " tensor(0.0100),\n",
       " tensor(0.0100),\n",
       " tensor(0.0100),\n",
       " tensor(0.0100),\n",
       " tensor(0.0100),\n",
       " tensor(0.0100),\n",
       " tensor(0.0100),\n",
       " tensor(0.0100),\n",
       " tensor(0.0100),\n",
       " tensor(0.0100),\n",
       " tensor(0.0100),\n",
       " tensor(0.0100),\n",
       " tensor(0.0100),\n",
       " tensor(0.0100),\n",
       " tensor(0.0100),\n",
       " tensor(0.0100),\n",
       " tensor(0.0100),\n",
       " tensor(0.0100),\n",
       " tensor(0.0100),\n",
       " tensor(0.0100),\n",
       " tensor(0.0100),\n",
       " tensor(0.0100),\n",
       " tensor(0.0100),\n",
       " tensor(0.0100),\n",
       " tensor(0.0100),\n",
       " tensor(0.0100),\n",
       " tensor(0.0100),\n",
       " tensor(0.0100),\n",
       " tensor(0.0100),\n",
       " tensor(0.0100),\n",
       " tensor(0.0100),\n",
       " tensor(0.0100),\n",
       " tensor(0.0100),\n",
       " tensor(0.0100),\n",
       " tensor(0.0100),\n",
       " tensor(0.0100),\n",
       " tensor(0.0100),\n",
       " tensor(0.0100),\n",
       " tensor(0.0100),\n",
       " tensor(0.0100),\n",
       " tensor(0.0100),\n",
       " tensor(0.0100),\n",
       " tensor(0.0101),\n",
       " tensor(0.0101),\n",
       " tensor(0.0101),\n",
       " tensor(0.0101),\n",
       " tensor(0.0101),\n",
       " tensor(0.0101),\n",
       " tensor(0.0101),\n",
       " tensor(0.0101),\n",
       " tensor(0.0101),\n",
       " tensor(0.0101),\n",
       " tensor(0.0101),\n",
       " tensor(0.0101),\n",
       " tensor(0.0101),\n",
       " tensor(0.0101),\n",
       " tensor(0.0101),\n",
       " tensor(0.0101),\n",
       " tensor(0.0101),\n",
       " tensor(0.0101),\n",
       " tensor(0.0101),\n",
       " tensor(0.0101),\n",
       " tensor(0.0101),\n",
       " tensor(0.0101),\n",
       " tensor(0.0101),\n",
       " tensor(0.0101),\n",
       " tensor(0.0101),\n",
       " tensor(0.0101),\n",
       " tensor(0.0101),\n",
       " tensor(0.0101),\n",
       " tensor(0.0101),\n",
       " tensor(0.0101),\n",
       " tensor(0.0101),\n",
       " tensor(0.0101),\n",
       " tensor(0.0101),\n",
       " tensor(0.0101),\n",
       " tensor(0.0101),\n",
       " tensor(0.0101),\n",
       " tensor(0.0101),\n",
       " tensor(0.0102),\n",
       " tensor(0.0102),\n",
       " tensor(0.0102),\n",
       " tensor(0.0102),\n",
       " tensor(0.0102),\n",
       " tensor(0.0102),\n",
       " tensor(0.0102),\n",
       " tensor(0.0102),\n",
       " tensor(0.0102),\n",
       " tensor(0.0102),\n",
       " tensor(0.0102),\n",
       " tensor(0.0102),\n",
       " tensor(0.0102),\n",
       " tensor(0.0102),\n",
       " tensor(0.0102),\n",
       " tensor(0.0102),\n",
       " tensor(0.0102),\n",
       " tensor(0.0102),\n",
       " tensor(0.0103),\n",
       " tensor(0.0103),\n",
       " tensor(0.0103),\n",
       " tensor(0.0103),\n",
       " tensor(0.0103),\n",
       " tensor(0.0103),\n",
       " tensor(0.0103),\n",
       " tensor(0.0103),\n",
       " tensor(0.0103),\n",
       " tensor(0.0103),\n",
       " tensor(0.0103),\n",
       " tensor(0.0103),\n",
       " tensor(0.0103),\n",
       " tensor(0.0104),\n",
       " tensor(0.0104),\n",
       " tensor(0.0104),\n",
       " tensor(0.0104),\n",
       " tensor(0.0104),\n",
       " tensor(0.0104),\n",
       " tensor(0.0104),\n",
       " tensor(0.0104),\n",
       " tensor(0.0104),\n",
       " tensor(0.0105),\n",
       " tensor(0.0105),\n",
       " tensor(0.0105),\n",
       " tensor(0.0105),\n",
       " tensor(0.0105),\n",
       " tensor(0.0105),\n",
       " tensor(0.0105),\n",
       " tensor(0.0105),\n",
       " tensor(0.0106),\n",
       " tensor(0.0106),\n",
       " tensor(0.0106),\n",
       " tensor(0.0106),\n",
       " tensor(0.0106),\n",
       " tensor(0.0106),\n",
       " tensor(0.0106),\n",
       " tensor(0.0107),\n",
       " tensor(0.0107),\n",
       " tensor(0.0107),\n",
       " tensor(0.0107),\n",
       " tensor(0.0107),\n",
       " tensor(0.0108),\n",
       " tensor(0.0108),\n",
       " tensor(0.0108),\n",
       " tensor(0.0108),\n",
       " tensor(0.0108),\n",
       " tensor(0.0108),\n",
       " tensor(0.0109),\n",
       " tensor(0.0109),\n",
       " tensor(0.0109),\n",
       " tensor(0.0109),\n",
       " tensor(0.0110),\n",
       " tensor(0.0110),\n",
       " tensor(0.0110),\n",
       " tensor(0.0110),\n",
       " tensor(0.0111),\n",
       " tensor(0.0111),\n",
       " tensor(0.0111),\n",
       " tensor(0.0111),\n",
       " tensor(0.0112),\n",
       " tensor(0.0112),\n",
       " tensor(0.0112),\n",
       " tensor(0.0112),\n",
       " tensor(0.0113),\n",
       " tensor(0.0113),\n",
       " tensor(0.0113),\n",
       " tensor(0.0114),\n",
       " tensor(0.0114),\n",
       " tensor(0.0114),\n",
       " tensor(0.0115),\n",
       " tensor(0.0115),\n",
       " tensor(0.0115),\n",
       " tensor(0.0116),\n",
       " tensor(0.0116),\n",
       " tensor(0.0117),\n",
       " tensor(0.0117),\n",
       " tensor(0.0117),\n",
       " tensor(0.0118),\n",
       " tensor(0.0118),\n",
       " tensor(0.0118),\n",
       " tensor(0.0119),\n",
       " tensor(0.0119),\n",
       " tensor(0.0120),\n",
       " tensor(0.0120),\n",
       " tensor(0.0121),\n",
       " tensor(0.0121),\n",
       " tensor(0.0122),\n",
       " tensor(0.0122),\n",
       " tensor(0.0123),\n",
       " tensor(0.0123),\n",
       " tensor(0.0124),\n",
       " tensor(0.0124),\n",
       " tensor(0.0125),\n",
       " tensor(0.0125),\n",
       " tensor(0.0126),\n",
       " tensor(0.0126),\n",
       " tensor(0.0127),\n",
       " tensor(0.0128),\n",
       " tensor(0.0128),\n",
       " tensor(0.0129),\n",
       " tensor(0.0129),\n",
       " tensor(0.0130),\n",
       " tensor(0.0131),\n",
       " tensor(0.0131),\n",
       " tensor(0.0132),\n",
       " tensor(0.0133),\n",
       " tensor(0.0133),\n",
       " tensor(0.0134),\n",
       " tensor(0.0135),\n",
       " tensor(0.0136),\n",
       " tensor(0.0136),\n",
       " tensor(0.0137),\n",
       " tensor(0.0138),\n",
       " tensor(0.0139),\n",
       " tensor(0.0139),\n",
       " tensor(0.0140),\n",
       " tensor(0.0141),\n",
       " tensor(0.0142),\n",
       " tensor(0.0143),\n",
       " tensor(0.0144),\n",
       " tensor(0.0145),\n",
       " tensor(0.0145),\n",
       " tensor(0.0146),\n",
       " tensor(0.0147),\n",
       " tensor(0.0148),\n",
       " tensor(0.0149),\n",
       " tensor(0.0150),\n",
       " tensor(0.0151),\n",
       " tensor(0.0152),\n",
       " tensor(0.0153),\n",
       " tensor(0.0154),\n",
       " tensor(0.0155),\n",
       " tensor(0.0157),\n",
       " tensor(0.0158),\n",
       " tensor(0.0159),\n",
       " tensor(0.0160),\n",
       " tensor(0.0161),\n",
       " tensor(0.0162),\n",
       " tensor(0.0164),\n",
       " tensor(0.0165),\n",
       " tensor(0.0166),\n",
       " tensor(0.0167),\n",
       " tensor(0.0169),\n",
       " tensor(0.0170),\n",
       " tensor(0.0171),\n",
       " tensor(0.0173),\n",
       " tensor(0.0174),\n",
       " tensor(0.0175),\n",
       " tensor(0.0177),\n",
       " tensor(0.0178),\n",
       " tensor(0.0180),\n",
       " tensor(0.0181),\n",
       " tensor(0.0183),\n",
       " tensor(0.0184),\n",
       " tensor(0.0186),\n",
       " tensor(0.0187),\n",
       " tensor(0.0189),\n",
       " tensor(0.0191),\n",
       " tensor(0.0192),\n",
       " tensor(0.0194),\n",
       " tensor(0.0196),\n",
       " tensor(0.0197),\n",
       " tensor(0.0199),\n",
       " tensor(0.0201),\n",
       " tensor(0.0203),\n",
       " tensor(0.0205),\n",
       " tensor(0.0206),\n",
       " tensor(0.0208),\n",
       " tensor(0.0210),\n",
       " tensor(0.0212),\n",
       " tensor(0.0214),\n",
       " tensor(0.0216),\n",
       " tensor(0.0218),\n",
       " tensor(0.0220),\n",
       " tensor(0.0222),\n",
       " tensor(0.0224),\n",
       " tensor(0.0227),\n",
       " tensor(0.0229),\n",
       " tensor(0.0231),\n",
       " tensor(0.0233),\n",
       " tensor(0.0235),\n",
       " tensor(0.0238),\n",
       " tensor(0.0240),\n",
       " tensor(0.0242),\n",
       " tensor(0.0245),\n",
       " tensor(0.0247),\n",
       " tensor(0.0250),\n",
       " tensor(0.0252),\n",
       " tensor(0.0255),\n",
       " tensor(0.0257),\n",
       " tensor(0.0260),\n",
       " tensor(0.0263),\n",
       " tensor(0.0265),\n",
       " tensor(0.0268),\n",
       " tensor(0.0271),\n",
       " tensor(0.0273),\n",
       " tensor(0.0276),\n",
       " tensor(0.0279),\n",
       " tensor(0.0282),\n",
       " tensor(0.0285),\n",
       " tensor(0.0288),\n",
       " tensor(0.0291),\n",
       " tensor(0.0294),\n",
       " tensor(0.0297),\n",
       " tensor(0.0300),\n",
       " tensor(0.0303),\n",
       " tensor(0.0306),\n",
       " tensor(0.0309),\n",
       " tensor(0.0313),\n",
       " tensor(0.0316),\n",
       " tensor(0.0319),\n",
       " tensor(0.0322),\n",
       " tensor(0.0326),\n",
       " tensor(0.0329),\n",
       " tensor(0.0333),\n",
       " tensor(0.0336),\n",
       " tensor(0.0340),\n",
       " tensor(0.0343),\n",
       " tensor(0.0347),\n",
       " tensor(0.0351),\n",
       " tensor(0.0354),\n",
       " tensor(0.0358),\n",
       " tensor(0.0362),\n",
       " tensor(0.0366),\n",
       " tensor(0.0370),\n",
       " tensor(0.0374),\n",
       " tensor(0.0378),\n",
       " tensor(0.0382),\n",
       " tensor(0.0386),\n",
       " tensor(0.0390),\n",
       " tensor(0.0394),\n",
       " tensor(0.0398),\n",
       " tensor(0.0402),\n",
       " tensor(0.0407),\n",
       " tensor(0.0411),\n",
       " tensor(0.0415),\n",
       " tensor(0.0420),\n",
       " tensor(0.0424),\n",
       " tensor(0.0428),\n",
       " tensor(0.0433),\n",
       " tensor(0.0438),\n",
       " tensor(0.0442),\n",
       " tensor(0.0447),\n",
       " tensor(0.0452),\n",
       " tensor(0.0456),\n",
       " tensor(0.0461),\n",
       " tensor(0.0466),\n",
       " tensor(0.0471),\n",
       " tensor(0.0476),\n",
       " tensor(0.0481),\n",
       " tensor(0.0486),\n",
       " tensor(0.0491),\n",
       " tensor(0.0496),\n",
       " tensor(0.0501),\n",
       " tensor(0.0506),\n",
       " tensor(0.0512),\n",
       " tensor(0.0517),\n",
       " tensor(0.0522),\n",
       " tensor(0.0528),\n",
       " tensor(0.0533),\n",
       " tensor(0.0538),\n",
       " tensor(0.0544),\n",
       " tensor(0.0550),\n",
       " tensor(0.0555),\n",
       " tensor(0.0561),\n",
       " tensor(0.0567),\n",
       " tensor(0.0572),\n",
       " tensor(0.0578),\n",
       " tensor(0.0584),\n",
       " tensor(0.0590),\n",
       " tensor(0.0596),\n",
       " tensor(0.0602),\n",
       " tensor(0.0608),\n",
       " tensor(0.0614),\n",
       " tensor(0.0620),\n",
       " tensor(0.0626),\n",
       " tensor(0.0633),\n",
       " tensor(0.0639),\n",
       " tensor(0.0645),\n",
       " tensor(0.0651),\n",
       " tensor(0.0658),\n",
       " tensor(0.0664),\n",
       " tensor(0.0671),\n",
       " tensor(0.0677),\n",
       " tensor(0.0684),\n",
       " tensor(0.0691),\n",
       " tensor(0.0697),\n",
       " tensor(0.0704),\n",
       " tensor(0.0711),\n",
       " tensor(0.0718),\n",
       " tensor(0.0724),\n",
       " tensor(0.0731),\n",
       " tensor(0.0738),\n",
       " tensor(0.0745),\n",
       " tensor(0.0752),\n",
       " tensor(0.0759),\n",
       " tensor(0.0767),\n",
       " tensor(0.0774),\n",
       " tensor(0.0781),\n",
       " tensor(0.0788),\n",
       " tensor(0.0796),\n",
       " tensor(0.0803),\n",
       " tensor(0.0810),\n",
       " tensor(0.0818),\n",
       " tensor(0.0825),\n",
       " tensor(0.0833),\n",
       " tensor(0.0840),\n",
       " tensor(0.0848),\n",
       " tensor(0.0856),\n",
       " tensor(0.0863),\n",
       " tensor(0.0871),\n",
       " tensor(0.0879),\n",
       " tensor(0.0887),\n",
       " tensor(0.0894),\n",
       " tensor(0.0902),\n",
       " tensor(0.0910),\n",
       " tensor(0.0918),\n",
       " tensor(0.0926),\n",
       " tensor(0.0934),\n",
       " tensor(0.0942),\n",
       " tensor(0.0950),\n",
       " tensor(0.0959),\n",
       " tensor(0.0967),\n",
       " tensor(0.0975),\n",
       " tensor(0.0983),\n",
       " tensor(0.0992),\n",
       " tensor(0.1000),\n",
       " tensor(0.1008),\n",
       " tensor(0.1017),\n",
       " tensor(0.1025),\n",
       " tensor(0.1034),\n",
       " tensor(0.1042),\n",
       " tensor(0.1051),\n",
       " tensor(0.1059),\n",
       " tensor(0.1068),\n",
       " tensor(0.1076),\n",
       " tensor(0.1085),\n",
       " tensor(0.1094),\n",
       " tensor(0.1103),\n",
       " tensor(0.1111),\n",
       " tensor(0.1120),\n",
       " tensor(0.1129),\n",
       " tensor(0.1138),\n",
       " tensor(0.1147),\n",
       " tensor(0.1155),\n",
       " tensor(0.1164),\n",
       " tensor(0.1173),\n",
       " tensor(0.1182),\n",
       " tensor(0.1191),\n",
       " tensor(0.1200),\n",
       " tensor(0.1209),\n",
       " tensor(0.1219),\n",
       " tensor(0.1228),\n",
       " tensor(0.1237),\n",
       " tensor(0.1246),\n",
       " tensor(0.1255),\n",
       " tensor(0.1264),\n",
       " tensor(0.1274),\n",
       " tensor(0.1283),\n",
       " tensor(0.1292),\n",
       " tensor(0.1301),\n",
       " tensor(0.1311),\n",
       " tensor(0.1320),\n",
       " tensor(0.1329),\n",
       " tensor(0.1339),\n",
       " tensor(0.1348),\n",
       " tensor(0.1357),\n",
       " tensor(0.1367),\n",
       " tensor(0.1376),\n",
       " tensor(0.1386),\n",
       " tensor(0.1395),\n",
       " tensor(0.1404),\n",
       " tensor(0.1414),\n",
       " tensor(0.1423),\n",
       " tensor(0.1433),\n",
       " tensor(0.1442),\n",
       " tensor(0.1452),\n",
       " tensor(0.1461),\n",
       " tensor(0.1471),\n",
       " tensor(0.1480),\n",
       " tensor(0.1490),\n",
       " tensor(0.1499),\n",
       " tensor(0.1509),\n",
       " tensor(0.1519),\n",
       " tensor(0.1528),\n",
       " tensor(0.1538),\n",
       " tensor(0.1547),\n",
       " tensor(0.1557),\n",
       " tensor(0.1566),\n",
       " tensor(0.1576),\n",
       " tensor(0.1586),\n",
       " tensor(0.1595),\n",
       " tensor(0.1605),\n",
       " tensor(0.1614),\n",
       " tensor(0.1624),\n",
       " tensor(0.1634),\n",
       " tensor(0.1643),\n",
       " tensor(0.1653),\n",
       " tensor(0.1662),\n",
       " tensor(0.1672),\n",
       " tensor(0.1681),\n",
       " tensor(0.1691),\n",
       " tensor(0.1701),\n",
       " tensor(0.1710),\n",
       " tensor(0.1720),\n",
       " tensor(0.1729),\n",
       " tensor(0.1739),\n",
       " tensor(0.1748),\n",
       " tensor(0.1758),\n",
       " tensor(0.1767),\n",
       " tensor(0.1777),\n",
       " tensor(0.1786),\n",
       " tensor(0.1796),\n",
       " tensor(0.1805),\n",
       " tensor(0.1814),\n",
       " tensor(0.1824),\n",
       " tensor(0.1833),\n",
       " tensor(0.1843),\n",
       " tensor(0.1852),\n",
       " tensor(0.1861),\n",
       " tensor(0.1871),\n",
       " tensor(0.1880),\n",
       " tensor(0.1889),\n",
       " tensor(0.1899),\n",
       " tensor(0.1908),\n",
       " tensor(0.1917),\n",
       " tensor(0.1926),\n",
       " tensor(0.1936),\n",
       " tensor(0.1945),\n",
       " tensor(0.1954),\n",
       " tensor(0.1963),\n",
       " tensor(0.1972),\n",
       " tensor(0.1981),\n",
       " tensor(0.1991),\n",
       " tensor(0.2000),\n",
       " tensor(0.2009),\n",
       " tensor(0.2018),\n",
       " tensor(0.2027),\n",
       " tensor(0.2036),\n",
       " tensor(0.2045),\n",
       " tensor(0.2053),\n",
       " tensor(0.2062),\n",
       " tensor(0.2071),\n",
       " tensor(0.2080),\n",
       " tensor(0.2089),\n",
       " tensor(0.2097),\n",
       " tensor(0.2106),\n",
       " tensor(0.2115),\n",
       " tensor(0.2124),\n",
       " tensor(0.2132),\n",
       " tensor(0.2141),\n",
       " tensor(0.2149),\n",
       " tensor(0.2158),\n",
       " tensor(0.2166),\n",
       " tensor(0.2175),\n",
       " tensor(0.2183),\n",
       " tensor(0.2192),\n",
       " tensor(0.2200),\n",
       " tensor(0.2208),\n",
       " tensor(0.2217),\n",
       " tensor(0.2225),\n",
       " tensor(0.2233),\n",
       " tensor(0.2241),\n",
       " tensor(0.2250),\n",
       " tensor(0.2258),\n",
       " tensor(0.2266),\n",
       " tensor(0.2274),\n",
       " tensor(0.2282),\n",
       " tensor(0.2290),\n",
       " tensor(0.2298),\n",
       " tensor(0.2306),\n",
       " tensor(0.2313),\n",
       " tensor(0.2321),\n",
       " tensor(0.2329),\n",
       " tensor(0.2337),\n",
       " tensor(0.2344),\n",
       " tensor(0.2352),\n",
       " tensor(0.2360),\n",
       " tensor(0.2367),\n",
       " tensor(0.2375),\n",
       " tensor(0.2382),\n",
       " tensor(0.2390),\n",
       " tensor(0.2397),\n",
       " tensor(0.2404),\n",
       " tensor(0.2412),\n",
       " tensor(0.2419),\n",
       " tensor(0.2426),\n",
       " tensor(0.2433),\n",
       " tensor(0.2441),\n",
       " tensor(0.2448),\n",
       " tensor(0.2455),\n",
       " tensor(0.2462),\n",
       " tensor(0.2469),\n",
       " tensor(0.2476),\n",
       " tensor(0.2482),\n",
       " tensor(0.2489),\n",
       " tensor(0.2496),\n",
       " tensor(0.2503),\n",
       " tensor(0.2509),\n",
       " tensor(0.2516),\n",
       " tensor(0.2523),\n",
       " tensor(0.2529),\n",
       " tensor(0.2536),\n",
       " tensor(0.2542),\n",
       " tensor(0.2549),\n",
       " tensor(0.2555),\n",
       " tensor(0.2561),\n",
       " tensor(0.2567),\n",
       " tensor(0.2574),\n",
       " tensor(0.2580),\n",
       " tensor(0.2586),\n",
       " tensor(0.2592),\n",
       " tensor(0.2598),\n",
       " tensor(0.2604),\n",
       " tensor(0.2610),\n",
       " tensor(0.2616),\n",
       " tensor(0.2622),\n",
       " tensor(0.2628),\n",
       " tensor(0.2633),\n",
       " tensor(0.2639),\n",
       " tensor(0.2645),\n",
       " tensor(0.2650),\n",
       " tensor(0.2656),\n",
       " tensor(0.2662),\n",
       " tensor(0.2667),\n",
       " tensor(0.2672),\n",
       " tensor(0.2678),\n",
       " tensor(0.2683),\n",
       " tensor(0.2688),\n",
       " tensor(0.2694),\n",
       " tensor(0.2699),\n",
       " tensor(0.2704),\n",
       " tensor(0.2709),\n",
       " tensor(0.2714),\n",
       " tensor(0.2719),\n",
       " tensor(0.2724),\n",
       " tensor(0.2729),\n",
       " tensor(0.2734),\n",
       " tensor(0.2739),\n",
       " tensor(0.2744),\n",
       " tensor(0.2748),\n",
       " tensor(0.2753),\n",
       " tensor(0.2758),\n",
       " tensor(0.2762),\n",
       " tensor(0.2767),\n",
       " tensor(0.2772),\n",
       " tensor(0.2776),\n",
       " tensor(0.2780),\n",
       " tensor(0.2785),\n",
       " tensor(0.2789),\n",
       " tensor(0.2793),\n",
       " tensor(0.2798),\n",
       " tensor(0.2802),\n",
       " tensor(0.2806),\n",
       " tensor(0.2810),\n",
       " tensor(0.2814),\n",
       " tensor(0.2818),\n",
       " tensor(0.2822),\n",
       " tensor(0.2826),\n",
       " tensor(0.2830),\n",
       " tensor(0.2834),\n",
       " tensor(0.2838),\n",
       " tensor(0.2842),\n",
       " tensor(0.2846),\n",
       " tensor(0.2849),\n",
       " tensor(0.2853),\n",
       " tensor(0.2857),\n",
       " tensor(0.2860),\n",
       " tensor(0.2864),\n",
       " tensor(0.2867),\n",
       " tensor(0.2871),\n",
       " tensor(0.2874),\n",
       " tensor(0.2878),\n",
       " tensor(0.2881),\n",
       " tensor(0.2884),\n",
       " tensor(0.2887),\n",
       " tensor(0.2891),\n",
       " tensor(0.2894),\n",
       " tensor(0.2897),\n",
       " tensor(0.2900),\n",
       " tensor(0.2903),\n",
       " tensor(0.2906),\n",
       " tensor(0.2909),\n",
       " tensor(0.2912),\n",
       " tensor(0.2915),\n",
       " tensor(0.2918),\n",
       " tensor(0.2921),\n",
       " tensor(0.2924),\n",
       " tensor(0.2927),\n",
       " tensor(0.2929),\n",
       " tensor(0.2932),\n",
       " tensor(0.2935),\n",
       " tensor(0.2937),\n",
       " tensor(0.2940),\n",
       " tensor(0.2943),\n",
       " tensor(0.2945),\n",
       " tensor(0.2948),\n",
       " tensor(0.2950),\n",
       " tensor(0.2953),\n",
       " tensor(0.2955),\n",
       " tensor(0.2958),\n",
       " tensor(0.2960),\n",
       " tensor(0.2962),\n",
       " tensor(0.2965),\n",
       " tensor(0.2967),\n",
       " tensor(0.2969),\n",
       " tensor(0.2971),\n",
       " tensor(0.2973),\n",
       " tensor(0.2976),\n",
       " tensor(0.2978),\n",
       " tensor(0.2980),\n",
       " tensor(0.2982),\n",
       " tensor(0.2984),\n",
       " tensor(0.2986),\n",
       " tensor(0.2988),\n",
       " tensor(0.2990),\n",
       " tensor(0.2992),\n",
       " tensor(0.2994),\n",
       " tensor(0.2995),\n",
       " tensor(0.2997),\n",
       " tensor(0.2999),\n",
       " tensor(0.3001),\n",
       " tensor(0.3003),\n",
       " tensor(0.3004),\n",
       " tensor(0.3006),\n",
       " tensor(0.3008),\n",
       " tensor(0.3009),\n",
       " tensor(0.3011),\n",
       " tensor(0.3013),\n",
       " tensor(0.3014),\n",
       " tensor(0.3016),\n",
       " tensor(0.3017),\n",
       " tensor(0.3019),\n",
       " tensor(0.3020),\n",
       " tensor(0.3022),\n",
       " tensor(0.3023),\n",
       " tensor(0.3025),\n",
       " tensor(0.3026),\n",
       " tensor(0.3027),\n",
       " tensor(0.3029),\n",
       " tensor(0.3030),\n",
       " tensor(0.3031),\n",
       " tensor(0.3033),\n",
       " tensor(0.3034),\n",
       " tensor(0.3035),\n",
       " tensor(0.3036),\n",
       " tensor(0.3038),\n",
       " tensor(0.3039),\n",
       " tensor(0.3040),\n",
       " tensor(0.3041),\n",
       " tensor(0.3042),\n",
       " tensor(0.3043),\n",
       " tensor(0.3045),\n",
       " tensor(0.3046),\n",
       " tensor(0.3047),\n",
       " tensor(0.3048),\n",
       " tensor(0.3049),\n",
       " tensor(0.3050),\n",
       " tensor(0.3051),\n",
       " tensor(0.3052),\n",
       " tensor(0.3053),\n",
       " tensor(0.3054),\n",
       " tensor(0.3055),\n",
       " tensor(0.3055),\n",
       " tensor(0.3056),\n",
       " tensor(0.3057),\n",
       " tensor(0.3058),\n",
       " tensor(0.3059),\n",
       " tensor(0.3060),\n",
       " tensor(0.3061),\n",
       " tensor(0.3061),\n",
       " tensor(0.3062),\n",
       " tensor(0.3063),\n",
       " tensor(0.3064),\n",
       " tensor(0.3064),\n",
       " tensor(0.3065),\n",
       " tensor(0.3066),\n",
       " tensor(0.3067),\n",
       " tensor(0.3067),\n",
       " tensor(0.3068),\n",
       " tensor(0.3069),\n",
       " tensor(0.3069),\n",
       " tensor(0.3070),\n",
       " tensor(0.3071),\n",
       " tensor(0.3071),\n",
       " tensor(0.3072),\n",
       " tensor(0.3072),\n",
       " tensor(0.3073),\n",
       " tensor(0.3074),\n",
       " tensor(0.3074),\n",
       " tensor(0.3075),\n",
       " tensor(0.3075),\n",
       " tensor(0.3076),\n",
       " tensor(0.3076),\n",
       " tensor(0.3077),\n",
       " tensor(0.3077),\n",
       " tensor(0.3078),\n",
       " tensor(0.3078),\n",
       " tensor(0.3079),\n",
       " tensor(0.3079),\n",
       " tensor(0.3080),\n",
       " tensor(0.3080),\n",
       " tensor(0.3081),\n",
       " tensor(0.3081),\n",
       " tensor(0.3082),\n",
       " tensor(0.3082),\n",
       " tensor(0.3082),\n",
       " tensor(0.3083),\n",
       " tensor(0.3083),\n",
       " tensor(0.3083),\n",
       " tensor(0.3084),\n",
       " tensor(0.3084),\n",
       " tensor(0.3085),\n",
       " tensor(0.3085),\n",
       " tensor(0.3085),\n",
       " tensor(0.3086),\n",
       " tensor(0.3086),\n",
       " tensor(0.3086),\n",
       " tensor(0.3087),\n",
       " tensor(0.3087),\n",
       " tensor(0.3087),\n",
       " tensor(0.3088),\n",
       " tensor(0.3088),\n",
       " tensor(0.3088),\n",
       " tensor(0.3088),\n",
       " tensor(0.3089),\n",
       " tensor(0.3089),\n",
       " tensor(0.3089),\n",
       " tensor(0.3089),\n",
       " tensor(0.3090),\n",
       " tensor(0.3090),\n",
       " tensor(0.3090),\n",
       " tensor(0.3090),\n",
       " tensor(0.3091),\n",
       " tensor(0.3091),\n",
       " tensor(0.3091),\n",
       " tensor(0.3091),\n",
       " tensor(0.3092),\n",
       " tensor(0.3092),\n",
       " tensor(0.3092),\n",
       " tensor(0.3092),\n",
       " tensor(0.3092),\n",
       " tensor(0.3092),\n",
       " tensor(0.3093),\n",
       " tensor(0.3093),\n",
       " tensor(0.3093),\n",
       " tensor(0.3093),\n",
       " tensor(0.3093),\n",
       " tensor(0.3094),\n",
       " tensor(0.3094),\n",
       " tensor(0.3094),\n",
       " tensor(0.3094),\n",
       " tensor(0.3094),\n",
       " tensor(0.3094),\n",
       " tensor(0.3094),\n",
       " tensor(0.3095),\n",
       " tensor(0.3095),\n",
       " tensor(0.3095),\n",
       " tensor(0.3095),\n",
       " tensor(0.3095),\n",
       " tensor(0.3095),\n",
       " tensor(0.3095),\n",
       " tensor(0.3095),\n",
       " tensor(0.3096),\n",
       " tensor(0.3096),\n",
       " tensor(0.3096),\n",
       " tensor(0.3096),\n",
       " tensor(0.3096),\n",
       " tensor(0.3096),\n",
       " tensor(0.3096),\n",
       " tensor(0.3096),\n",
       " tensor(0.3096),\n",
       " tensor(0.3097),\n",
       " tensor(0.3097),\n",
       " tensor(0.3097),\n",
       " tensor(0.3097),\n",
       " tensor(0.3097),\n",
       " tensor(0.3097),\n",
       " tensor(0.3097),\n",
       " tensor(0.3097),\n",
       " tensor(0.3097),\n",
       " tensor(0.3097),\n",
       " tensor(0.3097),\n",
       " tensor(0.3097),\n",
       " tensor(0.3097),\n",
       " tensor(0.3098),\n",
       " tensor(0.3098),\n",
       " tensor(0.3098),\n",
       " tensor(0.3098),\n",
       " tensor(0.3098),\n",
       " tensor(0.3098),\n",
       " tensor(0.3098),\n",
       " tensor(0.3098),\n",
       " tensor(0.3098),\n",
       " tensor(0.3098),\n",
       " tensor(0.3098),\n",
       " tensor(0.3098),\n",
       " tensor(0.3098),\n",
       " tensor(0.3098),\n",
       " tensor(0.3098),\n",
       " tensor(0.3098),\n",
       " tensor(0.3098),\n",
       " tensor(0.3098),\n",
       " tensor(0.3099),\n",
       " tensor(0.3099),\n",
       " tensor(0.3099),\n",
       " tensor(0.3099),\n",
       " tensor(0.3099),\n",
       " tensor(0.3099),\n",
       " tensor(0.3099),\n",
       " tensor(0.3099),\n",
       " tensor(0.3099),\n",
       " tensor(0.3099),\n",
       " tensor(0.3099),\n",
       " tensor(0.3099),\n",
       " tensor(0.3099),\n",
       " tensor(0.3099),\n",
       " tensor(0.3099),\n",
       " tensor(0.3099),\n",
       " tensor(0.3099),\n",
       " tensor(0.3099),\n",
       " tensor(0.3099),\n",
       " tensor(0.3099),\n",
       " tensor(0.3099),\n",
       " tensor(0.3099),\n",
       " tensor(0.3099),\n",
       " tensor(0.3099),\n",
       " tensor(0.3099),\n",
       " tensor(0.3099),\n",
       " tensor(0.3099),\n",
       " tensor(0.3099),\n",
       " tensor(0.3099),\n",
       " tensor(0.3099),\n",
       " tensor(0.3099),\n",
       " tensor(0.3099),\n",
       " tensor(0.3099),\n",
       " tensor(0.3099),\n",
       " tensor(0.3099),\n",
       " tensor(0.3099),\n",
       " tensor(0.3099),\n",
       " tensor(0.3100),\n",
       " tensor(0.3100),\n",
       " tensor(0.3100),\n",
       " tensor(0.3100),\n",
       " tensor(0.3100),\n",
       " tensor(0.3100),\n",
       " tensor(0.3100),\n",
       " tensor(0.3100),\n",
       " tensor(0.3100),\n",
       " tensor(0.3100),\n",
       " tensor(0.3100),\n",
       " tensor(0.3100),\n",
       " tensor(0.3100),\n",
       " tensor(0.3100),\n",
       " tensor(0.3100),\n",
       " tensor(0.3100),\n",
       " tensor(0.3100),\n",
       " tensor(0.3100),\n",
       " tensor(0.3100),\n",
       " tensor(0.3100),\n",
       " tensor(0.3100),\n",
       " tensor(0.3100),\n",
       " tensor(0.3100),\n",
       " tensor(0.3100),\n",
       " tensor(0.3100),\n",
       " tensor(0.3100),\n",
       " tensor(0.3100),\n",
       " tensor(0.3100),\n",
       " tensor(0.3100),\n",
       " tensor(0.3100),\n",
       " tensor(0.3100),\n",
       " tensor(0.3100),\n",
       " tensor(0.3100),\n",
       " tensor(0.3100),\n",
       " tensor(0.3100),\n",
       " tensor(0.3100),\n",
       " tensor(0.3100),\n",
       " tensor(0.3100),\n",
       " tensor(0.3100),\n",
       " tensor(0.3100),\n",
       " tensor(0.3100),\n",
       " tensor(0.3100),\n",
       " tensor(0.3100),\n",
       " tensor(0.3100),\n",
       " tensor(0.3100),\n",
       " tensor(0.3100),\n",
       " tensor(0.3100),\n",
       " tensor(0.3100),\n",
       " tensor(0.3100),\n",
       " tensor(0.3100),\n",
       " tensor(0.3100),\n",
       " tensor(0.3100)]"
      ]
     },
     "execution_count": 26,
     "metadata": {},
     "output_type": "execute_result"
    }
   ],
   "source": [
    "[0.16+0.15*torch.erf(i/np.sqrt(2)) for i in torch.linspace(-4,4,1000)]"
   ]
  },
  {
   "cell_type": "code",
   "execution_count": null,
   "id": "pediatric-christianity",
   "metadata": {},
   "outputs": [],
   "source": []
  }
 ],
 "metadata": {
  "kernelspec": {
   "display_name": "Python 3",
   "language": "python",
   "name": "python3"
  },
  "language_info": {
   "codemirror_mode": {
    "name": "ipython",
    "version": 3
   },
   "file_extension": ".py",
   "mimetype": "text/x-python",
   "name": "python",
   "nbconvert_exporter": "python",
   "pygments_lexer": "ipython3",
   "version": "3.8.2"
  },
  "varInspector": {
   "cols": {
    "lenName": 16,
    "lenType": 16,
    "lenVar": 40
   },
   "kernels_config": {
    "python": {
     "delete_cmd_postfix": "",
     "delete_cmd_prefix": "del ",
     "library": "var_list.py",
     "varRefreshCmd": "print(var_dic_list())"
    },
    "r": {
     "delete_cmd_postfix": ") ",
     "delete_cmd_prefix": "rm(",
     "library": "var_list.r",
     "varRefreshCmd": "cat(var_dic_list()) "
    }
   },
   "types_to_exclude": [
    "module",
    "function",
    "builtin_function_or_method",
    "instance",
    "_Feature"
   ],
   "window_display": false
  }
 },
 "nbformat": 4,
 "nbformat_minor": 5
}
