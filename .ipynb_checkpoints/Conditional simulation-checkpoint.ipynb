{
 "cells": [
  {
   "cell_type": "markdown",
   "id": "binding-mills",
   "metadata": {},
   "source": [
    "[Conditional generation](#conditional_generation)\\\n",
    "[CDE samples](#cde_samples)\\\n",
    "[CDiffE samples](#cdiffe_samples)\\\n",
    "[SMCDiff samples](#smcdiff_samples)\\\n",
    "[Comparison](#comparison)"
   ]
  },
  {
   "cell_type": "code",
   "execution_count": 1,
   "id": "faced-antenna",
   "metadata": {},
   "outputs": [],
   "source": [
    "import torch\n",
    "import torch.nn as nn\n",
    "import torch.nn.functional as F\n",
    "import numpy as np\n",
    "import functools\n",
    "from sklearn import datasets\n",
    "import matplotlib.pyplot as plt\n",
    "from torch.optim import Adam\n",
    "from torch.utils.data import DataLoader\n",
    "from tqdm import notebook\n",
    "import seaborn as sns\n",
    "from ema_pytorch import EMA\n",
    "import math\n",
    "from torch.distributions import Normal \n",
    "\n",
    "#import models\n",
    "from models import ScoreNet_2D\n",
    "\n",
    "#import training fns\n",
    "from training import loss_fn, train_model, CDE_loss_fn_2D\n",
    "\n",
    "#import SDE functions\n",
    "from SDE import marginal_prob_std_fn_2D as marginal_prob_std_fn\n",
    "from SDE import diffusion_coeff_fn_2D as diffusion_coeff_fn\n",
    "\n",
    "#import sampling functions\n",
    "from sampling import Euler_Maruyama_sampler_2D as Euler_Maruyama_sampler\n",
    "from sampling import pc_sampler_2D as pc_sampler\n",
    "from sampling import ode_sampler_2D as ode_sampler\n",
    "from sampling import CDE_Euler_Maruyama_sampler_2D as CDE_Euler_Maruyama_sampler\n",
    "from sampling import CDE_pc_sampler_2D as CDE_pc_sampler\n",
    "from sampling import CDiffE_Euler_Maruyama_sampler_2D as CDiffE_Euler_Maruyama_sampler\n",
    "from sampling import CDiffE_pc_sampler_2D as CDiffE_pc_sampler\n",
    "from sampling import SMCDiff_Euler_Maruyama_sampler_2D as SMCDiff_Euler_Maruyama_sampler\n",
    "from sampling import SMCDiff_pc_sampler_2D as SMCDiff_pc_sampler\n",
    "from sampling import SMCDiff_Euler_Maruyama_sampler_2D as SMCDiff_Euler_Maruyama_sampler"
   ]
  },
  {
   "cell_type": "markdown",
   "id": "canadian-zealand",
   "metadata": {},
   "source": [
    "# Unconditional generation"
   ]
  },
  {
   "cell_type": "markdown",
   "id": "official-winter",
   "metadata": {},
   "source": [
    "## Generate training datasets"
   ]
  },
  {
   "cell_type": "code",
   "execution_count": 46,
   "id": "chubby-cheese",
   "metadata": {},
   "outputs": [],
   "source": [
    "ex_1 = torch.load('data/ex_1.pt')\n",
    "ex_2 = torch.load('data/ex_2.pt')\n",
    "ex_3 = torch.load('data/ex_3.pt')"
   ]
  },
  {
   "cell_type": "code",
   "execution_count": 3,
   "id": "promotional-grain",
   "metadata": {},
   "outputs": [],
   "source": [
    "score_model = ScoreNet_2D(marginal_prob_std=marginal_prob_std_fn)"
   ]
  },
  {
   "cell_type": "code",
   "execution_count": 4,
   "id": "opening-aluminum",
   "metadata": {},
   "outputs": [
    {
     "data": {
      "text/plain": [
       "32210"
      ]
     },
     "execution_count": 4,
     "metadata": {},
     "output_type": "execute_result"
    }
   ],
   "source": [
    "sum(p.numel() for p in score_model.parameters())"
   ]
  },
  {
   "cell_type": "code",
   "execution_count": null,
   "id": "sixth-modem",
   "metadata": {},
   "outputs": [],
   "source": []
  },
  {
   "cell_type": "markdown",
   "id": "classical-pattern",
   "metadata": {},
   "source": [
    "## Train unconditional models"
   ]
  },
  {
   "cell_type": "code",
   "execution_count": 6,
   "id": "secret-therapy",
   "metadata": {},
   "outputs": [
    {
     "data": {
      "application/json": {
       "ascii": false,
       "bar_format": null,
       "colour": null,
       "elapsed": 0.04145407676696777,
       "initial": 0,
       "n": 0,
       "ncols": null,
       "nrows": null,
       "postfix": null,
       "prefix": "",
       "rate": null,
       "total": 100,
       "unit": "it",
       "unit_divisor": 1000,
       "unit_scale": false
      },
      "application/vnd.jupyter.widget-view+json": {
       "model_id": "b78bf1532eff4f29907cc03fe1bcb49f",
       "version_major": 2,
       "version_minor": 0
      },
      "text/plain": [
       "  0%|          | 0/100 [00:00<?, ?it/s]"
      ]
     },
     "metadata": {},
     "output_type": "display_data"
    },
    {
     "name": "stderr",
     "output_type": "stream",
     "text": [
      "/Users/harryamad/Google Drive/2022/Dissertation/conditional_diffusion_simulation/SDE.py:16: UserWarning: To copy construct from a tensor, it is recommended to use sourceTensor.clone().detach() or sourceTensor.clone().detach().requires_grad_(True), rather than torch.tensor(sourceTensor).\n",
      "  t = torch.tensor(t)\n"
     ]
    }
   ],
   "source": [
    "losses_1 = train_model(score_model, ex_1, loss_fn, marginal_prob_std_fn, 'ex_1_test.pth', epochs = 100, batch_size = 64)"
   ]
  },
  {
   "cell_type": "code",
   "execution_count": 7,
   "id": "social-wildlife",
   "metadata": {},
   "outputs": [
    {
     "data": {
      "text/plain": [
       "[<matplotlib.lines.Line2D at 0x7fc17c023730>]"
      ]
     },
     "execution_count": 7,
     "metadata": {},
     "output_type": "execute_result"
    },
    {
     "data": {
      "image/png": "[encoded data removed]",
      "text/plain": [
       "<Figure size 432x288 with 1 Axes>"
      ]
     },
     "metadata": {
      "needs_background": "light"
     },
     "output_type": "display_data"
    }
   ],
   "source": [
    "plt.plot(losses_1)"
   ]
  },
  {
   "cell_type": "code",
   "execution_count": 15,
   "id": "electric-hypothesis",
   "metadata": {},
   "outputs": [],
   "source": [
    "score_model = ScoreNet_2D(marginal_prob_std=marginal_prob_std_fn)"
   ]
  },
  {
   "cell_type": "code",
   "execution_count": 16,
   "id": "horizontal-topic",
   "metadata": {},
   "outputs": [
    {
     "data": {
      "application/json": {
       "ascii": false,
       "bar_format": null,
       "colour": null,
       "elapsed": 0.0266721248626709,
       "initial": 0,
       "n": 0,
       "ncols": null,
       "nrows": null,
       "postfix": null,
       "prefix": "",
       "rate": null,
       "total": 100,
       "unit": "it",
       "unit_divisor": 1000,
       "unit_scale": false
      },
      "application/vnd.jupyter.widget-view+json": {
       "model_id": "b1a089ac057a4edfb4d9837f21256bad",
       "version_major": 2,
       "version_minor": 0
      },
      "text/plain": [
       "  0%|          | 0/100 [00:00<?, ?it/s]"
      ]
     },
     "metadata": {},
     "output_type": "display_data"
    }
   ],
   "source": [
    "losses_2 = train_model(score_model, ex_2, loss_fn, marginal_prob_std_fn, 'ex_2_test.pth', epochs = 100, batch_size = 64)"
   ]
  },
  {
   "cell_type": "code",
   "execution_count": 17,
   "id": "simplified-preliminary",
   "metadata": {},
   "outputs": [
    {
     "data": {
      "text/plain": [
       "[<matplotlib.lines.Line2D at 0x7fc17cdf3490>]"
      ]
     },
     "execution_count": 17,
     "metadata": {},
     "output_type": "execute_result"
    },
    {
     "data": {
      "image/png": "[encoded data removed]",
      "text/plain": [
       "<Figure size 432x288 with 1 Axes>"
      ]
     },
     "metadata": {
      "needs_background": "light"
     },
     "output_type": "display_data"
    }
   ],
   "source": [
    "plt.plot(losses_2)"
   ]
  },
  {
   "cell_type": "code",
   "execution_count": 18,
   "id": "comprehensive-engineer",
   "metadata": {},
   "outputs": [],
   "source": [
    "score_model = ScoreNet_2D(marginal_prob_std=marginal_prob_std_fn)"
   ]
  },
  {
   "cell_type": "code",
   "execution_count": 19,
   "id": "guided-processor",
   "metadata": {},
   "outputs": [
    {
     "data": {
      "application/json": {
       "ascii": false,
       "bar_format": null,
       "colour": null,
       "elapsed": 0.028683185577392578,
       "initial": 0,
       "n": 0,
       "ncols": null,
       "nrows": null,
       "postfix": null,
       "prefix": "",
       "rate": null,
       "total": 100,
       "unit": "it",
       "unit_divisor": 1000,
       "unit_scale": false
      },
      "application/vnd.jupyter.widget-view+json": {
       "model_id": "d418a1cc116e46b78b1cbfe44196dc05",
       "version_major": 2,
       "version_minor": 0
      },
      "text/plain": [
       "  0%|          | 0/100 [00:00<?, ?it/s]"
      ]
     },
     "metadata": {},
     "output_type": "display_data"
    }
   ],
   "source": [
    "losses_3 = train_model(score_model, ex_3, loss_fn, marginal_prob_std_fn, 'ex_3_test.pth', epochs = 100, batch_size = 64)"
   ]
  },
  {
   "cell_type": "code",
   "execution_count": 20,
   "id": "healthy-graphic",
   "metadata": {
    "scrolled": true
   },
   "outputs": [
    {
     "data": {
      "text/plain": [
       "[<matplotlib.lines.Line2D at 0x7fc17d765a60>]"
      ]
     },
     "execution_count": 20,
     "metadata": {},
     "output_type": "execute_result"
    },
    {
     "data": {
      "image/png": "[encoded data removed]",
      "text/plain": [
       "<Figure size 432x288 with 1 Axes>"
      ]
     },
     "metadata": {
      "needs_background": "light"
     },
     "output_type": "display_data"
    }
   ],
   "source": [
    "plt.plot(losses_3)"
   ]
  },
  {
   "cell_type": "markdown",
   "id": "allied-selling",
   "metadata": {},
   "source": [
    "## Draw unconditional samples"
   ]
  },
  {
   "cell_type": "markdown",
   "id": "australian-crash",
   "metadata": {},
   "source": [
    "### Example 1"
   ]
  },
  {
   "cell_type": "code",
   "execution_count": 4,
   "id": "found-campaign",
   "metadata": {},
   "outputs": [
    {
     "data": {
      "text/plain": [
       "<All keys matched successfully>"
      ]
     },
     "execution_count": 4,
     "metadata": {},
     "output_type": "execute_result"
    }
   ],
   "source": [
    "ckpt = torch.load('ex_1_testtest.pth')\n",
    "score_model.load_state_dict(ckpt)"
   ]
  },
  {
   "cell_type": "code",
   "execution_count": 5,
   "id": "endless-nancy",
   "metadata": {},
   "outputs": [
    {
     "name": "stderr",
     "output_type": "stream",
     "text": [
      "/Users/harryamad/Google Drive/2022/Dissertation/conditional_diffusion_simulation/SDE.py:16: UserWarning: To copy construct from a tensor, it is recommended to use sourceTensor.clone().detach() or sourceTensor.clone().detach().requires_grad_(True), rather than torch.tensor(sourceTensor).\n",
      "  t = torch.tensor(t)\n"
     ]
    },
    {
     "data": {
      "application/json": {
       "ascii": false,
       "bar_format": null,
       "colour": null,
       "elapsed": 0.037750959396362305,
       "initial": 0,
       "n": 0,
       "ncols": null,
       "nrows": null,
       "postfix": null,
       "prefix": "",
       "rate": null,
       "total": 1000,
       "unit": "it",
       "unit_divisor": 1000,
       "unit_scale": false
      },
      "application/vnd.jupyter.widget-view+json": {
       "model_id": "91238696f8104a5985851e68e75cec7f",
       "version_major": 2,
       "version_minor": 0
      },
      "text/plain": [
       "  0%|          | 0/1000 [00:00<?, ?it/s]"
      ]
     },
     "metadata": {},
     "output_type": "display_data"
    }
   ],
   "source": [
    "pc_samples = pc_sampler(score_model, marginal_prob_std_fn, diffusion_coeff_fn, batch_size = 1000)"
   ]
  },
  {
   "cell_type": "code",
   "execution_count": 6,
   "id": "completed-microwave",
   "metadata": {},
   "outputs": [
    {
     "data": {
      "application/json": {
       "ascii": false,
       "bar_format": null,
       "colour": null,
       "elapsed": 0.027063846588134766,
       "initial": 0,
       "n": 0,
       "ncols": null,
       "nrows": null,
       "postfix": null,
       "prefix": "",
       "rate": null,
       "total": 1000,
       "unit": "it",
       "unit_divisor": 1000,
       "unit_scale": false
      },
      "application/vnd.jupyter.widget-view+json": {
       "model_id": "35a205488e4647608be96608e8df1eb9",
       "version_major": 2,
       "version_minor": 0
      },
      "text/plain": [
       "  0%|          | 0/1000 [00:00<?, ?it/s]"
      ]
     },
     "metadata": {},
     "output_type": "display_data"
    }
   ],
   "source": [
    "e_m_samples = Euler_Maruyama_sampler(score_model, marginal_prob_std_fn, diffusion_coeff_fn, batch_size=1000)"
   ]
  },
  {
   "cell_type": "code",
   "execution_count": 7,
   "id": "awful-thunder",
   "metadata": {},
   "outputs": [
    {
     "name": "stdout",
     "output_type": "stream",
     "text": [
      "Number of function evaluations: 266\n"
     ]
    }
   ],
   "source": [
    "ode_samples = ode_sampler(score_model, marginal_prob_std_fn, diffusion_coeff_fn, batch_size=1000)"
   ]
  },
  {
   "cell_type": "code",
   "execution_count": 8,
   "id": "sexual-roommate",
   "metadata": {},
   "outputs": [
    {
     "data": {
      "text/plain": [
       "<matplotlib.collections.PathCollection at 0x7fc576e17580>"
      ]
     },
     "execution_count": 8,
     "metadata": {},
     "output_type": "execute_result"
    },
    {
     "data": {
      "image/png": "[encoded data removed]",
      "text/plain": [
       "<Figure size 432x288 with 1 Axes>"
      ]
     },
     "metadata": {
      "needs_background": "light"
     },
     "output_type": "display_data"
    }
   ],
   "source": [
    "plt.scatter(pc_samples[:,0], pc_samples[:,1])"
   ]
  },
  {
   "cell_type": "code",
   "execution_count": 9,
   "id": "weird-nurse",
   "metadata": {},
   "outputs": [
    {
     "data": {
      "text/plain": [
       "<matplotlib.collections.PathCollection at 0x7fc563094f40>"
      ]
     },
     "execution_count": 9,
     "metadata": {},
     "output_type": "execute_result"
    },
    {
     "data": {
      "image/png": "[encoded data removed]",
      "text/plain": [
       "<Figure size 432x288 with 1 Axes>"
      ]
     },
     "metadata": {
      "needs_background": "light"
     },
     "output_type": "display_data"
    }
   ],
   "source": [
    "plt.scatter(e_m_samples[:,0], e_m_samples[:,1])"
   ]
  },
  {
   "cell_type": "code",
   "execution_count": 10,
   "id": "reduced-therapist",
   "metadata": {},
   "outputs": [
    {
     "data": {
      "text/plain": [
       "<matplotlib.collections.PathCollection at 0x7fc56320d130>"
      ]
     },
     "execution_count": 10,
     "metadata": {},
     "output_type": "execute_result"
    },
    {
     "data": {
      "image/png": "[encoded data removed]",
      "text/plain": [
       "<Figure size 432x288 with 1 Axes>"
      ]
     },
     "metadata": {
      "needs_background": "light"
     },
     "output_type": "display_data"
    }
   ],
   "source": [
    "plt.scatter(ode_samples[:,0], ode_samples[:,1])"
   ]
  },
  {
   "cell_type": "markdown",
   "id": "covered-plant",
   "metadata": {},
   "source": [
    "### Example 2"
   ]
  },
  {
   "cell_type": "code",
   "execution_count": 21,
   "id": "eastern-harvard",
   "metadata": {},
   "outputs": [
    {
     "data": {
      "text/plain": [
       "<All keys matched successfully>"
      ]
     },
     "execution_count": 21,
     "metadata": {},
     "output_type": "execute_result"
    }
   ],
   "source": [
    "ckpt = torch.load('ex_2_testtest.pth')\n",
    "score_model.load_state_dict(ckpt)"
   ]
  },
  {
   "cell_type": "code",
   "execution_count": 22,
   "id": "expensive-cornwall",
   "metadata": {},
   "outputs": [
    {
     "data": {
      "application/json": {
       "ascii": false,
       "bar_format": null,
       "colour": null,
       "elapsed": 0.026014089584350586,
       "initial": 0,
       "n": 0,
       "ncols": null,
       "nrows": null,
       "postfix": null,
       "prefix": "",
       "rate": null,
       "total": 1000,
       "unit": "it",
       "unit_divisor": 1000,
       "unit_scale": false
      },
      "application/vnd.jupyter.widget-view+json": {
       "model_id": "88de5ac2eb8a4629adfe1b4ed1373dea",
       "version_major": 2,
       "version_minor": 0
      },
      "text/plain": [
       "  0%|          | 0/1000 [00:00<?, ?it/s]"
      ]
     },
     "metadata": {},
     "output_type": "display_data"
    }
   ],
   "source": [
    "pc_samples = pc_sampler(score_model, marginal_prob_std_fn, diffusion_coeff_fn, batch_size = 1000)"
   ]
  },
  {
   "cell_type": "code",
   "execution_count": 23,
   "id": "north-compensation",
   "metadata": {},
   "outputs": [
    {
     "data": {
      "application/json": {
       "ascii": false,
       "bar_format": null,
       "colour": null,
       "elapsed": 0.024799108505249023,
       "initial": 0,
       "n": 0,
       "ncols": null,
       "nrows": null,
       "postfix": null,
       "prefix": "",
       "rate": null,
       "total": 1000,
       "unit": "it",
       "unit_divisor": 1000,
       "unit_scale": false
      },
      "application/vnd.jupyter.widget-view+json": {
       "model_id": "f6184c7a9d2e48a3a40d9a24bdc7dd4f",
       "version_major": 2,
       "version_minor": 0
      },
      "text/plain": [
       "  0%|          | 0/1000 [00:00<?, ?it/s]"
      ]
     },
     "metadata": {},
     "output_type": "display_data"
    }
   ],
   "source": [
    "e_m_samples = Euler_Maruyama_sampler(score_model, marginal_prob_std_fn, diffusion_coeff_fn, batch_size=1000)"
   ]
  },
  {
   "cell_type": "code",
   "execution_count": 24,
   "id": "linear-thailand",
   "metadata": {},
   "outputs": [
    {
     "name": "stdout",
     "output_type": "stream",
     "text": [
      "Number of function evaluations: 284\n"
     ]
    }
   ],
   "source": [
    "ode_samples = ode_sampler(score_model, marginal_prob_std_fn, diffusion_coeff_fn, batch_size=1000)"
   ]
  },
  {
   "cell_type": "code",
   "execution_count": 25,
   "id": "international-purse",
   "metadata": {},
   "outputs": [
    {
     "data": {
      "text/plain": [
       "<matplotlib.collections.PathCollection at 0x7fc17d7784f0>"
      ]
     },
     "execution_count": 25,
     "metadata": {},
     "output_type": "execute_result"
    },
    {
     "data": {
      "image/png": "[encoded data removed]",
      "text/plain": [
       "<Figure size 432x288 with 1 Axes>"
      ]
     },
     "metadata": {
      "needs_background": "light"
     },
     "output_type": "display_data"
    }
   ],
   "source": [
    "plt.scatter(pc_samples[:,0], pc_samples[:,1])"
   ]
  },
  {
   "cell_type": "code",
   "execution_count": 26,
   "id": "automated-throw",
   "metadata": {},
   "outputs": [
    {
     "data": {
      "text/plain": [
       "<matplotlib.collections.PathCollection at 0x7fc17d81fdf0>"
      ]
     },
     "execution_count": 26,
     "metadata": {},
     "output_type": "execute_result"
    },
    {
     "data": {
      "image/png": "[encoded data removed]",
      "text/plain": [
       "<Figure size 432x288 with 1 Axes>"
      ]
     },
     "metadata": {
      "needs_background": "light"
     },
     "output_type": "display_data"
    }
   ],
   "source": [
    "plt.scatter(e_m_samples[:,0], e_m_samples[:,1])"
   ]
  },
  {
   "cell_type": "code",
   "execution_count": 27,
   "id": "serious-symphony",
   "metadata": {},
   "outputs": [
    {
     "data": {
      "text/plain": [
       "<matplotlib.collections.PathCollection at 0x7fc17d47e910>"
      ]
     },
     "execution_count": 27,
     "metadata": {},
     "output_type": "execute_result"
    },
    {
     "data": {
      "image/png": "[encoded data removed]",
      "text/plain": [
       "<Figure size 432x288 with 1 Axes>"
      ]
     },
     "metadata": {
      "needs_background": "light"
     },
     "output_type": "display_data"
    }
   ],
   "source": [
    "plt.scatter(ode_samples[:,0], ode_samples[:,1])"
   ]
  },
  {
   "cell_type": "markdown",
   "id": "educated-australian",
   "metadata": {},
   "source": [
    "### Example 3"
   ]
  },
  {
   "cell_type": "code",
   "execution_count": 11,
   "id": "brown-preference",
   "metadata": {},
   "outputs": [
    {
     "data": {
      "text/plain": [
       "<All keys matched successfully>"
      ]
     },
     "execution_count": 11,
     "metadata": {},
     "output_type": "execute_result"
    }
   ],
   "source": [
    "ckpt = torch.load('ex_3_testtest.pth')\n",
    "score_model.load_state_dict(ckpt)"
   ]
  },
  {
   "cell_type": "code",
   "execution_count": 12,
   "id": "chemical-guinea",
   "metadata": {},
   "outputs": [
    {
     "data": {
      "application/json": {
       "ascii": false,
       "bar_format": null,
       "colour": null,
       "elapsed": 0.026917219161987305,
       "initial": 0,
       "n": 0,
       "ncols": null,
       "nrows": null,
       "postfix": null,
       "prefix": "",
       "rate": null,
       "total": 1000,
       "unit": "it",
       "unit_divisor": 1000,
       "unit_scale": false
      },
      "application/vnd.jupyter.widget-view+json": {
       "model_id": "c73c6deca0fd40cdbf661a2bb6408759",
       "version_major": 2,
       "version_minor": 0
      },
      "text/plain": [
       "  0%|          | 0/1000 [00:00<?, ?it/s]"
      ]
     },
     "metadata": {},
     "output_type": "display_data"
    }
   ],
   "source": [
    "pc_samples = pc_sampler(score_model, marginal_prob_std_fn, diffusion_coeff_fn, batch_size = 1000)"
   ]
  },
  {
   "cell_type": "code",
   "execution_count": 13,
   "id": "unsigned-letter",
   "metadata": {},
   "outputs": [
    {
     "data": {
      "application/json": {
       "ascii": false,
       "bar_format": null,
       "colour": null,
       "elapsed": 0.024701356887817383,
       "initial": 0,
       "n": 0,
       "ncols": null,
       "nrows": null,
       "postfix": null,
       "prefix": "",
       "rate": null,
       "total": 1000,
       "unit": "it",
       "unit_divisor": 1000,
       "unit_scale": false
      },
      "application/vnd.jupyter.widget-view+json": {
       "model_id": "04349eae2c984cf795e73bf418a0638d",
       "version_major": 2,
       "version_minor": 0
      },
      "text/plain": [
       "  0%|          | 0/1000 [00:00<?, ?it/s]"
      ]
     },
     "metadata": {},
     "output_type": "display_data"
    }
   ],
   "source": [
    "e_m_samples = Euler_Maruyama_sampler(score_model, marginal_prob_std_fn, diffusion_coeff_fn, batch_size=1000)"
   ]
  },
  {
   "cell_type": "code",
   "execution_count": 14,
   "id": "developmental-rover",
   "metadata": {},
   "outputs": [
    {
     "name": "stdout",
     "output_type": "stream",
     "text": [
      "Number of function evaluations: 266\n"
     ]
    }
   ],
   "source": [
    "ode_samples = ode_sampler(score_model, marginal_prob_std_fn, diffusion_coeff_fn, batch_size=1000)"
   ]
  },
  {
   "cell_type": "code",
   "execution_count": 15,
   "id": "eight-touch",
   "metadata": {},
   "outputs": [
    {
     "data": {
      "text/plain": [
       "<matplotlib.collections.PathCollection at 0x7fc56337fdf0>"
      ]
     },
     "execution_count": 15,
     "metadata": {},
     "output_type": "execute_result"
    },
    {
     "data": {
      "image/png": "[encoded data removed]",
      "text/plain": [
       "<Figure size 432x288 with 1 Axes>"
      ]
     },
     "metadata": {
      "needs_background": "light"
     },
     "output_type": "display_data"
    }
   ],
   "source": [
    "plt.scatter(pc_samples[:,0], pc_samples[:,1])"
   ]
  },
  {
   "cell_type": "code",
   "execution_count": 16,
   "id": "atlantic-criterion",
   "metadata": {},
   "outputs": [
    {
     "data": {
      "text/plain": [
       "<matplotlib.collections.PathCollection at 0x7fc5633f93a0>"
      ]
     },
     "execution_count": 16,
     "metadata": {},
     "output_type": "execute_result"
    },
    {
     "data": {
      "image/png": "[encoded data removed]",
      "text/plain": [
       "<Figure size 432x288 with 1 Axes>"
      ]
     },
     "metadata": {
      "needs_background": "light"
     },
     "output_type": "display_data"
    }
   ],
   "source": [
    "plt.scatter(e_m_samples[:,0], e_m_samples[:,1])"
   ]
  },
  {
   "cell_type": "code",
   "execution_count": 17,
   "id": "prepared-cambridge",
   "metadata": {},
   "outputs": [
    {
     "data": {
      "text/plain": [
       "<matplotlib.collections.PathCollection at 0x7fc563573a60>"
      ]
     },
     "execution_count": 17,
     "metadata": {},
     "output_type": "execute_result"
    },
    {
     "data": {
      "image/png": "[encoded data removed]",
      "text/plain": [
       "<Figure size 432x288 with 1 Axes>"
      ]
     },
     "metadata": {
      "needs_background": "light"
     },
     "output_type": "display_data"
    }
   ],
   "source": [
    "plt.scatter(ode_samples[:,0], ode_samples[:,1])"
   ]
  },
  {
   "cell_type": "markdown",
   "id": "raised-welcome",
   "metadata": {},
   "source": [
    "<hr style=\"border:4px solid black\">"
   ]
  },
  {
   "cell_type": "markdown",
   "id": "external-consumption",
   "metadata": {},
   "source": [
    "<a id='conditional_generation'></a>\n",
    "# Conditional generation"
   ]
  },
  {
   "cell_type": "markdown",
   "id": "another-central",
   "metadata": {},
   "source": [
    "## Generate testing datasets"
   ]
  },
  {
   "cell_type": "code",
   "execution_count": 18,
   "id": "intimate-hindu",
   "metadata": {},
   "outputs": [],
   "source": [
    "actual_samples_pos = np.random.gamma(1,0.3, size = 100000) + np.tanh(1.2)\n",
    "actual_samples_0 = np.random.gamma(1,0.3, size = 100000) + np.tanh(0)\n",
    "actual_samples_neg = np.random.gamma(1,0.3, size = 100000) + np.tanh(-1.2)"
   ]
  },
  {
   "cell_type": "code",
   "execution_count": 19,
   "id": "smart-fairy",
   "metadata": {},
   "outputs": [],
   "source": [
    "actual_samples_pos_2 = np.tanh(np.random.normal(0,np.sqrt(0.05), size = 100000) + 1.2)\n",
    "actual_samples_0_2 = np.tanh(np.random.normal(0,np.sqrt(0.05), size = 100000) + 0)\n",
    "actual_samples_neg_2 = np.tanh(np.random.normal(0,np.sqrt(0.05), size = 100000) - 1.2)"
   ]
  },
  {
   "cell_type": "code",
   "execution_count": 20,
   "id": "secret-subscriber",
   "metadata": {},
   "outputs": [],
   "source": [
    "actual_samples_pos_3 = np.random.gamma(1,0.3, size=100000) * np.tanh(1.2)\n",
    "actual_samples_neg_3 = np.random.gamma(1,0.3, size=100000) * np.tanh(-1.2)"
   ]
  },
  {
   "cell_type": "markdown",
   "id": "informational-strap",
   "metadata": {},
   "source": [
    "## Train conditional model"
   ]
  },
  {
   "cell_type": "markdown",
   "id": "boxed-talent",
   "metadata": {},
   "source": [
    "Have a bunch of training points (x,y). Then only forward diffuse the x components, so we get to (x_N, y). Then train NN to approximate the score with inputs (x_t, y, t), and the same loss as the unconditional method."
   ]
  },
  {
   "cell_type": "code",
   "execution_count": 44,
   "id": "driven-integration",
   "metadata": {},
   "outputs": [],
   "source": [
    "score_model = ScoreNet_2D(marginal_prob_std=marginal_prob_std_fn)"
   ]
  },
  {
   "cell_type": "code",
   "execution_count": 47,
   "id": "adaptive-printer",
   "metadata": {},
   "outputs": [
    {
     "data": {
      "application/json": {
       "ascii": false,
       "bar_format": null,
       "colour": null,
       "elapsed": 0.026126861572265625,
       "initial": 0,
       "n": 0,
       "ncols": null,
       "nrows": null,
       "postfix": null,
       "prefix": "",
       "rate": null,
       "total": 100,
       "unit": "it",
       "unit_divisor": 1000,
       "unit_scale": false
      },
      "application/vnd.jupyter.widget-view+json": {
       "model_id": "f142d592cd2a4a31a2a6af7b0b4e95d6",
       "version_major": 2,
       "version_minor": 0
      },
      "text/plain": [
       "  0%|          | 0/100 [00:00<?, ?it/s]"
      ]
     },
     "metadata": {},
     "output_type": "display_data"
    },
    {
     "name": "stderr",
     "output_type": "stream",
     "text": [
      "/Users/harryamad/Google Drive/2022/Dissertation/conditional_diffusion_simulation/SDE.py:16: UserWarning: To copy construct from a tensor, it is recommended to use sourceTensor.clone().detach() or sourceTensor.clone().detach().requires_grad_(True), rather than torch.tensor(sourceTensor).\n",
      "  t = torch.tensor(t)\n"
     ]
    }
   ],
   "source": [
    "losses_1 = train_model(score_model, ex_1, CDE_loss_fn_2D, marginal_prob_std_fn, 'cde_1_test.pth', epochs = 100, batch_size = 64)"
   ]
  },
  {
   "cell_type": "code",
   "execution_count": 48,
   "id": "equipped-caribbean",
   "metadata": {},
   "outputs": [
    {
     "data": {
      "text/plain": [
       "[<matplotlib.lines.Line2D at 0x7fc3736d3fa0>]"
      ]
     },
     "execution_count": 48,
     "metadata": {},
     "output_type": "execute_result"
    },
    {
     "data": {
      "image/png": "[encoded data removed]",
      "text/plain": [
       "<Figure size 432x288 with 1 Axes>"
      ]
     },
     "metadata": {
      "needs_background": "light"
     },
     "output_type": "display_data"
    }
   ],
   "source": [
    "plt.plot(losses_1)"
   ]
  },
  {
   "cell_type": "code",
   "execution_count": 50,
   "id": "golden-honduras",
   "metadata": {},
   "outputs": [],
   "source": [
    "score_model = ScoreNet_2D(marginal_prob_std=marginal_prob_std_fn)"
   ]
  },
  {
   "cell_type": "code",
   "execution_count": 51,
   "id": "sensitive-toyota",
   "metadata": {},
   "outputs": [
    {
     "data": {
      "application/json": {
       "ascii": false,
       "bar_format": null,
       "colour": null,
       "elapsed": 0.026433944702148438,
       "initial": 0,
       "n": 0,
       "ncols": null,
       "nrows": null,
       "postfix": null,
       "prefix": "",
       "rate": null,
       "total": 100,
       "unit": "it",
       "unit_divisor": 1000,
       "unit_scale": false
      },
      "application/vnd.jupyter.widget-view+json": {
       "model_id": "abbb6eab4e884a9b8c6618b3758a8530",
       "version_major": 2,
       "version_minor": 0
      },
      "text/plain": [
       "  0%|          | 0/100 [00:00<?, ?it/s]"
      ]
     },
     "metadata": {},
     "output_type": "display_data"
    }
   ],
   "source": [
    "losses_2 = train_model(score_model, ex_2, CDE_loss_fn_2D, marginal_prob_std_fn, 'cde_2_test.pth', epochs = 100, batch_size = 64)"
   ]
  },
  {
   "cell_type": "code",
   "execution_count": 52,
   "id": "quarterly-portland",
   "metadata": {},
   "outputs": [
    {
     "data": {
      "text/plain": [
       "[<matplotlib.lines.Line2D at 0x7fc3730c3580>]"
      ]
     },
     "execution_count": 52,
     "metadata": {},
     "output_type": "execute_result"
    },
    {
     "data": {
      "image/png": "[encoded data removed]",
      "text/plain": [
       "<Figure size 432x288 with 1 Axes>"
      ]
     },
     "metadata": {
      "needs_background": "light"
     },
     "output_type": "display_data"
    }
   ],
   "source": [
    "plt.plot(losses_2)"
   ]
  },
  {
   "cell_type": "code",
   "execution_count": 53,
   "id": "dirty-eight",
   "metadata": {},
   "outputs": [],
   "source": [
    "score_model = ScoreNet_2D(marginal_prob_std=marginal_prob_std_fn)"
   ]
  },
  {
   "cell_type": "code",
   "execution_count": 54,
   "id": "yellow-welding",
   "metadata": {},
   "outputs": [
    {
     "data": {
      "application/json": {
       "ascii": false,
       "bar_format": null,
       "colour": null,
       "elapsed": 0.04103398323059082,
       "initial": 0,
       "n": 0,
       "ncols": null,
       "nrows": null,
       "postfix": null,
       "prefix": "",
       "rate": null,
       "total": 100,
       "unit": "it",
       "unit_divisor": 1000,
       "unit_scale": false
      },
      "application/vnd.jupyter.widget-view+json": {
       "model_id": "36fa8a6d62ac4b53bec1a3a7781dffbe",
       "version_major": 2,
       "version_minor": 0
      },
      "text/plain": [
       "  0%|          | 0/100 [00:00<?, ?it/s]"
      ]
     },
     "metadata": {},
     "output_type": "display_data"
    }
   ],
   "source": [
    "losses_3 = train_model(score_model, ex_3, CDE_loss_fn_2D, marginal_prob_std_fn, 'cde_3_test.pth', epochs = 100, batch_size = 64)"
   ]
  },
  {
   "cell_type": "code",
   "execution_count": 55,
   "id": "bright-property",
   "metadata": {
    "scrolled": true
   },
   "outputs": [
    {
     "data": {
      "text/plain": [
       "[<matplotlib.lines.Line2D at 0x7fc3731717f0>]"
      ]
     },
     "execution_count": 55,
     "metadata": {},
     "output_type": "execute_result"
    },
    {
     "data": {
      "image/png": "[encoded data removed]",
      "text/plain": [
       "<Figure size 432x288 with 1 Axes>"
      ]
     },
     "metadata": {
      "needs_background": "light"
     },
     "output_type": "display_data"
    }
   ],
   "source": [
    "plt.plot(losses_3)"
   ]
  },
  {
   "cell_type": "markdown",
   "id": "responsible-tutorial",
   "metadata": {},
   "source": [
    "<a id='cde_samples'></a>\n",
    "## Draw CDE samples"
   ]
  },
  {
   "cell_type": "markdown",
   "id": "increased-egypt",
   "metadata": {},
   "source": [
    "### Example 1"
   ]
  },
  {
   "cell_type": "code",
   "execution_count": 21,
   "id": "twelve-dryer",
   "metadata": {},
   "outputs": [
    {
     "data": {
      "application/json": {
       "ascii": false,
       "bar_format": null,
       "colour": null,
       "elapsed": 0.02590179443359375,
       "initial": 0,
       "n": 0,
       "ncols": null,
       "nrows": null,
       "postfix": null,
       "prefix": "",
       "rate": null,
       "total": 1000,
       "unit": "it",
       "unit_divisor": 1000,
       "unit_scale": false
      },
      "application/vnd.jupyter.widget-view+json": {
       "model_id": "04927d6aa2db4e39879c0ecf6f7f554e",
       "version_major": 2,
       "version_minor": 0
      },
      "text/plain": [
       "  0%|          | 0/1000 [00:00<?, ?it/s]"
      ]
     },
     "metadata": {},
     "output_type": "display_data"
    },
    {
     "data": {
      "application/json": {
       "ascii": false,
       "bar_format": null,
       "colour": null,
       "elapsed": 0.02718210220336914,
       "initial": 0,
       "n": 0,
       "ncols": null,
       "nrows": null,
       "postfix": null,
       "prefix": "",
       "rate": null,
       "total": 1000,
       "unit": "it",
       "unit_divisor": 1000,
       "unit_scale": false
      },
      "application/vnd.jupyter.widget-view+json": {
       "model_id": "895e5ef918b54d6784aa352fcbb1332a",
       "version_major": 2,
       "version_minor": 0
      },
      "text/plain": [
       "  0%|          | 0/1000 [00:00<?, ?it/s]"
      ]
     },
     "metadata": {},
     "output_type": "display_data"
    },
    {
     "data": {
      "application/json": {
       "ascii": false,
       "bar_format": null,
       "colour": null,
       "elapsed": 0.026947021484375,
       "initial": 0,
       "n": 0,
       "ncols": null,
       "nrows": null,
       "postfix": null,
       "prefix": "",
       "rate": null,
       "total": 1000,
       "unit": "it",
       "unit_divisor": 1000,
       "unit_scale": false
      },
      "application/vnd.jupyter.widget-view+json": {
       "model_id": "6f2ff1b21d3f4889b226ba606c30c01a",
       "version_major": 2,
       "version_minor": 0
      },
      "text/plain": [
       "  0%|          | 0/1000 [00:00<?, ?it/s]"
      ]
     },
     "metadata": {},
     "output_type": "display_data"
    }
   ],
   "source": [
    "ckpt = torch.load('models/cde_1.pth')\n",
    "score_model.load_state_dict(ckpt)\n",
    "cde_samples_0 = CDE_Euler_Maruyama_sampler(score_model, \n",
    "                           marginal_prob_std_fn,\n",
    "                           diffusion_coeff_fn, \n",
    "                           y_obs = torch.tensor(0, dtype = torch.float32), batch_size = 1000)\n",
    "cde_samples_pos = CDE_Euler_Maruyama_sampler(score_model, \n",
    "                           marginal_prob_std_fn,\n",
    "                           diffusion_coeff_fn, \n",
    "                           y_obs = torch.tensor(1.2, dtype = torch.float32), batch_size = 1000)\n",
    "cde_samples_neg = CDE_Euler_Maruyama_sampler(score_model, \n",
    "                           marginal_prob_std_fn,\n",
    "                           diffusion_coeff_fn, \n",
    "                           y_obs = torch.tensor(-1.2, dtype = torch.float32), batch_size = 1000)"
   ]
  },
  {
   "cell_type": "code",
   "execution_count": 22,
   "id": "sitting-theology",
   "metadata": {
    "scrolled": false
   },
   "outputs": [
    {
     "data": {
      "text/plain": [
       "<matplotlib.axes._subplots.AxesSubplot at 0x7fc563629940>"
      ]
     },
     "execution_count": 22,
     "metadata": {},
     "output_type": "execute_result"
    },
    {
     "data": {
      "image/png": "[encoded data removed]",
      "text/plain": [
       "<Figure size 432x288 with 1 Axes>"
      ]
     },
     "metadata": {
      "needs_background": "light"
     },
     "output_type": "display_data"
    }
   ],
   "source": [
    "sns.kdeplot(actual_samples_0, color = 'green')\n",
    "sns.histplot(cde_samples_0[:,0], stat = 'density', color = 'green')\n",
    "sns.kdeplot(actual_samples_pos, color = 'blue')\n",
    "sns.histplot(cde_samples_pos[:,0], stat = 'density', color = 'blue')\n",
    "sns.kdeplot(actual_samples_neg, color = 'red')\n",
    "sns.histplot(cde_samples_neg[:,0], stat = 'density', color = 'red')"
   ]
  },
  {
   "cell_type": "markdown",
   "id": "center-female",
   "metadata": {},
   "source": [
    "### Example 2"
   ]
  },
  {
   "cell_type": "code",
   "execution_count": 23,
   "id": "chicken-helmet",
   "metadata": {},
   "outputs": [
    {
     "name": "stderr",
     "output_type": "stream",
     "text": [
      "/Users/harryamad/Google Drive/2022/Dissertation/conditional_diffusion_simulation/SDE.py:16: UserWarning: To copy construct from a tensor, it is recommended to use sourceTensor.clone().detach() or sourceTensor.clone().detach().requires_grad_(True), rather than torch.tensor(sourceTensor).\n",
      "  t = torch.tensor(t)\n"
     ]
    },
    {
     "data": {
      "application/json": {
       "ascii": false,
       "bar_format": null,
       "colour": null,
       "elapsed": 0.025675058364868164,
       "initial": 0,
       "n": 0,
       "ncols": null,
       "nrows": null,
       "postfix": null,
       "prefix": "",
       "rate": null,
       "total": 1000,
       "unit": "it",
       "unit_divisor": 1000,
       "unit_scale": false
      },
      "application/vnd.jupyter.widget-view+json": {
       "model_id": "80f26dd4f8434ab1bde12b9135115f7b",
       "version_major": 2,
       "version_minor": 0
      },
      "text/plain": [
       "  0%|          | 0/1000 [00:00<?, ?it/s]"
      ]
     },
     "metadata": {},
     "output_type": "display_data"
    },
    {
     "data": {
      "application/json": {
       "ascii": false,
       "bar_format": null,
       "colour": null,
       "elapsed": 0.026716947555541992,
       "initial": 0,
       "n": 0,
       "ncols": null,
       "nrows": null,
       "postfix": null,
       "prefix": "",
       "rate": null,
       "total": 1000,
       "unit": "it",
       "unit_divisor": 1000,
       "unit_scale": false
      },
      "application/vnd.jupyter.widget-view+json": {
       "model_id": "1f60eaa70b4b4700829c129d891a63bd",
       "version_major": 2,
       "version_minor": 0
      },
      "text/plain": [
       "  0%|          | 0/1000 [00:00<?, ?it/s]"
      ]
     },
     "metadata": {},
     "output_type": "display_data"
    },
    {
     "data": {
      "application/json": {
       "ascii": false,
       "bar_format": null,
       "colour": null,
       "elapsed": 0.026690959930419922,
       "initial": 0,
       "n": 0,
       "ncols": null,
       "nrows": null,
       "postfix": null,
       "prefix": "",
       "rate": null,
       "total": 1000,
       "unit": "it",
       "unit_divisor": 1000,
       "unit_scale": false
      },
      "application/vnd.jupyter.widget-view+json": {
       "model_id": "5624c099661b40d8b3c61b6df1bed473",
       "version_major": 2,
       "version_minor": 0
      },
      "text/plain": [
       "  0%|          | 0/1000 [00:00<?, ?it/s]"
      ]
     },
     "metadata": {},
     "output_type": "display_data"
    }
   ],
   "source": [
    "ckpt = torch.load('models/cde_2.pth')\n",
    "score_model.load_state_dict(ckpt)\n",
    "cde_samples_0_2 = CDE_Euler_Maruyama_sampler(score_model, \n",
    "                           marginal_prob_std_fn,\n",
    "                           diffusion_coeff_fn, \n",
    "                           y_obs = torch.tensor(0, dtype = torch.float32), batch_size = 1000)\n",
    "cde_samples_pos_2 = CDE_Euler_Maruyama_sampler(score_model, \n",
    "                           marginal_prob_std_fn,\n",
    "                           diffusion_coeff_fn, \n",
    "                           y_obs = torch.tensor(1.2, dtype = torch.float32), batch_size = 1000)\n",
    "cde_samples_neg_2 = CDE_Euler_Maruyama_sampler(score_model, \n",
    "                           marginal_prob_std_fn,\n",
    "                           diffusion_coeff_fn, \n",
    "                           y_obs = torch.tensor(-1.2, dtype = torch.float32), batch_size = 1000)"
   ]
  },
  {
   "cell_type": "code",
   "execution_count": 24,
   "id": "dress-hindu",
   "metadata": {
    "scrolled": true
   },
   "outputs": [
    {
     "data": {
      "text/plain": [
       "<matplotlib.axes._subplots.AxesSubplot at 0x7fc56474c460>"
      ]
     },
     "execution_count": 24,
     "metadata": {},
     "output_type": "execute_result"
    },
    {
     "data": {
      "image/png": "[encoded data removed]",
      "text/plain": [
       "<Figure size 432x288 with 1 Axes>"
      ]
     },
     "metadata": {
      "needs_background": "light"
     },
     "output_type": "display_data"
    }
   ],
   "source": [
    "sns.kdeplot(actual_samples_0_2, color = 'green')\n",
    "sns.histplot(cde_samples_0_2[:,0], stat = 'density', color = 'green')\n",
    "sns.kdeplot(actual_samples_pos_2, color = 'blue')\n",
    "sns.histplot(cde_samples_pos_2[:,0], stat = 'density', color = 'blue')\n",
    "sns.kdeplot(actual_samples_neg_2, color = 'red')\n",
    "sns.histplot(cde_samples_neg_2[:,0], stat = 'density', color = 'red')"
   ]
  },
  {
   "cell_type": "markdown",
   "id": "equal-utilization",
   "metadata": {},
   "source": [
    "### Example 3"
   ]
  },
  {
   "cell_type": "code",
   "execution_count": 25,
   "id": "bacterial-disco",
   "metadata": {},
   "outputs": [
    {
     "name": "stderr",
     "output_type": "stream",
     "text": [
      "/Users/harryamad/Google Drive/2022/Dissertation/conditional_diffusion_simulation/SDE.py:16: UserWarning: To copy construct from a tensor, it is recommended to use sourceTensor.clone().detach() or sourceTensor.clone().detach().requires_grad_(True), rather than torch.tensor(sourceTensor).\n",
      "  t = torch.tensor(t)\n"
     ]
    },
    {
     "data": {
      "application/json": {
       "ascii": false,
       "bar_format": null,
       "colour": null,
       "elapsed": 0.025236845016479492,
       "initial": 0,
       "n": 0,
       "ncols": null,
       "nrows": null,
       "postfix": null,
       "prefix": "",
       "rate": null,
       "total": 1000,
       "unit": "it",
       "unit_divisor": 1000,
       "unit_scale": false
      },
      "application/vnd.jupyter.widget-view+json": {
       "model_id": "7c24e4fe605b442194a45651da2dd93e",
       "version_major": 2,
       "version_minor": 0
      },
      "text/plain": [
       "  0%|          | 0/1000 [00:00<?, ?it/s]"
      ]
     },
     "metadata": {},
     "output_type": "display_data"
    },
    {
     "data": {
      "application/json": {
       "ascii": false,
       "bar_format": null,
       "colour": null,
       "elapsed": 0.024995803833007812,
       "initial": 0,
       "n": 0,
       "ncols": null,
       "nrows": null,
       "postfix": null,
       "prefix": "",
       "rate": null,
       "total": 1000,
       "unit": "it",
       "unit_divisor": 1000,
       "unit_scale": false
      },
      "application/vnd.jupyter.widget-view+json": {
       "model_id": "cfcdc7151c074ac58a6cc9030783db46",
       "version_major": 2,
       "version_minor": 0
      },
      "text/plain": [
       "  0%|          | 0/1000 [00:00<?, ?it/s]"
      ]
     },
     "metadata": {},
     "output_type": "display_data"
    }
   ],
   "source": [
    "ckpt = torch.load('models/cde_3.pth')\n",
    "score_model.load_state_dict(ckpt)\n",
    "\n",
    "cde_samples_pos_3 = CDE_Euler_Maruyama_sampler(score_model, \n",
    "                           marginal_prob_std_fn,\n",
    "                           diffusion_coeff_fn, \n",
    "                           y_obs = torch.tensor(1.2, dtype = torch.float32), batch_size = 1000)\n",
    "cde_samples_neg_3 = CDE_Euler_Maruyama_sampler(score_model, \n",
    "                           marginal_prob_std_fn,\n",
    "                           diffusion_coeff_fn, \n",
    "                           y_obs = torch.tensor(-1.2, dtype = torch.float32), batch_size = 1000)"
   ]
  },
  {
   "cell_type": "code",
   "execution_count": 26,
   "id": "hundred-childhood",
   "metadata": {
    "scrolled": false
   },
   "outputs": [
    {
     "data": {
      "text/plain": [
       "<matplotlib.axes._subplots.AxesSubplot at 0x7fc564738ca0>"
      ]
     },
     "execution_count": 26,
     "metadata": {},
     "output_type": "execute_result"
    },
    {
     "data": {
      "image/png": "[encoded data removed]",
      "text/plain": [
       "<Figure size 432x288 with 1 Axes>"
      ]
     },
     "metadata": {
      "needs_background": "light"
     },
     "output_type": "display_data"
    }
   ],
   "source": [
    "sns.kdeplot(actual_samples_pos_3, color = 'blue')\n",
    "sns.histplot(cde_samples_pos_3[:,0], stat = 'density', color = 'blue')\n",
    "sns.kdeplot(actual_samples_neg_3, color = 'red')\n",
    "sns.histplot(cde_samples_neg_3[:,0], stat = 'density', color = 'red')"
   ]
  },
  {
   "cell_type": "code",
   "execution_count": 115,
   "id": "unavailable-treasurer",
   "metadata": {},
   "outputs": [],
   "source": [
    "torch.save(cde_samples_0, 'data/cde_0_1.pt')\n",
    "torch.save(cde_samples_pos, 'data/cde_pos_1.pt')\n",
    "torch.save(cde_samples_neg, 'data/cde_neg_1.pt')\n",
    "\n",
    "torch.save(cde_samples_0_2, 'data/cde_0_2.pt')\n",
    "torch.save(cde_samples_pos_2, 'data/cde_pos_2.pt')\n",
    "torch.save(cde_samples_neg_2, 'data/cde_neg_2.pt')\n",
    "\n",
    "torch.save(cde_samples_pos_3, 'data/cde_pos_3.pt')\n",
    "torch.save(cde_samples_neg_3, 'data/cde_neg_3.pt')"
   ]
  },
  {
   "cell_type": "markdown",
   "id": "enormous-story",
   "metadata": {},
   "source": [
    "<hr style=\"border:2px solid black\">"
   ]
  },
  {
   "cell_type": "markdown",
   "id": "aging-april",
   "metadata": {},
   "source": [
    "<a id='cdiffe_samples'></a>\n",
    "## Draw CDiffE samples"
   ]
  },
  {
   "cell_type": "markdown",
   "id": "discrete-niagara",
   "metadata": {},
   "source": [
    "### Example 1"
   ]
  },
  {
   "cell_type": "code",
   "execution_count": 27,
   "id": "advanced-queensland",
   "metadata": {},
   "outputs": [
    {
     "name": "stderr",
     "output_type": "stream",
     "text": [
      "/Users/harryamad/Google Drive/2022/Dissertation/conditional_diffusion_simulation/SDE.py:16: UserWarning: To copy construct from a tensor, it is recommended to use sourceTensor.clone().detach() or sourceTensor.clone().detach().requires_grad_(True), rather than torch.tensor(sourceTensor).\n",
      "  t = torch.tensor(t)\n"
     ]
    },
    {
     "data": {
      "application/json": {
       "ascii": false,
       "bar_format": null,
       "colour": null,
       "elapsed": 0.02777409553527832,
       "initial": 0,
       "n": 0,
       "ncols": null,
       "nrows": null,
       "postfix": null,
       "prefix": "",
       "rate": null,
       "total": 1000,
       "unit": "it",
       "unit_divisor": 1000,
       "unit_scale": false
      },
      "application/vnd.jupyter.widget-view+json": {
       "model_id": "ea4aa227216840aeb3eb558b5f7df1ae",
       "version_major": 2,
       "version_minor": 0
      },
      "text/plain": [
       "  0%|          | 0/1000 [00:00<?, ?it/s]"
      ]
     },
     "metadata": {},
     "output_type": "display_data"
    },
    {
     "data": {
      "application/json": {
       "ascii": false,
       "bar_format": null,
       "colour": null,
       "elapsed": 0.025934934616088867,
       "initial": 0,
       "n": 0,
       "ncols": null,
       "nrows": null,
       "postfix": null,
       "prefix": "",
       "rate": null,
       "total": 1000,
       "unit": "it",
       "unit_divisor": 1000,
       "unit_scale": false
      },
      "application/vnd.jupyter.widget-view+json": {
       "model_id": "ee90cf0d4bdb472b98d19eac2b31b460",
       "version_major": 2,
       "version_minor": 0
      },
      "text/plain": [
       "  0%|          | 0/1000 [00:00<?, ?it/s]"
      ]
     },
     "metadata": {},
     "output_type": "display_data"
    },
    {
     "data": {
      "application/json": {
       "ascii": false,
       "bar_format": null,
       "colour": null,
       "elapsed": 0.024507761001586914,
       "initial": 0,
       "n": 0,
       "ncols": null,
       "nrows": null,
       "postfix": null,
       "prefix": "",
       "rate": null,
       "total": 1000,
       "unit": "it",
       "unit_divisor": 1000,
       "unit_scale": false
      },
      "application/vnd.jupyter.widget-view+json": {
       "model_id": "d8d2470c09de4c6697f872060d28f565",
       "version_major": 2,
       "version_minor": 0
      },
      "text/plain": [
       "  0%|          | 0/1000 [00:00<?, ?it/s]"
      ]
     },
     "metadata": {},
     "output_type": "display_data"
    }
   ],
   "source": [
    "score_model = ScoreNet_2D(marginal_prob_std=marginal_prob_std_fn)\n",
    "ckpt = torch.load('models/ex_1.pth')\n",
    "score_model.load_state_dict(ckpt)\n",
    "cdiffe_samples_0 = CDiffE_Euler_Maruyama_sampler(score_model, \n",
    "                           marginal_prob_std_fn,\n",
    "                           diffusion_coeff_fn, \n",
    "                           y_obs = torch.tensor(0, dtype = torch.float32), batch_size = 1000)\n",
    "\n",
    "cdiffe_samples_neg = CDiffE_Euler_Maruyama_sampler(score_model, \n",
    "                           marginal_prob_std_fn,\n",
    "                           diffusion_coeff_fn, \n",
    "                           y_obs = torch.tensor(-1.2, dtype = torch.float32), batch_size = 1000)\n",
    "\n",
    "cdiffe_samples_pos = CDiffE_Euler_Maruyama_sampler(score_model, \n",
    "                           marginal_prob_std_fn,\n",
    "                           diffusion_coeff_fn, \n",
    "                           y_obs = torch.tensor(1.2, dtype = torch.float32), batch_size = 1000)"
   ]
  },
  {
   "cell_type": "code",
   "execution_count": 28,
   "id": "intense-premium",
   "metadata": {},
   "outputs": [
    {
     "data": {
      "text/plain": [
       "<matplotlib.axes._subplots.AxesSubplot at 0x7fc564481ac0>"
      ]
     },
     "execution_count": 28,
     "metadata": {},
     "output_type": "execute_result"
    },
    {
     "data": {
      "image/png": "[encoded data removed]",
      "text/plain": [
       "<Figure size 432x288 with 1 Axes>"
      ]
     },
     "metadata": {
      "needs_background": "light"
     },
     "output_type": "display_data"
    }
   ],
   "source": [
    "sns.kdeplot(actual_samples_0, color = 'green')\n",
    "sns.histplot(cdiffe_samples_0[:,0], stat = 'density', color = 'green')\n",
    "sns.kdeplot(actual_samples_pos, color = 'blue')\n",
    "sns.histplot(cdiffe_samples_pos[:,0], stat = 'density', color = 'blue')\n",
    "sns.kdeplot(actual_samples_neg, color = 'red')\n",
    "sns.histplot(cdiffe_samples_neg[:,0], stat = 'density', color = 'red')"
   ]
  },
  {
   "cell_type": "markdown",
   "id": "according-belief",
   "metadata": {},
   "source": [
    "### Example 2"
   ]
  },
  {
   "cell_type": "code",
   "execution_count": 29,
   "id": "impressive-cliff",
   "metadata": {},
   "outputs": [
    {
     "name": "stderr",
     "output_type": "stream",
     "text": [
      "/Users/harryamad/Google Drive/2022/Dissertation/conditional_diffusion_simulation/SDE.py:16: UserWarning: To copy construct from a tensor, it is recommended to use sourceTensor.clone().detach() or sourceTensor.clone().detach().requires_grad_(True), rather than torch.tensor(sourceTensor).\n",
      "  t = torch.tensor(t)\n"
     ]
    },
    {
     "data": {
      "application/json": {
       "ascii": false,
       "bar_format": null,
       "colour": null,
       "elapsed": 0.03048396110534668,
       "initial": 0,
       "n": 0,
       "ncols": null,
       "nrows": null,
       "postfix": null,
       "prefix": "",
       "rate": null,
       "total": 1000,
       "unit": "it",
       "unit_divisor": 1000,
       "unit_scale": false
      },
      "application/vnd.jupyter.widget-view+json": {
       "model_id": "c7451493e71e4c9cace3aec1ceba507f",
       "version_major": 2,
       "version_minor": 0
      },
      "text/plain": [
       "  0%|          | 0/1000 [00:00<?, ?it/s]"
      ]
     },
     "metadata": {},
     "output_type": "display_data"
    },
    {
     "data": {
      "application/json": {
       "ascii": false,
       "bar_format": null,
       "colour": null,
       "elapsed": 0.026459932327270508,
       "initial": 0,
       "n": 0,
       "ncols": null,
       "nrows": null,
       "postfix": null,
       "prefix": "",
       "rate": null,
       "total": 1000,
       "unit": "it",
       "unit_divisor": 1000,
       "unit_scale": false
      },
      "application/vnd.jupyter.widget-view+json": {
       "model_id": "cdf7b44638a04bfca48b3e529784873e",
       "version_major": 2,
       "version_minor": 0
      },
      "text/plain": [
       "  0%|          | 0/1000 [00:00<?, ?it/s]"
      ]
     },
     "metadata": {},
     "output_type": "display_data"
    },
    {
     "data": {
      "application/json": {
       "ascii": false,
       "bar_format": null,
       "colour": null,
       "elapsed": 0.0241241455078125,
       "initial": 0,
       "n": 0,
       "ncols": null,
       "nrows": null,
       "postfix": null,
       "prefix": "",
       "rate": null,
       "total": 1000,
       "unit": "it",
       "unit_divisor": 1000,
       "unit_scale": false
      },
      "application/vnd.jupyter.widget-view+json": {
       "model_id": "dc07f7b8383f4041b629765abe265b2b",
       "version_major": 2,
       "version_minor": 0
      },
      "text/plain": [
       "  0%|          | 0/1000 [00:00<?, ?it/s]"
      ]
     },
     "metadata": {},
     "output_type": "display_data"
    }
   ],
   "source": [
    "score_model = ScoreNet_2D(marginal_prob_std=marginal_prob_std_fn)\n",
    "ckpt = torch.load('models/ex_2.pth')\n",
    "score_model.load_state_dict(ckpt)\n",
    "cdiffe_samples_0_2 = CDiffE_Euler_Maruyama_sampler(score_model, \n",
    "                           marginal_prob_std_fn,\n",
    "                           diffusion_coeff_fn, \n",
    "                           y_obs = torch.tensor(0, dtype = torch.float32), batch_size = 1000)\n",
    "\n",
    "cdiffe_samples_neg_2 = CDiffE_Euler_Maruyama_sampler(score_model, \n",
    "                           marginal_prob_std_fn,\n",
    "                           diffusion_coeff_fn, \n",
    "                           y_obs = torch.tensor(-1.2, dtype = torch.float32), batch_size = 1000)\n",
    "\n",
    "cdiffe_samples_pos_2 = CDiffE_Euler_Maruyama_sampler(score_model, \n",
    "                           marginal_prob_std_fn,\n",
    "                           diffusion_coeff_fn, \n",
    "                           y_obs = torch.tensor(1.2, dtype = torch.float32), batch_size = 1000)"
   ]
  },
  {
   "cell_type": "code",
   "execution_count": 30,
   "id": "numeric-constitution",
   "metadata": {
    "scrolled": true
   },
   "outputs": [
    {
     "data": {
      "text/plain": [
       "<matplotlib.axes._subplots.AxesSubplot at 0x7fc564966940>"
      ]
     },
     "execution_count": 30,
     "metadata": {},
     "output_type": "execute_result"
    },
    {
     "data": {
      "image/png": "[encoded data removed]",
      "text/plain": [
       "<Figure size 432x288 with 1 Axes>"
      ]
     },
     "metadata": {
      "needs_background": "light"
     },
     "output_type": "display_data"
    }
   ],
   "source": [
    "sns.kdeplot(actual_samples_0_2, color = 'green')\n",
    "sns.histplot(cdiffe_samples_0_2[:,0], stat = 'density', color = 'green')\n",
    "sns.kdeplot(actual_samples_pos_2, color = 'blue')\n",
    "sns.histplot(cdiffe_samples_pos_2[:,0], stat = 'density', color = 'blue')\n",
    "sns.kdeplot(actual_samples_neg_2, color = 'red')\n",
    "sns.histplot(cdiffe_samples_neg_2[:,0], stat = 'density', color = 'red')"
   ]
  },
  {
   "cell_type": "markdown",
   "id": "recent-validity",
   "metadata": {},
   "source": [
    "### Example 3"
   ]
  },
  {
   "cell_type": "code",
   "execution_count": 31,
   "id": "familiar-airline",
   "metadata": {},
   "outputs": [
    {
     "name": "stderr",
     "output_type": "stream",
     "text": [
      "/Users/harryamad/Google Drive/2022/Dissertation/conditional_diffusion_simulation/SDE.py:16: UserWarning: To copy construct from a tensor, it is recommended to use sourceTensor.clone().detach() or sourceTensor.clone().detach().requires_grad_(True), rather than torch.tensor(sourceTensor).\n",
      "  t = torch.tensor(t)\n"
     ]
    },
    {
     "data": {
      "application/json": {
       "ascii": false,
       "bar_format": null,
       "colour": null,
       "elapsed": 0.026681900024414062,
       "initial": 0,
       "n": 0,
       "ncols": null,
       "nrows": null,
       "postfix": null,
       "prefix": "",
       "rate": null,
       "total": 1000,
       "unit": "it",
       "unit_divisor": 1000,
       "unit_scale": false
      },
      "application/vnd.jupyter.widget-view+json": {
       "model_id": "890f775579f84101be0a1bcb234f738f",
       "version_major": 2,
       "version_minor": 0
      },
      "text/plain": [
       "  0%|          | 0/1000 [00:00<?, ?it/s]"
      ]
     },
     "metadata": {},
     "output_type": "display_data"
    },
    {
     "data": {
      "application/json": {
       "ascii": false,
       "bar_format": null,
       "colour": null,
       "elapsed": 0.025130271911621094,
       "initial": 0,
       "n": 0,
       "ncols": null,
       "nrows": null,
       "postfix": null,
       "prefix": "",
       "rate": null,
       "total": 1000,
       "unit": "it",
       "unit_divisor": 1000,
       "unit_scale": false
      },
      "application/vnd.jupyter.widget-view+json": {
       "model_id": "b041939b01f44f22ba3f9b9b4eb9e9ea",
       "version_major": 2,
       "version_minor": 0
      },
      "text/plain": [
       "  0%|          | 0/1000 [00:00<?, ?it/s]"
      ]
     },
     "metadata": {},
     "output_type": "display_data"
    }
   ],
   "source": [
    "score_model = ScoreNet_2D(marginal_prob_std=marginal_prob_std_fn)\n",
    "ckpt = torch.load('models/ex_3.pth')\n",
    "score_model.load_state_dict(ckpt)\n",
    "\n",
    "cdiffe_samples_neg_3 = CDiffE_Euler_Maruyama_sampler(score_model, \n",
    "                           marginal_prob_std_fn,\n",
    "                           diffusion_coeff_fn, \n",
    "                           y_obs = torch.tensor(-1.2, dtype = torch.float32), batch_size = 1000)\n",
    "\n",
    "cdiffe_samples_pos_3 = CDiffE_Euler_Maruyama_sampler(score_model, \n",
    "                           marginal_prob_std_fn,\n",
    "                           diffusion_coeff_fn, \n",
    "                           y_obs = torch.tensor(1.2, dtype = torch.float32), batch_size = 1000)"
   ]
  },
  {
   "cell_type": "code",
   "execution_count": 32,
   "id": "coordinated-organizer",
   "metadata": {
    "scrolled": false
   },
   "outputs": [
    {
     "data": {
      "text/plain": [
       "<matplotlib.axes._subplots.AxesSubplot at 0x7fc564cf4130>"
      ]
     },
     "execution_count": 32,
     "metadata": {},
     "output_type": "execute_result"
    },
    {
     "data": {
      "image/png": "[encoded data removed]",
      "text/plain": [
       "<Figure size 432x288 with 1 Axes>"
      ]
     },
     "metadata": {
      "needs_background": "light"
     },
     "output_type": "display_data"
    }
   ],
   "source": [
    "sns.kdeplot(actual_samples_pos_3, color = 'blue')\n",
    "sns.histplot(cdiffe_samples_pos_3[:,0], stat = 'density', color = 'blue')\n",
    "sns.kdeplot(actual_samples_neg_3, color = 'red')\n",
    "sns.histplot(cdiffe_samples_neg_3[:,0], stat = 'density', color = 'red')"
   ]
  },
  {
   "cell_type": "code",
   "execution_count": 116,
   "id": "encouraging-islam",
   "metadata": {},
   "outputs": [],
   "source": [
    "torch.save(cdiffe_samples_0, 'data/cdiffe_0_1.pt')\n",
    "torch.save(cdiffe_samples_pos, 'data/cdiffe_pos_1.pt')\n",
    "torch.save(cdiffe_samples_neg, 'data/cdiffe_neg_1.pt')\n",
    "\n",
    "torch.save(cdiffe_samples_0_2, 'data/cdiffe_0_2.pt')\n",
    "torch.save(cdiffe_samples_pos_2, 'data/cdiffe_pos_2.pt')\n",
    "torch.save(cdiffe_samples_neg_2, 'data/cdiffe_neg_2.pt')\n",
    "\n",
    "torch.save(cdiffe_samples_pos_3, 'data/cdiffe_pos_3.pt')\n",
    "torch.save(cdiffe_samples_neg_3, 'data/cdiffe_neg_3.pt')"
   ]
  },
  {
   "cell_type": "markdown",
   "id": "handy-paintball",
   "metadata": {},
   "source": [
    "<hr style=\"border:2px solid black\">"
   ]
  },
  {
   "cell_type": "markdown",
   "id": "willing-apollo",
   "metadata": {},
   "source": [
    "<a id='smcdiff_samples'></a>\n",
    "## Draw SMCDiff samples"
   ]
  },
  {
   "cell_type": "markdown",
   "id": "realistic-assumption",
   "metadata": {},
   "source": [
    "## Example 1"
   ]
  },
  {
   "cell_type": "code",
   "execution_count": null,
   "id": "twenty-distance",
   "metadata": {},
   "outputs": [],
   "source": []
  },
  {
   "cell_type": "code",
   "execution_count": 33,
   "id": "incident-pastor",
   "metadata": {},
   "outputs": [
    {
     "name": "stderr",
     "output_type": "stream",
     "text": [
      "/Users/harryamad/Google Drive/2022/Dissertation/conditional_diffusion_simulation/SDE.py:16: UserWarning: To copy construct from a tensor, it is recommended to use sourceTensor.clone().detach() or sourceTensor.clone().detach().requires_grad_(True), rather than torch.tensor(sourceTensor).\n",
      "  t = torch.tensor(t)\n"
     ]
    },
    {
     "data": {
      "application/json": {
       "ascii": false,
       "bar_format": null,
       "colour": null,
       "elapsed": 0.03010416030883789,
       "initial": 0,
       "n": 0,
       "ncols": null,
       "nrows": null,
       "postfix": null,
       "prefix": "",
       "rate": null,
       "total": 1000,
       "unit": "it",
       "unit_divisor": 1000,
       "unit_scale": false
      },
      "application/vnd.jupyter.widget-view+json": {
       "model_id": "2d49739131804566ada4a741c6415390",
       "version_major": 2,
       "version_minor": 0
      },
      "text/plain": [
       "  0%|          | 0/1000 [00:00<?, ?it/s]"
      ]
     },
     "metadata": {},
     "output_type": "display_data"
    },
    {
     "data": {
      "application/json": {
       "ascii": false,
       "bar_format": null,
       "colour": null,
       "elapsed": 0.026211023330688477,
       "initial": 0,
       "n": 0,
       "ncols": null,
       "nrows": null,
       "postfix": null,
       "prefix": "",
       "rate": null,
       "total": 1000,
       "unit": "it",
       "unit_divisor": 1000,
       "unit_scale": false
      },
      "application/vnd.jupyter.widget-view+json": {
       "model_id": "4aa246ebcf8c4c669a64a9b782f7d172",
       "version_major": 2,
       "version_minor": 0
      },
      "text/plain": [
       "  0%|          | 0/1000 [00:00<?, ?it/s]"
      ]
     },
     "metadata": {},
     "output_type": "display_data"
    },
    {
     "data": {
      "application/json": {
       "ascii": false,
       "bar_format": null,
       "colour": null,
       "elapsed": 0.025902986526489258,
       "initial": 0,
       "n": 0,
       "ncols": null,
       "nrows": null,
       "postfix": null,
       "prefix": "",
       "rate": null,
       "total": 1000,
       "unit": "it",
       "unit_divisor": 1000,
       "unit_scale": false
      },
      "application/vnd.jupyter.widget-view+json": {
       "model_id": "c2ef7f628d3849799d6d48d561d409be",
       "version_major": 2,
       "version_minor": 0
      },
      "text/plain": [
       "  0%|          | 0/1000 [00:00<?, ?it/s]"
      ]
     },
     "metadata": {},
     "output_type": "display_data"
    }
   ],
   "source": [
    "score_model = ScoreNet_2D(marginal_prob_std=marginal_prob_std_fn)\n",
    "ckpt = torch.load('models/ex_1.pth')\n",
    "score_model.load_state_dict(ckpt)\n",
    "\n",
    "smcdiff_samples_0 = SMCDiff_Euler_Maruyama_sampler(score_model, \n",
    "                           marginal_prob_std_fn,\n",
    "                           diffusion_coeff_fn, \n",
    "                           y_obs = torch.tensor(0, dtype = torch.float32), k = 1000)\n",
    "\n",
    "smcdiff_samples_pos = SMCDiff_Euler_Maruyama_sampler(score_model, \n",
    "                           marginal_prob_std_fn,\n",
    "                           diffusion_coeff_fn, \n",
    "                           y_obs = torch.tensor(1.2, dtype = torch.float32), k = 1000)\n",
    "\n",
    "smcdiff_samples_neg = SMCDiff_Euler_Maruyama_sampler(score_model, \n",
    "                           marginal_prob_std_fn,\n",
    "                           diffusion_coeff_fn, \n",
    "                           y_obs = torch.tensor(-1.2, dtype = torch.float32), k = 1000)"
   ]
  },
  {
   "cell_type": "code",
   "execution_count": 34,
   "id": "silver-salad",
   "metadata": {},
   "outputs": [
    {
     "data": {
      "text/plain": [
       "<matplotlib.axes._subplots.AxesSubplot at 0x7fc5643af190>"
      ]
     },
     "execution_count": 34,
     "metadata": {},
     "output_type": "execute_result"
    },
    {
     "data": {
      "image/png": "[encoded data removed]",
      "text/plain": [
       "<Figure size 432x288 with 1 Axes>"
      ]
     },
     "metadata": {
      "needs_background": "light"
     },
     "output_type": "display_data"
    }
   ],
   "source": [
    "sns.kdeplot(actual_samples_0, color = 'green')\n",
    "sns.histplot(smcdiff_samples_0[:,0], stat = 'density', color = 'green')\n",
    "sns.kdeplot(actual_samples_pos, color = 'blue')\n",
    "sns.histplot(smcdiff_samples_pos[:,0], stat = 'density', color = 'blue')\n",
    "sns.kdeplot(actual_samples_neg, color = 'red')\n",
    "sns.histplot(smcdiff_samples_neg[:,0], stat = 'density', color = 'red')"
   ]
  },
  {
   "cell_type": "markdown",
   "id": "descending-adobe",
   "metadata": {},
   "source": [
    "## Example 2"
   ]
  },
  {
   "cell_type": "code",
   "execution_count": 35,
   "id": "preliminary-duration",
   "metadata": {},
   "outputs": [
    {
     "name": "stderr",
     "output_type": "stream",
     "text": [
      "/Users/harryamad/Google Drive/2022/Dissertation/conditional_diffusion_simulation/SDE.py:16: UserWarning: To copy construct from a tensor, it is recommended to use sourceTensor.clone().detach() or sourceTensor.clone().detach().requires_grad_(True), rather than torch.tensor(sourceTensor).\n",
      "  t = torch.tensor(t)\n"
     ]
    },
    {
     "data": {
      "application/json": {
       "ascii": false,
       "bar_format": null,
       "colour": null,
       "elapsed": 0.029120922088623047,
       "initial": 0,
       "n": 0,
       "ncols": null,
       "nrows": null,
       "postfix": null,
       "prefix": "",
       "rate": null,
       "total": 1000,
       "unit": "it",
       "unit_divisor": 1000,
       "unit_scale": false
      },
      "application/vnd.jupyter.widget-view+json": {
       "model_id": "353d816953d94be3877cb50e84cc7106",
       "version_major": 2,
       "version_minor": 0
      },
      "text/plain": [
       "  0%|          | 0/1000 [00:00<?, ?it/s]"
      ]
     },
     "metadata": {},
     "output_type": "display_data"
    },
    {
     "data": {
      "application/json": {
       "ascii": false,
       "bar_format": null,
       "colour": null,
       "elapsed": 0.025732040405273438,
       "initial": 0,
       "n": 0,
       "ncols": null,
       "nrows": null,
       "postfix": null,
       "prefix": "",
       "rate": null,
       "total": 1000,
       "unit": "it",
       "unit_divisor": 1000,
       "unit_scale": false
      },
      "application/vnd.jupyter.widget-view+json": {
       "model_id": "c5fdf3dec0b7484fb4582f50911f954a",
       "version_major": 2,
       "version_minor": 0
      },
      "text/plain": [
       "  0%|          | 0/1000 [00:00<?, ?it/s]"
      ]
     },
     "metadata": {},
     "output_type": "display_data"
    },
    {
     "data": {
      "application/json": {
       "ascii": false,
       "bar_format": null,
       "colour": null,
       "elapsed": 0.026644229888916016,
       "initial": 0,
       "n": 0,
       "ncols": null,
       "nrows": null,
       "postfix": null,
       "prefix": "",
       "rate": null,
       "total": 1000,
       "unit": "it",
       "unit_divisor": 1000,
       "unit_scale": false
      },
      "application/vnd.jupyter.widget-view+json": {
       "model_id": "ab1b547b553f418e92f1518b6afc1b81",
       "version_major": 2,
       "version_minor": 0
      },
      "text/plain": [
       "  0%|          | 0/1000 [00:00<?, ?it/s]"
      ]
     },
     "metadata": {},
     "output_type": "display_data"
    }
   ],
   "source": [
    "ckpt = torch.load('models/ex_2.pth')\n",
    "score_model.load_state_dict(ckpt)\n",
    "\n",
    "smcdiff_samples_0_2 = SMCDiff_Euler_Maruyama_sampler(score_model, \n",
    "                           marginal_prob_std_fn,\n",
    "                           diffusion_coeff_fn, \n",
    "                           y_obs = torch.tensor(0, dtype = torch.float32), k = 1000)\n",
    "\n",
    "smcdiff_samples_pos_2 = SMCDiff_Euler_Maruyama_sampler(score_model, \n",
    "                           marginal_prob_std_fn,\n",
    "                           diffusion_coeff_fn, \n",
    "                           y_obs = torch.tensor(1.2, dtype = torch.float32), k = 1000)\n",
    "\n",
    "smcdiff_samples_neg_2 = SMCDiff_Euler_Maruyama_sampler(score_model, \n",
    "                           marginal_prob_std_fn,\n",
    "                           diffusion_coeff_fn, \n",
    "                           y_obs = torch.tensor(-1.2, dtype = torch.float32), k = 1000)"
   ]
  },
  {
   "cell_type": "code",
   "execution_count": 36,
   "id": "declared-immune",
   "metadata": {},
   "outputs": [
    {
     "data": {
      "text/plain": [
       "<matplotlib.axes._subplots.AxesSubplot at 0x7fc565c948e0>"
      ]
     },
     "execution_count": 36,
     "metadata": {},
     "output_type": "execute_result"
    },
    {
     "data": {
      "image/png": "[encoded data removed]",
      "text/plain": [
       "<Figure size 432x288 with 1 Axes>"
      ]
     },
     "metadata": {
      "needs_background": "light"
     },
     "output_type": "display_data"
    }
   ],
   "source": [
    "sns.kdeplot(actual_samples_0_2, color = 'green')\n",
    "sns.histplot(smcdiff_samples_0_2[:,0], stat = 'density', color = 'green')\n",
    "sns.kdeplot(actual_samples_pos_2, color = 'blue')\n",
    "sns.histplot(smcdiff_samples_pos_2[:,0], stat = 'density', color = 'blue')\n",
    "sns.kdeplot(actual_samples_neg_2, color = 'red')\n",
    "sns.histplot(smcdiff_samples_neg_2[:,0], stat = 'density', color = 'red')"
   ]
  },
  {
   "cell_type": "markdown",
   "id": "executed-biography",
   "metadata": {},
   "source": [
    "## Example 3"
   ]
  },
  {
   "cell_type": "code",
   "execution_count": 37,
   "id": "incoming-testing",
   "metadata": {},
   "outputs": [
    {
     "name": "stderr",
     "output_type": "stream",
     "text": [
      "/Users/harryamad/Google Drive/2022/Dissertation/conditional_diffusion_simulation/SDE.py:16: UserWarning: To copy construct from a tensor, it is recommended to use sourceTensor.clone().detach() or sourceTensor.clone().detach().requires_grad_(True), rather than torch.tensor(sourceTensor).\n",
      "  t = torch.tensor(t)\n"
     ]
    },
    {
     "data": {
      "application/json": {
       "ascii": false,
       "bar_format": null,
       "colour": null,
       "elapsed": 0.027081012725830078,
       "initial": 0,
       "n": 0,
       "ncols": null,
       "nrows": null,
       "postfix": null,
       "prefix": "",
       "rate": null,
       "total": 1000,
       "unit": "it",
       "unit_divisor": 1000,
       "unit_scale": false
      },
      "application/vnd.jupyter.widget-view+json": {
       "model_id": "9932a859af8748ea9041315cda0f279c",
       "version_major": 2,
       "version_minor": 0
      },
      "text/plain": [
       "  0%|          | 0/1000 [00:00<?, ?it/s]"
      ]
     },
     "metadata": {},
     "output_type": "display_data"
    },
    {
     "data": {
      "application/json": {
       "ascii": false,
       "bar_format": null,
       "colour": null,
       "elapsed": 0.026080846786499023,
       "initial": 0,
       "n": 0,
       "ncols": null,
       "nrows": null,
       "postfix": null,
       "prefix": "",
       "rate": null,
       "total": 1000,
       "unit": "it",
       "unit_divisor": 1000,
       "unit_scale": false
      },
      "application/vnd.jupyter.widget-view+json": {
       "model_id": "85ee5c6e9f544612baa04c4f76674fc2",
       "version_major": 2,
       "version_minor": 0
      },
      "text/plain": [
       "  0%|          | 0/1000 [00:00<?, ?it/s]"
      ]
     },
     "metadata": {},
     "output_type": "display_data"
    }
   ],
   "source": [
    "ckpt = torch.load('models/ex_3.pth')\n",
    "score_model.load_state_dict(ckpt)\n",
    "\n",
    "smcdiff_samples_pos_3 = SMCDiff_Euler_Maruyama_sampler(score_model, \n",
    "                           marginal_prob_std_fn,\n",
    "                           diffusion_coeff_fn, \n",
    "                           y_obs = torch.tensor(1.2, dtype = torch.float32), k = 1000)\n",
    "\n",
    "smcdiff_samples_neg_3 = SMCDiff_Euler_Maruyama_sampler(score_model, \n",
    "                           marginal_prob_std_fn,\n",
    "                           diffusion_coeff_fn, \n",
    "                           y_obs = torch.tensor(-1.2, dtype = torch.float32), k = 1000)"
   ]
  },
  {
   "cell_type": "code",
   "execution_count": 38,
   "id": "juvenile-cooper",
   "metadata": {},
   "outputs": [
    {
     "data": {
      "text/plain": [
       "<matplotlib.axes._subplots.AxesSubplot at 0x7fc5644c1760>"
      ]
     },
     "execution_count": 38,
     "metadata": {},
     "output_type": "execute_result"
    },
    {
     "data": {
      "image/png": "[encoded data removed]",
      "text/plain": [
       "<Figure size 432x288 with 1 Axes>"
      ]
     },
     "metadata": {
      "needs_background": "light"
     },
     "output_type": "display_data"
    }
   ],
   "source": [
    "sns.kdeplot(actual_samples_pos_3, color = 'blue')\n",
    "sns.histplot(smcdiff_samples_pos_3[:,0], stat = 'density', color = 'blue')\n",
    "sns.kdeplot(actual_samples_neg_3, color = 'red')\n",
    "sns.histplot(smcdiff_samples_neg_3[:,0], stat = 'density', color = 'red')"
   ]
  },
  {
   "cell_type": "code",
   "execution_count": 117,
   "id": "brief-rubber",
   "metadata": {},
   "outputs": [],
   "source": [
    "torch.save(smcdiff_samples_0, 'data/smcdiff_0_1.pt')\n",
    "torch.save(smcdiff_samples_pos, 'data/smcdiff_pos_1.pt')\n",
    "torch.save(smcdiff_samples_neg, 'data/smcdiff_neg_1.pt')\n",
    "\n",
    "torch.save(smcdiff_samples_0_2, 'data/smcdiff_0_2.pt')\n",
    "torch.save(smcdiff_samples_pos_2, 'data/smcdiff_pos_2.pt')\n",
    "torch.save(smcdiff_samples_neg_2, 'data/smcdiff_neg_2.pt')\n",
    "\n",
    "torch.save(smcdiff_samples_pos_3, 'data/smcdiff_pos_3.pt')\n",
    "torch.save(smcdiff_samples_neg_3, 'data/smcdiff_neg_3.pt')"
   ]
  },
  {
   "cell_type": "markdown",
   "id": "mental-communications",
   "metadata": {},
   "source": [
    "<hr style=\"border:4px solid black\">"
   ]
  },
  {
   "cell_type": "markdown",
   "id": "earlier-colleague",
   "metadata": {},
   "source": [
    "<a id='comparison'></a>\n",
    "# Comparison"
   ]
  },
  {
   "cell_type": "code",
   "execution_count": 39,
   "id": "relative-printing",
   "metadata": {},
   "outputs": [],
   "source": [
    "cde_samples_0 = torch.load('data/cde_0_1.pt')\n",
    "cde_samples_pos = torch.load('data/cde_pos_1.pt')\n",
    "cde_samples_neg = torch.load('data/cde_neg_1.pt')\n",
    "cde_samples_0_2 = torch.load('data/cde_0_2.pt')\n",
    "cde_samples_pos_2 = torch.load('data/cde_pos_2.pt')\n",
    "cde_samples_neg_2 = torch.load('data/cde_neg_2.pt')\n",
    "cde_samples_pos_3 = torch.load('data/cde_pos_3.pt')\n",
    "cde_samples_neg_3 = torch.load('data/cde_neg_3.pt')"
   ]
  },
  {
   "cell_type": "code",
   "execution_count": 40,
   "id": "suburban-details",
   "metadata": {},
   "outputs": [],
   "source": [
    "cdiffe_samples_0 = torch.load('data/cdiffe_0_1.pt')\n",
    "cdiffe_samples_pos = torch.load('data/cdiffe_pos_1.pt')\n",
    "cdiffe_samples_neg = torch.load('data/cdiffe_neg_1.pt')\n",
    "cdiffe_samples_0_2 = torch.load('data/cdiffe_0_2.pt')\n",
    "cdiffe_samples_pos_2 = torch.load('data/cdiffe_pos_2.pt')\n",
    "cdiffe_samples_neg_2 = torch.load('data/cdiffe_neg_2.pt')\n",
    "cdiffe_samples_pos_3 = torch.load('data/cdiffe_pos_3.pt')\n",
    "cdiffe_samples_neg_3 = torch.load('data/cdiffe_neg_3.pt')"
   ]
  },
  {
   "cell_type": "code",
   "execution_count": 41,
   "id": "colored-animal",
   "metadata": {},
   "outputs": [],
   "source": [
    "smcdiff_samples_0 = torch.load('data/smcdiff_0_1.pt')\n",
    "smcdiff_samples_pos = torch.load('data/smcdiff_pos_1.pt')\n",
    "smcdiff_samples_neg = torch.load('data/smcdiff_neg_1.pt')\n",
    "smcdiff_samples_0_2 = torch.load('data/smcdiff_0_2.pt')\n",
    "smcdiff_samples_pos_2 = torch.load('data/smcdiff_pos_2.pt')\n",
    "smcdiff_samples_neg_2 = torch.load('data/smcdiff_neg_2.pt')\n",
    "smcdiff_samples_pos_3 = torch.load('data/smcdiff_pos_3.pt')\n",
    "smcdiff_samples_neg_3 = torch.load('data/smcdiff_neg_3.pt')"
   ]
  },
  {
   "cell_type": "code",
   "execution_count": 42,
   "id": "classified-china",
   "metadata": {
    "scrolled": false
   },
   "outputs": [
    {
     "data": {
      "image/png": "[encoded data removed]",
      "text/plain": [
       "<Figure size 1440x1080 with 9 Axes>"
      ]
     },
     "metadata": {
      "needs_background": "light"
     },
     "output_type": "display_data"
    }
   ],
   "source": [
    "fig, axs = plt.subplots(ncols=3, nrows=3, figsize=(20, 15))\n",
    "\n",
    "def plot_row(s1,s2,s3,s4,s5,s6,s7,s8,row,title):\n",
    "    sns.kdeplot(actual_samples_0, color = 'green', ax = axs[row,0])\n",
    "    sns.histplot(s1[:,0], stat = 'density', color = 'green', ax = axs[row,0])\n",
    "    sns.kdeplot(actual_samples_pos, color = 'blue', ax = axs[row,0])\n",
    "    sns.histplot(s2[:,0], stat = 'density', color = 'blue', ax = axs[row,0])\n",
    "    sns.kdeplot(actual_samples_neg, color = 'red', ax = axs[row,0])\n",
    "    sns.histplot(s3[:,0], stat = 'density', color = 'red', ax = axs[row,0])\n",
    "\n",
    "    sns.kdeplot(actual_samples_0_2, color = 'green', ax = axs[row,1])\n",
    "    sns.histplot(s4[:,0], stat = 'density', color = 'green', ax = axs[row,1])\n",
    "    sns.kdeplot(actual_samples_pos_2, color = 'blue', ax = axs[row,1])\n",
    "    sns.histplot(s5[:,0], stat = 'density', color = 'blue', ax = axs[row,1])\n",
    "    sns.kdeplot(actual_samples_neg_2, color = 'red', ax = axs[row,1])\n",
    "    sns.histplot(s6[:,0], stat = 'density', color = 'red', ax = axs[row,1])\n",
    "\n",
    "    sns.kdeplot(actual_samples_pos_3, color = 'blue', ax = axs[row,2])\n",
    "    sns.histplot(s7[:,0], stat = 'density', color = 'blue', ax = axs[row,2])\n",
    "    sns.kdeplot(actual_samples_neg_3, color = 'red', ax = axs[row,2])\n",
    "    sns.histplot(s8[:,0], stat = 'density', color = 'red', ax = axs[row,2])\n",
    "\n",
    "    axs[row,0].set_title(title)\n",
    "    axs[row,1].set_title(title)\n",
    "    axs[row,2].set_title(title)\n",
    "    \n",
    "plot_row(cde_samples_0, cde_samples_pos, cde_samples_neg, \n",
    "         cde_samples_0_2, cde_samples_pos_2, cde_samples_neg_2,\n",
    "         cde_samples_pos_3, cde_samples_neg_3, 0, 'CDE')\n",
    "\n",
    "plot_row(cdiffe_samples_0, cdiffe_samples_pos, cdiffe_samples_neg, \n",
    "         cdiffe_samples_0_2, cdiffe_samples_pos_2, cdiffe_samples_neg_2,\n",
    "         cdiffe_samples_pos_3, cdiffe_samples_neg_3, 1, 'CDiffE')\n",
    "\n",
    "plot_row(smcdiff_samples_0, smcdiff_samples_pos, smcdiff_samples_neg, \n",
    "         smcdiff_samples_0_2, smcdiff_samples_pos_2, smcdiff_samples_neg_2,\n",
    "         smcdiff_samples_pos_3, smcdiff_samples_neg_3, 2, 'SMCDiff')"
   ]
  },
  {
   "cell_type": "code",
   "execution_count": 107,
   "id": "appropriate-jungle",
   "metadata": {},
   "outputs": [
    {
     "name": "stdout",
     "output_type": "stream",
     "text": [
      "0.29965214542585\n",
      "CDE: 0.15127044916152954\n",
      "Replacement: 0.2004857361316681\n",
      "SMCDiff: 0.13905742764472961\n"
     ]
    }
   ],
   "source": [
    "print(np.mean(actual_samples_0))\n",
    "print(f'CDE: {torch.mean(cde_samples_0)}')\n",
    "print(f'Replacement: {torch.mean(cdiffe_samples_0)}')\n",
    "print(f'SMCDiff: {torch.mean(smcdiff_samples_0)}')"
   ]
  },
  {
   "cell_type": "code",
   "execution_count": 108,
   "id": "comfortable-monthly",
   "metadata": {},
   "outputs": [
    {
     "name": "stdout",
     "output_type": "stream",
     "text": [
      "1.132915328763519\n",
      "CDE: 1.162000060081482\n",
      "Replacement: 1.1245893239974976\n",
      "SMCDiff: 1.1433902978897095\n"
     ]
    }
   ],
   "source": [
    "print(np.mean(actual_samples_pos))\n",
    "print(f'CDE: {torch.mean(cde_samples_pos)}')\n",
    "print(f'Replacement: {torch.mean(cdiffe_samples_pos)}')\n",
    "print(f'SMCDiff: {torch.mean(smcdiff_samples_pos)}')"
   ]
  },
  {
   "cell_type": "code",
   "execution_count": 109,
   "id": "proof-gates",
   "metadata": {},
   "outputs": [
    {
     "name": "stdout",
     "output_type": "stream",
     "text": [
      "-0.5335936244721803\n",
      "CDE: -0.8671630620956421\n",
      "Replacement: -0.8539907932281494\n",
      "SMCDiff: -0.8584296107292175\n"
     ]
    }
   ],
   "source": [
    "print(np.mean(actual_samples_neg))\n",
    "print(f'CDE: {torch.mean(cde_samples_neg)}')\n",
    "print(f'Replacement: {torch.mean(cdiffe_samples_neg)}')\n",
    "print(f'SMCDiff: {torch.mean(smcdiff_samples_neg)}')"
   ]
  },
  {
   "cell_type": "code",
   "execution_count": null,
   "id": "desperate-surname",
   "metadata": {},
   "outputs": [],
   "source": []
  },
  {
   "cell_type": "code",
   "execution_count": 110,
   "id": "greek-assembly",
   "metadata": {},
   "outputs": [
    {
     "name": "stdout",
     "output_type": "stream",
     "text": [
      "-0.0011139924175424154\n",
      "CDE: -0.0004396461008582264\n",
      "Replacement: 0.0518239364027977\n",
      "SMCDiff: -0.015829075127840042\n"
     ]
    }
   ],
   "source": [
    "print(np.mean(actual_samples_0_2))\n",
    "print(f'CDE: {torch.mean(cde_samples_0_2)}')\n",
    "print(f'Replacement: {torch.mean(cdiffe_samples_0_2)}')\n",
    "print(f'SMCDiff: {torch.mean(smcdiff_samples_0_2)}')"
   ]
  },
  {
   "cell_type": "code",
   "execution_count": 111,
   "id": "assisted-tutorial",
   "metadata": {},
   "outputs": [
    {
     "name": "stdout",
     "output_type": "stream",
     "text": [
      "0.8207492941315615\n",
      "CDE: 1.0078777074813843\n",
      "Replacement: 1.008090615272522\n",
      "SMCDiff: 1.0048093795776367\n"
     ]
    }
   ],
   "source": [
    "print(np.mean(actual_samples_pos_2))\n",
    "print(f'CDE: {torch.mean(cde_samples_pos_2)}')\n",
    "print(f'Replacement: {torch.mean(cdiffe_samples_pos_2)}')\n",
    "print(f'SMCDiff: {torch.mean(smcdiff_samples_pos_2)}')"
   ]
  },
  {
   "cell_type": "code",
   "execution_count": 112,
   "id": "metric-fence",
   "metadata": {},
   "outputs": [
    {
     "name": "stdout",
     "output_type": "stream",
     "text": [
      "-0.820888660566178\n",
      "CDE: -1.0096595287322998\n",
      "Replacement: -1.0242892503738403\n",
      "SMCDiff: -1.0115984678268433\n"
     ]
    }
   ],
   "source": [
    "print(np.mean(actual_samples_neg_2))\n",
    "print(f'CDE: {torch.mean(cde_samples_neg_2)}')\n",
    "print(f'Replacement: {torch.mean(cdiffe_samples_neg_2)}')\n",
    "print(f'SMCDiff: {torch.mean(smcdiff_samples_neg_2)}')"
   ]
  },
  {
   "cell_type": "code",
   "execution_count": null,
   "id": "environmental-affairs",
   "metadata": {},
   "outputs": [],
   "source": []
  },
  {
   "cell_type": "code",
   "execution_count": 113,
   "id": "elementary-lease",
   "metadata": {},
   "outputs": [
    {
     "name": "stdout",
     "output_type": "stream",
     "text": [
      "0.2503862510127431\n",
      "CDE: 0.7141533493995667\n",
      "Replacement: 0.7098875641822815\n",
      "SMCDiff: 0.7073259949684143\n"
     ]
    }
   ],
   "source": [
    "print(np.mean(actual_samples_pos_3))\n",
    "print(f'CDE: {torch.mean(cde_samples_pos_3)}')\n",
    "print(f'Replacement: {torch.mean(cdiffe_samples_pos_3)}')\n",
    "print(f'SMCDiff: {torch.mean(smcdiff_samples_pos_3)}')"
   ]
  },
  {
   "cell_type": "code",
   "execution_count": 114,
   "id": "complete-devon",
   "metadata": {},
   "outputs": [
    {
     "name": "stdout",
     "output_type": "stream",
     "text": [
      "-0.2505118441232006\n",
      "CDE: -0.7241255044937134\n",
      "Replacement: -0.7052574753761292\n",
      "SMCDiff: -0.7308341860771179\n"
     ]
    }
   ],
   "source": [
    "print(np.mean(actual_samples_neg_3))\n",
    "print(f'CDE: {torch.mean(cde_samples_neg_3)}')\n",
    "print(f'Replacement: {torch.mean(cdiffe_samples_neg_3)}')\n",
    "print(f'SMCDiff: {torch.mean(smcdiff_samples_neg_3)}')"
   ]
  },
  {
   "cell_type": "code",
   "execution_count": null,
   "id": "absent-jones",
   "metadata": {},
   "outputs": [],
   "source": []
  },
  {
   "cell_type": "code",
   "execution_count": null,
   "id": "brave-necklace",
   "metadata": {},
   "outputs": [],
   "source": []
  }
 ],
 "metadata": {
  "kernelspec": {
   "display_name": "Python 3",
   "language": "python",
   "name": "python3"
  },
  "language_info": {
   "codemirror_mode": {
    "name": "ipython",
    "version": 3
   },
   "file_extension": ".py",
   "mimetype": "text/x-python",
   "name": "python",
   "nbconvert_exporter": "python",
   "pygments_lexer": "ipython3",
   "version": "3.8.2"
  },
  "varInspector": {
   "cols": {
    "lenName": 16,
    "lenType": 16,
    "lenVar": 40
   },
   "kernels_config": {
    "python": {
     "delete_cmd_postfix": "",
     "delete_cmd_prefix": "del ",
     "library": "var_list.py",
     "varRefreshCmd": "print(var_dic_list())"
    },
    "r": {
     "delete_cmd_postfix": ") ",
     "delete_cmd_prefix": "rm(",
     "library": "var_list.r",
     "varRefreshCmd": "cat(var_dic_list()) "
    }
   },
   "types_to_exclude": [
    "module",
    "function",
    "builtin_function_or_method",
    "instance",
    "_Feature"
   ],
   "window_display": false
  }
 },
 "nbformat": 4,
 "nbformat_minor": 5
}
