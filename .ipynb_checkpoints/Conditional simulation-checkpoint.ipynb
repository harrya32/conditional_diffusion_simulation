{
 "cells": [
  {
   "cell_type": "code",
   "execution_count": 17,
   "id": "faced-antenna",
   "metadata": {},
   "outputs": [],
   "source": [
    "import torch\n",
    "import torch.nn as nn\n",
    "import torch.nn.functional as F\n",
    "import numpy as np\n",
    "import functools\n",
    "from sklearn import datasets\n",
    "import matplotlib.pyplot as plt\n",
    "from torch.optim import Adam\n",
    "\n",
    "from torch.utils.data import DataLoader\n",
    "from tqdm import notebook"
   ]
  },
  {
   "cell_type": "code",
   "execution_count": 18,
   "id": "elementary-cookbook",
   "metadata": {},
   "outputs": [],
   "source": [
    "y = -6 * torch.rand(100000) + 3\n",
    "z = np.random.gamma(1,0.3, size = 100000)\n",
    "x = np.tanh(y) + z\n",
    "tanh_data = torch.vstack([x, y]).T"
   ]
  },
  {
   "cell_type": "code",
   "execution_count": 19,
   "id": "round-trauma",
   "metadata": {},
   "outputs": [],
   "source": [
    "class ScoreNet(nn.Module):\n",
    "    \n",
    "    def __init__(self, marginal_prob_std):\n",
    "        super().__init__()\n",
    "        self.act = nn.GELU()#lambda x: x * torch.sigmoid(x)\n",
    "        self.marginal_prob_std = marginal_prob_std\n",
    "        self.hidden_units = 32\n",
    "        # inputs of data (x,y), timestep t\n",
    "        self.mlp = nn.Sequential(\n",
    "            nn.Linear(3, int(self.hidden_units), bias=True),\n",
    "            nn.GELU(),\n",
    "            nn.Linear(int(self.hidden_units), int(self.hidden_units/2), bias=True),\n",
    "            nn.GELU(),\n",
    "            nn.Linear(int(self.hidden_units/2), int(self.hidden_units/4), bias=True),\n",
    "            nn.GELU(),\n",
    "            nn.Linear(int(self.hidden_units/4), int(self.hidden_units/8), bias=True),\n",
    "            nn.GELU(),\n",
    "            nn.Linear(int(self.hidden_units/8), int(self.hidden_units/16), bias=True),\n",
    "            nn.GELU(),\n",
    "            nn.Linear(int(self.hidden_units/16), int(self.hidden_units/8), bias=True),\n",
    "            nn.GELU(),\n",
    "            nn.Linear(int(self.hidden_units/8), int(self.hidden_units/4), bias=True),\n",
    "            nn.GELU(),\n",
    "            nn.Linear(int(self.hidden_units/4), int(self.hidden_units/2), bias=True),\n",
    "            nn.GELU(),\n",
    "            nn.Linear(int(self.hidden_units/2), int(self.hidden_units), bias=True),\n",
    "            nn.GELU(),\n",
    "            nn.Linear(int(self.hidden_units), 2, bias=True)\n",
    "        )\n",
    "        \n",
    "        \n",
    "        \n",
    "    def forward(self, x):\n",
    "        t = x[:, 2]\n",
    "        x = self.mlp(x)\n",
    "        x = x / self.marginal_prob_std(t)[:, None]\n",
    "        return x"
   ]
  },
  {
   "cell_type": "code",
   "execution_count": 20,
   "id": "bottom-month",
   "metadata": {},
   "outputs": [],
   "source": [
    "#@title Set up the SDE\n",
    "\n",
    "device = 'cpu' #@param ['cuda', 'cpu'] {'type':'string'}\n",
    "\n",
    "def marginal_prob_std(t, sigma):\n",
    "    \"\"\"Compute the mean and standard deviation of $p_{0t}(x(t) | x(0))$.\n",
    "\n",
    "    Args:    \n",
    "    t: A vector of time steps.\n",
    "    sigma: The $\\sigma$ in our SDE.  \n",
    "\n",
    "    Returns:\n",
    "    The standard deviation.\n",
    "    \"\"\"    \n",
    "    t = torch.tensor(t, device=device)\n",
    "    return torch.sqrt((sigma**(2 * t) - 1.) / 2. / np.log(sigma))\n",
    "\n",
    "def diffusion_coeff(t, sigma):\n",
    "    \"\"\"Compute the diffusion coefficient of our SDE.\n",
    "\n",
    "    Args:\n",
    "    t: A vector of time steps.\n",
    "    sigma: The $\\sigma$ in our SDE.\n",
    "\n",
    "    Returns:\n",
    "    The vector of diffusion coefficients.\n",
    "    \"\"\"\n",
    "    return torch.tensor(sigma**t, device=device)\n",
    "  \n",
    "sigma =  25.0#@param {'type':'number'}\n",
    "marginal_prob_std_fn = functools.partial(marginal_prob_std, sigma=sigma)\n",
    "diffusion_coeff_fn = functools.partial(diffusion_coeff, sigma=sigma)"
   ]
  },
  {
   "cell_type": "code",
   "execution_count": 69,
   "id": "relevant-observation",
   "metadata": {},
   "outputs": [
    {
     "name": "stderr",
     "output_type": "stream",
     "text": [
      "<ipython-input-20-4fb5fc172600>:15: UserWarning: To copy construct from a tensor, it is recommended to use sourceTensor.clone().detach() or sourceTensor.clone().detach().requires_grad_(True), rather than torch.tensor(sourceTensor).\n",
      "  t = torch.tensor(t, device=device)\n"
     ]
    },
    {
     "data": {
      "text/plain": [
       "tensor([[0.7761],\n",
       "        [3.3794],\n",
       "        [2.3632],\n",
       "        [0.4815],\n",
       "        [0.8267],\n",
       "        [1.9817],\n",
       "        [5.4135],\n",
       "        [4.5404],\n",
       "        [3.4016],\n",
       "        [6.0824],\n",
       "        [3.0183],\n",
       "        [9.7669],\n",
       "        [0.2665],\n",
       "        [0.0961],\n",
       "        [1.0723],\n",
       "        [5.5362],\n",
       "        [4.2275],\n",
       "        [9.4377],\n",
       "        [1.4346],\n",
       "        [1.9198],\n",
       "        [0.5176],\n",
       "        [0.7947],\n",
       "        [5.3434],\n",
       "        [5.0625],\n",
       "        [2.9661],\n",
       "        [1.7120],\n",
       "        [4.8789],\n",
       "        [1.3229],\n",
       "        [2.4796],\n",
       "        [2.8725],\n",
       "        [9.7385],\n",
       "        [3.1977],\n",
       "        [2.9197],\n",
       "        [4.3951],\n",
       "        [7.2207],\n",
       "        [8.4983],\n",
       "        [1.1532],\n",
       "        [3.1068],\n",
       "        [0.9151],\n",
       "        [2.0311],\n",
       "        [8.6437],\n",
       "        [0.8982],\n",
       "        [0.4804],\n",
       "        [5.0538],\n",
       "        [0.7270],\n",
       "        [2.6631],\n",
       "        [2.8809],\n",
       "        [7.5319],\n",
       "        [3.2815],\n",
       "        [4.2449],\n",
       "        [8.3987],\n",
       "        [4.2017],\n",
       "        [0.6914],\n",
       "        [3.1433],\n",
       "        [0.4051],\n",
       "        [0.5319],\n",
       "        [0.9281],\n",
       "        [0.7542],\n",
       "        [0.2278],\n",
       "        [4.6276],\n",
       "        [0.8098],\n",
       "        [0.4112],\n",
       "        [3.1760],\n",
       "        [2.8827],\n",
       "        [1.4182],\n",
       "        [7.5914],\n",
       "        [0.6610],\n",
       "        [0.3010],\n",
       "        [5.0967],\n",
       "        [4.3818],\n",
       "        [2.8619],\n",
       "        [0.2484],\n",
       "        [8.1550],\n",
       "        [1.1412],\n",
       "        [6.7950],\n",
       "        [7.8376],\n",
       "        [0.4098],\n",
       "        [5.5999],\n",
       "        [3.8950],\n",
       "        [0.8534],\n",
       "        [6.3314],\n",
       "        [1.4904],\n",
       "        [3.0564],\n",
       "        [0.3118],\n",
       "        [1.3808],\n",
       "        [2.9650],\n",
       "        [0.2765],\n",
       "        [1.8799],\n",
       "        [6.7771],\n",
       "        [7.4946],\n",
       "        [0.4869],\n",
       "        [8.7287],\n",
       "        [8.5404],\n",
       "        [3.5648],\n",
       "        [1.2705],\n",
       "        [0.9029],\n",
       "        [0.4953],\n",
       "        [1.7714],\n",
       "        [1.5829],\n",
       "        [8.0420]])"
      ]
     },
     "execution_count": 69,
     "metadata": {},
     "output_type": "execute_result"
    }
   ],
   "source": [
    "marginal_prob_std_fn(torch.rand(100, device='cpu'))[:,None]"
   ]
  },
  {
   "cell_type": "code",
   "execution_count": null,
   "id": "secondary-committee",
   "metadata": {},
   "outputs": [],
   "source": []
  },
  {
   "cell_type": "code",
   "execution_count": 21,
   "id": "deluxe-cause",
   "metadata": {},
   "outputs": [],
   "source": [
    "#@title Define the loss function (double click to expand or collapse)\n",
    "\n",
    "def loss_fn(model, x, marginal_prob_std, eps=1e-5):\n",
    "    \"\"\"The loss function for training score-based generative models.\n",
    "\n",
    "    Args:\n",
    "    model: A PyTorch model instance that represents a \n",
    "      time-dependent score-based model.\n",
    "    x: A mini-batch of training data.    \n",
    "    marginal_prob_std: A function that gives the standard deviation of \n",
    "      the perturbation kernel.\n",
    "    eps: A tolerance value for numerical stability.\n",
    "    \"\"\"\n",
    "    random_t = torch.rand(x.shape[0], device='cpu') * (1. - eps) + eps  \n",
    "    std = marginal_prob_std(random_t)\n",
    "    random_t = torch.reshape(random_t, (x.shape[0], 1))\n",
    "    z = torch.randn_like(x)\n",
    "    perturbed_x = x + z * std[:, None]\n",
    "    x_with_t = torch.hstack([perturbed_x,random_t])\n",
    "    x_with_t = x_with_t.to(torch.float32)\n",
    "    score = model(x_with_t)\n",
    "    loss = torch.mean(torch.sum((score * std[:, None] + z)**2, dim=0))\n",
    "    return loss"
   ]
  },
  {
   "cell_type": "code",
   "execution_count": 9,
   "id": "marked-testimony",
   "metadata": {},
   "outputs": [
    {
     "data": {
      "application/json": {
       "ascii": false,
       "bar_format": null,
       "colour": null,
       "elapsed": 0.036123037338256836,
       "initial": 0,
       "n": 0,
       "ncols": null,
       "nrows": null,
       "postfix": null,
       "prefix": "",
       "rate": null,
       "total": 100,
       "unit": "it",
       "unit_divisor": 1000,
       "unit_scale": false
      },
      "application/vnd.jupyter.widget-view+json": {
       "model_id": "95015eb45a54400a86ef66936e810010",
       "version_major": 2,
       "version_minor": 0
      },
      "text/plain": [
       "  0%|          | 0/100 [00:00<?, ?it/s]"
      ]
     },
     "metadata": {},
     "output_type": "display_data"
    },
    {
     "name": "stderr",
     "output_type": "stream",
     "text": [
      "<ipython-input-6-4fb5fc172600>:15: UserWarning: To copy construct from a tensor, it is recommended to use sourceTensor.clone().detach() or sourceTensor.clone().detach().requires_grad_(True), rather than torch.tensor(sourceTensor).\n",
      "  t = torch.tensor(t, device=device)\n"
     ]
    }
   ],
   "source": [
    "epochs = 100\n",
    "batch_size = 1000\n",
    "lr=1e-4\n",
    "\n",
    "\n",
    "score_model = ScoreNet(marginal_prob_std=marginal_prob_std_fn)\n",
    "score_model = score_model.to(device)\n",
    "optimizer = Adam(score_model.parameters(), lr=lr)\n",
    "dataset = tanh_data\n",
    "data_loader = DataLoader(dataset, batch_size=batch_size, shuffle=True)\n",
    "tqdm_epoch = notebook.trange(epochs)\n",
    "losses = []\n",
    "for epoch in tqdm_epoch:\n",
    "    avg_loss = 0.\n",
    "    num_items = 0\n",
    "    for x in data_loader:\n",
    "        #print(x)\n",
    "        loss = loss_fn(score_model, x, marginal_prob_std_fn)\n",
    "        optimizer.zero_grad(set_to_none=True)\n",
    "        loss.backward()    \n",
    "        optimizer.step()\n",
    "        avg_loss += loss.item() * x.shape[0]\n",
    "        num_items += x.shape[0]\n",
    "        \n",
    "    # Print the averaged training loss so far.\n",
    "    tqdm_epoch.set_description('Average Loss: {:5f}'.format(avg_loss / num_items))\n",
    "    # Update the checkpoint after each epoch of training.\n",
    "    torch.save(score_model.state_dict(), 'ckpt_2.pth')\n",
    "    losses.append(avg_loss / num_items)"
   ]
  },
  {
   "cell_type": "code",
   "execution_count": 11,
   "id": "linear-rugby",
   "metadata": {},
   "outputs": [
    {
     "data": {
      "text/plain": [
       "[<matplotlib.lines.Line2D at 0x7ff054fffee0>]"
      ]
     },
     "execution_count": 11,
     "metadata": {},
     "output_type": "execute_result"
    },
    {
     "data": {
      "image/png": "[encoded data removed]",
      "text/plain": [
       "<Figure size 432x288 with 1 Axes>"
      ]
     },
     "metadata": {
      "needs_background": "light"
     },
     "output_type": "display_data"
    }
   ],
   "source": [
    "plt.plot(losses)"
   ]
  },
  {
   "cell_type": "code",
   "execution_count": 22,
   "id": "devoted-johns",
   "metadata": {},
   "outputs": [],
   "source": [
    "score_model = ScoreNet(marginal_prob_std=marginal_prob_std_fn)\n",
    "score_model = score_model.to(device)"
   ]
  },
  {
   "cell_type": "code",
   "execution_count": 23,
   "id": "protective-associate",
   "metadata": {},
   "outputs": [],
   "source": [
    "#@title Define the Predictor-Corrector sampler (double click to expand or collapse)\n",
    "\n",
    "signal_to_noise_ratio = 0.16 #@param {'type':'number'}\n",
    "\n",
    "## The number of sampling steps.\n",
    "num_steps =  500#@param {'type':'integer'}\n",
    "def pc_sampler(score_model, \n",
    "               marginal_prob_std,\n",
    "               diffusion_coeff,\n",
    "               batch_size=2048, \n",
    "               num_steps=num_steps, \n",
    "               snr=signal_to_noise_ratio,                \n",
    "               device='cpu',\n",
    "               eps=1e-3):\n",
    "    \"\"\"Generate samples from score-based models with Predictor-Corrector method.\n",
    "\n",
    "    Args:\n",
    "    score_model: A PyTorch model that represents the time-dependent score-based model.\n",
    "    marginal_prob_std: A function that gives the standard deviation\n",
    "      of the perturbation kernel.\n",
    "    diffusion_coeff: A function that gives the diffusion coefficient \n",
    "      of the SDE.\n",
    "    batch_size: The number of samplers to generate by calling this function once.\n",
    "    num_steps: The number of sampling steps. \n",
    "      Equivalent to the number of discretized time steps.    \n",
    "    device: 'cuda' for running on GPUs, and 'cpu' for running on CPUs.\n",
    "    eps: The smallest time step for numerical stability.\n",
    "\n",
    "    Returns: \n",
    "    Samples.\n",
    "    \"\"\"\n",
    "    t = torch.ones(batch_size, device=device)\n",
    "    init_x = torch.randn(batch_size, 2, device=device) * marginal_prob_std(t)[:, None]\n",
    "    time_steps = np.linspace(1., eps, num_steps)\n",
    "    step_size = time_steps[0] - time_steps[1]\n",
    "    x = init_x\n",
    "    with torch.no_grad():\n",
    "        for time_step in notebook.tqdm(time_steps):      \n",
    "            batch_time_step = torch.ones(batch_size, device=device) * time_step\n",
    "            batch_time_step_ = torch.reshape(batch_time_step, (x.shape[0], 1))\n",
    "            x_with_t = torch.hstack([x, batch_time_step_])\n",
    "            # Corrector step (Langevin MCMC)\n",
    "            grad = score_model(x_with_t)\n",
    "            grad_norm = torch.norm(grad.reshape(grad.shape[0], -1), dim=-1).mean()\n",
    "            noise_norm = np.sqrt(np.prod(x.shape[1:]))\n",
    "            langevin_step_size = 2 * (snr * noise_norm / grad_norm)**2\n",
    "            x = x + langevin_step_size * grad + torch.sqrt(2 * langevin_step_size) * torch.randn_like(x)      \n",
    "\n",
    "            # Predictor step (Euler-Maruyama)\n",
    "            g = diffusion_coeff(batch_time_step)\n",
    "            x_mean = x + (g**2)[:, None] * score_model(x_with_t) * step_size\n",
    "            x = x_mean + torch.sqrt(g**2 * step_size)[:, None] * torch.randn_like(x)      \n",
    "\n",
    "    # The last step does not include any noise\n",
    "    return x_mean"
   ]
  },
  {
   "cell_type": "code",
   "execution_count": 24,
   "id": "nasty-donna",
   "metadata": {},
   "outputs": [
    {
     "name": "stderr",
     "output_type": "stream",
     "text": [
      "<ipython-input-20-4fb5fc172600>:15: UserWarning: To copy construct from a tensor, it is recommended to use sourceTensor.clone().detach() or sourceTensor.clone().detach().requires_grad_(True), rather than torch.tensor(sourceTensor).\n",
      "  t = torch.tensor(t, device=device)\n"
     ]
    },
    {
     "data": {
      "application/json": {
       "ascii": false,
       "bar_format": null,
       "colour": null,
       "elapsed": 0.028534889221191406,
       "initial": 0,
       "n": 0,
       "ncols": null,
       "nrows": null,
       "postfix": null,
       "prefix": "",
       "rate": null,
       "total": 500,
       "unit": "it",
       "unit_divisor": 1000,
       "unit_scale": false
      },
      "application/vnd.jupyter.widget-view+json": {
       "model_id": "e51a143a5e9e4f24bc4284a1934313c4",
       "version_major": 2,
       "version_minor": 0
      },
      "text/plain": [
       "  0%|          | 0/500 [00:00<?, ?it/s]"
      ]
     },
     "metadata": {},
     "output_type": "display_data"
    },
    {
     "name": "stderr",
     "output_type": "stream",
     "text": [
      "<ipython-input-20-4fb5fc172600>:28: UserWarning: To copy construct from a tensor, it is recommended to use sourceTensor.clone().detach() or sourceTensor.clone().detach().requires_grad_(True), rather than torch.tensor(sourceTensor).\n",
      "  return torch.tensor(sigma**t, device=device)\n"
     ]
    }
   ],
   "source": [
    "#@title Sampling (double click to expand or collapse)\n",
    "\n",
    "## Load the pre-trained checkpoint from disk.\n",
    "device = 'cpu' #@param ['cuda', 'cpu'] {'type':'string'}\n",
    "ckpt = torch.load('ckpt_2.pth', map_location=device)\n",
    "score_model.load_state_dict(ckpt)\n",
    "\n",
    "sample_batch_size = 50000 #@param {'type':'integer'}\n",
    "\n",
    "#@param ['Euler_Maruyama_sampler', 'pc_sampler', 'ode_sampler'] {'type': 'raw'}\n",
    "## Generate samples using the specified sampler.\n",
    "pc_samples= pc_sampler(score_model, \n",
    "                  marginal_prob_std_fn,\n",
    "                  diffusion_coeff_fn, \n",
    "                  sample_batch_size, \n",
    "                  device=device)"
   ]
  },
  {
   "cell_type": "code",
   "execution_count": 27,
   "id": "mysterious-virus",
   "metadata": {},
   "outputs": [
    {
     "data": {
      "text/plain": [
       "(-3.2, 3.2)"
      ]
     },
     "execution_count": 27,
     "metadata": {},
     "output_type": "execute_result"
    },
    {
     "data": {
      "image/png": "[encoded data removed]",
      "text/plain": [
       "<Figure size 432x288 with 1 Axes>"
      ]
     },
     "metadata": {
      "needs_background": "light"
     },
     "output_type": "display_data"
    }
   ],
   "source": [
    "plt.scatter(pc_samples[:,0], pc_samples[:,1])\n",
    "plt.xlim(-1.2, 3.5)\n",
    "plt.ylim(-3.2,3.2)"
   ]
  },
  {
   "cell_type": "code",
   "execution_count": 28,
   "id": "varied-designation",
   "metadata": {},
   "outputs": [
    {
     "data": {
      "text/plain": [
       "(-3.2, 3.2)"
      ]
     },
     "execution_count": 28,
     "metadata": {},
     "output_type": "execute_result"
    },
    {
     "data": {
      "image/png": "[encoded data removed]",
      "text/plain": [
       "<Figure size 432x288 with 1 Axes>"
      ]
     },
     "metadata": {
      "needs_background": "light"
     },
     "output_type": "display_data"
    }
   ],
   "source": [
    "plt.scatter(tanh_data[:,0], tanh_data[:,1])\n",
    "plt.xlim(-1.2, 3.5)\n",
    "plt.ylim(-3.2,3.2)"
   ]
  },
  {
   "cell_type": "markdown",
   "id": "informational-strap",
   "metadata": {},
   "source": [
    "# CDE: tailored method"
   ]
  },
  {
   "cell_type": "code",
   "execution_count": 38,
   "id": "advanced-cassette",
   "metadata": {},
   "outputs": [],
   "source": [
    "y = -6 * torch.rand(100000) + 3\n",
    "z = np.random.gamma(1,0.3, size = 100000)\n",
    "x = torch.tanh(y) + z"
   ]
  },
  {
   "cell_type": "code",
   "execution_count": 42,
   "id": "exotic-making",
   "metadata": {},
   "outputs": [
    {
     "data": {
      "text/plain": [
       "100000"
      ]
     },
     "execution_count": 42,
     "metadata": {},
     "output_type": "execute_result"
    }
   ],
   "source": [
    "x.shape[0]"
   ]
  },
  {
   "cell_type": "code",
   "execution_count": 53,
   "id": "delayed-badge",
   "metadata": {},
   "outputs": [],
   "source": [
    "def simulate_y(x):\n",
    "    z = np.random.gamma(1,0.3, size = x.shape[0])\n",
    "    return torch.atanh(x - z)"
   ]
  },
  {
   "cell_type": "code",
   "execution_count": 59,
   "id": "ecological-natural",
   "metadata": {},
   "outputs": [],
   "source": [
    "sim = simulate_y(x) "
   ]
  },
  {
   "cell_type": "code",
   "execution_count": 60,
   "id": "demographic-affair",
   "metadata": {},
   "outputs": [
    {
     "ename": "RuntimeError",
     "evalue": "Boolean value of Tensor with more than one value is ambiguous",
     "output_type": "error",
     "traceback": [
      "\u001b[0;31m---------------------------------------------------------------------------\u001b[0m",
      "\u001b[0;31mRuntimeError\u001b[0m                              Traceback (most recent call last)",
      "\u001b[0;32m<ipython-input-60-4940990259de>\u001b[0m in \u001b[0;36m<module>\u001b[0;34m\u001b[0m\n\u001b[0;32m----> 1\u001b[0;31m \u001b[0;34m[\u001b[0m\u001b[0mi\u001b[0m \u001b[0;32mfor\u001b[0m \u001b[0mi\u001b[0m \u001b[0;32min\u001b[0m \u001b[0msim\u001b[0m \u001b[0;32mif\u001b[0m \u001b[0msim\u001b[0m\u001b[0;34m.\u001b[0m\u001b[0misnan\u001b[0m\u001b[0;34m(\u001b[0m\u001b[0;34m)\u001b[0m\u001b[0;34m]\u001b[0m\u001b[0;34m\u001b[0m\u001b[0;34m\u001b[0m\u001b[0m\n\u001b[0m",
      "\u001b[0;32m<ipython-input-60-4940990259de>\u001b[0m in \u001b[0;36m<listcomp>\u001b[0;34m(.0)\u001b[0m\n\u001b[0;32m----> 1\u001b[0;31m \u001b[0;34m[\u001b[0m\u001b[0mi\u001b[0m \u001b[0;32mfor\u001b[0m \u001b[0mi\u001b[0m \u001b[0;32min\u001b[0m \u001b[0msim\u001b[0m \u001b[0;32mif\u001b[0m \u001b[0msim\u001b[0m\u001b[0;34m.\u001b[0m\u001b[0misnan\u001b[0m\u001b[0;34m(\u001b[0m\u001b[0;34m)\u001b[0m\u001b[0;34m]\u001b[0m\u001b[0;34m\u001b[0m\u001b[0;34m\u001b[0m\u001b[0m\n\u001b[0m",
      "\u001b[0;31mRuntimeError\u001b[0m: Boolean value of Tensor with more than one value is ambiguous"
     ]
    }
   ],
   "source": [
    "[i for i in sim if sim.isnan()]"
   ]
  },
  {
   "cell_type": "code",
   "execution_count": null,
   "id": "victorian-armstrong",
   "metadata": {},
   "outputs": [],
   "source": []
  },
  {
   "cell_type": "code",
   "execution_count": 48,
   "id": "fifth-species",
   "metadata": {},
   "outputs": [
    {
     "data": {
      "text/plain": [
       "tensor([ 0.2224, -0.6000,  0.8973,  ...,  1.9023, -0.5227,  1.4565],\n",
       "       dtype=torch.float64)"
      ]
     },
     "execution_count": 48,
     "metadata": {},
     "output_type": "execute_result"
    }
   ],
   "source": [
    "x"
   ]
  },
  {
   "cell_type": "code",
   "execution_count": null,
   "id": "civilian-awareness",
   "metadata": {},
   "outputs": [],
   "source": [
    "class ScoreNet(nn.Module):\n",
    "    \n",
    "    def __init__(self, marginal_prob_std):\n",
    "        super().__init__()\n",
    "        self.act = nn.GELU()#lambda x: x * torch.sigmoid(x)\n",
    "        self.marginal_prob_std = marginal_prob_std\n",
    "        self.hidden_units = 32\n",
    "        # inputs x_t, condition y, timestep t\n",
    "        self.mlp = nn.Sequential(\n",
    "            nn.Linear(3, int(self.hidden_units), bias=True),\n",
    "            nn.GELU(),\n",
    "            nn.Linear(int(self.hidden_units), int(self.hidden_units/2), bias=True),\n",
    "            nn.GELU(),\n",
    "            nn.Linear(int(self.hidden_units/2), int(self.hidden_units/4), bias=True),\n",
    "            nn.GELU(),\n",
    "            nn.Linear(int(self.hidden_units/4), int(self.hidden_units/8), bias=True),\n",
    "            nn.GELU(),\n",
    "            nn.Linear(int(self.hidden_units/8), int(self.hidden_units/16), bias=True),\n",
    "            nn.GELU(),\n",
    "            nn.Linear(int(self.hidden_units/16), int(self.hidden_units/8), bias=True),\n",
    "            nn.GELU(),\n",
    "            nn.Linear(int(self.hidden_units/8), int(self.hidden_units/4), bias=True),\n",
    "            nn.GELU(),\n",
    "            nn.Linear(int(self.hidden_units/4), int(self.hidden_units/2), bias=True),\n",
    "            nn.GELU(),\n",
    "            nn.Linear(int(self.hidden_units/2), int(self.hidden_units), bias=True),\n",
    "            nn.GELU(),\n",
    "            nn.Linear(int(self.hidden_units), 2, bias=True)\n",
    "        )\n",
    "        \n",
    "        \n",
    "        \n",
    "    def forward(self, x):\n",
    "        t = x[:, 2]\n",
    "        x = self.mlp(x)\n",
    "        x = x / self.marginal_prob_std(t)[:, None]\n",
    "        return x"
   ]
  },
  {
   "cell_type": "code",
   "execution_count": null,
   "id": "united-courtesy",
   "metadata": {},
   "outputs": [],
   "source": [
    "epochs = 100\n",
    "batch_size = 1000\n",
    "lr=1e-4\n",
    "\n",
    "\n",
    "score_model = ScoreNet(marginal_prob_std=marginal_prob_std_fn)\n",
    "score_model = score_model.to(device)\n",
    "optimizer = Adam(score_model.parameters(), lr=lr)\n",
    "dataset = tanh_data\n",
    "data_loader = DataLoader(dataset, batch_size=batch_size, shuffle=True)\n",
    "tqdm_epoch = notebook.trange(epochs)\n",
    "losses = []\n",
    "for epoch in tqdm_epoch:\n",
    "    avg_loss = 0.\n",
    "    num_items = 0\n",
    "    for x in data_loader:\n",
    "        #print(x)\n",
    "        loss = loss_fn(score_model, x, marginal_prob_std_fn)\n",
    "        optimizer.zero_grad(set_to_none=True)\n",
    "        loss.backward()    \n",
    "        optimizer.step()\n",
    "        avg_loss += loss.item() * x.shape[0]\n",
    "        num_items += x.shape[0]\n",
    "        \n",
    "    # Print the averaged training loss so far.\n",
    "    tqdm_epoch.set_description('Average Loss: {:5f}'.format(avg_loss / num_items))\n",
    "    # Update the checkpoint after each epoch of training.\n",
    "    torch.save(score_model.state_dict(), 'ckpt_2.pth')\n",
    "    losses.append(avg_loss / num_items)"
   ]
  },
  {
   "cell_type": "code",
   "execution_count": null,
   "id": "operational-capacity",
   "metadata": {},
   "outputs": [],
   "source": []
  },
  {
   "cell_type": "code",
   "execution_count": null,
   "id": "focused-holocaust",
   "metadata": {},
   "outputs": [],
   "source": []
  },
  {
   "cell_type": "code",
   "execution_count": null,
   "id": "generous-confirmation",
   "metadata": {},
   "outputs": [],
   "source": []
  },
  {
   "cell_type": "code",
   "execution_count": null,
   "id": "similar-agency",
   "metadata": {},
   "outputs": [],
   "source": []
  },
  {
   "cell_type": "markdown",
   "id": "aging-april",
   "metadata": {},
   "source": [
    "# CDiffE replacement method"
   ]
  },
  {
   "cell_type": "markdown",
   "id": "great-community",
   "metadata": {},
   "source": [
    "I think, in the case of simulating x|y for this synthetic example, the training stays the same. The difference comes in the sampling. For a given y and timestep t, diffuse y to y_t by the standard forward diffusion. Then at each step of the SDE solver, replace the y value with the diffused y_t."
   ]
  },
  {
   "cell_type": "code",
   "execution_count": 108,
   "id": "agricultural-contractor",
   "metadata": {},
   "outputs": [],
   "source": [
    "def get_y_t(y_obs, t):\n",
    "    std = marginal_prob_std_fn(t)\n",
    "    z = torch.randn_like(y_obs)\n",
    "    perturbed_y = y_obs + z * std[:, None]\n",
    "    return perturbed_y"
   ]
  },
  {
   "cell_type": "code",
   "execution_count": 109,
   "id": "disturbed-knowing",
   "metadata": {},
   "outputs": [],
   "source": [
    "y_obs = torch.tensor(0, dtype = torch.float32)\n",
    "y_obs = y_obs.repeat(5000)\n",
    "y_obs = y_obs.reshape(5000,1)"
   ]
  },
  {
   "cell_type": "code",
   "execution_count": 110,
   "id": "balanced-screening",
   "metadata": {},
   "outputs": [
    {
     "data": {
      "text/plain": [
       "tensor([[0.],\n",
       "        [0.],\n",
       "        [0.],\n",
       "        ...,\n",
       "        [0.],\n",
       "        [0.],\n",
       "        [0.]])"
      ]
     },
     "execution_count": 110,
     "metadata": {},
     "output_type": "execute_result"
    }
   ],
   "source": [
    "y_obs"
   ]
  },
  {
   "cell_type": "code",
   "execution_count": 147,
   "id": "hearing-parameter",
   "metadata": {},
   "outputs": [],
   "source": [
    "t = torch.ones(5000, device=device) * 0.1"
   ]
  },
  {
   "cell_type": "code",
   "execution_count": 148,
   "id": "amazing-duplicate",
   "metadata": {},
   "outputs": [
    {
     "data": {
      "text/plain": [
       "tensor([0.1000, 0.1000, 0.1000,  ..., 0.1000, 0.1000, 0.1000])"
      ]
     },
     "execution_count": 148,
     "metadata": {},
     "output_type": "execute_result"
    }
   ],
   "source": [
    "t"
   ]
  },
  {
   "cell_type": "code",
   "execution_count": 151,
   "id": "talented-friendly",
   "metadata": {},
   "outputs": [
    {
     "name": "stderr",
     "output_type": "stream",
     "text": [
      "<ipython-input-20-4fb5fc172600>:15: UserWarning: To copy construct from a tensor, it is recommended to use sourceTensor.clone().detach() or sourceTensor.clone().detach().requires_grad_(True), rather than torch.tensor(sourceTensor).\n",
      "  t = torch.tensor(t, device=device)\n"
     ]
    },
    {
     "data": {
      "text/plain": [
       "tensor([[-0.2454],\n",
       "        [-0.6866],\n",
       "        [-0.3605],\n",
       "        ...,\n",
       "        [-0.3920],\n",
       "        [ 0.3200],\n",
       "        [ 0.1163]])"
      ]
     },
     "execution_count": 151,
     "metadata": {},
     "output_type": "execute_result"
    }
   ],
   "source": [
    "get_y_t(y_obs, t)"
   ]
  },
  {
   "cell_type": "code",
   "execution_count": null,
   "id": "finnish-september",
   "metadata": {},
   "outputs": [],
   "source": []
  },
  {
   "cell_type": "code",
   "execution_count": 103,
   "id": "durable-stadium",
   "metadata": {},
   "outputs": [
    {
     "name": "stderr",
     "output_type": "stream",
     "text": [
      "<ipython-input-20-4fb5fc172600>:15: UserWarning: To copy construct from a tensor, it is recommended to use sourceTensor.clone().detach() or sourceTensor.clone().detach().requires_grad_(True), rather than torch.tensor(sourceTensor).\n",
      "  t = torch.tensor(t, device=device)\n"
     ]
    }
   ],
   "source": [
    "std = marginal_prob_std_fn(times)"
   ]
  },
  {
   "cell_type": "code",
   "execution_count": 104,
   "id": "proved-bachelor",
   "metadata": {},
   "outputs": [],
   "source": [
    "z = torch.randn_like(y_obs)\n",
    "perturbed_y = y_obs + z * std[:, None]"
   ]
  },
  {
   "cell_type": "code",
   "execution_count": 183,
   "id": "academic-federation",
   "metadata": {},
   "outputs": [],
   "source": [
    "#@title Define the Euler-Maruyama sampler (double click to expand or collapse)\n",
    "\n",
    "## The number of sampling steps.\n",
    "num_steps =  1000#@param {'type':'integer'}\n",
    "def Euler_Maruyama_sampler(score_model, \n",
    "                           marginal_prob_std,\n",
    "                           diffusion_coeff, \n",
    "                           y_obs,\n",
    "                           batch_size=1000, \n",
    "                           num_steps=num_steps, \n",
    "                           device='cpu', \n",
    "                           eps=1e-3):\n",
    "    \"\"\"Generate samples from score-based models with the Euler-Maruyama solver.\n",
    "\n",
    "    Args:\n",
    "    score_model: A PyTorch model that represents the time-dependent score-based model.\n",
    "    marginal_prob_std: A function that gives the standard deviation of\n",
    "      the perturbation kernel.\n",
    "    diffusion_coeff: A function that gives the diffusion coefficient of the SDE.\n",
    "    batch_size: The number of samplers to generate by calling this function once.\n",
    "    num_steps: The number of sampling steps. \n",
    "      Equivalent to the number of discretized time steps.\n",
    "    device: 'cuda' for running on GPUs, and 'cpu' for running on CPUs.\n",
    "    eps: The smallest time step for numerical stability.\n",
    "\n",
    "    Returns:\n",
    "    Samples.    \n",
    "    \"\"\"\n",
    "    t = torch.ones(batch_size, device=device)\n",
    "    init_x = torch.randn(batch_size, 2, device=device) * marginal_prob_std(t)[:, None]\n",
    "    time_steps = torch.linspace(1., eps, num_steps, device=device)\n",
    "    step_size = time_steps[0] - time_steps[1]\n",
    "    x = init_x\n",
    "    y_obs = y_obs.repeat(batch_size)\n",
    "    y_obs = y_obs.reshape(batch_size,1)\n",
    "    with torch.no_grad():\n",
    "        for time_step in notebook.tqdm(time_steps): \n",
    "\n",
    "            batch_time_step = torch.ones(batch_size, device=device) * time_step\n",
    "            g = diffusion_coeff(batch_time_step)\n",
    "            batch_time_step_ = torch.reshape(batch_time_step, (x.shape[0], 1))\n",
    "            x_with_t = torch.hstack([x, batch_time_step_])\n",
    "            mean_x = x + (g**2)[:, None] * score_model(x_with_t) * step_size\n",
    "            x = mean_x + torch.sqrt(step_size) * g[:, None] * torch.randn_like(x) \n",
    "            \n",
    "            y_obs_t = get_y_t(y_obs, batch_time_step)\n",
    "\n",
    "            x = torch.hstack([x,y_obs_t])\n",
    "            x = x[:, [0,2]]\n",
    "            \n",
    "\n",
    "    # Do not include any noise in the last sampling step.\n",
    "    return mean_x"
   ]
  },
  {
   "cell_type": "code",
   "execution_count": 184,
   "id": "handmade-slovenia",
   "metadata": {},
   "outputs": [
    {
     "name": "stderr",
     "output_type": "stream",
     "text": [
      "<ipython-input-20-4fb5fc172600>:15: UserWarning: To copy construct from a tensor, it is recommended to use sourceTensor.clone().detach() or sourceTensor.clone().detach().requires_grad_(True), rather than torch.tensor(sourceTensor).\n",
      "  t = torch.tensor(t, device=device)\n"
     ]
    },
    {
     "data": {
      "application/json": {
       "ascii": false,
       "bar_format": null,
       "colour": null,
       "elapsed": 0.028244972229003906,
       "initial": 0,
       "n": 0,
       "ncols": null,
       "nrows": null,
       "postfix": null,
       "prefix": "",
       "rate": null,
       "total": 1000,
       "unit": "it",
       "unit_divisor": 1000,
       "unit_scale": false
      },
      "application/vnd.jupyter.widget-view+json": {
       "model_id": "5775c31f2ef749e48cfce697e82047f7",
       "version_major": 2,
       "version_minor": 0
      },
      "text/plain": [
       "  0%|          | 0/1000 [00:00<?, ?it/s]"
      ]
     },
     "metadata": {},
     "output_type": "display_data"
    },
    {
     "name": "stderr",
     "output_type": "stream",
     "text": [
      "<ipython-input-20-4fb5fc172600>:28: UserWarning: To copy construct from a tensor, it is recommended to use sourceTensor.clone().detach() or sourceTensor.clone().detach().requires_grad_(True), rather than torch.tensor(sourceTensor).\n",
      "  return torch.tensor(sigma**t, device=device)\n"
     ]
    },
    {
     "data": {
      "application/json": {
       "ascii": false,
       "bar_format": null,
       "colour": null,
       "elapsed": 0.02753901481628418,
       "initial": 0,
       "n": 0,
       "ncols": null,
       "nrows": null,
       "postfix": null,
       "prefix": "",
       "rate": null,
       "total": 1000,
       "unit": "it",
       "unit_divisor": 1000,
       "unit_scale": false
      },
      "application/vnd.jupyter.widget-view+json": {
       "model_id": "21c6a7a33f76446798fbcb87a6df17fe",
       "version_major": 2,
       "version_minor": 0
      },
      "text/plain": [
       "  0%|          | 0/1000 [00:00<?, ?it/s]"
      ]
     },
     "metadata": {},
     "output_type": "display_data"
    },
    {
     "data": {
      "application/json": {
       "ascii": false,
       "bar_format": null,
       "colour": null,
       "elapsed": 0.026504039764404297,
       "initial": 0,
       "n": 0,
       "ncols": null,
       "nrows": null,
       "postfix": null,
       "prefix": "",
       "rate": null,
       "total": 1000,
       "unit": "it",
       "unit_divisor": 1000,
       "unit_scale": false
      },
      "application/vnd.jupyter.widget-view+json": {
       "model_id": "7f1b9f6ce42541dcae8a6fa7c84c8b08",
       "version_major": 2,
       "version_minor": 0
      },
      "text/plain": [
       "  0%|          | 0/1000 [00:00<?, ?it/s]"
      ]
     },
     "metadata": {},
     "output_type": "display_data"
    }
   ],
   "source": [
    "conditional_samples_0 = Euler_Maruyama_sampler(score_model, \n",
    "                           marginal_prob_std_fn,\n",
    "                           diffusion_coeff_fn, \n",
    "                           y_obs = torch.tensor(0, dtype = torch.float32))\n",
    "\n",
    "conditional_samples_neg = Euler_Maruyama_sampler(score_model, \n",
    "                           marginal_prob_std_fn,\n",
    "                           diffusion_coeff_fn, \n",
    "                           y_obs = torch.tensor(-1.2, dtype = torch.float32))\n",
    "\n",
    "conditional_samples_pos = Euler_Maruyama_sampler(score_model, \n",
    "                           marginal_prob_std_fn,\n",
    "                           diffusion_coeff_fn, \n",
    "                           y_obs = torch.tensor(1.2, dtype = torch.float32))"
   ]
  },
  {
   "cell_type": "code",
   "execution_count": 192,
   "id": "generous-timothy",
   "metadata": {},
   "outputs": [
    {
     "data": {
      "text/plain": [
       "(array([  6.,  29., 121., 271., 257., 184.,  94.,  28.,   9.,   1.]),\n",
       " array([0.1150606 , 0.31352088, 0.5119812 , 0.71044147, 0.90890175,\n",
       "        1.107362  , 1.3058224 , 1.5042826 , 1.7027429 , 1.9012032 ,\n",
       "        2.0996635 ], dtype=float32),\n",
       " <a list of 10 Patch objects>)"
      ]
     },
     "execution_count": 192,
     "metadata": {},
     "output_type": "execute_result"
    },
    {
     "data": {
      "image/png": "[encoded data removed]",
      "text/plain": [
       "<Figure size 432x288 with 1 Axes>"
      ]
     },
     "metadata": {
      "needs_background": "light"
     },
     "output_type": "display_data"
    }
   ],
   "source": [
    "plt.hist(conditional_samples_pos[:,0])"
   ]
  },
  {
   "cell_type": "code",
   "execution_count": 193,
   "id": "choice-peripheral",
   "metadata": {},
   "outputs": [],
   "source": [
    "actual_samples_pos = np.random.gamma(1,0.3, size = 1000) + 1.2"
   ]
  },
  {
   "cell_type": "code",
   "execution_count": 194,
   "id": "confidential-divide",
   "metadata": {},
   "outputs": [
    {
     "data": {
      "text/plain": [
       "(array([498., 282., 117.,  60.,  22.,   9.,   5.,   6.,   0.,   1.]),\n",
       " array([1.20010288, 1.42228523, 1.64446758, 1.86664993, 2.08883228,\n",
       "        2.31101463, 2.53319698, 2.75537933, 2.97756168, 3.19974403,\n",
       "        3.42192638]),\n",
       " <a list of 10 Patch objects>)"
      ]
     },
     "execution_count": 194,
     "metadata": {},
     "output_type": "execute_result"
    },
    {
     "data": {
      "image/png": "[encoded data removed]",
      "text/plain": [
       "<Figure size 432x288 with 1 Axes>"
      ]
     },
     "metadata": {
      "needs_background": "light"
     },
     "output_type": "display_data"
    }
   ],
   "source": [
    "plt.hist(actual_samples_pos)"
   ]
  },
  {
   "cell_type": "code",
   "execution_count": null,
   "id": "selective-aberdeen",
   "metadata": {},
   "outputs": [],
   "source": []
  }
 ],
 "metadata": {
  "kernelspec": {
   "display_name": "Python 3",
   "language": "python",
   "name": "python3"
  },
  "language_info": {
   "codemirror_mode": {
    "name": "ipython",
    "version": 3
   },
   "file_extension": ".py",
   "mimetype": "text/x-python",
   "name": "python",
   "nbconvert_exporter": "python",
   "pygments_lexer": "ipython3",
   "version": "3.8.2"
  },
  "varInspector": {
   "cols": {
    "lenName": 16,
    "lenType": 16,
    "lenVar": 40
   },
   "kernels_config": {
    "python": {
     "delete_cmd_postfix": "",
     "delete_cmd_prefix": "del ",
     "library": "var_list.py",
     "varRefreshCmd": "print(var_dic_list())"
    },
    "r": {
     "delete_cmd_postfix": ") ",
     "delete_cmd_prefix": "rm(",
     "library": "var_list.r",
     "varRefreshCmd": "cat(var_dic_list()) "
    }
   },
   "types_to_exclude": [
    "module",
    "function",
    "builtin_function_or_method",
    "instance",
    "_Feature"
   ],
   "window_display": false
  }
 },
 "nbformat": 4,
 "nbformat_minor": 5
}
