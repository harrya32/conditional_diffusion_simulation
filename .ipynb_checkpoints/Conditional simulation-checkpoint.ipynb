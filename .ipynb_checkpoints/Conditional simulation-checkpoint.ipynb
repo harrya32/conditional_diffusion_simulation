{
 "cells": [
  {
   "cell_type": "code",
   "execution_count": 5,
   "id": "faced-antenna",
   "metadata": {},
   "outputs": [],
   "source": [
    "import torch\n",
    "import torchvision\n",
    "import matplotlib.pyplot as plt\n",
    "import numpy as np\n",
    "from sklearn import datasets\n",
    "import torch.nn.functional as F"
   ]
  },
  {
   "cell_type": "code",
   "execution_count": 2,
   "id": "elementary-cookbook",
   "metadata": {},
   "outputs": [
    {
     "data": {
      "text/plain": [
       "<matplotlib.collections.PathCollection at 0x7fd02991a910>"
      ]
     },
     "execution_count": 2,
     "metadata": {},
     "output_type": "execute_result"
    },
    {
     "data": {
      "image/png": "[encoded data removed]",
      "text/plain": [
       "<Figure size 432x288 with 1 Axes>"
      ]
     },
     "metadata": {
      "needs_background": "light"
     },
     "output_type": "display_data"
    }
   ],
   "source": [
    "circles, _ = datasets.make_circles(1024*128, noise=0.01, factor=0.5, shuffle=True)\n",
    "circles = circles* [5., 10.] \n",
    "circles = circles.T\n",
    "plt.scatter(circles[0], circles[1])"
   ]
  },
  {
   "cell_type": "code",
   "execution_count": 3,
   "id": "round-trauma",
   "metadata": {},
   "outputs": [],
   "source": [
    "def linear_beta_schedule(timesteps):\n",
    "    beta_start = 0.0001\n",
    "    beta_end = 0.02\n",
    "    return torch.linspace(beta_start, beta_end, timesteps)"
   ]
  },
  {
   "cell_type": "code",
   "execution_count": 6,
   "id": "bottom-month",
   "metadata": {},
   "outputs": [],
   "source": [
    "#Defining the forward model, being able to sample from the forward dist at any timestep t\n",
    "timesteps = 200\n",
    "betas = linear_beta_schedule(timesteps)\n",
    "alphas = 1 - betas\n",
    "alphas_cumprod = torch.cumprod(alphas, axis=0)\n",
    "variance = 1 - alphas_cumprod\n",
    "sd = torch.sqrt(variance)\n",
    "sqrt_alphas_cumprod = torch.sqrt(alphas_cumprod)\n",
    "alphas_prev_ = F.pad(alphas_cumprod[:-1], [1, 0], \"constant\", 1.0)\n",
    "sigma_squared_q_t = (1 - alphas) * (1 - alphas_cumprod) / (1 - alphas_prev_)\n",
    "log_sigma_squared_q_t = torch.log(1-alphas) + torch.log(1-alphas_cumprod) - torch.log(1-alphas_prev_)\n",
    "sigma_squared_q_t_corrected = torch.exp(log_sigma_squared_q_t)\n",
    "posterior_variance = (betas) * (1 - alphas_prev_) / (1 - alphas_cumprod)\n",
    "log_posterior_variance = torch.log(torch.hstack([posterior_variance[1], posterior_variance[1:]]))\n",
    "posterior_variance_corrected = torch.exp(log_posterior_variance)\n",
    "\n",
    "#draws from forward model at t = timestep using x_0 = batch\n",
    "def get_noisy(batch, timestep, noise = None):\n",
    "    if noise == None:\n",
    "        noise = torch.normal(0,1,size = batch.shape)\n",
    "    \n",
    "    noisy = batch.mul(sqrt_alphas_cumprod[timestep]) + noise.mul(sd[timestep])\n",
    "    return noisy\n",
    "    \n",
    "def recover_original(batch, timestep, noise):\n",
    "    true_data = (batch.sub(noise.mul(sd[timestep]))).div(alphas_cumprod[timestep])\n",
    "    return true_data"
   ]
  },
  {
   "cell_type": "code",
   "execution_count": null,
   "id": "deluxe-cause",
   "metadata": {},
   "outputs": [],
   "source": [
    "learning_rate = 1e-3\n",
    "batch_size = 2048\n",
    "\n",
    "from torch import nn\n",
    "\n",
    "class DenoisingModel(nn.Module):\n",
    "    \n",
    "    def __init__(self, hidden_units=32):\n",
    "        super(DenoisingModel, self).__init__()\n",
    "        \n",
    "        # inputs of data (x,y), condition y, timestep t ??\n",
    "        self.mlp = nn.Sequential(\n",
    "            nn.Linear(4, int(hidden_units), bias=True),\n",
    "            nn.GELU(),\n",
    "            nn.Linear(int(hidden_units), int(hidden_units/2), bias=True),\n",
    "            nn.GELU(),\n",
    "            nn.Linear(int(hidden_units/2), int(hidden_units/4), bias=True),\n",
    "            nn.GELU(),\n",
    "            nn.Linear(int(hidden_units/4), int(hidden_units/8), bias=True),\n",
    "            nn.GELU(),\n",
    "            nn.Linear(int(hidden_units/8), int(hidden_units/16), bias=True),\n",
    "            nn.GELU(),\n",
    "            nn.Linear(int(hidden_units/16), int(hidden_units/8), bias=True),\n",
    "            nn.GELU(),\n",
    "            nn.Linear(int(hidden_units/8), int(hidden_units/4), bias=True),\n",
    "            nn.GELU(),\n",
    "            nn.Linear(int(hidden_units/4), int(hidden_units/2), bias=True),\n",
    "            nn.GELU(),\n",
    "            nn.Linear(int(hidden_units/2), int(hidden_units), bias=True),\n",
    "            nn.GELU(),\n",
    "            nn.Linear(int(hidden_units), 2, bias=True)\n",
    "        )\n",
    "        \n",
    "        \n",
    "        \n",
    "    def forward(self, x):\n",
    "        x = self.mlp(x)\n",
    "        return x\n",
    "      \n",
    "denoising_model = DenoisingModel()\n",
    "denoising_model = denoising_model.to(torch.double)\n",
    "print(denoising_model)\n",
    "\n",
    "loss_func = nn.MSELoss()\n",
    "\n",
    "optimizer = torch.optim.Adam(denoising_model.parameters(), lr=learning_rate)"
   ]
  }
 ],
 "metadata": {
  "kernelspec": {
   "display_name": "Python 3",
   "language": "python",
   "name": "python3"
  },
  "language_info": {
   "codemirror_mode": {
    "name": "ipython",
    "version": 3
   },
   "file_extension": ".py",
   "mimetype": "text/x-python",
   "name": "python",
   "nbconvert_exporter": "python",
   "pygments_lexer": "ipython3",
   "version": "3.8.2"
  },
  "varInspector": {
   "cols": {
    "lenName": 16,
    "lenType": 16,
    "lenVar": 40
   },
   "kernels_config": {
    "python": {
     "delete_cmd_postfix": "",
     "delete_cmd_prefix": "del ",
     "library": "var_list.py",
     "varRefreshCmd": "print(var_dic_list())"
    },
    "r": {
     "delete_cmd_postfix": ") ",
     "delete_cmd_prefix": "rm(",
     "library": "var_list.r",
     "varRefreshCmd": "cat(var_dic_list()) "
    }
   },
   "types_to_exclude": [
    "module",
    "function",
    "builtin_function_or_method",
    "instance",
    "_Feature"
   ],
   "window_display": false
  }
 },
 "nbformat": 4,
 "nbformat_minor": 5
}
