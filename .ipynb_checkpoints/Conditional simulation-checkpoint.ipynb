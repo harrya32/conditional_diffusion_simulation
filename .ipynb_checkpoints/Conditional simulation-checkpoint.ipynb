{
 "cells": [
  {
   "cell_type": "code",
   "execution_count": 1,
   "id": "faced-antenna",
   "metadata": {},
   "outputs": [],
   "source": [
    "import torch\n",
    "import torch.nn as nn\n",
    "import torch.nn.functional as F\n",
    "import numpy as np\n",
    "import functools\n",
    "from sklearn import datasets\n",
    "import matplotlib.pyplot as plt\n",
    "from torch.optim import Adam"
   ]
  },
  {
   "cell_type": "code",
   "execution_count": 2,
   "id": "elementary-cookbook",
   "metadata": {},
   "outputs": [],
   "source": [
    "y = -6 * torch.rand(100000) + 3\n",
    "z = np.random.gamma(1,0.3, size = 100000)\n",
    "x = np.tanh(y) + z\n",
    "tanh_data = torch.vstack([x, y]).T"
   ]
  },
  {
   "cell_type": "code",
   "execution_count": 5,
   "id": "round-trauma",
   "metadata": {},
   "outputs": [],
   "source": [
    "class ScoreNet(nn.Module):\n",
    "    \n",
    "    def __init__(self, marginal_prob_std):\n",
    "        super().__init__()\n",
    "        self.act = nn.GELU()#lambda x: x * torch.sigmoid(x)\n",
    "        self.marginal_prob_std = marginal_prob_std\n",
    "        self.hidden_units = 32\n",
    "        # inputs of data (x,y), timestep t\n",
    "        self.mlp = nn.Sequential(\n",
    "            nn.Linear(3, int(self.hidden_units), bias=True),\n",
    "            nn.GELU(),\n",
    "            nn.Linear(int(self.hidden_units), int(self.hidden_units/2), bias=True),\n",
    "            nn.GELU(),\n",
    "            nn.Linear(int(self.hidden_units/2), int(self.hidden_units/4), bias=True),\n",
    "            nn.GELU(),\n",
    "            nn.Linear(int(self.hidden_units/4), int(self.hidden_units/8), bias=True),\n",
    "            nn.GELU(),\n",
    "            nn.Linear(int(self.hidden_units/8), int(self.hidden_units/16), bias=True),\n",
    "            nn.GELU(),\n",
    "            nn.Linear(int(self.hidden_units/16), int(self.hidden_units/8), bias=True),\n",
    "            nn.GELU(),\n",
    "            nn.Linear(int(self.hidden_units/8), int(self.hidden_units/4), bias=True),\n",
    "            nn.GELU(),\n",
    "            nn.Linear(int(self.hidden_units/4), int(self.hidden_units/2), bias=True),\n",
    "            nn.GELU(),\n",
    "            nn.Linear(int(self.hidden_units/2), int(self.hidden_units), bias=True),\n",
    "            nn.GELU(),\n",
    "            nn.Linear(int(self.hidden_units), 2, bias=True)\n",
    "        )\n",
    "        \n",
    "        \n",
    "        \n",
    "    def forward(self, x):\n",
    "        t = x[:, 2]\n",
    "        x = self.mlp(x)\n",
    "        x = x / self.marginal_prob_std(t)[:, None]\n",
    "        return x"
   ]
  },
  {
   "cell_type": "code",
   "execution_count": 6,
   "id": "bottom-month",
   "metadata": {},
   "outputs": [],
   "source": [
    "#@title Set up the SDE\n",
    "\n",
    "device = 'cpu' #@param ['cuda', 'cpu'] {'type':'string'}\n",
    "\n",
    "def marginal_prob_std(t, sigma):\n",
    "    \"\"\"Compute the mean and standard deviation of $p_{0t}(x(t) | x(0))$.\n",
    "\n",
    "    Args:    \n",
    "    t: A vector of time steps.\n",
    "    sigma: The $\\sigma$ in our SDE.  \n",
    "\n",
    "    Returns:\n",
    "    The standard deviation.\n",
    "    \"\"\"    \n",
    "    t = torch.tensor(t, device=device)\n",
    "    return torch.sqrt((sigma**(2 * t) - 1.) / 2. / np.log(sigma))\n",
    "\n",
    "def diffusion_coeff(t, sigma):\n",
    "    \"\"\"Compute the diffusion coefficient of our SDE.\n",
    "\n",
    "    Args:\n",
    "    t: A vector of time steps.\n",
    "    sigma: The $\\sigma$ in our SDE.\n",
    "\n",
    "    Returns:\n",
    "    The vector of diffusion coefficients.\n",
    "    \"\"\"\n",
    "    return torch.tensor(sigma**t, device=device)\n",
    "  \n",
    "sigma =  25.0#@param {'type':'number'}\n",
    "marginal_prob_std_fn = functools.partial(marginal_prob_std, sigma=sigma)\n",
    "diffusion_coeff_fn = functools.partial(diffusion_coeff, sigma=sigma)"
   ]
  },
  {
   "cell_type": "code",
   "execution_count": 7,
   "id": "deluxe-cause",
   "metadata": {},
   "outputs": [],
   "source": [
    "#@title Define the loss function (double click to expand or collapse)\n",
    "\n",
    "def loss_fn(model, x, marginal_prob_std, eps=1e-5):\n",
    "    \"\"\"The loss function for training score-based generative models.\n",
    "\n",
    "    Args:\n",
    "    model: A PyTorch model instance that represents a \n",
    "      time-dependent score-based model.\n",
    "    x: A mini-batch of training data.    \n",
    "    marginal_prob_std: A function that gives the standard deviation of \n",
    "      the perturbation kernel.\n",
    "    eps: A tolerance value for numerical stability.\n",
    "    \"\"\"\n",
    "    random_t = torch.rand(x.shape[0], device='cpu') * (1. - eps) + eps  \n",
    "    std = marginal_prob_std(random_t)\n",
    "    random_t = torch.reshape(random_t, (x.shape[0], 1))\n",
    "    z = torch.randn_like(x)\n",
    "    perturbed_x = x + z * std[:, None]\n",
    "    x_with_t = torch.hstack([perturbed_x,random_t])\n",
    "    x_with_t = x_with_t.to(torch.float32)\n",
    "    score = model(x_with_t)\n",
    "    loss = torch.mean(torch.sum((score * std[:, None] + z)**2, dim=0))\n",
    "    return loss"
   ]
  },
  {
   "cell_type": "code",
   "execution_count": 9,
   "id": "marked-testimony",
   "metadata": {},
   "outputs": [
    {
     "data": {
      "application/json": {
       "ascii": false,
       "bar_format": null,
       "colour": null,
       "elapsed": 0.036123037338256836,
       "initial": 0,
       "n": 0,
       "ncols": null,
       "nrows": null,
       "postfix": null,
       "prefix": "",
       "rate": null,
       "total": 100,
       "unit": "it",
       "unit_divisor": 1000,
       "unit_scale": false
      },
      "application/vnd.jupyter.widget-view+json": {
       "model_id": "95015eb45a54400a86ef66936e810010",
       "version_major": 2,
       "version_minor": 0
      },
      "text/plain": [
       "  0%|          | 0/100 [00:00<?, ?it/s]"
      ]
     },
     "metadata": {},
     "output_type": "display_data"
    },
    {
     "name": "stderr",
     "output_type": "stream",
     "text": [
      "<ipython-input-6-4fb5fc172600>:15: UserWarning: To copy construct from a tensor, it is recommended to use sourceTensor.clone().detach() or sourceTensor.clone().detach().requires_grad_(True), rather than torch.tensor(sourceTensor).\n",
      "  t = torch.tensor(t, device=device)\n"
     ]
    }
   ],
   "source": [
    "epochs = 100\n",
    "batch_size = 1000\n",
    "lr=1e-4\n",
    "\n",
    "from torch.utils.data import DataLoader\n",
    "from tqdm import notebook\n",
    "\n",
    "score_model = ScoreNet(marginal_prob_std=marginal_prob_std_fn)\n",
    "score_model = score_model.to(device)\n",
    "optimizer = Adam(score_model.parameters(), lr=lr)\n",
    "dataset = tanh_data\n",
    "data_loader = DataLoader(dataset, batch_size=batch_size, shuffle=True)\n",
    "tqdm_epoch = notebook.trange(epochs)\n",
    "losses = []\n",
    "for epoch in tqdm_epoch:\n",
    "    avg_loss = 0.\n",
    "    num_items = 0\n",
    "    for x in data_loader:\n",
    "        #print(x)\n",
    "        loss = loss_fn(score_model, x, marginal_prob_std_fn)\n",
    "        optimizer.zero_grad(set_to_none=True)\n",
    "        loss.backward()    \n",
    "        optimizer.step()\n",
    "        avg_loss += loss.item() * x.shape[0]\n",
    "        num_items += x.shape[0]\n",
    "        \n",
    "    # Print the averaged training loss so far.\n",
    "    tqdm_epoch.set_description('Average Loss: {:5f}'.format(avg_loss / num_items))\n",
    "    # Update the checkpoint after each epoch of training.\n",
    "    torch.save(score_model.state_dict(), 'ckpt_2.pth')\n",
    "    losses.append(avg_loss / num_items)"
   ]
  },
  {
   "cell_type": "code",
   "execution_count": 11,
   "id": "linear-rugby",
   "metadata": {},
   "outputs": [
    {
     "data": {
      "text/plain": [
       "[<matplotlib.lines.Line2D at 0x7ff054fffee0>]"
      ]
     },
     "execution_count": 11,
     "metadata": {},
     "output_type": "execute_result"
    },
    {
     "data": {
      "image/png": "[encoded data removed]",
      "text/plain": [
       "<Figure size 432x288 with 1 Axes>"
      ]
     },
     "metadata": {
      "needs_background": "light"
     },
     "output_type": "display_data"
    }
   ],
   "source": [
    "plt.plot(losses)"
   ]
  },
  {
   "cell_type": "code",
   "execution_count": 12,
   "id": "protective-associate",
   "metadata": {},
   "outputs": [],
   "source": [
    "#@title Define the Predictor-Corrector sampler (double click to expand or collapse)\n",
    "\n",
    "signal_to_noise_ratio = 0.16 #@param {'type':'number'}\n",
    "\n",
    "## The number of sampling steps.\n",
    "num_steps =  500#@param {'type':'integer'}\n",
    "def pc_sampler(score_model, \n",
    "               marginal_prob_std,\n",
    "               diffusion_coeff,\n",
    "               batch_size=2048, \n",
    "               num_steps=num_steps, \n",
    "               snr=signal_to_noise_ratio,                \n",
    "               device='cpu',\n",
    "               eps=1e-3):\n",
    "    \"\"\"Generate samples from score-based models with Predictor-Corrector method.\n",
    "\n",
    "    Args:\n",
    "    score_model: A PyTorch model that represents the time-dependent score-based model.\n",
    "    marginal_prob_std: A function that gives the standard deviation\n",
    "      of the perturbation kernel.\n",
    "    diffusion_coeff: A function that gives the diffusion coefficient \n",
    "      of the SDE.\n",
    "    batch_size: The number of samplers to generate by calling this function once.\n",
    "    num_steps: The number of sampling steps. \n",
    "      Equivalent to the number of discretized time steps.    \n",
    "    device: 'cuda' for running on GPUs, and 'cpu' for running on CPUs.\n",
    "    eps: The smallest time step for numerical stability.\n",
    "\n",
    "    Returns: \n",
    "    Samples.\n",
    "    \"\"\"\n",
    "    t = torch.ones(batch_size, device=device)\n",
    "    init_x = torch.randn(batch_size, 2, device=device) * marginal_prob_std(t)[:, None]\n",
    "    time_steps = np.linspace(1., eps, num_steps)\n",
    "    step_size = time_steps[0] - time_steps[1]\n",
    "    x = init_x\n",
    "    with torch.no_grad():\n",
    "        for time_step in notebook.tqdm(time_steps):      \n",
    "            batch_time_step = torch.ones(batch_size, device=device) * time_step\n",
    "            batch_time_step_ = torch.reshape(batch_time_step, (x.shape[0], 1))\n",
    "            x_with_t = torch.hstack([x, batch_time_step_])\n",
    "            # Corrector step (Langevin MCMC)\n",
    "            grad = score_model(x_with_t)\n",
    "            grad_norm = torch.norm(grad.reshape(grad.shape[0], -1), dim=-1).mean()\n",
    "            noise_norm = np.sqrt(np.prod(x.shape[1:]))\n",
    "            langevin_step_size = 2 * (snr * noise_norm / grad_norm)**2\n",
    "            x = x + langevin_step_size * grad + torch.sqrt(2 * langevin_step_size) * torch.randn_like(x)      \n",
    "\n",
    "            # Predictor step (Euler-Maruyama)\n",
    "            g = diffusion_coeff(batch_time_step)\n",
    "            x_mean = x + (g**2)[:, None] * score_model(x_with_t) * step_size\n",
    "            x = x_mean + torch.sqrt(g**2 * step_size)[:, None] * torch.randn_like(x)      \n",
    "\n",
    "    # The last step does not include any noise\n",
    "    return x_mean"
   ]
  },
  {
   "cell_type": "code",
   "execution_count": 16,
   "id": "nasty-donna",
   "metadata": {},
   "outputs": [
    {
     "name": "stderr",
     "output_type": "stream",
     "text": [
      "<ipython-input-6-4fb5fc172600>:15: UserWarning: To copy construct from a tensor, it is recommended to use sourceTensor.clone().detach() or sourceTensor.clone().detach().requires_grad_(True), rather than torch.tensor(sourceTensor).\n",
      "  t = torch.tensor(t, device=device)\n"
     ]
    },
    {
     "data": {
      "application/json": {
       "ascii": false,
       "bar_format": null,
       "colour": null,
       "elapsed": 0.04056191444396973,
       "initial": 0,
       "n": 0,
       "ncols": null,
       "nrows": null,
       "postfix": null,
       "prefix": "",
       "rate": null,
       "total": 500,
       "unit": "it",
       "unit_divisor": 1000,
       "unit_scale": false
      },
      "application/vnd.jupyter.widget-view+json": {
       "model_id": "1b58b5badf6f455ab5c2436ce70945aa",
       "version_major": 2,
       "version_minor": 0
      },
      "text/plain": [
       "  0%|          | 0/500 [00:00<?, ?it/s]"
      ]
     },
     "metadata": {},
     "output_type": "display_data"
    },
    {
     "name": "stderr",
     "output_type": "stream",
     "text": [
      "<ipython-input-6-4fb5fc172600>:28: UserWarning: To copy construct from a tensor, it is recommended to use sourceTensor.clone().detach() or sourceTensor.clone().detach().requires_grad_(True), rather than torch.tensor(sourceTensor).\n",
      "  return torch.tensor(sigma**t, device=device)\n"
     ]
    }
   ],
   "source": [
    "#@title Sampling (double click to expand or collapse)\n",
    "\n",
    "## Load the pre-trained checkpoint from disk.\n",
    "device = 'cpu' #@param ['cuda', 'cpu'] {'type':'string'}\n",
    "ckpt = torch.load('ckpt_2.pth', map_location=device)\n",
    "score_model.load_state_dict(ckpt)\n",
    "\n",
    "sample_batch_size = 50000 #@param {'type':'integer'}\n",
    "\n",
    "#@param ['Euler_Maruyama_sampler', 'pc_sampler', 'ode_sampler'] {'type': 'raw'}\n",
    "## Generate samples using the specified sampler.\n",
    "pc_samples= pc_sampler(score_model, \n",
    "                  marginal_prob_std_fn,\n",
    "                  diffusion_coeff_fn, \n",
    "                  sample_batch_size, \n",
    "                  device=device)"
   ]
  },
  {
   "cell_type": "code",
   "execution_count": 17,
   "id": "mysterious-virus",
   "metadata": {},
   "outputs": [
    {
     "data": {
      "text/plain": [
       "(-3.2, 3.2)"
      ]
     },
     "execution_count": 17,
     "metadata": {},
     "output_type": "execute_result"
    },
    {
     "data": {
      "image/png": "[encoded data removed]",
      "text/plain": [
       "<Figure size 432x288 with 1 Axes>"
      ]
     },
     "metadata": {
      "needs_background": "light"
     },
     "output_type": "display_data"
    }
   ],
   "source": [
    "plt.scatter(pc_samples[:,0], pc_samples[:,1])\n",
    "plt.xlim(-1.2, 3.5)\n",
    "plt.ylim(-3.2,3.2)"
   ]
  },
  {
   "cell_type": "code",
   "execution_count": 18,
   "id": "varied-designation",
   "metadata": {},
   "outputs": [
    {
     "data": {
      "text/plain": [
       "(-3.2, 3.2)"
      ]
     },
     "execution_count": 18,
     "metadata": {},
     "output_type": "execute_result"
    },
    {
     "data": {
      "image/png": "[encoded data removed]",
      "text/plain": [
       "<Figure size 432x288 with 1 Axes>"
      ]
     },
     "metadata": {
      "needs_background": "light"
     },
     "output_type": "display_data"
    }
   ],
   "source": [
    "plt.scatter(tanh_data[:,0], tanh_data[:,1])\n",
    "plt.xlim(-1.2, 3.5)\n",
    "plt.ylim(-3.2,3.2)"
   ]
  },
  {
   "cell_type": "code",
   "execution_count": null,
   "id": "controversial-percentage",
   "metadata": {},
   "outputs": [],
   "source": []
  }
 ],
 "metadata": {
  "kernelspec": {
   "display_name": "Python 3",
   "language": "python",
   "name": "python3"
  },
  "language_info": {
   "codemirror_mode": {
    "name": "ipython",
    "version": 3
   },
   "file_extension": ".py",
   "mimetype": "text/x-python",
   "name": "python",
   "nbconvert_exporter": "python",
   "pygments_lexer": "ipython3",
   "version": "3.8.2"
  },
  "varInspector": {
   "cols": {
    "lenName": 16,
    "lenType": 16,
    "lenVar": 40
   },
   "kernels_config": {
    "python": {
     "delete_cmd_postfix": "",
     "delete_cmd_prefix": "del ",
     "library": "var_list.py",
     "varRefreshCmd": "print(var_dic_list())"
    },
    "r": {
     "delete_cmd_postfix": ") ",
     "delete_cmd_prefix": "rm(",
     "library": "var_list.r",
     "varRefreshCmd": "cat(var_dic_list()) "
    }
   },
   "types_to_exclude": [
    "module",
    "function",
    "builtin_function_or_method",
    "instance",
    "_Feature"
   ],
   "window_display": false
  }
 },
 "nbformat": 4,
 "nbformat_minor": 5
}
