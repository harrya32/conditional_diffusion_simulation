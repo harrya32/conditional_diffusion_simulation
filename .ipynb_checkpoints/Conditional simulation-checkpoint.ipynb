{
 "cells": [
  {
   "cell_type": "markdown",
   "id": "binding-mills",
   "metadata": {},
   "source": [
    "[Conditional generation](#conditional_generation)\\\n",
    "[CDE samples](#cde_samples)\\\n",
    "[CDiffE samples](#cdiffe_samples)\\\n",
    "[SMCDiff samples](#smcdiff_samples)\\\n",
    "[Comparison](#comparison)"
   ]
  },
  {
   "cell_type": "code",
   "execution_count": 1,
   "id": "faced-antenna",
   "metadata": {},
   "outputs": [],
   "source": [
    "import torch\n",
    "import torch.nn as nn\n",
    "import torch.nn.functional as F\n",
    "import numpy as np\n",
    "import functools\n",
    "from sklearn import datasets\n",
    "import matplotlib.pyplot as plt\n",
    "from torch.optim import Adam\n",
    "from torch.utils.data import DataLoader\n",
    "from tqdm import notebook\n",
    "import seaborn as sns\n",
    "from ema_pytorch import EMA\n",
    "import math\n",
    "from torch.distributions import Normal \n",
    "\n",
    "#import models\n",
    "from models import ScoreNet_2D\n",
    "\n",
    "#import training fns\n",
    "from training import loss_fn, train_model, CDE_loss_fn_2D\n",
    "\n",
    "#import SDE functions\n",
    "from SDE import marginal_prob_std_fn_2D as marginal_prob_std_fn\n",
    "from SDE import diffusion_coeff_fn_2D as diffusion_coeff_fn\n",
    "\n",
    "#import sampling functions\n",
    "from sampling import Euler_Maruyama_sampler_2D as Euler_Maruyama_sampler\n",
    "from sampling import pc_sampler_2D as pc_sampler\n",
    "from sampling import ode_sampler_2D as ode_sampler\n",
    "from sampling import CDE_Euler_Maruyama_sampler_2D as CDE_Euler_Maruyama_sampler\n",
    "from sampling import CDE_pc_sampler_2D as CDE_pc_sampler\n",
    "from sampling import CDiffE_Euler_Maruyama_sampler_2D as CDiffE_Euler_Maruyama_sampler\n",
    "from sampling import CDiffE_pc_sampler_2D as CDiffE_pc_sampler\n",
    "from sampling import SMCDiff_Euler_Maruyama_sampler_2D as SMCDiff_Euler_Maruyama_sampler\n",
    "from sampling import SMCDiff_pc_sampler_2D as SMCDiff_pc_sampler\n",
    "from sampling import SMCDiff_Euler_Maruyama_sampler_2D as SMCDiff_Euler_Maruyama_sampler"
   ]
  },
  {
   "cell_type": "markdown",
   "id": "canadian-zealand",
   "metadata": {},
   "source": [
    "# Unconditional generation"
   ]
  },
  {
   "cell_type": "markdown",
   "id": "official-winter",
   "metadata": {},
   "source": [
    "## Generate training datasets"
   ]
  },
  {
   "cell_type": "code",
   "execution_count": 46,
   "id": "chubby-cheese",
   "metadata": {},
   "outputs": [],
   "source": [
    "ex_1 = torch.load('data/ex_1.pt')\n",
    "ex_2 = torch.load('data/ex_2.pt')\n",
    "ex_3 = torch.load('data/ex_3.pt')"
   ]
  },
  {
   "cell_type": "code",
   "execution_count": 3,
   "id": "promotional-grain",
   "metadata": {},
   "outputs": [],
   "source": [
    "score_model = ScoreNet_2D(marginal_prob_std=marginal_prob_std_fn)"
   ]
  },
  {
   "cell_type": "code",
   "execution_count": 4,
   "id": "opening-aluminum",
   "metadata": {},
   "outputs": [
    {
     "data": {
      "text/plain": [
       "32210"
      ]
     },
     "execution_count": 4,
     "metadata": {},
     "output_type": "execute_result"
    }
   ],
   "source": [
    "sum(p.numel() for p in score_model.parameters())"
   ]
  },
  {
   "cell_type": "code",
   "execution_count": null,
   "id": "sixth-modem",
   "metadata": {},
   "outputs": [],
   "source": []
  },
  {
   "cell_type": "markdown",
   "id": "classical-pattern",
   "metadata": {},
   "source": [
    "## Train unconditional models"
   ]
  },
  {
   "cell_type": "code",
   "execution_count": 6,
   "id": "secret-therapy",
   "metadata": {},
   "outputs": [
    {
     "data": {
      "application/json": {
       "ascii": false,
       "bar_format": null,
       "colour": null,
       "elapsed": 0.04145407676696777,
       "initial": 0,
       "n": 0,
       "ncols": null,
       "nrows": null,
       "postfix": null,
       "prefix": "",
       "rate": null,
       "total": 100,
       "unit": "it",
       "unit_divisor": 1000,
       "unit_scale": false
      },
      "application/vnd.jupyter.widget-view+json": {
       "model_id": "b78bf1532eff4f29907cc03fe1bcb49f",
       "version_major": 2,
       "version_minor": 0
      },
      "text/plain": [
       "  0%|          | 0/100 [00:00<?, ?it/s]"
      ]
     },
     "metadata": {},
     "output_type": "display_data"
    },
    {
     "name": "stderr",
     "output_type": "stream",
     "text": [
      "/Users/harryamad/Google Drive/2022/Dissertation/conditional_diffusion_simulation/SDE.py:16: UserWarning: To copy construct from a tensor, it is recommended to use sourceTensor.clone().detach() or sourceTensor.clone().detach().requires_grad_(True), rather than torch.tensor(sourceTensor).\n",
      "  t = torch.tensor(t)\n"
     ]
    }
   ],
   "source": [
    "losses_1 = train_model(score_model, ex_1, loss_fn, marginal_prob_std_fn, 'ex_1_test.pth', epochs = 100, batch_size = 64)"
   ]
  },
  {
   "cell_type": "code",
   "execution_count": 7,
   "id": "social-wildlife",
   "metadata": {},
   "outputs": [
    {
     "data": {
      "text/plain": [
       "[<matplotlib.lines.Line2D at 0x7fc17c023730>]"
      ]
     },
     "execution_count": 7,
     "metadata": {},
     "output_type": "execute_result"
    },
    {
     "data": {
      "image/png": "[encoded data removed]",
      "text/plain": [
       "<Figure size 432x288 with 1 Axes>"
      ]
     },
     "metadata": {
      "needs_background": "light"
     },
     "output_type": "display_data"
    }
   ],
   "source": [
    "plt.plot(losses_1)"
   ]
  },
  {
   "cell_type": "code",
   "execution_count": 15,
   "id": "electric-hypothesis",
   "metadata": {},
   "outputs": [],
   "source": [
    "score_model = ScoreNet_2D(marginal_prob_std=marginal_prob_std_fn)"
   ]
  },
  {
   "cell_type": "code",
   "execution_count": 16,
   "id": "horizontal-topic",
   "metadata": {},
   "outputs": [
    {
     "data": {
      "application/json": {
       "ascii": false,
       "bar_format": null,
       "colour": null,
       "elapsed": 0.0266721248626709,
       "initial": 0,
       "n": 0,
       "ncols": null,
       "nrows": null,
       "postfix": null,
       "prefix": "",
       "rate": null,
       "total": 100,
       "unit": "it",
       "unit_divisor": 1000,
       "unit_scale": false
      },
      "application/vnd.jupyter.widget-view+json": {
       "model_id": "b1a089ac057a4edfb4d9837f21256bad",
       "version_major": 2,
       "version_minor": 0
      },
      "text/plain": [
       "  0%|          | 0/100 [00:00<?, ?it/s]"
      ]
     },
     "metadata": {},
     "output_type": "display_data"
    }
   ],
   "source": [
    "losses_2 = train_model(score_model, ex_2, loss_fn, marginal_prob_std_fn, 'ex_2_test.pth', epochs = 100, batch_size = 64)"
   ]
  },
  {
   "cell_type": "code",
   "execution_count": 17,
   "id": "simplified-preliminary",
   "metadata": {},
   "outputs": [
    {
     "data": {
      "text/plain": [
       "[<matplotlib.lines.Line2D at 0x7fc17cdf3490>]"
      ]
     },
     "execution_count": 17,
     "metadata": {},
     "output_type": "execute_result"
    },
    {
     "data": {
      "image/png": "[encoded data removed]",
      "text/plain": [
       "<Figure size 432x288 with 1 Axes>"
      ]
     },
     "metadata": {
      "needs_background": "light"
     },
     "output_type": "display_data"
    }
   ],
   "source": [
    "plt.plot(losses_2)"
   ]
  },
  {
   "cell_type": "code",
   "execution_count": 4,
   "id": "comprehensive-engineer",
   "metadata": {},
   "outputs": [],
   "source": [
    "score_model = ScoreNet_2D(marginal_prob_std=marginal_prob_std_fn)"
   ]
  },
  {
   "cell_type": "code",
   "execution_count": 19,
   "id": "guided-processor",
   "metadata": {},
   "outputs": [
    {
     "data": {
      "application/json": {
       "ascii": false,
       "bar_format": null,
       "colour": null,
       "elapsed": 0.028683185577392578,
       "initial": 0,
       "n": 0,
       "ncols": null,
       "nrows": null,
       "postfix": null,
       "prefix": "",
       "rate": null,
       "total": 100,
       "unit": "it",
       "unit_divisor": 1000,
       "unit_scale": false
      },
      "application/vnd.jupyter.widget-view+json": {
       "model_id": "d418a1cc116e46b78b1cbfe44196dc05",
       "version_major": 2,
       "version_minor": 0
      },
      "text/plain": [
       "  0%|          | 0/100 [00:00<?, ?it/s]"
      ]
     },
     "metadata": {},
     "output_type": "display_data"
    }
   ],
   "source": [
    "losses_3 = train_model(score_model, ex_3, loss_fn, marginal_prob_std_fn, 'ex_3_test.pth', epochs = 100, batch_size = 64)"
   ]
  },
  {
   "cell_type": "code",
   "execution_count": 20,
   "id": "healthy-graphic",
   "metadata": {
    "scrolled": true
   },
   "outputs": [
    {
     "data": {
      "text/plain": [
       "[<matplotlib.lines.Line2D at 0x7fc17d765a60>]"
      ]
     },
     "execution_count": 20,
     "metadata": {},
     "output_type": "execute_result"
    },
    {
     "data": {
      "image/png": "[encoded data removed]",
      "text/plain": [
       "<Figure size 432x288 with 1 Axes>"
      ]
     },
     "metadata": {
      "needs_background": "light"
     },
     "output_type": "display_data"
    }
   ],
   "source": [
    "plt.plot(losses_3)"
   ]
  },
  {
   "cell_type": "markdown",
   "id": "allied-selling",
   "metadata": {},
   "source": [
    "## Draw unconditional samples"
   ]
  },
  {
   "cell_type": "markdown",
   "id": "australian-crash",
   "metadata": {},
   "source": [
    "### Example 1"
   ]
  },
  {
   "cell_type": "code",
   "execution_count": 5,
   "id": "found-campaign",
   "metadata": {},
   "outputs": [
    {
     "data": {
      "text/plain": [
       "<All keys matched successfully>"
      ]
     },
     "execution_count": 5,
     "metadata": {},
     "output_type": "execute_result"
    }
   ],
   "source": [
    "ckpt = torch.load('models/ex_1.pth')\n",
    "score_model.load_state_dict(ckpt)"
   ]
  },
  {
   "cell_type": "code",
   "execution_count": 6,
   "id": "endless-nancy",
   "metadata": {},
   "outputs": [
    {
     "name": "stderr",
     "output_type": "stream",
     "text": [
      "/Users/harryamad/Google Drive/2022/Dissertation/conditional_diffusion_simulation/SDE.py:16: UserWarning: To copy construct from a tensor, it is recommended to use sourceTensor.clone().detach() or sourceTensor.clone().detach().requires_grad_(True), rather than torch.tensor(sourceTensor).\n",
      "  t = torch.tensor(t)\n"
     ]
    },
    {
     "data": {
      "application/json": {
       "ascii": false,
       "bar_format": null,
       "colour": null,
       "elapsed": 0.04442882537841797,
       "initial": 0,
       "n": 0,
       "ncols": null,
       "nrows": null,
       "postfix": null,
       "prefix": "",
       "rate": null,
       "total": 1000,
       "unit": "it",
       "unit_divisor": 1000,
       "unit_scale": false
      },
      "application/vnd.jupyter.widget-view+json": {
       "model_id": "59800c98a1eb483988a77d903eba36be",
       "version_major": 2,
       "version_minor": 0
      },
      "text/plain": [
       "  0%|          | 0/1000 [00:00<?, ?it/s]"
      ]
     },
     "metadata": {},
     "output_type": "display_data"
    }
   ],
   "source": [
    "pc_samples = pc_sampler(score_model, marginal_prob_std_fn, diffusion_coeff_fn, batch_size = 1000)"
   ]
  },
  {
   "cell_type": "code",
   "execution_count": 7,
   "id": "completed-microwave",
   "metadata": {},
   "outputs": [
    {
     "data": {
      "application/json": {
       "ascii": false,
       "bar_format": null,
       "colour": null,
       "elapsed": 0.026113033294677734,
       "initial": 0,
       "n": 0,
       "ncols": null,
       "nrows": null,
       "postfix": null,
       "prefix": "",
       "rate": null,
       "total": 1000,
       "unit": "it",
       "unit_divisor": 1000,
       "unit_scale": false
      },
      "application/vnd.jupyter.widget-view+json": {
       "model_id": "bc9f9ad8caf14a8ca41733dd3a7f6903",
       "version_major": 2,
       "version_minor": 0
      },
      "text/plain": [
       "  0%|          | 0/1000 [00:00<?, ?it/s]"
      ]
     },
     "metadata": {},
     "output_type": "display_data"
    }
   ],
   "source": [
    "e_m_samples = Euler_Maruyama_sampler(score_model, marginal_prob_std_fn, diffusion_coeff_fn, batch_size=1000)"
   ]
  },
  {
   "cell_type": "code",
   "execution_count": 8,
   "id": "awful-thunder",
   "metadata": {},
   "outputs": [
    {
     "name": "stdout",
     "output_type": "stream",
     "text": [
      "Number of function evaluations: 266\n"
     ]
    }
   ],
   "source": [
    "ode_samples = ode_sampler(score_model, marginal_prob_std_fn, diffusion_coeff_fn, batch_size=1000)"
   ]
  },
  {
   "cell_type": "code",
   "execution_count": 9,
   "id": "sexual-roommate",
   "metadata": {},
   "outputs": [
    {
     "data": {
      "text/plain": [
       "<matplotlib.collections.PathCollection at 0x7fc7d118bdc0>"
      ]
     },
     "execution_count": 9,
     "metadata": {},
     "output_type": "execute_result"
    },
    {
     "data": {
      "image/png": "[encoded data removed]",
      "text/plain": [
       "<Figure size 432x288 with 1 Axes>"
      ]
     },
     "metadata": {
      "needs_background": "light"
     },
     "output_type": "display_data"
    }
   ],
   "source": [
    "plt.scatter(pc_samples[:,0], pc_samples[:,1])"
   ]
  },
  {
   "cell_type": "code",
   "execution_count": 10,
   "id": "weird-nurse",
   "metadata": {},
   "outputs": [
    {
     "data": {
      "text/plain": [
       "<matplotlib.collections.PathCollection at 0x7fc7b4be2670>"
      ]
     },
     "execution_count": 10,
     "metadata": {},
     "output_type": "execute_result"
    },
    {
     "data": {
      "image/png": "[encoded data removed]",
      "text/plain": [
       "<Figure size 432x288 with 1 Axes>"
      ]
     },
     "metadata": {
      "needs_background": "light"
     },
     "output_type": "display_data"
    }
   ],
   "source": [
    "plt.scatter(e_m_samples[:,0], e_m_samples[:,1])"
   ]
  },
  {
   "cell_type": "code",
   "execution_count": 11,
   "id": "reduced-therapist",
   "metadata": {},
   "outputs": [
    {
     "data": {
      "text/plain": [
       "<matplotlib.collections.PathCollection at 0x7fc7b4e0fe80>"
      ]
     },
     "execution_count": 11,
     "metadata": {},
     "output_type": "execute_result"
    },
    {
     "data": {
      "image/png": "[encoded data removed]",
      "text/plain": [
       "<Figure size 432x288 with 1 Axes>"
      ]
     },
     "metadata": {
      "needs_background": "light"
     },
     "output_type": "display_data"
    }
   ],
   "source": [
    "plt.scatter(ode_samples[:,0], ode_samples[:,1])"
   ]
  },
  {
   "cell_type": "markdown",
   "id": "covered-plant",
   "metadata": {},
   "source": [
    "### Example 2"
   ]
  },
  {
   "cell_type": "code",
   "execution_count": 12,
   "id": "eastern-harvard",
   "metadata": {},
   "outputs": [
    {
     "data": {
      "text/plain": [
       "<All keys matched successfully>"
      ]
     },
     "execution_count": 12,
     "metadata": {},
     "output_type": "execute_result"
    }
   ],
   "source": [
    "ckpt = torch.load('models/ex_2.pth')\n",
    "score_model.load_state_dict(ckpt)"
   ]
  },
  {
   "cell_type": "code",
   "execution_count": 13,
   "id": "expensive-cornwall",
   "metadata": {},
   "outputs": [
    {
     "data": {
      "application/json": {
       "ascii": false,
       "bar_format": null,
       "colour": null,
       "elapsed": 0.025737285614013672,
       "initial": 0,
       "n": 0,
       "ncols": null,
       "nrows": null,
       "postfix": null,
       "prefix": "",
       "rate": null,
       "total": 1000,
       "unit": "it",
       "unit_divisor": 1000,
       "unit_scale": false
      },
      "application/vnd.jupyter.widget-view+json": {
       "model_id": "7111a2ab27524f8aa87629b312ce0935",
       "version_major": 2,
       "version_minor": 0
      },
      "text/plain": [
       "  0%|          | 0/1000 [00:00<?, ?it/s]"
      ]
     },
     "metadata": {},
     "output_type": "display_data"
    }
   ],
   "source": [
    "pc_samples = pc_sampler(score_model, marginal_prob_std_fn, diffusion_coeff_fn, batch_size = 1000)"
   ]
  },
  {
   "cell_type": "code",
   "execution_count": 14,
   "id": "north-compensation",
   "metadata": {},
   "outputs": [
    {
     "data": {
      "application/json": {
       "ascii": false,
       "bar_format": null,
       "colour": null,
       "elapsed": 0.028053998947143555,
       "initial": 0,
       "n": 0,
       "ncols": null,
       "nrows": null,
       "postfix": null,
       "prefix": "",
       "rate": null,
       "total": 1000,
       "unit": "it",
       "unit_divisor": 1000,
       "unit_scale": false
      },
      "application/vnd.jupyter.widget-view+json": {
       "model_id": "3c9a038e18c74e2b948714bab000f798",
       "version_major": 2,
       "version_minor": 0
      },
      "text/plain": [
       "  0%|          | 0/1000 [00:00<?, ?it/s]"
      ]
     },
     "metadata": {},
     "output_type": "display_data"
    }
   ],
   "source": [
    "e_m_samples = Euler_Maruyama_sampler(score_model, marginal_prob_std_fn, diffusion_coeff_fn, batch_size=1000)"
   ]
  },
  {
   "cell_type": "code",
   "execution_count": 15,
   "id": "linear-thailand",
   "metadata": {},
   "outputs": [
    {
     "name": "stdout",
     "output_type": "stream",
     "text": [
      "Number of function evaluations: 278\n"
     ]
    }
   ],
   "source": [
    "ode_samples = ode_sampler(score_model, marginal_prob_std_fn, diffusion_coeff_fn, batch_size=1000)"
   ]
  },
  {
   "cell_type": "code",
   "execution_count": 16,
   "id": "international-purse",
   "metadata": {},
   "outputs": [
    {
     "data": {
      "text/plain": [
       "<matplotlib.collections.PathCollection at 0x7fc7b4ed7370>"
      ]
     },
     "execution_count": 16,
     "metadata": {},
     "output_type": "execute_result"
    },
    {
     "data": {
      "image/png": "[encoded data removed]",
      "text/plain": [
       "<Figure size 432x288 with 1 Axes>"
      ]
     },
     "metadata": {
      "needs_background": "light"
     },
     "output_type": "display_data"
    }
   ],
   "source": [
    "plt.scatter(pc_samples[:,0], pc_samples[:,1])"
   ]
  },
  {
   "cell_type": "code",
   "execution_count": 17,
   "id": "automated-throw",
   "metadata": {},
   "outputs": [
    {
     "data": {
      "text/plain": [
       "<matplotlib.collections.PathCollection at 0x7fc7b4ff79d0>"
      ]
     },
     "execution_count": 17,
     "metadata": {},
     "output_type": "execute_result"
    },
    {
     "data": {
      "image/png": "[encoded data removed]",
      "text/plain": [
       "<Figure size 432x288 with 1 Axes>"
      ]
     },
     "metadata": {
      "needs_background": "light"
     },
     "output_type": "display_data"
    }
   ],
   "source": [
    "plt.scatter(e_m_samples[:,0], e_m_samples[:,1])"
   ]
  },
  {
   "cell_type": "code",
   "execution_count": 18,
   "id": "serious-symphony",
   "metadata": {},
   "outputs": [
    {
     "data": {
      "text/plain": [
       "<matplotlib.collections.PathCollection at 0x7fc7b4676850>"
      ]
     },
     "execution_count": 18,
     "metadata": {},
     "output_type": "execute_result"
    },
    {
     "data": {
      "image/png": "[encoded data removed]",
      "text/plain": [
       "<Figure size 432x288 with 1 Axes>"
      ]
     },
     "metadata": {
      "needs_background": "light"
     },
     "output_type": "display_data"
    }
   ],
   "source": [
    "plt.scatter(ode_samples[:,0], ode_samples[:,1])"
   ]
  },
  {
   "cell_type": "markdown",
   "id": "educated-australian",
   "metadata": {},
   "source": [
    "### Example 3"
   ]
  },
  {
   "cell_type": "code",
   "execution_count": 19,
   "id": "brown-preference",
   "metadata": {},
   "outputs": [
    {
     "data": {
      "text/plain": [
       "<All keys matched successfully>"
      ]
     },
     "execution_count": 19,
     "metadata": {},
     "output_type": "execute_result"
    }
   ],
   "source": [
    "ckpt = torch.load('models/ex_3.pth')\n",
    "score_model.load_state_dict(ckpt)"
   ]
  },
  {
   "cell_type": "code",
   "execution_count": 20,
   "id": "chemical-guinea",
   "metadata": {},
   "outputs": [
    {
     "data": {
      "application/json": {
       "ascii": false,
       "bar_format": null,
       "colour": null,
       "elapsed": 0.026340246200561523,
       "initial": 0,
       "n": 0,
       "ncols": null,
       "nrows": null,
       "postfix": null,
       "prefix": "",
       "rate": null,
       "total": 1000,
       "unit": "it",
       "unit_divisor": 1000,
       "unit_scale": false
      },
      "application/vnd.jupyter.widget-view+json": {
       "model_id": "ba6f8a56a1d64382b82f86021fbdb9f0",
       "version_major": 2,
       "version_minor": 0
      },
      "text/plain": [
       "  0%|          | 0/1000 [00:00<?, ?it/s]"
      ]
     },
     "metadata": {},
     "output_type": "display_data"
    }
   ],
   "source": [
    "pc_samples = pc_sampler(score_model, marginal_prob_std_fn, diffusion_coeff_fn, batch_size = 1000)"
   ]
  },
  {
   "cell_type": "code",
   "execution_count": 21,
   "id": "unsigned-letter",
   "metadata": {},
   "outputs": [
    {
     "data": {
      "application/json": {
       "ascii": false,
       "bar_format": null,
       "colour": null,
       "elapsed": 0.02751612663269043,
       "initial": 0,
       "n": 0,
       "ncols": null,
       "nrows": null,
       "postfix": null,
       "prefix": "",
       "rate": null,
       "total": 1000,
       "unit": "it",
       "unit_divisor": 1000,
       "unit_scale": false
      },
      "application/vnd.jupyter.widget-view+json": {
       "model_id": "9f0ba3a1ee8d47698dc24fcb20623190",
       "version_major": 2,
       "version_minor": 0
      },
      "text/plain": [
       "  0%|          | 0/1000 [00:00<?, ?it/s]"
      ]
     },
     "metadata": {},
     "output_type": "display_data"
    }
   ],
   "source": [
    "e_m_samples = Euler_Maruyama_sampler(score_model, marginal_prob_std_fn, diffusion_coeff_fn, batch_size=1000)"
   ]
  },
  {
   "cell_type": "code",
   "execution_count": 22,
   "id": "developmental-rover",
   "metadata": {},
   "outputs": [
    {
     "name": "stdout",
     "output_type": "stream",
     "text": [
      "Number of function evaluations: 266\n"
     ]
    }
   ],
   "source": [
    "ode_samples = ode_sampler(score_model, marginal_prob_std_fn, diffusion_coeff_fn, batch_size=1000)"
   ]
  },
  {
   "cell_type": "code",
   "execution_count": 23,
   "id": "eight-touch",
   "metadata": {},
   "outputs": [
    {
     "data": {
      "text/plain": [
       "<matplotlib.collections.PathCollection at 0x7fc7b52099a0>"
      ]
     },
     "execution_count": 23,
     "metadata": {},
     "output_type": "execute_result"
    },
    {
     "data": {
      "image/png": "[encoded data removed]",
      "text/plain": [
       "<Figure size 432x288 with 1 Axes>"
      ]
     },
     "metadata": {
      "needs_background": "light"
     },
     "output_type": "display_data"
    }
   ],
   "source": [
    "plt.scatter(pc_samples[:,0], pc_samples[:,1])"
   ]
  },
  {
   "cell_type": "code",
   "execution_count": 24,
   "id": "atlantic-criterion",
   "metadata": {},
   "outputs": [
    {
     "data": {
      "text/plain": [
       "<matplotlib.collections.PathCollection at 0x7fc7b5380a30>"
      ]
     },
     "execution_count": 24,
     "metadata": {},
     "output_type": "execute_result"
    },
    {
     "data": {
      "image/png": "[encoded data removed]",
      "text/plain": [
       "<Figure size 432x288 with 1 Axes>"
      ]
     },
     "metadata": {
      "needs_background": "light"
     },
     "output_type": "display_data"
    }
   ],
   "source": [
    "plt.scatter(e_m_samples[:,0], e_m_samples[:,1])"
   ]
  },
  {
   "cell_type": "code",
   "execution_count": 25,
   "id": "prepared-cambridge",
   "metadata": {},
   "outputs": [
    {
     "data": {
      "text/plain": [
       "<matplotlib.collections.PathCollection at 0x7fc7b5319fd0>"
      ]
     },
     "execution_count": 25,
     "metadata": {},
     "output_type": "execute_result"
    },
    {
     "data": {
      "image/png": "[encoded data removed]",
      "text/plain": [
       "<Figure size 432x288 with 1 Axes>"
      ]
     },
     "metadata": {
      "needs_background": "light"
     },
     "output_type": "display_data"
    }
   ],
   "source": [
    "plt.scatter(ode_samples[:,0], ode_samples[:,1])"
   ]
  },
  {
   "cell_type": "markdown",
   "id": "raised-welcome",
   "metadata": {},
   "source": [
    "<hr style=\"border:4px solid black\">"
   ]
  },
  {
   "cell_type": "markdown",
   "id": "external-consumption",
   "metadata": {},
   "source": [
    "<a id='conditional_generation'></a>\n",
    "# Conditional generation"
   ]
  },
  {
   "cell_type": "markdown",
   "id": "another-central",
   "metadata": {},
   "source": [
    "## Generate testing datasets"
   ]
  },
  {
   "cell_type": "code",
   "execution_count": 2,
   "id": "intimate-hindu",
   "metadata": {},
   "outputs": [],
   "source": [
    "actual_samples_pos = np.random.gamma(1,0.3, size = 100000) + np.tanh(1.2)\n",
    "actual_samples_0 = np.random.gamma(1,0.3, size = 100000) + np.tanh(0)\n",
    "actual_samples_neg = np.random.gamma(1,0.3, size = 100000) + np.tanh(-1.2)"
   ]
  },
  {
   "cell_type": "code",
   "execution_count": 3,
   "id": "smart-fairy",
   "metadata": {},
   "outputs": [],
   "source": [
    "actual_samples_pos_2 = np.tanh(np.random.normal(0,np.sqrt(0.05), size = 100000) + 1.2)\n",
    "actual_samples_0_2 = np.tanh(np.random.normal(0,np.sqrt(0.05), size = 100000) + 0)\n",
    "actual_samples_neg_2 = np.tanh(np.random.normal(0,np.sqrt(0.05), size = 100000) - 1.2)"
   ]
  },
  {
   "cell_type": "code",
   "execution_count": 4,
   "id": "secret-subscriber",
   "metadata": {},
   "outputs": [],
   "source": [
    "actual_samples_pos_3 = np.random.gamma(1,0.3, size=100000) * np.tanh(1.2)\n",
    "actual_samples_neg_3 = np.random.gamma(1,0.3, size=100000) * np.tanh(-1.2)"
   ]
  },
  {
   "cell_type": "markdown",
   "id": "informational-strap",
   "metadata": {},
   "source": [
    "## Train conditional model"
   ]
  },
  {
   "cell_type": "markdown",
   "id": "boxed-talent",
   "metadata": {},
   "source": [
    "Have a bunch of training points (x,y). Then only forward diffuse the x components, so we get to (x_N, y). Then train NN to approximate the score with inputs (x_t, y, t), and the same loss as the unconditional method."
   ]
  },
  {
   "cell_type": "code",
   "execution_count": 44,
   "id": "driven-integration",
   "metadata": {},
   "outputs": [],
   "source": [
    "score_model = ScoreNet_2D(marginal_prob_std=marginal_prob_std_fn)"
   ]
  },
  {
   "cell_type": "code",
   "execution_count": 47,
   "id": "adaptive-printer",
   "metadata": {},
   "outputs": [
    {
     "data": {
      "application/json": {
       "ascii": false,
       "bar_format": null,
       "colour": null,
       "elapsed": 0.026126861572265625,
       "initial": 0,
       "n": 0,
       "ncols": null,
       "nrows": null,
       "postfix": null,
       "prefix": "",
       "rate": null,
       "total": 100,
       "unit": "it",
       "unit_divisor": 1000,
       "unit_scale": false
      },
      "application/vnd.jupyter.widget-view+json": {
       "model_id": "f142d592cd2a4a31a2a6af7b0b4e95d6",
       "version_major": 2,
       "version_minor": 0
      },
      "text/plain": [
       "  0%|          | 0/100 [00:00<?, ?it/s]"
      ]
     },
     "metadata": {},
     "output_type": "display_data"
    },
    {
     "name": "stderr",
     "output_type": "stream",
     "text": [
      "/Users/harryamad/Google Drive/2022/Dissertation/conditional_diffusion_simulation/SDE.py:16: UserWarning: To copy construct from a tensor, it is recommended to use sourceTensor.clone().detach() or sourceTensor.clone().detach().requires_grad_(True), rather than torch.tensor(sourceTensor).\n",
      "  t = torch.tensor(t)\n"
     ]
    }
   ],
   "source": [
    "losses_1 = train_model(score_model, ex_1, CDE_loss_fn_2D, marginal_prob_std_fn, 'cde_1_test.pth', epochs = 100, batch_size = 64)"
   ]
  },
  {
   "cell_type": "code",
   "execution_count": 48,
   "id": "equipped-caribbean",
   "metadata": {},
   "outputs": [
    {
     "data": {
      "text/plain": [
       "[<matplotlib.lines.Line2D at 0x7fc3736d3fa0>]"
      ]
     },
     "execution_count": 48,
     "metadata": {},
     "output_type": "execute_result"
    },
    {
     "data": {
      "image/png": "[encoded data removed]",
      "text/plain": [
       "<Figure size 432x288 with 1 Axes>"
      ]
     },
     "metadata": {
      "needs_background": "light"
     },
     "output_type": "display_data"
    }
   ],
   "source": [
    "plt.plot(losses_1)"
   ]
  },
  {
   "cell_type": "code",
   "execution_count": 50,
   "id": "golden-honduras",
   "metadata": {},
   "outputs": [],
   "source": [
    "score_model = ScoreNet_2D(marginal_prob_std=marginal_prob_std_fn)"
   ]
  },
  {
   "cell_type": "code",
   "execution_count": 51,
   "id": "sensitive-toyota",
   "metadata": {},
   "outputs": [
    {
     "data": {
      "application/json": {
       "ascii": false,
       "bar_format": null,
       "colour": null,
       "elapsed": 0.026433944702148438,
       "initial": 0,
       "n": 0,
       "ncols": null,
       "nrows": null,
       "postfix": null,
       "prefix": "",
       "rate": null,
       "total": 100,
       "unit": "it",
       "unit_divisor": 1000,
       "unit_scale": false
      },
      "application/vnd.jupyter.widget-view+json": {
       "model_id": "abbb6eab4e884a9b8c6618b3758a8530",
       "version_major": 2,
       "version_minor": 0
      },
      "text/plain": [
       "  0%|          | 0/100 [00:00<?, ?it/s]"
      ]
     },
     "metadata": {},
     "output_type": "display_data"
    }
   ],
   "source": [
    "losses_2 = train_model(score_model, ex_2, CDE_loss_fn_2D, marginal_prob_std_fn, 'cde_2_test.pth', epochs = 100, batch_size = 64)"
   ]
  },
  {
   "cell_type": "code",
   "execution_count": 52,
   "id": "quarterly-portland",
   "metadata": {},
   "outputs": [
    {
     "data": {
      "text/plain": [
       "[<matplotlib.lines.Line2D at 0x7fc3730c3580>]"
      ]
     },
     "execution_count": 52,
     "metadata": {},
     "output_type": "execute_result"
    },
    {
     "data": {
      "image/png": "[encoded data removed]",
      "text/plain": [
       "<Figure size 432x288 with 1 Axes>"
      ]
     },
     "metadata": {
      "needs_background": "light"
     },
     "output_type": "display_data"
    }
   ],
   "source": [
    "plt.plot(losses_2)"
   ]
  },
  {
   "cell_type": "code",
   "execution_count": 53,
   "id": "dirty-eight",
   "metadata": {},
   "outputs": [],
   "source": [
    "score_model = ScoreNet_2D(marginal_prob_std=marginal_prob_std_fn)"
   ]
  },
  {
   "cell_type": "code",
   "execution_count": 54,
   "id": "yellow-welding",
   "metadata": {},
   "outputs": [
    {
     "data": {
      "application/json": {
       "ascii": false,
       "bar_format": null,
       "colour": null,
       "elapsed": 0.04103398323059082,
       "initial": 0,
       "n": 0,
       "ncols": null,
       "nrows": null,
       "postfix": null,
       "prefix": "",
       "rate": null,
       "total": 100,
       "unit": "it",
       "unit_divisor": 1000,
       "unit_scale": false
      },
      "application/vnd.jupyter.widget-view+json": {
       "model_id": "36fa8a6d62ac4b53bec1a3a7781dffbe",
       "version_major": 2,
       "version_minor": 0
      },
      "text/plain": [
       "  0%|          | 0/100 [00:00<?, ?it/s]"
      ]
     },
     "metadata": {},
     "output_type": "display_data"
    }
   ],
   "source": [
    "losses_3 = train_model(score_model, ex_3, CDE_loss_fn_2D, marginal_prob_std_fn, 'cde_3_test.pth', epochs = 100, batch_size = 64)"
   ]
  },
  {
   "cell_type": "code",
   "execution_count": 55,
   "id": "bright-property",
   "metadata": {
    "scrolled": true
   },
   "outputs": [
    {
     "data": {
      "text/plain": [
       "[<matplotlib.lines.Line2D at 0x7fc3731717f0>]"
      ]
     },
     "execution_count": 55,
     "metadata": {},
     "output_type": "execute_result"
    },
    {
     "data": {
      "image/png": "[encoded data removed]",
      "text/plain": [
       "<Figure size 432x288 with 1 Axes>"
      ]
     },
     "metadata": {
      "needs_background": "light"
     },
     "output_type": "display_data"
    }
   ],
   "source": [
    "plt.plot(losses_3)"
   ]
  },
  {
   "cell_type": "markdown",
   "id": "responsible-tutorial",
   "metadata": {},
   "source": [
    "<a id='cde_samples'></a>\n",
    "## Draw CDE samples"
   ]
  },
  {
   "cell_type": "markdown",
   "id": "increased-egypt",
   "metadata": {},
   "source": [
    "### Example 1"
   ]
  },
  {
   "cell_type": "code",
   "execution_count": 29,
   "id": "twelve-dryer",
   "metadata": {},
   "outputs": [
    {
     "data": {
      "application/json": {
       "ascii": false,
       "bar_format": null,
       "colour": null,
       "elapsed": 0.028213024139404297,
       "initial": 0,
       "n": 0,
       "ncols": null,
       "nrows": null,
       "postfix": null,
       "prefix": "",
       "rate": null,
       "total": 1000,
       "unit": "it",
       "unit_divisor": 1000,
       "unit_scale": false
      },
      "application/vnd.jupyter.widget-view+json": {
       "model_id": "30cfbfb222bc4ad98d33ce1241e5ad2a",
       "version_major": 2,
       "version_minor": 0
      },
      "text/plain": [
       "  0%|          | 0/1000 [00:00<?, ?it/s]"
      ]
     },
     "metadata": {},
     "output_type": "display_data"
    },
    {
     "data": {
      "application/json": {
       "ascii": false,
       "bar_format": null,
       "colour": null,
       "elapsed": 0.02562689781188965,
       "initial": 0,
       "n": 0,
       "ncols": null,
       "nrows": null,
       "postfix": null,
       "prefix": "",
       "rate": null,
       "total": 1000,
       "unit": "it",
       "unit_divisor": 1000,
       "unit_scale": false
      },
      "application/vnd.jupyter.widget-view+json": {
       "model_id": "e3543729e2bb43ecbbd7d79fa76666d2",
       "version_major": 2,
       "version_minor": 0
      },
      "text/plain": [
       "  0%|          | 0/1000 [00:00<?, ?it/s]"
      ]
     },
     "metadata": {},
     "output_type": "display_data"
    },
    {
     "data": {
      "application/json": {
       "ascii": false,
       "bar_format": null,
       "colour": null,
       "elapsed": 0.027073144912719727,
       "initial": 0,
       "n": 0,
       "ncols": null,
       "nrows": null,
       "postfix": null,
       "prefix": "",
       "rate": null,
       "total": 1000,
       "unit": "it",
       "unit_divisor": 1000,
       "unit_scale": false
      },
      "application/vnd.jupyter.widget-view+json": {
       "model_id": "d25160b9cc6e47cfb3375ab2f61abd37",
       "version_major": 2,
       "version_minor": 0
      },
      "text/plain": [
       "  0%|          | 0/1000 [00:00<?, ?it/s]"
      ]
     },
     "metadata": {},
     "output_type": "display_data"
    }
   ],
   "source": [
    "ckpt = torch.load('models/cde_1.pth')\n",
    "score_model.load_state_dict(ckpt)\n",
    "cde_samples_0 = CDE_Euler_Maruyama_sampler(score_model, \n",
    "                           marginal_prob_std_fn,\n",
    "                           diffusion_coeff_fn, \n",
    "                           y_obs = torch.tensor(0, dtype = torch.float32), batch_size = 1000)\n",
    "cde_samples_pos = CDE_Euler_Maruyama_sampler(score_model, \n",
    "                           marginal_prob_std_fn,\n",
    "                           diffusion_coeff_fn, \n",
    "                           y_obs = torch.tensor(1.2, dtype = torch.float32), batch_size = 1000)\n",
    "cde_samples_neg = CDE_Euler_Maruyama_sampler(score_model, \n",
    "                           marginal_prob_std_fn,\n",
    "                           diffusion_coeff_fn, \n",
    "                           y_obs = torch.tensor(-1.2, dtype = torch.float32), batch_size = 1000)"
   ]
  },
  {
   "cell_type": "code",
   "execution_count": 30,
   "id": "sitting-theology",
   "metadata": {
    "scrolled": false
   },
   "outputs": [
    {
     "data": {
      "text/plain": [
       "<matplotlib.axes._subplots.AxesSubplot at 0x7fc7b548eb50>"
      ]
     },
     "execution_count": 30,
     "metadata": {},
     "output_type": "execute_result"
    },
    {
     "data": {
      "image/png": "[encoded data removed]",
      "text/plain": [
       "<Figure size 432x288 with 1 Axes>"
      ]
     },
     "metadata": {
      "needs_background": "light"
     },
     "output_type": "display_data"
    }
   ],
   "source": [
    "sns.kdeplot(actual_samples_0, color = 'green')\n",
    "sns.histplot(cde_samples_0[:,0], stat = 'density', color = 'green')\n",
    "sns.kdeplot(actual_samples_pos, color = 'blue')\n",
    "sns.histplot(cde_samples_pos[:,0], stat = 'density', color = 'blue')\n",
    "sns.kdeplot(actual_samples_neg, color = 'red')\n",
    "sns.histplot(cde_samples_neg[:,0], stat = 'density', color = 'red')"
   ]
  },
  {
   "cell_type": "markdown",
   "id": "center-female",
   "metadata": {},
   "source": [
    "### Example 2"
   ]
  },
  {
   "cell_type": "code",
   "execution_count": 31,
   "id": "chicken-helmet",
   "metadata": {},
   "outputs": [
    {
     "name": "stderr",
     "output_type": "stream",
     "text": [
      "/Users/harryamad/Google Drive/2022/Dissertation/conditional_diffusion_simulation/SDE.py:16: UserWarning: To copy construct from a tensor, it is recommended to use sourceTensor.clone().detach() or sourceTensor.clone().detach().requires_grad_(True), rather than torch.tensor(sourceTensor).\n",
      "  t = torch.tensor(t)\n"
     ]
    },
    {
     "data": {
      "application/json": {
       "ascii": false,
       "bar_format": null,
       "colour": null,
       "elapsed": 0.025437116622924805,
       "initial": 0,
       "n": 0,
       "ncols": null,
       "nrows": null,
       "postfix": null,
       "prefix": "",
       "rate": null,
       "total": 1000,
       "unit": "it",
       "unit_divisor": 1000,
       "unit_scale": false
      },
      "application/vnd.jupyter.widget-view+json": {
       "model_id": "55d36234b80c4f399fd843616cc27c2f",
       "version_major": 2,
       "version_minor": 0
      },
      "text/plain": [
       "  0%|          | 0/1000 [00:00<?, ?it/s]"
      ]
     },
     "metadata": {},
     "output_type": "display_data"
    },
    {
     "data": {
      "application/json": {
       "ascii": false,
       "bar_format": null,
       "colour": null,
       "elapsed": 0.027040719985961914,
       "initial": 0,
       "n": 0,
       "ncols": null,
       "nrows": null,
       "postfix": null,
       "prefix": "",
       "rate": null,
       "total": 1000,
       "unit": "it",
       "unit_divisor": 1000,
       "unit_scale": false
      },
      "application/vnd.jupyter.widget-view+json": {
       "model_id": "2e52567f0e8b448db88c2f967c3294e5",
       "version_major": 2,
       "version_minor": 0
      },
      "text/plain": [
       "  0%|          | 0/1000 [00:00<?, ?it/s]"
      ]
     },
     "metadata": {},
     "output_type": "display_data"
    },
    {
     "data": {
      "application/json": {
       "ascii": false,
       "bar_format": null,
       "colour": null,
       "elapsed": 0.02728891372680664,
       "initial": 0,
       "n": 0,
       "ncols": null,
       "nrows": null,
       "postfix": null,
       "prefix": "",
       "rate": null,
       "total": 1000,
       "unit": "it",
       "unit_divisor": 1000,
       "unit_scale": false
      },
      "application/vnd.jupyter.widget-view+json": {
       "model_id": "ced5b0138b54477287a242de62533c6e",
       "version_major": 2,
       "version_minor": 0
      },
      "text/plain": [
       "  0%|          | 0/1000 [00:00<?, ?it/s]"
      ]
     },
     "metadata": {},
     "output_type": "display_data"
    }
   ],
   "source": [
    "ckpt = torch.load('models/cde_2.pth')\n",
    "score_model.load_state_dict(ckpt)\n",
    "cde_samples_0_2 = CDE_Euler_Maruyama_sampler(score_model, \n",
    "                           marginal_prob_std_fn,\n",
    "                           diffusion_coeff_fn, \n",
    "                           y_obs = torch.tensor(0, dtype = torch.float32), batch_size = 1000)\n",
    "cde_samples_pos_2 = CDE_Euler_Maruyama_sampler(score_model, \n",
    "                           marginal_prob_std_fn,\n",
    "                           diffusion_coeff_fn, \n",
    "                           y_obs = torch.tensor(1.2, dtype = torch.float32), batch_size = 1000)\n",
    "cde_samples_neg_2 = CDE_Euler_Maruyama_sampler(score_model, \n",
    "                           marginal_prob_std_fn,\n",
    "                           diffusion_coeff_fn, \n",
    "                           y_obs = torch.tensor(-1.2, dtype = torch.float32), batch_size = 1000)"
   ]
  },
  {
   "cell_type": "code",
   "execution_count": 32,
   "id": "dress-hindu",
   "metadata": {
    "scrolled": true
   },
   "outputs": [
    {
     "data": {
      "text/plain": [
       "<matplotlib.axes._subplots.AxesSubplot at 0x7fc7b4b5c310>"
      ]
     },
     "execution_count": 32,
     "metadata": {},
     "output_type": "execute_result"
    },
    {
     "data": {
      "image/png": "[encoded data removed]",
      "text/plain": [
       "<Figure size 432x288 with 1 Axes>"
      ]
     },
     "metadata": {
      "needs_background": "light"
     },
     "output_type": "display_data"
    }
   ],
   "source": [
    "sns.kdeplot(actual_samples_0_2, color = 'green')\n",
    "sns.histplot(cde_samples_0_2[:,0], stat = 'density', color = 'green')\n",
    "sns.kdeplot(actual_samples_pos_2, color = 'blue')\n",
    "sns.histplot(cde_samples_pos_2[:,0], stat = 'density', color = 'blue')\n",
    "sns.kdeplot(actual_samples_neg_2, color = 'red')\n",
    "sns.histplot(cde_samples_neg_2[:,0], stat = 'density', color = 'red')"
   ]
  },
  {
   "cell_type": "markdown",
   "id": "equal-utilization",
   "metadata": {},
   "source": [
    "### Example 3"
   ]
  },
  {
   "cell_type": "code",
   "execution_count": 33,
   "id": "bacterial-disco",
   "metadata": {},
   "outputs": [
    {
     "name": "stderr",
     "output_type": "stream",
     "text": [
      "/Users/harryamad/Google Drive/2022/Dissertation/conditional_diffusion_simulation/SDE.py:16: UserWarning: To copy construct from a tensor, it is recommended to use sourceTensor.clone().detach() or sourceTensor.clone().detach().requires_grad_(True), rather than torch.tensor(sourceTensor).\n",
      "  t = torch.tensor(t)\n"
     ]
    },
    {
     "data": {
      "application/json": {
       "ascii": false,
       "bar_format": null,
       "colour": null,
       "elapsed": 0.025239944458007812,
       "initial": 0,
       "n": 0,
       "ncols": null,
       "nrows": null,
       "postfix": null,
       "prefix": "",
       "rate": null,
       "total": 1000,
       "unit": "it",
       "unit_divisor": 1000,
       "unit_scale": false
      },
      "application/vnd.jupyter.widget-view+json": {
       "model_id": "2dc3ab7533f84fe8800319b670893c2d",
       "version_major": 2,
       "version_minor": 0
      },
      "text/plain": [
       "  0%|          | 0/1000 [00:00<?, ?it/s]"
      ]
     },
     "metadata": {},
     "output_type": "display_data"
    },
    {
     "data": {
      "application/json": {
       "ascii": false,
       "bar_format": null,
       "colour": null,
       "elapsed": 0.025880813598632812,
       "initial": 0,
       "n": 0,
       "ncols": null,
       "nrows": null,
       "postfix": null,
       "prefix": "",
       "rate": null,
       "total": 1000,
       "unit": "it",
       "unit_divisor": 1000,
       "unit_scale": false
      },
      "application/vnd.jupyter.widget-view+json": {
       "model_id": "0463bfd726394533a6e4e6b3c72856ec",
       "version_major": 2,
       "version_minor": 0
      },
      "text/plain": [
       "  0%|          | 0/1000 [00:00<?, ?it/s]"
      ]
     },
     "metadata": {},
     "output_type": "display_data"
    }
   ],
   "source": [
    "ckpt = torch.load('models/cde_3.pth')\n",
    "score_model.load_state_dict(ckpt)\n",
    "\n",
    "cde_samples_pos_3 = CDE_Euler_Maruyama_sampler(score_model, \n",
    "                           marginal_prob_std_fn,\n",
    "                           diffusion_coeff_fn, \n",
    "                           y_obs = torch.tensor(1.2, dtype = torch.float32), batch_size = 1000)\n",
    "cde_samples_neg_3 = CDE_Euler_Maruyama_sampler(score_model, \n",
    "                           marginal_prob_std_fn,\n",
    "                           diffusion_coeff_fn, \n",
    "                           y_obs = torch.tensor(-1.2, dtype = torch.float32), batch_size = 1000)"
   ]
  },
  {
   "cell_type": "code",
   "execution_count": 34,
   "id": "hundred-childhood",
   "metadata": {
    "scrolled": false
   },
   "outputs": [
    {
     "data": {
      "text/plain": [
       "<matplotlib.axes._subplots.AxesSubplot at 0x7fc7b4baa670>"
      ]
     },
     "execution_count": 34,
     "metadata": {},
     "output_type": "execute_result"
    },
    {
     "data": {
      "image/png": "[encoded data removed]",
      "text/plain": [
       "<Figure size 432x288 with 1 Axes>"
      ]
     },
     "metadata": {
      "needs_background": "light"
     },
     "output_type": "display_data"
    }
   ],
   "source": [
    "sns.kdeplot(actual_samples_pos_3, color = 'blue')\n",
    "sns.histplot(cde_samples_pos_3[:,0], stat = 'density', color = 'blue')\n",
    "sns.kdeplot(actual_samples_neg_3, color = 'red')\n",
    "sns.histplot(cde_samples_neg_3[:,0], stat = 'density', color = 'red')"
   ]
  },
  {
   "cell_type": "code",
   "execution_count": 115,
   "id": "unavailable-treasurer",
   "metadata": {},
   "outputs": [],
   "source": [
    "torch.save(cde_samples_0, 'data/cde_0_1.pt')\n",
    "torch.save(cde_samples_pos, 'data/cde_pos_1.pt')\n",
    "torch.save(cde_samples_neg, 'data/cde_neg_1.pt')\n",
    "\n",
    "torch.save(cde_samples_0_2, 'data/cde_0_2.pt')\n",
    "torch.save(cde_samples_pos_2, 'data/cde_pos_2.pt')\n",
    "torch.save(cde_samples_neg_2, 'data/cde_neg_2.pt')\n",
    "\n",
    "torch.save(cde_samples_pos_3, 'data/cde_pos_3.pt')\n",
    "torch.save(cde_samples_neg_3, 'data/cde_neg_3.pt')"
   ]
  },
  {
   "cell_type": "markdown",
   "id": "enormous-story",
   "metadata": {},
   "source": [
    "<hr style=\"border:2px solid black\">"
   ]
  },
  {
   "cell_type": "markdown",
   "id": "aging-april",
   "metadata": {},
   "source": [
    "<a id='cdiffe_samples'></a>\n",
    "## Draw CDiffE samples"
   ]
  },
  {
   "cell_type": "markdown",
   "id": "discrete-niagara",
   "metadata": {},
   "source": [
    "### Example 1"
   ]
  },
  {
   "cell_type": "code",
   "execution_count": 35,
   "id": "advanced-queensland",
   "metadata": {},
   "outputs": [
    {
     "name": "stderr",
     "output_type": "stream",
     "text": [
      "/Users/harryamad/Google Drive/2022/Dissertation/conditional_diffusion_simulation/SDE.py:16: UserWarning: To copy construct from a tensor, it is recommended to use sourceTensor.clone().detach() or sourceTensor.clone().detach().requires_grad_(True), rather than torch.tensor(sourceTensor).\n",
      "  t = torch.tensor(t)\n"
     ]
    },
    {
     "data": {
      "application/json": {
       "ascii": false,
       "bar_format": null,
       "colour": null,
       "elapsed": 0.028110265731811523,
       "initial": 0,
       "n": 0,
       "ncols": null,
       "nrows": null,
       "postfix": null,
       "prefix": "",
       "rate": null,
       "total": 1000,
       "unit": "it",
       "unit_divisor": 1000,
       "unit_scale": false
      },
      "application/vnd.jupyter.widget-view+json": {
       "model_id": "1c45c0d2a77c4748a49842637dada45e",
       "version_major": 2,
       "version_minor": 0
      },
      "text/plain": [
       "  0%|          | 0/1000 [00:00<?, ?it/s]"
      ]
     },
     "metadata": {},
     "output_type": "display_data"
    },
    {
     "data": {
      "application/json": {
       "ascii": false,
       "bar_format": null,
       "colour": null,
       "elapsed": 0.024919748306274414,
       "initial": 0,
       "n": 0,
       "ncols": null,
       "nrows": null,
       "postfix": null,
       "prefix": "",
       "rate": null,
       "total": 1000,
       "unit": "it",
       "unit_divisor": 1000,
       "unit_scale": false
      },
      "application/vnd.jupyter.widget-view+json": {
       "model_id": "ba9095180afb46dfb5d57d4680cb3d7a",
       "version_major": 2,
       "version_minor": 0
      },
      "text/plain": [
       "  0%|          | 0/1000 [00:00<?, ?it/s]"
      ]
     },
     "metadata": {},
     "output_type": "display_data"
    },
    {
     "data": {
      "application/json": {
       "ascii": false,
       "bar_format": null,
       "colour": null,
       "elapsed": 0.025910139083862305,
       "initial": 0,
       "n": 0,
       "ncols": null,
       "nrows": null,
       "postfix": null,
       "prefix": "",
       "rate": null,
       "total": 1000,
       "unit": "it",
       "unit_divisor": 1000,
       "unit_scale": false
      },
      "application/vnd.jupyter.widget-view+json": {
       "model_id": "2991661a48be4b2fb26db8e9830a5103",
       "version_major": 2,
       "version_minor": 0
      },
      "text/plain": [
       "  0%|          | 0/1000 [00:00<?, ?it/s]"
      ]
     },
     "metadata": {},
     "output_type": "display_data"
    }
   ],
   "source": [
    "score_model = ScoreNet_2D(marginal_prob_std=marginal_prob_std_fn)\n",
    "ckpt = torch.load('models/ex_1.pth')\n",
    "score_model.load_state_dict(ckpt)\n",
    "cdiffe_samples_0 = CDiffE_Euler_Maruyama_sampler(score_model, \n",
    "                           marginal_prob_std_fn,\n",
    "                           diffusion_coeff_fn, \n",
    "                           y_obs = torch.tensor(0, dtype = torch.float32), batch_size = 1000)\n",
    "\n",
    "cdiffe_samples_neg = CDiffE_Euler_Maruyama_sampler(score_model, \n",
    "                           marginal_prob_std_fn,\n",
    "                           diffusion_coeff_fn, \n",
    "                           y_obs = torch.tensor(-1.2, dtype = torch.float32), batch_size = 1000)\n",
    "\n",
    "cdiffe_samples_pos = CDiffE_Euler_Maruyama_sampler(score_model, \n",
    "                           marginal_prob_std_fn,\n",
    "                           diffusion_coeff_fn, \n",
    "                           y_obs = torch.tensor(1.2, dtype = torch.float32), batch_size = 1000)"
   ]
  },
  {
   "cell_type": "code",
   "execution_count": 36,
   "id": "intense-premium",
   "metadata": {},
   "outputs": [
    {
     "data": {
      "text/plain": [
       "<matplotlib.axes._subplots.AxesSubplot at 0x7fc7b5d304c0>"
      ]
     },
     "execution_count": 36,
     "metadata": {},
     "output_type": "execute_result"
    },
    {
     "data": {
      "image/png": "[encoded data removed]",
      "text/plain": [
       "<Figure size 432x288 with 1 Axes>"
      ]
     },
     "metadata": {
      "needs_background": "light"
     },
     "output_type": "display_data"
    }
   ],
   "source": [
    "sns.kdeplot(actual_samples_0, color = 'green')\n",
    "sns.histplot(cdiffe_samples_0[:,0], stat = 'density', color = 'green')\n",
    "sns.kdeplot(actual_samples_pos, color = 'blue')\n",
    "sns.histplot(cdiffe_samples_pos[:,0], stat = 'density', color = 'blue')\n",
    "sns.kdeplot(actual_samples_neg, color = 'red')\n",
    "sns.histplot(cdiffe_samples_neg[:,0], stat = 'density', color = 'red')"
   ]
  },
  {
   "cell_type": "markdown",
   "id": "according-belief",
   "metadata": {},
   "source": [
    "### Example 2"
   ]
  },
  {
   "cell_type": "code",
   "execution_count": 37,
   "id": "impressive-cliff",
   "metadata": {},
   "outputs": [
    {
     "name": "stderr",
     "output_type": "stream",
     "text": [
      "/Users/harryamad/Google Drive/2022/Dissertation/conditional_diffusion_simulation/SDE.py:16: UserWarning: To copy construct from a tensor, it is recommended to use sourceTensor.clone().detach() or sourceTensor.clone().detach().requires_grad_(True), rather than torch.tensor(sourceTensor).\n",
      "  t = torch.tensor(t)\n"
     ]
    },
    {
     "data": {
      "application/json": {
       "ascii": false,
       "bar_format": null,
       "colour": null,
       "elapsed": 0.05068087577819824,
       "initial": 0,
       "n": 0,
       "ncols": null,
       "nrows": null,
       "postfix": null,
       "prefix": "",
       "rate": null,
       "total": 1000,
       "unit": "it",
       "unit_divisor": 1000,
       "unit_scale": false
      },
      "application/vnd.jupyter.widget-view+json": {
       "model_id": "08a99bcdd4ad4dc3a5a0681aad8809c4",
       "version_major": 2,
       "version_minor": 0
      },
      "text/plain": [
       "  0%|          | 0/1000 [00:00<?, ?it/s]"
      ]
     },
     "metadata": {},
     "output_type": "display_data"
    },
    {
     "data": {
      "application/json": {
       "ascii": false,
       "bar_format": null,
       "colour": null,
       "elapsed": 0.025847911834716797,
       "initial": 0,
       "n": 0,
       "ncols": null,
       "nrows": null,
       "postfix": null,
       "prefix": "",
       "rate": null,
       "total": 1000,
       "unit": "it",
       "unit_divisor": 1000,
       "unit_scale": false
      },
      "application/vnd.jupyter.widget-view+json": {
       "model_id": "be89059039144bdcb74705814e28239c",
       "version_major": 2,
       "version_minor": 0
      },
      "text/plain": [
       "  0%|          | 0/1000 [00:00<?, ?it/s]"
      ]
     },
     "metadata": {},
     "output_type": "display_data"
    },
    {
     "data": {
      "application/json": {
       "ascii": false,
       "bar_format": null,
       "colour": null,
       "elapsed": 0.02542901039123535,
       "initial": 0,
       "n": 0,
       "ncols": null,
       "nrows": null,
       "postfix": null,
       "prefix": "",
       "rate": null,
       "total": 1000,
       "unit": "it",
       "unit_divisor": 1000,
       "unit_scale": false
      },
      "application/vnd.jupyter.widget-view+json": {
       "model_id": "ade56e3e09dc4baf8868986a7e3fe134",
       "version_major": 2,
       "version_minor": 0
      },
      "text/plain": [
       "  0%|          | 0/1000 [00:00<?, ?it/s]"
      ]
     },
     "metadata": {},
     "output_type": "display_data"
    }
   ],
   "source": [
    "score_model = ScoreNet_2D(marginal_prob_std=marginal_prob_std_fn)\n",
    "ckpt = torch.load('models/ex_2.pth')\n",
    "score_model.load_state_dict(ckpt)\n",
    "cdiffe_samples_0_2 = CDiffE_Euler_Maruyama_sampler(score_model, \n",
    "                           marginal_prob_std_fn,\n",
    "                           diffusion_coeff_fn, \n",
    "                           y_obs = torch.tensor(0, dtype = torch.float32), batch_size = 1000)\n",
    "\n",
    "cdiffe_samples_neg_2 = CDiffE_Euler_Maruyama_sampler(score_model, \n",
    "                           marginal_prob_std_fn,\n",
    "                           diffusion_coeff_fn, \n",
    "                           y_obs = torch.tensor(-1.2, dtype = torch.float32), batch_size = 1000)\n",
    "\n",
    "cdiffe_samples_pos_2 = CDiffE_Euler_Maruyama_sampler(score_model, \n",
    "                           marginal_prob_std_fn,\n",
    "                           diffusion_coeff_fn, \n",
    "                           y_obs = torch.tensor(1.2, dtype = torch.float32), batch_size = 1000)"
   ]
  },
  {
   "cell_type": "code",
   "execution_count": 38,
   "id": "numeric-constitution",
   "metadata": {
    "scrolled": true
   },
   "outputs": [
    {
     "data": {
      "text/plain": [
       "<matplotlib.axes._subplots.AxesSubplot at 0x7fc7b6414700>"
      ]
     },
     "execution_count": 38,
     "metadata": {},
     "output_type": "execute_result"
    },
    {
     "data": {
      "image/png": "[encoded data removed]",
      "text/plain": [
       "<Figure size 432x288 with 1 Axes>"
      ]
     },
     "metadata": {
      "needs_background": "light"
     },
     "output_type": "display_data"
    }
   ],
   "source": [
    "sns.kdeplot(actual_samples_0_2, color = 'green')\n",
    "sns.histplot(cdiffe_samples_0_2[:,0], stat = 'density', color = 'green')\n",
    "sns.kdeplot(actual_samples_pos_2, color = 'blue')\n",
    "sns.histplot(cdiffe_samples_pos_2[:,0], stat = 'density', color = 'blue')\n",
    "sns.kdeplot(actual_samples_neg_2, color = 'red')\n",
    "sns.histplot(cdiffe_samples_neg_2[:,0], stat = 'density', color = 'red')"
   ]
  },
  {
   "cell_type": "markdown",
   "id": "recent-validity",
   "metadata": {},
   "source": [
    "### Example 3"
   ]
  },
  {
   "cell_type": "code",
   "execution_count": 39,
   "id": "familiar-airline",
   "metadata": {},
   "outputs": [
    {
     "name": "stderr",
     "output_type": "stream",
     "text": [
      "/Users/harryamad/Google Drive/2022/Dissertation/conditional_diffusion_simulation/SDE.py:16: UserWarning: To copy construct from a tensor, it is recommended to use sourceTensor.clone().detach() or sourceTensor.clone().detach().requires_grad_(True), rather than torch.tensor(sourceTensor).\n",
      "  t = torch.tensor(t)\n"
     ]
    },
    {
     "data": {
      "application/json": {
       "ascii": false,
       "bar_format": null,
       "colour": null,
       "elapsed": 0.029529094696044922,
       "initial": 0,
       "n": 0,
       "ncols": null,
       "nrows": null,
       "postfix": null,
       "prefix": "",
       "rate": null,
       "total": 1000,
       "unit": "it",
       "unit_divisor": 1000,
       "unit_scale": false
      },
      "application/vnd.jupyter.widget-view+json": {
       "model_id": "e3b4415240ec48a3bd1d1631172511ae",
       "version_major": 2,
       "version_minor": 0
      },
      "text/plain": [
       "  0%|          | 0/1000 [00:00<?, ?it/s]"
      ]
     },
     "metadata": {},
     "output_type": "display_data"
    },
    {
     "data": {
      "application/json": {
       "ascii": false,
       "bar_format": null,
       "colour": null,
       "elapsed": 0.025311946868896484,
       "initial": 0,
       "n": 0,
       "ncols": null,
       "nrows": null,
       "postfix": null,
       "prefix": "",
       "rate": null,
       "total": 1000,
       "unit": "it",
       "unit_divisor": 1000,
       "unit_scale": false
      },
      "application/vnd.jupyter.widget-view+json": {
       "model_id": "5e8a0fa518d54f4784d51c18636f9494",
       "version_major": 2,
       "version_minor": 0
      },
      "text/plain": [
       "  0%|          | 0/1000 [00:00<?, ?it/s]"
      ]
     },
     "metadata": {},
     "output_type": "display_data"
    }
   ],
   "source": [
    "score_model = ScoreNet_2D(marginal_prob_std=marginal_prob_std_fn)\n",
    "ckpt = torch.load('models/ex_3.pth')\n",
    "score_model.load_state_dict(ckpt)\n",
    "\n",
    "cdiffe_samples_neg_3 = CDiffE_Euler_Maruyama_sampler(score_model, \n",
    "                           marginal_prob_std_fn,\n",
    "                           diffusion_coeff_fn, \n",
    "                           y_obs = torch.tensor(-1.2, dtype = torch.float32), batch_size = 1000)\n",
    "\n",
    "cdiffe_samples_pos_3 = CDiffE_Euler_Maruyama_sampler(score_model, \n",
    "                           marginal_prob_std_fn,\n",
    "                           diffusion_coeff_fn, \n",
    "                           y_obs = torch.tensor(1.2, dtype = torch.float32), batch_size = 1000)"
   ]
  },
  {
   "cell_type": "code",
   "execution_count": 40,
   "id": "coordinated-organizer",
   "metadata": {
    "scrolled": false
   },
   "outputs": [
    {
     "data": {
      "text/plain": [
       "<matplotlib.axes._subplots.AxesSubplot at 0x7fc7b6ac0850>"
      ]
     },
     "execution_count": 40,
     "metadata": {},
     "output_type": "execute_result"
    },
    {
     "data": {
      "image/png": "[encoded data removed]",
      "text/plain": [
       "<Figure size 432x288 with 1 Axes>"
      ]
     },
     "metadata": {
      "needs_background": "light"
     },
     "output_type": "display_data"
    }
   ],
   "source": [
    "sns.kdeplot(actual_samples_pos_3, color = 'blue')\n",
    "sns.histplot(cdiffe_samples_pos_3[:,0], stat = 'density', color = 'blue')\n",
    "sns.kdeplot(actual_samples_neg_3, color = 'red')\n",
    "sns.histplot(cdiffe_samples_neg_3[:,0], stat = 'density', color = 'red')"
   ]
  },
  {
   "cell_type": "code",
   "execution_count": 116,
   "id": "encouraging-islam",
   "metadata": {},
   "outputs": [],
   "source": [
    "torch.save(cdiffe_samples_0, 'data/cdiffe_0_1.pt')\n",
    "torch.save(cdiffe_samples_pos, 'data/cdiffe_pos_1.pt')\n",
    "torch.save(cdiffe_samples_neg, 'data/cdiffe_neg_1.pt')\n",
    "\n",
    "torch.save(cdiffe_samples_0_2, 'data/cdiffe_0_2.pt')\n",
    "torch.save(cdiffe_samples_pos_2, 'data/cdiffe_pos_2.pt')\n",
    "torch.save(cdiffe_samples_neg_2, 'data/cdiffe_neg_2.pt')\n",
    "\n",
    "torch.save(cdiffe_samples_pos_3, 'data/cdiffe_pos_3.pt')\n",
    "torch.save(cdiffe_samples_neg_3, 'data/cdiffe_neg_3.pt')"
   ]
  },
  {
   "cell_type": "markdown",
   "id": "handy-paintball",
   "metadata": {},
   "source": [
    "<hr style=\"border:2px solid black\">"
   ]
  },
  {
   "cell_type": "markdown",
   "id": "willing-apollo",
   "metadata": {},
   "source": [
    "<a id='smcdiff_samples'></a>\n",
    "## Draw SMCDiff samples"
   ]
  },
  {
   "cell_type": "markdown",
   "id": "realistic-assumption",
   "metadata": {},
   "source": [
    "## Example 1"
   ]
  },
  {
   "cell_type": "code",
   "execution_count": null,
   "id": "twenty-distance",
   "metadata": {},
   "outputs": [],
   "source": []
  },
  {
   "cell_type": "code",
   "execution_count": 5,
   "id": "incident-pastor",
   "metadata": {},
   "outputs": [
    {
     "name": "stderr",
     "output_type": "stream",
     "text": [
      "/Users/harryamad/Google Drive/2022/Dissertation/conditional_diffusion_simulation/SDE.py:16: UserWarning: To copy construct from a tensor, it is recommended to use sourceTensor.clone().detach() or sourceTensor.clone().detach().requires_grad_(True), rather than torch.tensor(sourceTensor).\n",
      "  t = torch.tensor(t)\n"
     ]
    },
    {
     "data": {
      "application/json": {
       "ascii": false,
       "bar_format": null,
       "colour": null,
       "elapsed": 0.03845405578613281,
       "initial": 0,
       "n": 0,
       "ncols": null,
       "nrows": null,
       "postfix": null,
       "prefix": "",
       "rate": null,
       "total": 1000,
       "unit": "it",
       "unit_divisor": 1000,
       "unit_scale": false
      },
      "application/vnd.jupyter.widget-view+json": {
       "model_id": "fb654c6ad4b34c4c87e7e7d77a5ee01b",
       "version_major": 2,
       "version_minor": 0
      },
      "text/plain": [
       "  0%|          | 0/1000 [00:00<?, ?it/s]"
      ]
     },
     "metadata": {},
     "output_type": "display_data"
    },
    {
     "name": "stdout",
     "output_type": "stream",
     "text": [
      "617 resampling, departure=513.46\n",
      "524 resampling, departure=506.61\n",
      "427 resampling, departure=513.35\n"
     ]
    },
    {
     "data": {
      "application/json": {
       "ascii": false,
       "bar_format": null,
       "colour": null,
       "elapsed": 0.024765968322753906,
       "initial": 0,
       "n": 0,
       "ncols": null,
       "nrows": null,
       "postfix": null,
       "prefix": "",
       "rate": null,
       "total": 1000,
       "unit": "it",
       "unit_divisor": 1000,
       "unit_scale": false
      },
      "application/vnd.jupyter.widget-view+json": {
       "model_id": "0751cdd34f004409b620a3fc051c06fe",
       "version_major": 2,
       "version_minor": 0
      },
      "text/plain": [
       "  0%|          | 0/1000 [00:00<?, ?it/s]"
      ]
     },
     "metadata": {},
     "output_type": "display_data"
    },
    {
     "name": "stdout",
     "output_type": "stream",
     "text": [
      "667 resampling, departure=506.72\n"
     ]
    },
    {
     "data": {
      "application/json": {
       "ascii": false,
       "bar_format": null,
       "colour": null,
       "elapsed": 0.02765798568725586,
       "initial": 0,
       "n": 0,
       "ncols": null,
       "nrows": null,
       "postfix": null,
       "prefix": "",
       "rate": null,
       "total": 1000,
       "unit": "it",
       "unit_divisor": 1000,
       "unit_scale": false
      },
      "application/vnd.jupyter.widget-view+json": {
       "model_id": "74cf4c863b6f408aa35d2e0047ff9907",
       "version_major": 2,
       "version_minor": 0
      },
      "text/plain": [
       "  0%|          | 0/1000 [00:00<?, ?it/s]"
      ]
     },
     "metadata": {},
     "output_type": "display_data"
    },
    {
     "name": "stdout",
     "output_type": "stream",
     "text": [
      "518 resampling, departure=504.07\n"
     ]
    }
   ],
   "source": [
    "score_model = ScoreNet_2D(marginal_prob_std=marginal_prob_std_fn)\n",
    "ckpt = torch.load('models/ex_1.pth')\n",
    "score_model.load_state_dict(ckpt)\n",
    "\n",
    "smcdiff_samples_0 = SMCDiff_Euler_Maruyama_sampler(score_model, \n",
    "                           marginal_prob_std_fn,\n",
    "                           diffusion_coeff_fn, \n",
    "                           y_obs = torch.tensor(0, dtype = torch.float32), k = 1000)\n",
    "\n",
    "smcdiff_samples_pos = SMCDiff_Euler_Maruyama_sampler(score_model, \n",
    "                           marginal_prob_std_fn,\n",
    "                           diffusion_coeff_fn, \n",
    "                           y_obs = torch.tensor(1.2, dtype = torch.float32), k = 1000)\n",
    "\n",
    "smcdiff_samples_neg = SMCDiff_Euler_Maruyama_sampler(score_model, \n",
    "                           marginal_prob_std_fn,\n",
    "                           diffusion_coeff_fn, \n",
    "                           y_obs = torch.tensor(-1.2, dtype = torch.float32), k = 1000)"
   ]
  },
  {
   "cell_type": "code",
   "execution_count": 6,
   "id": "silver-salad",
   "metadata": {},
   "outputs": [
    {
     "data": {
      "text/plain": [
       "<matplotlib.axes._subplots.AxesSubplot at 0x7fc190228970>"
      ]
     },
     "execution_count": 6,
     "metadata": {},
     "output_type": "execute_result"
    },
    {
     "data": {
      "image/png": "[encoded data removed]",
      "text/plain": [
       "<Figure size 432x288 with 1 Axes>"
      ]
     },
     "metadata": {
      "needs_background": "light"
     },
     "output_type": "display_data"
    }
   ],
   "source": [
    "sns.kdeplot(actual_samples_0, color = 'green')\n",
    "sns.histplot(smcdiff_samples_0[:,0], stat = 'density', color = 'green')\n",
    "sns.kdeplot(actual_samples_pos, color = 'blue')\n",
    "sns.histplot(smcdiff_samples_pos[:,0], stat = 'density', color = 'blue')\n",
    "sns.kdeplot(actual_samples_neg, color = 'red')\n",
    "sns.histplot(smcdiff_samples_neg[:,0], stat = 'density', color = 'red')"
   ]
  },
  {
   "cell_type": "markdown",
   "id": "descending-adobe",
   "metadata": {},
   "source": [
    "## Example 2"
   ]
  },
  {
   "cell_type": "code",
   "execution_count": 7,
   "id": "preliminary-duration",
   "metadata": {},
   "outputs": [
    {
     "name": "stderr",
     "output_type": "stream",
     "text": [
      "/Users/harryamad/Google Drive/2022/Dissertation/conditional_diffusion_simulation/SDE.py:16: UserWarning: To copy construct from a tensor, it is recommended to use sourceTensor.clone().detach() or sourceTensor.clone().detach().requires_grad_(True), rather than torch.tensor(sourceTensor).\n",
      "  t = torch.tensor(t)\n"
     ]
    },
    {
     "data": {
      "application/json": {
       "ascii": false,
       "bar_format": null,
       "colour": null,
       "elapsed": 0.028547048568725586,
       "initial": 0,
       "n": 0,
       "ncols": null,
       "nrows": null,
       "postfix": null,
       "prefix": "",
       "rate": null,
       "total": 1000,
       "unit": "it",
       "unit_divisor": 1000,
       "unit_scale": false
      },
      "application/vnd.jupyter.widget-view+json": {
       "model_id": "be9085223dfb49e49c1ab117aaf62402",
       "version_major": 2,
       "version_minor": 0
      },
      "text/plain": [
       "  0%|          | 0/1000 [00:00<?, ?it/s]"
      ]
     },
     "metadata": {},
     "output_type": "display_data"
    },
    {
     "name": "stdout",
     "output_type": "stream",
     "text": [
      "589 resampling, departure=509.08\n",
      "514 resampling, departure=504.47\n",
      "436 resampling, departure=513.28\n",
      "407 resampling, departure=536.86\n",
      "106 resampling, departure=501.63\n"
     ]
    },
    {
     "data": {
      "application/json": {
       "ascii": false,
       "bar_format": null,
       "colour": null,
       "elapsed": 0.02519512176513672,
       "initial": 0,
       "n": 0,
       "ncols": null,
       "nrows": null,
       "postfix": null,
       "prefix": "",
       "rate": null,
       "total": 1000,
       "unit": "it",
       "unit_divisor": 1000,
       "unit_scale": false
      },
      "application/vnd.jupyter.widget-view+json": {
       "model_id": "540456d958bd4151b6ce1a4d733d64b5",
       "version_major": 2,
       "version_minor": 0
      },
      "text/plain": [
       "  0%|          | 0/1000 [00:00<?, ?it/s]"
      ]
     },
     "metadata": {},
     "output_type": "display_data"
    },
    {
     "name": "stdout",
     "output_type": "stream",
     "text": [
      "647 resampling, departure=504.01\n",
      "609 resampling, departure=543.93\n"
     ]
    },
    {
     "data": {
      "application/json": {
       "ascii": false,
       "bar_format": null,
       "colour": null,
       "elapsed": 0.024699926376342773,
       "initial": 0,
       "n": 0,
       "ncols": null,
       "nrows": null,
       "postfix": null,
       "prefix": "",
       "rate": null,
       "total": 1000,
       "unit": "it",
       "unit_divisor": 1000,
       "unit_scale": false
      },
      "application/vnd.jupyter.widget-view+json": {
       "model_id": "e489622d7f274604becd3956ad698d78",
       "version_major": 2,
       "version_minor": 0
      },
      "text/plain": [
       "  0%|          | 0/1000 [00:00<?, ?it/s]"
      ]
     },
     "metadata": {},
     "output_type": "display_data"
    },
    {
     "name": "stdout",
     "output_type": "stream",
     "text": [
      "674 resampling, departure=519.79\n"
     ]
    }
   ],
   "source": [
    "ckpt = torch.load('models/ex_2.pth')\n",
    "score_model.load_state_dict(ckpt)\n",
    "\n",
    "smcdiff_samples_0_2 = SMCDiff_Euler_Maruyama_sampler(score_model, \n",
    "                           marginal_prob_std_fn,\n",
    "                           diffusion_coeff_fn, \n",
    "                           y_obs = torch.tensor(0, dtype = torch.float32), k = 1000)\n",
    "\n",
    "smcdiff_samples_pos_2 = SMCDiff_Euler_Maruyama_sampler(score_model, \n",
    "                           marginal_prob_std_fn,\n",
    "                           diffusion_coeff_fn, \n",
    "                           y_obs = torch.tensor(1.2, dtype = torch.float32), k = 1000)\n",
    "\n",
    "smcdiff_samples_neg_2 = SMCDiff_Euler_Maruyama_sampler(score_model, \n",
    "                           marginal_prob_std_fn,\n",
    "                           diffusion_coeff_fn, \n",
    "                           y_obs = torch.tensor(-1.2, dtype = torch.float32), k = 1000)"
   ]
  },
  {
   "cell_type": "code",
   "execution_count": 8,
   "id": "declared-immune",
   "metadata": {},
   "outputs": [
    {
     "data": {
      "text/plain": [
       "<matplotlib.axes._subplots.AxesSubplot at 0x7fc19041f4f0>"
      ]
     },
     "execution_count": 8,
     "metadata": {},
     "output_type": "execute_result"
    },
    {
     "data": {
      "image/png": "[encoded data removed]",
      "text/plain": [
       "<Figure size 432x288 with 1 Axes>"
      ]
     },
     "metadata": {
      "needs_background": "light"
     },
     "output_type": "display_data"
    }
   ],
   "source": [
    "sns.kdeplot(actual_samples_0_2, color = 'green')\n",
    "sns.histplot(smcdiff_samples_0_2[:,0], stat = 'density', color = 'green')\n",
    "sns.kdeplot(actual_samples_pos_2, color = 'blue')\n",
    "sns.histplot(smcdiff_samples_pos_2[:,0], stat = 'density', color = 'blue')\n",
    "sns.kdeplot(actual_samples_neg_2, color = 'red')\n",
    "sns.histplot(smcdiff_samples_neg_2[:,0], stat = 'density', color = 'red')"
   ]
  },
  {
   "cell_type": "markdown",
   "id": "executed-biography",
   "metadata": {},
   "source": [
    "## Example 3"
   ]
  },
  {
   "cell_type": "code",
   "execution_count": 9,
   "id": "incoming-testing",
   "metadata": {},
   "outputs": [
    {
     "name": "stderr",
     "output_type": "stream",
     "text": [
      "/Users/harryamad/Google Drive/2022/Dissertation/conditional_diffusion_simulation/SDE.py:16: UserWarning: To copy construct from a tensor, it is recommended to use sourceTensor.clone().detach() or sourceTensor.clone().detach().requires_grad_(True), rather than torch.tensor(sourceTensor).\n",
      "  t = torch.tensor(t)\n"
     ]
    },
    {
     "data": {
      "application/json": {
       "ascii": false,
       "bar_format": null,
       "colour": null,
       "elapsed": 0.029992103576660156,
       "initial": 0,
       "n": 0,
       "ncols": null,
       "nrows": null,
       "postfix": null,
       "prefix": "",
       "rate": null,
       "total": 1000,
       "unit": "it",
       "unit_divisor": 1000,
       "unit_scale": false
      },
      "application/vnd.jupyter.widget-view+json": {
       "model_id": "33def409edeb4ad7bfb7956a4c79c17a",
       "version_major": 2,
       "version_minor": 0
      },
      "text/plain": [
       "  0%|          | 0/1000 [00:00<?, ?it/s]"
      ]
     },
     "metadata": {},
     "output_type": "display_data"
    },
    {
     "data": {
      "application/json": {
       "ascii": false,
       "bar_format": null,
       "colour": null,
       "elapsed": 0.02481818199157715,
       "initial": 0,
       "n": 0,
       "ncols": null,
       "nrows": null,
       "postfix": null,
       "prefix": "",
       "rate": null,
       "total": 1000,
       "unit": "it",
       "unit_divisor": 1000,
       "unit_scale": false
      },
      "application/vnd.jupyter.widget-view+json": {
       "model_id": "a8c78549adc44ba7b18b2c6faabad908",
       "version_major": 2,
       "version_minor": 0
      },
      "text/plain": [
       "  0%|          | 0/1000 [00:00<?, ?it/s]"
      ]
     },
     "metadata": {},
     "output_type": "display_data"
    }
   ],
   "source": [
    "ckpt = torch.load('models/ex_3.pth')\n",
    "score_model.load_state_dict(ckpt)\n",
    "\n",
    "smcdiff_samples_pos_3 = SMCDiff_Euler_Maruyama_sampler(score_model, \n",
    "                           marginal_prob_std_fn,\n",
    "                           diffusion_coeff_fn, \n",
    "                           y_obs = torch.tensor(1.2, dtype = torch.float32), k = 1000)\n",
    "\n",
    "smcdiff_samples_neg_3 = SMCDiff_Euler_Maruyama_sampler(score_model, \n",
    "                           marginal_prob_std_fn,\n",
    "                           diffusion_coeff_fn, \n",
    "                           y_obs = torch.tensor(-1.2, dtype = torch.float32), k = 1000)"
   ]
  },
  {
   "cell_type": "code",
   "execution_count": 10,
   "id": "juvenile-cooper",
   "metadata": {},
   "outputs": [
    {
     "data": {
      "text/plain": [
       "<matplotlib.axes._subplots.AxesSubplot at 0x7fc19291ba90>"
      ]
     },
     "execution_count": 10,
     "metadata": {},
     "output_type": "execute_result"
    },
    {
     "data": {
      "image/png": "[encoded data removed]",
      "text/plain": [
       "<Figure size 432x288 with 1 Axes>"
      ]
     },
     "metadata": {
      "needs_background": "light"
     },
     "output_type": "display_data"
    }
   ],
   "source": [
    "sns.kdeplot(actual_samples_pos_3, color = 'blue')\n",
    "sns.histplot(smcdiff_samples_pos_3[:,0], stat = 'density', color = 'blue')\n",
    "sns.kdeplot(actual_samples_neg_3, color = 'red')\n",
    "sns.histplot(smcdiff_samples_neg_3[:,0], stat = 'density', color = 'red')"
   ]
  },
  {
   "cell_type": "code",
   "execution_count": 117,
   "id": "brief-rubber",
   "metadata": {},
   "outputs": [],
   "source": [
    "torch.save(smcdiff_samples_0, 'data/smcdiff_0_1.pt')\n",
    "torch.save(smcdiff_samples_pos, 'data/smcdiff_pos_1.pt')\n",
    "torch.save(smcdiff_samples_neg, 'data/smcdiff_neg_1.pt')\n",
    "\n",
    "torch.save(smcdiff_samples_0_2, 'data/smcdiff_0_2.pt')\n",
    "torch.save(smcdiff_samples_pos_2, 'data/smcdiff_pos_2.pt')\n",
    "torch.save(smcdiff_samples_neg_2, 'data/smcdiff_neg_2.pt')\n",
    "\n",
    "torch.save(smcdiff_samples_pos_3, 'data/smcdiff_pos_3.pt')\n",
    "torch.save(smcdiff_samples_neg_3, 'data/smcdiff_neg_3.pt')"
   ]
  },
  {
   "cell_type": "markdown",
   "id": "mental-communications",
   "metadata": {},
   "source": [
    "<hr style=\"border:4px solid black\">"
   ]
  },
  {
   "cell_type": "markdown",
   "id": "earlier-colleague",
   "metadata": {},
   "source": [
    "<a id='comparison'></a>\n",
    "# Comparison"
   ]
  },
  {
   "cell_type": "code",
   "execution_count": 39,
   "id": "relative-printing",
   "metadata": {},
   "outputs": [],
   "source": [
    "cde_samples_0 = torch.load('data/cde_0_1.pt')\n",
    "cde_samples_pos = torch.load('data/cde_pos_1.pt')\n",
    "cde_samples_neg = torch.load('data/cde_neg_1.pt')\n",
    "cde_samples_0_2 = torch.load('data/cde_0_2.pt')\n",
    "cde_samples_pos_2 = torch.load('data/cde_pos_2.pt')\n",
    "cde_samples_neg_2 = torch.load('data/cde_neg_2.pt')\n",
    "cde_samples_pos_3 = torch.load('data/cde_pos_3.pt')\n",
    "cde_samples_neg_3 = torch.load('data/cde_neg_3.pt')"
   ]
  },
  {
   "cell_type": "code",
   "execution_count": 40,
   "id": "suburban-details",
   "metadata": {},
   "outputs": [],
   "source": [
    "cdiffe_samples_0 = torch.load('data/cdiffe_0_1.pt')\n",
    "cdiffe_samples_pos = torch.load('data/cdiffe_pos_1.pt')\n",
    "cdiffe_samples_neg = torch.load('data/cdiffe_neg_1.pt')\n",
    "cdiffe_samples_0_2 = torch.load('data/cdiffe_0_2.pt')\n",
    "cdiffe_samples_pos_2 = torch.load('data/cdiffe_pos_2.pt')\n",
    "cdiffe_samples_neg_2 = torch.load('data/cdiffe_neg_2.pt')\n",
    "cdiffe_samples_pos_3 = torch.load('data/cdiffe_pos_3.pt')\n",
    "cdiffe_samples_neg_3 = torch.load('data/cdiffe_neg_3.pt')"
   ]
  },
  {
   "cell_type": "code",
   "execution_count": 41,
   "id": "colored-animal",
   "metadata": {},
   "outputs": [],
   "source": [
    "smcdiff_samples_0 = torch.load('data/smcdiff_0_1.pt')\n",
    "smcdiff_samples_pos = torch.load('data/smcdiff_pos_1.pt')\n",
    "smcdiff_samples_neg = torch.load('data/smcdiff_neg_1.pt')\n",
    "smcdiff_samples_0_2 = torch.load('data/smcdiff_0_2.pt')\n",
    "smcdiff_samples_pos_2 = torch.load('data/smcdiff_pos_2.pt')\n",
    "smcdiff_samples_neg_2 = torch.load('data/smcdiff_neg_2.pt')\n",
    "smcdiff_samples_pos_3 = torch.load('data/smcdiff_pos_3.pt')\n",
    "smcdiff_samples_neg_3 = torch.load('data/smcdiff_neg_3.pt')"
   ]
  },
  {
   "cell_type": "code",
   "execution_count": 47,
   "id": "classified-china",
   "metadata": {
    "scrolled": false
   },
   "outputs": [
    {
     "data": {
      "image/png": "[encoded data removed]",
      "text/plain": [
       "<Figure size 1440x1080 with 9 Axes>"
      ]
     },
     "metadata": {
      "needs_background": "light"
     },
     "output_type": "display_data"
    }
   ],
   "source": [
    "fig, axs = plt.subplots(ncols=3, nrows=3, figsize=(20, 15))\n",
    "\n",
    "def plot_row(s1,s2,s3,s4,s5,s6,s7,s8,row,title):\n",
    "    sns.kdeplot(actual_samples_0, color = 'green', ax = axs[row,0])\n",
    "    sns.histplot(s1[:,0], stat = 'density', color = 'green', ax = axs[row,0])\n",
    "    sns.kdeplot(actual_samples_pos, color = 'blue', ax = axs[row,0])\n",
    "    sns.histplot(s2[:,0], stat = 'density', color = 'blue', ax = axs[row,0])\n",
    "    sns.kdeplot(actual_samples_neg, color = 'red', ax = axs[row,0])\n",
    "    sns.histplot(s3[:,0], stat = 'density', color = 'red', ax = axs[row,0])\n",
    "\n",
    "    sns.kdeplot(actual_samples_0_2, color = 'green', ax = axs[row,1])\n",
    "    sns.histplot(s4[:,0], stat = 'density', color = 'green', ax = axs[row,1])\n",
    "    sns.kdeplot(actual_samples_pos_2, color = 'blue', ax = axs[row,1])\n",
    "    sns.histplot(s5[:,0], stat = 'density', color = 'blue', ax = axs[row,1])\n",
    "    sns.kdeplot(actual_samples_neg_2, color = 'red', ax = axs[row,1])\n",
    "    sns.histplot(s6[:,0], stat = 'density', color = 'red', ax = axs[row,1])\n",
    "\n",
    "    sns.kdeplot(actual_samples_pos_3, color = 'blue', ax = axs[row,2])\n",
    "    sns.histplot(s7[:,0], stat = 'density', color = 'blue', ax = axs[row,2])\n",
    "    sns.kdeplot(actual_samples_neg_3, color = 'red', ax = axs[row,2])\n",
    "    sns.histplot(s8[:,0], stat = 'density', color = 'red', ax = axs[row,2])\n",
    "\n",
    "    axs[row,0].set_title(title)\n",
    "    axs[row,1].set_title(title)\n",
    "    axs[row,2].set_title(title)\n",
    "    \n",
    "plot_row(cde_samples_0, cde_samples_pos, cde_samples_neg, \n",
    "         cde_samples_0_2, cde_samples_pos_2, cde_samples_neg_2,\n",
    "         cde_samples_pos_3, cde_samples_neg_3, 0, 'CDE')\n",
    "\n",
    "plot_row(cdiffe_samples_0, cdiffe_samples_pos, cdiffe_samples_neg, \n",
    "         cdiffe_samples_0_2, cdiffe_samples_pos_2, cdiffe_samples_neg_2,\n",
    "         cdiffe_samples_pos_3, cdiffe_samples_neg_3, 1, 'CDiffE')\n",
    "\n",
    "plot_row(smcdiff_samples_0, smcdiff_samples_pos, smcdiff_samples_neg, \n",
    "         smcdiff_samples_0_2, smcdiff_samples_pos_2, smcdiff_samples_neg_2,\n",
    "         smcdiff_samples_pos_3, smcdiff_samples_neg_3, 2, 'SMCDiff')"
   ]
  },
  {
   "cell_type": "code",
   "execution_count": 107,
   "id": "appropriate-jungle",
   "metadata": {},
   "outputs": [
    {
     "name": "stdout",
     "output_type": "stream",
     "text": [
      "0.29965214542585\n",
      "CDE: 0.15127044916152954\n",
      "Replacement: 0.2004857361316681\n",
      "SMCDiff: 0.13905742764472961\n"
     ]
    }
   ],
   "source": [
    "print(np.mean(actual_samples_0))\n",
    "print(f'CDE: {torch.mean(cde_samples_0)}')\n",
    "print(f'Replacement: {torch.mean(cdiffe_samples_0)}')\n",
    "print(f'SMCDiff: {torch.mean(smcdiff_samples_0)}')"
   ]
  },
  {
   "cell_type": "code",
   "execution_count": 108,
   "id": "comfortable-monthly",
   "metadata": {},
   "outputs": [
    {
     "name": "stdout",
     "output_type": "stream",
     "text": [
      "1.132915328763519\n",
      "CDE: 1.162000060081482\n",
      "Replacement: 1.1245893239974976\n",
      "SMCDiff: 1.1433902978897095\n"
     ]
    }
   ],
   "source": [
    "print(np.mean(actual_samples_pos))\n",
    "print(f'CDE: {torch.mean(cde_samples_pos)}')\n",
    "print(f'Replacement: {torch.mean(cdiffe_samples_pos)}')\n",
    "print(f'SMCDiff: {torch.mean(smcdiff_samples_pos)}')"
   ]
  },
  {
   "cell_type": "code",
   "execution_count": 109,
   "id": "proof-gates",
   "metadata": {},
   "outputs": [
    {
     "name": "stdout",
     "output_type": "stream",
     "text": [
      "-0.5335936244721803\n",
      "CDE: -0.8671630620956421\n",
      "Replacement: -0.8539907932281494\n",
      "SMCDiff: -0.8584296107292175\n"
     ]
    }
   ],
   "source": [
    "print(np.mean(actual_samples_neg))\n",
    "print(f'CDE: {torch.mean(cde_samples_neg)}')\n",
    "print(f'Replacement: {torch.mean(cdiffe_samples_neg)}')\n",
    "print(f'SMCDiff: {torch.mean(smcdiff_samples_neg)}')"
   ]
  },
  {
   "cell_type": "code",
   "execution_count": null,
   "id": "desperate-surname",
   "metadata": {},
   "outputs": [],
   "source": []
  },
  {
   "cell_type": "code",
   "execution_count": 110,
   "id": "greek-assembly",
   "metadata": {},
   "outputs": [
    {
     "name": "stdout",
     "output_type": "stream",
     "text": [
      "-0.0011139924175424154\n",
      "CDE: -0.0004396461008582264\n",
      "Replacement: 0.0518239364027977\n",
      "SMCDiff: -0.015829075127840042\n"
     ]
    }
   ],
   "source": [
    "print(np.mean(actual_samples_0_2))\n",
    "print(f'CDE: {torch.mean(cde_samples_0_2)}')\n",
    "print(f'Replacement: {torch.mean(cdiffe_samples_0_2)}')\n",
    "print(f'SMCDiff: {torch.mean(smcdiff_samples_0_2)}')"
   ]
  },
  {
   "cell_type": "code",
   "execution_count": 111,
   "id": "assisted-tutorial",
   "metadata": {},
   "outputs": [
    {
     "name": "stdout",
     "output_type": "stream",
     "text": [
      "0.8207492941315615\n",
      "CDE: 1.0078777074813843\n",
      "Replacement: 1.008090615272522\n",
      "SMCDiff: 1.0048093795776367\n"
     ]
    }
   ],
   "source": [
    "print(np.mean(actual_samples_pos_2))\n",
    "print(f'CDE: {torch.mean(cde_samples_pos_2)}')\n",
    "print(f'Replacement: {torch.mean(cdiffe_samples_pos_2)}')\n",
    "print(f'SMCDiff: {torch.mean(smcdiff_samples_pos_2)}')"
   ]
  },
  {
   "cell_type": "code",
   "execution_count": 112,
   "id": "metric-fence",
   "metadata": {},
   "outputs": [
    {
     "name": "stdout",
     "output_type": "stream",
     "text": [
      "-0.820888660566178\n",
      "CDE: -1.0096595287322998\n",
      "Replacement: -1.0242892503738403\n",
      "SMCDiff: -1.0115984678268433\n"
     ]
    }
   ],
   "source": [
    "print(np.mean(actual_samples_neg_2))\n",
    "print(f'CDE: {torch.mean(cde_samples_neg_2)}')\n",
    "print(f'Replacement: {torch.mean(cdiffe_samples_neg_2)}')\n",
    "print(f'SMCDiff: {torch.mean(smcdiff_samples_neg_2)}')"
   ]
  },
  {
   "cell_type": "code",
   "execution_count": null,
   "id": "environmental-affairs",
   "metadata": {},
   "outputs": [],
   "source": []
  },
  {
   "cell_type": "code",
   "execution_count": 113,
   "id": "elementary-lease",
   "metadata": {},
   "outputs": [
    {
     "name": "stdout",
     "output_type": "stream",
     "text": [
      "0.2503862510127431\n",
      "CDE: 0.7141533493995667\n",
      "Replacement: 0.7098875641822815\n",
      "SMCDiff: 0.7073259949684143\n"
     ]
    }
   ],
   "source": [
    "print(np.mean(actual_samples_pos_3))\n",
    "print(f'CDE: {torch.mean(cde_samples_pos_3)}')\n",
    "print(f'Replacement: {torch.mean(cdiffe_samples_pos_3)}')\n",
    "print(f'SMCDiff: {torch.mean(smcdiff_samples_pos_3)}')"
   ]
  },
  {
   "cell_type": "code",
   "execution_count": 114,
   "id": "complete-devon",
   "metadata": {},
   "outputs": [
    {
     "name": "stdout",
     "output_type": "stream",
     "text": [
      "-0.2505118441232006\n",
      "CDE: -0.7241255044937134\n",
      "Replacement: -0.7052574753761292\n",
      "SMCDiff: -0.7308341860771179\n"
     ]
    }
   ],
   "source": [
    "print(np.mean(actual_samples_neg_3))\n",
    "print(f'CDE: {torch.mean(cde_samples_neg_3)}')\n",
    "print(f'Replacement: {torch.mean(cdiffe_samples_neg_3)}')\n",
    "print(f'SMCDiff: {torch.mean(smcdiff_samples_neg_3)}')"
   ]
  },
  {
   "cell_type": "code",
   "execution_count": null,
   "id": "absent-jones",
   "metadata": {},
   "outputs": [],
   "source": []
  },
  {
   "cell_type": "code",
   "execution_count": null,
   "id": "brave-necklace",
   "metadata": {},
   "outputs": [],
   "source": []
  }
 ],
 "metadata": {
  "kernelspec": {
   "display_name": "Python 3",
   "language": "python",
   "name": "python3"
  },
  "language_info": {
   "codemirror_mode": {
    "name": "ipython",
    "version": 3
   },
   "file_extension": ".py",
   "mimetype": "text/x-python",
   "name": "python",
   "nbconvert_exporter": "python",
   "pygments_lexer": "ipython3",
   "version": "3.8.2"
  },
  "varInspector": {
   "cols": {
    "lenName": 16,
    "lenType": 16,
    "lenVar": 40
   },
   "kernels_config": {
    "python": {
     "delete_cmd_postfix": "",
     "delete_cmd_prefix": "del ",
     "library": "var_list.py",
     "varRefreshCmd": "print(var_dic_list())"
    },
    "r": {
     "delete_cmd_postfix": ") ",
     "delete_cmd_prefix": "rm(",
     "library": "var_list.r",
     "varRefreshCmd": "cat(var_dic_list()) "
    }
   },
   "types_to_exclude": [
    "module",
    "function",
    "builtin_function_or_method",
    "instance",
    "_Feature"
   ],
   "window_display": false
  }
 },
 "nbformat": 4,
 "nbformat_minor": 5
}
