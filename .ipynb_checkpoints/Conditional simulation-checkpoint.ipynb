{
 "cells": [
  {
   "cell_type": "code",
   "execution_count": 2,
   "id": "faced-antenna",
   "metadata": {},
   "outputs": [],
   "source": [
    "import torch\n",
    "import torch.nn as nn\n",
    "import torch.nn.functional as F\n",
    "import numpy as np\n",
    "import functools\n",
    "from sklearn import datasets\n",
    "import matplotlib.pyplot as plt\n",
    "from torch.optim import Adam\n",
    "from torch.utils.data import DataLoader\n",
    "from tqdm import notebook\n",
    "import seaborn as sns\n",
    "from ema_pytorch import EMA\n",
    "import math\n",
    "from torch.distributions import Normal \n",
    "\n",
    "#import models\n",
    "from models import ScoreNet_2D\n",
    "\n",
    "#import training fns\n",
    "from training import loss_fn, train_model, CDE_loss_fn_2D\n",
    "\n",
    "#import SDE functions\n",
    "from SDE import marginal_prob_std_fn_2D as marginal_prob_std_fn\n",
    "from SDE import diffusion_coeff_fn_2D as diffusion_coeff_fn\n",
    "\n",
    "#import sampling functions\n",
    "from sampling import Euler_Maruyama_sampler_2D as Euler_Maruyama_sampler\n",
    "from sampling import pc_sampler_2D as pc_sampler\n",
    "from sampling import ode_sampler_2D as ode_sampler\n",
    "from sampling import CDE_Euler_Maruyama_sampler_2D as CDE_Euler_Maruyama_sampler\n",
    "from sampling import CDE_pc_sampler_2D as CDE_pc_sampler\n",
    "from sampling import CDiffE_Euler_Maruyama_sampler_2D as CDiffE_Euler_Maruyama_sampler\n",
    "from sampling import CDiffE_pc_sampler_2D as CDiffE_pc_sampler\n",
    "from sampling import SMCDiff_Euler_Maruyama_sampler_2D as SMCDiff_Euler_Maruyama_sampler\n",
    "from sampling import SMCDiff_pc_sampler_2D as SMCDiff_pc_sampler"
   ]
  },
  {
   "cell_type": "markdown",
   "id": "canadian-zealand",
   "metadata": {},
   "source": [
    "# Unconditional generation"
   ]
  },
  {
   "cell_type": "markdown",
   "id": "official-winter",
   "metadata": {},
   "source": [
    "## Generate training datasets"
   ]
  },
  {
   "cell_type": "code",
   "execution_count": 27,
   "id": "chubby-cheese",
   "metadata": {},
   "outputs": [],
   "source": [
    "ex_1 = torch.load('data/ex_1.pt')\n",
    "ex_2 = torch.load('data/ex_2.pt')\n",
    "ex_3 = torch.load('data/ex_3.pt')"
   ]
  },
  {
   "cell_type": "code",
   "execution_count": 81,
   "id": "promotional-grain",
   "metadata": {},
   "outputs": [],
   "source": [
    "score_model = ScoreNet_2D(marginal_prob_std=marginal_prob_std_fn)"
   ]
  },
  {
   "cell_type": "code",
   "execution_count": 29,
   "id": "opening-aluminum",
   "metadata": {},
   "outputs": [
    {
     "data": {
      "text/plain": [
       "32210"
      ]
     },
     "execution_count": 29,
     "metadata": {},
     "output_type": "execute_result"
    }
   ],
   "source": [
    "sum(p.numel() for p in score_model.parameters())"
   ]
  },
  {
   "cell_type": "markdown",
   "id": "classical-pattern",
   "metadata": {},
   "source": [
    "## Train unconditional models"
   ]
  },
  {
   "cell_type": "code",
   "execution_count": 82,
   "id": "secret-therapy",
   "metadata": {},
   "outputs": [
    {
     "data": {
      "application/json": {
       "ascii": false,
       "bar_format": null,
       "colour": null,
       "elapsed": 0.0297698974609375,
       "initial": 0,
       "n": 0,
       "ncols": null,
       "nrows": null,
       "postfix": null,
       "prefix": "",
       "rate": null,
       "total": 100,
       "unit": "it",
       "unit_divisor": 1000,
       "unit_scale": false
      },
      "application/vnd.jupyter.widget-view+json": {
       "model_id": "c355dd4a90d34c68a226e0ee9ba14149",
       "version_major": 2,
       "version_minor": 0
      },
      "text/plain": [
       "  0%|          | 0/100 [00:00<?, ?it/s]"
      ]
     },
     "metadata": {},
     "output_type": "display_data"
    }
   ],
   "source": [
    "losses_1 = train_model(score_model, ex_1, loss_fn, marginal_prob_std_fn, 'ex_1_test.pth', epochs = 100, batch_size = 1000)"
   ]
  },
  {
   "cell_type": "code",
   "execution_count": 83,
   "id": "social-wildlife",
   "metadata": {},
   "outputs": [
    {
     "data": {
      "text/plain": [
       "[<matplotlib.lines.Line2D at 0x7f8555c91550>]"
      ]
     },
     "execution_count": 83,
     "metadata": {},
     "output_type": "execute_result"
    },
    {
     "data": {
      "image/png": "[encoded data removed]",
      "text/plain": [
       "<Figure size 432x288 with 1 Axes>"
      ]
     },
     "metadata": {
      "needs_background": "light"
     },
     "output_type": "display_data"
    }
   ],
   "source": [
    "plt.plot(losses_1)"
   ]
  },
  {
   "cell_type": "code",
   "execution_count": 40,
   "id": "electric-hypothesis",
   "metadata": {},
   "outputs": [],
   "source": [
    "score_model = ScoreNet_2D(marginal_prob_std=marginal_prob_std_fn)"
   ]
  },
  {
   "cell_type": "code",
   "execution_count": 41,
   "id": "horizontal-topic",
   "metadata": {},
   "outputs": [
    {
     "data": {
      "application/json": {
       "ascii": false,
       "bar_format": null,
       "colour": null,
       "elapsed": 0.026103973388671875,
       "initial": 0,
       "n": 0,
       "ncols": null,
       "nrows": null,
       "postfix": null,
       "prefix": "",
       "rate": null,
       "total": 100,
       "unit": "it",
       "unit_divisor": 1000,
       "unit_scale": false
      },
      "application/vnd.jupyter.widget-view+json": {
       "model_id": "99a346cdea9f4bb5bfdf99218f6a28c3",
       "version_major": 2,
       "version_minor": 0
      },
      "text/plain": [
       "  0%|          | 0/100 [00:00<?, ?it/s]"
      ]
     },
     "metadata": {},
     "output_type": "display_data"
    },
    {
     "name": "stderr",
     "output_type": "stream",
     "text": [
      "/Users/harryamad/Google Drive/2022/Dissertation/conditional_diffusion_simulation/SDE.py:16: UserWarning: To copy construct from a tensor, it is recommended to use sourceTensor.clone().detach() or sourceTensor.clone().detach().requires_grad_(True), rather than torch.tensor(sourceTensor).\n",
      "  t = torch.tensor(t)\n"
     ]
    }
   ],
   "source": [
    "losses_2 = train_model(score_model, ex_2, loss_fn, marginal_prob_std_fn, 'ex_2_test.pth', epochs = 100, batch_size = 64)"
   ]
  },
  {
   "cell_type": "code",
   "execution_count": 42,
   "id": "simplified-preliminary",
   "metadata": {},
   "outputs": [
    {
     "data": {
      "text/plain": [
       "[<matplotlib.lines.Line2D at 0x7f854f458250>]"
      ]
     },
     "execution_count": 42,
     "metadata": {},
     "output_type": "execute_result"
    },
    {
     "data": {
      "image/png": "[encoded data removed]",
      "text/plain": [
       "<Figure size 432x288 with 1 Axes>"
      ]
     },
     "metadata": {
      "needs_background": "light"
     },
     "output_type": "display_data"
    }
   ],
   "source": [
    "plt.plot(losses_2)"
   ]
  },
  {
   "cell_type": "code",
   "execution_count": 43,
   "id": "comprehensive-engineer",
   "metadata": {},
   "outputs": [],
   "source": [
    "score_model = ScoreNet_2D(marginal_prob_std=marginal_prob_std_fn)"
   ]
  },
  {
   "cell_type": "code",
   "execution_count": 44,
   "id": "guided-processor",
   "metadata": {},
   "outputs": [
    {
     "data": {
      "application/json": {
       "ascii": false,
       "bar_format": null,
       "colour": null,
       "elapsed": 0.02568984031677246,
       "initial": 0,
       "n": 0,
       "ncols": null,
       "nrows": null,
       "postfix": null,
       "prefix": "",
       "rate": null,
       "total": 100,
       "unit": "it",
       "unit_divisor": 1000,
       "unit_scale": false
      },
      "application/vnd.jupyter.widget-view+json": {
       "model_id": "b2defcc7ccec40a2b422ce3fc9ceb44d",
       "version_major": 2,
       "version_minor": 0
      },
      "text/plain": [
       "  0%|          | 0/100 [00:00<?, ?it/s]"
      ]
     },
     "metadata": {},
     "output_type": "display_data"
    }
   ],
   "source": [
    "losses_3 = train_model(score_model, ex_3, loss_fn, marginal_prob_std_fn, 'ex_3_test.pth', epochs = 100, batch_size = 64)"
   ]
  },
  {
   "cell_type": "code",
   "execution_count": 45,
   "id": "healthy-graphic",
   "metadata": {
    "scrolled": true
   },
   "outputs": [
    {
     "data": {
      "text/plain": [
       "[<matplotlib.lines.Line2D at 0x7f85539b9820>]"
      ]
     },
     "execution_count": 45,
     "metadata": {},
     "output_type": "execute_result"
    },
    {
     "data": {
      "image/png": "[encoded data removed]",
      "text/plain": [
       "<Figure size 432x288 with 1 Axes>"
      ]
     },
     "metadata": {
      "needs_background": "light"
     },
     "output_type": "display_data"
    }
   ],
   "source": [
    "plt.plot(losses_3)"
   ]
  },
  {
   "cell_type": "markdown",
   "id": "allied-selling",
   "metadata": {},
   "source": [
    "## Draw unconditional samples"
   ]
  },
  {
   "cell_type": "markdown",
   "id": "australian-crash",
   "metadata": {},
   "source": [
    "### Example 1"
   ]
  },
  {
   "cell_type": "code",
   "execution_count": 16,
   "id": "found-campaign",
   "metadata": {},
   "outputs": [
    {
     "data": {
      "text/plain": [
       "<All keys matched successfully>"
      ]
     },
     "execution_count": 16,
     "metadata": {},
     "output_type": "execute_result"
    }
   ],
   "source": [
    "ckpt = torch.load('models/ex_1.pth')\n",
    "score_model.load_state_dict(ckpt)"
   ]
  },
  {
   "cell_type": "code",
   "execution_count": 84,
   "id": "endless-nancy",
   "metadata": {},
   "outputs": [
    {
     "data": {
      "application/json": {
       "ascii": false,
       "bar_format": null,
       "colour": null,
       "elapsed": 0.026003122329711914,
       "initial": 0,
       "n": 0,
       "ncols": null,
       "nrows": null,
       "postfix": null,
       "prefix": "",
       "rate": null,
       "total": 1000,
       "unit": "it",
       "unit_divisor": 1000,
       "unit_scale": false
      },
      "application/vnd.jupyter.widget-view+json": {
       "model_id": "01d910f2d7004809ae6281c8c9053ae8",
       "version_major": 2,
       "version_minor": 0
      },
      "text/plain": [
       "  0%|          | 0/1000 [00:00<?, ?it/s]"
      ]
     },
     "metadata": {},
     "output_type": "display_data"
    },
    {
     "name": "stderr",
     "output_type": "stream",
     "text": [
      "/Users/harryamad/Google Drive/2022/Dissertation/conditional_diffusion_simulation/SDE.py:29: UserWarning: To copy construct from a tensor, it is recommended to use sourceTensor.clone().detach() or sourceTensor.clone().detach().requires_grad_(True), rather than torch.tensor(sourceTensor).\n",
      "  return torch.tensor(sigma**t)\n"
     ]
    }
   ],
   "source": [
    "pc_samples = pc_sampler(score_model, marginal_prob_std_fn, diffusion_coeff_fn, batch_size = 1000)"
   ]
  },
  {
   "cell_type": "code",
   "execution_count": 85,
   "id": "completed-microwave",
   "metadata": {},
   "outputs": [
    {
     "data": {
      "application/json": {
       "ascii": false,
       "bar_format": null,
       "colour": null,
       "elapsed": 0.026971101760864258,
       "initial": 0,
       "n": 0,
       "ncols": null,
       "nrows": null,
       "postfix": null,
       "prefix": "",
       "rate": null,
       "total": 1000,
       "unit": "it",
       "unit_divisor": 1000,
       "unit_scale": false
      },
      "application/vnd.jupyter.widget-view+json": {
       "model_id": "f61be5a4fdc04138ab526feb48b4442b",
       "version_major": 2,
       "version_minor": 0
      },
      "text/plain": [
       "  0%|          | 0/1000 [00:00<?, ?it/s]"
      ]
     },
     "metadata": {},
     "output_type": "display_data"
    }
   ],
   "source": [
    "e_m_samples = Euler_Maruyama_sampler(score_model, marginal_prob_std_fn, diffusion_coeff_fn, batch_size=1000)"
   ]
  },
  {
   "cell_type": "code",
   "execution_count": 86,
   "id": "awful-thunder",
   "metadata": {},
   "outputs": [
    {
     "name": "stdout",
     "output_type": "stream",
     "text": [
      "Number of function evaluations: 206\n"
     ]
    }
   ],
   "source": [
    "ode_samples = ode_sampler(score_model, marginal_prob_std_fn, diffusion_coeff_fn, batch_size=1000)"
   ]
  },
  {
   "cell_type": "code",
   "execution_count": 87,
   "id": "sexual-roommate",
   "metadata": {},
   "outputs": [
    {
     "data": {
      "text/plain": [
       "<matplotlib.collections.PathCollection at 0x7f85528fc910>"
      ]
     },
     "execution_count": 87,
     "metadata": {},
     "output_type": "execute_result"
    },
    {
     "data": {
      "image/png": "[encoded data removed]",
      "text/plain": [
       "<Figure size 432x288 with 1 Axes>"
      ]
     },
     "metadata": {
      "needs_background": "light"
     },
     "output_type": "display_data"
    }
   ],
   "source": [
    "plt.scatter(pc_samples[:,0], pc_samples[:,1])"
   ]
  },
  {
   "cell_type": "code",
   "execution_count": 88,
   "id": "weird-nurse",
   "metadata": {},
   "outputs": [
    {
     "data": {
      "text/plain": [
       "<matplotlib.collections.PathCollection at 0x7f8552b9ef70>"
      ]
     },
     "execution_count": 88,
     "metadata": {},
     "output_type": "execute_result"
    },
    {
     "data": {
      "image/png": "[encoded data removed]",
      "text/plain": [
       "<Figure size 432x288 with 1 Axes>"
      ]
     },
     "metadata": {
      "needs_background": "light"
     },
     "output_type": "display_data"
    }
   ],
   "source": [
    "plt.scatter(e_m_samples[:,0], e_m_samples[:,1])"
   ]
  },
  {
   "cell_type": "code",
   "execution_count": 89,
   "id": "reduced-therapist",
   "metadata": {},
   "outputs": [
    {
     "data": {
      "text/plain": [
       "<matplotlib.collections.PathCollection at 0x7f85555410d0>"
      ]
     },
     "execution_count": 89,
     "metadata": {},
     "output_type": "execute_result"
    },
    {
     "data": {
      "image/png": "[encoded data removed]",
      "text/plain": [
       "<Figure size 432x288 with 1 Axes>"
      ]
     },
     "metadata": {
      "needs_background": "light"
     },
     "output_type": "display_data"
    }
   ],
   "source": [
    "plt.scatter(ode_samples[:,0], ode_samples[:,1])"
   ]
  },
  {
   "cell_type": "markdown",
   "id": "covered-plant",
   "metadata": {},
   "source": [
    "### Example 2"
   ]
  },
  {
   "cell_type": "code",
   "execution_count": 46,
   "id": "eastern-harvard",
   "metadata": {},
   "outputs": [
    {
     "data": {
      "text/plain": [
       "<All keys matched successfully>"
      ]
     },
     "execution_count": 46,
     "metadata": {},
     "output_type": "execute_result"
    }
   ],
   "source": [
    "ckpt = torch.load('ex_2_test.pth')\n",
    "score_model.load_state_dict(ckpt)"
   ]
  },
  {
   "cell_type": "code",
   "execution_count": 47,
   "id": "expensive-cornwall",
   "metadata": {},
   "outputs": [
    {
     "data": {
      "application/json": {
       "ascii": false,
       "bar_format": null,
       "colour": null,
       "elapsed": 0.025805950164794922,
       "initial": 0,
       "n": 0,
       "ncols": null,
       "nrows": null,
       "postfix": null,
       "prefix": "",
       "rate": null,
       "total": 1000,
       "unit": "it",
       "unit_divisor": 1000,
       "unit_scale": false
      },
      "application/vnd.jupyter.widget-view+json": {
       "model_id": "cf48459eb2144339a66c4d8b704e8ca8",
       "version_major": 2,
       "version_minor": 0
      },
      "text/plain": [
       "  0%|          | 0/1000 [00:00<?, ?it/s]"
      ]
     },
     "metadata": {},
     "output_type": "display_data"
    },
    {
     "name": "stderr",
     "output_type": "stream",
     "text": [
      "/Users/harryamad/Google Drive/2022/Dissertation/conditional_diffusion_simulation/SDE.py:29: UserWarning: To copy construct from a tensor, it is recommended to use sourceTensor.clone().detach() or sourceTensor.clone().detach().requires_grad_(True), rather than torch.tensor(sourceTensor).\n",
      "  return torch.tensor(sigma**t)\n"
     ]
    }
   ],
   "source": [
    "pc_samples = pc_sampler(score_model, marginal_prob_std_fn, diffusion_coeff_fn, batch_size = 1000)"
   ]
  },
  {
   "cell_type": "code",
   "execution_count": 48,
   "id": "north-compensation",
   "metadata": {},
   "outputs": [
    {
     "data": {
      "application/json": {
       "ascii": false,
       "bar_format": null,
       "colour": null,
       "elapsed": 0.027117252349853516,
       "initial": 0,
       "n": 0,
       "ncols": null,
       "nrows": null,
       "postfix": null,
       "prefix": "",
       "rate": null,
       "total": 1000,
       "unit": "it",
       "unit_divisor": 1000,
       "unit_scale": false
      },
      "application/vnd.jupyter.widget-view+json": {
       "model_id": "d5c16225c8ab44d8a06619672544b446",
       "version_major": 2,
       "version_minor": 0
      },
      "text/plain": [
       "  0%|          | 0/1000 [00:00<?, ?it/s]"
      ]
     },
     "metadata": {},
     "output_type": "display_data"
    }
   ],
   "source": [
    "e_m_samples = Euler_Maruyama_sampler(score_model, marginal_prob_std_fn, diffusion_coeff_fn, batch_size=1000)"
   ]
  },
  {
   "cell_type": "code",
   "execution_count": 49,
   "id": "linear-thailand",
   "metadata": {},
   "outputs": [
    {
     "name": "stdout",
     "output_type": "stream",
     "text": [
      "Number of function evaluations: 236\n"
     ]
    }
   ],
   "source": [
    "ode_samples = ode_sampler(score_model, marginal_prob_std_fn, diffusion_coeff_fn, batch_size=1000)"
   ]
  },
  {
   "cell_type": "code",
   "execution_count": 50,
   "id": "international-purse",
   "metadata": {},
   "outputs": [
    {
     "data": {
      "text/plain": [
       "<matplotlib.collections.PathCollection at 0x7f855412b370>"
      ]
     },
     "execution_count": 50,
     "metadata": {},
     "output_type": "execute_result"
    },
    {
     "data": {
      "image/png": "[encoded data removed]",
      "text/plain": [
       "<Figure size 432x288 with 1 Axes>"
      ]
     },
     "metadata": {
      "needs_background": "light"
     },
     "output_type": "display_data"
    }
   ],
   "source": [
    "plt.scatter(pc_samples[:,0], pc_samples[:,1])"
   ]
  },
  {
   "cell_type": "code",
   "execution_count": 51,
   "id": "automated-throw",
   "metadata": {},
   "outputs": [
    {
     "data": {
      "text/plain": [
       "<matplotlib.collections.PathCollection at 0x7f854f494460>"
      ]
     },
     "execution_count": 51,
     "metadata": {},
     "output_type": "execute_result"
    },
    {
     "data": {
      "image/png": "[encoded data removed]",
      "text/plain": [
       "<Figure size 432x288 with 1 Axes>"
      ]
     },
     "metadata": {
      "needs_background": "light"
     },
     "output_type": "display_data"
    }
   ],
   "source": [
    "plt.scatter(e_m_samples[:,0], e_m_samples[:,1])"
   ]
  },
  {
   "cell_type": "code",
   "execution_count": 52,
   "id": "serious-symphony",
   "metadata": {},
   "outputs": [
    {
     "data": {
      "text/plain": [
       "<matplotlib.collections.PathCollection at 0x7f85540f9b80>"
      ]
     },
     "execution_count": 52,
     "metadata": {},
     "output_type": "execute_result"
    },
    {
     "data": {
      "image/png": "[encoded data removed]",
      "text/plain": [
       "<Figure size 432x288 with 1 Axes>"
      ]
     },
     "metadata": {
      "needs_background": "light"
     },
     "output_type": "display_data"
    }
   ],
   "source": [
    "plt.scatter(ode_samples[:,0], ode_samples[:,1])"
   ]
  },
  {
   "cell_type": "markdown",
   "id": "educated-australian",
   "metadata": {},
   "source": [
    "### Example 3"
   ]
  },
  {
   "cell_type": "code",
   "execution_count": 53,
   "id": "brown-preference",
   "metadata": {},
   "outputs": [
    {
     "data": {
      "text/plain": [
       "<All keys matched successfully>"
      ]
     },
     "execution_count": 53,
     "metadata": {},
     "output_type": "execute_result"
    }
   ],
   "source": [
    "ckpt = torch.load('ex_3_test.pth')\n",
    "score_model.load_state_dict(ckpt)"
   ]
  },
  {
   "cell_type": "code",
   "execution_count": 54,
   "id": "chemical-guinea",
   "metadata": {},
   "outputs": [
    {
     "data": {
      "application/json": {
       "ascii": false,
       "bar_format": null,
       "colour": null,
       "elapsed": 0.02618098258972168,
       "initial": 0,
       "n": 0,
       "ncols": null,
       "nrows": null,
       "postfix": null,
       "prefix": "",
       "rate": null,
       "total": 1000,
       "unit": "it",
       "unit_divisor": 1000,
       "unit_scale": false
      },
      "application/vnd.jupyter.widget-view+json": {
       "model_id": "41c4d44ceae945fb874c1b0ac4c3bca0",
       "version_major": 2,
       "version_minor": 0
      },
      "text/plain": [
       "  0%|          | 0/1000 [00:00<?, ?it/s]"
      ]
     },
     "metadata": {},
     "output_type": "display_data"
    }
   ],
   "source": [
    "pc_samples = pc_sampler(score_model, marginal_prob_std_fn, diffusion_coeff_fn, batch_size = 1000)"
   ]
  },
  {
   "cell_type": "code",
   "execution_count": 55,
   "id": "unsigned-letter",
   "metadata": {},
   "outputs": [
    {
     "data": {
      "application/json": {
       "ascii": false,
       "bar_format": null,
       "colour": null,
       "elapsed": 0.027944087982177734,
       "initial": 0,
       "n": 0,
       "ncols": null,
       "nrows": null,
       "postfix": null,
       "prefix": "",
       "rate": null,
       "total": 1000,
       "unit": "it",
       "unit_divisor": 1000,
       "unit_scale": false
      },
      "application/vnd.jupyter.widget-view+json": {
       "model_id": "97d772e3ef3c4fffa78887f2d4b9d2bb",
       "version_major": 2,
       "version_minor": 0
      },
      "text/plain": [
       "  0%|          | 0/1000 [00:00<?, ?it/s]"
      ]
     },
     "metadata": {},
     "output_type": "display_data"
    }
   ],
   "source": [
    "e_m_samples = Euler_Maruyama_sampler(score_model, marginal_prob_std_fn, diffusion_coeff_fn, batch_size=1000)"
   ]
  },
  {
   "cell_type": "code",
   "execution_count": 56,
   "id": "developmental-rover",
   "metadata": {},
   "outputs": [
    {
     "name": "stdout",
     "output_type": "stream",
     "text": [
      "Number of function evaluations: 236\n"
     ]
    }
   ],
   "source": [
    "ode_samples = ode_sampler(score_model, marginal_prob_std_fn, diffusion_coeff_fn, batch_size=1000)"
   ]
  },
  {
   "cell_type": "code",
   "execution_count": 57,
   "id": "eight-touch",
   "metadata": {},
   "outputs": [
    {
     "data": {
      "text/plain": [
       "<matplotlib.collections.PathCollection at 0x7f855388bc10>"
      ]
     },
     "execution_count": 57,
     "metadata": {},
     "output_type": "execute_result"
    },
    {
     "data": {
      "image/png": "[encoded data removed]",
      "text/plain": [
       "<Figure size 432x288 with 1 Axes>"
      ]
     },
     "metadata": {
      "needs_background": "light"
     },
     "output_type": "display_data"
    }
   ],
   "source": [
    "plt.scatter(pc_samples[:,0], pc_samples[:,1])"
   ]
  },
  {
   "cell_type": "code",
   "execution_count": 58,
   "id": "atlantic-criterion",
   "metadata": {},
   "outputs": [
    {
     "data": {
      "text/plain": [
       "<matplotlib.collections.PathCollection at 0x7f8553121100>"
      ]
     },
     "execution_count": 58,
     "metadata": {},
     "output_type": "execute_result"
    },
    {
     "data": {
      "image/png": "[encoded data removed]",
      "text/plain": [
       "<Figure size 432x288 with 1 Axes>"
      ]
     },
     "metadata": {
      "needs_background": "light"
     },
     "output_type": "display_data"
    }
   ],
   "source": [
    "plt.scatter(e_m_samples[:,0], e_m_samples[:,1])"
   ]
  },
  {
   "cell_type": "code",
   "execution_count": 59,
   "id": "prepared-cambridge",
   "metadata": {},
   "outputs": [
    {
     "data": {
      "text/plain": [
       "<matplotlib.collections.PathCollection at 0x7f85540fba30>"
      ]
     },
     "execution_count": 59,
     "metadata": {},
     "output_type": "execute_result"
    },
    {
     "data": {
      "image/png": "[encoded data removed]",
      "text/plain": [
       "<Figure size 432x288 with 1 Axes>"
      ]
     },
     "metadata": {
      "needs_background": "light"
     },
     "output_type": "display_data"
    }
   ],
   "source": [
    "plt.scatter(ode_samples[:,0], ode_samples[:,1])"
   ]
  },
  {
   "cell_type": "markdown",
   "id": "raised-welcome",
   "metadata": {},
   "source": [
    "<hr style=\"border:4px solid black\">"
   ]
  },
  {
   "cell_type": "markdown",
   "id": "external-consumption",
   "metadata": {},
   "source": [
    "# Conditional generation"
   ]
  },
  {
   "cell_type": "markdown",
   "id": "another-central",
   "metadata": {},
   "source": [
    "## Generate testing datasets"
   ]
  },
  {
   "cell_type": "code",
   "execution_count": 3,
   "id": "intimate-hindu",
   "metadata": {},
   "outputs": [],
   "source": [
    "actual_samples_pos = np.random.gamma(1,0.3, size = 100000) + np.tanh(1.2)\n",
    "actual_samples_0 = np.random.gamma(1,0.3, size = 100000) + np.tanh(0)\n",
    "actual_samples_neg = np.random.gamma(1,0.3, size = 100000) + np.tanh(-1.2)"
   ]
  },
  {
   "cell_type": "code",
   "execution_count": 4,
   "id": "smart-fairy",
   "metadata": {},
   "outputs": [],
   "source": [
    "actual_samples_pos_2 = np.tanh(np.random.normal(0,np.sqrt(0.05), size = 100000) + 1.2)\n",
    "actual_samples_0_2 = np.tanh(np.random.normal(0,np.sqrt(0.05), size = 100000) + 0)\n",
    "actual_samples_neg_2 = np.tanh(np.random.normal(0,np.sqrt(0.05), size = 100000) - 1.2)"
   ]
  },
  {
   "cell_type": "code",
   "execution_count": 5,
   "id": "secret-subscriber",
   "metadata": {},
   "outputs": [],
   "source": [
    "actual_samples_pos_3 = np.random.gamma(1,0.3, size=100000) * np.tanh(1.2)\n",
    "actual_samples_neg_3 = np.random.gamma(1,0.3, size=100000) * np.tanh(-1.2)"
   ]
  },
  {
   "cell_type": "markdown",
   "id": "informational-strap",
   "metadata": {},
   "source": [
    "## Train conditional model"
   ]
  },
  {
   "cell_type": "markdown",
   "id": "boxed-talent",
   "metadata": {},
   "source": [
    "Have a bunch of training points (x,y). Then only forward diffuse the x components, so we get to (x_N, y). Then train NN to approximate the score with inputs (x_t, y, t), and the same loss as the unconditional method."
   ]
  },
  {
   "cell_type": "code",
   "execution_count": 3,
   "id": "driven-integration",
   "metadata": {},
   "outputs": [],
   "source": [
    "score_model = ScoreNet_2D(marginal_prob_std=marginal_prob_std_fn)"
   ]
  },
  {
   "cell_type": "code",
   "execution_count": 4,
   "id": "adaptive-printer",
   "metadata": {},
   "outputs": [
    {
     "data": {
      "application/json": {
       "ascii": false,
       "bar_format": null,
       "colour": null,
       "elapsed": 0.03710317611694336,
       "initial": 0,
       "n": 0,
       "ncols": null,
       "nrows": null,
       "postfix": null,
       "prefix": "",
       "rate": null,
       "total": 10,
       "unit": "it",
       "unit_divisor": 1000,
       "unit_scale": false
      },
      "application/vnd.jupyter.widget-view+json": {
       "model_id": "8a480104f001413aab8b584e2a06a4d9",
       "version_major": 2,
       "version_minor": 0
      },
      "text/plain": [
       "  0%|          | 0/10 [00:00<?, ?it/s]"
      ]
     },
     "metadata": {},
     "output_type": "display_data"
    },
    {
     "name": "stderr",
     "output_type": "stream",
     "text": [
      "/Users/harryamad/Google Drive/2022/Dissertation/conditional_diffusion_simulation/SDE.py:16: UserWarning: To copy construct from a tensor, it is recommended to use sourceTensor.clone().detach() or sourceTensor.clone().detach().requires_grad_(True), rather than torch.tensor(sourceTensor).\n",
      "  t = torch.tensor(t)\n"
     ]
    }
   ],
   "source": [
    "losses_1 = train_model(score_model, ex_1, CDE_loss_fn_2D, marginal_prob_std_fn, 'cde_1_test.pth', epochs = 10, batch_size = 1000)"
   ]
  },
  {
   "cell_type": "code",
   "execution_count": 5,
   "id": "equipped-caribbean",
   "metadata": {},
   "outputs": [
    {
     "data": {
      "text/plain": [
       "[<matplotlib.lines.Line2D at 0x7fc3bad27700>]"
      ]
     },
     "execution_count": 5,
     "metadata": {},
     "output_type": "execute_result"
    },
    {
     "data": {
      "image/png": "[encoded data removed]",
      "text/plain": [
       "<Figure size 432x288 with 1 Axes>"
      ]
     },
     "metadata": {
      "needs_background": "light"
     },
     "output_type": "display_data"
    }
   ],
   "source": [
    "plt.plot(losses_1)"
   ]
  },
  {
   "cell_type": "code",
   "execution_count": 6,
   "id": "golden-honduras",
   "metadata": {},
   "outputs": [],
   "source": [
    "score_model = ScoreNet_2D(marginal_prob_std=marginal_prob_std_fn)"
   ]
  },
  {
   "cell_type": "code",
   "execution_count": 7,
   "id": "sensitive-toyota",
   "metadata": {},
   "outputs": [
    {
     "data": {
      "application/json": {
       "ascii": false,
       "bar_format": null,
       "colour": null,
       "elapsed": 0.02681708335876465,
       "initial": 0,
       "n": 0,
       "ncols": null,
       "nrows": null,
       "postfix": null,
       "prefix": "",
       "rate": null,
       "total": 10,
       "unit": "it",
       "unit_divisor": 1000,
       "unit_scale": false
      },
      "application/vnd.jupyter.widget-view+json": {
       "model_id": "552c2f94021f424d90814942268eeeae",
       "version_major": 2,
       "version_minor": 0
      },
      "text/plain": [
       "  0%|          | 0/10 [00:00<?, ?it/s]"
      ]
     },
     "metadata": {},
     "output_type": "display_data"
    }
   ],
   "source": [
    "losses_2 = train_model(score_model, ex_2, CDE_loss_fn_2D, marginal_prob_std_fn, 'cde_2_test.pth', epochs = 10, batch_size = 1000)"
   ]
  },
  {
   "cell_type": "code",
   "execution_count": 8,
   "id": "quarterly-portland",
   "metadata": {},
   "outputs": [
    {
     "data": {
      "text/plain": [
       "[<matplotlib.lines.Line2D at 0x7fc3bac87ee0>]"
      ]
     },
     "execution_count": 8,
     "metadata": {},
     "output_type": "execute_result"
    },
    {
     "data": {
      "image/png": "[encoded data removed]",
      "text/plain": [
       "<Figure size 432x288 with 1 Axes>"
      ]
     },
     "metadata": {
      "needs_background": "light"
     },
     "output_type": "display_data"
    }
   ],
   "source": [
    "plt.plot(losses_2)"
   ]
  },
  {
   "cell_type": "code",
   "execution_count": 7,
   "id": "dirty-eight",
   "metadata": {},
   "outputs": [],
   "source": [
    "score_model = ScoreNet_2D(marginal_prob_std=marginal_prob_std_fn)"
   ]
  },
  {
   "cell_type": "code",
   "execution_count": 10,
   "id": "yellow-welding",
   "metadata": {},
   "outputs": [
    {
     "data": {
      "application/json": {
       "ascii": false,
       "bar_format": null,
       "colour": null,
       "elapsed": 0.026101112365722656,
       "initial": 0,
       "n": 0,
       "ncols": null,
       "nrows": null,
       "postfix": null,
       "prefix": "",
       "rate": null,
       "total": 10,
       "unit": "it",
       "unit_divisor": 1000,
       "unit_scale": false
      },
      "application/vnd.jupyter.widget-view+json": {
       "model_id": "3e0e1ab805dc4185863605f3595ef433",
       "version_major": 2,
       "version_minor": 0
      },
      "text/plain": [
       "  0%|          | 0/10 [00:00<?, ?it/s]"
      ]
     },
     "metadata": {},
     "output_type": "display_data"
    }
   ],
   "source": [
    "losses_3 = train_model(score_model, ex_3, CDE_loss_fn_2D, marginal_prob_std_fn, 'cde_3_test.pth', epochs = 10, batch_size = 1000)"
   ]
  },
  {
   "cell_type": "code",
   "execution_count": 11,
   "id": "bright-property",
   "metadata": {
    "scrolled": true
   },
   "outputs": [
    {
     "data": {
      "text/plain": [
       "[<matplotlib.lines.Line2D at 0x7fc3bacfad30>]"
      ]
     },
     "execution_count": 11,
     "metadata": {},
     "output_type": "execute_result"
    },
    {
     "data": {
      "image/png": "[encoded data removed]",
      "text/plain": [
       "<Figure size 432x288 with 1 Axes>"
      ]
     },
     "metadata": {
      "needs_background": "light"
     },
     "output_type": "display_data"
    }
   ],
   "source": [
    "plt.plot(losses_3)"
   ]
  },
  {
   "cell_type": "markdown",
   "id": "responsible-tutorial",
   "metadata": {},
   "source": [
    "## Draw CDE samples"
   ]
  },
  {
   "cell_type": "markdown",
   "id": "increased-egypt",
   "metadata": {},
   "source": [
    "### Example 1"
   ]
  },
  {
   "cell_type": "code",
   "execution_count": 8,
   "id": "twelve-dryer",
   "metadata": {},
   "outputs": [
    {
     "name": "stderr",
     "output_type": "stream",
     "text": [
      "/Users/harryamad/Google Drive/2022/Dissertation/conditional_diffusion_simulation/SDE.py:16: UserWarning: To copy construct from a tensor, it is recommended to use sourceTensor.clone().detach() or sourceTensor.clone().detach().requires_grad_(True), rather than torch.tensor(sourceTensor).\n",
      "  t = torch.tensor(t)\n"
     ]
    },
    {
     "data": {
      "application/json": {
       "ascii": false,
       "bar_format": null,
       "colour": null,
       "elapsed": 0.03508400917053223,
       "initial": 0,
       "n": 0,
       "ncols": null,
       "nrows": null,
       "postfix": null,
       "prefix": "",
       "rate": null,
       "total": 1000,
       "unit": "it",
       "unit_divisor": 1000,
       "unit_scale": false
      },
      "application/vnd.jupyter.widget-view+json": {
       "model_id": "",
       "version_major": 2,
       "version_minor": 0
      },
      "text/plain": [
       "  0%|          | 0/1000 [00:00<?, ?it/s]"
      ]
     },
     "metadata": {},
     "output_type": "display_data"
    },
    {
     "name": "stderr",
     "output_type": "stream",
     "text": [
      "/Users/harryamad/Google Drive/2022/Dissertation/conditional_diffusion_simulation/SDE.py:29: UserWarning: To copy construct from a tensor, it is recommended to use sourceTensor.clone().detach() or sourceTensor.clone().detach().requires_grad_(True), rather than torch.tensor(sourceTensor).\n",
      "  return torch.tensor(sigma**t)\n"
     ]
    },
    {
     "data": {
      "application/json": {
       "ascii": false,
       "bar_format": null,
       "colour": null,
       "elapsed": 0.028317928314208984,
       "initial": 0,
       "n": 0,
       "ncols": null,
       "nrows": null,
       "postfix": null,
       "prefix": "",
       "rate": null,
       "total": 1000,
       "unit": "it",
       "unit_divisor": 1000,
       "unit_scale": false
      },
      "application/vnd.jupyter.widget-view+json": {
       "model_id": "",
       "version_major": 2,
       "version_minor": 0
      },
      "text/plain": [
       "  0%|          | 0/1000 [00:00<?, ?it/s]"
      ]
     },
     "metadata": {},
     "output_type": "display_data"
    },
    {
     "data": {
      "application/json": {
       "ascii": false,
       "bar_format": null,
       "colour": null,
       "elapsed": 0.025557994842529297,
       "initial": 0,
       "n": 0,
       "ncols": null,
       "nrows": null,
       "postfix": null,
       "prefix": "",
       "rate": null,
       "total": 1000,
       "unit": "it",
       "unit_divisor": 1000,
       "unit_scale": false
      },
      "application/vnd.jupyter.widget-view+json": {
       "model_id": "",
       "version_major": 2,
       "version_minor": 0
      },
      "text/plain": [
       "  0%|          | 0/1000 [00:00<?, ?it/s]"
      ]
     },
     "metadata": {},
     "output_type": "display_data"
    }
   ],
   "source": [
    "ckpt = torch.load('models/cde_1.pth')\n",
    "score_model.load_state_dict(ckpt)\n",
    "cde_samples_0 = CDE_Euler_Maruyama_sampler(score_model, \n",
    "                           marginal_prob_std_fn,\n",
    "                           diffusion_coeff_fn, \n",
    "                           y_obs = torch.tensor(0, dtype = torch.float32), batch_size = 1000)\n",
    "cde_samples_pos = CDE_Euler_Maruyama_sampler(score_model, \n",
    "                           marginal_prob_std_fn,\n",
    "                           diffusion_coeff_fn, \n",
    "                           y_obs = torch.tensor(1.2, dtype = torch.float32), batch_size = 1000)\n",
    "cde_samples_neg = CDE_Euler_Maruyama_sampler(score_model, \n",
    "                           marginal_prob_std_fn,\n",
    "                           diffusion_coeff_fn, \n",
    "                           y_obs = torch.tensor(-1.2, dtype = torch.float32), batch_size = 1000)"
   ]
  },
  {
   "cell_type": "code",
   "execution_count": 9,
   "id": "sitting-theology",
   "metadata": {
    "scrolled": false
   },
   "outputs": [
    {
     "data": {
      "text/plain": [
       "<matplotlib.axes._subplots.AxesSubplot at 0x7f85636fa2b0>"
      ]
     },
     "execution_count": 9,
     "metadata": {},
     "output_type": "execute_result"
    },
    {
     "data": {
      "image/png": "[encoded data removed]",
      "text/plain": [
       "<Figure size 432x288 with 1 Axes>"
      ]
     },
     "metadata": {
      "needs_background": "light"
     },
     "output_type": "display_data"
    }
   ],
   "source": [
    "sns.kdeplot(actual_samples_0, color = 'green')\n",
    "sns.histplot(cde_samples_0[:,0], stat = 'density', color = 'green')\n",
    "sns.kdeplot(actual_samples_pos, color = 'blue')\n",
    "sns.histplot(cde_samples_pos[:,0], stat = 'density', color = 'blue')\n",
    "sns.kdeplot(actual_samples_neg, color = 'red')\n",
    "sns.histplot(cde_samples_neg[:,0], stat = 'density', color = 'red')"
   ]
  },
  {
   "cell_type": "markdown",
   "id": "center-female",
   "metadata": {},
   "source": [
    "### Example 2"
   ]
  },
  {
   "cell_type": "code",
   "execution_count": 10,
   "id": "chicken-helmet",
   "metadata": {},
   "outputs": [
    {
     "name": "stderr",
     "output_type": "stream",
     "text": [
      "/Users/harryamad/Google Drive/2022/Dissertation/conditional_diffusion_simulation/SDE.py:16: UserWarning: To copy construct from a tensor, it is recommended to use sourceTensor.clone().detach() or sourceTensor.clone().detach().requires_grad_(True), rather than torch.tensor(sourceTensor).\n",
      "  t = torch.tensor(t)\n"
     ]
    },
    {
     "data": {
      "application/json": {
       "ascii": false,
       "bar_format": null,
       "colour": null,
       "elapsed": 0.02540278434753418,
       "initial": 0,
       "n": 0,
       "ncols": null,
       "nrows": null,
       "postfix": null,
       "prefix": "",
       "rate": null,
       "total": 1000,
       "unit": "it",
       "unit_divisor": 1000,
       "unit_scale": false
      },
      "application/vnd.jupyter.widget-view+json": {
       "model_id": "",
       "version_major": 2,
       "version_minor": 0
      },
      "text/plain": [
       "  0%|          | 0/1000 [00:00<?, ?it/s]"
      ]
     },
     "metadata": {},
     "output_type": "display_data"
    },
    {
     "name": "stderr",
     "output_type": "stream",
     "text": [
      "/Users/harryamad/Google Drive/2022/Dissertation/conditional_diffusion_simulation/SDE.py:29: UserWarning: To copy construct from a tensor, it is recommended to use sourceTensor.clone().detach() or sourceTensor.clone().detach().requires_grad_(True), rather than torch.tensor(sourceTensor).\n",
      "  return torch.tensor(sigma**t)\n"
     ]
    },
    {
     "data": {
      "application/json": {
       "ascii": false,
       "bar_format": null,
       "colour": null,
       "elapsed": 0.024883270263671875,
       "initial": 0,
       "n": 0,
       "ncols": null,
       "nrows": null,
       "postfix": null,
       "prefix": "",
       "rate": null,
       "total": 1000,
       "unit": "it",
       "unit_divisor": 1000,
       "unit_scale": false
      },
      "application/vnd.jupyter.widget-view+json": {
       "model_id": "",
       "version_major": 2,
       "version_minor": 0
      },
      "text/plain": [
       "  0%|          | 0/1000 [00:00<?, ?it/s]"
      ]
     },
     "metadata": {},
     "output_type": "display_data"
    },
    {
     "data": {
      "application/json": {
       "ascii": false,
       "bar_format": null,
       "colour": null,
       "elapsed": 0.027469873428344727,
       "initial": 0,
       "n": 0,
       "ncols": null,
       "nrows": null,
       "postfix": null,
       "prefix": "",
       "rate": null,
       "total": 1000,
       "unit": "it",
       "unit_divisor": 1000,
       "unit_scale": false
      },
      "application/vnd.jupyter.widget-view+json": {
       "model_id": "",
       "version_major": 2,
       "version_minor": 0
      },
      "text/plain": [
       "  0%|          | 0/1000 [00:00<?, ?it/s]"
      ]
     },
     "metadata": {},
     "output_type": "display_data"
    }
   ],
   "source": [
    "ckpt = torch.load('models/cde_2.pth')\n",
    "score_model.load_state_dict(ckpt)\n",
    "cde_samples_0_2 = CDE_Euler_Maruyama_sampler(score_model, \n",
    "                           marginal_prob_std_fn,\n",
    "                           diffusion_coeff_fn, \n",
    "                           y_obs = torch.tensor(0, dtype = torch.float32), batch_size = 1000)\n",
    "cde_samples_pos_2 = CDE_Euler_Maruyama_sampler(score_model, \n",
    "                           marginal_prob_std_fn,\n",
    "                           diffusion_coeff_fn, \n",
    "                           y_obs = torch.tensor(1.2, dtype = torch.float32), batch_size = 1000)\n",
    "cde_samples_neg_2 = CDE_Euler_Maruyama_sampler(score_model, \n",
    "                           marginal_prob_std_fn,\n",
    "                           diffusion_coeff_fn, \n",
    "                           y_obs = torch.tensor(-1.2, dtype = torch.float32), batch_size = 1000)"
   ]
  },
  {
   "cell_type": "code",
   "execution_count": 11,
   "id": "dress-hindu",
   "metadata": {
    "scrolled": true
   },
   "outputs": [
    {
     "data": {
      "text/plain": [
       "<matplotlib.axes._subplots.AxesSubplot at 0x7f854fa5d580>"
      ]
     },
     "execution_count": 11,
     "metadata": {},
     "output_type": "execute_result"
    },
    {
     "data": {
      "image/png": "[encoded data removed]",
      "text/plain": [
       "<Figure size 432x288 with 1 Axes>"
      ]
     },
     "metadata": {
      "needs_background": "light"
     },
     "output_type": "display_data"
    }
   ],
   "source": [
    "sns.kdeplot(actual_samples_0_2, color = 'green')\n",
    "sns.histplot(cde_samples_0_2[:,0], stat = 'density', color = 'green')\n",
    "sns.kdeplot(actual_samples_pos_2, color = 'blue')\n",
    "sns.histplot(cde_samples_pos_2[:,0], stat = 'density', color = 'blue')\n",
    "sns.kdeplot(actual_samples_neg_2, color = 'red')\n",
    "sns.histplot(cde_samples_neg_2[:,0], stat = 'density', color = 'red')"
   ]
  },
  {
   "cell_type": "markdown",
   "id": "equal-utilization",
   "metadata": {},
   "source": [
    "### Example 3"
   ]
  },
  {
   "cell_type": "code",
   "execution_count": 12,
   "id": "bacterial-disco",
   "metadata": {},
   "outputs": [
    {
     "name": "stderr",
     "output_type": "stream",
     "text": [
      "/Users/harryamad/Google Drive/2022/Dissertation/conditional_diffusion_simulation/SDE.py:16: UserWarning: To copy construct from a tensor, it is recommended to use sourceTensor.clone().detach() or sourceTensor.clone().detach().requires_grad_(True), rather than torch.tensor(sourceTensor).\n",
      "  t = torch.tensor(t)\n"
     ]
    },
    {
     "data": {
      "application/json": {
       "ascii": false,
       "bar_format": null,
       "colour": null,
       "elapsed": 0.027611970901489258,
       "initial": 0,
       "n": 0,
       "ncols": null,
       "nrows": null,
       "postfix": null,
       "prefix": "",
       "rate": null,
       "total": 1000,
       "unit": "it",
       "unit_divisor": 1000,
       "unit_scale": false
      },
      "application/vnd.jupyter.widget-view+json": {
       "model_id": "",
       "version_major": 2,
       "version_minor": 0
      },
      "text/plain": [
       "  0%|          | 0/1000 [00:00<?, ?it/s]"
      ]
     },
     "metadata": {},
     "output_type": "display_data"
    },
    {
     "name": "stderr",
     "output_type": "stream",
     "text": [
      "/Users/harryamad/Google Drive/2022/Dissertation/conditional_diffusion_simulation/SDE.py:29: UserWarning: To copy construct from a tensor, it is recommended to use sourceTensor.clone().detach() or sourceTensor.clone().detach().requires_grad_(True), rather than torch.tensor(sourceTensor).\n",
      "  return torch.tensor(sigma**t)\n"
     ]
    },
    {
     "data": {
      "application/json": {
       "ascii": false,
       "bar_format": null,
       "colour": null,
       "elapsed": 0.027385950088500977,
       "initial": 0,
       "n": 0,
       "ncols": null,
       "nrows": null,
       "postfix": null,
       "prefix": "",
       "rate": null,
       "total": 1000,
       "unit": "it",
       "unit_divisor": 1000,
       "unit_scale": false
      },
      "application/vnd.jupyter.widget-view+json": {
       "model_id": "",
       "version_major": 2,
       "version_minor": 0
      },
      "text/plain": [
       "  0%|          | 0/1000 [00:00<?, ?it/s]"
      ]
     },
     "metadata": {},
     "output_type": "display_data"
    }
   ],
   "source": [
    "ckpt = torch.load('models/cde_3.pth')\n",
    "score_model.load_state_dict(ckpt)\n",
    "\n",
    "cde_samples_pos_3 = CDE_Euler_Maruyama_sampler(score_model, \n",
    "                           marginal_prob_std_fn,\n",
    "                           diffusion_coeff_fn, \n",
    "                           y_obs = torch.tensor(1.2, dtype = torch.float32), batch_size = 1000)\n",
    "cde_samples_neg_3 = CDE_Euler_Maruyama_sampler(score_model, \n",
    "                           marginal_prob_std_fn,\n",
    "                           diffusion_coeff_fn, \n",
    "                           y_obs = torch.tensor(-1.2, dtype = torch.float32), batch_size = 1000)"
   ]
  },
  {
   "cell_type": "code",
   "execution_count": 13,
   "id": "hundred-childhood",
   "metadata": {
    "scrolled": false
   },
   "outputs": [
    {
     "data": {
      "text/plain": [
       "<matplotlib.axes._subplots.AxesSubplot at 0x7f855000b220>"
      ]
     },
     "execution_count": 13,
     "metadata": {},
     "output_type": "execute_result"
    },
    {
     "data": {
      "image/png": "[encoded data removed]",
      "text/plain": [
       "<Figure size 432x288 with 1 Axes>"
      ]
     },
     "metadata": {
      "needs_background": "light"
     },
     "output_type": "display_data"
    }
   ],
   "source": [
    "sns.kdeplot(actual_samples_pos_3, color = 'blue')\n",
    "sns.histplot(cde_samples_pos_3[:,0], stat = 'density', color = 'blue')\n",
    "sns.kdeplot(actual_samples_neg_3, color = 'red')\n",
    "sns.histplot(cde_samples_neg_3[:,0], stat = 'density', color = 'red')"
   ]
  },
  {
   "cell_type": "code",
   "execution_count": 328,
   "id": "unavailable-treasurer",
   "metadata": {},
   "outputs": [],
   "source": [
    "torch.save(cde_samples_0, 'data/cde_0_1.pt')\n",
    "torch.save(cde_samples_pos, 'data/cde_pos_1.pt')\n",
    "torch.save(cde_samples_neg, 'data/cde_neg_1.pt')\n",
    "\n",
    "torch.save(cde_samples_0_2, 'data/cde_0_2.pt')\n",
    "torch.save(cde_samples_pos_2, 'data/cde_pos_2.pt')\n",
    "torch.save(cde_samples_neg_2, 'data/cde_neg_2.pt')\n",
    "\n",
    "torch.save(cde_samples_pos_3, 'data/cde_pos_3.pt')\n",
    "torch.save(cde_samples_neg_3, 'data/cde_neg_3.pt')"
   ]
  },
  {
   "cell_type": "markdown",
   "id": "enormous-story",
   "metadata": {},
   "source": [
    "<hr style=\"border:2px solid black\">"
   ]
  },
  {
   "cell_type": "markdown",
   "id": "aging-april",
   "metadata": {},
   "source": [
    "# Draw CDiffE samples"
   ]
  },
  {
   "cell_type": "markdown",
   "id": "discrete-niagara",
   "metadata": {},
   "source": [
    "### Example 1"
   ]
  },
  {
   "cell_type": "code",
   "execution_count": 60,
   "id": "advanced-queensland",
   "metadata": {},
   "outputs": [
    {
     "data": {
      "application/json": {
       "ascii": false,
       "bar_format": null,
       "colour": null,
       "elapsed": 0.030957937240600586,
       "initial": 0,
       "n": 0,
       "ncols": null,
       "nrows": null,
       "postfix": null,
       "prefix": "",
       "rate": null,
       "total": 1000,
       "unit": "it",
       "unit_divisor": 1000,
       "unit_scale": false
      },
      "application/vnd.jupyter.widget-view+json": {
       "model_id": "09270e64d0f64ee5b49b33b10e30b42e",
       "version_major": 2,
       "version_minor": 0
      },
      "text/plain": [
       "  0%|          | 0/1000 [00:00<?, ?it/s]"
      ]
     },
     "metadata": {},
     "output_type": "display_data"
    },
    {
     "data": {
      "application/json": {
       "ascii": false,
       "bar_format": null,
       "colour": null,
       "elapsed": 0.02680206298828125,
       "initial": 0,
       "n": 0,
       "ncols": null,
       "nrows": null,
       "postfix": null,
       "prefix": "",
       "rate": null,
       "total": 1000,
       "unit": "it",
       "unit_divisor": 1000,
       "unit_scale": false
      },
      "application/vnd.jupyter.widget-view+json": {
       "model_id": "b7487cdc3d7f4b0b8aee3cdb20f5dea2",
       "version_major": 2,
       "version_minor": 0
      },
      "text/plain": [
       "  0%|          | 0/1000 [00:00<?, ?it/s]"
      ]
     },
     "metadata": {},
     "output_type": "display_data"
    },
    {
     "data": {
      "application/json": {
       "ascii": false,
       "bar_format": null,
       "colour": null,
       "elapsed": 0.026512861251831055,
       "initial": 0,
       "n": 0,
       "ncols": null,
       "nrows": null,
       "postfix": null,
       "prefix": "",
       "rate": null,
       "total": 1000,
       "unit": "it",
       "unit_divisor": 1000,
       "unit_scale": false
      },
      "application/vnd.jupyter.widget-view+json": {
       "model_id": "62c8fcdfadf449e29515c6ea240e32f4",
       "version_major": 2,
       "version_minor": 0
      },
      "text/plain": [
       "  0%|          | 0/1000 [00:00<?, ?it/s]"
      ]
     },
     "metadata": {},
     "output_type": "display_data"
    }
   ],
   "source": [
    "score_model = ScoreNet_2D(marginal_prob_std=marginal_prob_std_fn)\n",
    "ckpt = torch.load('models/ex_1.pth')\n",
    "score_model.load_state_dict(ckpt)\n",
    "cdiffe_samples_0 = CDiffE_pc_sampler(score_model, \n",
    "                           marginal_prob_std_fn,\n",
    "                           diffusion_coeff_fn, \n",
    "                           y_obs = torch.tensor(0, dtype = torch.float32), batch_size = 1000)\n",
    "\n",
    "cdiffe_samples_neg = CDiffE_pc_sampler(score_model, \n",
    "                           marginal_prob_std_fn,\n",
    "                           diffusion_coeff_fn, \n",
    "                           y_obs = torch.tensor(-1.2, dtype = torch.float32), batch_size = 1000)\n",
    "\n",
    "cdiffe_samples_pos = CDiffE_pc_sampler(score_model, \n",
    "                           marginal_prob_std_fn,\n",
    "                           diffusion_coeff_fn, \n",
    "                           y_obs = torch.tensor(1.2, dtype = torch.float32), batch_size = 1000)"
   ]
  },
  {
   "cell_type": "code",
   "execution_count": 61,
   "id": "intense-premium",
   "metadata": {},
   "outputs": [
    {
     "data": {
      "text/plain": [
       "<matplotlib.axes._subplots.AxesSubplot at 0x7f8552b53c70>"
      ]
     },
     "execution_count": 61,
     "metadata": {},
     "output_type": "execute_result"
    },
    {
     "data": {
      "image/png": "[encoded data removed]",
      "text/plain": [
       "<Figure size 432x288 with 1 Axes>"
      ]
     },
     "metadata": {
      "needs_background": "light"
     },
     "output_type": "display_data"
    }
   ],
   "source": [
    "sns.kdeplot(actual_samples_0, color = 'green')\n",
    "sns.histplot(cdiffe_samples_0[:,0], stat = 'density', color = 'green')\n",
    "sns.kdeplot(actual_samples_pos, color = 'blue')\n",
    "sns.histplot(cdiffe_samples_pos[:,0], stat = 'density', color = 'blue')\n",
    "sns.kdeplot(actual_samples_neg, color = 'red')\n",
    "sns.histplot(cdiffe_samples_neg[:,0], stat = 'density', color = 'red')"
   ]
  },
  {
   "cell_type": "markdown",
   "id": "according-belief",
   "metadata": {},
   "source": [
    "### Example 2"
   ]
  },
  {
   "cell_type": "code",
   "execution_count": 62,
   "id": "impressive-cliff",
   "metadata": {},
   "outputs": [
    {
     "name": "stderr",
     "output_type": "stream",
     "text": [
      "/Users/harryamad/Google Drive/2022/Dissertation/conditional_diffusion_simulation/SDE.py:16: UserWarning: To copy construct from a tensor, it is recommended to use sourceTensor.clone().detach() or sourceTensor.clone().detach().requires_grad_(True), rather than torch.tensor(sourceTensor).\n",
      "  t = torch.tensor(t)\n"
     ]
    },
    {
     "data": {
      "application/json": {
       "ascii": false,
       "bar_format": null,
       "colour": null,
       "elapsed": 0.03148984909057617,
       "initial": 0,
       "n": 0,
       "ncols": null,
       "nrows": null,
       "postfix": null,
       "prefix": "",
       "rate": null,
       "total": 1000,
       "unit": "it",
       "unit_divisor": 1000,
       "unit_scale": false
      },
      "application/vnd.jupyter.widget-view+json": {
       "model_id": "a1cf9631eed04da9a7ca9eee9903e31e",
       "version_major": 2,
       "version_minor": 0
      },
      "text/plain": [
       "  0%|          | 0/1000 [00:00<?, ?it/s]"
      ]
     },
     "metadata": {},
     "output_type": "display_data"
    },
    {
     "name": "stderr",
     "output_type": "stream",
     "text": [
      "/Users/harryamad/Google Drive/2022/Dissertation/conditional_diffusion_simulation/SDE.py:29: UserWarning: To copy construct from a tensor, it is recommended to use sourceTensor.clone().detach() or sourceTensor.clone().detach().requires_grad_(True), rather than torch.tensor(sourceTensor).\n",
      "  return torch.tensor(sigma**t)\n"
     ]
    },
    {
     "data": {
      "application/json": {
       "ascii": false,
       "bar_format": null,
       "colour": null,
       "elapsed": 0.025497913360595703,
       "initial": 0,
       "n": 0,
       "ncols": null,
       "nrows": null,
       "postfix": null,
       "prefix": "",
       "rate": null,
       "total": 1000,
       "unit": "it",
       "unit_divisor": 1000,
       "unit_scale": false
      },
      "application/vnd.jupyter.widget-view+json": {
       "model_id": "2cc246c6f3f545dab8ef8f6d06a9ef75",
       "version_major": 2,
       "version_minor": 0
      },
      "text/plain": [
       "  0%|          | 0/1000 [00:00<?, ?it/s]"
      ]
     },
     "metadata": {},
     "output_type": "display_data"
    },
    {
     "data": {
      "application/json": {
       "ascii": false,
       "bar_format": null,
       "colour": null,
       "elapsed": 0.024782896041870117,
       "initial": 0,
       "n": 0,
       "ncols": null,
       "nrows": null,
       "postfix": null,
       "prefix": "",
       "rate": null,
       "total": 1000,
       "unit": "it",
       "unit_divisor": 1000,
       "unit_scale": false
      },
      "application/vnd.jupyter.widget-view+json": {
       "model_id": "bd0e968f79774746b2fdf064c3e94f59",
       "version_major": 2,
       "version_minor": 0
      },
      "text/plain": [
       "  0%|          | 0/1000 [00:00<?, ?it/s]"
      ]
     },
     "metadata": {},
     "output_type": "display_data"
    }
   ],
   "source": [
    "score_model = ScoreNet_2D(marginal_prob_std=marginal_prob_std_fn)\n",
    "ckpt = torch.load('models/ex_2.pth')\n",
    "score_model.load_state_dict(ckpt)\n",
    "cdiffe_samples_0_2 = CDiffE_pc_sampler(score_model, \n",
    "                           marginal_prob_std_fn,\n",
    "                           diffusion_coeff_fn, \n",
    "                           y_obs = torch.tensor(0, dtype = torch.float32), batch_size = 1000)\n",
    "\n",
    "cdiffe_samples_neg_2 = CDiffE_pc_sampler(score_model, \n",
    "                           marginal_prob_std_fn,\n",
    "                           diffusion_coeff_fn, \n",
    "                           y_obs = torch.tensor(-1.2, dtype = torch.float32), batch_size = 1000)\n",
    "\n",
    "cdiffe_samples_pos_2 = CDiffE_pc_sampler(score_model, \n",
    "                           marginal_prob_std_fn,\n",
    "                           diffusion_coeff_fn, \n",
    "                           y_obs = torch.tensor(1.2, dtype = torch.float32), batch_size = 1000)"
   ]
  },
  {
   "cell_type": "code",
   "execution_count": 63,
   "id": "numeric-constitution",
   "metadata": {
    "scrolled": true
   },
   "outputs": [
    {
     "data": {
      "text/plain": [
       "<matplotlib.axes._subplots.AxesSubplot at 0x7f855436fc10>"
      ]
     },
     "execution_count": 63,
     "metadata": {},
     "output_type": "execute_result"
    },
    {
     "data": {
      "image/png": "[encoded data removed]",
      "text/plain": [
       "<Figure size 432x288 with 1 Axes>"
      ]
     },
     "metadata": {
      "needs_background": "light"
     },
     "output_type": "display_data"
    }
   ],
   "source": [
    "sns.kdeplot(actual_samples_0_2, color = 'green')\n",
    "sns.histplot(cdiffe_samples_0_2[:,0], stat = 'density', color = 'green')\n",
    "sns.kdeplot(actual_samples_pos_2, color = 'blue')\n",
    "sns.histplot(cdiffe_samples_pos_2[:,0], stat = 'density', color = 'blue')\n",
    "sns.kdeplot(actual_samples_neg_2, color = 'red')\n",
    "sns.histplot(cdiffe_samples_neg_2[:,0], stat = 'density', color = 'red')"
   ]
  },
  {
   "cell_type": "markdown",
   "id": "recent-validity",
   "metadata": {},
   "source": [
    "### Example 3"
   ]
  },
  {
   "cell_type": "code",
   "execution_count": 64,
   "id": "familiar-airline",
   "metadata": {},
   "outputs": [
    {
     "name": "stderr",
     "output_type": "stream",
     "text": [
      "/Users/harryamad/Google Drive/2022/Dissertation/conditional_diffusion_simulation/SDE.py:16: UserWarning: To copy construct from a tensor, it is recommended to use sourceTensor.clone().detach() or sourceTensor.clone().detach().requires_grad_(True), rather than torch.tensor(sourceTensor).\n",
      "  t = torch.tensor(t)\n"
     ]
    },
    {
     "data": {
      "application/json": {
       "ascii": false,
       "bar_format": null,
       "colour": null,
       "elapsed": 0.02898097038269043,
       "initial": 0,
       "n": 0,
       "ncols": null,
       "nrows": null,
       "postfix": null,
       "prefix": "",
       "rate": null,
       "total": 1000,
       "unit": "it",
       "unit_divisor": 1000,
       "unit_scale": false
      },
      "application/vnd.jupyter.widget-view+json": {
       "model_id": "aab43e5f84844e10896852d17023b9a2",
       "version_major": 2,
       "version_minor": 0
      },
      "text/plain": [
       "  0%|          | 0/1000 [00:00<?, ?it/s]"
      ]
     },
     "metadata": {},
     "output_type": "display_data"
    },
    {
     "name": "stderr",
     "output_type": "stream",
     "text": [
      "/Users/harryamad/Google Drive/2022/Dissertation/conditional_diffusion_simulation/SDE.py:29: UserWarning: To copy construct from a tensor, it is recommended to use sourceTensor.clone().detach() or sourceTensor.clone().detach().requires_grad_(True), rather than torch.tensor(sourceTensor).\n",
      "  return torch.tensor(sigma**t)\n"
     ]
    },
    {
     "data": {
      "application/json": {
       "ascii": false,
       "bar_format": null,
       "colour": null,
       "elapsed": 0.055413007736206055,
       "initial": 0,
       "n": 0,
       "ncols": null,
       "nrows": null,
       "postfix": null,
       "prefix": "",
       "rate": null,
       "total": 1000,
       "unit": "it",
       "unit_divisor": 1000,
       "unit_scale": false
      },
      "application/vnd.jupyter.widget-view+json": {
       "model_id": "81c7c6621eb24c448dcb3a399943158e",
       "version_major": 2,
       "version_minor": 0
      },
      "text/plain": [
       "  0%|          | 0/1000 [00:00<?, ?it/s]"
      ]
     },
     "metadata": {},
     "output_type": "display_data"
    }
   ],
   "source": [
    "score_model = ScoreNet_2D(marginal_prob_std=marginal_prob_std_fn)\n",
    "ckpt = torch.load('models/ex_3.pth')\n",
    "score_model.load_state_dict(ckpt)\n",
    "\n",
    "cdiffe_samples_neg_3 = CDiffE_pc_sampler(score_model, \n",
    "                           marginal_prob_std_fn,\n",
    "                           diffusion_coeff_fn, \n",
    "                           y_obs = torch.tensor(-1.2, dtype = torch.float32), batch_size = 1000)\n",
    "\n",
    "cdiffe_samples_pos_3 = CDiffE_pc_sampler(score_model, \n",
    "                           marginal_prob_std_fn,\n",
    "                           diffusion_coeff_fn, \n",
    "                           y_obs = torch.tensor(1.2, dtype = torch.float32), batch_size = 1000)"
   ]
  },
  {
   "cell_type": "code",
   "execution_count": 65,
   "id": "coordinated-organizer",
   "metadata": {
    "scrolled": false
   },
   "outputs": [
    {
     "data": {
      "text/plain": [
       "<matplotlib.axes._subplots.AxesSubplot at 0x7f854f72e2b0>"
      ]
     },
     "execution_count": 65,
     "metadata": {},
     "output_type": "execute_result"
    },
    {
     "data": {
      "image/png": "[encoded data removed]",
      "text/plain": [
       "<Figure size 432x288 with 1 Axes>"
      ]
     },
     "metadata": {
      "needs_background": "light"
     },
     "output_type": "display_data"
    }
   ],
   "source": [
    "sns.kdeplot(actual_samples_pos_3, color = 'blue')\n",
    "sns.histplot(cdiffe_samples_pos_3[:,0], stat = 'density', color = 'blue')\n",
    "sns.kdeplot(actual_samples_neg_3, color = 'red')\n",
    "sns.histplot(cdiffe_samples_neg_3[:,0], stat = 'density', color = 'red')"
   ]
  },
  {
   "cell_type": "code",
   "execution_count": 327,
   "id": "encouraging-islam",
   "metadata": {},
   "outputs": [],
   "source": [
    "torch.save(cdiffe_samples_0, 'data/cdiffe_0_1.pt')\n",
    "torch.save(cdiffe_samples_pos, 'data/cdiffe_pos_1.pt')\n",
    "torch.save(cdiffe_samples_neg, 'data/cdiffe_neg_1.pt')\n",
    "\n",
    "torch.save(cdiffe_samples_0_2, 'data/cdiffe_0_2.pt')\n",
    "torch.save(cdiffe_samples_pos_2, 'data/cdiffe_pos_2.pt')\n",
    "torch.save(cdiffe_samples_neg_2, 'data/cdiffe_neg_2.pt')\n",
    "\n",
    "torch.save(cdiffe_samples_pos_3, 'data/cdiffe_pos_3.pt')\n",
    "torch.save(cdiffe_samples_neg_3, 'data/cdiffe_neg_3.pt')"
   ]
  },
  {
   "cell_type": "markdown",
   "id": "handy-paintball",
   "metadata": {},
   "source": [
    "<hr style=\"border:2px solid black\">"
   ]
  },
  {
   "cell_type": "markdown",
   "id": "willing-apollo",
   "metadata": {},
   "source": [
    "# Draw SMCDiff samples"
   ]
  },
  {
   "cell_type": "markdown",
   "id": "realistic-assumption",
   "metadata": {},
   "source": [
    "## Example 1"
   ]
  },
  {
   "cell_type": "code",
   "execution_count": 90,
   "id": "incident-pastor",
   "metadata": {},
   "outputs": [
    {
     "data": {
      "application/json": {
       "ascii": false,
       "bar_format": null,
       "colour": null,
       "elapsed": 0.03292727470397949,
       "initial": 0,
       "n": 0,
       "ncols": null,
       "nrows": null,
       "postfix": null,
       "prefix": "",
       "rate": null,
       "total": 1000,
       "unit": "it",
       "unit_divisor": 1000,
       "unit_scale": false
      },
      "application/vnd.jupyter.widget-view+json": {
       "model_id": "7c21bbfd8fde4a1d986f48b131475516",
       "version_major": 2,
       "version_minor": 0
      },
      "text/plain": [
       "  0%|          | 0/1000 [00:00<?, ?it/s]"
      ]
     },
     "metadata": {},
     "output_type": "display_data"
    },
    {
     "data": {
      "application/json": {
       "ascii": false,
       "bar_format": null,
       "colour": null,
       "elapsed": 0.02580714225769043,
       "initial": 0,
       "n": 0,
       "ncols": null,
       "nrows": null,
       "postfix": null,
       "prefix": "",
       "rate": null,
       "total": 1000,
       "unit": "it",
       "unit_divisor": 1000,
       "unit_scale": false
      },
      "application/vnd.jupyter.widget-view+json": {
       "model_id": "6a2ffb91745a4ef0a6c2c3ed045e3547",
       "version_major": 2,
       "version_minor": 0
      },
      "text/plain": [
       "  0%|          | 0/1000 [00:00<?, ?it/s]"
      ]
     },
     "metadata": {},
     "output_type": "display_data"
    },
    {
     "data": {
      "application/json": {
       "ascii": false,
       "bar_format": null,
       "colour": null,
       "elapsed": 0.024066925048828125,
       "initial": 0,
       "n": 0,
       "ncols": null,
       "nrows": null,
       "postfix": null,
       "prefix": "",
       "rate": null,
       "total": 1000,
       "unit": "it",
       "unit_divisor": 1000,
       "unit_scale": false
      },
      "application/vnd.jupyter.widget-view+json": {
       "model_id": "f0e18f0aa10741b0937ff0ac0af7c490",
       "version_major": 2,
       "version_minor": 0
      },
      "text/plain": [
       "  0%|          | 0/1000 [00:00<?, ?it/s]"
      ]
     },
     "metadata": {},
     "output_type": "display_data"
    }
   ],
   "source": [
    "ckpt = torch.load('models/ex_1.pth')\n",
    "score_model.load_state_dict(ckpt)\n",
    "\n",
    "smcdiff_samples_0 = SMCDiff_pc_sampler(score_model, \n",
    "                           marginal_prob_std_fn,\n",
    "                           diffusion_coeff_fn, \n",
    "                           y_obs = torch.tensor(0, dtype = torch.float32), k = 1000)\n",
    "\n",
    "smcdiff_samples_pos = SMCDiff_pc_sampler(score_model, \n",
    "                           marginal_prob_std_fn,\n",
    "                           diffusion_coeff_fn, \n",
    "                           y_obs = torch.tensor(1.2, dtype = torch.float32), k = 1000)\n",
    "\n",
    "smcdiff_samples_neg = SMCDiff_pc_sampler(score_model, \n",
    "                           marginal_prob_std_fn,\n",
    "                           diffusion_coeff_fn, \n",
    "                           y_obs = torch.tensor(-1.2, dtype = torch.float32), k = 1000)"
   ]
  },
  {
   "cell_type": "code",
   "execution_count": 91,
   "id": "silver-salad",
   "metadata": {},
   "outputs": [
    {
     "data": {
      "text/plain": [
       "<matplotlib.axes._subplots.AxesSubplot at 0x7f85516025e0>"
      ]
     },
     "execution_count": 91,
     "metadata": {},
     "output_type": "execute_result"
    },
    {
     "data": {
      "image/png": "[encoded data removed]",
      "text/plain": [
       "<Figure size 432x288 with 1 Axes>"
      ]
     },
     "metadata": {
      "needs_background": "light"
     },
     "output_type": "display_data"
    }
   ],
   "source": [
    "sns.kdeplot(actual_samples_0, color = 'green')\n",
    "sns.histplot(smcdiff_samples_0[:,0], stat = 'density', color = 'green')\n",
    "sns.kdeplot(actual_samples_pos, color = 'blue')\n",
    "sns.histplot(smcdiff_samples_pos[:,0], stat = 'density', color = 'blue')\n",
    "sns.kdeplot(actual_samples_neg, color = 'red')\n",
    "sns.histplot(smcdiff_samples_neg[:,0], stat = 'density', color = 'red')"
   ]
  },
  {
   "cell_type": "markdown",
   "id": "descending-adobe",
   "metadata": {},
   "source": [
    "## Example 2"
   ]
  },
  {
   "cell_type": "code",
   "execution_count": 92,
   "id": "preliminary-duration",
   "metadata": {},
   "outputs": [
    {
     "name": "stderr",
     "output_type": "stream",
     "text": [
      "/Users/harryamad/Google Drive/2022/Dissertation/conditional_diffusion_simulation/SDE.py:16: UserWarning: To copy construct from a tensor, it is recommended to use sourceTensor.clone().detach() or sourceTensor.clone().detach().requires_grad_(True), rather than torch.tensor(sourceTensor).\n",
      "  t = torch.tensor(t)\n"
     ]
    },
    {
     "data": {
      "application/json": {
       "ascii": false,
       "bar_format": null,
       "colour": null,
       "elapsed": 0.02951979637145996,
       "initial": 0,
       "n": 0,
       "ncols": null,
       "nrows": null,
       "postfix": null,
       "prefix": "",
       "rate": null,
       "total": 1000,
       "unit": "it",
       "unit_divisor": 1000,
       "unit_scale": false
      },
      "application/vnd.jupyter.widget-view+json": {
       "model_id": "fb7d620286de4b8bba12dfe00921bad2",
       "version_major": 2,
       "version_minor": 0
      },
      "text/plain": [
       "  0%|          | 0/1000 [00:00<?, ?it/s]"
      ]
     },
     "metadata": {},
     "output_type": "display_data"
    },
    {
     "name": "stderr",
     "output_type": "stream",
     "text": [
      "/Users/harryamad/Google Drive/2022/Dissertation/conditional_diffusion_simulation/SDE.py:29: UserWarning: To copy construct from a tensor, it is recommended to use sourceTensor.clone().detach() or sourceTensor.clone().detach().requires_grad_(True), rather than torch.tensor(sourceTensor).\n",
      "  return torch.tensor(sigma**t)\n"
     ]
    },
    {
     "data": {
      "application/json": {
       "ascii": false,
       "bar_format": null,
       "colour": null,
       "elapsed": 0.026269912719726562,
       "initial": 0,
       "n": 0,
       "ncols": null,
       "nrows": null,
       "postfix": null,
       "prefix": "",
       "rate": null,
       "total": 1000,
       "unit": "it",
       "unit_divisor": 1000,
       "unit_scale": false
      },
      "application/vnd.jupyter.widget-view+json": {
       "model_id": "a0e4ff68d82044b5a3fcb469d7db5972",
       "version_major": 2,
       "version_minor": 0
      },
      "text/plain": [
       "  0%|          | 0/1000 [00:00<?, ?it/s]"
      ]
     },
     "metadata": {},
     "output_type": "display_data"
    },
    {
     "data": {
      "application/json": {
       "ascii": false,
       "bar_format": null,
       "colour": null,
       "elapsed": 0.025372028350830078,
       "initial": 0,
       "n": 0,
       "ncols": null,
       "nrows": null,
       "postfix": null,
       "prefix": "",
       "rate": null,
       "total": 1000,
       "unit": "it",
       "unit_divisor": 1000,
       "unit_scale": false
      },
      "application/vnd.jupyter.widget-view+json": {
       "model_id": "a5b344d8dfff46d4b4e5b4bea90b5da6",
       "version_major": 2,
       "version_minor": 0
      },
      "text/plain": [
       "  0%|          | 0/1000 [00:00<?, ?it/s]"
      ]
     },
     "metadata": {},
     "output_type": "display_data"
    }
   ],
   "source": [
    "ckpt = torch.load('models/ex_2.pth')\n",
    "score_model.load_state_dict(ckpt)\n",
    "\n",
    "smcdiff_samples_0_2 = SMCDiff_pc_sampler(score_model, \n",
    "                           marginal_prob_std_fn,\n",
    "                           diffusion_coeff_fn, \n",
    "                           y_obs = torch.tensor(0, dtype = torch.float32), k = 1000)\n",
    "\n",
    "smcdiff_samples_pos_2 = SMCDiff_pc_sampler(score_model, \n",
    "                           marginal_prob_std_fn,\n",
    "                           diffusion_coeff_fn, \n",
    "                           y_obs = torch.tensor(1.2, dtype = torch.float32), k = 1000)\n",
    "\n",
    "smcdiff_samples_neg_2 = SMCDiff_pc_sampler(score_model, \n",
    "                           marginal_prob_std_fn,\n",
    "                           diffusion_coeff_fn, \n",
    "                           y_obs = torch.tensor(-1.2, dtype = torch.float32), k = 1000)"
   ]
  },
  {
   "cell_type": "code",
   "execution_count": 93,
   "id": "declared-immune",
   "metadata": {},
   "outputs": [
    {
     "data": {
      "text/plain": [
       "<matplotlib.axes._subplots.AxesSubplot at 0x7f85516b1760>"
      ]
     },
     "execution_count": 93,
     "metadata": {},
     "output_type": "execute_result"
    },
    {
     "data": {
      "image/png": "[encoded data removed]",
      "text/plain": [
       "<Figure size 432x288 with 1 Axes>"
      ]
     },
     "metadata": {
      "needs_background": "light"
     },
     "output_type": "display_data"
    }
   ],
   "source": [
    "sns.kdeplot(actual_samples_0_2, color = 'green')\n",
    "sns.histplot(smcdiff_samples_0_2[:,0], stat = 'density', color = 'green')\n",
    "sns.kdeplot(actual_samples_pos_2, color = 'blue')\n",
    "sns.histplot(smcdiff_samples_pos_2[:,0], stat = 'density', color = 'blue')\n",
    "sns.kdeplot(actual_samples_neg_2, color = 'red')\n",
    "sns.histplot(smcdiff_samples_neg_2[:,0], stat = 'density', color = 'red')"
   ]
  },
  {
   "cell_type": "markdown",
   "id": "executed-biography",
   "metadata": {},
   "source": [
    "## Example 3"
   ]
  },
  {
   "cell_type": "code",
   "execution_count": 96,
   "id": "incoming-testing",
   "metadata": {},
   "outputs": [
    {
     "name": "stderr",
     "output_type": "stream",
     "text": [
      "/Users/harryamad/Google Drive/2022/Dissertation/conditional_diffusion_simulation/SDE.py:16: UserWarning: To copy construct from a tensor, it is recommended to use sourceTensor.clone().detach() or sourceTensor.clone().detach().requires_grad_(True), rather than torch.tensor(sourceTensor).\n",
      "  t = torch.tensor(t)\n"
     ]
    },
    {
     "data": {
      "application/json": {
       "ascii": false,
       "bar_format": null,
       "colour": null,
       "elapsed": 0.028935909271240234,
       "initial": 0,
       "n": 0,
       "ncols": null,
       "nrows": null,
       "postfix": null,
       "prefix": "",
       "rate": null,
       "total": 1000,
       "unit": "it",
       "unit_divisor": 1000,
       "unit_scale": false
      },
      "application/vnd.jupyter.widget-view+json": {
       "model_id": "a45d416d1d1d49cc8a316884f8a26e24",
       "version_major": 2,
       "version_minor": 0
      },
      "text/plain": [
       "  0%|          | 0/1000 [00:00<?, ?it/s]"
      ]
     },
     "metadata": {},
     "output_type": "display_data"
    },
    {
     "name": "stderr",
     "output_type": "stream",
     "text": [
      "/Users/harryamad/Google Drive/2022/Dissertation/conditional_diffusion_simulation/SDE.py:29: UserWarning: To copy construct from a tensor, it is recommended to use sourceTensor.clone().detach() or sourceTensor.clone().detach().requires_grad_(True), rather than torch.tensor(sourceTensor).\n",
      "  return torch.tensor(sigma**t)\n"
     ]
    },
    {
     "data": {
      "application/json": {
       "ascii": false,
       "bar_format": null,
       "colour": null,
       "elapsed": 0.023972749710083008,
       "initial": 0,
       "n": 0,
       "ncols": null,
       "nrows": null,
       "postfix": null,
       "prefix": "",
       "rate": null,
       "total": 1000,
       "unit": "it",
       "unit_divisor": 1000,
       "unit_scale": false
      },
      "application/vnd.jupyter.widget-view+json": {
       "model_id": "6b25c1a8dfb249dcaa32f31f49717210",
       "version_major": 2,
       "version_minor": 0
      },
      "text/plain": [
       "  0%|          | 0/1000 [00:00<?, ?it/s]"
      ]
     },
     "metadata": {},
     "output_type": "display_data"
    }
   ],
   "source": [
    "ckpt = torch.load('models/ex_3.pth')\n",
    "score_model.load_state_dict(ckpt)\n",
    "\n",
    "smcdiff_samples_pos_3 = SMCDiff_pc_sampler(score_model, \n",
    "                           marginal_prob_std_fn,\n",
    "                           diffusion_coeff_fn, \n",
    "                           y_obs = torch.tensor(1.2, dtype = torch.float32), k = 1000)\n",
    "\n",
    "smcdiff_samples_neg_3 = SMCDiff_pc_sampler(score_model, \n",
    "                           marginal_prob_std_fn,\n",
    "                           diffusion_coeff_fn, \n",
    "                           y_obs = torch.tensor(-1.2, dtype = torch.float32), k = 1000)"
   ]
  },
  {
   "cell_type": "code",
   "execution_count": 97,
   "id": "juvenile-cooper",
   "metadata": {},
   "outputs": [
    {
     "data": {
      "text/plain": [
       "<matplotlib.axes._subplots.AxesSubplot at 0x7f8554a2ed90>"
      ]
     },
     "execution_count": 97,
     "metadata": {},
     "output_type": "execute_result"
    },
    {
     "data": {
      "image/png": "[encoded data removed]",
      "text/plain": [
       "<Figure size 432x288 with 1 Axes>"
      ]
     },
     "metadata": {
      "needs_background": "light"
     },
     "output_type": "display_data"
    }
   ],
   "source": [
    "sns.kdeplot(actual_samples_pos_3, color = 'blue')\n",
    "sns.histplot(smcdiff_samples_pos_3[:,0], stat = 'density', color = 'blue')\n",
    "sns.kdeplot(actual_samples_neg_3, color = 'red')\n",
    "sns.histplot(smcdiff_samples_neg_3[:,0], stat = 'density', color = 'red')"
   ]
  },
  {
   "cell_type": "code",
   "execution_count": 326,
   "id": "brief-rubber",
   "metadata": {},
   "outputs": [],
   "source": [
    "torch.save(smcdiff_samples_0, 'data/smcdiff_0_1.pt')\n",
    "torch.save(smcdiff_samples_pos, 'data/smcdiff_pos_1.pt')\n",
    "torch.save(smcdiff_samples_neg, 'data/smcdiff_neg_1.pt')\n",
    "\n",
    "torch.save(smcdiff_samples_0_2, 'data/smcdiff_0_2.pt')\n",
    "torch.save(smcdiff_samples_pos_2, 'data/smcdiff_pos_2.pt')\n",
    "torch.save(smcdiff_samples_neg_2, 'data/smcdiff_neg_2.pt')\n",
    "\n",
    "torch.save(smcdiff_samples_pos_3, 'data/smcdiff_pos_3.pt')\n",
    "torch.save(smcdiff_samples_neg_3, 'data/smcdiff_neg_3.pt')"
   ]
  },
  {
   "cell_type": "markdown",
   "id": "mental-communications",
   "metadata": {},
   "source": [
    "<hr style=\"border:4px solid black\">"
   ]
  },
  {
   "cell_type": "markdown",
   "id": "earlier-colleague",
   "metadata": {},
   "source": [
    "# Comparison"
   ]
  },
  {
   "cell_type": "code",
   "execution_count": 75,
   "id": "relative-printing",
   "metadata": {},
   "outputs": [],
   "source": [
    "cde_samples_0 = torch.load('data/cde_0_1.pt')\n",
    "cde_samples_pos = torch.load('data/cde_pos_1.pt')\n",
    "cde_samples_neg = torch.load('data/cde_neg_1.pt')\n",
    "cde_samples_0_2 = torch.load('data/cde_0_2.pt')\n",
    "cde_samples_pos_2 = torch.load('data/cde_pos_2.pt')\n",
    "cde_samples_neg_2 = torch.load('data/cde_neg_2.pt')\n",
    "cde_samples_pos_3 = torch.load('data/cde_pos_3.pt')\n",
    "cde_samples_neg_3 = torch.load('data/cde_neg_3.pt')"
   ]
  },
  {
   "cell_type": "code",
   "execution_count": null,
   "id": "suburban-details",
   "metadata": {},
   "outputs": [],
   "source": [
    "cdiffe_samples_0 = torch.load('data/cdiffe_0_1.pt')\n",
    "cdiffe_samples_pos = torch.load('data/cdiffe_pos_1.pt')\n",
    "cdiffe_samples_neg = torch.load('data/cdiffe_neg_1.pt')\n",
    "cdiffe_samples_0_2 = torch.load('data/cdiffe_0_2.pt')\n",
    "cdiffe_samples_pos_2 = torch.load('data/cdiffe_pos_2.pt')\n",
    "cdiffe_samples_neg_2 = torch.load('data/cdiffe_neg_2.pt')\n",
    "cdiffe_samples_pos_3 = torch.load('data/cdiffe_pos_3.pt')\n",
    "cdiffe_samples_neg_3 = torch.load('data/cdiffe_neg_3.pt')"
   ]
  },
  {
   "cell_type": "code",
   "execution_count": null,
   "id": "colored-animal",
   "metadata": {},
   "outputs": [],
   "source": [
    "smcdiff_samples_0 = torch.load('data/smcdiff_0_1.pt')\n",
    "smcdiff_samples_pos = torch.load('data/smcdiff_pos_1.pt')\n",
    "smcdiff_samples_neg = torch.load('data/smcdiff_neg_1.pt')\n",
    "smcdiff_samples_0_2 = torch.load('data/smcdiff_0_2.pt')\n",
    "smcdiff_samples_pos_2 = torch.load('data/smcdiff_pos_2.pt')\n",
    "smcdiff_samples_neg_2 = torch.load('data/smcdiff_neg_2.pt')\n",
    "smcdiff_samples_pos_3 = torch.load('data/smcdiff_pos_3.pt')\n",
    "smcdiff_samples_neg_3 = torch.load('data/smcdiff_neg_3.pt')"
   ]
  },
  {
   "cell_type": "code",
   "execution_count": 77,
   "id": "classified-china",
   "metadata": {
    "scrolled": false
   },
   "outputs": [
    {
     "data": {
      "image/png": "[encoded data removed]",
      "text/plain": [
       "<Figure size 1440x1080 with 9 Axes>"
      ]
     },
     "metadata": {
      "needs_background": "light"
     },
     "output_type": "display_data"
    }
   ],
   "source": [
    "fig, axs = plt.subplots(ncols=3, nrows=3, figsize=(20, 15))\n",
    "\n",
    "def plot_row(s1,s2,s3,s4,s5,s6,s7,s8,row,title):\n",
    "    sns.kdeplot(actual_samples_0, color = 'green', ax = axs[row,0])\n",
    "    sns.histplot(s1[:,0], stat = 'density', color = 'green', ax = axs[row,0])\n",
    "    sns.kdeplot(actual_samples_pos, color = 'blue', ax = axs[row,0])\n",
    "    sns.histplot(s2[:,0], stat = 'density', color = 'blue', ax = axs[row,0])\n",
    "    sns.kdeplot(actual_samples_neg, color = 'red', ax = axs[row,0])\n",
    "    sns.histplot(s3[:,0], stat = 'density', color = 'red', ax = axs[row,0])\n",
    "\n",
    "    sns.kdeplot(actual_samples_0_2, color = 'green', ax = axs[row,1])\n",
    "    sns.histplot(s4[:,0], stat = 'density', color = 'green', ax = axs[row,1])\n",
    "    sns.kdeplot(actual_samples_pos_2, color = 'blue', ax = axs[row,1])\n",
    "    sns.histplot(s5[:,0], stat = 'density', color = 'blue', ax = axs[row,1])\n",
    "    sns.kdeplot(actual_samples_neg_2, color = 'red', ax = axs[row,1])\n",
    "    sns.histplot(s6[:,0], stat = 'density', color = 'red', ax = axs[row,1])\n",
    "\n",
    "    sns.kdeplot(actual_samples_pos_3, color = 'blue', ax = axs[row,2])\n",
    "    sns.histplot(s7[:,0], stat = 'density', color = 'blue', ax = axs[row,2])\n",
    "    sns.kdeplot(actual_samples_neg_3, color = 'red', ax = axs[row,2])\n",
    "    sns.histplot(s8[:,0], stat = 'density', color = 'red', ax = axs[row,2])\n",
    "\n",
    "    axs[row,0].set_title(title)\n",
    "    axs[row,1].set_title(title)\n",
    "    axs[row,2].set_title(title)\n",
    "    \n",
    "plot_row(cde_samples_0, cde_samples_pos, cde_samples_neg, \n",
    "         cde_samples_0_2, cde_samples_pos_2, cde_samples_neg_2,\n",
    "         cde_samples_pos_3, cde_samples_neg_3, 0, 'CDE')\n",
    "\n",
    "plot_row(cdiffe_samples_0, cdiffe_samples_pos, cdiffe_samples_neg, \n",
    "         cdiffe_samples_0_2, cdiffe_samples_pos_2, cdiffe_samples_neg_2,\n",
    "         cdiffe_samples_pos_3, cdiffe_samples_neg_3, 1, 'CDiffE')\n",
    "\n",
    "plot_row(smcdiff_samples_0, smcdiff_samples_pos, smcdiff_samples_neg, \n",
    "         smcdiff_samples_0_2, smcdiff_samples_pos_2, smcdiff_samples_neg_2,\n",
    "         smcdiff_samples_pos_3, smcdiff_samples_neg_3, 2, 'SMCDiff')"
   ]
  },
  {
   "cell_type": "code",
   "execution_count": 304,
   "id": "appropriate-jungle",
   "metadata": {},
   "outputs": [
    {
     "name": "stdout",
     "output_type": "stream",
     "text": [
      "0.3005491984756099\n",
      "CDE: 0.1359463930130005\n",
      "Replacement: 0.18158677220344543\n",
      "SMCDiff: 0.153600811958313\n"
     ]
    }
   ],
   "source": [
    "print(np.mean(actual_samples_0))\n",
    "print(f'CDE: {torch.mean(cde_samples_0)}')\n",
    "print(f'Replacement: {torch.mean(cdiffe_samples_0)}')\n",
    "print(f'SMCDiff: {torch.mean(smcdiff_samples_0)}')"
   ]
  },
  {
   "cell_type": "code",
   "execution_count": 305,
   "id": "comfortable-monthly",
   "metadata": {},
   "outputs": [
    {
     "name": "stdout",
     "output_type": "stream",
     "text": [
      "1.1345320199942488\n",
      "CDE: 1.1497119665145874\n",
      "Replacement: 1.1349895000457764\n",
      "SMCDiff: 1.188868522644043\n"
     ]
    }
   ],
   "source": [
    "print(np.mean(actual_samples_pos))\n",
    "print(f'CDE: {torch.mean(cde_samples_pos)}')\n",
    "print(f'Replacement: {torch.mean(cdiffe_samples_pos)}')\n",
    "print(f'SMCDiff: {torch.mean(smcdiff_samples_pos)}')"
   ]
  },
  {
   "cell_type": "code",
   "execution_count": 306,
   "id": "proof-gates",
   "metadata": {},
   "outputs": [
    {
     "name": "stdout",
     "output_type": "stream",
     "text": [
      "-0.535091814637213\n",
      "CDE: -0.8735138773918152\n",
      "Replacement: -0.8971888422966003\n",
      "SMCDiff: -0.8875173926353455\n"
     ]
    }
   ],
   "source": [
    "print(np.mean(actual_samples_neg))\n",
    "print(f'CDE: {torch.mean(cde_samples_neg)}')\n",
    "print(f'Replacement: {torch.mean(cdiffe_samples_neg)}')\n",
    "print(f'SMCDiff: {torch.mean(smcdiff_samples_neg)}')"
   ]
  },
  {
   "cell_type": "code",
   "execution_count": null,
   "id": "desperate-surname",
   "metadata": {},
   "outputs": [],
   "source": []
  },
  {
   "cell_type": "code",
   "execution_count": 307,
   "id": "greek-assembly",
   "metadata": {},
   "outputs": [
    {
     "name": "stdout",
     "output_type": "stream",
     "text": [
      "0.0006479151657738687\n",
      "CDE: -0.002915365155786276\n",
      "Replacement: -0.005531699396669865\n",
      "SMCDiff: 0.06755895167589188\n"
     ]
    }
   ],
   "source": [
    "print(np.mean(actual_samples_0_2))\n",
    "print(f'CDE: {torch.mean(cde_samples_0_2)}')\n",
    "print(f'Replacement: {torch.mean(cdiffe_samples_0_2)}')\n",
    "print(f'SMCDiff: {torch.mean(smcdiff_samples_0_2)}')"
   ]
  },
  {
   "cell_type": "code",
   "execution_count": 308,
   "id": "assisted-tutorial",
   "metadata": {},
   "outputs": [
    {
     "name": "stdout",
     "output_type": "stream",
     "text": [
      "0.8210357442218019\n",
      "CDE: 1.0126994848251343\n",
      "Replacement: 1.0057820081710815\n",
      "SMCDiff: 1.0154715776443481\n"
     ]
    }
   ],
   "source": [
    "print(np.mean(actual_samples_pos_2))\n",
    "print(f'CDE: {torch.mean(cde_samples_pos_2)}')\n",
    "print(f'Replacement: {torch.mean(cdiffe_samples_pos_2)}')\n",
    "print(f'SMCDiff: {torch.mean(smcdiff_samples_pos_2)}')"
   ]
  },
  {
   "cell_type": "code",
   "execution_count": 309,
   "id": "metric-fence",
   "metadata": {},
   "outputs": [
    {
     "name": "stdout",
     "output_type": "stream",
     "text": [
      "-0.8206993517207999\n",
      "CDE: -1.010857105255127\n",
      "Replacement: -1.004284381866455\n",
      "SMCDiff: -1.0130008459091187\n"
     ]
    }
   ],
   "source": [
    "print(np.mean(actual_samples_neg_2))\n",
    "print(f'CDE: {torch.mean(cde_samples_neg_2)}')\n",
    "print(f'Replacement: {torch.mean(cdiffe_samples_neg_2)}')\n",
    "print(f'SMCDiff: {torch.mean(smcdiff_samples_neg_2)}')"
   ]
  },
  {
   "cell_type": "code",
   "execution_count": null,
   "id": "environmental-affairs",
   "metadata": {},
   "outputs": [],
   "source": []
  },
  {
   "cell_type": "code",
   "execution_count": 310,
   "id": "elementary-lease",
   "metadata": {},
   "outputs": [
    {
     "name": "stdout",
     "output_type": "stream",
     "text": [
      "0.24985681522207376\n",
      "CDE: 0.7076429724693298\n",
      "Replacement: 0.679953396320343\n",
      "SMCDiff: 0.6980215907096863\n"
     ]
    }
   ],
   "source": [
    "print(np.mean(actual_samples_pos_3))\n",
    "print(f'CDE: {torch.mean(cde_samples_pos_3)}')\n",
    "print(f'Replacement: {torch.mean(cdiffe_samples_pos_3)}')\n",
    "print(f'SMCDiff: {torch.mean(smcdiff_samples_pos_3)}')"
   ]
  },
  {
   "cell_type": "code",
   "execution_count": 311,
   "id": "complete-devon",
   "metadata": {},
   "outputs": [
    {
     "name": "stdout",
     "output_type": "stream",
     "text": [
      "-0.25006904248021977\n",
      "CDE: -0.7231870293617249\n",
      "Replacement: -0.6755900382995605\n",
      "SMCDiff: -0.7029439210891724\n"
     ]
    }
   ],
   "source": [
    "print(np.mean(actual_samples_neg_3))\n",
    "print(f'CDE: {torch.mean(cde_samples_neg_3)}')\n",
    "print(f'Replacement: {torch.mean(cdiffe_samples_neg_3)}')\n",
    "print(f'SMCDiff: {torch.mean(smcdiff_samples_neg_3)}')"
   ]
  },
  {
   "cell_type": "code",
   "execution_count": null,
   "id": "national-chemistry",
   "metadata": {},
   "outputs": [],
   "source": []
  }
 ],
 "metadata": {
  "kernelspec": {
   "display_name": "Python 3",
   "language": "python",
   "name": "python3"
  },
  "language_info": {
   "codemirror_mode": {
    "name": "ipython",
    "version": 3
   },
   "file_extension": ".py",
   "mimetype": "text/x-python",
   "name": "python",
   "nbconvert_exporter": "python",
   "pygments_lexer": "ipython3",
   "version": "3.8.2"
  },
  "varInspector": {
   "cols": {
    "lenName": 16,
    "lenType": 16,
    "lenVar": 40
   },
   "kernels_config": {
    "python": {
     "delete_cmd_postfix": "",
     "delete_cmd_prefix": "del ",
     "library": "var_list.py",
     "varRefreshCmd": "print(var_dic_list())"
    },
    "r": {
     "delete_cmd_postfix": ") ",
     "delete_cmd_prefix": "rm(",
     "library": "var_list.r",
     "varRefreshCmd": "cat(var_dic_list()) "
    }
   },
   "types_to_exclude": [
    "module",
    "function",
    "builtin_function_or_method",
    "instance",
    "_Feature"
   ],
   "window_display": false
  }
 },
 "nbformat": 4,
 "nbformat_minor": 5
}
