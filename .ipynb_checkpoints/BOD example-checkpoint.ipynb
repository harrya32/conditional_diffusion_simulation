{
 "cells": [
  {
   "cell_type": "code",
   "execution_count": 13,
   "id": "molecular-approach",
   "metadata": {},
   "outputs": [],
   "source": [
    "import torch\n",
    "import torch.nn as nn\n",
    "import torch.nn.functional as F\n",
    "import numpy as np\n",
    "import functools\n",
    "from sklearn import datasets\n",
    "import matplotlib.pyplot as plt\n",
    "from torch.optim import Adam\n",
    "from torch.optim import SGD\n",
    "from torch.utils.data import DataLoader\n",
    "from tqdm import notebook\n",
    "import seaborn as sns\n",
    "import math\n",
    "import scipy\n",
    "import pandas as pd"
   ]
  },
  {
   "cell_type": "markdown",
   "id": "accessible-favor",
   "metadata": {},
   "source": [
    "# Generate dataset"
   ]
  },
  {
   "cell_type": "code",
   "execution_count": 2,
   "id": "exciting-penetration",
   "metadata": {},
   "outputs": [],
   "source": [
    "def generate_data(n):\n",
    "    x = torch.randn(n, 2)\n",
    "    A = 0.4 + 0.4 * (1 + torch.erf(x[:, :1] / np.sqrt(2)))\n",
    "    B = 0.01 + 0.15 * (1 + torch.erf(x[:, 1:] / np.sqrt(2)))\n",
    "    normal = torch.randn(n, 5) * np.sqrt(1e-3)\n",
    "\n",
    "    y_mean = A * (1 - torch.exp(-B * torch.arange(1, 6)))\n",
    "    y = y_mean + normal\n",
    "    return x, y"
   ]
  },
  {
   "cell_type": "code",
   "execution_count": 3,
   "id": "cooperative-blink",
   "metadata": {},
   "outputs": [],
   "source": [
    "x, y = generate_data(50000)\n",
    "data = torch.cat((x,y), dim = 1)"
   ]
  },
  {
   "cell_type": "code",
   "execution_count": 4,
   "id": "spread-lucas",
   "metadata": {},
   "outputs": [
    {
     "data": {
      "text/plain": [
       "tensor([0.1162, 0.2112, 0.2892, 0.3542, 0.4078])"
      ]
     },
     "execution_count": 4,
     "metadata": {},
     "output_type": "execute_result"
    }
   ],
   "source": [
    "torch.mean(y, dim=0)"
   ]
  },
  {
   "cell_type": "code",
   "execution_count": 5,
   "id": "dying-dallas",
   "metadata": {},
   "outputs": [
    {
     "data": {
      "text/plain": [
       "tensor([0.0056, 0.0053])"
      ]
     },
     "execution_count": 5,
     "metadata": {},
     "output_type": "execute_result"
    }
   ],
   "source": [
    "torch.mean(x, dim=0)"
   ]
  },
  {
   "cell_type": "code",
   "execution_count": 220,
   "id": "reserved-private",
   "metadata": {},
   "outputs": [
    {
     "name": "stdout",
     "output_type": "stream",
     "text": [
      "[array([2.459027  , 3.1906261 , 0.3166877 , 0.529296  , 0.6875639 ,\n",
      "       0.83420146, 0.9555733 ], dtype=float32), array([-3.0858564 , -3.4542544 , -0.00710056, -0.03516266, -0.01672741,\n",
      "       -0.04191718,  0.05312713], dtype=float32)]\n"
     ]
    }
   ],
   "source": [
    "\n",
    "from scipy.spatial import ConvexHull\n",
    "from scipy.spatial.distance import cdist\n",
    "\n",
    "N = 16000000\n",
    "\n",
    "# Find a convex hull in O(N log N)\n",
    "points = data.numpy()   # N random points in 3-D\n",
    "\n",
    "# Returned 420 points in testing\n",
    "hull = ConvexHull(points)\n",
    "\n",
    "# Extract the points forming the hull\n",
    "hullpoints = points[hull.vertices,:]\n",
    "\n",
    "# Naive way of finding the best pair in O(H^2) time if H is number of points on\n",
    "# hull\n",
    "hdist = cdist(hullpoints, hullpoints, metric='euclidean')\n",
    "\n",
    "# Get the farthest apart points\n",
    "bestpair = np.unravel_index(hdist.argmax(), hdist.shape)\n",
    "\n",
    "#Print them\n",
    "print([hullpoints[bestpair[0]],hullpoints[bestpair[1]]])"
   ]
  },
  {
   "cell_type": "code",
   "execution_count": 222,
   "id": "rising-strengthening",
   "metadata": {},
   "outputs": [
    {
     "data": {
      "text/plain": [
       "8.79782"
      ]
     },
     "execution_count": 222,
     "metadata": {},
     "output_type": "execute_result"
    }
   ],
   "source": [
    "np.linalg.norm(hullpoints[bestpair[0]]-hullpoints[bestpair[1]])"
   ]
  },
  {
   "cell_type": "markdown",
   "id": "seasonal-consolidation",
   "metadata": {},
   "source": [
    "# Define model"
   ]
  },
  {
   "cell_type": "code",
   "execution_count": 138,
   "id": "pregnant-bryan",
   "metadata": {},
   "outputs": [],
   "source": [
    "class ScoreNet(nn.Module):\n",
    "    \n",
    "    def __init__(self, marginal_prob_std):\n",
    "        super().__init__()\n",
    "        self.act = nn.GELU()#lambda x: x * torch.sigmoid(x)\n",
    "        self.marginal_prob_std = marginal_prob_std\n",
    "        self.hidden_units = 64\n",
    "        # inputs of data (x1,x2,y1,y2,y3,y4,y5), timestep t\n",
    "        self.mlp = nn.Sequential(\n",
    "            nn.Linear(8, int(self.hidden_units), bias=True),\n",
    "            nn.ReLU(),\n",
    "            nn.Linear(int(self.hidden_units), int(self.hidden_units), bias=True),\n",
    "            nn.ReLU(),\n",
    "            nn.Linear(int(self.hidden_units), int(self.hidden_units), bias=True),\n",
    "            nn.ReLU(),\n",
    "            nn.Linear(int(self.hidden_units), int(self.hidden_units), bias=True),\n",
    "            nn.ReLU(),\n",
    "            nn.Linear(int(self.hidden_units), int(self.hidden_units), bias=True),\n",
    "            nn.ReLU(),\n",
    "            nn.Linear(int(self.hidden_units), int(self.hidden_units), bias=True),\n",
    "            nn.ReLU(),\n",
    "            nn.Linear(int(self.hidden_units), int(self.hidden_units), bias=True),\n",
    "            nn.ReLU(),\n",
    "            nn.Linear(int(self.hidden_units), int(self.hidden_units), bias=True),\n",
    "            nn.ReLU(),\n",
    "            nn.Linear(int(self.hidden_units), 7, bias=True)\n",
    "        )\n",
    "        \n",
    "    def forward(self, x):\n",
    "        t = x[:, -1]\n",
    "        x = self.mlp(x)\n",
    "        x = x / self.marginal_prob_std(t)[:, None]\n",
    "        return x"
   ]
  },
  {
   "cell_type": "code",
   "execution_count": 139,
   "id": "thorough-catalyst",
   "metadata": {},
   "outputs": [
    {
     "data": {
      "text/plain": [
       "30151"
      ]
     },
     "execution_count": 139,
     "metadata": {},
     "output_type": "execute_result"
    }
   ],
   "source": [
    "sum(p.numel() for p in score_model.parameters())"
   ]
  },
  {
   "cell_type": "code",
   "execution_count": 242,
   "id": "professional-lawsuit",
   "metadata": {},
   "outputs": [
    {
     "data": {
      "text/plain": [
       "9.0"
      ]
     },
     "execution_count": 242,
     "metadata": {},
     "output_type": "execute_result"
    }
   ],
   "source": [
    "diffusion_coeff_fn(1)"
   ]
  },
  {
   "cell_type": "markdown",
   "id": "continental-diary",
   "metadata": {},
   "source": [
    "# Set up SDE"
   ]
  },
  {
   "cell_type": "code",
   "execution_count": 239,
   "id": "mounted-stand",
   "metadata": {},
   "outputs": [],
   "source": [
    "device = 'cpu'\n",
    "\n",
    "def marginal_prob_std(t, sigma):\n",
    "    \"\"\"Compute the mean and standard deviation of $p_{0t}(x(t) | x(0))$.\n",
    "\n",
    "    Args:    \n",
    "    t: A vector of time steps.\n",
    "    sigma: The $\\sigma$ in our SDE.  \n",
    "\n",
    "    Returns:\n",
    "    The standard deviation.\n",
    "    \"\"\"    \n",
    "    t = torch.tensor(t, device=device)\n",
    "    return torch.sqrt((sigma**(2 * t) - 1.) / 2. / np.log(sigma))\n",
    "\n",
    "def diffusion_coeff(t, sigma):\n",
    "    \"\"\"Compute the diffusion coefficient of our SDE.\n",
    "\n",
    "    Args:\n",
    "    t: A vector of time steps.\n",
    "    sigma: The $\\sigma$ in our SDE.\n",
    "\n",
    "    Returns:\n",
    "    The vector of diffusion coefficients.\n",
    "    \"\"\"\n",
    "    return torch.tensor(sigma**t, device=device)\n",
    "\n",
    "def diffusion_coeff(t, sigma):\n",
    "    \"\"\"Compute the diffusion coefficient of our SDE.\n",
    "\n",
    "    Args:\n",
    "    t: A vector of time steps.\n",
    "    sigma: The $\\sigma$ in our SDE.\n",
    "\n",
    "    Returns:\n",
    "    The vector of diffusion coefficients.\n",
    "    \"\"\"\n",
    "    return 0.01 * (sigma / 0.01)**t\n",
    "  \n",
    "sigma =  9.0#@param {'type':'number'}\n",
    "marginal_prob_std_fn = functools.partial(marginal_prob_std, sigma=sigma)\n",
    "diffusion_coeff_fn = functools.partial(diffusion_coeff, sigma=sigma)"
   ]
  },
  {
   "cell_type": "code",
   "execution_count": 224,
   "id": "italian-supplier",
   "metadata": {},
   "outputs": [],
   "source": [
    "score_model = ScoreNet(marginal_prob_std=marginal_prob_std_fn)"
   ]
  },
  {
   "cell_type": "markdown",
   "id": "rental-morris",
   "metadata": {},
   "source": [
    "# Loss function"
   ]
  },
  {
   "cell_type": "code",
   "execution_count": 243,
   "id": "metric-hygiene",
   "metadata": {},
   "outputs": [],
   "source": [
    "#@title Define the loss function (double click to expand or collapse)\n",
    "\n",
    "def loss_fn(model, x, marginal_prob_std, eps=1e-5):\n",
    "    \"\"\"The loss function for training score-based generative models.\n",
    "\n",
    "    Args:\n",
    "    model: A PyTorch model instance that represents a \n",
    "      time-dependent score-based model.\n",
    "    x: A mini-batch of training data.    \n",
    "    marginal_prob_std: A function that gives the standard deviation of \n",
    "      the perturbation kernel.\n",
    "    eps: A tolerance value for numerical stability.\n",
    "    \"\"\"\n",
    "    random_t = torch.rand(x.shape[0]) * (1. - eps) + eps  \n",
    "    std = marginal_prob_std(random_t)\n",
    "    random_t = torch.reshape(random_t, (x.shape[0], 1))\n",
    "    z = torch.randn_like(x)\n",
    "    perturbed_x = x + z * std[:, None]\n",
    "    x_with_t = torch.hstack([perturbed_x,random_t])\n",
    "    x_with_t = x_with_t.to(torch.float32)\n",
    "    score = model(x_with_t)\n",
    "    loss = torch.mean(torch.sum((score * std[:, None] + z)**2, dim=0))\n",
    "    return loss"
   ]
  },
  {
   "cell_type": "code",
   "execution_count": 244,
   "id": "italic-insertion",
   "metadata": {},
   "outputs": [
    {
     "data": {
      "application/json": {
       "ascii": false,
       "bar_format": null,
       "colour": null,
       "elapsed": 0.026781797409057617,
       "initial": 0,
       "n": 0,
       "ncols": null,
       "nrows": null,
       "postfix": null,
       "prefix": "",
       "rate": null,
       "total": 40,
       "unit": "it",
       "unit_divisor": 1000,
       "unit_scale": false
      },
      "application/vnd.jupyter.widget-view+json": {
       "model_id": "9a3c817274c84f86a138b8d9891f4de6",
       "version_major": 2,
       "version_minor": 0
      },
      "text/plain": [
       "  0%|          | 0/40 [00:00<?, ?it/s]"
      ]
     },
     "metadata": {},
     "output_type": "display_data"
    },
    {
     "name": "stderr",
     "output_type": "stream",
     "text": [
      "<ipython-input-239-ac7843055b74>:13: UserWarning: To copy construct from a tensor, it is recommended to use sourceTensor.clone().detach() or sourceTensor.clone().detach().requires_grad_(True), rather than torch.tensor(sourceTensor).\n",
      "  t = torch.tensor(t, device=device)\n"
     ]
    }
   ],
   "source": [
    "epochs = 40\n",
    "batch_size = 64\n",
    "lr=1e-4\n",
    "\n",
    "score_model = ScoreNet(marginal_prob_std=marginal_prob_std_fn)\n",
    "optimizer = Adam(score_model.parameters(), lr=lr)\n",
    "dataset = data\n",
    "data_loader = DataLoader(dataset, batch_size=batch_size, shuffle=True)\n",
    "tqdm_epoch = notebook.trange(epochs)\n",
    "losses = []\n",
    "for epoch in tqdm_epoch:\n",
    "    avg_loss = 0.\n",
    "    num_items = 0\n",
    "    for x in data_loader:\n",
    "        loss = loss_fn(score_model, x, marginal_prob_std_fn)\n",
    "        optimizer.zero_grad()\n",
    "        loss.backward()    \n",
    "        optimizer.step()\n",
    "        avg_loss += loss.item() * x.shape[0]\n",
    "        num_items += x.shape[0]\n",
    "        \n",
    "    # Print the averaged training loss so far.\n",
    "    tqdm_epoch.set_description('Average Loss: {:5f}'.format(avg_loss / num_items))\n",
    "    # Update the checkpoint after each epoch of training.\n",
    "    torch.save(score_model.state_dict(), 'models/BOD.pth')\n",
    "    losses.append(avg_loss / num_items)"
   ]
  },
  {
   "cell_type": "code",
   "execution_count": 245,
   "id": "durable-organ",
   "metadata": {},
   "outputs": [
    {
     "data": {
      "text/plain": [
       "[<matplotlib.lines.Line2D at 0x7f8420083340>]"
      ]
     },
     "execution_count": 245,
     "metadata": {},
     "output_type": "execute_result"
    },
    {
     "data": {
      "image/png": "[encoded data removed]",
      "text/plain": [
       "<Figure size 432x288 with 1 Axes>"
      ]
     },
     "metadata": {
      "needs_background": "light"
     },
     "output_type": "display_data"
    }
   ],
   "source": [
    "plt.plot(losses)"
   ]
  },
  {
   "cell_type": "markdown",
   "id": "enclosed-ordinance",
   "metadata": {},
   "source": [
    "# PC sampler"
   ]
  },
  {
   "cell_type": "code",
   "execution_count": 246,
   "id": "retired-flush",
   "metadata": {},
   "outputs": [],
   "source": [
    "signal_to_noise_ratio = 0.16 \n",
    "\n",
    "num_steps =  500\n",
    "def pc_sampler(score_model, \n",
    "               marginal_prob_std,\n",
    "               diffusion_coeff,\n",
    "               batch_size=10000, \n",
    "               num_steps=num_steps, \n",
    "               snr=signal_to_noise_ratio,                \n",
    "               device='cpu',\n",
    "               eps=1e-3):\n",
    "    \"\"\"Generate samples from score-based models with Predictor-Corrector method.\n",
    "\n",
    "    Args:\n",
    "    score_model: A PyTorch model that represents the time-dependent score-based model.\n",
    "    marginal_prob_std: A function that gives the standard deviation\n",
    "      of the perturbation kernel.\n",
    "    diffusion_coeff: A function that gives the diffusion coefficient \n",
    "      of the SDE.\n",
    "    batch_size: The number of samplers to generate by calling this function once.\n",
    "    num_steps: The number of sampling steps. \n",
    "      Equivalent to the number of discretized time steps.    \n",
    "    device: 'cuda' for running on GPUs, and 'cpu' for running on CPUs.\n",
    "    eps: The smallest time step for numerical stability.\n",
    "\n",
    "    Returns: \n",
    "    Samples.\n",
    "    \"\"\"\n",
    "    t = torch.ones(batch_size, device=device)\n",
    "    init_x = torch.randn(batch_size, 7, device=device) * marginal_prob_std(t)[:, None]\n",
    "    time_steps = np.linspace(1., eps, num_steps)\n",
    "    step_size = time_steps[0] - time_steps[1]\n",
    "    x = init_x\n",
    "    with torch.no_grad():\n",
    "        for time_step in notebook.tqdm(time_steps):      \n",
    "            batch_time_step = torch.ones(batch_size, device=device) * time_step\n",
    "            batch_time_step_ = torch.reshape(batch_time_step, (x.shape[0], 1))\n",
    "            x_with_t = torch.hstack([x, batch_time_step_])\n",
    "            # Corrector step (Langevin MCMC)\n",
    "            grad = score_model(x_with_t)\n",
    "            grad_norm = torch.norm(grad.reshape(grad.shape[0], -1), dim=-1).mean()\n",
    "            noise_norm = np.sqrt(np.prod(x.shape[1:]))\n",
    "            langevin_step_size = 2 * (snr * noise_norm / grad_norm)**2\n",
    "            x = x + langevin_step_size * grad + torch.sqrt(2 * langevin_step_size) * torch.randn_like(x)      \n",
    "\n",
    "            # Predictor step (Euler-Maruyama)\n",
    "            g = diffusion_coeff(batch_time_step)\n",
    "            x_mean = x + (g**2)[:, None] * score_model(x_with_t) * step_size\n",
    "            x = x_mean + torch.sqrt(g**2 * step_size)[:, None] * torch.randn_like(x)      \n",
    "\n",
    "    # The last step does not include any noise\n",
    "    return x_mean"
   ]
  },
  {
   "cell_type": "code",
   "execution_count": 247,
   "id": "public-residence",
   "metadata": {},
   "outputs": [
    {
     "data": {
      "text/plain": [
       "<All keys matched successfully>"
      ]
     },
     "execution_count": 247,
     "metadata": {},
     "output_type": "execute_result"
    }
   ],
   "source": [
    "ckpt = torch.load('models/BOD.pth', map_location=device)\n",
    "score_model.load_state_dict(ckpt)"
   ]
  },
  {
   "cell_type": "code",
   "execution_count": 248,
   "id": "second-magazine",
   "metadata": {},
   "outputs": [
    {
     "name": "stderr",
     "output_type": "stream",
     "text": [
      "<ipython-input-239-ac7843055b74>:13: UserWarning: To copy construct from a tensor, it is recommended to use sourceTensor.clone().detach() or sourceTensor.clone().detach().requires_grad_(True), rather than torch.tensor(sourceTensor).\n",
      "  t = torch.tensor(t, device=device)\n"
     ]
    },
    {
     "data": {
      "application/json": {
       "ascii": false,
       "bar_format": null,
       "colour": null,
       "elapsed": 0.031090736389160156,
       "initial": 0,
       "n": 0,
       "ncols": null,
       "nrows": null,
       "postfix": null,
       "prefix": "",
       "rate": null,
       "total": 500,
       "unit": "it",
       "unit_divisor": 1000,
       "unit_scale": false
      },
      "application/vnd.jupyter.widget-view+json": {
       "model_id": "40835817a3f5436f8e34409a0594d334",
       "version_major": 2,
       "version_minor": 0
      },
      "text/plain": [
       "  0%|          | 0/500 [00:00<?, ?it/s]"
      ]
     },
     "metadata": {},
     "output_type": "display_data"
    }
   ],
   "source": [
    "pc_samples = pc_sampler(score_model, \n",
    "                  marginal_prob_std_fn,\n",
    "                  diffusion_coeff_fn)"
   ]
  },
  {
   "cell_type": "code",
   "execution_count": 249,
   "id": "personalized-recruitment",
   "metadata": {},
   "outputs": [
    {
     "data": {
      "text/plain": [
       "tensor([-0.0720, -0.0589,  0.1029,  0.1977,  0.2938,  0.3548,  0.4029])"
      ]
     },
     "execution_count": 249,
     "metadata": {},
     "output_type": "execute_result"
    }
   ],
   "source": [
    "torch.mean(pc_samples, axis=0)"
   ]
  },
  {
   "cell_type": "code",
   "execution_count": 250,
   "id": "computational-priest",
   "metadata": {},
   "outputs": [
    {
     "data": {
      "text/plain": [
       "tensor([0.0056, 0.0053, 0.1162, 0.2112, 0.2892, 0.3542, 0.4078])"
      ]
     },
     "execution_count": 250,
     "metadata": {},
     "output_type": "execute_result"
    }
   ],
   "source": [
    "torch.mean(data, axis=0)"
   ]
  },
  {
   "cell_type": "code",
   "execution_count": 251,
   "id": "distinguished-precipitation",
   "metadata": {},
   "outputs": [
    {
     "data": {
      "text/plain": [
       "tensor([1.1208, 1.1440, 0.0403, 0.0503, 0.0615, 0.0707, 0.0812])"
      ]
     },
     "execution_count": 251,
     "metadata": {},
     "output_type": "execute_result"
    }
   ],
   "source": [
    "torch.var(pc_samples, axis=0)"
   ]
  },
  {
   "cell_type": "code",
   "execution_count": null,
   "id": "entertaining-samoa",
   "metadata": {},
   "outputs": [],
   "source": []
  },
  {
   "cell_type": "code",
   "execution_count": 252,
   "id": "familiar-needle",
   "metadata": {},
   "outputs": [
    {
     "data": {
      "text/plain": [
       "<seaborn.axisgrid.FacetGrid at 0x7f84336ad1c0>"
      ]
     },
     "execution_count": 252,
     "metadata": {},
     "output_type": "execute_result"
    },
    {
     "data": {
      "image/png": "[encoded data removed]",
      "text/plain": [
       "<Figure size 360x360 with 1 Axes>"
      ]
     },
     "metadata": {
      "needs_background": "light"
     },
     "output_type": "display_data"
    }
   ],
   "source": [
    "gen_data = pd.DataFrame(pc_samples.numpy())\n",
    "gen_data.columns =['x1', 'x2', 'y1', 'y2', 'y3', 'y4', 'y5']\n",
    "sns.displot(gen_data, x ='x1', y='x2', kind=\"kde\")"
   ]
  },
  {
   "cell_type": "markdown",
   "id": "played-jacksonville",
   "metadata": {},
   "source": [
    "# CDiffE replacement method"
   ]
  },
  {
   "cell_type": "code",
   "execution_count": 292,
   "id": "faced-capitol",
   "metadata": {},
   "outputs": [],
   "source": [
    "def get_y_t(y_obs, t):\n",
    "    std = marginal_prob_std_fn(t)\n",
    "    z = torch.randn_like(y_obs)\n",
    "    perturbed_y = y_obs + z * std[:, None]\n",
    "    return perturbed_y"
   ]
  },
  {
   "cell_type": "code",
   "execution_count": null,
   "id": "basic-vegetable",
   "metadata": {},
   "outputs": [],
   "source": []
  },
  {
   "cell_type": "code",
   "execution_count": 425,
   "id": "minute-turkey",
   "metadata": {},
   "outputs": [],
   "source": [
    "def get_y_t(y_obs, t):\n",
    "    p = (sigma/0.01)**t.reshape(t.shape[0], 1)\n",
    "    return torch.randn(t.shape[0], y_obs.shape[0])*0.01*p + y_obs"
   ]
  },
  {
   "cell_type": "code",
   "execution_count": 349,
   "id": "black-peripheral",
   "metadata": {},
   "outputs": [
    {
     "data": {
      "text/plain": [
       "tensor([[-8.3599, -2.8646, -9.8003, -5.7505, -2.0603],\n",
       "        [-0.2470, -5.8231, -9.2932, -3.9299, -1.5366],\n",
       "        [ 3.3051,  5.8046,  2.7507,  0.5852,  1.2416],\n",
       "        [-0.3381,  0.1725, -1.2098,  0.8853, -1.7373],\n",
       "        [ 0.2665,  0.1482,  0.1993,  1.5936,  0.0677],\n",
       "        [ 0.3715,  0.3385,  0.5047,  0.3009,  0.5337],\n",
       "        [ 0.0165,  0.2989,  0.4509,  0.3737,  0.3651],\n",
       "        [ 0.2068,  0.2812,  0.4117,  0.5090,  0.5242],\n",
       "        [ 0.1872,  0.3078,  0.4174,  0.4802,  0.5584],\n",
       "        [ 0.1654,  0.3174,  0.4316,  0.4762,  0.5456],\n",
       "        [ 0.1947,  0.3193,  0.4002,  0.4894,  0.5536],\n",
       "        [ 0.1721,  0.3206,  0.4147,  0.4996,  0.5448]])"
      ]
     },
     "execution_count": 349,
     "metadata": {},
     "output_type": "execute_result"
    }
   ],
   "source": [
    "get_y_t_test(y_obs, torch.tensor([1,0.9,0.8,0.7,0.6,0.5,0.4,0.3,0.2,0.1,0.01,0.001]))"
   ]
  },
  {
   "cell_type": "code",
   "execution_count": 350,
   "id": "wooden-interpretation",
   "metadata": {},
   "outputs": [
    {
     "data": {
      "text/plain": [
       "tensor([[ 11.8237,   0.2921,  -1.7060, -12.0936,   9.5534],\n",
       "        [  4.1713,  -4.4886,  -3.3573,  -0.0147,  -2.1725],\n",
       "        [  1.0417,   1.4700,  -1.7802,  -2.5713,  -1.7647],\n",
       "        [  0.7817,   2.1699,   1.3887,   1.6080,  -1.2463],\n",
       "        [  0.5358,  -1.0108,  -0.2481,   0.4267,   0.9614],\n",
       "        [  0.4982,   0.6302,   0.6165,   0.1633,   0.6569],\n",
       "        [  0.2223,   0.4198,   0.3874,   0.3534,   0.6836],\n",
       "        [  0.1222,   0.2551,   0.3675,   0.5000,   0.5064],\n",
       "        [  0.1455,   0.3327,   0.3750,   0.4320,   0.5147],\n",
       "        [  0.1965,   0.3337,   0.3735,   0.4750,   0.5445],\n",
       "        [  0.1900,   0.3096,   0.4185,   0.4985,   0.5408],\n",
       "        [  0.1554,   0.3229,   0.3977,   0.4701,   0.5392]])"
      ]
     },
     "execution_count": 350,
     "metadata": {},
     "output_type": "execute_result"
    }
   ],
   "source": [
    "get_y_t(y_obs, torch.tensor([1,0.9,0.8,0.7,0.6,0.5,0.4,0.3,0.2,0.1,0.01,0.001]))"
   ]
  },
  {
   "cell_type": "code",
   "execution_count": 351,
   "id": "impressed-neighborhood",
   "metadata": {},
   "outputs": [
    {
     "data": {
      "text/plain": [
       "tensor([0.1800, 0.3200, 0.4200, 0.4900, 0.5400])"
      ]
     },
     "execution_count": 351,
     "metadata": {},
     "output_type": "execute_result"
    }
   ],
   "source": [
    "y_obs"
   ]
  },
  {
   "cell_type": "code",
   "execution_count": null,
   "id": "japanese-bowling",
   "metadata": {},
   "outputs": [],
   "source": []
  },
  {
   "cell_type": "code",
   "execution_count": 426,
   "id": "accessory-mailing",
   "metadata": {},
   "outputs": [],
   "source": [
    "num_steps =  1000\n",
    "def CDiffE_Euler_Maruyama_sampler(score_model, \n",
    "                           marginal_prob_std,\n",
    "                           diffusion_coeff, \n",
    "                           y_obs,\n",
    "                           batch_size=10000, \n",
    "                           num_steps=num_steps, \n",
    "                           eps=1e-4):\n",
    "    \"\"\"Generate samples from score-based models with the Euler-Maruyama solver.\n",
    "\n",
    "    Args:\n",
    "    score_model: A PyTorch model that represents the time-dependent score-based model.\n",
    "    marginal_prob_std: A function that gives the standard deviation of\n",
    "      the perturbation kernel.\n",
    "    diffusion_coeff: A function that gives the diffusion coefficient of the SDE.\n",
    "    batch_size: The number of samplers to generate by calling this function once.\n",
    "    num_steps: The number of sampling steps. \n",
    "      Equivalent to the number of discretized time steps.\n",
    "    device: 'cuda' for running on GPUs, and 'cpu' for running on CPUs.\n",
    "    eps: The smallest time step for numerical stability.\n",
    "\n",
    "    Returns:\n",
    "    Samples.    \n",
    "    \"\"\"\n",
    "    t = torch.ones(batch_size)\n",
    "    init_x = torch.randn(batch_size, 7) * marginal_prob_std(t)[:, None]\n",
    "    time_steps = torch.linspace(1., eps, num_steps)\n",
    "    step_size = time_steps[0] - time_steps[1]\n",
    "    x = init_x\n",
    "\n",
    "    with torch.no_grad():\n",
    "        for idx, time_step in enumerate(notebook.tqdm(time_steps)):\n",
    "            \n",
    "            batch_time_step = torch.ones(batch_size) * time_step\n",
    "            y_obs_t = get_y_t(y_obs, batch_time_step)\n",
    "\n",
    "            x = torch.hstack([x,y_obs_t])[:, [0,1,7,8,9,10,11]]\n",
    "\n",
    "            g = diffusion_coeff(batch_time_step)\n",
    "            batch_time_step_ = torch.reshape(batch_time_step, (x.shape[0], 1))\n",
    "            x_with_t = torch.hstack([x, batch_time_step_])\n",
    "            mean_x = x + (g**2)[:, None] * score_model(x_with_t) * step_size\n",
    "            x = mean_x + torch.sqrt(step_size) * g[:, None] * torch.randn_like(x) \n",
    "\n",
    "    return mean_x"
   ]
  },
  {
   "cell_type": "code",
   "execution_count": 439,
   "id": "inside-repair",
   "metadata": {},
   "outputs": [],
   "source": [
    "signal_to_noise_ratio = 0.16\n",
    "num_steps =  1000\n",
    "\n",
    "def CDiffE_pc_sampler(score_model, \n",
    "               marginal_prob_std,\n",
    "               diffusion_coeff,\n",
    "               y_obs,\n",
    "               batch_size=2048, \n",
    "               num_steps=num_steps, \n",
    "               snr=signal_to_noise_ratio,\n",
    "               eps=1e-5):\n",
    "    \"\"\"Generate samples from score-based models with Predictor-Corrector method.\n",
    "\n",
    "    Args:\n",
    "    score_model: A PyTorch model that represents the time-dependent score-based model.\n",
    "    marginal_prob_std: A function that gives the standard deviation\n",
    "      of the perturbation kernel.\n",
    "    diffusion_coeff: A function that gives the diffusion coefficient \n",
    "      of the SDE.\n",
    "    batch_size: The number of samplers to generate by calling this function once.\n",
    "    num_steps: The number of sampling steps. \n",
    "      Equivalent to the number of discretized time steps.    \n",
    "    device: 'cuda' for running on GPUs, and 'cpu' for running on CPUs.\n",
    "    eps: The smallest time step for numerical stability.\n",
    "\n",
    "    Returns: \n",
    "    Samples.\n",
    "    \"\"\"\n",
    "    t = torch.ones(batch_size)\n",
    "    init_x = torch.randn(batch_size, 7) * marginal_prob_std(t)[:, None]\n",
    "    time_steps = torch.linspace(1., eps, num_steps)\n",
    "    step_size = time_steps[0] - time_steps[1]\n",
    "    x = init_x\n",
    "    \n",
    "    with torch.no_grad():\n",
    "        for time_step in notebook.tqdm(time_steps):   \n",
    "            \n",
    "            batch_time_step = torch.ones(batch_size, device=device) * time_step\n",
    "            batch_time_step_ = torch.reshape(batch_time_step, (x.shape[0], 1))\n",
    "            batch_time_step = torch.ones(batch_size) * time_step\n",
    "            \n",
    "            y_obs_t = get_y_t(y_obs, batch_time_step)\n",
    "            x = torch.hstack([x,y_obs_t])[:, [0,1,7,8,9,10,11]]\n",
    "            \n",
    "            x_with_t = torch.hstack([x, batch_time_step_])\n",
    "            # Corrector step (Langevin MCMC)\n",
    "            grad = score_model(x_with_t)\n",
    "            grad_norm = torch.norm(grad.reshape(grad.shape[0], -1), dim=-1).mean()\n",
    "            noise_norm = np.sqrt(np.prod(x.shape[1:]))\n",
    "            langevin_step_size = 2 * (snr * noise_norm / grad_norm)**2\n",
    "            x = x + langevin_step_size * grad + torch.sqrt(2 * langevin_step_size) * torch.randn_like(x)      \n",
    "\n",
    "            # Predictor step (Euler-Maruyama)\n",
    "            g = diffusion_coeff(batch_time_step)\n",
    "            x_mean = x + (g**2)[:, None] * score_model(x_with_t) * step_size\n",
    "            x = x_mean + torch.sqrt(g**2 * step_size)[:, None] * torch.randn_like(x)\n",
    "            \n",
    "            \n",
    "    return x"
   ]
  },
  {
   "cell_type": "code",
   "execution_count": 440,
   "id": "imported-niagara",
   "metadata": {},
   "outputs": [],
   "source": [
    "y_obs = torch.tensor([0.18, 0.32, 0.42, 0.49, 0.54])"
   ]
  },
  {
   "cell_type": "code",
   "execution_count": 441,
   "id": "secondary-satellite",
   "metadata": {},
   "outputs": [
    {
     "name": "stderr",
     "output_type": "stream",
     "text": [
      "<ipython-input-239-ac7843055b74>:13: UserWarning: To copy construct from a tensor, it is recommended to use sourceTensor.clone().detach() or sourceTensor.clone().detach().requires_grad_(True), rather than torch.tensor(sourceTensor).\n",
      "  t = torch.tensor(t, device=device)\n"
     ]
    },
    {
     "data": {
      "application/json": {
       "ascii": false,
       "bar_format": null,
       "colour": null,
       "elapsed": 0.027784109115600586,
       "initial": 0,
       "n": 0,
       "ncols": null,
       "nrows": null,
       "postfix": null,
       "prefix": "",
       "rate": null,
       "total": 1000,
       "unit": "it",
       "unit_divisor": 1000,
       "unit_scale": false
      },
      "application/vnd.jupyter.widget-view+json": {
       "model_id": "358b11d116c44f6daf0f3f88202af985",
       "version_major": 2,
       "version_minor": 0
      },
      "text/plain": [
       "  0%|          | 0/1000 [00:00<?, ?it/s]"
      ]
     },
     "metadata": {},
     "output_type": "display_data"
    }
   ],
   "source": [
    "ckpt = torch.load('models/BOD.pth', map_location=device)\n",
    "score_model.load_state_dict(ckpt)\n",
    "cdiffe_samples = CDiffE_pc_sampler(score_model, \n",
    "                           marginal_prob_std_fn,\n",
    "                           diffusion_coeff_fn, \n",
    "                           y_obs = y_obs, batch_size = 1000)"
   ]
  },
  {
   "cell_type": "code",
   "execution_count": 442,
   "id": "explicit-sigma",
   "metadata": {},
   "outputs": [],
   "source": [
    "test = pd.DataFrame(cdiffe_samples.numpy())\n",
    "test.columns =['x1', 'x2', 'y1', 'y2', 'y3', 'y4', 'y5']"
   ]
  },
  {
   "cell_type": "code",
   "execution_count": 443,
   "id": "decimal-north",
   "metadata": {},
   "outputs": [
    {
     "data": {
      "text/plain": [
       "<seaborn.axisgrid.FacetGrid at 0x7f8424ca3940>"
      ]
     },
     "execution_count": 443,
     "metadata": {},
     "output_type": "execute_result"
    },
    {
     "data": {
      "image/png": "[encoded data removed]",
      "text/plain": [
       "<Figure size 360x360 with 1 Axes>"
      ]
     },
     "metadata": {
      "needs_background": "light"
     },
     "output_type": "display_data"
    }
   ],
   "source": [
    "sns.displot(test, x ='x1', y='x2', kind=\"kde\")"
   ]
  },
  {
   "cell_type": "code",
   "execution_count": 444,
   "id": "passing-framework",
   "metadata": {},
   "outputs": [
    {
     "data": {
      "text/plain": [
       "tensor([0.1648, 0.4158, 0.1799, 0.3199, 0.4198, 0.4896, 0.5396])"
      ]
     },
     "execution_count": 444,
     "metadata": {},
     "output_type": "execute_result"
    }
   ],
   "source": [
    "torch.mean(cdiffe_samples, axis=0)"
   ]
  },
  {
   "cell_type": "code",
   "execution_count": 445,
   "id": "annoying-airline",
   "metadata": {},
   "outputs": [
    {
     "data": {
      "text/plain": [
       "tensor([5.8100e-01, 3.9058e-01, 1.0559e-04, 1.0016e-04, 1.0324e-04, 1.0000e-04,\n",
       "        9.5208e-05])"
      ]
     },
     "execution_count": 445,
     "metadata": {},
     "output_type": "execute_result"
    }
   ],
   "source": [
    "torch.var(cdiffe_samples, axis=0)"
   ]
  },
  {
   "cell_type": "code",
   "execution_count": 446,
   "id": "geographic-intake",
   "metadata": {},
   "outputs": [
    {
     "data": {
      "text/plain": [
       "array([0.17773095, 0.3918483 ], dtype=float32)"
      ]
     },
     "execution_count": 446,
     "metadata": {},
     "output_type": "execute_result"
    }
   ],
   "source": [
    "scipy.stats.skew(cdiffe_samples[:, [0,1]])"
   ]
  },
  {
   "cell_type": "code",
   "execution_count": 447,
   "id": "asian-maryland",
   "metadata": {},
   "outputs": [
    {
     "data": {
      "text/plain": [
       "array([0.13309717, 0.07637811], dtype=float32)"
      ]
     },
     "execution_count": 447,
     "metadata": {},
     "output_type": "execute_result"
    }
   ],
   "source": [
    "scipy.stats.kurtosis(cdiffe_samples[:, [0,1]])"
   ]
  },
  {
   "cell_type": "markdown",
   "id": "shaped-democracy",
   "metadata": {},
   "source": [
    "# CDE tailored conditional method"
   ]
  },
  {
   "cell_type": "code",
   "execution_count": 448,
   "id": "junior-atlas",
   "metadata": {},
   "outputs": [],
   "source": [
    "def CDE_loss_fn(model, x, marginal_prob_std, eps=1e-5):\n",
    "    \"\"\"The loss function for training score-based generative models.\n",
    "\n",
    "    Args:\n",
    "    model: A PyTorch model instance that represents a \n",
    "      time-dependent score-based model.\n",
    "    x: A mini-batch of training data.    \n",
    "    marginal_prob_std: A function that gives the standard deviation of \n",
    "      the perturbation kernel.\n",
    "    eps: A tolerance value for numerical stability.\n",
    "    \"\"\"\n",
    "    y = x[:,[2,3,4,5,6]]\n",
    "    random_t = torch.rand(x.shape[0]) * (1. - eps) + eps  \n",
    "    std = marginal_prob_std(random_t)\n",
    "    random_t = torch.reshape(random_t, (x.shape[0], 1))\n",
    "    z = torch.randn_like(x)\n",
    "    perturbed_x = x + z * std[:, None]\n",
    "    perturbed_x = torch.hstack([perturbed_x,y])\n",
    "    perturbed_x = perturbed_x[:, [0,1,7,8,9,10,11]]\n",
    "    \n",
    "    x_with_t = torch.hstack([perturbed_x,random_t])\n",
    "    x_with_t = x_with_t.to(torch.float32)\n",
    "    score = model(x_with_t)\n",
    "    loss = torch.mean(torch.sum((score * std[:, None] + z)**2, dim=0))\n",
    "    return loss"
   ]
  },
  {
   "cell_type": "code",
   "execution_count": 449,
   "id": "dental-operation",
   "metadata": {},
   "outputs": [],
   "source": [
    "signal_to_noise_ratio = 0.16\n",
    "num_steps =  1000\n",
    "\n",
    "def CDE_pc_sampler(score_model, \n",
    "               marginal_prob_std,\n",
    "               diffusion_coeff,\n",
    "               y_obs,\n",
    "               batch_size=2048, \n",
    "               num_steps=num_steps, \n",
    "               snr=signal_to_noise_ratio,\n",
    "               eps=1e-3):\n",
    "    \"\"\"Generate samples from score-based models with Predictor-Corrector method.\n",
    "\n",
    "    Args:\n",
    "    score_model: A PyTorch model that represents the time-dependent score-based model.\n",
    "    marginal_prob_std: A function that gives the standard deviation\n",
    "      of the perturbation kernel.\n",
    "    diffusion_coeff: A function that gives the diffusion coefficient \n",
    "      of the SDE.\n",
    "    batch_size: The number of samplers to generate by calling this function once.\n",
    "    num_steps: The number of sampling steps. \n",
    "      Equivalent to the number of discretized time steps.    \n",
    "    device: 'cuda' for running on GPUs, and 'cpu' for running on CPUs.\n",
    "    eps: The smallest time step for numerical stability.\n",
    "\n",
    "    Returns: \n",
    "    Samples.\n",
    "    \"\"\"\n",
    "    t = torch.ones(batch_size, device=device)\n",
    "    init_x = torch.randn(batch_size, 2, device=device) * marginal_prob_std(t)[:, None]\n",
    "    time_steps = np.linspace(1., eps, num_steps)\n",
    "    step_size = time_steps[0] - time_steps[1]\n",
    "    y_obs = y_obs.repeat(batch_size)\n",
    "    y_obs = y_obs.reshape(batch_size,5)\n",
    "    x = torch.hstack([init_x, y_obs])\n",
    "    with torch.no_grad():\n",
    "        for time_step in notebook.tqdm(time_steps):      \n",
    "            batch_time_step = torch.ones(batch_size, device=device) * time_step\n",
    "            batch_time_step_ = torch.reshape(batch_time_step, (x.shape[0], 1))\n",
    "            x_with_t = torch.hstack([x, batch_time_step_])\n",
    "            # Corrector step (Langevin MCMC)\n",
    "            grad = score_model(x_with_t)\n",
    "            grad_norm = torch.norm(grad.reshape(grad.shape[0], -1), dim=-1).mean()\n",
    "            noise_norm = np.sqrt(np.prod(x.shape[1:]))\n",
    "            langevin_step_size = 2 * (snr * noise_norm / grad_norm)**2\n",
    "            x = x + langevin_step_size * grad + torch.sqrt(2 * langevin_step_size) * torch.randn_like(x)      \n",
    "\n",
    "            # Predictor step (Euler-Maruyama)\n",
    "            g = diffusion_coeff(batch_time_step)\n",
    "            x_mean = x + (g**2)[:, None] * score_model(x_with_t) * step_size\n",
    "            x = x_mean + torch.sqrt(g**2 * step_size)[:, None] * torch.randn_like(x)\n",
    "            \n",
    "            #conditional info\n",
    "            x = torch.hstack([x,y_obs])\n",
    "            x = x[:, [0,1,7,8,9,10,11]]\n",
    "\n",
    "    return x"
   ]
  },
  {
   "cell_type": "code",
   "execution_count": 276,
   "id": "composed-pharmacy",
   "metadata": {},
   "outputs": [
    {
     "data": {
      "application/json": {
       "ascii": false,
       "bar_format": null,
       "colour": null,
       "elapsed": 0.0278778076171875,
       "initial": 0,
       "n": 0,
       "ncols": null,
       "nrows": null,
       "postfix": null,
       "prefix": "",
       "rate": null,
       "total": 100,
       "unit": "it",
       "unit_divisor": 1000,
       "unit_scale": false
      },
      "application/vnd.jupyter.widget-view+json": {
       "model_id": "6f6c632049384c0b921e7ac6e59c9144",
       "version_major": 2,
       "version_minor": 0
      },
      "text/plain": [
       "  0%|          | 0/100 [00:00<?, ?it/s]"
      ]
     },
     "metadata": {},
     "output_type": "display_data"
    },
    {
     "name": "stderr",
     "output_type": "stream",
     "text": [
      "<ipython-input-239-ac7843055b74>:13: UserWarning: To copy construct from a tensor, it is recommended to use sourceTensor.clone().detach() or sourceTensor.clone().detach().requires_grad_(True), rather than torch.tensor(sourceTensor).\n",
      "  t = torch.tensor(t, device=device)\n"
     ]
    }
   ],
   "source": [
    "epochs = 100\n",
    "batch_size = 100\n",
    "lr=1e-4\n",
    "\n",
    "score_model = ScoreNet(marginal_prob_std=marginal_prob_std_fn)\n",
    "score_model = score_model.to(device)\n",
    "optimizer = Adam(score_model.parameters(), lr=lr)\n",
    "dataset = data\n",
    "data_loader = DataLoader(dataset, batch_size=batch_size, shuffle=True)\n",
    "tqdm_epoch = notebook.trange(epochs)\n",
    "losses = []\n",
    "for epoch in tqdm_epoch:\n",
    "    avg_loss = 0.\n",
    "    num_items = 0\n",
    "    for x in data_loader:\n",
    "        loss = CDE_loss_fn(score_model, x, marginal_prob_std_fn)\n",
    "        optimizer.zero_grad(set_to_none=True)\n",
    "        loss.backward()    \n",
    "        optimizer.step()\n",
    "        avg_loss += loss.item() * x.shape[0]\n",
    "        num_items += x.shape[0]\n",
    "        \n",
    "    # Print the averaged training loss so far.\n",
    "    tqdm_epoch.set_description('Average Loss: {:5f}'.format(avg_loss / num_items))\n",
    "    # Update the checkpoint after each epoch of training.\n",
    "    torch.save(score_model.state_dict(), 'models/cde_BOD.pth')\n",
    "    losses.append(avg_loss / num_items)"
   ]
  },
  {
   "cell_type": "code",
   "execution_count": 277,
   "id": "stupid-motor",
   "metadata": {},
   "outputs": [
    {
     "data": {
      "text/plain": [
       "[<matplotlib.lines.Line2D at 0x7f84203cfdc0>]"
      ]
     },
     "execution_count": 277,
     "metadata": {},
     "output_type": "execute_result"
    },
    {
     "data": {
      "image/png": "[encoded data removed]",
      "text/plain": [
       "<Figure size 432x288 with 1 Axes>"
      ]
     },
     "metadata": {
      "needs_background": "light"
     },
     "output_type": "display_data"
    }
   ],
   "source": [
    "plt.plot(losses)"
   ]
  },
  {
   "cell_type": "code",
   "execution_count": 450,
   "id": "mounted-vanilla",
   "metadata": {},
   "outputs": [
    {
     "name": "stderr",
     "output_type": "stream",
     "text": [
      "<ipython-input-239-ac7843055b74>:13: UserWarning: To copy construct from a tensor, it is recommended to use sourceTensor.clone().detach() or sourceTensor.clone().detach().requires_grad_(True), rather than torch.tensor(sourceTensor).\n",
      "  t = torch.tensor(t, device=device)\n"
     ]
    },
    {
     "data": {
      "application/json": {
       "ascii": false,
       "bar_format": null,
       "colour": null,
       "elapsed": 0.028807878494262695,
       "initial": 0,
       "n": 0,
       "ncols": null,
       "nrows": null,
       "postfix": null,
       "prefix": "",
       "rate": null,
       "total": 1000,
       "unit": "it",
       "unit_divisor": 1000,
       "unit_scale": false
      },
      "application/vnd.jupyter.widget-view+json": {
       "model_id": "cf605ff75cfd4d0cb13d4477fd1ffb2b",
       "version_major": 2,
       "version_minor": 0
      },
      "text/plain": [
       "  0%|          | 0/1000 [00:00<?, ?it/s]"
      ]
     },
     "metadata": {},
     "output_type": "display_data"
    }
   ],
   "source": [
    "ckpt = torch.load('models/cde_BOD.pth', map_location=device)\n",
    "score_model.load_state_dict(ckpt)\n",
    "cde_samples = CDE_pc_sampler(score_model, \n",
    "                           marginal_prob_std_fn,\n",
    "                           diffusion_coeff_fn, \n",
    "                           y_obs = y_obs, batch_size = 1000)"
   ]
  },
  {
   "cell_type": "code",
   "execution_count": 451,
   "id": "unlike-ecology",
   "metadata": {},
   "outputs": [],
   "source": [
    "test = pd.DataFrame(cde_samples.numpy())\n",
    "test.columns =['x1', 'x2', 'y1', 'y2', 'y3', 'y4', 'y5']"
   ]
  },
  {
   "cell_type": "code",
   "execution_count": 452,
   "id": "pretty-things",
   "metadata": {},
   "outputs": [
    {
     "data": {
      "text/plain": [
       "<seaborn.axisgrid.FacetGrid at 0x7f8423df3e50>"
      ]
     },
     "execution_count": 452,
     "metadata": {},
     "output_type": "execute_result"
    },
    {
     "data": {
      "image/png": "[encoded data removed]",
      "text/plain": [
       "<Figure size 360x360 with 1 Axes>"
      ]
     },
     "metadata": {
      "needs_background": "light"
     },
     "output_type": "display_data"
    }
   ],
   "source": [
    "sns.displot(test, x ='x1', y='x2', kind=\"kde\")"
   ]
  },
  {
   "cell_type": "code",
   "execution_count": 453,
   "id": "earned-permit",
   "metadata": {},
   "outputs": [
    {
     "data": {
      "text/plain": [
       "tensor([-7.3549e-04,  8.8182e-01,  1.8000e-01,  3.2000e-01,  4.2000e-01,\n",
       "         4.9000e-01,  5.4000e-01])"
      ]
     },
     "execution_count": 453,
     "metadata": {},
     "output_type": "execute_result"
    }
   ],
   "source": [
    "torch.mean(cde_samples, axis=0)"
   ]
  },
  {
   "cell_type": "code",
   "execution_count": 454,
   "id": "divided-stevens",
   "metadata": {},
   "outputs": [
    {
     "data": {
      "text/plain": [
       "tensor([0.0944, 0.2669, 0.0000, 0.0000, 0.0000, 0.0000, 0.0000])"
      ]
     },
     "execution_count": 454,
     "metadata": {},
     "output_type": "execute_result"
    }
   ],
   "source": [
    "torch.var(cde_samples, axis=0)"
   ]
  },
  {
   "cell_type": "code",
   "execution_count": 455,
   "id": "afraid-means",
   "metadata": {},
   "outputs": [
    {
     "data": {
      "text/plain": [
       "array([1.4441807 , 0.67647547], dtype=float32)"
      ]
     },
     "execution_count": 455,
     "metadata": {},
     "output_type": "execute_result"
    }
   ],
   "source": [
    "scipy.stats.skew(cde_samples[:,[0,1]])"
   ]
  },
  {
   "cell_type": "code",
   "execution_count": 456,
   "id": "eleven-strip",
   "metadata": {},
   "outputs": [
    {
     "data": {
      "text/plain": [
       "array([4.805719  , 0.42322612], dtype=float32)"
      ]
     },
     "execution_count": 456,
     "metadata": {},
     "output_type": "execute_result"
    }
   ],
   "source": [
    "scipy.stats.kurtosis(cde_samples[:,[0,1]])"
   ]
  },
  {
   "cell_type": "markdown",
   "id": "constant-mineral",
   "metadata": {},
   "source": [
    "# SMCDiff method"
   ]
  },
  {
   "cell_type": "code",
   "execution_count": null,
   "id": "popular-canal",
   "metadata": {},
   "outputs": [],
   "source": [
    "def get_next_x(x, batch_size, score_model, diffusion_coeff, time_step, step_size):\n",
    "    #returns the predicted (x_{t-1}, y_{t-1}) based on the current diffused (x_t, y_t)\n",
    "    batch_time_step = torch.ones(batch_size) * time_step\n",
    "    g = diffusion_coeff(batch_time_step)\n",
    "    batch_time_step_ = torch.reshape(batch_time_step, (x.shape[0], 1))\n",
    "    x_with_t = torch.hstack([x, batch_time_step_])\n",
    "    mean_x = x + (g**2)[:, None] * score_model(x_with_t) * step_size\n",
    "    sd = torch.sqrt(step_size) * g[:, None]\n",
    "    return mean_x, sd"
   ]
  },
  {
   "cell_type": "code",
   "execution_count": 175,
   "id": "binding-inspiration",
   "metadata": {},
   "outputs": [],
   "source": [
    "def get_diffused_y(y_obs, timesteps):\n",
    "    timesteps = torch.flip(timesteps, [0])\n",
    "    diffused_y = [y_obs]\n",
    "    num_steps = timesteps.shape[0]\n",
    "    dt = 1 / num_steps\n",
    "    g = diffusion_coeff_fn(timesteps)\n",
    "    for i in range(num_steps-1):\n",
    "        g_i = g[i]\n",
    "        z = np.random.normal(0,1)\n",
    "        y_i = diffused_y[-1] + g_i * np.sqrt(dt) * z\n",
    "        diffused_y.append(y_i)\n",
    "    return diffused_y"
   ]
  },
  {
   "cell_type": "code",
   "execution_count": null,
   "id": "bored-american",
   "metadata": {},
   "outputs": [],
   "source": [
    "def SMCDiff_Euler_Maruyama_sampler(score_model, marginal_prob_std, diffusion_coeff, y_obs, k, \n",
    "                                   num_steps=1000, eps=1e-3):\n",
    "    \"\"\"Generate samples from score-based models with the Euler-Maruyama solver.\n",
    "\n",
    "    Args:\n",
    "    score_model: A PyTorch model that represents the time-dependent score-based model.\n",
    "    marginal_prob_std: A function that gives the standard deviation of the perturbation kernel.\n",
    "    diffusion_coeff: A function that gives the diffusion coefficient of the SDE.\n",
    "    y_obs: A tensor of the conditional y information\n",
    "    k: The number of particles used in particle filtering\n",
    "    batch_size: The number of samples to generate by calling this function once.\n",
    "    num_steps: The number of sampling steps. Equivalent to the number of discretized time steps.\n",
    "    eps: The smallest time step for numerical stability.\n",
    "\n",
    "    Returns:\n",
    "    Samples.    \n",
    "    \"\"\"\n",
    "    t = torch.ones(k)\n",
    "    time_steps = torch.linspace(1., eps, num_steps)\n",
    "    step_size = time_steps[0] - time_steps[1]\n",
    "    weights = np.ones(k)/k\n",
    "    xs = []\n",
    "    init_x = torch.randn(k, 7) * marginal_prob_std(t)[:, None]\n",
    "    xs.append(init_x)\n",
    "    diffused_y = [i.repeat(k).reshape(k,5) for i in get_diffused_y(y_obs, time_steps)]\n",
    "    \n",
    "    with torch.no_grad():\n",
    "        for idx, time_step in enumerate(notebook.tqdm(time_steps)):\n",
    "            idx = num_steps - idx - 1\n",
    "            batch_time_step = torch.ones(k) * time_step\n",
    "            #y_obs_t = get_y_t(y_obs, batch_time_step)\n",
    "            y_obs_t = diffused_y[idx]\n",
    "            x = xs[-1]\n",
    "            x = torch.hstack([x,y_obs_t])[:, [0,1,7,8,9,10,11]]\n",
    "            \n",
    "            #get predicted y_{t-1}\n",
    "            if (idx - 1) >= 0:\n",
    "                y_update_mean, sd = get_next_x(x, k, score_model, diffusion_coeff, time_step, step_size)\n",
    "                y_update_mean = y_update_mean[:,[7,8,9,10,11]]\n",
    "                #get probability of this compared to actual y_{t-1}\n",
    "                #y_update_actual = get_y_t(y_obs, batch_time_step - step_size).flatten()\n",
    "                y_update_actual = diffused_y[idx-1].flatten()\n",
    "\n",
    "                # compute un-normalized weighting factor for importance resampling step\n",
    "                log_w = -np.divide(np.power(y_update_actual-y_update_mean, 2), (2*(sd[0]**2)))\n",
    "                log_w -= torch.logsumexp(log_w, 0)\n",
    "\n",
    "                # Update Self-normalized importance weights\n",
    "                weights = torch.exp(log_w).cpu().detach().numpy()\n",
    "\n",
    "                weights /= sum(weights) # Re-normalize\n",
    "                \n",
    "                resample_index = multinomial_resample(weights)\n",
    "\n",
    "                x = x[resample_index]\n",
    "                weights = np.ones_like(weights)\n",
    "            \n",
    "            mu, sd = get_next_x(x, k, score_model, diffusion_coeff, time_step, step_size)\n",
    "            x_t_1 = mu + sd * torch.randn_like(x) \n",
    "            xs.append(x_t_1)\n",
    "\n",
    "    return xs[-1]"
   ]
  },
  {
   "cell_type": "code",
   "execution_count": 183,
   "id": "precious-memorial",
   "metadata": {},
   "outputs": [
    {
     "name": "stderr",
     "output_type": "stream",
     "text": [
      "<ipython-input-140-b2c94ea648fc>:26: UserWarning: To copy construct from a tensor, it is recommended to use sourceTensor.clone().detach() or sourceTensor.clone().detach().requires_grad_(True), rather than torch.tensor(sourceTensor).\n",
      "  return torch.tensor(sigma**t, device=device)\n"
     ]
    },
    {
     "data": {
      "text/plain": [
       "[tensor([[0.1800, 0.3200, 0.4200, 0.4900, 0.5400],\n",
       "         [0.1800, 0.3200, 0.4200, 0.4900, 0.5400],\n",
       "         [0.1800, 0.3200, 0.4200, 0.4900, 0.5400],\n",
       "         [0.1800, 0.3200, 0.4200, 0.4900, 0.5400],\n",
       "         [0.1800, 0.3200, 0.4200, 0.4900, 0.5400],\n",
       "         [0.1800, 0.3200, 0.4200, 0.4900, 0.5400],\n",
       "         [0.1800, 0.3200, 0.4200, 0.4900, 0.5400],\n",
       "         [0.1800, 0.3200, 0.4200, 0.4900, 0.5400],\n",
       "         [0.1800, 0.3200, 0.4200, 0.4900, 0.5400],\n",
       "         [0.1800, 0.3200, 0.4200, 0.4900, 0.5400]]),\n",
       " tensor([[0.1078, 0.2478, 0.3478, 0.4178, 0.4678],\n",
       "         [0.1078, 0.2478, 0.3478, 0.4178, 0.4678],\n",
       "         [0.1078, 0.2478, 0.3478, 0.4178, 0.4678],\n",
       "         [0.1078, 0.2478, 0.3478, 0.4178, 0.4678],\n",
       "         [0.1078, 0.2478, 0.3478, 0.4178, 0.4678],\n",
       "         [0.1078, 0.2478, 0.3478, 0.4178, 0.4678],\n",
       "         [0.1078, 0.2478, 0.3478, 0.4178, 0.4678],\n",
       "         [0.1078, 0.2478, 0.3478, 0.4178, 0.4678],\n",
       "         [0.1078, 0.2478, 0.3478, 0.4178, 0.4678],\n",
       "         [0.1078, 0.2478, 0.3478, 0.4178, 0.4678]]),\n",
       " tensor([[0.2162, 0.3562, 0.4562, 0.5262, 0.5762],\n",
       "         [0.2162, 0.3562, 0.4562, 0.5262, 0.5762],\n",
       "         [0.2162, 0.3562, 0.4562, 0.5262, 0.5762],\n",
       "         [0.2162, 0.3562, 0.4562, 0.5262, 0.5762],\n",
       "         [0.2162, 0.3562, 0.4562, 0.5262, 0.5762],\n",
       "         [0.2162, 0.3562, 0.4562, 0.5262, 0.5762],\n",
       "         [0.2162, 0.3562, 0.4562, 0.5262, 0.5762],\n",
       "         [0.2162, 0.3562, 0.4562, 0.5262, 0.5762],\n",
       "         [0.2162, 0.3562, 0.4562, 0.5262, 0.5762],\n",
       "         [0.2162, 0.3562, 0.4562, 0.5262, 0.5762]]),\n",
       " tensor([[0.3208, 0.4608, 0.5608, 0.6308, 0.6808],\n",
       "         [0.3208, 0.4608, 0.5608, 0.6308, 0.6808],\n",
       "         [0.3208, 0.4608, 0.5608, 0.6308, 0.6808],\n",
       "         [0.3208, 0.4608, 0.5608, 0.6308, 0.6808],\n",
       "         [0.3208, 0.4608, 0.5608, 0.6308, 0.6808],\n",
       "         [0.3208, 0.4608, 0.5608, 0.6308, 0.6808],\n",
       "         [0.3208, 0.4608, 0.5608, 0.6308, 0.6808],\n",
       "         [0.3208, 0.4608, 0.5608, 0.6308, 0.6808],\n",
       "         [0.3208, 0.4608, 0.5608, 0.6308, 0.6808],\n",
       "         [0.3208, 0.4608, 0.5608, 0.6308, 0.6808]]),\n",
       " tensor([[0.3525, 0.4925, 0.5925, 0.6625, 0.7125],\n",
       "         [0.3525, 0.4925, 0.5925, 0.6625, 0.7125],\n",
       "         [0.3525, 0.4925, 0.5925, 0.6625, 0.7125],\n",
       "         [0.3525, 0.4925, 0.5925, 0.6625, 0.7125],\n",
       "         [0.3525, 0.4925, 0.5925, 0.6625, 0.7125],\n",
       "         [0.3525, 0.4925, 0.5925, 0.6625, 0.7125],\n",
       "         [0.3525, 0.4925, 0.5925, 0.6625, 0.7125],\n",
       "         [0.3525, 0.4925, 0.5925, 0.6625, 0.7125],\n",
       "         [0.3525, 0.4925, 0.5925, 0.6625, 0.7125],\n",
       "         [0.3525, 0.4925, 0.5925, 0.6625, 0.7125]]),\n",
       " tensor([[0.3186, 0.4586, 0.5586, 0.6286, 0.6786],\n",
       "         [0.3186, 0.4586, 0.5586, 0.6286, 0.6786],\n",
       "         [0.3186, 0.4586, 0.5586, 0.6286, 0.6786],\n",
       "         [0.3186, 0.4586, 0.5586, 0.6286, 0.6786],\n",
       "         [0.3186, 0.4586, 0.5586, 0.6286, 0.6786],\n",
       "         [0.3186, 0.4586, 0.5586, 0.6286, 0.6786],\n",
       "         [0.3186, 0.4586, 0.5586, 0.6286, 0.6786],\n",
       "         [0.3186, 0.4586, 0.5586, 0.6286, 0.6786],\n",
       "         [0.3186, 0.4586, 0.5586, 0.6286, 0.6786],\n",
       "         [0.3186, 0.4586, 0.5586, 0.6286, 0.6786]]),\n",
       " tensor([[0.5159, 0.6559, 0.7559, 0.8259, 0.8759],\n",
       "         [0.5159, 0.6559, 0.7559, 0.8259, 0.8759],\n",
       "         [0.5159, 0.6559, 0.7559, 0.8259, 0.8759],\n",
       "         [0.5159, 0.6559, 0.7559, 0.8259, 0.8759],\n",
       "         [0.5159, 0.6559, 0.7559, 0.8259, 0.8759],\n",
       "         [0.5159, 0.6559, 0.7559, 0.8259, 0.8759],\n",
       "         [0.5159, 0.6559, 0.7559, 0.8259, 0.8759],\n",
       "         [0.5159, 0.6559, 0.7559, 0.8259, 0.8759],\n",
       "         [0.5159, 0.6559, 0.7559, 0.8259, 0.8759],\n",
       "         [0.5159, 0.6559, 0.7559, 0.8259, 0.8759]]),\n",
       " tensor([[0.6331, 0.7731, 0.8731, 0.9431, 0.9931],\n",
       "         [0.6331, 0.7731, 0.8731, 0.9431, 0.9931],\n",
       "         [0.6331, 0.7731, 0.8731, 0.9431, 0.9931],\n",
       "         [0.6331, 0.7731, 0.8731, 0.9431, 0.9931],\n",
       "         [0.6331, 0.7731, 0.8731, 0.9431, 0.9931],\n",
       "         [0.6331, 0.7731, 0.8731, 0.9431, 0.9931],\n",
       "         [0.6331, 0.7731, 0.8731, 0.9431, 0.9931],\n",
       "         [0.6331, 0.7731, 0.8731, 0.9431, 0.9931],\n",
       "         [0.6331, 0.7731, 0.8731, 0.9431, 0.9931],\n",
       "         [0.6331, 0.7731, 0.8731, 0.9431, 0.9931]]),\n",
       " tensor([[0.6458, 0.7858, 0.8858, 0.9558, 1.0058],\n",
       "         [0.6458, 0.7858, 0.8858, 0.9558, 1.0058],\n",
       "         [0.6458, 0.7858, 0.8858, 0.9558, 1.0058],\n",
       "         [0.6458, 0.7858, 0.8858, 0.9558, 1.0058],\n",
       "         [0.6458, 0.7858, 0.8858, 0.9558, 1.0058],\n",
       "         [0.6458, 0.7858, 0.8858, 0.9558, 1.0058],\n",
       "         [0.6458, 0.7858, 0.8858, 0.9558, 1.0058],\n",
       "         [0.6458, 0.7858, 0.8858, 0.9558, 1.0058],\n",
       "         [0.6458, 0.7858, 0.8858, 0.9558, 1.0058],\n",
       "         [0.6458, 0.7858, 0.8858, 0.9558, 1.0058]]),\n",
       " tensor([[0.5817, 0.7217, 0.8217, 0.8917, 0.9417],\n",
       "         [0.5817, 0.7217, 0.8217, 0.8917, 0.9417],\n",
       "         [0.5817, 0.7217, 0.8217, 0.8917, 0.9417],\n",
       "         [0.5817, 0.7217, 0.8217, 0.8917, 0.9417],\n",
       "         [0.5817, 0.7217, 0.8217, 0.8917, 0.9417],\n",
       "         [0.5817, 0.7217, 0.8217, 0.8917, 0.9417],\n",
       "         [0.5817, 0.7217, 0.8217, 0.8917, 0.9417],\n",
       "         [0.5817, 0.7217, 0.8217, 0.8917, 0.9417],\n",
       "         [0.5817, 0.7217, 0.8217, 0.8917, 0.9417],\n",
       "         [0.5817, 0.7217, 0.8217, 0.8917, 0.9417]]),\n",
       " tensor([[0.7870, 0.9270, 1.0270, 1.0970, 1.1470],\n",
       "         [0.7870, 0.9270, 1.0270, 1.0970, 1.1470],\n",
       "         [0.7870, 0.9270, 1.0270, 1.0970, 1.1470],\n",
       "         [0.7870, 0.9270, 1.0270, 1.0970, 1.1470],\n",
       "         [0.7870, 0.9270, 1.0270, 1.0970, 1.1470],\n",
       "         [0.7870, 0.9270, 1.0270, 1.0970, 1.1470],\n",
       "         [0.7870, 0.9270, 1.0270, 1.0970, 1.1470],\n",
       "         [0.7870, 0.9270, 1.0270, 1.0970, 1.1470],\n",
       "         [0.7870, 0.9270, 1.0270, 1.0970, 1.1470],\n",
       "         [0.7870, 0.9270, 1.0270, 1.0970, 1.1470]]),\n",
       " tensor([[0.6630, 0.8030, 0.9030, 0.9730, 1.0230],\n",
       "         [0.6630, 0.8030, 0.9030, 0.9730, 1.0230],\n",
       "         [0.6630, 0.8030, 0.9030, 0.9730, 1.0230],\n",
       "         [0.6630, 0.8030, 0.9030, 0.9730, 1.0230],\n",
       "         [0.6630, 0.8030, 0.9030, 0.9730, 1.0230],\n",
       "         [0.6630, 0.8030, 0.9030, 0.9730, 1.0230],\n",
       "         [0.6630, 0.8030, 0.9030, 0.9730, 1.0230],\n",
       "         [0.6630, 0.8030, 0.9030, 0.9730, 1.0230],\n",
       "         [0.6630, 0.8030, 0.9030, 0.9730, 1.0230],\n",
       "         [0.6630, 0.8030, 0.9030, 0.9730, 1.0230]]),\n",
       " tensor([[0.7674, 0.9074, 1.0074, 1.0774, 1.1274],\n",
       "         [0.7674, 0.9074, 1.0074, 1.0774, 1.1274],\n",
       "         [0.7674, 0.9074, 1.0074, 1.0774, 1.1274],\n",
       "         [0.7674, 0.9074, 1.0074, 1.0774, 1.1274],\n",
       "         [0.7674, 0.9074, 1.0074, 1.0774, 1.1274],\n",
       "         [0.7674, 0.9074, 1.0074, 1.0774, 1.1274],\n",
       "         [0.7674, 0.9074, 1.0074, 1.0774, 1.1274],\n",
       "         [0.7674, 0.9074, 1.0074, 1.0774, 1.1274],\n",
       "         [0.7674, 0.9074, 1.0074, 1.0774, 1.1274],\n",
       "         [0.7674, 0.9074, 1.0074, 1.0774, 1.1274]]),\n",
       " tensor([[0.8545, 0.9945, 1.0945, 1.1645, 1.2145],\n",
       "         [0.8545, 0.9945, 1.0945, 1.1645, 1.2145],\n",
       "         [0.8545, 0.9945, 1.0945, 1.1645, 1.2145],\n",
       "         [0.8545, 0.9945, 1.0945, 1.1645, 1.2145],\n",
       "         [0.8545, 0.9945, 1.0945, 1.1645, 1.2145],\n",
       "         [0.8545, 0.9945, 1.0945, 1.1645, 1.2145],\n",
       "         [0.8545, 0.9945, 1.0945, 1.1645, 1.2145],\n",
       "         [0.8545, 0.9945, 1.0945, 1.1645, 1.2145],\n",
       "         [0.8545, 0.9945, 1.0945, 1.1645, 1.2145],\n",
       "         [0.8545, 0.9945, 1.0945, 1.1645, 1.2145]]),\n",
       " tensor([[0.9225, 1.0625, 1.1625, 1.2325, 1.2825],\n",
       "         [0.9225, 1.0625, 1.1625, 1.2325, 1.2825],\n",
       "         [0.9225, 1.0625, 1.1625, 1.2325, 1.2825],\n",
       "         [0.9225, 1.0625, 1.1625, 1.2325, 1.2825],\n",
       "         [0.9225, 1.0625, 1.1625, 1.2325, 1.2825],\n",
       "         [0.9225, 1.0625, 1.1625, 1.2325, 1.2825],\n",
       "         [0.9225, 1.0625, 1.1625, 1.2325, 1.2825],\n",
       "         [0.9225, 1.0625, 1.1625, 1.2325, 1.2825],\n",
       "         [0.9225, 1.0625, 1.1625, 1.2325, 1.2825],\n",
       "         [0.9225, 1.0625, 1.1625, 1.2325, 1.2825]]),\n",
       " tensor([[0.8348, 0.9748, 1.0748, 1.1448, 1.1948],\n",
       "         [0.8348, 0.9748, 1.0748, 1.1448, 1.1948],\n",
       "         [0.8348, 0.9748, 1.0748, 1.1448, 1.1948],\n",
       "         [0.8348, 0.9748, 1.0748, 1.1448, 1.1948],\n",
       "         [0.8348, 0.9748, 1.0748, 1.1448, 1.1948],\n",
       "         [0.8348, 0.9748, 1.0748, 1.1448, 1.1948],\n",
       "         [0.8348, 0.9748, 1.0748, 1.1448, 1.1948],\n",
       "         [0.8348, 0.9748, 1.0748, 1.1448, 1.1948],\n",
       "         [0.8348, 0.9748, 1.0748, 1.1448, 1.1948],\n",
       "         [0.8348, 0.9748, 1.0748, 1.1448, 1.1948]]),\n",
       " tensor([[1.0838, 1.2238, 1.3238, 1.3938, 1.4438],\n",
       "         [1.0838, 1.2238, 1.3238, 1.3938, 1.4438],\n",
       "         [1.0838, 1.2238, 1.3238, 1.3938, 1.4438],\n",
       "         [1.0838, 1.2238, 1.3238, 1.3938, 1.4438],\n",
       "         [1.0838, 1.2238, 1.3238, 1.3938, 1.4438],\n",
       "         [1.0838, 1.2238, 1.3238, 1.3938, 1.4438],\n",
       "         [1.0838, 1.2238, 1.3238, 1.3938, 1.4438],\n",
       "         [1.0838, 1.2238, 1.3238, 1.3938, 1.4438],\n",
       "         [1.0838, 1.2238, 1.3238, 1.3938, 1.4438],\n",
       "         [1.0838, 1.2238, 1.3238, 1.3938, 1.4438]]),\n",
       " tensor([[0.9160, 1.0560, 1.1560, 1.2260, 1.2760],\n",
       "         [0.9160, 1.0560, 1.1560, 1.2260, 1.2760],\n",
       "         [0.9160, 1.0560, 1.1560, 1.2260, 1.2760],\n",
       "         [0.9160, 1.0560, 1.1560, 1.2260, 1.2760],\n",
       "         [0.9160, 1.0560, 1.1560, 1.2260, 1.2760],\n",
       "         [0.9160, 1.0560, 1.1560, 1.2260, 1.2760],\n",
       "         [0.9160, 1.0560, 1.1560, 1.2260, 1.2760],\n",
       "         [0.9160, 1.0560, 1.1560, 1.2260, 1.2760],\n",
       "         [0.9160, 1.0560, 1.1560, 1.2260, 1.2760],\n",
       "         [0.9160, 1.0560, 1.1560, 1.2260, 1.2760]]),\n",
       " tensor([[1.1758, 1.3158, 1.4158, 1.4858, 1.5358],\n",
       "         [1.1758, 1.3158, 1.4158, 1.4858, 1.5358],\n",
       "         [1.1758, 1.3158, 1.4158, 1.4858, 1.5358],\n",
       "         [1.1758, 1.3158, 1.4158, 1.4858, 1.5358],\n",
       "         [1.1758, 1.3158, 1.4158, 1.4858, 1.5358],\n",
       "         [1.1758, 1.3158, 1.4158, 1.4858, 1.5358],\n",
       "         [1.1758, 1.3158, 1.4158, 1.4858, 1.5358],\n",
       "         [1.1758, 1.3158, 1.4158, 1.4858, 1.5358],\n",
       "         [1.1758, 1.3158, 1.4158, 1.4858, 1.5358],\n",
       "         [1.1758, 1.3158, 1.4158, 1.4858, 1.5358]]),\n",
       " tensor([[0.8924, 1.0324, 1.1324, 1.2024, 1.2524],\n",
       "         [0.8924, 1.0324, 1.1324, 1.2024, 1.2524],\n",
       "         [0.8924, 1.0324, 1.1324, 1.2024, 1.2524],\n",
       "         [0.8924, 1.0324, 1.1324, 1.2024, 1.2524],\n",
       "         [0.8924, 1.0324, 1.1324, 1.2024, 1.2524],\n",
       "         [0.8924, 1.0324, 1.1324, 1.2024, 1.2524],\n",
       "         [0.8924, 1.0324, 1.1324, 1.2024, 1.2524],\n",
       "         [0.8924, 1.0324, 1.1324, 1.2024, 1.2524],\n",
       "         [0.8924, 1.0324, 1.1324, 1.2024, 1.2524],\n",
       "         [0.8924, 1.0324, 1.1324, 1.2024, 1.2524]]),\n",
       " tensor([[0.5653, 0.7053, 0.8053, 0.8753, 0.9253],\n",
       "         [0.5653, 0.7053, 0.8053, 0.8753, 0.9253],\n",
       "         [0.5653, 0.7053, 0.8053, 0.8753, 0.9253],\n",
       "         [0.5653, 0.7053, 0.8053, 0.8753, 0.9253],\n",
       "         [0.5653, 0.7053, 0.8053, 0.8753, 0.9253],\n",
       "         [0.5653, 0.7053, 0.8053, 0.8753, 0.9253],\n",
       "         [0.5653, 0.7053, 0.8053, 0.8753, 0.9253],\n",
       "         [0.5653, 0.7053, 0.8053, 0.8753, 0.9253],\n",
       "         [0.5653, 0.7053, 0.8053, 0.8753, 0.9253],\n",
       "         [0.5653, 0.7053, 0.8053, 0.8753, 0.9253]]),\n",
       " tensor([[0.6202, 0.7602, 0.8602, 0.9302, 0.9802],\n",
       "         [0.6202, 0.7602, 0.8602, 0.9302, 0.9802],\n",
       "         [0.6202, 0.7602, 0.8602, 0.9302, 0.9802],\n",
       "         [0.6202, 0.7602, 0.8602, 0.9302, 0.9802],\n",
       "         [0.6202, 0.7602, 0.8602, 0.9302, 0.9802],\n",
       "         [0.6202, 0.7602, 0.8602, 0.9302, 0.9802],\n",
       "         [0.6202, 0.7602, 0.8602, 0.9302, 0.9802],\n",
       "         [0.6202, 0.7602, 0.8602, 0.9302, 0.9802],\n",
       "         [0.6202, 0.7602, 0.8602, 0.9302, 0.9802],\n",
       "         [0.6202, 0.7602, 0.8602, 0.9302, 0.9802]]),\n",
       " tensor([[0.6969, 0.8369, 0.9369, 1.0069, 1.0569],\n",
       "         [0.6969, 0.8369, 0.9369, 1.0069, 1.0569],\n",
       "         [0.6969, 0.8369, 0.9369, 1.0069, 1.0569],\n",
       "         [0.6969, 0.8369, 0.9369, 1.0069, 1.0569],\n",
       "         [0.6969, 0.8369, 0.9369, 1.0069, 1.0569],\n",
       "         [0.6969, 0.8369, 0.9369, 1.0069, 1.0569],\n",
       "         [0.6969, 0.8369, 0.9369, 1.0069, 1.0569],\n",
       "         [0.6969, 0.8369, 0.9369, 1.0069, 1.0569],\n",
       "         [0.6969, 0.8369, 0.9369, 1.0069, 1.0569],\n",
       "         [0.6969, 0.8369, 0.9369, 1.0069, 1.0569]]),\n",
       " tensor([[0.2711, 0.4111, 0.5111, 0.5811, 0.6311],\n",
       "         [0.2711, 0.4111, 0.5111, 0.5811, 0.6311],\n",
       "         [0.2711, 0.4111, 0.5111, 0.5811, 0.6311],\n",
       "         [0.2711, 0.4111, 0.5111, 0.5811, 0.6311],\n",
       "         [0.2711, 0.4111, 0.5111, 0.5811, 0.6311],\n",
       "         [0.2711, 0.4111, 0.5111, 0.5811, 0.6311],\n",
       "         [0.2711, 0.4111, 0.5111, 0.5811, 0.6311],\n",
       "         [0.2711, 0.4111, 0.5111, 0.5811, 0.6311],\n",
       "         [0.2711, 0.4111, 0.5111, 0.5811, 0.6311],\n",
       "         [0.2711, 0.4111, 0.5111, 0.5811, 0.6311]]),\n",
       " tensor([[0.3051, 0.4451, 0.5451, 0.6151, 0.6651],\n",
       "         [0.3051, 0.4451, 0.5451, 0.6151, 0.6651],\n",
       "         [0.3051, 0.4451, 0.5451, 0.6151, 0.6651],\n",
       "         [0.3051, 0.4451, 0.5451, 0.6151, 0.6651],\n",
       "         [0.3051, 0.4451, 0.5451, 0.6151, 0.6651],\n",
       "         [0.3051, 0.4451, 0.5451, 0.6151, 0.6651],\n",
       "         [0.3051, 0.4451, 0.5451, 0.6151, 0.6651],\n",
       "         [0.3051, 0.4451, 0.5451, 0.6151, 0.6651],\n",
       "         [0.3051, 0.4451, 0.5451, 0.6151, 0.6651],\n",
       "         [0.3051, 0.4451, 0.5451, 0.6151, 0.6651]]),\n",
       " tensor([[0.4314, 0.5714, 0.6714, 0.7414, 0.7914],\n",
       "         [0.4314, 0.5714, 0.6714, 0.7414, 0.7914],\n",
       "         [0.4314, 0.5714, 0.6714, 0.7414, 0.7914],\n",
       "         [0.4314, 0.5714, 0.6714, 0.7414, 0.7914],\n",
       "         [0.4314, 0.5714, 0.6714, 0.7414, 0.7914],\n",
       "         [0.4314, 0.5714, 0.6714, 0.7414, 0.7914],\n",
       "         [0.4314, 0.5714, 0.6714, 0.7414, 0.7914],\n",
       "         [0.4314, 0.5714, 0.6714, 0.7414, 0.7914],\n",
       "         [0.4314, 0.5714, 0.6714, 0.7414, 0.7914],\n",
       "         [0.4314, 0.5714, 0.6714, 0.7414, 0.7914]]),\n",
       " tensor([[0.8277, 0.9677, 1.0677, 1.1377, 1.1877],\n",
       "         [0.8277, 0.9677, 1.0677, 1.1377, 1.1877],\n",
       "         [0.8277, 0.9677, 1.0677, 1.1377, 1.1877],\n",
       "         [0.8277, 0.9677, 1.0677, 1.1377, 1.1877],\n",
       "         [0.8277, 0.9677, 1.0677, 1.1377, 1.1877],\n",
       "         [0.8277, 0.9677, 1.0677, 1.1377, 1.1877],\n",
       "         [0.8277, 0.9677, 1.0677, 1.1377, 1.1877],\n",
       "         [0.8277, 0.9677, 1.0677, 1.1377, 1.1877],\n",
       "         [0.8277, 0.9677, 1.0677, 1.1377, 1.1877],\n",
       "         [0.8277, 0.9677, 1.0677, 1.1377, 1.1877]]),\n",
       " tensor([[0.4418, 0.5818, 0.6818, 0.7518, 0.8018],\n",
       "         [0.4418, 0.5818, 0.6818, 0.7518, 0.8018],\n",
       "         [0.4418, 0.5818, 0.6818, 0.7518, 0.8018],\n",
       "         [0.4418, 0.5818, 0.6818, 0.7518, 0.8018],\n",
       "         [0.4418, 0.5818, 0.6818, 0.7518, 0.8018],\n",
       "         [0.4418, 0.5818, 0.6818, 0.7518, 0.8018],\n",
       "         [0.4418, 0.5818, 0.6818, 0.7518, 0.8018],\n",
       "         [0.4418, 0.5818, 0.6818, 0.7518, 0.8018],\n",
       "         [0.4418, 0.5818, 0.6818, 0.7518, 0.8018],\n",
       "         [0.4418, 0.5818, 0.6818, 0.7518, 0.8018]]),\n",
       " tensor([[0.3889, 0.5289, 0.6289, 0.6989, 0.7489],\n",
       "         [0.3889, 0.5289, 0.6289, 0.6989, 0.7489],\n",
       "         [0.3889, 0.5289, 0.6289, 0.6989, 0.7489],\n",
       "         [0.3889, 0.5289, 0.6289, 0.6989, 0.7489],\n",
       "         [0.3889, 0.5289, 0.6289, 0.6989, 0.7489],\n",
       "         [0.3889, 0.5289, 0.6289, 0.6989, 0.7489],\n",
       "         [0.3889, 0.5289, 0.6289, 0.6989, 0.7489],\n",
       "         [0.3889, 0.5289, 0.6289, 0.6989, 0.7489],\n",
       "         [0.3889, 0.5289, 0.6289, 0.6989, 0.7489],\n",
       "         [0.3889, 0.5289, 0.6289, 0.6989, 0.7489]]),\n",
       " tensor([[-0.0292,  0.1108,  0.2108,  0.2808,  0.3308],\n",
       "         [-0.0292,  0.1108,  0.2108,  0.2808,  0.3308],\n",
       "         [-0.0292,  0.1108,  0.2108,  0.2808,  0.3308],\n",
       "         [-0.0292,  0.1108,  0.2108,  0.2808,  0.3308],\n",
       "         [-0.0292,  0.1108,  0.2108,  0.2808,  0.3308],\n",
       "         [-0.0292,  0.1108,  0.2108,  0.2808,  0.3308],\n",
       "         [-0.0292,  0.1108,  0.2108,  0.2808,  0.3308],\n",
       "         [-0.0292,  0.1108,  0.2108,  0.2808,  0.3308],\n",
       "         [-0.0292,  0.1108,  0.2108,  0.2808,  0.3308],\n",
       "         [-0.0292,  0.1108,  0.2108,  0.2808,  0.3308]]),\n",
       " tensor([[-0.0844,  0.0556,  0.1556,  0.2256,  0.2756],\n",
       "         [-0.0844,  0.0556,  0.1556,  0.2256,  0.2756],\n",
       "         [-0.0844,  0.0556,  0.1556,  0.2256,  0.2756],\n",
       "         [-0.0844,  0.0556,  0.1556,  0.2256,  0.2756],\n",
       "         [-0.0844,  0.0556,  0.1556,  0.2256,  0.2756],\n",
       "         [-0.0844,  0.0556,  0.1556,  0.2256,  0.2756],\n",
       "         [-0.0844,  0.0556,  0.1556,  0.2256,  0.2756],\n",
       "         [-0.0844,  0.0556,  0.1556,  0.2256,  0.2756],\n",
       "         [-0.0844,  0.0556,  0.1556,  0.2256,  0.2756],\n",
       "         [-0.0844,  0.0556,  0.1556,  0.2256,  0.2756]]),\n",
       " tensor([[0.0537, 0.1937, 0.2937, 0.3637, 0.4137],\n",
       "         [0.0537, 0.1937, 0.2937, 0.3637, 0.4137],\n",
       "         [0.0537, 0.1937, 0.2937, 0.3637, 0.4137],\n",
       "         [0.0537, 0.1937, 0.2937, 0.3637, 0.4137],\n",
       "         [0.0537, 0.1937, 0.2937, 0.3637, 0.4137],\n",
       "         [0.0537, 0.1937, 0.2937, 0.3637, 0.4137],\n",
       "         [0.0537, 0.1937, 0.2937, 0.3637, 0.4137],\n",
       "         [0.0537, 0.1937, 0.2937, 0.3637, 0.4137],\n",
       "         [0.0537, 0.1937, 0.2937, 0.3637, 0.4137],\n",
       "         [0.0537, 0.1937, 0.2937, 0.3637, 0.4137]]),\n",
       " tensor([[-0.0555,  0.0845,  0.1845,  0.2545,  0.3045],\n",
       "         [-0.0555,  0.0845,  0.1845,  0.2545,  0.3045],\n",
       "         [-0.0555,  0.0845,  0.1845,  0.2545,  0.3045],\n",
       "         [-0.0555,  0.0845,  0.1845,  0.2545,  0.3045],\n",
       "         [-0.0555,  0.0845,  0.1845,  0.2545,  0.3045],\n",
       "         [-0.0555,  0.0845,  0.1845,  0.2545,  0.3045],\n",
       "         [-0.0555,  0.0845,  0.1845,  0.2545,  0.3045],\n",
       "         [-0.0555,  0.0845,  0.1845,  0.2545,  0.3045],\n",
       "         [-0.0555,  0.0845,  0.1845,  0.2545,  0.3045],\n",
       "         [-0.0555,  0.0845,  0.1845,  0.2545,  0.3045]]),\n",
       " tensor([[0.0951, 0.2351, 0.3351, 0.4051, 0.4551],\n",
       "         [0.0951, 0.2351, 0.3351, 0.4051, 0.4551],\n",
       "         [0.0951, 0.2351, 0.3351, 0.4051, 0.4551],\n",
       "         [0.0951, 0.2351, 0.3351, 0.4051, 0.4551],\n",
       "         [0.0951, 0.2351, 0.3351, 0.4051, 0.4551],\n",
       "         [0.0951, 0.2351, 0.3351, 0.4051, 0.4551],\n",
       "         [0.0951, 0.2351, 0.3351, 0.4051, 0.4551],\n",
       "         [0.0951, 0.2351, 0.3351, 0.4051, 0.4551],\n",
       "         [0.0951, 0.2351, 0.3351, 0.4051, 0.4551],\n",
       "         [0.0951, 0.2351, 0.3351, 0.4051, 0.4551]]),\n",
       " tensor([[0.0522, 0.1922, 0.2922, 0.3622, 0.4122],\n",
       "         [0.0522, 0.1922, 0.2922, 0.3622, 0.4122],\n",
       "         [0.0522, 0.1922, 0.2922, 0.3622, 0.4122],\n",
       "         [0.0522, 0.1922, 0.2922, 0.3622, 0.4122],\n",
       "         [0.0522, 0.1922, 0.2922, 0.3622, 0.4122],\n",
       "         [0.0522, 0.1922, 0.2922, 0.3622, 0.4122],\n",
       "         [0.0522, 0.1922, 0.2922, 0.3622, 0.4122],\n",
       "         [0.0522, 0.1922, 0.2922, 0.3622, 0.4122],\n",
       "         [0.0522, 0.1922, 0.2922, 0.3622, 0.4122],\n",
       "         [0.0522, 0.1922, 0.2922, 0.3622, 0.4122]]),\n",
       " tensor([[-0.3035, -0.1635, -0.0635,  0.0065,  0.0565],\n",
       "         [-0.3035, -0.1635, -0.0635,  0.0065,  0.0565],\n",
       "         [-0.3035, -0.1635, -0.0635,  0.0065,  0.0565],\n",
       "         [-0.3035, -0.1635, -0.0635,  0.0065,  0.0565],\n",
       "         [-0.3035, -0.1635, -0.0635,  0.0065,  0.0565],\n",
       "         [-0.3035, -0.1635, -0.0635,  0.0065,  0.0565],\n",
       "         [-0.3035, -0.1635, -0.0635,  0.0065,  0.0565],\n",
       "         [-0.3035, -0.1635, -0.0635,  0.0065,  0.0565],\n",
       "         [-0.3035, -0.1635, -0.0635,  0.0065,  0.0565],\n",
       "         [-0.3035, -0.1635, -0.0635,  0.0065,  0.0565]]),\n",
       " tensor([[-0.3596, -0.2196, -0.1196, -0.0496,  0.0004],\n",
       "         [-0.3596, -0.2196, -0.1196, -0.0496,  0.0004],\n",
       "         [-0.3596, -0.2196, -0.1196, -0.0496,  0.0004],\n",
       "         [-0.3596, -0.2196, -0.1196, -0.0496,  0.0004],\n",
       "         [-0.3596, -0.2196, -0.1196, -0.0496,  0.0004],\n",
       "         [-0.3596, -0.2196, -0.1196, -0.0496,  0.0004],\n",
       "         [-0.3596, -0.2196, -0.1196, -0.0496,  0.0004],\n",
       "         [-0.3596, -0.2196, -0.1196, -0.0496,  0.0004],\n",
       "         [-0.3596, -0.2196, -0.1196, -0.0496,  0.0004],\n",
       "         [-0.3596, -0.2196, -0.1196, -0.0496,  0.0004]]),\n",
       " tensor([[-0.5937, -0.4537, -0.3537, -0.2837, -0.2337],\n",
       "         [-0.5937, -0.4537, -0.3537, -0.2837, -0.2337],\n",
       "         [-0.5937, -0.4537, -0.3537, -0.2837, -0.2337],\n",
       "         [-0.5937, -0.4537, -0.3537, -0.2837, -0.2337],\n",
       "         [-0.5937, -0.4537, -0.3537, -0.2837, -0.2337],\n",
       "         [-0.5937, -0.4537, -0.3537, -0.2837, -0.2337],\n",
       "         [-0.5937, -0.4537, -0.3537, -0.2837, -0.2337],\n",
       "         [-0.5937, -0.4537, -0.3537, -0.2837, -0.2337],\n",
       "         [-0.5937, -0.4537, -0.3537, -0.2837, -0.2337],\n",
       "         [-0.5937, -0.4537, -0.3537, -0.2837, -0.2337]]),\n",
       " tensor([[-0.9331, -0.7931, -0.6931, -0.6231, -0.5731],\n",
       "         [-0.9331, -0.7931, -0.6931, -0.6231, -0.5731],\n",
       "         [-0.9331, -0.7931, -0.6931, -0.6231, -0.5731],\n",
       "         [-0.9331, -0.7931, -0.6931, -0.6231, -0.5731],\n",
       "         [-0.9331, -0.7931, -0.6931, -0.6231, -0.5731],\n",
       "         [-0.9331, -0.7931, -0.6931, -0.6231, -0.5731],\n",
       "         [-0.9331, -0.7931, -0.6931, -0.6231, -0.5731],\n",
       "         [-0.9331, -0.7931, -0.6931, -0.6231, -0.5731],\n",
       "         [-0.9331, -0.7931, -0.6931, -0.6231, -0.5731],\n",
       "         [-0.9331, -0.7931, -0.6931, -0.6231, -0.5731]]),\n",
       " tensor([[-1.0964, -0.9564, -0.8564, -0.7864, -0.7364],\n",
       "         [-1.0964, -0.9564, -0.8564, -0.7864, -0.7364],\n",
       "         [-1.0964, -0.9564, -0.8564, -0.7864, -0.7364],\n",
       "         [-1.0964, -0.9564, -0.8564, -0.7864, -0.7364],\n",
       "         [-1.0964, -0.9564, -0.8564, -0.7864, -0.7364],\n",
       "         [-1.0964, -0.9564, -0.8564, -0.7864, -0.7364],\n",
       "         [-1.0964, -0.9564, -0.8564, -0.7864, -0.7364],\n",
       "         [-1.0964, -0.9564, -0.8564, -0.7864, -0.7364],\n",
       "         [-1.0964, -0.9564, -0.8564, -0.7864, -0.7364],\n",
       "         [-1.0964, -0.9564, -0.8564, -0.7864, -0.7364]]),\n",
       " tensor([[-1.1355, -0.9955, -0.8955, -0.8255, -0.7755],\n",
       "         [-1.1355, -0.9955, -0.8955, -0.8255, -0.7755],\n",
       "         [-1.1355, -0.9955, -0.8955, -0.8255, -0.7755],\n",
       "         [-1.1355, -0.9955, -0.8955, -0.8255, -0.7755],\n",
       "         [-1.1355, -0.9955, -0.8955, -0.8255, -0.7755],\n",
       "         [-1.1355, -0.9955, -0.8955, -0.8255, -0.7755],\n",
       "         [-1.1355, -0.9955, -0.8955, -0.8255, -0.7755],\n",
       "         [-1.1355, -0.9955, -0.8955, -0.8255, -0.7755],\n",
       "         [-1.1355, -0.9955, -0.8955, -0.8255, -0.7755],\n",
       "         [-1.1355, -0.9955, -0.8955, -0.8255, -0.7755]]),\n",
       " tensor([[-0.9361, -0.7961, -0.6961, -0.6261, -0.5761],\n",
       "         [-0.9361, -0.7961, -0.6961, -0.6261, -0.5761],\n",
       "         [-0.9361, -0.7961, -0.6961, -0.6261, -0.5761],\n",
       "         [-0.9361, -0.7961, -0.6961, -0.6261, -0.5761],\n",
       "         [-0.9361, -0.7961, -0.6961, -0.6261, -0.5761],\n",
       "         [-0.9361, -0.7961, -0.6961, -0.6261, -0.5761],\n",
       "         [-0.9361, -0.7961, -0.6961, -0.6261, -0.5761],\n",
       "         [-0.9361, -0.7961, -0.6961, -0.6261, -0.5761],\n",
       "         [-0.9361, -0.7961, -0.6961, -0.6261, -0.5761],\n",
       "         [-0.9361, -0.7961, -0.6961, -0.6261, -0.5761]]),\n",
       " tensor([[-1.4418, -1.3018, -1.2018, -1.1318, -1.0818],\n",
       "         [-1.4418, -1.3018, -1.2018, -1.1318, -1.0818],\n",
       "         [-1.4418, -1.3018, -1.2018, -1.1318, -1.0818],\n",
       "         [-1.4418, -1.3018, -1.2018, -1.1318, -1.0818],\n",
       "         [-1.4418, -1.3018, -1.2018, -1.1318, -1.0818],\n",
       "         [-1.4418, -1.3018, -1.2018, -1.1318, -1.0818],\n",
       "         [-1.4418, -1.3018, -1.2018, -1.1318, -1.0818],\n",
       "         [-1.4418, -1.3018, -1.2018, -1.1318, -1.0818],\n",
       "         [-1.4418, -1.3018, -1.2018, -1.1318, -1.0818],\n",
       "         [-1.4418, -1.3018, -1.2018, -1.1318, -1.0818]]),\n",
       " tensor([[-1.7373, -1.5973, -1.4973, -1.4273, -1.3773],\n",
       "         [-1.7373, -1.5973, -1.4973, -1.4273, -1.3773],\n",
       "         [-1.7373, -1.5973, -1.4973, -1.4273, -1.3773],\n",
       "         [-1.7373, -1.5973, -1.4973, -1.4273, -1.3773],\n",
       "         [-1.7373, -1.5973, -1.4973, -1.4273, -1.3773],\n",
       "         [-1.7373, -1.5973, -1.4973, -1.4273, -1.3773],\n",
       "         [-1.7373, -1.5973, -1.4973, -1.4273, -1.3773],\n",
       "         [-1.7373, -1.5973, -1.4973, -1.4273, -1.3773],\n",
       "         [-1.7373, -1.5973, -1.4973, -1.4273, -1.3773],\n",
       "         [-1.7373, -1.5973, -1.4973, -1.4273, -1.3773]]),\n",
       " tensor([[-1.5085, -1.3685, -1.2685, -1.1985, -1.1485],\n",
       "         [-1.5085, -1.3685, -1.2685, -1.1985, -1.1485],\n",
       "         [-1.5085, -1.3685, -1.2685, -1.1985, -1.1485],\n",
       "         [-1.5085, -1.3685, -1.2685, -1.1985, -1.1485],\n",
       "         [-1.5085, -1.3685, -1.2685, -1.1985, -1.1485],\n",
       "         [-1.5085, -1.3685, -1.2685, -1.1985, -1.1485],\n",
       "         [-1.5085, -1.3685, -1.2685, -1.1985, -1.1485],\n",
       "         [-1.5085, -1.3685, -1.2685, -1.1985, -1.1485],\n",
       "         [-1.5085, -1.3685, -1.2685, -1.1985, -1.1485],\n",
       "         [-1.5085, -1.3685, -1.2685, -1.1985, -1.1485]]),\n",
       " tensor([[-1.3937, -1.2537, -1.1537, -1.0837, -1.0337],\n",
       "         [-1.3937, -1.2537, -1.1537, -1.0837, -1.0337],\n",
       "         [-1.3937, -1.2537, -1.1537, -1.0837, -1.0337],\n",
       "         [-1.3937, -1.2537, -1.1537, -1.0837, -1.0337],\n",
       "         [-1.3937, -1.2537, -1.1537, -1.0837, -1.0337],\n",
       "         [-1.3937, -1.2537, -1.1537, -1.0837, -1.0337],\n",
       "         [-1.3937, -1.2537, -1.1537, -1.0837, -1.0337],\n",
       "         [-1.3937, -1.2537, -1.1537, -1.0837, -1.0337],\n",
       "         [-1.3937, -1.2537, -1.1537, -1.0837, -1.0337],\n",
       "         [-1.3937, -1.2537, -1.1537, -1.0837, -1.0337]]),\n",
       " tensor([[-1.3116, -1.1716, -1.0716, -1.0016, -0.9516],\n",
       "         [-1.3116, -1.1716, -1.0716, -1.0016, -0.9516],\n",
       "         [-1.3116, -1.1716, -1.0716, -1.0016, -0.9516],\n",
       "         [-1.3116, -1.1716, -1.0716, -1.0016, -0.9516],\n",
       "         [-1.3116, -1.1716, -1.0716, -1.0016, -0.9516],\n",
       "         [-1.3116, -1.1716, -1.0716, -1.0016, -0.9516],\n",
       "         [-1.3116, -1.1716, -1.0716, -1.0016, -0.9516],\n",
       "         [-1.3116, -1.1716, -1.0716, -1.0016, -0.9516],\n",
       "         [-1.3116, -1.1716, -1.0716, -1.0016, -0.9516],\n",
       "         [-1.3116, -1.1716, -1.0716, -1.0016, -0.9516]]),\n",
       " tensor([[-0.2799, -0.1399, -0.0399,  0.0301,  0.0801],\n",
       "         [-0.2799, -0.1399, -0.0399,  0.0301,  0.0801],\n",
       "         [-0.2799, -0.1399, -0.0399,  0.0301,  0.0801],\n",
       "         [-0.2799, -0.1399, -0.0399,  0.0301,  0.0801],\n",
       "         [-0.2799, -0.1399, -0.0399,  0.0301,  0.0801],\n",
       "         [-0.2799, -0.1399, -0.0399,  0.0301,  0.0801],\n",
       "         [-0.2799, -0.1399, -0.0399,  0.0301,  0.0801],\n",
       "         [-0.2799, -0.1399, -0.0399,  0.0301,  0.0801],\n",
       "         [-0.2799, -0.1399, -0.0399,  0.0301,  0.0801],\n",
       "         [-0.2799, -0.1399, -0.0399,  0.0301,  0.0801]]),\n",
       " tensor([[-0.4101, -0.2701, -0.1701, -0.1001, -0.0501],\n",
       "         [-0.4101, -0.2701, -0.1701, -0.1001, -0.0501],\n",
       "         [-0.4101, -0.2701, -0.1701, -0.1001, -0.0501],\n",
       "         [-0.4101, -0.2701, -0.1701, -0.1001, -0.0501],\n",
       "         [-0.4101, -0.2701, -0.1701, -0.1001, -0.0501],\n",
       "         [-0.4101, -0.2701, -0.1701, -0.1001, -0.0501],\n",
       "         [-0.4101, -0.2701, -0.1701, -0.1001, -0.0501],\n",
       "         [-0.4101, -0.2701, -0.1701, -0.1001, -0.0501],\n",
       "         [-0.4101, -0.2701, -0.1701, -0.1001, -0.0501],\n",
       "         [-0.4101, -0.2701, -0.1701, -0.1001, -0.0501]]),\n",
       " tensor([[-1.3171, -1.1771, -1.0771, -1.0071, -0.9571],\n",
       "         [-1.3171, -1.1771, -1.0771, -1.0071, -0.9571],\n",
       "         [-1.3171, -1.1771, -1.0771, -1.0071, -0.9571],\n",
       "         [-1.3171, -1.1771, -1.0771, -1.0071, -0.9571],\n",
       "         [-1.3171, -1.1771, -1.0771, -1.0071, -0.9571],\n",
       "         [-1.3171, -1.1771, -1.0771, -1.0071, -0.9571],\n",
       "         [-1.3171, -1.1771, -1.0771, -1.0071, -0.9571],\n",
       "         [-1.3171, -1.1771, -1.0771, -1.0071, -0.9571],\n",
       "         [-1.3171, -1.1771, -1.0771, -1.0071, -0.9571],\n",
       "         [-1.3171, -1.1771, -1.0771, -1.0071, -0.9571]]),\n",
       " tensor([[-0.8466, -0.7066, -0.6066, -0.5366, -0.4866],\n",
       "         [-0.8466, -0.7066, -0.6066, -0.5366, -0.4866],\n",
       "         [-0.8466, -0.7066, -0.6066, -0.5366, -0.4866],\n",
       "         [-0.8466, -0.7066, -0.6066, -0.5366, -0.4866],\n",
       "         [-0.8466, -0.7066, -0.6066, -0.5366, -0.4866],\n",
       "         [-0.8466, -0.7066, -0.6066, -0.5366, -0.4866],\n",
       "         [-0.8466, -0.7066, -0.6066, -0.5366, -0.4866],\n",
       "         [-0.8466, -0.7066, -0.6066, -0.5366, -0.4866],\n",
       "         [-0.8466, -0.7066, -0.6066, -0.5366, -0.4866],\n",
       "         [-0.8466, -0.7066, -0.6066, -0.5366, -0.4866]]),\n",
       " tensor([[-0.7581, -0.6181, -0.5181, -0.4481, -0.3981],\n",
       "         [-0.7581, -0.6181, -0.5181, -0.4481, -0.3981],\n",
       "         [-0.7581, -0.6181, -0.5181, -0.4481, -0.3981],\n",
       "         [-0.7581, -0.6181, -0.5181, -0.4481, -0.3981],\n",
       "         [-0.7581, -0.6181, -0.5181, -0.4481, -0.3981],\n",
       "         [-0.7581, -0.6181, -0.5181, -0.4481, -0.3981],\n",
       "         [-0.7581, -0.6181, -0.5181, -0.4481, -0.3981],\n",
       "         [-0.7581, -0.6181, -0.5181, -0.4481, -0.3981],\n",
       "         [-0.7581, -0.6181, -0.5181, -0.4481, -0.3981],\n",
       "         [-0.7581, -0.6181, -0.5181, -0.4481, -0.3981]]),\n",
       " tensor([[-0.2835, -0.1435, -0.0435,  0.0265,  0.0765],\n",
       "         [-0.2835, -0.1435, -0.0435,  0.0265,  0.0765],\n",
       "         [-0.2835, -0.1435, -0.0435,  0.0265,  0.0765],\n",
       "         [-0.2835, -0.1435, -0.0435,  0.0265,  0.0765],\n",
       "         [-0.2835, -0.1435, -0.0435,  0.0265,  0.0765],\n",
       "         [-0.2835, -0.1435, -0.0435,  0.0265,  0.0765],\n",
       "         [-0.2835, -0.1435, -0.0435,  0.0265,  0.0765],\n",
       "         [-0.2835, -0.1435, -0.0435,  0.0265,  0.0765],\n",
       "         [-0.2835, -0.1435, -0.0435,  0.0265,  0.0765],\n",
       "         [-0.2835, -0.1435, -0.0435,  0.0265,  0.0765]]),\n",
       " tensor([[-0.2549, -0.1149, -0.0149,  0.0551,  0.1051],\n",
       "         [-0.2549, -0.1149, -0.0149,  0.0551,  0.1051],\n",
       "         [-0.2549, -0.1149, -0.0149,  0.0551,  0.1051],\n",
       "         [-0.2549, -0.1149, -0.0149,  0.0551,  0.1051],\n",
       "         [-0.2549, -0.1149, -0.0149,  0.0551,  0.1051],\n",
       "         [-0.2549, -0.1149, -0.0149,  0.0551,  0.1051],\n",
       "         [-0.2549, -0.1149, -0.0149,  0.0551,  0.1051],\n",
       "         [-0.2549, -0.1149, -0.0149,  0.0551,  0.1051],\n",
       "         [-0.2549, -0.1149, -0.0149,  0.0551,  0.1051],\n",
       "         [-0.2549, -0.1149, -0.0149,  0.0551,  0.1051]]),\n",
       " tensor([[1.3668, 1.5068, 1.6068, 1.6768, 1.7268],\n",
       "         [1.3668, 1.5068, 1.6068, 1.6768, 1.7268],\n",
       "         [1.3668, 1.5068, 1.6068, 1.6768, 1.7268],\n",
       "         [1.3668, 1.5068, 1.6068, 1.6768, 1.7268],\n",
       "         [1.3668, 1.5068, 1.6068, 1.6768, 1.7268],\n",
       "         [1.3668, 1.5068, 1.6068, 1.6768, 1.7268],\n",
       "         [1.3668, 1.5068, 1.6068, 1.6768, 1.7268],\n",
       "         [1.3668, 1.5068, 1.6068, 1.6768, 1.7268],\n",
       "         [1.3668, 1.5068, 1.6068, 1.6768, 1.7268],\n",
       "         [1.3668, 1.5068, 1.6068, 1.6768, 1.7268]]),\n",
       " tensor([[1.7315, 1.8715, 1.9715, 2.0415, 2.0915],\n",
       "         [1.7315, 1.8715, 1.9715, 2.0415, 2.0915],\n",
       "         [1.7315, 1.8715, 1.9715, 2.0415, 2.0915],\n",
       "         [1.7315, 1.8715, 1.9715, 2.0415, 2.0915],\n",
       "         [1.7315, 1.8715, 1.9715, 2.0415, 2.0915],\n",
       "         [1.7315, 1.8715, 1.9715, 2.0415, 2.0915],\n",
       "         [1.7315, 1.8715, 1.9715, 2.0415, 2.0915],\n",
       "         [1.7315, 1.8715, 1.9715, 2.0415, 2.0915],\n",
       "         [1.7315, 1.8715, 1.9715, 2.0415, 2.0915],\n",
       "         [1.7315, 1.8715, 1.9715, 2.0415, 2.0915]]),\n",
       " tensor([[1.0912, 1.2312, 1.3312, 1.4012, 1.4512],\n",
       "         [1.0912, 1.2312, 1.3312, 1.4012, 1.4512],\n",
       "         [1.0912, 1.2312, 1.3312, 1.4012, 1.4512],\n",
       "         [1.0912, 1.2312, 1.3312, 1.4012, 1.4512],\n",
       "         [1.0912, 1.2312, 1.3312, 1.4012, 1.4512],\n",
       "         [1.0912, 1.2312, 1.3312, 1.4012, 1.4512],\n",
       "         [1.0912, 1.2312, 1.3312, 1.4012, 1.4512],\n",
       "         [1.0912, 1.2312, 1.3312, 1.4012, 1.4512],\n",
       "         [1.0912, 1.2312, 1.3312, 1.4012, 1.4512],\n",
       "         [1.0912, 1.2312, 1.3312, 1.4012, 1.4512]]),\n",
       " tensor([[0.2585, 0.3985, 0.4985, 0.5685, 0.6185],\n",
       "         [0.2585, 0.3985, 0.4985, 0.5685, 0.6185],\n",
       "         [0.2585, 0.3985, 0.4985, 0.5685, 0.6185],\n",
       "         [0.2585, 0.3985, 0.4985, 0.5685, 0.6185],\n",
       "         [0.2585, 0.3985, 0.4985, 0.5685, 0.6185],\n",
       "         [0.2585, 0.3985, 0.4985, 0.5685, 0.6185],\n",
       "         [0.2585, 0.3985, 0.4985, 0.5685, 0.6185],\n",
       "         [0.2585, 0.3985, 0.4985, 0.5685, 0.6185],\n",
       "         [0.2585, 0.3985, 0.4985, 0.5685, 0.6185],\n",
       "         [0.2585, 0.3985, 0.4985, 0.5685, 0.6185]]),\n",
       " tensor([[0.6047, 0.7447, 0.8447, 0.9147, 0.9647],\n",
       "         [0.6047, 0.7447, 0.8447, 0.9147, 0.9647],\n",
       "         [0.6047, 0.7447, 0.8447, 0.9147, 0.9647],\n",
       "         [0.6047, 0.7447, 0.8447, 0.9147, 0.9647],\n",
       "         [0.6047, 0.7447, 0.8447, 0.9147, 0.9647],\n",
       "         [0.6047, 0.7447, 0.8447, 0.9147, 0.9647],\n",
       "         [0.6047, 0.7447, 0.8447, 0.9147, 0.9647],\n",
       "         [0.6047, 0.7447, 0.8447, 0.9147, 0.9647],\n",
       "         [0.6047, 0.7447, 0.8447, 0.9147, 0.9647],\n",
       "         [0.6047, 0.7447, 0.8447, 0.9147, 0.9647]]),\n",
       " tensor([[0.9930, 1.1330, 1.2330, 1.3030, 1.3530],\n",
       "         [0.9930, 1.1330, 1.2330, 1.3030, 1.3530],\n",
       "         [0.9930, 1.1330, 1.2330, 1.3030, 1.3530],\n",
       "         [0.9930, 1.1330, 1.2330, 1.3030, 1.3530],\n",
       "         [0.9930, 1.1330, 1.2330, 1.3030, 1.3530],\n",
       "         [0.9930, 1.1330, 1.2330, 1.3030, 1.3530],\n",
       "         [0.9930, 1.1330, 1.2330, 1.3030, 1.3530],\n",
       "         [0.9930, 1.1330, 1.2330, 1.3030, 1.3530],\n",
       "         [0.9930, 1.1330, 1.2330, 1.3030, 1.3530],\n",
       "         [0.9930, 1.1330, 1.2330, 1.3030, 1.3530]]),\n",
       " tensor([[1.1750, 1.3150, 1.4150, 1.4850, 1.5350],\n",
       "         [1.1750, 1.3150, 1.4150, 1.4850, 1.5350],\n",
       "         [1.1750, 1.3150, 1.4150, 1.4850, 1.5350],\n",
       "         [1.1750, 1.3150, 1.4150, 1.4850, 1.5350],\n",
       "         [1.1750, 1.3150, 1.4150, 1.4850, 1.5350],\n",
       "         [1.1750, 1.3150, 1.4150, 1.4850, 1.5350],\n",
       "         [1.1750, 1.3150, 1.4150, 1.4850, 1.5350],\n",
       "         [1.1750, 1.3150, 1.4150, 1.4850, 1.5350],\n",
       "         [1.1750, 1.3150, 1.4150, 1.4850, 1.5350],\n",
       "         [1.1750, 1.3150, 1.4150, 1.4850, 1.5350]]),\n",
       " tensor([[0.2502, 0.3902, 0.4902, 0.5602, 0.6102],\n",
       "         [0.2502, 0.3902, 0.4902, 0.5602, 0.6102],\n",
       "         [0.2502, 0.3902, 0.4902, 0.5602, 0.6102],\n",
       "         [0.2502, 0.3902, 0.4902, 0.5602, 0.6102],\n",
       "         [0.2502, 0.3902, 0.4902, 0.5602, 0.6102],\n",
       "         [0.2502, 0.3902, 0.4902, 0.5602, 0.6102],\n",
       "         [0.2502, 0.3902, 0.4902, 0.5602, 0.6102],\n",
       "         [0.2502, 0.3902, 0.4902, 0.5602, 0.6102],\n",
       "         [0.2502, 0.3902, 0.4902, 0.5602, 0.6102],\n",
       "         [0.2502, 0.3902, 0.4902, 0.5602, 0.6102]]),\n",
       " tensor([[-0.8863, -0.7463, -0.6463, -0.5763, -0.5263],\n",
       "         [-0.8863, -0.7463, -0.6463, -0.5763, -0.5263],\n",
       "         [-0.8863, -0.7463, -0.6463, -0.5763, -0.5263],\n",
       "         [-0.8863, -0.7463, -0.6463, -0.5763, -0.5263],\n",
       "         [-0.8863, -0.7463, -0.6463, -0.5763, -0.5263],\n",
       "         [-0.8863, -0.7463, -0.6463, -0.5763, -0.5263],\n",
       "         [-0.8863, -0.7463, -0.6463, -0.5763, -0.5263],\n",
       "         [-0.8863, -0.7463, -0.6463, -0.5763, -0.5263],\n",
       "         [-0.8863, -0.7463, -0.6463, -0.5763, -0.5263],\n",
       "         [-0.8863, -0.7463, -0.6463, -0.5763, -0.5263]]),\n",
       " tensor([[-0.4663, -0.3264, -0.2263, -0.1564, -0.1064],\n",
       "         [-0.4663, -0.3264, -0.2263, -0.1564, -0.1064],\n",
       "         [-0.4663, -0.3264, -0.2263, -0.1564, -0.1064],\n",
       "         [-0.4663, -0.3264, -0.2263, -0.1564, -0.1064],\n",
       "         [-0.4663, -0.3264, -0.2263, -0.1564, -0.1064],\n",
       "         [-0.4663, -0.3264, -0.2263, -0.1564, -0.1064],\n",
       "         [-0.4663, -0.3264, -0.2263, -0.1564, -0.1064],\n",
       "         [-0.4663, -0.3264, -0.2263, -0.1564, -0.1064],\n",
       "         [-0.4663, -0.3264, -0.2263, -0.1564, -0.1064],\n",
       "         [-0.4663, -0.3264, -0.2263, -0.1564, -0.1064]]),\n",
       " tensor([[-0.0666,  0.0734,  0.1734,  0.2434,  0.2934],\n",
       "         [-0.0666,  0.0734,  0.1734,  0.2434,  0.2934],\n",
       "         [-0.0666,  0.0734,  0.1734,  0.2434,  0.2934],\n",
       "         [-0.0666,  0.0734,  0.1734,  0.2434,  0.2934],\n",
       "         [-0.0666,  0.0734,  0.1734,  0.2434,  0.2934],\n",
       "         [-0.0666,  0.0734,  0.1734,  0.2434,  0.2934],\n",
       "         [-0.0666,  0.0734,  0.1734,  0.2434,  0.2934],\n",
       "         [-0.0666,  0.0734,  0.1734,  0.2434,  0.2934],\n",
       "         [-0.0666,  0.0734,  0.1734,  0.2434,  0.2934],\n",
       "         [-0.0666,  0.0734,  0.1734,  0.2434,  0.2934]]),\n",
       " tensor([[1.3126, 1.4526, 1.5526, 1.6226, 1.6726],\n",
       "         [1.3126, 1.4526, 1.5526, 1.6226, 1.6726],\n",
       "         [1.3126, 1.4526, 1.5526, 1.6226, 1.6726],\n",
       "         [1.3126, 1.4526, 1.5526, 1.6226, 1.6726],\n",
       "         [1.3126, 1.4526, 1.5526, 1.6226, 1.6726],\n",
       "         [1.3126, 1.4526, 1.5526, 1.6226, 1.6726],\n",
       "         [1.3126, 1.4526, 1.5526, 1.6226, 1.6726],\n",
       "         [1.3126, 1.4526, 1.5526, 1.6226, 1.6726],\n",
       "         [1.3126, 1.4526, 1.5526, 1.6226, 1.6726],\n",
       "         [1.3126, 1.4526, 1.5526, 1.6226, 1.6726]]),\n",
       " tensor([[1.9032, 2.0432, 2.1432, 2.2132, 2.2632],\n",
       "         [1.9032, 2.0432, 2.1432, 2.2132, 2.2632],\n",
       "         [1.9032, 2.0432, 2.1432, 2.2132, 2.2632],\n",
       "         [1.9032, 2.0432, 2.1432, 2.2132, 2.2632],\n",
       "         [1.9032, 2.0432, 2.1432, 2.2132, 2.2632],\n",
       "         [1.9032, 2.0432, 2.1432, 2.2132, 2.2632],\n",
       "         [1.9032, 2.0432, 2.1432, 2.2132, 2.2632],\n",
       "         [1.9032, 2.0432, 2.1432, 2.2132, 2.2632],\n",
       "         [1.9032, 2.0432, 2.1432, 2.2132, 2.2632],\n",
       "         [1.9032, 2.0432, 2.1432, 2.2132, 2.2632]]),\n",
       " tensor([[2.2472, 2.3872, 2.4872, 2.5572, 2.6072],\n",
       "         [2.2472, 2.3872, 2.4872, 2.5572, 2.6072],\n",
       "         [2.2472, 2.3872, 2.4872, 2.5572, 2.6072],\n",
       "         [2.2472, 2.3872, 2.4872, 2.5572, 2.6072],\n",
       "         [2.2472, 2.3872, 2.4872, 2.5572, 2.6072],\n",
       "         [2.2472, 2.3872, 2.4872, 2.5572, 2.6072],\n",
       "         [2.2472, 2.3872, 2.4872, 2.5572, 2.6072],\n",
       "         [2.2472, 2.3872, 2.4872, 2.5572, 2.6072],\n",
       "         [2.2472, 2.3872, 2.4872, 2.5572, 2.6072],\n",
       "         [2.2472, 2.3872, 2.4872, 2.5572, 2.6072]]),\n",
       " tensor([[1.5314, 1.6714, 1.7714, 1.8414, 1.8914],\n",
       "         [1.5314, 1.6714, 1.7714, 1.8414, 1.8914],\n",
       "         [1.5314, 1.6714, 1.7714, 1.8414, 1.8914],\n",
       "         [1.5314, 1.6714, 1.7714, 1.8414, 1.8914],\n",
       "         [1.5314, 1.6714, 1.7714, 1.8414, 1.8914],\n",
       "         [1.5314, 1.6714, 1.7714, 1.8414, 1.8914],\n",
       "         [1.5314, 1.6714, 1.7714, 1.8414, 1.8914],\n",
       "         [1.5314, 1.6714, 1.7714, 1.8414, 1.8914],\n",
       "         [1.5314, 1.6714, 1.7714, 1.8414, 1.8914],\n",
       "         [1.5314, 1.6714, 1.7714, 1.8414, 1.8914]]),\n",
       " tensor([[2.3361, 2.4761, 2.5761, 2.6461, 2.6961],\n",
       "         [2.3361, 2.4761, 2.5761, 2.6461, 2.6961],\n",
       "         [2.3361, 2.4761, 2.5761, 2.6461, 2.6961],\n",
       "         [2.3361, 2.4761, 2.5761, 2.6461, 2.6961],\n",
       "         [2.3361, 2.4761, 2.5761, 2.6461, 2.6961],\n",
       "         [2.3361, 2.4761, 2.5761, 2.6461, 2.6961],\n",
       "         [2.3361, 2.4761, 2.5761, 2.6461, 2.6961],\n",
       "         [2.3361, 2.4761, 2.5761, 2.6461, 2.6961],\n",
       "         [2.3361, 2.4761, 2.5761, 2.6461, 2.6961],\n",
       "         [2.3361, 2.4761, 2.5761, 2.6461, 2.6961]]),\n",
       " tensor([[2.4401, 2.5801, 2.6801, 2.7501, 2.8001],\n",
       "         [2.4401, 2.5801, 2.6801, 2.7501, 2.8001],\n",
       "         [2.4401, 2.5801, 2.6801, 2.7501, 2.8001],\n",
       "         [2.4401, 2.5801, 2.6801, 2.7501, 2.8001],\n",
       "         [2.4401, 2.5801, 2.6801, 2.7501, 2.8001],\n",
       "         [2.4401, 2.5801, 2.6801, 2.7501, 2.8001],\n",
       "         [2.4401, 2.5801, 2.6801, 2.7501, 2.8001],\n",
       "         [2.4401, 2.5801, 2.6801, 2.7501, 2.8001],\n",
       "         [2.4401, 2.5801, 2.6801, 2.7501, 2.8001],\n",
       "         [2.4401, 2.5801, 2.6801, 2.7501, 2.8001]]),\n",
       " tensor([[1.5387, 1.6787, 1.7787, 1.8487, 1.8987],\n",
       "         [1.5387, 1.6787, 1.7787, 1.8487, 1.8987],\n",
       "         [1.5387, 1.6787, 1.7787, 1.8487, 1.8987],\n",
       "         [1.5387, 1.6787, 1.7787, 1.8487, 1.8987],\n",
       "         [1.5387, 1.6787, 1.7787, 1.8487, 1.8987],\n",
       "         [1.5387, 1.6787, 1.7787, 1.8487, 1.8987],\n",
       "         [1.5387, 1.6787, 1.7787, 1.8487, 1.8987],\n",
       "         [1.5387, 1.6787, 1.7787, 1.8487, 1.8987],\n",
       "         [1.5387, 1.6787, 1.7787, 1.8487, 1.8987],\n",
       "         [1.5387, 1.6787, 1.7787, 1.8487, 1.8987]]),\n",
       " tensor([[0.7917, 0.9317, 1.0317, 1.1017, 1.1517],\n",
       "         [0.7917, 0.9317, 1.0317, 1.1017, 1.1517],\n",
       "         [0.7917, 0.9317, 1.0317, 1.1017, 1.1517],\n",
       "         [0.7917, 0.9317, 1.0317, 1.1017, 1.1517],\n",
       "         [0.7917, 0.9317, 1.0317, 1.1017, 1.1517],\n",
       "         [0.7917, 0.9317, 1.0317, 1.1017, 1.1517],\n",
       "         [0.7917, 0.9317, 1.0317, 1.1017, 1.1517],\n",
       "         [0.7917, 0.9317, 1.0317, 1.1017, 1.1517],\n",
       "         [0.7917, 0.9317, 1.0317, 1.1017, 1.1517],\n",
       "         [0.7917, 0.9317, 1.0317, 1.1017, 1.1517]]),\n",
       " tensor([[0.6869, 0.8269, 0.9269, 0.9969, 1.0469],\n",
       "         [0.6869, 0.8269, 0.9269, 0.9969, 1.0469],\n",
       "         [0.6869, 0.8269, 0.9269, 0.9969, 1.0469],\n",
       "         [0.6869, 0.8269, 0.9269, 0.9969, 1.0469],\n",
       "         [0.6869, 0.8269, 0.9269, 0.9969, 1.0469],\n",
       "         [0.6869, 0.8269, 0.9269, 0.9969, 1.0469],\n",
       "         [0.6869, 0.8269, 0.9269, 0.9969, 1.0469],\n",
       "         [0.6869, 0.8269, 0.9269, 0.9969, 1.0469],\n",
       "         [0.6869, 0.8269, 0.9269, 0.9969, 1.0469],\n",
       "         [0.6869, 0.8269, 0.9269, 0.9969, 1.0469]]),\n",
       " tensor([[2.1875, 2.3275, 2.4275, 2.4975, 2.5475],\n",
       "         [2.1875, 2.3275, 2.4275, 2.4975, 2.5475],\n",
       "         [2.1875, 2.3275, 2.4275, 2.4975, 2.5475],\n",
       "         [2.1875, 2.3275, 2.4275, 2.4975, 2.5475],\n",
       "         [2.1875, 2.3275, 2.4275, 2.4975, 2.5475],\n",
       "         [2.1875, 2.3275, 2.4275, 2.4975, 2.5475],\n",
       "         [2.1875, 2.3275, 2.4275, 2.4975, 2.5475],\n",
       "         [2.1875, 2.3275, 2.4275, 2.4975, 2.5475],\n",
       "         [2.1875, 2.3275, 2.4275, 2.4975, 2.5475],\n",
       "         [2.1875, 2.3275, 2.4275, 2.4975, 2.5475]]),\n",
       " tensor([[3.0867, 3.2267, 3.3267, 3.3967, 3.4467],\n",
       "         [3.0867, 3.2267, 3.3267, 3.3967, 3.4467],\n",
       "         [3.0867, 3.2267, 3.3267, 3.3967, 3.4467],\n",
       "         [3.0867, 3.2267, 3.3267, 3.3967, 3.4467],\n",
       "         [3.0867, 3.2267, 3.3267, 3.3967, 3.4467],\n",
       "         [3.0867, 3.2267, 3.3267, 3.3967, 3.4467],\n",
       "         [3.0867, 3.2267, 3.3267, 3.3967, 3.4467],\n",
       "         [3.0867, 3.2267, 3.3267, 3.3967, 3.4467],\n",
       "         [3.0867, 3.2267, 3.3267, 3.3967, 3.4467],\n",
       "         [3.0867, 3.2267, 3.3267, 3.3967, 3.4467]]),\n",
       " tensor([[2.3355, 2.4755, 2.5755, 2.6455, 2.6955],\n",
       "         [2.3355, 2.4755, 2.5755, 2.6455, 2.6955],\n",
       "         [2.3355, 2.4755, 2.5755, 2.6455, 2.6955],\n",
       "         [2.3355, 2.4755, 2.5755, 2.6455, 2.6955],\n",
       "         [2.3355, 2.4755, 2.5755, 2.6455, 2.6955],\n",
       "         [2.3355, 2.4755, 2.5755, 2.6455, 2.6955],\n",
       "         [2.3355, 2.4755, 2.5755, 2.6455, 2.6955],\n",
       "         [2.3355, 2.4755, 2.5755, 2.6455, 2.6955],\n",
       "         [2.3355, 2.4755, 2.5755, 2.6455, 2.6955],\n",
       "         [2.3355, 2.4755, 2.5755, 2.6455, 2.6955]]),\n",
       " tensor([[1.1321, 1.2721, 1.3721, 1.4421, 1.4921],\n",
       "         [1.1321, 1.2721, 1.3721, 1.4421, 1.4921],\n",
       "         [1.1321, 1.2721, 1.3721, 1.4421, 1.4921],\n",
       "         [1.1321, 1.2721, 1.3721, 1.4421, 1.4921],\n",
       "         [1.1321, 1.2721, 1.3721, 1.4421, 1.4921],\n",
       "         [1.1321, 1.2721, 1.3721, 1.4421, 1.4921],\n",
       "         [1.1321, 1.2721, 1.3721, 1.4421, 1.4921],\n",
       "         [1.1321, 1.2721, 1.3721, 1.4421, 1.4921],\n",
       "         [1.1321, 1.2721, 1.3721, 1.4421, 1.4921],\n",
       "         [1.1321, 1.2721, 1.3721, 1.4421, 1.4921]]),\n",
       " tensor([[0.5603, 0.7003, 0.8003, 0.8703, 0.9203],\n",
       "         [0.5603, 0.7003, 0.8003, 0.8703, 0.9203],\n",
       "         [0.5603, 0.7003, 0.8003, 0.8703, 0.9203],\n",
       "         [0.5603, 0.7003, 0.8003, 0.8703, 0.9203],\n",
       "         [0.5603, 0.7003, 0.8003, 0.8703, 0.9203],\n",
       "         [0.5603, 0.7003, 0.8003, 0.8703, 0.9203],\n",
       "         [0.5603, 0.7003, 0.8003, 0.8703, 0.9203],\n",
       "         [0.5603, 0.7003, 0.8003, 0.8703, 0.9203],\n",
       "         [0.5603, 0.7003, 0.8003, 0.8703, 0.9203],\n",
       "         [0.5603, 0.7003, 0.8003, 0.8703, 0.9203]]),\n",
       " tensor([[-0.1358,  0.0042,  0.1042,  0.1742,  0.2242],\n",
       "         [-0.1358,  0.0042,  0.1042,  0.1742,  0.2242],\n",
       "         [-0.1358,  0.0042,  0.1042,  0.1742,  0.2242],\n",
       "         [-0.1358,  0.0042,  0.1042,  0.1742,  0.2242],\n",
       "         [-0.1358,  0.0042,  0.1042,  0.1742,  0.2242],\n",
       "         [-0.1358,  0.0042,  0.1042,  0.1742,  0.2242],\n",
       "         [-0.1358,  0.0042,  0.1042,  0.1742,  0.2242],\n",
       "         [-0.1358,  0.0042,  0.1042,  0.1742,  0.2242],\n",
       "         [-0.1358,  0.0042,  0.1042,  0.1742,  0.2242],\n",
       "         [-0.1358,  0.0042,  0.1042,  0.1742,  0.2242]]),\n",
       " tensor([[-1.3861, -1.2461, -1.1461, -1.0761, -1.0261],\n",
       "         [-1.3861, -1.2461, -1.1461, -1.0761, -1.0261],\n",
       "         [-1.3861, -1.2461, -1.1461, -1.0761, -1.0261],\n",
       "         [-1.3861, -1.2461, -1.1461, -1.0761, -1.0261],\n",
       "         [-1.3861, -1.2461, -1.1461, -1.0761, -1.0261],\n",
       "         [-1.3861, -1.2461, -1.1461, -1.0761, -1.0261],\n",
       "         [-1.3861, -1.2461, -1.1461, -1.0761, -1.0261],\n",
       "         [-1.3861, -1.2461, -1.1461, -1.0761, -1.0261],\n",
       "         [-1.3861, -1.2461, -1.1461, -1.0761, -1.0261],\n",
       "         [-1.3861, -1.2461, -1.1461, -1.0761, -1.0261]]),\n",
       " tensor([[-2.4652, -2.3252, -2.2252, -2.1552, -2.1052],\n",
       "         [-2.4652, -2.3252, -2.2252, -2.1552, -2.1052],\n",
       "         [-2.4652, -2.3252, -2.2252, -2.1552, -2.1052],\n",
       "         [-2.4652, -2.3252, -2.2252, -2.1552, -2.1052],\n",
       "         [-2.4652, -2.3252, -2.2252, -2.1552, -2.1052],\n",
       "         [-2.4652, -2.3252, -2.2252, -2.1552, -2.1052],\n",
       "         [-2.4652, -2.3252, -2.2252, -2.1552, -2.1052],\n",
       "         [-2.4652, -2.3252, -2.2252, -2.1552, -2.1052],\n",
       "         [-2.4652, -2.3252, -2.2252, -2.1552, -2.1052],\n",
       "         [-2.4652, -2.3252, -2.2252, -2.1552, -2.1052]]),\n",
       " tensor([[-0.8585, -0.7185, -0.6185, -0.5485, -0.4985],\n",
       "         [-0.8585, -0.7185, -0.6185, -0.5485, -0.4985],\n",
       "         [-0.8585, -0.7185, -0.6185, -0.5485, -0.4985],\n",
       "         [-0.8585, -0.7185, -0.6185, -0.5485, -0.4985],\n",
       "         [-0.8585, -0.7185, -0.6185, -0.5485, -0.4985],\n",
       "         [-0.8585, -0.7185, -0.6185, -0.5485, -0.4985],\n",
       "         [-0.8585, -0.7185, -0.6185, -0.5485, -0.4985],\n",
       "         [-0.8585, -0.7185, -0.6185, -0.5485, -0.4985],\n",
       "         [-0.8585, -0.7185, -0.6185, -0.5485, -0.4985],\n",
       "         [-0.8585, -0.7185, -0.6185, -0.5485, -0.4985]]),\n",
       " tensor([[1.0695, 1.2095, 1.3095, 1.3795, 1.4295],\n",
       "         [1.0695, 1.2095, 1.3095, 1.3795, 1.4295],\n",
       "         [1.0695, 1.2095, 1.3095, 1.3795, 1.4295],\n",
       "         [1.0695, 1.2095, 1.3095, 1.3795, 1.4295],\n",
       "         [1.0695, 1.2095, 1.3095, 1.3795, 1.4295],\n",
       "         [1.0695, 1.2095, 1.3095, 1.3795, 1.4295],\n",
       "         [1.0695, 1.2095, 1.3095, 1.3795, 1.4295],\n",
       "         [1.0695, 1.2095, 1.3095, 1.3795, 1.4295],\n",
       "         [1.0695, 1.2095, 1.3095, 1.3795, 1.4295],\n",
       "         [1.0695, 1.2095, 1.3095, 1.3795, 1.4295]]),\n",
       " tensor([[1.4758, 1.6158, 1.7158, 1.7858, 1.8358],\n",
       "         [1.4758, 1.6158, 1.7158, 1.7858, 1.8358],\n",
       "         [1.4758, 1.6158, 1.7158, 1.7858, 1.8358],\n",
       "         [1.4758, 1.6158, 1.7158, 1.7858, 1.8358],\n",
       "         [1.4758, 1.6158, 1.7158, 1.7858, 1.8358],\n",
       "         [1.4758, 1.6158, 1.7158, 1.7858, 1.8358],\n",
       "         [1.4758, 1.6158, 1.7158, 1.7858, 1.8358],\n",
       "         [1.4758, 1.6158, 1.7158, 1.7858, 1.8358],\n",
       "         [1.4758, 1.6158, 1.7158, 1.7858, 1.8358],\n",
       "         [1.4758, 1.6158, 1.7158, 1.7858, 1.8358]]),\n",
       " tensor([[2.8671, 3.0071, 3.1071, 3.1771, 3.2271],\n",
       "         [2.8671, 3.0071, 3.1071, 3.1771, 3.2271],\n",
       "         [2.8671, 3.0071, 3.1071, 3.1771, 3.2271],\n",
       "         [2.8671, 3.0071, 3.1071, 3.1771, 3.2271],\n",
       "         [2.8671, 3.0071, 3.1071, 3.1771, 3.2271],\n",
       "         [2.8671, 3.0071, 3.1071, 3.1771, 3.2271],\n",
       "         [2.8671, 3.0071, 3.1071, 3.1771, 3.2271],\n",
       "         [2.8671, 3.0071, 3.1071, 3.1771, 3.2271],\n",
       "         [2.8671, 3.0071, 3.1071, 3.1771, 3.2271],\n",
       "         [2.8671, 3.0071, 3.1071, 3.1771, 3.2271]]),\n",
       " tensor([[2.7947, 2.9347, 3.0347, 3.1047, 3.1547],\n",
       "         [2.7947, 2.9347, 3.0347, 3.1047, 3.1547],\n",
       "         [2.7947, 2.9347, 3.0347, 3.1047, 3.1547],\n",
       "         [2.7947, 2.9347, 3.0347, 3.1047, 3.1547],\n",
       "         [2.7947, 2.9347, 3.0347, 3.1047, 3.1547],\n",
       "         [2.7947, 2.9347, 3.0347, 3.1047, 3.1547],\n",
       "         [2.7947, 2.9347, 3.0347, 3.1047, 3.1547],\n",
       "         [2.7947, 2.9347, 3.0347, 3.1047, 3.1547],\n",
       "         [2.7947, 2.9347, 3.0347, 3.1047, 3.1547],\n",
       "         [2.7947, 2.9347, 3.0347, 3.1047, 3.1547]]),\n",
       " tensor([[4.9273, 5.0673, 5.1673, 5.2373, 5.2873],\n",
       "         [4.9273, 5.0673, 5.1673, 5.2373, 5.2873],\n",
       "         [4.9273, 5.0673, 5.1673, 5.2373, 5.2873],\n",
       "         [4.9273, 5.0673, 5.1673, 5.2373, 5.2873],\n",
       "         [4.9273, 5.0673, 5.1673, 5.2373, 5.2873],\n",
       "         [4.9273, 5.0673, 5.1673, 5.2373, 5.2873],\n",
       "         [4.9273, 5.0673, 5.1673, 5.2373, 5.2873],\n",
       "         [4.9273, 5.0673, 5.1673, 5.2373, 5.2873],\n",
       "         [4.9273, 5.0673, 5.1673, 5.2373, 5.2873],\n",
       "         [4.9273, 5.0673, 5.1673, 5.2373, 5.2873]]),\n",
       " tensor([[6.2381, 6.3781, 6.4781, 6.5481, 6.5981],\n",
       "         [6.2381, 6.3781, 6.4781, 6.5481, 6.5981],\n",
       "         [6.2381, 6.3781, 6.4781, 6.5481, 6.5981],\n",
       "         [6.2381, 6.3781, 6.4781, 6.5481, 6.5981],\n",
       "         [6.2381, 6.3781, 6.4781, 6.5481, 6.5981],\n",
       "         [6.2381, 6.3781, 6.4781, 6.5481, 6.5981],\n",
       "         [6.2381, 6.3781, 6.4781, 6.5481, 6.5981],\n",
       "         [6.2381, 6.3781, 6.4781, 6.5481, 6.5981],\n",
       "         [6.2381, 6.3781, 6.4781, 6.5481, 6.5981],\n",
       "         [6.2381, 6.3781, 6.4781, 6.5481, 6.5981]]),\n",
       " tensor([[5.9997, 6.1397, 6.2397, 6.3097, 6.3597],\n",
       "         [5.9997, 6.1397, 6.2397, 6.3097, 6.3597],\n",
       "         [5.9997, 6.1397, 6.2397, 6.3097, 6.3597],\n",
       "         [5.9997, 6.1397, 6.2397, 6.3097, 6.3597],\n",
       "         [5.9997, 6.1397, 6.2397, 6.3097, 6.3597],\n",
       "         [5.9997, 6.1397, 6.2397, 6.3097, 6.3597],\n",
       "         [5.9997, 6.1397, 6.2397, 6.3097, 6.3597],\n",
       "         [5.9997, 6.1397, 6.2397, 6.3097, 6.3597],\n",
       "         [5.9997, 6.1397, 6.2397, 6.3097, 6.3597],\n",
       "         [5.9997, 6.1397, 6.2397, 6.3097, 6.3597]]),\n",
       " tensor([[4.5326, 4.6726, 4.7726, 4.8426, 4.8926],\n",
       "         [4.5326, 4.6726, 4.7726, 4.8426, 4.8926],\n",
       "         [4.5326, 4.6726, 4.7726, 4.8426, 4.8926],\n",
       "         [4.5326, 4.6726, 4.7726, 4.8426, 4.8926],\n",
       "         [4.5326, 4.6726, 4.7726, 4.8426, 4.8926],\n",
       "         [4.5326, 4.6726, 4.7726, 4.8426, 4.8926],\n",
       "         [4.5326, 4.6726, 4.7726, 4.8426, 4.8926],\n",
       "         [4.5326, 4.6726, 4.7726, 4.8426, 4.8926],\n",
       "         [4.5326, 4.6726, 4.7726, 4.8426, 4.8926],\n",
       "         [4.5326, 4.6726, 4.7726, 4.8426, 4.8926]]),\n",
       " tensor([[4.4272, 4.5672, 4.6672, 4.7372, 4.7872],\n",
       "         [4.4272, 4.5672, 4.6672, 4.7372, 4.7872],\n",
       "         [4.4272, 4.5672, 4.6672, 4.7372, 4.7872],\n",
       "         [4.4272, 4.5672, 4.6672, 4.7372, 4.7872],\n",
       "         [4.4272, 4.5672, 4.6672, 4.7372, 4.7872],\n",
       "         [4.4272, 4.5672, 4.6672, 4.7372, 4.7872],\n",
       "         [4.4272, 4.5672, 4.6672, 4.7372, 4.7872],\n",
       "         [4.4272, 4.5672, 4.6672, 4.7372, 4.7872],\n",
       "         [4.4272, 4.5672, 4.6672, 4.7372, 4.7872],\n",
       "         [4.4272, 4.5672, 4.6672, 4.7372, 4.7872]]),\n",
       " tensor([[7.9592, 8.0992, 8.1992, 8.2692, 8.3192],\n",
       "         [7.9592, 8.0992, 8.1992, 8.2692, 8.3192],\n",
       "         [7.9592, 8.0992, 8.1992, 8.2692, 8.3192],\n",
       "         [7.9592, 8.0992, 8.1992, 8.2692, 8.3192],\n",
       "         [7.9592, 8.0992, 8.1992, 8.2692, 8.3192],\n",
       "         [7.9592, 8.0992, 8.1992, 8.2692, 8.3192],\n",
       "         [7.9592, 8.0992, 8.1992, 8.2692, 8.3192],\n",
       "         [7.9592, 8.0992, 8.1992, 8.2692, 8.3192],\n",
       "         [7.9592, 8.0992, 8.1992, 8.2692, 8.3192],\n",
       "         [7.9592, 8.0992, 8.1992, 8.2692, 8.3192]]),\n",
       " tensor([[6.6860, 6.8260, 6.9260, 6.9960, 7.0460],\n",
       "         [6.6860, 6.8260, 6.9260, 6.9960, 7.0460],\n",
       "         [6.6860, 6.8260, 6.9260, 6.9960, 7.0460],\n",
       "         [6.6860, 6.8260, 6.9260, 6.9960, 7.0460],\n",
       "         [6.6860, 6.8260, 6.9260, 6.9960, 7.0460],\n",
       "         [6.6860, 6.8260, 6.9260, 6.9960, 7.0460],\n",
       "         [6.6860, 6.8260, 6.9260, 6.9960, 7.0460],\n",
       "         [6.6860, 6.8260, 6.9260, 6.9960, 7.0460],\n",
       "         [6.6860, 6.8260, 6.9260, 6.9960, 7.0460],\n",
       "         [6.6860, 6.8260, 6.9260, 6.9960, 7.0460]]),\n",
       " tensor([[12.8732, 13.0132, 13.1132, 13.1832, 13.2332],\n",
       "         [12.8732, 13.0132, 13.1132, 13.1832, 13.2332],\n",
       "         [12.8732, 13.0132, 13.1132, 13.1832, 13.2332],\n",
       "         [12.8732, 13.0132, 13.1132, 13.1832, 13.2332],\n",
       "         [12.8732, 13.0132, 13.1132, 13.1832, 13.2332],\n",
       "         [12.8732, 13.0132, 13.1132, 13.1832, 13.2332],\n",
       "         [12.8732, 13.0132, 13.1132, 13.1832, 13.2332],\n",
       "         [12.8732, 13.0132, 13.1132, 13.1832, 13.2332],\n",
       "         [12.8732, 13.0132, 13.1132, 13.1832, 13.2332],\n",
       "         [12.8732, 13.0132, 13.1132, 13.1832, 13.2332]]),\n",
       " tensor([[16.4110, 16.5510, 16.6510, 16.7210, 16.7710],\n",
       "         [16.4110, 16.5510, 16.6510, 16.7210, 16.7710],\n",
       "         [16.4110, 16.5510, 16.6510, 16.7210, 16.7710],\n",
       "         [16.4110, 16.5510, 16.6510, 16.7210, 16.7710],\n",
       "         [16.4110, 16.5510, 16.6510, 16.7210, 16.7710],\n",
       "         [16.4110, 16.5510, 16.6510, 16.7210, 16.7710],\n",
       "         [16.4110, 16.5510, 16.6510, 16.7210, 16.7710],\n",
       "         [16.4110, 16.5510, 16.6510, 16.7210, 16.7710],\n",
       "         [16.4110, 16.5510, 16.6510, 16.7210, 16.7710],\n",
       "         [16.4110, 16.5510, 16.6510, 16.7210, 16.7710]]),\n",
       " tensor([[20.1972, 20.3372, 20.4372, 20.5072, 20.5572],\n",
       "         [20.1972, 20.3372, 20.4372, 20.5072, 20.5572],\n",
       "         [20.1972, 20.3372, 20.4372, 20.5072, 20.5572],\n",
       "         [20.1972, 20.3372, 20.4372, 20.5072, 20.5572],\n",
       "         [20.1972, 20.3372, 20.4372, 20.5072, 20.5572],\n",
       "         [20.1972, 20.3372, 20.4372, 20.5072, 20.5572],\n",
       "         [20.1972, 20.3372, 20.4372, 20.5072, 20.5572],\n",
       "         [20.1972, 20.3372, 20.4372, 20.5072, 20.5572],\n",
       "         [20.1972, 20.3372, 20.4372, 20.5072, 20.5572],\n",
       "         [20.1972, 20.3372, 20.4372, 20.5072, 20.5572]]),\n",
       " tensor([[18.3268, 18.4668, 18.5668, 18.6368, 18.6868],\n",
       "         [18.3268, 18.4668, 18.5668, 18.6368, 18.6868],\n",
       "         [18.3268, 18.4668, 18.5668, 18.6368, 18.6868],\n",
       "         [18.3268, 18.4668, 18.5668, 18.6368, 18.6868],\n",
       "         [18.3268, 18.4668, 18.5668, 18.6368, 18.6868],\n",
       "         [18.3268, 18.4668, 18.5668, 18.6368, 18.6868],\n",
       "         [18.3268, 18.4668, 18.5668, 18.6368, 18.6868],\n",
       "         [18.3268, 18.4668, 18.5668, 18.6368, 18.6868],\n",
       "         [18.3268, 18.4668, 18.5668, 18.6368, 18.6868],\n",
       "         [18.3268, 18.4668, 18.5668, 18.6368, 18.6868]]),\n",
       " tensor([[22.1009, 22.2409, 22.3409, 22.4109, 22.4609],\n",
       "         [22.1009, 22.2409, 22.3409, 22.4109, 22.4609],\n",
       "         [22.1009, 22.2409, 22.3409, 22.4109, 22.4609],\n",
       "         [22.1009, 22.2409, 22.3409, 22.4109, 22.4609],\n",
       "         [22.1009, 22.2409, 22.3409, 22.4109, 22.4609],\n",
       "         [22.1009, 22.2409, 22.3409, 22.4109, 22.4609],\n",
       "         [22.1009, 22.2409, 22.3409, 22.4109, 22.4609],\n",
       "         [22.1009, 22.2409, 22.3409, 22.4109, 22.4609],\n",
       "         [22.1009, 22.2409, 22.3409, 22.4109, 22.4609],\n",
       "         [22.1009, 22.2409, 22.3409, 22.4109, 22.4609]]),\n",
       " tensor([[25.3967, 25.5367, 25.6367, 25.7067, 25.7567],\n",
       "         [25.3967, 25.5367, 25.6367, 25.7067, 25.7567],\n",
       "         [25.3967, 25.5367, 25.6367, 25.7067, 25.7567],\n",
       "         [25.3967, 25.5367, 25.6367, 25.7067, 25.7567],\n",
       "         [25.3967, 25.5367, 25.6367, 25.7067, 25.7567],\n",
       "         [25.3967, 25.5367, 25.6367, 25.7067, 25.7567],\n",
       "         [25.3967, 25.5367, 25.6367, 25.7067, 25.7567],\n",
       "         [25.3967, 25.5367, 25.6367, 25.7067, 25.7567],\n",
       "         [25.3967, 25.5367, 25.6367, 25.7067, 25.7567],\n",
       "         [25.3967, 25.5367, 25.6367, 25.7067, 25.7567]])]"
      ]
     },
     "execution_count": 183,
     "metadata": {},
     "output_type": "execute_result"
    }
   ],
   "source": [
    "[i.repeat(10).reshape(10,5) for i in get_diffused_y(y_obs, torch.linspace(1., 1e-3, 100))]"
   ]
  },
  {
   "cell_type": "code",
   "execution_count": null,
   "id": "grateful-legend",
   "metadata": {},
   "outputs": [],
   "source": []
  }
 ],
 "metadata": {
  "kernelspec": {
   "display_name": "Python 3",
   "language": "python",
   "name": "python3"
  },
  "language_info": {
   "codemirror_mode": {
    "name": "ipython",
    "version": 3
   },
   "file_extension": ".py",
   "mimetype": "text/x-python",
   "name": "python",
   "nbconvert_exporter": "python",
   "pygments_lexer": "ipython3",
   "version": "3.8.2"
  },
  "varInspector": {
   "cols": {
    "lenName": 16,
    "lenType": 16,
    "lenVar": 40
   },
   "kernels_config": {
    "python": {
     "delete_cmd_postfix": "",
     "delete_cmd_prefix": "del ",
     "library": "var_list.py",
     "varRefreshCmd": "print(var_dic_list())"
    },
    "r": {
     "delete_cmd_postfix": ") ",
     "delete_cmd_prefix": "rm(",
     "library": "var_list.r",
     "varRefreshCmd": "cat(var_dic_list()) "
    }
   },
   "types_to_exclude": [
    "module",
    "function",
    "builtin_function_or_method",
    "instance",
    "_Feature"
   ],
   "window_display": false
  }
 },
 "nbformat": 4,
 "nbformat_minor": 5
}
