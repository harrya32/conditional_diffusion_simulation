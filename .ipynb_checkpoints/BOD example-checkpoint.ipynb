{
 "cells": [
  {
   "cell_type": "code",
   "execution_count": 1,
   "id": "molecular-approach",
   "metadata": {},
   "outputs": [],
   "source": [
    "import torch\n",
    "import torch.nn as nn\n",
    "import torch.nn.functional as F\n",
    "import numpy as np\n",
    "import functools\n",
    "from sklearn import datasets\n",
    "import matplotlib.pyplot as plt\n",
    "from torch.optim import Adam\n",
    "from torch.utils.data import DataLoader\n",
    "from tqdm import notebook\n",
    "import seaborn as sns\n",
    "import math\n",
    "import scipy\n",
    "import pandas as pd"
   ]
  },
  {
   "cell_type": "markdown",
   "id": "accessible-favor",
   "metadata": {},
   "source": [
    "# Generate dataset"
   ]
  },
  {
   "cell_type": "code",
   "execution_count": 136,
   "id": "elegant-airline",
   "metadata": {},
   "outputs": [],
   "source": [
    "def generate_data(n):\n",
    "    x = torch.randn(n, 2)\n",
    "    A = 0.4 + 0.4 * (1 + torch.erf(x[:, :1] / np.sqrt(2)))\n",
    "    B = 0.01 + 0.15 * (1 + torch.erf(x[:, 1:] / np.sqrt(2)))\n",
    "    normal = torch.randn(n, 5) * np.sqrt(1e-3)\n",
    "\n",
    "    y_mean = A * (1 - torch.exp(-B * torch.arange(1, 6)))\n",
    "    y = y_mean + normal\n",
    "    return x, y"
   ]
  },
  {
   "cell_type": "code",
   "execution_count": 137,
   "id": "immediate-collectible",
   "metadata": {},
   "outputs": [],
   "source": [
    "x, y = generate_data(50000)\n",
    "data = torch.cat((x,y), dim = 1)"
   ]
  },
  {
   "cell_type": "code",
   "execution_count": 70,
   "id": "spread-lucas",
   "metadata": {},
   "outputs": [
    {
     "data": {
      "text/plain": [
       "tensor([0.1159, 0.2103, 0.2885, 0.3526, 0.4061])"
      ]
     },
     "execution_count": 70,
     "metadata": {},
     "output_type": "execute_result"
    }
   ],
   "source": [
    "torch.mean(y, dim=0)"
   ]
  },
  {
   "cell_type": "code",
   "execution_count": 52,
   "id": "dying-dallas",
   "metadata": {},
   "outputs": [
    {
     "data": {
      "text/plain": [
       "tensor([-0.0030, -0.0048], dtype=torch.float64)"
      ]
     },
     "execution_count": 52,
     "metadata": {},
     "output_type": "execute_result"
    }
   ],
   "source": [
    "torch.mean(x, dim=0)"
   ]
  },
  {
   "cell_type": "markdown",
   "id": "seasonal-consolidation",
   "metadata": {},
   "source": [
    "# Define model"
   ]
  },
  {
   "cell_type": "code",
   "execution_count": 2,
   "id": "pregnant-bryan",
   "metadata": {},
   "outputs": [],
   "source": [
    "class ScoreNet(nn.Module):\n",
    "    \n",
    "    def __init__(self, marginal_prob_std):\n",
    "        super().__init__()\n",
    "        self.act = nn.GELU()#lambda x: x * torch.sigmoid(x)\n",
    "        self.marginal_prob_std = marginal_prob_std\n",
    "        self.hidden_units = 64\n",
    "        # inputs of data (x1,x2,y1,y2,y3,y4,y5), timestep t\n",
    "        self.mlp = nn.Sequential(\n",
    "            nn.Linear(8, int(self.hidden_units), bias=True),\n",
    "            nn.GELU(),\n",
    "            nn.Linear(int(self.hidden_units), int(self.hidden_units), bias=True),\n",
    "            nn.GELU(),\n",
    "            nn.Linear(int(self.hidden_units), int(self.hidden_units), bias=True),\n",
    "            nn.GELU(),\n",
    "            nn.Linear(int(self.hidden_units), int(self.hidden_units), bias=True),\n",
    "            nn.GELU(),\n",
    "            nn.Linear(int(self.hidden_units), int(self.hidden_units), bias=True),\n",
    "            nn.GELU(),\n",
    "            nn.Linear(int(self.hidden_units), 7, bias=True)\n",
    "        )\n",
    "        \n",
    "    def forward(self, x):\n",
    "        t = x[:, -1]\n",
    "        x = self.mlp(x)\n",
    "        x = x / self.marginal_prob_std(t)[:, None]\n",
    "        return x"
   ]
  },
  {
   "cell_type": "code",
   "execution_count": 116,
   "id": "thorough-catalyst",
   "metadata": {},
   "outputs": [
    {
     "data": {
      "text/plain": [
       "17671"
      ]
     },
     "execution_count": 116,
     "metadata": {},
     "output_type": "execute_result"
    }
   ],
   "source": [
    "sum(p.numel() for p in score_model.parameters())"
   ]
  },
  {
   "cell_type": "markdown",
   "id": "continental-diary",
   "metadata": {},
   "source": [
    "# Set up SDE"
   ]
  },
  {
   "cell_type": "code",
   "execution_count": 8,
   "id": "mounted-stand",
   "metadata": {},
   "outputs": [],
   "source": [
    "device = 'cpu'\n",
    "\n",
    "def marginal_prob_std(t, sigma):\n",
    "    \"\"\"Compute the mean and standard deviation of $p_{0t}(x(t) | x(0))$.\n",
    "\n",
    "    Args:    \n",
    "    t: A vector of time steps.\n",
    "    sigma: The $\\sigma$ in our SDE.  \n",
    "\n",
    "    Returns:\n",
    "    The standard deviation.\n",
    "    \"\"\"    \n",
    "    t = torch.tensor(t, device=device)\n",
    "    return torch.sqrt((sigma**(2 * t) - 1.) / 2. / np.log(sigma))\n",
    "\n",
    "def diffusion_coeff(t, sigma):\n",
    "    \"\"\"Compute the diffusion coefficient of our SDE.\n",
    "\n",
    "    Args:\n",
    "    t: A vector of time steps.\n",
    "    sigma: The $\\sigma$ in our SDE.\n",
    "\n",
    "    Returns:\n",
    "    The vector of diffusion coefficients.\n",
    "    \"\"\"\n",
    "    return torch.tensor(sigma**t, device=device)\n",
    "  \n",
    "sigma =  25.0#@param {'type':'number'}\n",
    "marginal_prob_std_fn = functools.partial(marginal_prob_std, sigma=sigma)\n",
    "diffusion_coeff_fn = functools.partial(diffusion_coeff, sigma=sigma)"
   ]
  },
  {
   "cell_type": "code",
   "execution_count": 126,
   "id": "direct-smile",
   "metadata": {},
   "outputs": [],
   "source": [
    "score_model = ScoreNet(marginal_prob_std=marginal_prob_std_fn)"
   ]
  },
  {
   "cell_type": "markdown",
   "id": "rental-morris",
   "metadata": {},
   "source": [
    "# Loss function"
   ]
  },
  {
   "cell_type": "code",
   "execution_count": 5,
   "id": "metric-hygiene",
   "metadata": {},
   "outputs": [],
   "source": [
    "#@title Define the loss function (double click to expand or collapse)\n",
    "\n",
    "def loss_fn(model, x, marginal_prob_std, eps=1e-5):\n",
    "    \"\"\"The loss function for training score-based generative models.\n",
    "\n",
    "    Args:\n",
    "    model: A PyTorch model instance that represents a \n",
    "      time-dependent score-based model.\n",
    "    x: A mini-batch of training data.    \n",
    "    marginal_prob_std: A function that gives the standard deviation of \n",
    "      the perturbation kernel.\n",
    "    eps: A tolerance value for numerical stability.\n",
    "    \"\"\"\n",
    "    random_t = torch.rand(x.shape[0]) * (1. - eps) + eps  \n",
    "    std = marginal_prob_std(random_t)\n",
    "    random_t = torch.reshape(random_t, (x.shape[0], 1))\n",
    "    z = torch.randn_like(x)\n",
    "    perturbed_x = x + z * std[:, None]\n",
    "    x_with_t = torch.hstack([perturbed_x,random_t])\n",
    "    x_with_t = x_with_t.to(torch.float32)\n",
    "    score = model(x_with_t)\n",
    "    loss = torch.mean(torch.sum((score * std[:, None] + z)**2, dim=0))\n",
    "    return loss"
   ]
  },
  {
   "cell_type": "code",
   "execution_count": 139,
   "id": "italic-insertion",
   "metadata": {},
   "outputs": [
    {
     "data": {
      "application/json": {
       "ascii": false,
       "bar_format": null,
       "colour": null,
       "elapsed": 0.02832508087158203,
       "initial": 0,
       "n": 0,
       "ncols": null,
       "nrows": null,
       "postfix": null,
       "prefix": "",
       "rate": null,
       "total": 100,
       "unit": "it",
       "unit_divisor": 1000,
       "unit_scale": false
      },
      "application/vnd.jupyter.widget-view+json": {
       "model_id": "8ba7aebb5a1448e88988de73f8a70fb7",
       "version_major": 2,
       "version_minor": 0
      },
      "text/plain": [
       "  0%|          | 0/100 [00:00<?, ?it/s]"
      ]
     },
     "metadata": {},
     "output_type": "display_data"
    },
    {
     "name": "stderr",
     "output_type": "stream",
     "text": [
      "<ipython-input-8-b2c94ea648fc>:13: UserWarning: To copy construct from a tensor, it is recommended to use sourceTensor.clone().detach() or sourceTensor.clone().detach().requires_grad_(True), rather than torch.tensor(sourceTensor).\n",
      "  t = torch.tensor(t, device=device)\n"
     ]
    }
   ],
   "source": [
    "epochs = 100\n",
    "batch_size = 100\n",
    "lr=1e-4\n",
    "\n",
    "score_model = ScoreNet(marginal_prob_std=marginal_prob_std_fn)\n",
    "optimizer = Adam(score_model.parameters(), lr=lr)\n",
    "dataset = data\n",
    "data_loader = DataLoader(dataset, batch_size=batch_size, shuffle=True)\n",
    "tqdm_epoch = notebook.trange(epochs)\n",
    "losses = []\n",
    "for epoch in tqdm_epoch:\n",
    "    avg_loss = 0.\n",
    "    num_items = 0\n",
    "    for x in data_loader:\n",
    "        loss = loss_fn(score_model, x, marginal_prob_std_fn)\n",
    "        optimizer.zero_grad(set_to_none=True)\n",
    "        loss.backward()    \n",
    "        optimizer.step()\n",
    "        avg_loss += loss.item() * x.shape[0]\n",
    "        num_items += x.shape[0]\n",
    "        \n",
    "    # Print the averaged training loss so far.\n",
    "    tqdm_epoch.set_description('Average Loss: {:5f}'.format(avg_loss / num_items))\n",
    "    # Update the checkpoint after each epoch of training.\n",
    "    torch.save(score_model.state_dict(), 'models/BOD.pth')\n",
    "    losses.append(avg_loss / num_items)"
   ]
  },
  {
   "cell_type": "code",
   "execution_count": 140,
   "id": "durable-organ",
   "metadata": {},
   "outputs": [
    {
     "data": {
      "text/plain": [
       "[<matplotlib.lines.Line2D at 0x7fc6b16f87f0>]"
      ]
     },
     "execution_count": 140,
     "metadata": {},
     "output_type": "execute_result"
    },
    {
     "data": {
      "image/png": "[encoded data removed]",
      "text/plain": [
       "<Figure size 432x288 with 1 Axes>"
      ]
     },
     "metadata": {
      "needs_background": "light"
     },
     "output_type": "display_data"
    }
   ],
   "source": [
    "plt.plot(losses)"
   ]
  },
  {
   "cell_type": "markdown",
   "id": "enclosed-ordinance",
   "metadata": {},
   "source": [
    "# PC sampler"
   ]
  },
  {
   "cell_type": "code",
   "execution_count": 6,
   "id": "retired-flush",
   "metadata": {},
   "outputs": [],
   "source": [
    "signal_to_noise_ratio = 0.16 \n",
    "\n",
    "num_steps =  500\n",
    "def pc_sampler(score_model, \n",
    "               marginal_prob_std,\n",
    "               diffusion_coeff,\n",
    "               batch_size=10000, \n",
    "               num_steps=num_steps, \n",
    "               snr=signal_to_noise_ratio,                \n",
    "               device='cpu',\n",
    "               eps=1e-3):\n",
    "    \"\"\"Generate samples from score-based models with Predictor-Corrector method.\n",
    "\n",
    "    Args:\n",
    "    score_model: A PyTorch model that represents the time-dependent score-based model.\n",
    "    marginal_prob_std: A function that gives the standard deviation\n",
    "      of the perturbation kernel.\n",
    "    diffusion_coeff: A function that gives the diffusion coefficient \n",
    "      of the SDE.\n",
    "    batch_size: The number of samplers to generate by calling this function once.\n",
    "    num_steps: The number of sampling steps. \n",
    "      Equivalent to the number of discretized time steps.    \n",
    "    device: 'cuda' for running on GPUs, and 'cpu' for running on CPUs.\n",
    "    eps: The smallest time step for numerical stability.\n",
    "\n",
    "    Returns: \n",
    "    Samples.\n",
    "    \"\"\"\n",
    "    t = torch.ones(batch_size, device=device)\n",
    "    init_x = torch.randn(batch_size, 7, device=device) * marginal_prob_std(t)[:, None]\n",
    "    time_steps = np.linspace(1., eps, num_steps)\n",
    "    step_size = time_steps[0] - time_steps[1]\n",
    "    x = init_x\n",
    "    with torch.no_grad():\n",
    "        for time_step in notebook.tqdm(time_steps):      \n",
    "            batch_time_step = torch.ones(batch_size, device=device) * time_step\n",
    "            batch_time_step_ = torch.reshape(batch_time_step, (x.shape[0], 1))\n",
    "            x_with_t = torch.hstack([x, batch_time_step_])\n",
    "            # Corrector step (Langevin MCMC)\n",
    "            grad = score_model(x_with_t)\n",
    "            grad_norm = torch.norm(grad.reshape(grad.shape[0], -1), dim=-1).mean()\n",
    "            noise_norm = np.sqrt(np.prod(x.shape[1:]))\n",
    "            langevin_step_size = 2 * (snr * noise_norm / grad_norm)**2\n",
    "            x = x + langevin_step_size * grad + torch.sqrt(2 * langevin_step_size) * torch.randn_like(x)      \n",
    "\n",
    "            # Predictor step (Euler-Maruyama)\n",
    "            g = diffusion_coeff(batch_time_step)\n",
    "            x_mean = x + (g**2)[:, None] * score_model(x_with_t) * step_size\n",
    "            x = x_mean + torch.sqrt(g**2 * step_size)[:, None] * torch.randn_like(x)      \n",
    "\n",
    "    # The last step does not include any noise\n",
    "    return x_mean"
   ]
  },
  {
   "cell_type": "code",
   "execution_count": 141,
   "id": "public-residence",
   "metadata": {},
   "outputs": [
    {
     "data": {
      "text/plain": [
       "<All keys matched successfully>"
      ]
     },
     "execution_count": 141,
     "metadata": {},
     "output_type": "execute_result"
    }
   ],
   "source": [
    "ckpt = torch.load('models/BOD.pth', map_location=device)\n",
    "score_model.load_state_dict(ckpt)"
   ]
  },
  {
   "cell_type": "code",
   "execution_count": 142,
   "id": "second-magazine",
   "metadata": {},
   "outputs": [
    {
     "name": "stderr",
     "output_type": "stream",
     "text": [
      "<ipython-input-8-b2c94ea648fc>:13: UserWarning: To copy construct from a tensor, it is recommended to use sourceTensor.clone().detach() or sourceTensor.clone().detach().requires_grad_(True), rather than torch.tensor(sourceTensor).\n",
      "  t = torch.tensor(t, device=device)\n"
     ]
    },
    {
     "data": {
      "application/json": {
       "ascii": false,
       "bar_format": null,
       "colour": null,
       "elapsed": 0.027402162551879883,
       "initial": 0,
       "n": 0,
       "ncols": null,
       "nrows": null,
       "postfix": null,
       "prefix": "",
       "rate": null,
       "total": 500,
       "unit": "it",
       "unit_divisor": 1000,
       "unit_scale": false
      },
      "application/vnd.jupyter.widget-view+json": {
       "model_id": "0b631e0b33394319b4cd318691c0c993",
       "version_major": 2,
       "version_minor": 0
      },
      "text/plain": [
       "  0%|          | 0/500 [00:00<?, ?it/s]"
      ]
     },
     "metadata": {},
     "output_type": "display_data"
    },
    {
     "name": "stderr",
     "output_type": "stream",
     "text": [
      "<ipython-input-8-b2c94ea648fc>:26: UserWarning: To copy construct from a tensor, it is recommended to use sourceTensor.clone().detach() or sourceTensor.clone().detach().requires_grad_(True), rather than torch.tensor(sourceTensor).\n",
      "  return torch.tensor(sigma**t, device=device)\n"
     ]
    }
   ],
   "source": [
    "pc_samples = pc_sampler(score_model, \n",
    "                  marginal_prob_std_fn,\n",
    "                  diffusion_coeff_fn)"
   ]
  },
  {
   "cell_type": "code",
   "execution_count": 143,
   "id": "personalized-recruitment",
   "metadata": {},
   "outputs": [
    {
     "data": {
      "text/plain": [
       "tensor([-0.0671, -0.0517,  0.1010,  0.1971,  0.2597,  0.3328,  0.3873])"
      ]
     },
     "execution_count": 143,
     "metadata": {},
     "output_type": "execute_result"
    }
   ],
   "source": [
    "torch.mean(pc_samples[:, ], axis=0)"
   ]
  },
  {
   "cell_type": "code",
   "execution_count": 144,
   "id": "distinguished-precipitation",
   "metadata": {},
   "outputs": [
    {
     "data": {
      "text/plain": [
       "tensor([0.8900, 0.9145, 0.0061, 0.0155, 0.0237, 0.0344, 0.0410])"
      ]
     },
     "execution_count": 144,
     "metadata": {},
     "output_type": "execute_result"
    }
   ],
   "source": [
    "torch.var(pc_samples[:, ], axis=0)"
   ]
  },
  {
   "cell_type": "code",
   "execution_count": 145,
   "id": "familiar-needle",
   "metadata": {},
   "outputs": [
    {
     "data": {
      "text/plain": [
       "<seaborn.axisgrid.FacetGrid at 0x7fc6af3a8a90>"
      ]
     },
     "execution_count": 145,
     "metadata": {},
     "output_type": "execute_result"
    },
    {
     "data": {
      "image/png": "[encoded data removed]",
      "text/plain": [
       "<Figure size 360x360 with 1 Axes>"
      ]
     },
     "metadata": {
      "needs_background": "light"
     },
     "output_type": "display_data"
    }
   ],
   "source": [
    "gen_data = pd.DataFrame(pc_samples.numpy())\n",
    "gen_data.columns =['x1', 'x2', 'y1', 'y2', 'y3', 'y4', 'y5']\n",
    "sns.displot(gen_data, x ='x1', y='x2', kind=\"kde\")"
   ]
  },
  {
   "cell_type": "markdown",
   "id": "played-jacksonville",
   "metadata": {},
   "source": [
    "# CDiffE replacement method"
   ]
  },
  {
   "cell_type": "code",
   "execution_count": 81,
   "id": "faced-capitol",
   "metadata": {},
   "outputs": [],
   "source": [
    "def get_y_t(y_obs, t):\n",
    "    std = marginal_prob_std_fn(t)\n",
    "    z = torch.randn_like(y_obs)\n",
    "    perturbed_y = y_obs + z * std[:, None]\n",
    "    return perturbed_y"
   ]
  },
  {
   "cell_type": "code",
   "execution_count": 209,
   "id": "accessory-mailing",
   "metadata": {},
   "outputs": [],
   "source": [
    "num_steps =  10000\n",
    "def CDiffE_Euler_Maruyama_sampler(score_model, \n",
    "                           marginal_prob_std,\n",
    "                           diffusion_coeff, \n",
    "                           y_obs,\n",
    "                           batch_size=10000, \n",
    "                           num_steps=num_steps, \n",
    "                           eps=1e-5):\n",
    "    \"\"\"Generate samples from score-based models with the Euler-Maruyama solver.\n",
    "\n",
    "    Args:\n",
    "    score_model: A PyTorch model that represents the time-dependent score-based model.\n",
    "    marginal_prob_std: A function that gives the standard deviation of\n",
    "      the perturbation kernel.\n",
    "    diffusion_coeff: A function that gives the diffusion coefficient of the SDE.\n",
    "    batch_size: The number of samplers to generate by calling this function once.\n",
    "    num_steps: The number of sampling steps. \n",
    "      Equivalent to the number of discretized time steps.\n",
    "    device: 'cuda' for running on GPUs, and 'cpu' for running on CPUs.\n",
    "    eps: The smallest time step for numerical stability.\n",
    "\n",
    "    Returns:\n",
    "    Samples.    \n",
    "    \"\"\"\n",
    "    t = torch.ones(batch_size)\n",
    "    init_x = torch.randn(batch_size, 7) * marginal_prob_std(t)[:, None]\n",
    "    time_steps = torch.linspace(1., eps, num_steps)\n",
    "    step_size = time_steps[0] - time_steps[1]\n",
    "    x = init_x\n",
    "\n",
    "    with torch.no_grad():\n",
    "        for idx, time_step in enumerate(notebook.tqdm(time_steps)):\n",
    "            \n",
    "            batch_time_step = torch.ones(batch_size) * time_step\n",
    "            y_obs_t = get_y_t(y_obs, batch_time_step)\n",
    "            x = torch.hstack([x,y_obs_t])[:, [0,1,7,8,9,10,11]]\n",
    "           # print(x)\n",
    "            g = diffusion_coeff(batch_time_step)\n",
    "            batch_time_step_ = torch.reshape(batch_time_step, (x.shape[0], 1))\n",
    "            x_with_t = torch.hstack([x, batch_time_step_])\n",
    "            mean_x = x + (g**2)[:, None] * score_model(x_with_t) * step_size\n",
    "            x = mean_x + torch.sqrt(step_size) * g[:, None] * torch.randn_like(x) \n",
    "\n",
    "    return mean_x"
   ]
  },
  {
   "cell_type": "code",
   "execution_count": 210,
   "id": "imported-niagara",
   "metadata": {},
   "outputs": [],
   "source": [
    "y_obs = torch.tensor([0.18, 0.32, 0.42, 0.49, 0.54])"
   ]
  },
  {
   "cell_type": "code",
   "execution_count": null,
   "id": "secondary-satellite",
   "metadata": {},
   "outputs": [
    {
     "name": "stderr",
     "output_type": "stream",
     "text": [
      "<ipython-input-8-b2c94ea648fc>:13: UserWarning: To copy construct from a tensor, it is recommended to use sourceTensor.clone().detach() or sourceTensor.clone().detach().requires_grad_(True), rather than torch.tensor(sourceTensor).\n",
      "  t = torch.tensor(t, device=device)\n"
     ]
    },
    {
     "data": {
      "application/json": {
       "ascii": false,
       "bar_format": null,
       "colour": null,
       "elapsed": 0.025938034057617188,
       "initial": 0,
       "n": 0,
       "ncols": null,
       "nrows": null,
       "postfix": null,
       "prefix": "",
       "rate": null,
       "total": 10000,
       "unit": "it",
       "unit_divisor": 1000,
       "unit_scale": false
      },
      "application/vnd.jupyter.widget-view+json": {
       "model_id": "6ddc779ea6544158ae27c250b62e45c1",
       "version_major": 2,
       "version_minor": 0
      },
      "text/plain": [
       "  0%|          | 0/10000 [00:00<?, ?it/s]"
      ]
     },
     "metadata": {},
     "output_type": "display_data"
    },
    {
     "name": "stderr",
     "output_type": "stream",
     "text": [
      "<ipython-input-8-b2c94ea648fc>:26: UserWarning: To copy construct from a tensor, it is recommended to use sourceTensor.clone().detach() or sourceTensor.clone().detach().requires_grad_(True), rather than torch.tensor(sourceTensor).\n",
      "  return torch.tensor(sigma**t, device=device)\n"
     ]
    }
   ],
   "source": [
    "ckpt = torch.load('models/BOD.pth', map_location=device)\n",
    "score_model.load_state_dict(ckpt)\n",
    "cdiffe_samples = CDiffE_Euler_Maruyama_sampler(score_model, \n",
    "                           marginal_prob_std_fn,\n",
    "                           diffusion_coeff_fn, \n",
    "                           y_obs = y_obs, batch_size = 1000)"
   ]
  },
  {
   "cell_type": "code",
   "execution_count": 204,
   "id": "expired-sharp",
   "metadata": {},
   "outputs": [
    {
     "data": {
      "text/plain": [
       "tensor([0.1499, 0.3343, 0.0650, 0.1618, 0.2062, 0.3387, 0.4360])"
      ]
     },
     "execution_count": 204,
     "metadata": {},
     "output_type": "execute_result"
    }
   ],
   "source": [
    "torch.mean(cdiffe_samples, dim = 0)"
   ]
  },
  {
   "cell_type": "code",
   "execution_count": 205,
   "id": "explicit-sigma",
   "metadata": {},
   "outputs": [],
   "source": [
    "test = pd.DataFrame(cdiffe_samples.numpy())\n",
    "test.columns =['x1', 'x2', 'y1', 'y2', 'y3', 'y4', 'y5']"
   ]
  },
  {
   "cell_type": "code",
   "execution_count": 206,
   "id": "decimal-north",
   "metadata": {},
   "outputs": [
    {
     "data": {
      "text/plain": [
       "<seaborn.axisgrid.FacetGrid at 0x7fc6af421b20>"
      ]
     },
     "execution_count": 206,
     "metadata": {},
     "output_type": "execute_result"
    },
    {
     "data": {
      "image/png": "[encoded data removed]",
      "text/plain": [
       "<Figure size 360x360 with 1 Axes>"
      ]
     },
     "metadata": {
      "needs_background": "light"
     },
     "output_type": "display_data"
    }
   ],
   "source": [
    "sns.displot(test, x ='x1', y='x2', kind=\"kde\")"
   ]
  },
  {
   "cell_type": "code",
   "execution_count": 181,
   "id": "demographic-account",
   "metadata": {},
   "outputs": [
    {
     "data": {
      "text/plain": [
       "tensor([0.1585, 0.2064, 0.1621, 0.3083, 0.4096, 0.4602, 0.5477])"
      ]
     },
     "execution_count": 181,
     "metadata": {},
     "output_type": "execute_result"
    }
   ],
   "source": [
    "torch.mean(cdiffe_samples, axis=0)"
   ]
  },
  {
   "cell_type": "code",
   "execution_count": 182,
   "id": "linear-reggae",
   "metadata": {},
   "outputs": [
    {
     "data": {
      "text/plain": [
       "tensor([7.9460e-01, 6.0774e-01, 6.1194e-05, 2.3540e-04, 3.7048e-04, 5.7609e-04,\n",
       "        5.2766e-04])"
      ]
     },
     "execution_count": 182,
     "metadata": {},
     "output_type": "execute_result"
    }
   ],
   "source": [
    "torch.var(cdiffe_samples, axis=0)"
   ]
  },
  {
   "cell_type": "code",
   "execution_count": 183,
   "id": "expanded-angle",
   "metadata": {},
   "outputs": [
    {
     "data": {
      "text/plain": [
       "array([ 0.08998629,  0.40262708,  0.2956402 ,  0.12783149, -0.02900215,\n",
       "        0.0561929 ,  0.02168983], dtype=float32)"
      ]
     },
     "execution_count": 183,
     "metadata": {},
     "output_type": "execute_result"
    }
   ],
   "source": [
    "scipy.stats.skew(cdiffe_samples)"
   ]
  },
  {
   "cell_type": "code",
   "execution_count": 184,
   "id": "shared-month",
   "metadata": {},
   "outputs": [
    {
     "data": {
      "text/plain": [
       "array([ 0.33988643,  0.2995181 , -0.10953379, -0.53460884, -0.5774994 ,\n",
       "       -0.7075598 , -0.49189806], dtype=float32)"
      ]
     },
     "execution_count": 184,
     "metadata": {},
     "output_type": "execute_result"
    }
   ],
   "source": [
    "scipy.stats.kurtosis(cdiffe_samples)"
   ]
  },
  {
   "cell_type": "markdown",
   "id": "shaped-democracy",
   "metadata": {},
   "source": [
    "# CDE tailored conditional method"
   ]
  },
  {
   "cell_type": "code",
   "execution_count": 94,
   "id": "junior-atlas",
   "metadata": {},
   "outputs": [],
   "source": [
    "def CDE_loss_fn(model, x, marginal_prob_std, eps=1e-5):\n",
    "    \"\"\"The loss function for training score-based generative models.\n",
    "\n",
    "    Args:\n",
    "    model: A PyTorch model instance that represents a \n",
    "      time-dependent score-based model.\n",
    "    x: A mini-batch of training data.    \n",
    "    marginal_prob_std: A function that gives the standard deviation of \n",
    "      the perturbation kernel.\n",
    "    eps: A tolerance value for numerical stability.\n",
    "    \"\"\"\n",
    "    y = x[:,[2,3,4,5,6]]\n",
    "    random_t = torch.rand(x.shape[0]) * (1. - eps) + eps  \n",
    "    std = marginal_prob_std(random_t)\n",
    "    random_t = torch.reshape(random_t, (x.shape[0], 1))\n",
    "    z = torch.randn_like(x)\n",
    "    perturbed_x = x + z * std[:, None]\n",
    "    perturbed_x = torch.hstack([perturbed_x,y])\n",
    "    perturbed_x = perturbed_x[:, [0,1,7,8,9,10,11]]\n",
    "    \n",
    "    x_with_t = torch.hstack([perturbed_x,random_t])\n",
    "    x_with_t = x_with_t.to(torch.float32)\n",
    "    score = model(x_with_t)\n",
    "    loss = torch.mean(torch.sum((score * std[:, None] + z)**2, dim=0))\n",
    "    return loss"
   ]
  },
  {
   "cell_type": "code",
   "execution_count": 95,
   "id": "dental-operation",
   "metadata": {},
   "outputs": [],
   "source": [
    "signal_to_noise_ratio = 0.16\n",
    "num_steps =  500\n",
    "\n",
    "def CDE_pc_sampler(score_model, \n",
    "               marginal_prob_std,\n",
    "               diffusion_coeff,\n",
    "               y_obs,\n",
    "               batch_size=2048, \n",
    "               num_steps=num_steps, \n",
    "               snr=signal_to_noise_ratio,\n",
    "               eps=1e-3):\n",
    "    \"\"\"Generate samples from score-based models with Predictor-Corrector method.\n",
    "\n",
    "    Args:\n",
    "    score_model: A PyTorch model that represents the time-dependent score-based model.\n",
    "    marginal_prob_std: A function that gives the standard deviation\n",
    "      of the perturbation kernel.\n",
    "    diffusion_coeff: A function that gives the diffusion coefficient \n",
    "      of the SDE.\n",
    "    batch_size: The number of samplers to generate by calling this function once.\n",
    "    num_steps: The number of sampling steps. \n",
    "      Equivalent to the number of discretized time steps.    \n",
    "    device: 'cuda' for running on GPUs, and 'cpu' for running on CPUs.\n",
    "    eps: The smallest time step for numerical stability.\n",
    "\n",
    "    Returns: \n",
    "    Samples.\n",
    "    \"\"\"\n",
    "    t = torch.ones(batch_size, device=device)\n",
    "    init_x = torch.randn(batch_size, 2, device=device) * marginal_prob_std(t)[:, None]\n",
    "    time_steps = np.linspace(1., eps, num_steps)\n",
    "    step_size = time_steps[0] - time_steps[1]\n",
    "    y_obs = y_obs.repeat(batch_size)\n",
    "    y_obs = y_obs.reshape(batch_size,5)\n",
    "    x = torch.hstack([init_x, y_obs])\n",
    "    with torch.no_grad():\n",
    "        for time_step in notebook.tqdm(time_steps):      \n",
    "            batch_time_step = torch.ones(batch_size, device=device) * time_step\n",
    "            batch_time_step_ = torch.reshape(batch_time_step, (x.shape[0], 1))\n",
    "            x_with_t = torch.hstack([x, batch_time_step_])\n",
    "            # Corrector step (Langevin MCMC)\n",
    "            grad = score_model(x_with_t)\n",
    "            grad_norm = torch.norm(grad.reshape(grad.shape[0], -1), dim=-1).mean()\n",
    "            noise_norm = np.sqrt(np.prod(x.shape[1:]))\n",
    "            langevin_step_size = 2 * (snr * noise_norm / grad_norm)**2\n",
    "            x = x + langevin_step_size * grad + torch.sqrt(2 * langevin_step_size) * torch.randn_like(x)      \n",
    "\n",
    "            # Predictor step (Euler-Maruyama)\n",
    "            g = diffusion_coeff(batch_time_step)\n",
    "            x_mean = x + (g**2)[:, None] * score_model(x_with_t) * step_size\n",
    "            x = x_mean + torch.sqrt(g**2 * step_size)[:, None] * torch.randn_like(x)\n",
    "            \n",
    "            #conditional info\n",
    "            x = torch.hstack([x,y_obs])\n",
    "            x = x[:, [0,1,7,8,9,10,11]]\n",
    "\n",
    "    return x"
   ]
  },
  {
   "cell_type": "code",
   "execution_count": 146,
   "id": "composed-pharmacy",
   "metadata": {},
   "outputs": [
    {
     "data": {
      "application/json": {
       "ascii": false,
       "bar_format": null,
       "colour": null,
       "elapsed": 0.027849912643432617,
       "initial": 0,
       "n": 0,
       "ncols": null,
       "nrows": null,
       "postfix": null,
       "prefix": "",
       "rate": null,
       "total": 100,
       "unit": "it",
       "unit_divisor": 1000,
       "unit_scale": false
      },
      "application/vnd.jupyter.widget-view+json": {
       "model_id": "bdd59b6e84924f1aa0095bb38711ec6f",
       "version_major": 2,
       "version_minor": 0
      },
      "text/plain": [
       "  0%|          | 0/100 [00:00<?, ?it/s]"
      ]
     },
     "metadata": {},
     "output_type": "display_data"
    },
    {
     "name": "stderr",
     "output_type": "stream",
     "text": [
      "<ipython-input-8-b2c94ea648fc>:13: UserWarning: To copy construct from a tensor, it is recommended to use sourceTensor.clone().detach() or sourceTensor.clone().detach().requires_grad_(True), rather than torch.tensor(sourceTensor).\n",
      "  t = torch.tensor(t, device=device)\n"
     ]
    }
   ],
   "source": [
    "epochs = 100\n",
    "batch_size = 100\n",
    "lr=1e-4\n",
    "\n",
    "score_model = ScoreNet(marginal_prob_std=marginal_prob_std_fn)\n",
    "score_model = score_model.to(device)\n",
    "optimizer = Adam(score_model.parameters(), lr=lr)\n",
    "dataset = data\n",
    "data_loader = DataLoader(dataset, batch_size=batch_size, shuffle=True)\n",
    "tqdm_epoch = notebook.trange(epochs)\n",
    "losses = []\n",
    "for epoch in tqdm_epoch:\n",
    "    avg_loss = 0.\n",
    "    num_items = 0\n",
    "    for x in data_loader:\n",
    "        loss = CDE_loss_fn(score_model, x, marginal_prob_std_fn)\n",
    "        optimizer.zero_grad(set_to_none=True)\n",
    "        loss.backward()    \n",
    "        optimizer.step()\n",
    "        avg_loss += loss.item() * x.shape[0]\n",
    "        num_items += x.shape[0]\n",
    "        \n",
    "    # Print the averaged training loss so far.\n",
    "    tqdm_epoch.set_description('Average Loss: {:5f}'.format(avg_loss / num_items))\n",
    "    # Update the checkpoint after each epoch of training.\n",
    "    torch.save(score_model.state_dict(), 'models/cde_BOD.pth')\n",
    "    losses.append(avg_loss / num_items)"
   ]
  },
  {
   "cell_type": "code",
   "execution_count": 147,
   "id": "stupid-motor",
   "metadata": {},
   "outputs": [
    {
     "data": {
      "text/plain": [
       "[<matplotlib.lines.Line2D at 0x7fc6b18397c0>]"
      ]
     },
     "execution_count": 147,
     "metadata": {},
     "output_type": "execute_result"
    },
    {
     "data": {
      "image/png": "[encoded data removed]",
      "text/plain": [
       "<Figure size 432x288 with 1 Axes>"
      ]
     },
     "metadata": {
      "needs_background": "light"
     },
     "output_type": "display_data"
    }
   ],
   "source": [
    "plt.plot(losses)"
   ]
  },
  {
   "cell_type": "code",
   "execution_count": 185,
   "id": "mounted-vanilla",
   "metadata": {},
   "outputs": [
    {
     "name": "stderr",
     "output_type": "stream",
     "text": [
      "<ipython-input-8-b2c94ea648fc>:13: UserWarning: To copy construct from a tensor, it is recommended to use sourceTensor.clone().detach() or sourceTensor.clone().detach().requires_grad_(True), rather than torch.tensor(sourceTensor).\n",
      "  t = torch.tensor(t, device=device)\n"
     ]
    },
    {
     "data": {
      "application/json": {
       "ascii": false,
       "bar_format": null,
       "colour": null,
       "elapsed": 0.029056072235107422,
       "initial": 0,
       "n": 0,
       "ncols": null,
       "nrows": null,
       "postfix": null,
       "prefix": "",
       "rate": null,
       "total": 500,
       "unit": "it",
       "unit_divisor": 1000,
       "unit_scale": false
      },
      "application/vnd.jupyter.widget-view+json": {
       "model_id": "888c3ad105e04f2592cc3bce212c67b6",
       "version_major": 2,
       "version_minor": 0
      },
      "text/plain": [
       "  0%|          | 0/500 [00:00<?, ?it/s]"
      ]
     },
     "metadata": {},
     "output_type": "display_data"
    },
    {
     "name": "stderr",
     "output_type": "stream",
     "text": [
      "<ipython-input-8-b2c94ea648fc>:26: UserWarning: To copy construct from a tensor, it is recommended to use sourceTensor.clone().detach() or sourceTensor.clone().detach().requires_grad_(True), rather than torch.tensor(sourceTensor).\n",
      "  return torch.tensor(sigma**t, device=device)\n"
     ]
    }
   ],
   "source": [
    "ckpt = torch.load('models/cde_BOD.pth', map_location=device)\n",
    "score_model.load_state_dict(ckpt)\n",
    "cde_samples = CDE_pc_sampler(score_model, \n",
    "                           marginal_prob_std_fn,\n",
    "                           diffusion_coeff_fn, \n",
    "                           y_obs = y_obs, batch_size = 1000)"
   ]
  },
  {
   "cell_type": "code",
   "execution_count": 186,
   "id": "unlike-ecology",
   "metadata": {},
   "outputs": [],
   "source": [
    "test = pd.DataFrame(cde_samples.numpy())\n",
    "test.columns =['x1', 'x2', 'y1', 'y2', 'y3', 'y4', 'y5']"
   ]
  },
  {
   "cell_type": "code",
   "execution_count": 187,
   "id": "pretty-things",
   "metadata": {},
   "outputs": [
    {
     "data": {
      "text/plain": [
       "<seaborn.axisgrid.FacetGrid at 0x7fc6af87dbb0>"
      ]
     },
     "execution_count": 187,
     "metadata": {},
     "output_type": "execute_result"
    },
    {
     "data": {
      "image/png": "[encoded data removed]",
      "text/plain": [
       "<Figure size 360x360 with 1 Axes>"
      ]
     },
     "metadata": {
      "needs_background": "light"
     },
     "output_type": "display_data"
    }
   ],
   "source": [
    "sns.displot(test, x ='x1', y='x2', kind=\"kde\")"
   ]
  },
  {
   "cell_type": "code",
   "execution_count": 188,
   "id": "earned-permit",
   "metadata": {},
   "outputs": [
    {
     "data": {
      "text/plain": [
       "tensor([-0.0331,  1.1663,  0.1800,  0.3200,  0.4200,  0.4900,  0.5400])"
      ]
     },
     "execution_count": 188,
     "metadata": {},
     "output_type": "execute_result"
    }
   ],
   "source": [
    "torch.mean(cde_samples, axis=0)"
   ]
  },
  {
   "cell_type": "code",
   "execution_count": 189,
   "id": "divided-stevens",
   "metadata": {},
   "outputs": [
    {
     "data": {
      "text/plain": [
       "tensor([0.1456, 0.6983, 0.0000, 0.0000, 0.0000, 0.0000, 0.0000])"
      ]
     },
     "execution_count": 189,
     "metadata": {},
     "output_type": "execute_result"
    }
   ],
   "source": [
    "torch.var(cde_samples, axis=0)"
   ]
  },
  {
   "cell_type": "code",
   "execution_count": 192,
   "id": "afraid-means",
   "metadata": {},
   "outputs": [
    {
     "data": {
      "text/plain": [
       "array([1.4563228 , 0.97499526], dtype=float32)"
      ]
     },
     "execution_count": 192,
     "metadata": {},
     "output_type": "execute_result"
    }
   ],
   "source": [
    "scipy.stats.skew(cde_samples[:,[0,1]])"
   ]
  },
  {
   "cell_type": "code",
   "execution_count": 193,
   "id": "cleared-period",
   "metadata": {},
   "outputs": [
    {
     "data": {
      "text/plain": [
       "array([2.9335942 , 0.93648124], dtype=float32)"
      ]
     },
     "execution_count": 193,
     "metadata": {},
     "output_type": "execute_result"
    }
   ],
   "source": [
    "scipy.stats.kurtosis(cde_samples[:,[0,1]])"
   ]
  },
  {
   "cell_type": "code",
   "execution_count": null,
   "id": "finnish-internet",
   "metadata": {},
   "outputs": [],
   "source": []
  }
 ],
 "metadata": {
  "kernelspec": {
   "display_name": "Python 3",
   "language": "python",
   "name": "python3"
  },
  "language_info": {
   "codemirror_mode": {
    "name": "ipython",
    "version": 3
   },
   "file_extension": ".py",
   "mimetype": "text/x-python",
   "name": "python",
   "nbconvert_exporter": "python",
   "pygments_lexer": "ipython3",
   "version": "3.8.2"
  },
  "varInspector": {
   "cols": {
    "lenName": 16,
    "lenType": 16,
    "lenVar": 40
   },
   "kernels_config": {
    "python": {
     "delete_cmd_postfix": "",
     "delete_cmd_prefix": "del ",
     "library": "var_list.py",
     "varRefreshCmd": "print(var_dic_list())"
    },
    "r": {
     "delete_cmd_postfix": ") ",
     "delete_cmd_prefix": "rm(",
     "library": "var_list.r",
     "varRefreshCmd": "cat(var_dic_list()) "
    }
   },
   "types_to_exclude": [
    "module",
    "function",
    "builtin_function_or_method",
    "instance",
    "_Feature"
   ],
   "window_display": false
  }
 },
 "nbformat": 4,
 "nbformat_minor": 5
}
