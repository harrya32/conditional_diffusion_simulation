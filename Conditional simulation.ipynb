{
 "cells": [
  {
   "cell_type": "markdown",
   "id": "binding-mills",
   "metadata": {},
   "source": [
    "[Conditional generation](#conditional_generation)\\\n",
    "[CDE samples](#cde_samples)\\\n",
    "[CDiffE samples](#cdiffe_samples)\\\n",
    "[SMCDiff samples](#smcdiff_samples)\\\n",
    "[Comparison](#comparison)"
   ]
  },
  {
   "cell_type": "code",
   "execution_count": 1,
   "id": "faced-antenna",
   "metadata": {},
   "outputs": [],
   "source": [
    "import torch\n",
    "import torch.nn as nn\n",
    "import torch.nn.functional as F\n",
    "import numpy as np\n",
    "import functools\n",
    "from sklearn import datasets\n",
    "import matplotlib.pyplot as plt\n",
    "from torch.optim import Adam\n",
    "from torch.utils.data import DataLoader\n",
    "from tqdm import notebook\n",
    "import seaborn as sns\n",
    "from ema_pytorch import EMA\n",
    "import math\n",
    "from torch.distributions import Normal \n",
    "\n",
    "#import models\n",
    "from models import ScoreNet_2D\n",
    "\n",
    "#import training fns\n",
    "from training import loss_fn, train_model, CDE_loss_fn_2D\n",
    "\n",
    "#import SDE functions\n",
    "from SDE import marginal_prob_std_fn_2D as marginal_prob_std_fn\n",
    "from SDE import diffusion_coeff_fn_2D as diffusion_coeff_fn\n",
    "\n",
    "#import sampling functions\n",
    "from sampling import Euler_Maruyama_sampler_2D as Euler_Maruyama_sampler\n",
    "from sampling import pc_sampler_2D as pc_sampler\n",
    "from sampling import ode_sampler_2D as ode_sampler\n",
    "from sampling import CDE_Euler_Maruyama_sampler_2D as CDE_Euler_Maruyama_sampler\n",
    "from sampling import CDE_pc_sampler_2D as CDE_pc_sampler\n",
    "from sampling import CDiffE_Euler_Maruyama_sampler_2D as CDiffE_Euler_Maruyama_sampler\n",
    "from sampling import CDiffE_pc_sampler_2D as CDiffE_pc_sampler\n",
    "from sampling import SMCDiff_Euler_Maruyama_sampler_2D as SMCDiff_Euler_Maruyama_sampler\n",
    "from sampling import SMCDiff_pc_sampler_2D as SMCDiff_pc_sampler"
   ]
  },
  {
   "cell_type": "markdown",
   "id": "canadian-zealand",
   "metadata": {},
   "source": [
    "# Unconditional generation"
   ]
  },
  {
   "cell_type": "markdown",
   "id": "official-winter",
   "metadata": {},
   "source": [
    "## Generate training datasets"
   ]
  },
  {
   "cell_type": "code",
   "execution_count": 27,
   "id": "chubby-cheese",
   "metadata": {},
   "outputs": [],
   "source": [
    "ex_1 = torch.load('data/ex_1.pt')\n",
    "ex_2 = torch.load('data/ex_2.pt')\n",
    "ex_3 = torch.load('data/ex_3.pt')"
   ]
  },
  {
   "cell_type": "code",
   "execution_count": 81,
   "id": "promotional-grain",
   "metadata": {},
   "outputs": [],
   "source": [
    "score_model = ScoreNet_2D(marginal_prob_std=marginal_prob_std_fn)"
   ]
  },
  {
   "cell_type": "code",
   "execution_count": 29,
   "id": "opening-aluminum",
   "metadata": {},
   "outputs": [
    {
     "data": {
      "text/plain": [
       "32210"
      ]
     },
     "execution_count": 29,
     "metadata": {},
     "output_type": "execute_result"
    }
   ],
   "source": [
    "sum(p.numel() for p in score_model.parameters())"
   ]
  },
  {
   "cell_type": "markdown",
   "id": "classical-pattern",
   "metadata": {},
   "source": [
    "## Train unconditional models"
   ]
  },
  {
   "cell_type": "code",
   "execution_count": 82,
   "id": "secret-therapy",
   "metadata": {},
   "outputs": [
    {
     "data": {
      "application/json": {
       "ascii": false,
       "bar_format": null,
       "colour": null,
       "elapsed": 0.0297698974609375,
       "initial": 0,
       "n": 0,
       "ncols": null,
       "nrows": null,
       "postfix": null,
       "prefix": "",
       "rate": null,
       "total": 100,
       "unit": "it",
       "unit_divisor": 1000,
       "unit_scale": false
      },
      "application/vnd.jupyter.widget-view+json": {
       "model_id": "c355dd4a90d34c68a226e0ee9ba14149",
       "version_major": 2,
       "version_minor": 0
      },
      "text/plain": [
       "  0%|          | 0/100 [00:00<?, ?it/s]"
      ]
     },
     "metadata": {},
     "output_type": "display_data"
    }
   ],
   "source": [
    "losses_1 = train_model(score_model, ex_1, loss_fn, marginal_prob_std_fn, 'ex_1_test.pth', epochs = 100, batch_size = 1000)"
   ]
  },
  {
   "cell_type": "code",
   "execution_count": 83,
   "id": "social-wildlife",
   "metadata": {},
   "outputs": [
    {
     "data": {
      "text/plain": [
       "[<matplotlib.lines.Line2D at 0x7f8555c91550>]"
      ]
     },
     "execution_count": 83,
     "metadata": {},
     "output_type": "execute_result"
    },
    {
     "data": {
      "image/png": "[encoded data removed]",
      "text/plain": [
       "<Figure size 432x288 with 1 Axes>"
      ]
     },
     "metadata": {
      "needs_background": "light"
     },
     "output_type": "display_data"
    }
   ],
   "source": [
    "plt.plot(losses_1)"
   ]
  },
  {
   "cell_type": "code",
   "execution_count": 40,
   "id": "electric-hypothesis",
   "metadata": {},
   "outputs": [],
   "source": [
    "score_model = ScoreNet_2D(marginal_prob_std=marginal_prob_std_fn)"
   ]
  },
  {
   "cell_type": "code",
   "execution_count": 41,
   "id": "horizontal-topic",
   "metadata": {},
   "outputs": [
    {
     "data": {
      "application/json": {
       "ascii": false,
       "bar_format": null,
       "colour": null,
       "elapsed": 0.026103973388671875,
       "initial": 0,
       "n": 0,
       "ncols": null,
       "nrows": null,
       "postfix": null,
       "prefix": "",
       "rate": null,
       "total": 100,
       "unit": "it",
       "unit_divisor": 1000,
       "unit_scale": false
      },
      "application/vnd.jupyter.widget-view+json": {
       "model_id": "99a346cdea9f4bb5bfdf99218f6a28c3",
       "version_major": 2,
       "version_minor": 0
      },
      "text/plain": [
       "  0%|          | 0/100 [00:00<?, ?it/s]"
      ]
     },
     "metadata": {},
     "output_type": "display_data"
    },
    {
     "name": "stderr",
     "output_type": "stream",
     "text": [
      "/Users/harryamad/Google Drive/2022/Dissertation/conditional_diffusion_simulation/SDE.py:16: UserWarning: To copy construct from a tensor, it is recommended to use sourceTensor.clone().detach() or sourceTensor.clone().detach().requires_grad_(True), rather than torch.tensor(sourceTensor).\n",
      "  t = torch.tensor(t)\n"
     ]
    }
   ],
   "source": [
    "losses_2 = train_model(score_model, ex_2, loss_fn, marginal_prob_std_fn, 'ex_2_test.pth', epochs = 100, batch_size = 64)"
   ]
  },
  {
   "cell_type": "code",
   "execution_count": 42,
   "id": "simplified-preliminary",
   "metadata": {},
   "outputs": [
    {
     "data": {
      "text/plain": [
       "[<matplotlib.lines.Line2D at 0x7f854f458250>]"
      ]
     },
     "execution_count": 42,
     "metadata": {},
     "output_type": "execute_result"
    },
    {
     "data": {
      "image/png": "[encoded data removed]",
      "text/plain": [
       "<Figure size 432x288 with 1 Axes>"
      ]
     },
     "metadata": {
      "needs_background": "light"
     },
     "output_type": "display_data"
    }
   ],
   "source": [
    "plt.plot(losses_2)"
   ]
  },
  {
   "cell_type": "code",
   "execution_count": 43,
   "id": "comprehensive-engineer",
   "metadata": {},
   "outputs": [],
   "source": [
    "score_model = ScoreNet_2D(marginal_prob_std=marginal_prob_std_fn)"
   ]
  },
  {
   "cell_type": "code",
   "execution_count": 44,
   "id": "guided-processor",
   "metadata": {},
   "outputs": [
    {
     "data": {
      "application/json": {
       "ascii": false,
       "bar_format": null,
       "colour": null,
       "elapsed": 0.02568984031677246,
       "initial": 0,
       "n": 0,
       "ncols": null,
       "nrows": null,
       "postfix": null,
       "prefix": "",
       "rate": null,
       "total": 100,
       "unit": "it",
       "unit_divisor": 1000,
       "unit_scale": false
      },
      "application/vnd.jupyter.widget-view+json": {
       "model_id": "b2defcc7ccec40a2b422ce3fc9ceb44d",
       "version_major": 2,
       "version_minor": 0
      },
      "text/plain": [
       "  0%|          | 0/100 [00:00<?, ?it/s]"
      ]
     },
     "metadata": {},
     "output_type": "display_data"
    }
   ],
   "source": [
    "losses_3 = train_model(score_model, ex_3, loss_fn, marginal_prob_std_fn, 'ex_3_test.pth', epochs = 100, batch_size = 64)"
   ]
  },
  {
   "cell_type": "code",
   "execution_count": 45,
   "id": "healthy-graphic",
   "metadata": {
    "scrolled": true
   },
   "outputs": [
    {
     "data": {
      "text/plain": [
       "[<matplotlib.lines.Line2D at 0x7f85539b9820>]"
      ]
     },
     "execution_count": 45,
     "metadata": {},
     "output_type": "execute_result"
    },
    {
     "data": {
      "image/png": "[encoded data removed]",
      "text/plain": [
       "<Figure size 432x288 with 1 Axes>"
      ]
     },
     "metadata": {
      "needs_background": "light"
     },
     "output_type": "display_data"
    }
   ],
   "source": [
    "plt.plot(losses_3)"
   ]
  },
  {
   "cell_type": "markdown",
   "id": "allied-selling",
   "metadata": {},
   "source": [
    "## Draw unconditional samples"
   ]
  },
  {
   "cell_type": "markdown",
   "id": "australian-crash",
   "metadata": {},
   "source": [
    "### Example 1"
   ]
  },
  {
   "cell_type": "code",
   "execution_count": 16,
   "id": "found-campaign",
   "metadata": {},
   "outputs": [
    {
     "data": {
      "text/plain": [
       "<All keys matched successfully>"
      ]
     },
     "execution_count": 16,
     "metadata": {},
     "output_type": "execute_result"
    }
   ],
   "source": [
    "ckpt = torch.load('models/ex_1.pth')\n",
    "score_model.load_state_dict(ckpt)"
   ]
  },
  {
   "cell_type": "code",
   "execution_count": 84,
   "id": "endless-nancy",
   "metadata": {},
   "outputs": [
    {
     "data": {
      "application/json": {
       "ascii": false,
       "bar_format": null,
       "colour": null,
       "elapsed": 0.026003122329711914,
       "initial": 0,
       "n": 0,
       "ncols": null,
       "nrows": null,
       "postfix": null,
       "prefix": "",
       "rate": null,
       "total": 1000,
       "unit": "it",
       "unit_divisor": 1000,
       "unit_scale": false
      },
      "application/vnd.jupyter.widget-view+json": {
       "model_id": "01d910f2d7004809ae6281c8c9053ae8",
       "version_major": 2,
       "version_minor": 0
      },
      "text/plain": [
       "  0%|          | 0/1000 [00:00<?, ?it/s]"
      ]
     },
     "metadata": {},
     "output_type": "display_data"
    },
    {
     "name": "stderr",
     "output_type": "stream",
     "text": [
      "/Users/harryamad/Google Drive/2022/Dissertation/conditional_diffusion_simulation/SDE.py:29: UserWarning: To copy construct from a tensor, it is recommended to use sourceTensor.clone().detach() or sourceTensor.clone().detach().requires_grad_(True), rather than torch.tensor(sourceTensor).\n",
      "  return torch.tensor(sigma**t)\n"
     ]
    }
   ],
   "source": [
    "pc_samples = pc_sampler(score_model, marginal_prob_std_fn, diffusion_coeff_fn, batch_size = 1000)"
   ]
  },
  {
   "cell_type": "code",
   "execution_count": 85,
   "id": "completed-microwave",
   "metadata": {},
   "outputs": [
    {
     "data": {
      "application/json": {
       "ascii": false,
       "bar_format": null,
       "colour": null,
       "elapsed": 0.026971101760864258,
       "initial": 0,
       "n": 0,
       "ncols": null,
       "nrows": null,
       "postfix": null,
       "prefix": "",
       "rate": null,
       "total": 1000,
       "unit": "it",
       "unit_divisor": 1000,
       "unit_scale": false
      },
      "application/vnd.jupyter.widget-view+json": {
       "model_id": "f61be5a4fdc04138ab526feb48b4442b",
       "version_major": 2,
       "version_minor": 0
      },
      "text/plain": [
       "  0%|          | 0/1000 [00:00<?, ?it/s]"
      ]
     },
     "metadata": {},
     "output_type": "display_data"
    }
   ],
   "source": [
    "e_m_samples = Euler_Maruyama_sampler(score_model, marginal_prob_std_fn, diffusion_coeff_fn, batch_size=1000)"
   ]
  },
  {
   "cell_type": "code",
   "execution_count": 86,
   "id": "awful-thunder",
   "metadata": {},
   "outputs": [
    {
     "name": "stdout",
     "output_type": "stream",
     "text": [
      "Number of function evaluations: 206\n"
     ]
    }
   ],
   "source": [
    "ode_samples = ode_sampler(score_model, marginal_prob_std_fn, diffusion_coeff_fn, batch_size=1000)"
   ]
  },
  {
   "cell_type": "code",
   "execution_count": 87,
   "id": "sexual-roommate",
   "metadata": {},
   "outputs": [
    {
     "data": {
      "text/plain": [
       "<matplotlib.collections.PathCollection at 0x7f85528fc910>"
      ]
     },
     "execution_count": 87,
     "metadata": {},
     "output_type": "execute_result"
    },
    {
     "data": {
      "image/png": "[encoded data removed]",
      "text/plain": [
       "<Figure size 432x288 with 1 Axes>"
      ]
     },
     "metadata": {
      "needs_background": "light"
     },
     "output_type": "display_data"
    }
   ],
   "source": [
    "plt.scatter(pc_samples[:,0], pc_samples[:,1])"
   ]
  },
  {
   "cell_type": "code",
   "execution_count": 88,
   "id": "weird-nurse",
   "metadata": {},
   "outputs": [
    {
     "data": {
      "text/plain": [
       "<matplotlib.collections.PathCollection at 0x7f8552b9ef70>"
      ]
     },
     "execution_count": 88,
     "metadata": {},
     "output_type": "execute_result"
    },
    {
     "data": {
      "image/png": "[encoded data removed]",
      "text/plain": [
       "<Figure size 432x288 with 1 Axes>"
      ]
     },
     "metadata": {
      "needs_background": "light"
     },
     "output_type": "display_data"
    }
   ],
   "source": [
    "plt.scatter(e_m_samples[:,0], e_m_samples[:,1])"
   ]
  },
  {
   "cell_type": "code",
   "execution_count": 89,
   "id": "reduced-therapist",
   "metadata": {},
   "outputs": [
    {
     "data": {
      "text/plain": [
       "<matplotlib.collections.PathCollection at 0x7f85555410d0>"
      ]
     },
     "execution_count": 89,
     "metadata": {},
     "output_type": "execute_result"
    },
    {
     "data": {
      "image/png": "[encoded data removed]",
      "text/plain": [
       "<Figure size 432x288 with 1 Axes>"
      ]
     },
     "metadata": {
      "needs_background": "light"
     },
     "output_type": "display_data"
    }
   ],
   "source": [
    "plt.scatter(ode_samples[:,0], ode_samples[:,1])"
   ]
  },
  {
   "cell_type": "markdown",
   "id": "covered-plant",
   "metadata": {},
   "source": [
    "### Example 2"
   ]
  },
  {
   "cell_type": "code",
   "execution_count": 46,
   "id": "eastern-harvard",
   "metadata": {},
   "outputs": [
    {
     "data": {
      "text/plain": [
       "<All keys matched successfully>"
      ]
     },
     "execution_count": 46,
     "metadata": {},
     "output_type": "execute_result"
    }
   ],
   "source": [
    "ckpt = torch.load('ex_2_test.pth')\n",
    "score_model.load_state_dict(ckpt)"
   ]
  },
  {
   "cell_type": "code",
   "execution_count": 47,
   "id": "expensive-cornwall",
   "metadata": {},
   "outputs": [
    {
     "data": {
      "application/json": {
       "ascii": false,
       "bar_format": null,
       "colour": null,
       "elapsed": 0.025805950164794922,
       "initial": 0,
       "n": 0,
       "ncols": null,
       "nrows": null,
       "postfix": null,
       "prefix": "",
       "rate": null,
       "total": 1000,
       "unit": "it",
       "unit_divisor": 1000,
       "unit_scale": false
      },
      "application/vnd.jupyter.widget-view+json": {
       "model_id": "cf48459eb2144339a66c4d8b704e8ca8",
       "version_major": 2,
       "version_minor": 0
      },
      "text/plain": [
       "  0%|          | 0/1000 [00:00<?, ?it/s]"
      ]
     },
     "metadata": {},
     "output_type": "display_data"
    },
    {
     "name": "stderr",
     "output_type": "stream",
     "text": [
      "/Users/harryamad/Google Drive/2022/Dissertation/conditional_diffusion_simulation/SDE.py:29: UserWarning: To copy construct from a tensor, it is recommended to use sourceTensor.clone().detach() or sourceTensor.clone().detach().requires_grad_(True), rather than torch.tensor(sourceTensor).\n",
      "  return torch.tensor(sigma**t)\n"
     ]
    }
   ],
   "source": [
    "pc_samples = pc_sampler(score_model, marginal_prob_std_fn, diffusion_coeff_fn, batch_size = 1000)"
   ]
  },
  {
   "cell_type": "code",
   "execution_count": 48,
   "id": "north-compensation",
   "metadata": {},
   "outputs": [
    {
     "data": {
      "application/json": {
       "ascii": false,
       "bar_format": null,
       "colour": null,
       "elapsed": 0.027117252349853516,
       "initial": 0,
       "n": 0,
       "ncols": null,
       "nrows": null,
       "postfix": null,
       "prefix": "",
       "rate": null,
       "total": 1000,
       "unit": "it",
       "unit_divisor": 1000,
       "unit_scale": false
      },
      "application/vnd.jupyter.widget-view+json": {
       "model_id": "d5c16225c8ab44d8a06619672544b446",
       "version_major": 2,
       "version_minor": 0
      },
      "text/plain": [
       "  0%|          | 0/1000 [00:00<?, ?it/s]"
      ]
     },
     "metadata": {},
     "output_type": "display_data"
    }
   ],
   "source": [
    "e_m_samples = Euler_Maruyama_sampler(score_model, marginal_prob_std_fn, diffusion_coeff_fn, batch_size=1000)"
   ]
  },
  {
   "cell_type": "code",
   "execution_count": 49,
   "id": "linear-thailand",
   "metadata": {},
   "outputs": [
    {
     "name": "stdout",
     "output_type": "stream",
     "text": [
      "Number of function evaluations: 236\n"
     ]
    }
   ],
   "source": [
    "ode_samples = ode_sampler(score_model, marginal_prob_std_fn, diffusion_coeff_fn, batch_size=1000)"
   ]
  },
  {
   "cell_type": "code",
   "execution_count": 50,
   "id": "international-purse",
   "metadata": {},
   "outputs": [
    {
     "data": {
      "text/plain": [
       "<matplotlib.collections.PathCollection at 0x7f855412b370>"
      ]
     },
     "execution_count": 50,
     "metadata": {},
     "output_type": "execute_result"
    },
    {
     "data": {
      "image/png": "[encoded data removed]",
      "text/plain": [
       "<Figure size 432x288 with 1 Axes>"
      ]
     },
     "metadata": {
      "needs_background": "light"
     },
     "output_type": "display_data"
    }
   ],
   "source": [
    "plt.scatter(pc_samples[:,0], pc_samples[:,1])"
   ]
  },
  {
   "cell_type": "code",
   "execution_count": 51,
   "id": "automated-throw",
   "metadata": {},
   "outputs": [
    {
     "data": {
      "text/plain": [
       "<matplotlib.collections.PathCollection at 0x7f854f494460>"
      ]
     },
     "execution_count": 51,
     "metadata": {},
     "output_type": "execute_result"
    },
    {
     "data": {
      "image/png": "[encoded data removed]",
      "text/plain": [
       "<Figure size 432x288 with 1 Axes>"
      ]
     },
     "metadata": {
      "needs_background": "light"
     },
     "output_type": "display_data"
    }
   ],
   "source": [
    "plt.scatter(e_m_samples[:,0], e_m_samples[:,1])"
   ]
  },
  {
   "cell_type": "code",
   "execution_count": 52,
   "id": "serious-symphony",
   "metadata": {},
   "outputs": [
    {
     "data": {
      "text/plain": [
       "<matplotlib.collections.PathCollection at 0x7f85540f9b80>"
      ]
     },
     "execution_count": 52,
     "metadata": {},
     "output_type": "execute_result"
    },
    {
     "data": {
      "image/png": "[encoded data removed]",
      "text/plain": [
       "<Figure size 432x288 with 1 Axes>"
      ]
     },
     "metadata": {
      "needs_background": "light"
     },
     "output_type": "display_data"
    }
   ],
   "source": [
    "plt.scatter(ode_samples[:,0], ode_samples[:,1])"
   ]
  },
  {
   "cell_type": "markdown",
   "id": "educated-australian",
   "metadata": {},
   "source": [
    "### Example 3"
   ]
  },
  {
   "cell_type": "code",
   "execution_count": 53,
   "id": "brown-preference",
   "metadata": {},
   "outputs": [
    {
     "data": {
      "text/plain": [
       "<All keys matched successfully>"
      ]
     },
     "execution_count": 53,
     "metadata": {},
     "output_type": "execute_result"
    }
   ],
   "source": [
    "ckpt = torch.load('ex_3_test.pth')\n",
    "score_model.load_state_dict(ckpt)"
   ]
  },
  {
   "cell_type": "code",
   "execution_count": 54,
   "id": "chemical-guinea",
   "metadata": {},
   "outputs": [
    {
     "data": {
      "application/json": {
       "ascii": false,
       "bar_format": null,
       "colour": null,
       "elapsed": 0.02618098258972168,
       "initial": 0,
       "n": 0,
       "ncols": null,
       "nrows": null,
       "postfix": null,
       "prefix": "",
       "rate": null,
       "total": 1000,
       "unit": "it",
       "unit_divisor": 1000,
       "unit_scale": false
      },
      "application/vnd.jupyter.widget-view+json": {
       "model_id": "41c4d44ceae945fb874c1b0ac4c3bca0",
       "version_major": 2,
       "version_minor": 0
      },
      "text/plain": [
       "  0%|          | 0/1000 [00:00<?, ?it/s]"
      ]
     },
     "metadata": {},
     "output_type": "display_data"
    }
   ],
   "source": [
    "pc_samples = pc_sampler(score_model, marginal_prob_std_fn, diffusion_coeff_fn, batch_size = 1000)"
   ]
  },
  {
   "cell_type": "code",
   "execution_count": 55,
   "id": "unsigned-letter",
   "metadata": {},
   "outputs": [
    {
     "data": {
      "application/json": {
       "ascii": false,
       "bar_format": null,
       "colour": null,
       "elapsed": 0.027944087982177734,
       "initial": 0,
       "n": 0,
       "ncols": null,
       "nrows": null,
       "postfix": null,
       "prefix": "",
       "rate": null,
       "total": 1000,
       "unit": "it",
       "unit_divisor": 1000,
       "unit_scale": false
      },
      "application/vnd.jupyter.widget-view+json": {
       "model_id": "97d772e3ef3c4fffa78887f2d4b9d2bb",
       "version_major": 2,
       "version_minor": 0
      },
      "text/plain": [
       "  0%|          | 0/1000 [00:00<?, ?it/s]"
      ]
     },
     "metadata": {},
     "output_type": "display_data"
    }
   ],
   "source": [
    "e_m_samples = Euler_Maruyama_sampler(score_model, marginal_prob_std_fn, diffusion_coeff_fn, batch_size=1000)"
   ]
  },
  {
   "cell_type": "code",
   "execution_count": 56,
   "id": "developmental-rover",
   "metadata": {},
   "outputs": [
    {
     "name": "stdout",
     "output_type": "stream",
     "text": [
      "Number of function evaluations: 236\n"
     ]
    }
   ],
   "source": [
    "ode_samples = ode_sampler(score_model, marginal_prob_std_fn, diffusion_coeff_fn, batch_size=1000)"
   ]
  },
  {
   "cell_type": "code",
   "execution_count": 57,
   "id": "eight-touch",
   "metadata": {},
   "outputs": [
    {
     "data": {
      "text/plain": [
       "<matplotlib.collections.PathCollection at 0x7f855388bc10>"
      ]
     },
     "execution_count": 57,
     "metadata": {},
     "output_type": "execute_result"
    },
    {
     "data": {
      "image/png": "[encoded data removed]",
      "text/plain": [
       "<Figure size 432x288 with 1 Axes>"
      ]
     },
     "metadata": {
      "needs_background": "light"
     },
     "output_type": "display_data"
    }
   ],
   "source": [
    "plt.scatter(pc_samples[:,0], pc_samples[:,1])"
   ]
  },
  {
   "cell_type": "code",
   "execution_count": 58,
   "id": "atlantic-criterion",
   "metadata": {},
   "outputs": [
    {
     "data": {
      "text/plain": [
       "<matplotlib.collections.PathCollection at 0x7f8553121100>"
      ]
     },
     "execution_count": 58,
     "metadata": {},
     "output_type": "execute_result"
    },
    {
     "data": {
      "image/png": "[encoded data removed]",
      "text/plain": [
       "<Figure size 432x288 with 1 Axes>"
      ]
     },
     "metadata": {
      "needs_background": "light"
     },
     "output_type": "display_data"
    }
   ],
   "source": [
    "plt.scatter(e_m_samples[:,0], e_m_samples[:,1])"
   ]
  },
  {
   "cell_type": "code",
   "execution_count": 59,
   "id": "prepared-cambridge",
   "metadata": {},
   "outputs": [
    {
     "data": {
      "text/plain": [
       "<matplotlib.collections.PathCollection at 0x7f85540fba30>"
      ]
     },
     "execution_count": 59,
     "metadata": {},
     "output_type": "execute_result"
    },
    {
     "data": {
      "image/png": "[encoded data removed]",
      "text/plain": [
       "<Figure size 432x288 with 1 Axes>"
      ]
     },
     "metadata": {
      "needs_background": "light"
     },
     "output_type": "display_data"
    }
   ],
   "source": [
    "plt.scatter(ode_samples[:,0], ode_samples[:,1])"
   ]
  },
  {
   "cell_type": "markdown",
   "id": "raised-welcome",
   "metadata": {},
   "source": [
    "<hr style=\"border:4px solid black\">"
   ]
  },
  {
   "cell_type": "markdown",
   "id": "external-consumption",
   "metadata": {},
   "source": [
    "<a id='conditional_generation'></a>\n",
    "# Conditional generation"
   ]
  },
  {
   "cell_type": "markdown",
   "id": "another-central",
   "metadata": {},
   "source": [
    "## Generate testing datasets"
   ]
  },
  {
   "cell_type": "code",
   "execution_count": 2,
   "id": "intimate-hindu",
   "metadata": {},
   "outputs": [],
   "source": [
    "actual_samples_pos = np.random.gamma(1,0.3, size = 100000) + np.tanh(1.2)\n",
    "actual_samples_0 = np.random.gamma(1,0.3, size = 100000) + np.tanh(0)\n",
    "actual_samples_neg = np.random.gamma(1,0.3, size = 100000) + np.tanh(-1.2)"
   ]
  },
  {
   "cell_type": "code",
   "execution_count": 3,
   "id": "smart-fairy",
   "metadata": {},
   "outputs": [],
   "source": [
    "actual_samples_pos_2 = np.tanh(np.random.normal(0,np.sqrt(0.05), size = 100000) + 1.2)\n",
    "actual_samples_0_2 = np.tanh(np.random.normal(0,np.sqrt(0.05), size = 100000) + 0)\n",
    "actual_samples_neg_2 = np.tanh(np.random.normal(0,np.sqrt(0.05), size = 100000) - 1.2)"
   ]
  },
  {
   "cell_type": "code",
   "execution_count": 4,
   "id": "secret-subscriber",
   "metadata": {},
   "outputs": [],
   "source": [
    "actual_samples_pos_3 = np.random.gamma(1,0.3, size=100000) * np.tanh(1.2)\n",
    "actual_samples_neg_3 = np.random.gamma(1,0.3, size=100000) * np.tanh(-1.2)"
   ]
  },
  {
   "cell_type": "markdown",
   "id": "informational-strap",
   "metadata": {},
   "source": [
    "## Train conditional model"
   ]
  },
  {
   "cell_type": "markdown",
   "id": "boxed-talent",
   "metadata": {},
   "source": [
    "Have a bunch of training points (x,y). Then only forward diffuse the x components, so we get to (x_N, y). Then train NN to approximate the score with inputs (x_t, y, t), and the same loss as the unconditional method."
   ]
  },
  {
   "cell_type": "code",
   "execution_count": 3,
   "id": "driven-integration",
   "metadata": {},
   "outputs": [],
   "source": [
    "score_model = ScoreNet_2D(marginal_prob_std=marginal_prob_std_fn)"
   ]
  },
  {
   "cell_type": "code",
   "execution_count": 4,
   "id": "adaptive-printer",
   "metadata": {},
   "outputs": [
    {
     "data": {
      "application/json": {
       "ascii": false,
       "bar_format": null,
       "colour": null,
       "elapsed": 0.03710317611694336,
       "initial": 0,
       "n": 0,
       "ncols": null,
       "nrows": null,
       "postfix": null,
       "prefix": "",
       "rate": null,
       "total": 10,
       "unit": "it",
       "unit_divisor": 1000,
       "unit_scale": false
      },
      "application/vnd.jupyter.widget-view+json": {
       "model_id": "8a480104f001413aab8b584e2a06a4d9",
       "version_major": 2,
       "version_minor": 0
      },
      "text/plain": [
       "  0%|          | 0/10 [00:00<?, ?it/s]"
      ]
     },
     "metadata": {},
     "output_type": "display_data"
    },
    {
     "name": "stderr",
     "output_type": "stream",
     "text": [
      "/Users/harryamad/Google Drive/2022/Dissertation/conditional_diffusion_simulation/SDE.py:16: UserWarning: To copy construct from a tensor, it is recommended to use sourceTensor.clone().detach() or sourceTensor.clone().detach().requires_grad_(True), rather than torch.tensor(sourceTensor).\n",
      "  t = torch.tensor(t)\n"
     ]
    }
   ],
   "source": [
    "losses_1 = train_model(score_model, ex_1, CDE_loss_fn_2D, marginal_prob_std_fn, 'cde_1_test.pth', epochs = 10, batch_size = 1000)"
   ]
  },
  {
   "cell_type": "code",
   "execution_count": 5,
   "id": "equipped-caribbean",
   "metadata": {},
   "outputs": [
    {
     "data": {
      "text/plain": [
       "[<matplotlib.lines.Line2D at 0x7fc3bad27700>]"
      ]
     },
     "execution_count": 5,
     "metadata": {},
     "output_type": "execute_result"
    },
    {
     "data": {
      "image/png": "[encoded data removed]",
      "text/plain": [
       "<Figure size 432x288 with 1 Axes>"
      ]
     },
     "metadata": {
      "needs_background": "light"
     },
     "output_type": "display_data"
    }
   ],
   "source": [
    "plt.plot(losses_1)"
   ]
  },
  {
   "cell_type": "code",
   "execution_count": 6,
   "id": "golden-honduras",
   "metadata": {},
   "outputs": [],
   "source": [
    "score_model = ScoreNet_2D(marginal_prob_std=marginal_prob_std_fn)"
   ]
  },
  {
   "cell_type": "code",
   "execution_count": 7,
   "id": "sensitive-toyota",
   "metadata": {},
   "outputs": [
    {
     "data": {
      "application/json": {
       "ascii": false,
       "bar_format": null,
       "colour": null,
       "elapsed": 0.02681708335876465,
       "initial": 0,
       "n": 0,
       "ncols": null,
       "nrows": null,
       "postfix": null,
       "prefix": "",
       "rate": null,
       "total": 10,
       "unit": "it",
       "unit_divisor": 1000,
       "unit_scale": false
      },
      "application/vnd.jupyter.widget-view+json": {
       "model_id": "552c2f94021f424d90814942268eeeae",
       "version_major": 2,
       "version_minor": 0
      },
      "text/plain": [
       "  0%|          | 0/10 [00:00<?, ?it/s]"
      ]
     },
     "metadata": {},
     "output_type": "display_data"
    }
   ],
   "source": [
    "losses_2 = train_model(score_model, ex_2, CDE_loss_fn_2D, marginal_prob_std_fn, 'cde_2_test.pth', epochs = 10, batch_size = 1000)"
   ]
  },
  {
   "cell_type": "code",
   "execution_count": 8,
   "id": "quarterly-portland",
   "metadata": {},
   "outputs": [
    {
     "data": {
      "text/plain": [
       "[<matplotlib.lines.Line2D at 0x7fc3bac87ee0>]"
      ]
     },
     "execution_count": 8,
     "metadata": {},
     "output_type": "execute_result"
    },
    {
     "data": {
      "image/png": "[encoded data removed]",
      "text/plain": [
       "<Figure size 432x288 with 1 Axes>"
      ]
     },
     "metadata": {
      "needs_background": "light"
     },
     "output_type": "display_data"
    }
   ],
   "source": [
    "plt.plot(losses_2)"
   ]
  },
  {
   "cell_type": "code",
   "execution_count": 7,
   "id": "dirty-eight",
   "metadata": {},
   "outputs": [],
   "source": [
    "score_model = ScoreNet_2D(marginal_prob_std=marginal_prob_std_fn)"
   ]
  },
  {
   "cell_type": "code",
   "execution_count": 10,
   "id": "yellow-welding",
   "metadata": {},
   "outputs": [
    {
     "data": {
      "application/json": {
       "ascii": false,
       "bar_format": null,
       "colour": null,
       "elapsed": 0.026101112365722656,
       "initial": 0,
       "n": 0,
       "ncols": null,
       "nrows": null,
       "postfix": null,
       "prefix": "",
       "rate": null,
       "total": 10,
       "unit": "it",
       "unit_divisor": 1000,
       "unit_scale": false
      },
      "application/vnd.jupyter.widget-view+json": {
       "model_id": "3e0e1ab805dc4185863605f3595ef433",
       "version_major": 2,
       "version_minor": 0
      },
      "text/plain": [
       "  0%|          | 0/10 [00:00<?, ?it/s]"
      ]
     },
     "metadata": {},
     "output_type": "display_data"
    }
   ],
   "source": [
    "losses_3 = train_model(score_model, ex_3, CDE_loss_fn_2D, marginal_prob_std_fn, 'cde_3_test.pth', epochs = 10, batch_size = 1000)"
   ]
  },
  {
   "cell_type": "code",
   "execution_count": 11,
   "id": "bright-property",
   "metadata": {
    "scrolled": true
   },
   "outputs": [
    {
     "data": {
      "text/plain": [
       "[<matplotlib.lines.Line2D at 0x7fc3bacfad30>]"
      ]
     },
     "execution_count": 11,
     "metadata": {},
     "output_type": "execute_result"
    },
    {
     "data": {
      "image/png": "[encoded data removed]",
      "text/plain": [
       "<Figure size 432x288 with 1 Axes>"
      ]
     },
     "metadata": {
      "needs_background": "light"
     },
     "output_type": "display_data"
    }
   ],
   "source": [
    "plt.plot(losses_3)"
   ]
  },
  {
   "cell_type": "markdown",
   "id": "responsible-tutorial",
   "metadata": {},
   "source": [
    "<a id='cde_samples'></a>\n",
    "## Draw CDE samples"
   ]
  },
  {
   "cell_type": "markdown",
   "id": "increased-egypt",
   "metadata": {},
   "source": [
    "### Example 1"
   ]
  },
  {
   "cell_type": "code",
   "execution_count": 17,
   "id": "twelve-dryer",
   "metadata": {},
   "outputs": [
    {
     "name": "stderr",
     "output_type": "stream",
     "text": [
      "/Users/harryamad/Google Drive/2022/Dissertation/conditional_diffusion_simulation/SDE.py:16: UserWarning: To copy construct from a tensor, it is recommended to use sourceTensor.clone().detach() or sourceTensor.clone().detach().requires_grad_(True), rather than torch.tensor(sourceTensor).\n",
      "  t = torch.tensor(t)\n"
     ]
    },
    {
     "data": {
      "application/json": {
       "ascii": false,
       "bar_format": null,
       "colour": null,
       "elapsed": 0.025650978088378906,
       "initial": 0,
       "n": 0,
       "ncols": null,
       "nrows": null,
       "postfix": null,
       "prefix": "",
       "rate": null,
       "total": 1000,
       "unit": "it",
       "unit_divisor": 1000,
       "unit_scale": false
      },
      "application/vnd.jupyter.widget-view+json": {
       "model_id": "2e6cbf1960a543d493f979ca705fd018",
       "version_major": 2,
       "version_minor": 0
      },
      "text/plain": [
       "  0%|          | 0/1000 [00:00<?, ?it/s]"
      ]
     },
     "metadata": {},
     "output_type": "display_data"
    },
    {
     "name": "stderr",
     "output_type": "stream",
     "text": [
      "/Users/harryamad/Google Drive/2022/Dissertation/conditional_diffusion_simulation/SDE.py:29: UserWarning: To copy construct from a tensor, it is recommended to use sourceTensor.clone().detach() or sourceTensor.clone().detach().requires_grad_(True), rather than torch.tensor(sourceTensor).\n",
      "  return torch.tensor(sigma**t)\n"
     ]
    },
    {
     "data": {
      "application/json": {
       "ascii": false,
       "bar_format": null,
       "colour": null,
       "elapsed": 0.02577996253967285,
       "initial": 0,
       "n": 0,
       "ncols": null,
       "nrows": null,
       "postfix": null,
       "prefix": "",
       "rate": null,
       "total": 1000,
       "unit": "it",
       "unit_divisor": 1000,
       "unit_scale": false
      },
      "application/vnd.jupyter.widget-view+json": {
       "model_id": "59a9c4d54d8c4697934919e99bcab4f5",
       "version_major": 2,
       "version_minor": 0
      },
      "text/plain": [
       "  0%|          | 0/1000 [00:00<?, ?it/s]"
      ]
     },
     "metadata": {},
     "output_type": "display_data"
    },
    {
     "data": {
      "application/json": {
       "ascii": false,
       "bar_format": null,
       "colour": null,
       "elapsed": 0.02515411376953125,
       "initial": 0,
       "n": 0,
       "ncols": null,
       "nrows": null,
       "postfix": null,
       "prefix": "",
       "rate": null,
       "total": 1000,
       "unit": "it",
       "unit_divisor": 1000,
       "unit_scale": false
      },
      "application/vnd.jupyter.widget-view+json": {
       "model_id": "1510e60b62d941fba6af0084f049ff39",
       "version_major": 2,
       "version_minor": 0
      },
      "text/plain": [
       "  0%|          | 0/1000 [00:00<?, ?it/s]"
      ]
     },
     "metadata": {},
     "output_type": "display_data"
    }
   ],
   "source": [
    "ckpt = torch.load('models/cde_1.pth')\n",
    "score_model.load_state_dict(ckpt)\n",
    "cde_samples_0 = CDE_Euler_Maruyama_sampler(score_model, \n",
    "                           marginal_prob_std_fn,\n",
    "                           diffusion_coeff_fn, \n",
    "                           y_obs = torch.tensor(0, dtype = torch.float32), batch_size = 1000)\n",
    "cde_samples_pos = CDE_Euler_Maruyama_sampler(score_model, \n",
    "                           marginal_prob_std_fn,\n",
    "                           diffusion_coeff_fn, \n",
    "                           y_obs = torch.tensor(1.2, dtype = torch.float32), batch_size = 1000)\n",
    "cde_samples_neg = CDE_Euler_Maruyama_sampler(score_model, \n",
    "                           marginal_prob_std_fn,\n",
    "                           diffusion_coeff_fn, \n",
    "                           y_obs = torch.tensor(-1.2, dtype = torch.float32), batch_size = 1000)"
   ]
  },
  {
   "cell_type": "code",
   "execution_count": 18,
   "id": "sitting-theology",
   "metadata": {
    "scrolled": false
   },
   "outputs": [
    {
     "data": {
      "text/plain": [
       "<matplotlib.axes._subplots.AxesSubplot at 0x7fdc0adcfac0>"
      ]
     },
     "execution_count": 18,
     "metadata": {},
     "output_type": "execute_result"
    },
    {
     "data": {
      "image/png": "[encoded data removed]",
      "text/plain": [
       "<Figure size 432x288 with 1 Axes>"
      ]
     },
     "metadata": {
      "needs_background": "light"
     },
     "output_type": "display_data"
    }
   ],
   "source": [
    "sns.kdeplot(actual_samples_0, color = 'green')\n",
    "sns.histplot(cde_samples_0[:,0], stat = 'density', color = 'green')\n",
    "sns.kdeplot(actual_samples_pos, color = 'blue')\n",
    "sns.histplot(cde_samples_pos[:,0], stat = 'density', color = 'blue')\n",
    "sns.kdeplot(actual_samples_neg, color = 'red')\n",
    "sns.histplot(cde_samples_neg[:,0], stat = 'density', color = 'red')"
   ]
  },
  {
   "cell_type": "markdown",
   "id": "center-female",
   "metadata": {},
   "source": [
    "### Example 2"
   ]
  },
  {
   "cell_type": "code",
   "execution_count": 19,
   "id": "chicken-helmet",
   "metadata": {},
   "outputs": [
    {
     "name": "stderr",
     "output_type": "stream",
     "text": [
      "/Users/harryamad/Google Drive/2022/Dissertation/conditional_diffusion_simulation/SDE.py:16: UserWarning: To copy construct from a tensor, it is recommended to use sourceTensor.clone().detach() or sourceTensor.clone().detach().requires_grad_(True), rather than torch.tensor(sourceTensor).\n",
      "  t = torch.tensor(t)\n"
     ]
    },
    {
     "data": {
      "application/json": {
       "ascii": false,
       "bar_format": null,
       "colour": null,
       "elapsed": 0.02731490135192871,
       "initial": 0,
       "n": 0,
       "ncols": null,
       "nrows": null,
       "postfix": null,
       "prefix": "",
       "rate": null,
       "total": 1000,
       "unit": "it",
       "unit_divisor": 1000,
       "unit_scale": false
      },
      "application/vnd.jupyter.widget-view+json": {
       "model_id": "6ef6482327f44c479b567d2eb879b0a5",
       "version_major": 2,
       "version_minor": 0
      },
      "text/plain": [
       "  0%|          | 0/1000 [00:00<?, ?it/s]"
      ]
     },
     "metadata": {},
     "output_type": "display_data"
    },
    {
     "name": "stderr",
     "output_type": "stream",
     "text": [
      "/Users/harryamad/Google Drive/2022/Dissertation/conditional_diffusion_simulation/SDE.py:29: UserWarning: To copy construct from a tensor, it is recommended to use sourceTensor.clone().detach() or sourceTensor.clone().detach().requires_grad_(True), rather than torch.tensor(sourceTensor).\n",
      "  return torch.tensor(sigma**t)\n"
     ]
    },
    {
     "data": {
      "application/json": {
       "ascii": false,
       "bar_format": null,
       "colour": null,
       "elapsed": 0.02710413932800293,
       "initial": 0,
       "n": 0,
       "ncols": null,
       "nrows": null,
       "postfix": null,
       "prefix": "",
       "rate": null,
       "total": 1000,
       "unit": "it",
       "unit_divisor": 1000,
       "unit_scale": false
      },
      "application/vnd.jupyter.widget-view+json": {
       "model_id": "5e2c2b67e0d144d2a4f626d0ea495069",
       "version_major": 2,
       "version_minor": 0
      },
      "text/plain": [
       "  0%|          | 0/1000 [00:00<?, ?it/s]"
      ]
     },
     "metadata": {},
     "output_type": "display_data"
    },
    {
     "data": {
      "application/json": {
       "ascii": false,
       "bar_format": null,
       "colour": null,
       "elapsed": 0.02524113655090332,
       "initial": 0,
       "n": 0,
       "ncols": null,
       "nrows": null,
       "postfix": null,
       "prefix": "",
       "rate": null,
       "total": 1000,
       "unit": "it",
       "unit_divisor": 1000,
       "unit_scale": false
      },
      "application/vnd.jupyter.widget-view+json": {
       "model_id": "718b146d3c7e4e60821d0b5d43ae96f6",
       "version_major": 2,
       "version_minor": 0
      },
      "text/plain": [
       "  0%|          | 0/1000 [00:00<?, ?it/s]"
      ]
     },
     "metadata": {},
     "output_type": "display_data"
    }
   ],
   "source": [
    "ckpt = torch.load('models/cde_2.pth')\n",
    "score_model.load_state_dict(ckpt)\n",
    "cde_samples_0_2 = CDE_Euler_Maruyama_sampler(score_model, \n",
    "                           marginal_prob_std_fn,\n",
    "                           diffusion_coeff_fn, \n",
    "                           y_obs = torch.tensor(0, dtype = torch.float32), batch_size = 1000)\n",
    "cde_samples_pos_2 = CDE_Euler_Maruyama_sampler(score_model, \n",
    "                           marginal_prob_std_fn,\n",
    "                           diffusion_coeff_fn, \n",
    "                           y_obs = torch.tensor(1.2, dtype = torch.float32), batch_size = 1000)\n",
    "cde_samples_neg_2 = CDE_Euler_Maruyama_sampler(score_model, \n",
    "                           marginal_prob_std_fn,\n",
    "                           diffusion_coeff_fn, \n",
    "                           y_obs = torch.tensor(-1.2, dtype = torch.float32), batch_size = 1000)"
   ]
  },
  {
   "cell_type": "code",
   "execution_count": 20,
   "id": "dress-hindu",
   "metadata": {
    "scrolled": true
   },
   "outputs": [
    {
     "data": {
      "text/plain": [
       "<matplotlib.axes._subplots.AxesSubplot at 0x7fdc0db1e820>"
      ]
     },
     "execution_count": 20,
     "metadata": {},
     "output_type": "execute_result"
    },
    {
     "data": {
      "image/png": "[encoded data removed]",
      "text/plain": [
       "<Figure size 432x288 with 1 Axes>"
      ]
     },
     "metadata": {
      "needs_background": "light"
     },
     "output_type": "display_data"
    }
   ],
   "source": [
    "sns.kdeplot(actual_samples_0_2, color = 'green')\n",
    "sns.histplot(cde_samples_0_2[:,0], stat = 'density', color = 'green')\n",
    "sns.kdeplot(actual_samples_pos_2, color = 'blue')\n",
    "sns.histplot(cde_samples_pos_2[:,0], stat = 'density', color = 'blue')\n",
    "sns.kdeplot(actual_samples_neg_2, color = 'red')\n",
    "sns.histplot(cde_samples_neg_2[:,0], stat = 'density', color = 'red')"
   ]
  },
  {
   "cell_type": "markdown",
   "id": "equal-utilization",
   "metadata": {},
   "source": [
    "### Example 3"
   ]
  },
  {
   "cell_type": "code",
   "execution_count": 21,
   "id": "bacterial-disco",
   "metadata": {},
   "outputs": [
    {
     "name": "stderr",
     "output_type": "stream",
     "text": [
      "/Users/harryamad/Google Drive/2022/Dissertation/conditional_diffusion_simulation/SDE.py:16: UserWarning: To copy construct from a tensor, it is recommended to use sourceTensor.clone().detach() or sourceTensor.clone().detach().requires_grad_(True), rather than torch.tensor(sourceTensor).\n",
      "  t = torch.tensor(t)\n"
     ]
    },
    {
     "data": {
      "application/json": {
       "ascii": false,
       "bar_format": null,
       "colour": null,
       "elapsed": 0.025866031646728516,
       "initial": 0,
       "n": 0,
       "ncols": null,
       "nrows": null,
       "postfix": null,
       "prefix": "",
       "rate": null,
       "total": 1000,
       "unit": "it",
       "unit_divisor": 1000,
       "unit_scale": false
      },
      "application/vnd.jupyter.widget-view+json": {
       "model_id": "b24e3fd31a124004a6a3ad46c8afc5a8",
       "version_major": 2,
       "version_minor": 0
      },
      "text/plain": [
       "  0%|          | 0/1000 [00:00<?, ?it/s]"
      ]
     },
     "metadata": {},
     "output_type": "display_data"
    },
    {
     "name": "stderr",
     "output_type": "stream",
     "text": [
      "/Users/harryamad/Google Drive/2022/Dissertation/conditional_diffusion_simulation/SDE.py:29: UserWarning: To copy construct from a tensor, it is recommended to use sourceTensor.clone().detach() or sourceTensor.clone().detach().requires_grad_(True), rather than torch.tensor(sourceTensor).\n",
      "  return torch.tensor(sigma**t)\n"
     ]
    },
    {
     "data": {
      "application/json": {
       "ascii": false,
       "bar_format": null,
       "colour": null,
       "elapsed": 0.0245816707611084,
       "initial": 0,
       "n": 0,
       "ncols": null,
       "nrows": null,
       "postfix": null,
       "prefix": "",
       "rate": null,
       "total": 1000,
       "unit": "it",
       "unit_divisor": 1000,
       "unit_scale": false
      },
      "application/vnd.jupyter.widget-view+json": {
       "model_id": "4ea7a8ec63fe4557ac700153a11461aa",
       "version_major": 2,
       "version_minor": 0
      },
      "text/plain": [
       "  0%|          | 0/1000 [00:00<?, ?it/s]"
      ]
     },
     "metadata": {},
     "output_type": "display_data"
    }
   ],
   "source": [
    "ckpt = torch.load('models/cde_3.pth')\n",
    "score_model.load_state_dict(ckpt)\n",
    "\n",
    "cde_samples_pos_3 = CDE_Euler_Maruyama_sampler(score_model, \n",
    "                           marginal_prob_std_fn,\n",
    "                           diffusion_coeff_fn, \n",
    "                           y_obs = torch.tensor(1.2, dtype = torch.float32), batch_size = 1000)\n",
    "cde_samples_neg_3 = CDE_Euler_Maruyama_sampler(score_model, \n",
    "                           marginal_prob_std_fn,\n",
    "                           diffusion_coeff_fn, \n",
    "                           y_obs = torch.tensor(-1.2, dtype = torch.float32), batch_size = 1000)"
   ]
  },
  {
   "cell_type": "code",
   "execution_count": 22,
   "id": "hundred-childhood",
   "metadata": {
    "scrolled": false
   },
   "outputs": [
    {
     "data": {
      "text/plain": [
       "<matplotlib.axes._subplots.AxesSubplot at 0x7fdc0c7cb2b0>"
      ]
     },
     "execution_count": 22,
     "metadata": {},
     "output_type": "execute_result"
    },
    {
     "data": {
      "image/png": "[encoded data removed]",
      "text/plain": [
       "<Figure size 432x288 with 1 Axes>"
      ]
     },
     "metadata": {
      "needs_background": "light"
     },
     "output_type": "display_data"
    }
   ],
   "source": [
    "sns.kdeplot(actual_samples_pos_3, color = 'blue')\n",
    "sns.histplot(cde_samples_pos_3[:,0], stat = 'density', color = 'blue')\n",
    "sns.kdeplot(actual_samples_neg_3, color = 'red')\n",
    "sns.histplot(cde_samples_neg_3[:,0], stat = 'density', color = 'red')"
   ]
  },
  {
   "cell_type": "code",
   "execution_count": 328,
   "id": "unavailable-treasurer",
   "metadata": {},
   "outputs": [],
   "source": [
    "torch.save(cde_samples_0, 'data/cde_0_1.pt')\n",
    "torch.save(cde_samples_pos, 'data/cde_pos_1.pt')\n",
    "torch.save(cde_samples_neg, 'data/cde_neg_1.pt')\n",
    "\n",
    "torch.save(cde_samples_0_2, 'data/cde_0_2.pt')\n",
    "torch.save(cde_samples_pos_2, 'data/cde_pos_2.pt')\n",
    "torch.save(cde_samples_neg_2, 'data/cde_neg_2.pt')\n",
    "\n",
    "torch.save(cde_samples_pos_3, 'data/cde_pos_3.pt')\n",
    "torch.save(cde_samples_neg_3, 'data/cde_neg_3.pt')"
   ]
  },
  {
   "cell_type": "markdown",
   "id": "enormous-story",
   "metadata": {},
   "source": [
    "<hr style=\"border:2px solid black\">"
   ]
  },
  {
   "cell_type": "markdown",
   "id": "aging-april",
   "metadata": {},
   "source": [
    "<a id='cdiffe_samples'></a>\n",
    "## Draw CDiffE samples"
   ]
  },
  {
   "cell_type": "markdown",
   "id": "discrete-niagara",
   "metadata": {},
   "source": [
    "### Example 1"
   ]
  },
  {
   "cell_type": "code",
   "execution_count": 5,
   "id": "advanced-queensland",
   "metadata": {},
   "outputs": [
    {
     "name": "stderr",
     "output_type": "stream",
     "text": [
      "/Users/harryamad/Google Drive/2022/Dissertation/conditional_diffusion_simulation/SDE.py:16: UserWarning: To copy construct from a tensor, it is recommended to use sourceTensor.clone().detach() or sourceTensor.clone().detach().requires_grad_(True), rather than torch.tensor(sourceTensor).\n",
      "  t = torch.tensor(t)\n"
     ]
    },
    {
     "data": {
      "application/json": {
       "ascii": false,
       "bar_format": null,
       "colour": null,
       "elapsed": 0.03930020332336426,
       "initial": 0,
       "n": 0,
       "ncols": null,
       "nrows": null,
       "postfix": null,
       "prefix": "",
       "rate": null,
       "total": 1000,
       "unit": "it",
       "unit_divisor": 1000,
       "unit_scale": false
      },
      "application/vnd.jupyter.widget-view+json": {
       "model_id": "2d3ef2d9f01e49f6896d7c425365d557",
       "version_major": 2,
       "version_minor": 0
      },
      "text/plain": [
       "  0%|          | 0/1000 [00:00<?, ?it/s]"
      ]
     },
     "metadata": {},
     "output_type": "display_data"
    },
    {
     "name": "stderr",
     "output_type": "stream",
     "text": [
      "/Users/harryamad/Google Drive/2022/Dissertation/conditional_diffusion_simulation/SDE.py:29: UserWarning: To copy construct from a tensor, it is recommended to use sourceTensor.clone().detach() or sourceTensor.clone().detach().requires_grad_(True), rather than torch.tensor(sourceTensor).\n",
      "  return torch.tensor(sigma**t)\n"
     ]
    },
    {
     "data": {
      "application/json": {
       "ascii": false,
       "bar_format": null,
       "colour": null,
       "elapsed": 0.027421951293945312,
       "initial": 0,
       "n": 0,
       "ncols": null,
       "nrows": null,
       "postfix": null,
       "prefix": "",
       "rate": null,
       "total": 1000,
       "unit": "it",
       "unit_divisor": 1000,
       "unit_scale": false
      },
      "application/vnd.jupyter.widget-view+json": {
       "model_id": "b43031d90ab94b35b3a89b7ccf2bdd7a",
       "version_major": 2,
       "version_minor": 0
      },
      "text/plain": [
       "  0%|          | 0/1000 [00:00<?, ?it/s]"
      ]
     },
     "metadata": {},
     "output_type": "display_data"
    },
    {
     "data": {
      "application/json": {
       "ascii": false,
       "bar_format": null,
       "colour": null,
       "elapsed": 0.02611994743347168,
       "initial": 0,
       "n": 0,
       "ncols": null,
       "nrows": null,
       "postfix": null,
       "prefix": "",
       "rate": null,
       "total": 1000,
       "unit": "it",
       "unit_divisor": 1000,
       "unit_scale": false
      },
      "application/vnd.jupyter.widget-view+json": {
       "model_id": "eee29455de2d4ecd9eae8da3f4373df6",
       "version_major": 2,
       "version_minor": 0
      },
      "text/plain": [
       "  0%|          | 0/1000 [00:00<?, ?it/s]"
      ]
     },
     "metadata": {},
     "output_type": "display_data"
    }
   ],
   "source": [
    "score_model = ScoreNet_2D(marginal_prob_std=marginal_prob_std_fn)\n",
    "ckpt = torch.load('models/ex_1.pth')\n",
    "score_model.load_state_dict(ckpt)\n",
    "cdiffe_samples_0 = CDiffE_pc_sampler(score_model, \n",
    "                           marginal_prob_std_fn,\n",
    "                           diffusion_coeff_fn, \n",
    "                           y_obs = torch.tensor(0, dtype = torch.float32), batch_size = 1000)\n",
    "\n",
    "cdiffe_samples_neg = CDiffE_pc_sampler(score_model, \n",
    "                           marginal_prob_std_fn,\n",
    "                           diffusion_coeff_fn, \n",
    "                           y_obs = torch.tensor(-1.2, dtype = torch.float32), batch_size = 1000)\n",
    "\n",
    "cdiffe_samples_pos = CDiffE_pc_sampler(score_model, \n",
    "                           marginal_prob_std_fn,\n",
    "                           diffusion_coeff_fn, \n",
    "                           y_obs = torch.tensor(1.2, dtype = torch.float32), batch_size = 1000)"
   ]
  },
  {
   "cell_type": "code",
   "execution_count": 6,
   "id": "intense-premium",
   "metadata": {},
   "outputs": [
    {
     "data": {
      "text/plain": [
       "<matplotlib.axes._subplots.AxesSubplot at 0x7fdc08d10490>"
      ]
     },
     "execution_count": 6,
     "metadata": {},
     "output_type": "execute_result"
    },
    {
     "data": {
      "image/png": "[encoded data removed]",
      "text/plain": [
       "<Figure size 432x288 with 1 Axes>"
      ]
     },
     "metadata": {
      "needs_background": "light"
     },
     "output_type": "display_data"
    }
   ],
   "source": [
    "sns.kdeplot(actual_samples_0, color = 'green')\n",
    "sns.histplot(cdiffe_samples_0[:,0], stat = 'density', color = 'green')\n",
    "sns.kdeplot(actual_samples_pos, color = 'blue')\n",
    "sns.histplot(cdiffe_samples_pos[:,0], stat = 'density', color = 'blue')\n",
    "sns.kdeplot(actual_samples_neg, color = 'red')\n",
    "sns.histplot(cdiffe_samples_neg[:,0], stat = 'density', color = 'red')"
   ]
  },
  {
   "cell_type": "markdown",
   "id": "according-belief",
   "metadata": {},
   "source": [
    "### Example 2"
   ]
  },
  {
   "cell_type": "code",
   "execution_count": 7,
   "id": "impressive-cliff",
   "metadata": {},
   "outputs": [
    {
     "name": "stderr",
     "output_type": "stream",
     "text": [
      "/Users/harryamad/Google Drive/2022/Dissertation/conditional_diffusion_simulation/SDE.py:16: UserWarning: To copy construct from a tensor, it is recommended to use sourceTensor.clone().detach() or sourceTensor.clone().detach().requires_grad_(True), rather than torch.tensor(sourceTensor).\n",
      "  t = torch.tensor(t)\n"
     ]
    },
    {
     "data": {
      "application/json": {
       "ascii": false,
       "bar_format": null,
       "colour": null,
       "elapsed": 0.05082392692565918,
       "initial": 0,
       "n": 0,
       "ncols": null,
       "nrows": null,
       "postfix": null,
       "prefix": "",
       "rate": null,
       "total": 1000,
       "unit": "it",
       "unit_divisor": 1000,
       "unit_scale": false
      },
      "application/vnd.jupyter.widget-view+json": {
       "model_id": "fdc41ca531884534a530c5eefd124313",
       "version_major": 2,
       "version_minor": 0
      },
      "text/plain": [
       "  0%|          | 0/1000 [00:00<?, ?it/s]"
      ]
     },
     "metadata": {},
     "output_type": "display_data"
    },
    {
     "name": "stderr",
     "output_type": "stream",
     "text": [
      "/Users/harryamad/Google Drive/2022/Dissertation/conditional_diffusion_simulation/SDE.py:29: UserWarning: To copy construct from a tensor, it is recommended to use sourceTensor.clone().detach() or sourceTensor.clone().detach().requires_grad_(True), rather than torch.tensor(sourceTensor).\n",
      "  return torch.tensor(sigma**t)\n"
     ]
    },
    {
     "data": {
      "application/json": {
       "ascii": false,
       "bar_format": null,
       "colour": null,
       "elapsed": 0.024702072143554688,
       "initial": 0,
       "n": 0,
       "ncols": null,
       "nrows": null,
       "postfix": null,
       "prefix": "",
       "rate": null,
       "total": 1000,
       "unit": "it",
       "unit_divisor": 1000,
       "unit_scale": false
      },
      "application/vnd.jupyter.widget-view+json": {
       "model_id": "09c68e9e7d8a4ee1b43fafe5cdb4f1e4",
       "version_major": 2,
       "version_minor": 0
      },
      "text/plain": [
       "  0%|          | 0/1000 [00:00<?, ?it/s]"
      ]
     },
     "metadata": {},
     "output_type": "display_data"
    },
    {
     "data": {
      "application/json": {
       "ascii": false,
       "bar_format": null,
       "colour": null,
       "elapsed": 0.02498912811279297,
       "initial": 0,
       "n": 0,
       "ncols": null,
       "nrows": null,
       "postfix": null,
       "prefix": "",
       "rate": null,
       "total": 1000,
       "unit": "it",
       "unit_divisor": 1000,
       "unit_scale": false
      },
      "application/vnd.jupyter.widget-view+json": {
       "model_id": "09d0ede857cf4215af33c931d781f341",
       "version_major": 2,
       "version_minor": 0
      },
      "text/plain": [
       "  0%|          | 0/1000 [00:00<?, ?it/s]"
      ]
     },
     "metadata": {},
     "output_type": "display_data"
    }
   ],
   "source": [
    "score_model = ScoreNet_2D(marginal_prob_std=marginal_prob_std_fn)\n",
    "ckpt = torch.load('models/ex_2.pth')\n",
    "score_model.load_state_dict(ckpt)\n",
    "cdiffe_samples_0_2 = CDiffE_pc_sampler(score_model, \n",
    "                           marginal_prob_std_fn,\n",
    "                           diffusion_coeff_fn, \n",
    "                           y_obs = torch.tensor(0, dtype = torch.float32), batch_size = 1000)\n",
    "\n",
    "cdiffe_samples_neg_2 = CDiffE_pc_sampler(score_model, \n",
    "                           marginal_prob_std_fn,\n",
    "                           diffusion_coeff_fn, \n",
    "                           y_obs = torch.tensor(-1.2, dtype = torch.float32), batch_size = 1000)\n",
    "\n",
    "cdiffe_samples_pos_2 = CDiffE_pc_sampler(score_model, \n",
    "                           marginal_prob_std_fn,\n",
    "                           diffusion_coeff_fn, \n",
    "                           y_obs = torch.tensor(1.2, dtype = torch.float32), batch_size = 1000)"
   ]
  },
  {
   "cell_type": "code",
   "execution_count": 8,
   "id": "numeric-constitution",
   "metadata": {
    "scrolled": true
   },
   "outputs": [
    {
     "data": {
      "text/plain": [
       "<matplotlib.axes._subplots.AxesSubplot at 0x7fdc0973daf0>"
      ]
     },
     "execution_count": 8,
     "metadata": {},
     "output_type": "execute_result"
    },
    {
     "data": {
      "image/png": "[encoded data removed]",
      "text/plain": [
       "<Figure size 432x288 with 1 Axes>"
      ]
     },
     "metadata": {
      "needs_background": "light"
     },
     "output_type": "display_data"
    }
   ],
   "source": [
    "sns.kdeplot(actual_samples_0_2, color = 'green')\n",
    "sns.histplot(cdiffe_samples_0_2[:,0], stat = 'density', color = 'green')\n",
    "sns.kdeplot(actual_samples_pos_2, color = 'blue')\n",
    "sns.histplot(cdiffe_samples_pos_2[:,0], stat = 'density', color = 'blue')\n",
    "sns.kdeplot(actual_samples_neg_2, color = 'red')\n",
    "sns.histplot(cdiffe_samples_neg_2[:,0], stat = 'density', color = 'red')"
   ]
  },
  {
   "cell_type": "markdown",
   "id": "recent-validity",
   "metadata": {},
   "source": [
    "### Example 3"
   ]
  },
  {
   "cell_type": "code",
   "execution_count": 9,
   "id": "familiar-airline",
   "metadata": {},
   "outputs": [
    {
     "name": "stderr",
     "output_type": "stream",
     "text": [
      "/Users/harryamad/Google Drive/2022/Dissertation/conditional_diffusion_simulation/SDE.py:16: UserWarning: To copy construct from a tensor, it is recommended to use sourceTensor.clone().detach() or sourceTensor.clone().detach().requires_grad_(True), rather than torch.tensor(sourceTensor).\n",
      "  t = torch.tensor(t)\n"
     ]
    },
    {
     "data": {
      "application/json": {
       "ascii": false,
       "bar_format": null,
       "colour": null,
       "elapsed": 0.02605891227722168,
       "initial": 0,
       "n": 0,
       "ncols": null,
       "nrows": null,
       "postfix": null,
       "prefix": "",
       "rate": null,
       "total": 1000,
       "unit": "it",
       "unit_divisor": 1000,
       "unit_scale": false
      },
      "application/vnd.jupyter.widget-view+json": {
       "model_id": "4755e181e8ba4e9f8140dc36f5f6bce5",
       "version_major": 2,
       "version_minor": 0
      },
      "text/plain": [
       "  0%|          | 0/1000 [00:00<?, ?it/s]"
      ]
     },
     "metadata": {},
     "output_type": "display_data"
    },
    {
     "name": "stderr",
     "output_type": "stream",
     "text": [
      "/Users/harryamad/Google Drive/2022/Dissertation/conditional_diffusion_simulation/SDE.py:29: UserWarning: To copy construct from a tensor, it is recommended to use sourceTensor.clone().detach() or sourceTensor.clone().detach().requires_grad_(True), rather than torch.tensor(sourceTensor).\n",
      "  return torch.tensor(sigma**t)\n"
     ]
    },
    {
     "data": {
      "application/json": {
       "ascii": false,
       "bar_format": null,
       "colour": null,
       "elapsed": 0.02874612808227539,
       "initial": 0,
       "n": 0,
       "ncols": null,
       "nrows": null,
       "postfix": null,
       "prefix": "",
       "rate": null,
       "total": 1000,
       "unit": "it",
       "unit_divisor": 1000,
       "unit_scale": false
      },
      "application/vnd.jupyter.widget-view+json": {
       "model_id": "2fb30f91787d4119a9984542ce102640",
       "version_major": 2,
       "version_minor": 0
      },
      "text/plain": [
       "  0%|          | 0/1000 [00:00<?, ?it/s]"
      ]
     },
     "metadata": {},
     "output_type": "display_data"
    }
   ],
   "source": [
    "score_model = ScoreNet_2D(marginal_prob_std=marginal_prob_std_fn)\n",
    "ckpt = torch.load('models/ex_3.pth')\n",
    "score_model.load_state_dict(ckpt)\n",
    "\n",
    "cdiffe_samples_neg_3 = CDiffE_pc_sampler(score_model, \n",
    "                           marginal_prob_std_fn,\n",
    "                           diffusion_coeff_fn, \n",
    "                           y_obs = torch.tensor(-1.2, dtype = torch.float32), batch_size = 1000)\n",
    "\n",
    "cdiffe_samples_pos_3 = CDiffE_pc_sampler(score_model, \n",
    "                           marginal_prob_std_fn,\n",
    "                           diffusion_coeff_fn, \n",
    "                           y_obs = torch.tensor(1.2, dtype = torch.float32), batch_size = 1000)"
   ]
  },
  {
   "cell_type": "code",
   "execution_count": 10,
   "id": "coordinated-organizer",
   "metadata": {
    "scrolled": false
   },
   "outputs": [
    {
     "data": {
      "text/plain": [
       "<matplotlib.axes._subplots.AxesSubplot at 0x7fdc0b2f8610>"
      ]
     },
     "execution_count": 10,
     "metadata": {},
     "output_type": "execute_result"
    },
    {
     "data": {
      "image/png": "[encoded data removed]",
      "text/plain": [
       "<Figure size 432x288 with 1 Axes>"
      ]
     },
     "metadata": {
      "needs_background": "light"
     },
     "output_type": "display_data"
    }
   ],
   "source": [
    "sns.kdeplot(actual_samples_pos_3, color = 'blue')\n",
    "sns.histplot(cdiffe_samples_pos_3[:,0], stat = 'density', color = 'blue')\n",
    "sns.kdeplot(actual_samples_neg_3, color = 'red')\n",
    "sns.histplot(cdiffe_samples_neg_3[:,0], stat = 'density', color = 'red')"
   ]
  },
  {
   "cell_type": "code",
   "execution_count": 327,
   "id": "encouraging-islam",
   "metadata": {},
   "outputs": [],
   "source": [
    "torch.save(cdiffe_samples_0, 'data/cdiffe_0_1.pt')\n",
    "torch.save(cdiffe_samples_pos, 'data/cdiffe_pos_1.pt')\n",
    "torch.save(cdiffe_samples_neg, 'data/cdiffe_neg_1.pt')\n",
    "\n",
    "torch.save(cdiffe_samples_0_2, 'data/cdiffe_0_2.pt')\n",
    "torch.save(cdiffe_samples_pos_2, 'data/cdiffe_pos_2.pt')\n",
    "torch.save(cdiffe_samples_neg_2, 'data/cdiffe_neg_2.pt')\n",
    "\n",
    "torch.save(cdiffe_samples_pos_3, 'data/cdiffe_pos_3.pt')\n",
    "torch.save(cdiffe_samples_neg_3, 'data/cdiffe_neg_3.pt')"
   ]
  },
  {
   "cell_type": "markdown",
   "id": "handy-paintball",
   "metadata": {},
   "source": [
    "<hr style=\"border:2px solid black\">"
   ]
  },
  {
   "cell_type": "markdown",
   "id": "willing-apollo",
   "metadata": {},
   "source": [
    "<a id='smcdiff_samples'></a>\n",
    "## Draw SMCDiff samples"
   ]
  },
  {
   "cell_type": "markdown",
   "id": "realistic-assumption",
   "metadata": {},
   "source": [
    "## Example 1"
   ]
  },
  {
   "cell_type": "code",
   "execution_count": 11,
   "id": "incident-pastor",
   "metadata": {},
   "outputs": [
    {
     "name": "stderr",
     "output_type": "stream",
     "text": [
      "/Users/harryamad/Google Drive/2022/Dissertation/conditional_diffusion_simulation/SDE.py:16: UserWarning: To copy construct from a tensor, it is recommended to use sourceTensor.clone().detach() or sourceTensor.clone().detach().requires_grad_(True), rather than torch.tensor(sourceTensor).\n",
      "  t = torch.tensor(t)\n"
     ]
    },
    {
     "data": {
      "application/json": {
       "ascii": false,
       "bar_format": null,
       "colour": null,
       "elapsed": 0.04944896697998047,
       "initial": 0,
       "n": 0,
       "ncols": null,
       "nrows": null,
       "postfix": null,
       "prefix": "",
       "rate": null,
       "total": 1000,
       "unit": "it",
       "unit_divisor": 1000,
       "unit_scale": false
      },
      "application/vnd.jupyter.widget-view+json": {
       "model_id": "569868d6c3c3450c868c5c85c947da22",
       "version_major": 2,
       "version_minor": 0
      },
      "text/plain": [
       "  0%|          | 0/1000 [00:00<?, ?it/s]"
      ]
     },
     "metadata": {},
     "output_type": "display_data"
    },
    {
     "name": "stderr",
     "output_type": "stream",
     "text": [
      "/Users/harryamad/Google Drive/2022/Dissertation/conditional_diffusion_simulation/SDE.py:29: UserWarning: To copy construct from a tensor, it is recommended to use sourceTensor.clone().detach() or sourceTensor.clone().detach().requires_grad_(True), rather than torch.tensor(sourceTensor).\n",
      "  return torch.tensor(sigma**t)\n"
     ]
    },
    {
     "data": {
      "application/json": {
       "ascii": false,
       "bar_format": null,
       "colour": null,
       "elapsed": 0.02801203727722168,
       "initial": 0,
       "n": 0,
       "ncols": null,
       "nrows": null,
       "postfix": null,
       "prefix": "",
       "rate": null,
       "total": 1000,
       "unit": "it",
       "unit_divisor": 1000,
       "unit_scale": false
      },
      "application/vnd.jupyter.widget-view+json": {
       "model_id": "5230335ec3f54299ab1c9637bf739c8e",
       "version_major": 2,
       "version_minor": 0
      },
      "text/plain": [
       "  0%|          | 0/1000 [00:00<?, ?it/s]"
      ]
     },
     "metadata": {},
     "output_type": "display_data"
    },
    {
     "data": {
      "application/json": {
       "ascii": false,
       "bar_format": null,
       "colour": null,
       "elapsed": 0.024219274520874023,
       "initial": 0,
       "n": 0,
       "ncols": null,
       "nrows": null,
       "postfix": null,
       "prefix": "",
       "rate": null,
       "total": 1000,
       "unit": "it",
       "unit_divisor": 1000,
       "unit_scale": false
      },
      "application/vnd.jupyter.widget-view+json": {
       "model_id": "e7fbe75a77ef46f59375c9d5dba17071",
       "version_major": 2,
       "version_minor": 0
      },
      "text/plain": [
       "  0%|          | 0/1000 [00:00<?, ?it/s]"
      ]
     },
     "metadata": {},
     "output_type": "display_data"
    }
   ],
   "source": [
    "ckpt = torch.load('models/ex_1.pth')\n",
    "score_model.load_state_dict(ckpt)\n",
    "\n",
    "smcdiff_samples_0 = SMCDiff_pc_sampler(score_model, \n",
    "                           marginal_prob_std_fn,\n",
    "                           diffusion_coeff_fn, \n",
    "                           y_obs = torch.tensor(0, dtype = torch.float32), k = 1000)\n",
    "\n",
    "smcdiff_samples_pos = SMCDiff_pc_sampler(score_model, \n",
    "                           marginal_prob_std_fn,\n",
    "                           diffusion_coeff_fn, \n",
    "                           y_obs = torch.tensor(1.2, dtype = torch.float32), k = 1000)\n",
    "\n",
    "smcdiff_samples_neg = SMCDiff_pc_sampler(score_model, \n",
    "                           marginal_prob_std_fn,\n",
    "                           diffusion_coeff_fn, \n",
    "                           y_obs = torch.tensor(-1.2, dtype = torch.float32), k = 1000)"
   ]
  },
  {
   "cell_type": "code",
   "execution_count": 12,
   "id": "silver-salad",
   "metadata": {},
   "outputs": [
    {
     "data": {
      "text/plain": [
       "<matplotlib.axes._subplots.AxesSubplot at 0x7fdc0b14cb50>"
      ]
     },
     "execution_count": 12,
     "metadata": {},
     "output_type": "execute_result"
    },
    {
     "data": {
      "image/png": "[encoded data removed]",
      "text/plain": [
       "<Figure size 432x288 with 1 Axes>"
      ]
     },
     "metadata": {
      "needs_background": "light"
     },
     "output_type": "display_data"
    }
   ],
   "source": [
    "sns.kdeplot(actual_samples_0, color = 'green')\n",
    "sns.histplot(smcdiff_samples_0[:,0], stat = 'density', color = 'green')\n",
    "sns.kdeplot(actual_samples_pos, color = 'blue')\n",
    "sns.histplot(smcdiff_samples_pos[:,0], stat = 'density', color = 'blue')\n",
    "sns.kdeplot(actual_samples_neg, color = 'red')\n",
    "sns.histplot(smcdiff_samples_neg[:,0], stat = 'density', color = 'red')"
   ]
  },
  {
   "cell_type": "markdown",
   "id": "descending-adobe",
   "metadata": {},
   "source": [
    "## Example 2"
   ]
  },
  {
   "cell_type": "code",
   "execution_count": 13,
   "id": "preliminary-duration",
   "metadata": {},
   "outputs": [
    {
     "name": "stderr",
     "output_type": "stream",
     "text": [
      "/Users/harryamad/Google Drive/2022/Dissertation/conditional_diffusion_simulation/SDE.py:16: UserWarning: To copy construct from a tensor, it is recommended to use sourceTensor.clone().detach() or sourceTensor.clone().detach().requires_grad_(True), rather than torch.tensor(sourceTensor).\n",
      "  t = torch.tensor(t)\n"
     ]
    },
    {
     "data": {
      "application/json": {
       "ascii": false,
       "bar_format": null,
       "colour": null,
       "elapsed": 0.024688005447387695,
       "initial": 0,
       "n": 0,
       "ncols": null,
       "nrows": null,
       "postfix": null,
       "prefix": "",
       "rate": null,
       "total": 1000,
       "unit": "it",
       "unit_divisor": 1000,
       "unit_scale": false
      },
      "application/vnd.jupyter.widget-view+json": {
       "model_id": "242fa7925f11457487b2e49d5f2beaa4",
       "version_major": 2,
       "version_minor": 0
      },
      "text/plain": [
       "  0%|          | 0/1000 [00:00<?, ?it/s]"
      ]
     },
     "metadata": {},
     "output_type": "display_data"
    },
    {
     "name": "stderr",
     "output_type": "stream",
     "text": [
      "/Users/harryamad/Google Drive/2022/Dissertation/conditional_diffusion_simulation/SDE.py:29: UserWarning: To copy construct from a tensor, it is recommended to use sourceTensor.clone().detach() or sourceTensor.clone().detach().requires_grad_(True), rather than torch.tensor(sourceTensor).\n",
      "  return torch.tensor(sigma**t)\n"
     ]
    },
    {
     "data": {
      "application/json": {
       "ascii": false,
       "bar_format": null,
       "colour": null,
       "elapsed": 0.031135082244873047,
       "initial": 0,
       "n": 0,
       "ncols": null,
       "nrows": null,
       "postfix": null,
       "prefix": "",
       "rate": null,
       "total": 1000,
       "unit": "it",
       "unit_divisor": 1000,
       "unit_scale": false
      },
      "application/vnd.jupyter.widget-view+json": {
       "model_id": "f0fb56b35f3445af94d430380422e8e0",
       "version_major": 2,
       "version_minor": 0
      },
      "text/plain": [
       "  0%|          | 0/1000 [00:00<?, ?it/s]"
      ]
     },
     "metadata": {},
     "output_type": "display_data"
    },
    {
     "data": {
      "application/json": {
       "ascii": false,
       "bar_format": null,
       "colour": null,
       "elapsed": 0.02370905876159668,
       "initial": 0,
       "n": 0,
       "ncols": null,
       "nrows": null,
       "postfix": null,
       "prefix": "",
       "rate": null,
       "total": 1000,
       "unit": "it",
       "unit_divisor": 1000,
       "unit_scale": false
      },
      "application/vnd.jupyter.widget-view+json": {
       "model_id": "da5a54ea29cb4f419b2097bbd63c5410",
       "version_major": 2,
       "version_minor": 0
      },
      "text/plain": [
       "  0%|          | 0/1000 [00:00<?, ?it/s]"
      ]
     },
     "metadata": {},
     "output_type": "display_data"
    }
   ],
   "source": [
    "ckpt = torch.load('models/ex_2.pth')\n",
    "score_model.load_state_dict(ckpt)\n",
    "\n",
    "smcdiff_samples_0_2 = SMCDiff_pc_sampler(score_model, \n",
    "                           marginal_prob_std_fn,\n",
    "                           diffusion_coeff_fn, \n",
    "                           y_obs = torch.tensor(0, dtype = torch.float32), k = 1000)\n",
    "\n",
    "smcdiff_samples_pos_2 = SMCDiff_pc_sampler(score_model, \n",
    "                           marginal_prob_std_fn,\n",
    "                           diffusion_coeff_fn, \n",
    "                           y_obs = torch.tensor(1.2, dtype = torch.float32), k = 1000)\n",
    "\n",
    "smcdiff_samples_neg_2 = SMCDiff_pc_sampler(score_model, \n",
    "                           marginal_prob_std_fn,\n",
    "                           diffusion_coeff_fn, \n",
    "                           y_obs = torch.tensor(-1.2, dtype = torch.float32), k = 1000)"
   ]
  },
  {
   "cell_type": "code",
   "execution_count": 14,
   "id": "declared-immune",
   "metadata": {},
   "outputs": [
    {
     "data": {
      "text/plain": [
       "<matplotlib.axes._subplots.AxesSubplot at 0x7fdc0b1b7a60>"
      ]
     },
     "execution_count": 14,
     "metadata": {},
     "output_type": "execute_result"
    },
    {
     "data": {
      "image/png": "[encoded data removed]",
      "text/plain": [
       "<Figure size 432x288 with 1 Axes>"
      ]
     },
     "metadata": {
      "needs_background": "light"
     },
     "output_type": "display_data"
    }
   ],
   "source": [
    "sns.kdeplot(actual_samples_0_2, color = 'green')\n",
    "sns.histplot(smcdiff_samples_0_2[:,0], stat = 'density', color = 'green')\n",
    "sns.kdeplot(actual_samples_pos_2, color = 'blue')\n",
    "sns.histplot(smcdiff_samples_pos_2[:,0], stat = 'density', color = 'blue')\n",
    "sns.kdeplot(actual_samples_neg_2, color = 'red')\n",
    "sns.histplot(smcdiff_samples_neg_2[:,0], stat = 'density', color = 'red')"
   ]
  },
  {
   "cell_type": "markdown",
   "id": "executed-biography",
   "metadata": {},
   "source": [
    "## Example 3"
   ]
  },
  {
   "cell_type": "code",
   "execution_count": 15,
   "id": "incoming-testing",
   "metadata": {},
   "outputs": [
    {
     "name": "stderr",
     "output_type": "stream",
     "text": [
      "/Users/harryamad/Google Drive/2022/Dissertation/conditional_diffusion_simulation/SDE.py:16: UserWarning: To copy construct from a tensor, it is recommended to use sourceTensor.clone().detach() or sourceTensor.clone().detach().requires_grad_(True), rather than torch.tensor(sourceTensor).\n",
      "  t = torch.tensor(t)\n"
     ]
    },
    {
     "data": {
      "application/json": {
       "ascii": false,
       "bar_format": null,
       "colour": null,
       "elapsed": 0.030658245086669922,
       "initial": 0,
       "n": 0,
       "ncols": null,
       "nrows": null,
       "postfix": null,
       "prefix": "",
       "rate": null,
       "total": 1000,
       "unit": "it",
       "unit_divisor": 1000,
       "unit_scale": false
      },
      "application/vnd.jupyter.widget-view+json": {
       "model_id": "c93d3a8b0a354e6e9cf5236a5c6291fd",
       "version_major": 2,
       "version_minor": 0
      },
      "text/plain": [
       "  0%|          | 0/1000 [00:00<?, ?it/s]"
      ]
     },
     "metadata": {},
     "output_type": "display_data"
    },
    {
     "name": "stderr",
     "output_type": "stream",
     "text": [
      "/Users/harryamad/Google Drive/2022/Dissertation/conditional_diffusion_simulation/SDE.py:29: UserWarning: To copy construct from a tensor, it is recommended to use sourceTensor.clone().detach() or sourceTensor.clone().detach().requires_grad_(True), rather than torch.tensor(sourceTensor).\n",
      "  return torch.tensor(sigma**t)\n"
     ]
    },
    {
     "data": {
      "application/json": {
       "ascii": false,
       "bar_format": null,
       "colour": null,
       "elapsed": 0.03161978721618652,
       "initial": 0,
       "n": 0,
       "ncols": null,
       "nrows": null,
       "postfix": null,
       "prefix": "",
       "rate": null,
       "total": 1000,
       "unit": "it",
       "unit_divisor": 1000,
       "unit_scale": false
      },
      "application/vnd.jupyter.widget-view+json": {
       "model_id": "936f6d3e9b734a609951521b414c6ef5",
       "version_major": 2,
       "version_minor": 0
      },
      "text/plain": [
       "  0%|          | 0/1000 [00:00<?, ?it/s]"
      ]
     },
     "metadata": {},
     "output_type": "display_data"
    }
   ],
   "source": [
    "ckpt = torch.load('models/ex_3.pth')\n",
    "score_model.load_state_dict(ckpt)\n",
    "\n",
    "smcdiff_samples_pos_3 = SMCDiff_pc_sampler(score_model, \n",
    "                           marginal_prob_std_fn,\n",
    "                           diffusion_coeff_fn, \n",
    "                           y_obs = torch.tensor(1.2, dtype = torch.float32), k = 1000)\n",
    "\n",
    "smcdiff_samples_neg_3 = SMCDiff_pc_sampler(score_model, \n",
    "                           marginal_prob_std_fn,\n",
    "                           diffusion_coeff_fn, \n",
    "                           y_obs = torch.tensor(-1.2, dtype = torch.float32), k = 1000)"
   ]
  },
  {
   "cell_type": "code",
   "execution_count": 16,
   "id": "juvenile-cooper",
   "metadata": {},
   "outputs": [
    {
     "data": {
      "text/plain": [
       "<matplotlib.axes._subplots.AxesSubplot at 0x7fdc0afce520>"
      ]
     },
     "execution_count": 16,
     "metadata": {},
     "output_type": "execute_result"
    },
    {
     "data": {
      "image/png": "[encoded data removed]",
      "text/plain": [
       "<Figure size 432x288 with 1 Axes>"
      ]
     },
     "metadata": {
      "needs_background": "light"
     },
     "output_type": "display_data"
    }
   ],
   "source": [
    "sns.kdeplot(actual_samples_pos_3, color = 'blue')\n",
    "sns.histplot(smcdiff_samples_pos_3[:,0], stat = 'density', color = 'blue')\n",
    "sns.kdeplot(actual_samples_neg_3, color = 'red')\n",
    "sns.histplot(smcdiff_samples_neg_3[:,0], stat = 'density', color = 'red')"
   ]
  },
  {
   "cell_type": "code",
   "execution_count": 326,
   "id": "brief-rubber",
   "metadata": {},
   "outputs": [],
   "source": [
    "torch.save(smcdiff_samples_0, 'data/smcdiff_0_1.pt')\n",
    "torch.save(smcdiff_samples_pos, 'data/smcdiff_pos_1.pt')\n",
    "torch.save(smcdiff_samples_neg, 'data/smcdiff_neg_1.pt')\n",
    "\n",
    "torch.save(smcdiff_samples_0_2, 'data/smcdiff_0_2.pt')\n",
    "torch.save(smcdiff_samples_pos_2, 'data/smcdiff_pos_2.pt')\n",
    "torch.save(smcdiff_samples_neg_2, 'data/smcdiff_neg_2.pt')\n",
    "\n",
    "torch.save(smcdiff_samples_pos_3, 'data/smcdiff_pos_3.pt')\n",
    "torch.save(smcdiff_samples_neg_3, 'data/smcdiff_neg_3.pt')"
   ]
  },
  {
   "cell_type": "markdown",
   "id": "mental-communications",
   "metadata": {},
   "source": [
    "<hr style=\"border:4px solid black\">"
   ]
  },
  {
   "cell_type": "markdown",
   "id": "earlier-colleague",
   "metadata": {},
   "source": [
    "<a id='comparison'></a>\n",
    "# Comparison"
   ]
  },
  {
   "cell_type": "code",
   "execution_count": 75,
   "id": "relative-printing",
   "metadata": {},
   "outputs": [],
   "source": [
    "cde_samples_0 = torch.load('data/cde_0_1.pt')\n",
    "cde_samples_pos = torch.load('data/cde_pos_1.pt')\n",
    "cde_samples_neg = torch.load('data/cde_neg_1.pt')\n",
    "cde_samples_0_2 = torch.load('data/cde_0_2.pt')\n",
    "cde_samples_pos_2 = torch.load('data/cde_pos_2.pt')\n",
    "cde_samples_neg_2 = torch.load('data/cde_neg_2.pt')\n",
    "cde_samples_pos_3 = torch.load('data/cde_pos_3.pt')\n",
    "cde_samples_neg_3 = torch.load('data/cde_neg_3.pt')"
   ]
  },
  {
   "cell_type": "code",
   "execution_count": null,
   "id": "suburban-details",
   "metadata": {},
   "outputs": [],
   "source": [
    "cdiffe_samples_0 = torch.load('data/cdiffe_0_1.pt')\n",
    "cdiffe_samples_pos = torch.load('data/cdiffe_pos_1.pt')\n",
    "cdiffe_samples_neg = torch.load('data/cdiffe_neg_1.pt')\n",
    "cdiffe_samples_0_2 = torch.load('data/cdiffe_0_2.pt')\n",
    "cdiffe_samples_pos_2 = torch.load('data/cdiffe_pos_2.pt')\n",
    "cdiffe_samples_neg_2 = torch.load('data/cdiffe_neg_2.pt')\n",
    "cdiffe_samples_pos_3 = torch.load('data/cdiffe_pos_3.pt')\n",
    "cdiffe_samples_neg_3 = torch.load('data/cdiffe_neg_3.pt')"
   ]
  },
  {
   "cell_type": "code",
   "execution_count": null,
   "id": "colored-animal",
   "metadata": {},
   "outputs": [],
   "source": [
    "smcdiff_samples_0 = torch.load('data/smcdiff_0_1.pt')\n",
    "smcdiff_samples_pos = torch.load('data/smcdiff_pos_1.pt')\n",
    "smcdiff_samples_neg = torch.load('data/smcdiff_neg_1.pt')\n",
    "smcdiff_samples_0_2 = torch.load('data/smcdiff_0_2.pt')\n",
    "smcdiff_samples_pos_2 = torch.load('data/smcdiff_pos_2.pt')\n",
    "smcdiff_samples_neg_2 = torch.load('data/smcdiff_neg_2.pt')\n",
    "smcdiff_samples_pos_3 = torch.load('data/smcdiff_pos_3.pt')\n",
    "smcdiff_samples_neg_3 = torch.load('data/smcdiff_neg_3.pt')"
   ]
  },
  {
   "cell_type": "code",
   "execution_count": 23,
   "id": "classified-china",
   "metadata": {
    "scrolled": false
   },
   "outputs": [
    {
     "data": {
      "image/png": "[encoded data removed]",
      "text/plain": [
       "<Figure size 1440x1080 with 9 Axes>"
      ]
     },
     "metadata": {
      "needs_background": "light"
     },
     "output_type": "display_data"
    }
   ],
   "source": [
    "fig, axs = plt.subplots(ncols=3, nrows=3, figsize=(20, 15))\n",
    "\n",
    "def plot_row(s1,s2,s3,s4,s5,s6,s7,s8,row,title):\n",
    "    sns.kdeplot(actual_samples_0, color = 'green', ax = axs[row,0])\n",
    "    sns.histplot(s1[:,0], stat = 'density', color = 'green', ax = axs[row,0])\n",
    "    sns.kdeplot(actual_samples_pos, color = 'blue', ax = axs[row,0])\n",
    "    sns.histplot(s2[:,0], stat = 'density', color = 'blue', ax = axs[row,0])\n",
    "    sns.kdeplot(actual_samples_neg, color = 'red', ax = axs[row,0])\n",
    "    sns.histplot(s3[:,0], stat = 'density', color = 'red', ax = axs[row,0])\n",
    "\n",
    "    sns.kdeplot(actual_samples_0_2, color = 'green', ax = axs[row,1])\n",
    "    sns.histplot(s4[:,0], stat = 'density', color = 'green', ax = axs[row,1])\n",
    "    sns.kdeplot(actual_samples_pos_2, color = 'blue', ax = axs[row,1])\n",
    "    sns.histplot(s5[:,0], stat = 'density', color = 'blue', ax = axs[row,1])\n",
    "    sns.kdeplot(actual_samples_neg_2, color = 'red', ax = axs[row,1])\n",
    "    sns.histplot(s6[:,0], stat = 'density', color = 'red', ax = axs[row,1])\n",
    "\n",
    "    sns.kdeplot(actual_samples_pos_3, color = 'blue', ax = axs[row,2])\n",
    "    sns.histplot(s7[:,0], stat = 'density', color = 'blue', ax = axs[row,2])\n",
    "    sns.kdeplot(actual_samples_neg_3, color = 'red', ax = axs[row,2])\n",
    "    sns.histplot(s8[:,0], stat = 'density', color = 'red', ax = axs[row,2])\n",
    "\n",
    "    axs[row,0].set_title(title)\n",
    "    axs[row,1].set_title(title)\n",
    "    axs[row,2].set_title(title)\n",
    "    \n",
    "plot_row(cde_samples_0, cde_samples_pos, cde_samples_neg, \n",
    "         cde_samples_0_2, cde_samples_pos_2, cde_samples_neg_2,\n",
    "         cde_samples_pos_3, cde_samples_neg_3, 0, 'CDE')\n",
    "\n",
    "plot_row(cdiffe_samples_0, cdiffe_samples_pos, cdiffe_samples_neg, \n",
    "         cdiffe_samples_0_2, cdiffe_samples_pos_2, cdiffe_samples_neg_2,\n",
    "         cdiffe_samples_pos_3, cdiffe_samples_neg_3, 1, 'CDiffE')\n",
    "\n",
    "plot_row(smcdiff_samples_0, smcdiff_samples_pos, smcdiff_samples_neg, \n",
    "         smcdiff_samples_0_2, smcdiff_samples_pos_2, smcdiff_samples_neg_2,\n",
    "         smcdiff_samples_pos_3, smcdiff_samples_neg_3, 2, 'SMCDiff')"
   ]
  },
  {
   "cell_type": "code",
   "execution_count": 24,
   "id": "appropriate-jungle",
   "metadata": {},
   "outputs": [
    {
     "name": "stdout",
     "output_type": "stream",
     "text": [
      "0.30055602692594136\n",
      "CDE: 0.13681428134441376\n",
      "Replacement: 0.13584238290786743\n",
      "SMCDiff: 0.11516955494880676\n"
     ]
    }
   ],
   "source": [
    "print(np.mean(actual_samples_0))\n",
    "print(f'CDE: {torch.mean(cde_samples_0)}')\n",
    "print(f'Replacement: {torch.mean(cdiffe_samples_0)}')\n",
    "print(f'SMCDiff: {torch.mean(smcdiff_samples_0)}')"
   ]
  },
  {
   "cell_type": "code",
   "execution_count": 25,
   "id": "comfortable-monthly",
   "metadata": {},
   "outputs": [
    {
     "name": "stdout",
     "output_type": "stream",
     "text": [
      "1.1312904274811413\n",
      "CDE: 1.1440513134002686\n",
      "Replacement: 1.117356300354004\n",
      "SMCDiff: 1.1302415132522583\n"
     ]
    }
   ],
   "source": [
    "print(np.mean(actual_samples_pos))\n",
    "print(f'CDE: {torch.mean(cde_samples_pos)}')\n",
    "print(f'Replacement: {torch.mean(cdiffe_samples_pos)}')\n",
    "print(f'SMCDiff: {torch.mean(smcdiff_samples_pos)}')"
   ]
  },
  {
   "cell_type": "code",
   "execution_count": 26,
   "id": "proof-gates",
   "metadata": {},
   "outputs": [
    {
     "name": "stdout",
     "output_type": "stream",
     "text": [
      "-0.5334491534025206\n",
      "CDE: -0.8731677532196045\n",
      "Replacement: -0.8791428208351135\n",
      "SMCDiff: -0.9261038899421692\n"
     ]
    }
   ],
   "source": [
    "print(np.mean(actual_samples_neg))\n",
    "print(f'CDE: {torch.mean(cde_samples_neg)}')\n",
    "print(f'Replacement: {torch.mean(cdiffe_samples_neg)}')\n",
    "print(f'SMCDiff: {torch.mean(smcdiff_samples_neg)}')"
   ]
  },
  {
   "cell_type": "code",
   "execution_count": null,
   "id": "desperate-surname",
   "metadata": {},
   "outputs": [],
   "source": []
  },
  {
   "cell_type": "code",
   "execution_count": 27,
   "id": "greek-assembly",
   "metadata": {},
   "outputs": [
    {
     "name": "stdout",
     "output_type": "stream",
     "text": [
      "0.0009733625498200982\n",
      "CDE: -0.005513360723853111\n",
      "Replacement: 0.021041298285126686\n",
      "SMCDiff: -0.05781955271959305\n"
     ]
    }
   ],
   "source": [
    "print(np.mean(actual_samples_0_2))\n",
    "print(f'CDE: {torch.mean(cde_samples_0_2)}')\n",
    "print(f'Replacement: {torch.mean(cdiffe_samples_0_2)}')\n",
    "print(f'SMCDiff: {torch.mean(smcdiff_samples_0_2)}')"
   ]
  },
  {
   "cell_type": "code",
   "execution_count": 28,
   "id": "assisted-tutorial",
   "metadata": {},
   "outputs": [
    {
     "name": "stdout",
     "output_type": "stream",
     "text": [
      "0.8208993438761849\n",
      "CDE: 1.0116009712219238\n",
      "Replacement: 1.0033403635025024\n",
      "SMCDiff: 0.9897555112838745\n"
     ]
    }
   ],
   "source": [
    "print(np.mean(actual_samples_pos_2))\n",
    "print(f'CDE: {torch.mean(cde_samples_pos_2)}')\n",
    "print(f'Replacement: {torch.mean(cdiffe_samples_pos_2)}')\n",
    "print(f'SMCDiff: {torch.mean(smcdiff_samples_pos_2)}')"
   ]
  },
  {
   "cell_type": "code",
   "execution_count": 29,
   "id": "metric-fence",
   "metadata": {},
   "outputs": [
    {
     "name": "stdout",
     "output_type": "stream",
     "text": [
      "-0.8210903847867024\n",
      "CDE: -1.0119659900665283\n",
      "Replacement: -1.0196399688720703\n",
      "SMCDiff: -1.0604716539382935\n"
     ]
    }
   ],
   "source": [
    "print(np.mean(actual_samples_neg_2))\n",
    "print(f'CDE: {torch.mean(cde_samples_neg_2)}')\n",
    "print(f'Replacement: {torch.mean(cdiffe_samples_neg_2)}')\n",
    "print(f'SMCDiff: {torch.mean(smcdiff_samples_neg_2)}')"
   ]
  },
  {
   "cell_type": "code",
   "execution_count": null,
   "id": "environmental-affairs",
   "metadata": {},
   "outputs": [],
   "source": []
  },
  {
   "cell_type": "code",
   "execution_count": 30,
   "id": "elementary-lease",
   "metadata": {},
   "outputs": [
    {
     "name": "stdout",
     "output_type": "stream",
     "text": [
      "0.25151456338394873\n",
      "CDE: 0.7049071788787842\n",
      "Replacement: 0.72145676612854\n",
      "SMCDiff: 0.7026639580726624\n"
     ]
    }
   ],
   "source": [
    "print(np.mean(actual_samples_pos_3))\n",
    "print(f'CDE: {torch.mean(cde_samples_pos_3)}')\n",
    "print(f'Replacement: {torch.mean(cdiffe_samples_pos_3)}')\n",
    "print(f'SMCDiff: {torch.mean(smcdiff_samples_pos_3)}')"
   ]
  },
  {
   "cell_type": "code",
   "execution_count": 31,
   "id": "complete-devon",
   "metadata": {},
   "outputs": [
    {
     "name": "stdout",
     "output_type": "stream",
     "text": [
      "-0.2499632263399277\n",
      "CDE: -0.7264594435691833\n",
      "Replacement: -0.7160171270370483\n",
      "SMCDiff: -0.7309982776641846\n"
     ]
    }
   ],
   "source": [
    "print(np.mean(actual_samples_neg_3))\n",
    "print(f'CDE: {torch.mean(cde_samples_neg_3)}')\n",
    "print(f'Replacement: {torch.mean(cdiffe_samples_neg_3)}')\n",
    "print(f'SMCDiff: {torch.mean(smcdiff_samples_neg_3)}')"
   ]
  },
  {
   "cell_type": "code",
   "execution_count": null,
   "id": "national-chemistry",
   "metadata": {},
   "outputs": [],
   "source": []
  }
 ],
 "metadata": {
  "kernelspec": {
   "display_name": "Python 3",
   "language": "python",
   "name": "python3"
  },
  "language_info": {
   "codemirror_mode": {
    "name": "ipython",
    "version": 3
   },
   "file_extension": ".py",
   "mimetype": "text/x-python",
   "name": "python",
   "nbconvert_exporter": "python",
   "pygments_lexer": "ipython3",
   "version": "3.8.2"
  },
  "varInspector": {
   "cols": {
    "lenName": 16,
    "lenType": 16,
    "lenVar": 40
   },
   "kernels_config": {
    "python": {
     "delete_cmd_postfix": "",
     "delete_cmd_prefix": "del ",
     "library": "var_list.py",
     "varRefreshCmd": "print(var_dic_list())"
    },
    "r": {
     "delete_cmd_postfix": ") ",
     "delete_cmd_prefix": "rm(",
     "library": "var_list.r",
     "varRefreshCmd": "cat(var_dic_list()) "
    }
   },
   "types_to_exclude": [
    "module",
    "function",
    "builtin_function_or_method",
    "instance",
    "_Feature"
   ],
   "window_display": false
  }
 },
 "nbformat": 4,
 "nbformat_minor": 5
}
